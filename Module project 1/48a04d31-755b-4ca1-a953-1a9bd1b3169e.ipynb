{
 "cells": [
  {
   "cell_type": "markdown",
   "metadata": {},
   "source": [
    "# Анализ данных о продажах компьютерных игр"
   ]
  },
  {
   "cell_type": "markdown",
   "metadata": {},
   "source": [
    "## Введение"
   ]
  },
  {
   "cell_type": "markdown",
   "metadata": {},
   "source": [
    "Интернет магазин, специализирующийся на продаже компьютерных игр, хочет иметь возможность прогнозировать потенциально популярный продукт и планировать относительно него рекламные кампании. Для этого необходимо проанализировать данные о продажах игр, оценки пользователей и экспертов, жанры и платформы. Как итог, нужно выявить определяющие успешность игры закономерности. \n",
    "\n",
    "<b>План работы:</b>\n",
    "1. `Подготовка данных`\n",
    "2. `Исследовательский анализ данных`\n",
    "3. `Составление портрета пользователя каждого региона`\n",
    "4. `Проверка гипотез`\n",
    "\n",
    "Предоставленные данные собраны из открытых источников, \n",
    "<br>\n",
    "они актуальны на `2016` год, необходимо проанализировать их с расчётом на `2017`."
   ]
  },
  {
   "cell_type": "markdown",
   "metadata": {},
   "source": [
    "<b>Описание данных</b>\n",
    "* `Name` — название игры\n",
    "* `Platform` — платформа\n",
    "* `Year_of_Release` — год выпуска\n",
    "* `Genre` — жанр игры\n",
    "* `NA_sales` — продажи в Северной Америке (миллионы проданных копий)\n",
    "* `EU_sales` — продажи в Европе (миллионы проданных копий)\n",
    "* `JP_sales` — продажи в Японии (миллионы проданных копий)\n",
    "* `Other_sales` — продажи в других странах (миллионы проданных копий)\n",
    "* `Critic_Score` — оценка критиков (максимум 100)\n",
    "* `User_Score`— оценка пользователей (максимум 10)\n",
    "* `Rating` — рейтинг от организации ESRB (англ. Entertainment Software Rating Board). Эта ассоциация определяет рейтинг компьютерных игр и присваивает им подходящую возрастную категорию."
   ]
  },
  {
   "cell_type": "markdown",
   "metadata": {},
   "source": [
    "## Открытие файлов с данными"
   ]
  },
  {
   "cell_type": "code",
   "execution_count": 1,
   "metadata": {},
   "outputs": [],
   "source": [
    "import pandas as pd\n",
    "import numpy as np\n",
    "import matplotlib.pyplot as plt\n",
    "from scipy import stats as st"
   ]
  },
  {
   "cell_type": "code",
   "execution_count": 2,
   "metadata": {},
   "outputs": [
    {
     "name": "stdout",
     "output_type": "stream",
     "text": [
      "<class 'pandas.core.frame.DataFrame'>\n",
      "RangeIndex: 16715 entries, 0 to 16714\n",
      "Data columns (total 11 columns):\n",
      " #   Column           Non-Null Count  Dtype  \n",
      "---  ------           --------------  -----  \n",
      " 0   Name             16713 non-null  object \n",
      " 1   Platform         16715 non-null  object \n",
      " 2   Year_of_Release  16446 non-null  float64\n",
      " 3   Genre            16713 non-null  object \n",
      " 4   NA_sales         16715 non-null  float64\n",
      " 5   EU_sales         16715 non-null  float64\n",
      " 6   JP_sales         16715 non-null  float64\n",
      " 7   Other_sales      16715 non-null  float64\n",
      " 8   Critic_Score     8137 non-null   float64\n",
      " 9   User_Score       10014 non-null  object \n",
      " 10  Rating           9949 non-null   object \n",
      "dtypes: float64(6), object(5)\n",
      "memory usage: 1.4+ MB\n"
     ]
    },
    {
     "data": {
      "text/html": [
       "<div>\n",
       "<style scoped>\n",
       "    .dataframe tbody tr th:only-of-type {\n",
       "        vertical-align: middle;\n",
       "    }\n",
       "\n",
       "    .dataframe tbody tr th {\n",
       "        vertical-align: top;\n",
       "    }\n",
       "\n",
       "    .dataframe thead th {\n",
       "        text-align: right;\n",
       "    }\n",
       "</style>\n",
       "<table border=\"1\" class=\"dataframe\">\n",
       "  <thead>\n",
       "    <tr style=\"text-align: right;\">\n",
       "      <th></th>\n",
       "      <th>Name</th>\n",
       "      <th>Platform</th>\n",
       "      <th>Year_of_Release</th>\n",
       "      <th>Genre</th>\n",
       "      <th>NA_sales</th>\n",
       "      <th>EU_sales</th>\n",
       "      <th>JP_sales</th>\n",
       "      <th>Other_sales</th>\n",
       "      <th>Critic_Score</th>\n",
       "      <th>User_Score</th>\n",
       "      <th>Rating</th>\n",
       "    </tr>\n",
       "  </thead>\n",
       "  <tbody>\n",
       "    <tr>\n",
       "      <th>0</th>\n",
       "      <td>Wii Sports</td>\n",
       "      <td>Wii</td>\n",
       "      <td>2006.0</td>\n",
       "      <td>Sports</td>\n",
       "      <td>41.36</td>\n",
       "      <td>28.96</td>\n",
       "      <td>3.77</td>\n",
       "      <td>8.45</td>\n",
       "      <td>76.0</td>\n",
       "      <td>8</td>\n",
       "      <td>E</td>\n",
       "    </tr>\n",
       "    <tr>\n",
       "      <th>1</th>\n",
       "      <td>Super Mario Bros.</td>\n",
       "      <td>NES</td>\n",
       "      <td>1985.0</td>\n",
       "      <td>Platform</td>\n",
       "      <td>29.08</td>\n",
       "      <td>3.58</td>\n",
       "      <td>6.81</td>\n",
       "      <td>0.77</td>\n",
       "      <td>NaN</td>\n",
       "      <td>NaN</td>\n",
       "      <td>NaN</td>\n",
       "    </tr>\n",
       "    <tr>\n",
       "      <th>2</th>\n",
       "      <td>Mario Kart Wii</td>\n",
       "      <td>Wii</td>\n",
       "      <td>2008.0</td>\n",
       "      <td>Racing</td>\n",
       "      <td>15.68</td>\n",
       "      <td>12.76</td>\n",
       "      <td>3.79</td>\n",
       "      <td>3.29</td>\n",
       "      <td>82.0</td>\n",
       "      <td>8.3</td>\n",
       "      <td>E</td>\n",
       "    </tr>\n",
       "    <tr>\n",
       "      <th>3</th>\n",
       "      <td>Wii Sports Resort</td>\n",
       "      <td>Wii</td>\n",
       "      <td>2009.0</td>\n",
       "      <td>Sports</td>\n",
       "      <td>15.61</td>\n",
       "      <td>10.93</td>\n",
       "      <td>3.28</td>\n",
       "      <td>2.95</td>\n",
       "      <td>80.0</td>\n",
       "      <td>8</td>\n",
       "      <td>E</td>\n",
       "    </tr>\n",
       "    <tr>\n",
       "      <th>4</th>\n",
       "      <td>Pokemon Red/Pokemon Blue</td>\n",
       "      <td>GB</td>\n",
       "      <td>1996.0</td>\n",
       "      <td>Role-Playing</td>\n",
       "      <td>11.27</td>\n",
       "      <td>8.89</td>\n",
       "      <td>10.22</td>\n",
       "      <td>1.00</td>\n",
       "      <td>NaN</td>\n",
       "      <td>NaN</td>\n",
       "      <td>NaN</td>\n",
       "    </tr>\n",
       "  </tbody>\n",
       "</table>\n",
       "</div>"
      ],
      "text/plain": [
       "                       Name Platform  Year_of_Release         Genre  NA_sales  \\\n",
       "0                Wii Sports      Wii           2006.0        Sports     41.36   \n",
       "1         Super Mario Bros.      NES           1985.0      Platform     29.08   \n",
       "2            Mario Kart Wii      Wii           2008.0        Racing     15.68   \n",
       "3         Wii Sports Resort      Wii           2009.0        Sports     15.61   \n",
       "4  Pokemon Red/Pokemon Blue       GB           1996.0  Role-Playing     11.27   \n",
       "\n",
       "   EU_sales  JP_sales  Other_sales  Critic_Score User_Score Rating  \n",
       "0     28.96      3.77         8.45          76.0          8      E  \n",
       "1      3.58      6.81         0.77           NaN        NaN    NaN  \n",
       "2     12.76      3.79         3.29          82.0        8.3      E  \n",
       "3     10.93      3.28         2.95          80.0          8      E  \n",
       "4      8.89     10.22         1.00           NaN        NaN    NaN  "
      ]
     },
     "metadata": {},
     "output_type": "display_data"
    },
    {
     "data": {
      "text/plain": [
       "None"
      ]
     },
     "metadata": {},
     "output_type": "display_data"
    }
   ],
   "source": [
    "try:\n",
    "    data = pd.read_csv('games.csv')\n",
    "except:\n",
    "    data = pd.read_csv('/datasets/games.csv')\n",
    "    \n",
    "display(data.head(), data.info())"
   ]
  },
  {
   "cell_type": "markdown",
   "metadata": {},
   "source": [
    "<b>Промежуточный итог:</b>\n",
    "\n",
    "Видно, что в данных достаточно большое количество пропусков, не совсем корректно именованы столбцы и также некоторые столбцы имеют неверный тип. Всем этим займёмся на следующем этапе. "
   ]
  },
  {
   "cell_type": "markdown",
   "metadata": {},
   "source": [
    "## Подготовка данных"
   ]
  },
  {
   "cell_type": "markdown",
   "metadata": {},
   "source": [
    "Зафиксируем исходный размер датафрейма для последующей проверки. \n",
    "<br>\n",
    "После всех модификаций должно сохраниться как минимум `90%` исходных данных."
   ]
  },
  {
   "cell_type": "code",
   "execution_count": 3,
   "metadata": {},
   "outputs": [],
   "source": [
    "data_size_before_modify = data.shape[0]"
   ]
  },
  {
   "cell_type": "markdown",
   "metadata": {},
   "source": [
    "### Переименование столбцов"
   ]
  },
  {
   "cell_type": "code",
   "execution_count": 4,
   "metadata": {},
   "outputs": [
    {
     "data": {
      "text/plain": [
       "Index(['Name', 'Platform', 'Year_of_Release', 'Genre', 'NA_sales', 'EU_sales',\n",
       "       'JP_sales', 'Other_sales', 'Critic_Score', 'User_Score', 'Rating'],\n",
       "      dtype='object')"
      ]
     },
     "execution_count": 4,
     "metadata": {},
     "output_type": "execute_result"
    }
   ],
   "source": [
    "data.columns"
   ]
  },
  {
   "cell_type": "code",
   "execution_count": 5,
   "metadata": {},
   "outputs": [
    {
     "data": {
      "text/plain": [
       "Index(['name', 'platform', 'year_of_release', 'genre', 'na_sales', 'eu_sales',\n",
       "       'jp_sales', 'other_sales', 'critic_score', 'user_score', 'rating'],\n",
       "      dtype='object')"
      ]
     },
     "execution_count": 5,
     "metadata": {},
     "output_type": "execute_result"
    }
   ],
   "source": [
    "data.columns = data.columns.str.lower()\n",
    "data.columns"
   ]
  },
  {
   "cell_type": "markdown",
   "metadata": {},
   "source": [
    "### Обработка пропусков"
   ]
  },
  {
   "cell_type": "markdown",
   "metadata": {},
   "source": [
    "Для начала посмотрим, какие столбцы содержат пропуски и в каком количестве."
   ]
  },
  {
   "cell_type": "code",
   "execution_count": 6,
   "metadata": {},
   "outputs": [
    {
     "data": {
      "text/plain": [
       "name                  2\n",
       "platform              0\n",
       "year_of_release     269\n",
       "genre                 2\n",
       "na_sales              0\n",
       "eu_sales              0\n",
       "jp_sales              0\n",
       "other_sales           0\n",
       "critic_score       8578\n",
       "user_score         6701\n",
       "rating             6766\n",
       "dtype: int64"
      ]
     },
     "execution_count": 6,
     "metadata": {},
     "output_type": "execute_result"
    }
   ],
   "source": [
    "data.isna().sum()"
   ]
  },
  {
   "cell_type": "markdown",
   "metadata": {},
   "source": [
    "Разберёмся со столбцом `name`."
   ]
  },
  {
   "cell_type": "code",
   "execution_count": 7,
   "metadata": {},
   "outputs": [
    {
     "data": {
      "text/html": [
       "<div>\n",
       "<style scoped>\n",
       "    .dataframe tbody tr th:only-of-type {\n",
       "        vertical-align: middle;\n",
       "    }\n",
       "\n",
       "    .dataframe tbody tr th {\n",
       "        vertical-align: top;\n",
       "    }\n",
       "\n",
       "    .dataframe thead th {\n",
       "        text-align: right;\n",
       "    }\n",
       "</style>\n",
       "<table border=\"1\" class=\"dataframe\">\n",
       "  <thead>\n",
       "    <tr style=\"text-align: right;\">\n",
       "      <th></th>\n",
       "      <th>name</th>\n",
       "      <th>platform</th>\n",
       "      <th>year_of_release</th>\n",
       "      <th>genre</th>\n",
       "      <th>na_sales</th>\n",
       "      <th>eu_sales</th>\n",
       "      <th>jp_sales</th>\n",
       "      <th>other_sales</th>\n",
       "      <th>critic_score</th>\n",
       "      <th>user_score</th>\n",
       "      <th>rating</th>\n",
       "    </tr>\n",
       "  </thead>\n",
       "  <tbody>\n",
       "    <tr>\n",
       "      <th>659</th>\n",
       "      <td>NaN</td>\n",
       "      <td>GEN</td>\n",
       "      <td>1993.0</td>\n",
       "      <td>NaN</td>\n",
       "      <td>1.78</td>\n",
       "      <td>0.53</td>\n",
       "      <td>0.00</td>\n",
       "      <td>0.08</td>\n",
       "      <td>NaN</td>\n",
       "      <td>NaN</td>\n",
       "      <td>NaN</td>\n",
       "    </tr>\n",
       "    <tr>\n",
       "      <th>14244</th>\n",
       "      <td>NaN</td>\n",
       "      <td>GEN</td>\n",
       "      <td>1993.0</td>\n",
       "      <td>NaN</td>\n",
       "      <td>0.00</td>\n",
       "      <td>0.00</td>\n",
       "      <td>0.03</td>\n",
       "      <td>0.00</td>\n",
       "      <td>NaN</td>\n",
       "      <td>NaN</td>\n",
       "      <td>NaN</td>\n",
       "    </tr>\n",
       "  </tbody>\n",
       "</table>\n",
       "</div>"
      ],
      "text/plain": [
       "      name platform  year_of_release genre  na_sales  eu_sales  jp_sales  \\\n",
       "659    NaN      GEN           1993.0   NaN      1.78      0.53      0.00   \n",
       "14244  NaN      GEN           1993.0   NaN      0.00      0.00      0.03   \n",
       "\n",
       "       other_sales  critic_score user_score rating  \n",
       "659           0.08           NaN        NaN    NaN  \n",
       "14244         0.00           NaN        NaN    NaN  "
      ]
     },
     "execution_count": 7,
     "metadata": {},
     "output_type": "execute_result"
    }
   ],
   "source": [
    "data[data['name'].isna()]"
   ]
  },
  {
   "cell_type": "markdown",
   "metadata": {},
   "source": [
    "Нетрудно заметить, что строки, содержащие пропуски столбце `name` также содержат пропуски в столбцах `genre`. Таких строк всего две, избавимся от них без особых потерь в данных. \n",
    "<br>\n",
    "Отметим возможную причину их появления. Скорее всего, она связана с технической ошибкой, возникшей на одном из этапов создания данных, или с неполными данными в первоисточнике."
   ]
  },
  {
   "cell_type": "code",
   "execution_count": 8,
   "metadata": {},
   "outputs": [
    {
     "data": {
      "text/plain": [
       "0"
      ]
     },
     "metadata": {},
     "output_type": "display_data"
    },
    {
     "data": {
      "text/plain": [
       "0"
      ]
     },
     "metadata": {},
     "output_type": "display_data"
    }
   ],
   "source": [
    "data = data.dropna(subset=['name'])\n",
    "display(data['name'].isna().sum(), data['genre'].isna().sum())"
   ]
  },
  {
   "cell_type": "markdown",
   "metadata": {},
   "source": [
    "Также избавимся от строк, содержащих пропуски в столбце `year_of_release`. Пропуски в `year_of_release` не стоит заполнять медианным или средним, поскольку это не имеет особого смысла. Поэтому удаление является оптимальным решением, при этом мы теряем относительно небольшое количество данных."
   ]
  },
  {
   "cell_type": "code",
   "execution_count": 9,
   "metadata": {},
   "outputs": [
    {
     "data": {
      "text/plain": [
       "0"
      ]
     },
     "execution_count": 9,
     "metadata": {},
     "output_type": "execute_result"
    }
   ],
   "source": [
    "data = data.dropna(subset=['year_of_release'])\n",
    "data['year_of_release'].isna().sum()"
   ]
  },
  {
   "cell_type": "markdown",
   "metadata": {},
   "source": [
    "Избавиться от пропусков в `critic_score` путём удаления строк, содержащих их - нелучшее решение. Потеря данных будет значительной (более `6 тыс.` строк)."
   ]
  },
  {
   "cell_type": "markdown",
   "metadata": {},
   "source": [
    "Проверим, сможем ли мы получить приблизительное значение `critic_score` на основе `user_score` и `rating`."
   ]
  },
  {
   "cell_type": "code",
   "execution_count": 10,
   "metadata": {},
   "outputs": [
    {
     "data": {
      "text/plain": [
       "6534"
      ]
     },
     "execution_count": 10,
     "metadata": {},
     "output_type": "execute_result"
    }
   ],
   "source": [
    "data[(data['critic_score'].isna()) & (data['user_score'].isna()) & (data['rating'].isna())]['name'].count()"
   ]
  },
  {
   "cell_type": "markdown",
   "metadata": {},
   "source": [
    "Большее количество пропусков пересекаются, поэтому заполним пропуски медианным значением."
   ]
  },
  {
   "cell_type": "code",
   "execution_count": 11,
   "metadata": {
    "scrolled": true
   },
   "outputs": [
    {
     "data": {
      "text/plain": [
       "0"
      ]
     },
     "execution_count": 11,
     "metadata": {},
     "output_type": "execute_result"
    }
   ],
   "source": [
    "data['critic_score'] = data['critic_score'].fillna(data['critic_score'].median())\n",
    "data['critic_score'].isna().sum()"
   ]
  },
  {
   "cell_type": "markdown",
   "metadata": {},
   "source": [
    "Возможная причины появления пропусков: неполнота данных в первоисточнике."
   ]
  },
  {
   "cell_type": "markdown",
   "metadata": {},
   "source": [
    "Разберёмся с пропусками`user_score`."
   ]
  },
  {
   "cell_type": "code",
   "execution_count": 12,
   "metadata": {},
   "outputs": [
    {
     "data": {
      "text/html": [
       "<div>\n",
       "<style scoped>\n",
       "    .dataframe tbody tr th:only-of-type {\n",
       "        vertical-align: middle;\n",
       "    }\n",
       "\n",
       "    .dataframe tbody tr th {\n",
       "        vertical-align: top;\n",
       "    }\n",
       "\n",
       "    .dataframe thead th {\n",
       "        text-align: right;\n",
       "    }\n",
       "</style>\n",
       "<table border=\"1\" class=\"dataframe\">\n",
       "  <thead>\n",
       "    <tr style=\"text-align: right;\">\n",
       "      <th></th>\n",
       "      <th>critic_score</th>\n",
       "      <th>user_score</th>\n",
       "    </tr>\n",
       "  </thead>\n",
       "  <tbody>\n",
       "    <tr>\n",
       "      <th>0</th>\n",
       "      <td>76.0</td>\n",
       "      <td>8</td>\n",
       "    </tr>\n",
       "    <tr>\n",
       "      <th>2</th>\n",
       "      <td>82.0</td>\n",
       "      <td>8.3</td>\n",
       "    </tr>\n",
       "    <tr>\n",
       "      <th>3</th>\n",
       "      <td>80.0</td>\n",
       "      <td>8</td>\n",
       "    </tr>\n",
       "    <tr>\n",
       "      <th>6</th>\n",
       "      <td>89.0</td>\n",
       "      <td>8.5</td>\n",
       "    </tr>\n",
       "    <tr>\n",
       "      <th>7</th>\n",
       "      <td>58.0</td>\n",
       "      <td>6.6</td>\n",
       "    </tr>\n",
       "    <tr>\n",
       "      <th>...</th>\n",
       "      <td>...</td>\n",
       "      <td>...</td>\n",
       "    </tr>\n",
       "    <tr>\n",
       "      <th>16681</th>\n",
       "      <td>71.0</td>\n",
       "      <td>8.1</td>\n",
       "    </tr>\n",
       "    <tr>\n",
       "      <th>16692</th>\n",
       "      <td>80.0</td>\n",
       "      <td>7.6</td>\n",
       "    </tr>\n",
       "    <tr>\n",
       "      <th>16696</th>\n",
       "      <td>61.0</td>\n",
       "      <td>5.8</td>\n",
       "    </tr>\n",
       "    <tr>\n",
       "      <th>16702</th>\n",
       "      <td>60.0</td>\n",
       "      <td>7.2</td>\n",
       "    </tr>\n",
       "    <tr>\n",
       "      <th>16705</th>\n",
       "      <td>63.0</td>\n",
       "      <td>5.8</td>\n",
       "    </tr>\n",
       "  </tbody>\n",
       "</table>\n",
       "<p>7463 rows × 2 columns</p>\n",
       "</div>"
      ],
      "text/plain": [
       "       critic_score user_score\n",
       "0              76.0          8\n",
       "2              82.0        8.3\n",
       "3              80.0          8\n",
       "6              89.0        8.5\n",
       "7              58.0        6.6\n",
       "...             ...        ...\n",
       "16681          71.0        8.1\n",
       "16692          80.0        7.6\n",
       "16696          61.0        5.8\n",
       "16702          60.0        7.2\n",
       "16705          63.0        5.8\n",
       "\n",
       "[7463 rows x 2 columns]"
      ]
     },
     "execution_count": 12,
     "metadata": {},
     "output_type": "execute_result"
    }
   ],
   "source": [
    "data[(~data['user_score'].isna()) & (data['user_score'] != 'tbd')][['critic_score', 'user_score']]"
   ]
  },
  {
   "cell_type": "markdown",
   "metadata": {},
   "source": [
    "Попробуем найти приблизительный коэффицент отношения между `critic_score` и `user_score`. Для этого составим вспомогательную таблицу, содержащую строки, у которых нет пропусков в столбце `user_score`, также отбросим строки со значением `tbd`."
   ]
  },
  {
   "cell_type": "code",
   "execution_count": 13,
   "metadata": {},
   "outputs": [
    {
     "data": {
      "image/png": "[encoded data removed]",
      "text/plain": [
       "<Figure size 432x288 with 1 Axes>"
      ]
     },
     "metadata": {
      "needs_background": "light"
     },
     "output_type": "display_data"
    },
    {
     "data": {
      "text/plain": [
       "count    7463.000000\n",
       "mean        0.103226\n",
       "std         0.022882\n",
       "min         0.000000\n",
       "25%         0.092308\n",
       "50%         0.102439\n",
       "75%         0.113924\n",
       "max         0.329630\n",
       "Name: coeff, dtype: float64"
      ]
     },
     "metadata": {},
     "output_type": "display_data"
    },
    {
     "data": {
      "text/plain": [
       "0.532922622816683"
      ]
     },
     "metadata": {},
     "output_type": "display_data"
    }
   ],
   "source": [
    "valid_user_score_data = (\n",
    "    data[(data['user_score'] != 'tbd') &  ~(data['user_score'].isna())][['critic_score', 'user_score']]\n",
    ")\n",
    "valid_user_score_data['user_score'] = valid_user_score_data['user_score'].astype('float')\n",
    "valid_user_score_data['coeff'] = valid_user_score_data['user_score'] / valid_user_score_data['critic_score']\n",
    "\n",
    "valid_user_score_data['coeff'].hist(bins=30)\n",
    "plt.show()\n",
    "\n",
    "display(\n",
    "    valid_user_score_data['coeff'].describe(), \n",
    "    valid_user_score_data['user_score'].corr(valid_user_score_data['critic_score'])\n",
    ")"
   ]
  },
  {
   "cell_type": "markdown",
   "metadata": {},
   "source": [
    "Большая часть значений в столбце `coeff` лежит в промежуткуе от `0.092308` до `0.113924`. Коэффицент корреляции приблизительно равен `0.53`, значит между `user_score` и `critic_score` средняя связь. Заполним пропуски в `user_score` соответствующими значениями `critic_score`, умноженными на медианное значение столбца `coeff`."
   ]
  },
  {
   "cell_type": "code",
   "execution_count": 14,
   "metadata": {},
   "outputs": [
    {
     "data": {
      "text/plain": [
       "0"
      ]
     },
     "execution_count": 14,
     "metadata": {},
     "output_type": "execute_result"
    }
   ],
   "source": [
    "data.loc[data['user_score'].isna(), 'user_score'] = (\n",
    "    data['critic_score'] * valid_user_score_data['coeff'].median()\n",
    ")\n",
    "data['user_score'].isna().sum()"
   ]
  },
  {
   "cell_type": "markdown",
   "metadata": {},
   "source": [
    "Разберёмся со значениями `tbd` в столбце `user_score`. Скорее всего, `tbd` расшифровывается, как `to be determined`, то есть значение на момент сбора данных еще не было определено."
   ]
  },
  {
   "cell_type": "markdown",
   "metadata": {},
   "source": [
    "Заменим эти значения на пропуски."
   ]
  },
  {
   "cell_type": "code",
   "execution_count": 15,
   "metadata": {},
   "outputs": [
    {
     "name": "stdout",
     "output_type": "stream",
     "text": [
      "Значений tbd до заполнения: 2376.\n",
      "Пропусков в user_score до заполнения: 0.\n",
      "Значений tbd после заполнения: 0.\n",
      "Пропусков в user_score после заполнения: 2376.\n"
     ]
    }
   ],
   "source": [
    "print(f'Значений tbd до заполнения: {data[data[\"user_score\"] == \"tbd\"].shape[0]}.')\n",
    "print(f'Пропусков в user_score до заполнения: {data[\"user_score\"].isna().sum()}.')\n",
    "\n",
    "data.loc[data['user_score'] == 'tbd', 'user_score'] = np.nan\n",
    "\n",
    "print(f'Значений tbd после заполнения: {data[data[\"user_score\"] == \"tbd\"].shape[0]}.')\n",
    "print(f'Пропусков в user_score после заполнения: {data[\"user_score\"].isna().sum()}.')"
   ]
  },
  {
   "cell_type": "code",
   "execution_count": 16,
   "metadata": {},
   "outputs": [
    {
     "data": {
      "text/plain": [
       "E       3921\n",
       "T       2905\n",
       "M       1536\n",
       "E10+    1393\n",
       "EC         8\n",
       "K-A        3\n",
       "AO         1\n",
       "RP         1\n",
       "Name: rating, dtype: int64"
      ]
     },
     "execution_count": 16,
     "metadata": {},
     "output_type": "execute_result"
    }
   ],
   "source": [
    "data['rating'].value_counts()"
   ]
  },
  {
   "cell_type": "markdown",
   "metadata": {},
   "source": [
    "Пропуски в `rating` оставим. Для удобства заполним их значением `undefined`. Скорее всего они появились, по причине того, что ассоциация ESRB не присвоила этим играм подходящие категории."
   ]
  },
  {
   "cell_type": "code",
   "execution_count": 17,
   "metadata": {},
   "outputs": [
    {
     "data": {
      "text/plain": [
       "0"
      ]
     },
     "execution_count": 17,
     "metadata": {},
     "output_type": "execute_result"
    }
   ],
   "source": [
    "data['rating'] = data['rating'].fillna('undefined')\n",
    "data['rating'].isna().sum()"
   ]
  },
  {
   "cell_type": "code",
   "execution_count": 18,
   "metadata": {},
   "outputs": [
    {
     "data": {
      "text/plain": [
       "name                  0\n",
       "platform              0\n",
       "year_of_release       0\n",
       "genre                 0\n",
       "na_sales              0\n",
       "eu_sales              0\n",
       "jp_sales              0\n",
       "other_sales           0\n",
       "critic_score          0\n",
       "user_score         2376\n",
       "rating                0\n",
       "dtype: int64"
      ]
     },
     "execution_count": 18,
     "metadata": {},
     "output_type": "execute_result"
    }
   ],
   "source": [
    "data.isna().sum()"
   ]
  },
  {
   "cell_type": "markdown",
   "metadata": {},
   "source": [
    "Все пропуски, которые есть, мы специально создали при работе со значениями `tbd`."
   ]
  },
  {
   "cell_type": "markdown",
   "metadata": {},
   "source": [
    "### Изменение типов"
   ]
  },
  {
   "cell_type": "code",
   "execution_count": 19,
   "metadata": {
    "scrolled": false
   },
   "outputs": [
    {
     "data": {
      "text/html": [
       "<div>\n",
       "<style scoped>\n",
       "    .dataframe tbody tr th:only-of-type {\n",
       "        vertical-align: middle;\n",
       "    }\n",
       "\n",
       "    .dataframe tbody tr th {\n",
       "        vertical-align: top;\n",
       "    }\n",
       "\n",
       "    .dataframe thead th {\n",
       "        text-align: right;\n",
       "    }\n",
       "</style>\n",
       "<table border=\"1\" class=\"dataframe\">\n",
       "  <thead>\n",
       "    <tr style=\"text-align: right;\">\n",
       "      <th></th>\n",
       "      <th>name</th>\n",
       "      <th>platform</th>\n",
       "      <th>year_of_release</th>\n",
       "      <th>genre</th>\n",
       "      <th>na_sales</th>\n",
       "      <th>eu_sales</th>\n",
       "      <th>jp_sales</th>\n",
       "      <th>other_sales</th>\n",
       "      <th>critic_score</th>\n",
       "      <th>user_score</th>\n",
       "      <th>rating</th>\n",
       "    </tr>\n",
       "  </thead>\n",
       "  <tbody>\n",
       "    <tr>\n",
       "      <th>0</th>\n",
       "      <td>Wii Sports</td>\n",
       "      <td>Wii</td>\n",
       "      <td>2006.0</td>\n",
       "      <td>Sports</td>\n",
       "      <td>41.36</td>\n",
       "      <td>28.96</td>\n",
       "      <td>3.77</td>\n",
       "      <td>8.45</td>\n",
       "      <td>76.0</td>\n",
       "      <td>8</td>\n",
       "      <td>E</td>\n",
       "    </tr>\n",
       "    <tr>\n",
       "      <th>1</th>\n",
       "      <td>Super Mario Bros.</td>\n",
       "      <td>NES</td>\n",
       "      <td>1985.0</td>\n",
       "      <td>Platform</td>\n",
       "      <td>29.08</td>\n",
       "      <td>3.58</td>\n",
       "      <td>6.81</td>\n",
       "      <td>0.77</td>\n",
       "      <td>71.0</td>\n",
       "      <td>7.273171</td>\n",
       "      <td>undefined</td>\n",
       "    </tr>\n",
       "    <tr>\n",
       "      <th>2</th>\n",
       "      <td>Mario Kart Wii</td>\n",
       "      <td>Wii</td>\n",
       "      <td>2008.0</td>\n",
       "      <td>Racing</td>\n",
       "      <td>15.68</td>\n",
       "      <td>12.76</td>\n",
       "      <td>3.79</td>\n",
       "      <td>3.29</td>\n",
       "      <td>82.0</td>\n",
       "      <td>8.3</td>\n",
       "      <td>E</td>\n",
       "    </tr>\n",
       "    <tr>\n",
       "      <th>3</th>\n",
       "      <td>Wii Sports Resort</td>\n",
       "      <td>Wii</td>\n",
       "      <td>2009.0</td>\n",
       "      <td>Sports</td>\n",
       "      <td>15.61</td>\n",
       "      <td>10.93</td>\n",
       "      <td>3.28</td>\n",
       "      <td>2.95</td>\n",
       "      <td>80.0</td>\n",
       "      <td>8</td>\n",
       "      <td>E</td>\n",
       "    </tr>\n",
       "    <tr>\n",
       "      <th>4</th>\n",
       "      <td>Pokemon Red/Pokemon Blue</td>\n",
       "      <td>GB</td>\n",
       "      <td>1996.0</td>\n",
       "      <td>Role-Playing</td>\n",
       "      <td>11.27</td>\n",
       "      <td>8.89</td>\n",
       "      <td>10.22</td>\n",
       "      <td>1.00</td>\n",
       "      <td>71.0</td>\n",
       "      <td>7.273171</td>\n",
       "      <td>undefined</td>\n",
       "    </tr>\n",
       "  </tbody>\n",
       "</table>\n",
       "</div>"
      ],
      "text/plain": [
       "                       name platform  year_of_release         genre  na_sales  \\\n",
       "0                Wii Sports      Wii           2006.0        Sports     41.36   \n",
       "1         Super Mario Bros.      NES           1985.0      Platform     29.08   \n",
       "2            Mario Kart Wii      Wii           2008.0        Racing     15.68   \n",
       "3         Wii Sports Resort      Wii           2009.0        Sports     15.61   \n",
       "4  Pokemon Red/Pokemon Blue       GB           1996.0  Role-Playing     11.27   \n",
       "\n",
       "   eu_sales  jp_sales  other_sales  critic_score user_score     rating  \n",
       "0     28.96      3.77         8.45          76.0          8          E  \n",
       "1      3.58      6.81         0.77          71.0   7.273171  undefined  \n",
       "2     12.76      3.79         3.29          82.0        8.3          E  \n",
       "3     10.93      3.28         2.95          80.0          8          E  \n",
       "4      8.89     10.22         1.00          71.0   7.273171  undefined  "
      ]
     },
     "metadata": {},
     "output_type": "display_data"
    },
    {
     "data": {
      "text/plain": [
       "name                object\n",
       "platform            object\n",
       "year_of_release    float64\n",
       "genre               object\n",
       "na_sales           float64\n",
       "eu_sales           float64\n",
       "jp_sales           float64\n",
       "other_sales        float64\n",
       "critic_score       float64\n",
       "user_score          object\n",
       "rating              object\n",
       "dtype: object"
      ]
     },
     "metadata": {},
     "output_type": "display_data"
    }
   ],
   "source": [
    "display(data.head(), data.dtypes)"
   ]
  },
  {
   "cell_type": "markdown",
   "metadata": {},
   "source": [
    "Приведём столбцы `year_of_release` и `critic_score` к типу `int`, а столбец `user_score` к типу `float`."
   ]
  },
  {
   "cell_type": "code",
   "execution_count": 20,
   "metadata": {},
   "outputs": [
    {
     "data": {
      "text/plain": [
       "name                object\n",
       "platform            object\n",
       "year_of_release      int64\n",
       "genre               object\n",
       "na_sales           float64\n",
       "eu_sales           float64\n",
       "jp_sales           float64\n",
       "other_sales        float64\n",
       "critic_score         int64\n",
       "user_score         float64\n",
       "rating              object\n",
       "dtype: object"
      ]
     },
     "execution_count": 20,
     "metadata": {},
     "output_type": "execute_result"
    }
   ],
   "source": [
    "data['year_of_release'] = data['year_of_release'].astype('int')\n",
    "data['critic_score'] = data['critic_score'].astype('int')\n",
    "data['user_score'] = data['user_score'].astype('float')\n",
    "data.dtypes"
   ]
  },
  {
   "cell_type": "markdown",
   "metadata": {},
   "source": [
    "Добавим в таблицу столбец `total_sales`, содержащий сумму продаж по всем регионам для каждой игры."
   ]
  },
  {
   "cell_type": "code",
   "execution_count": 21,
   "metadata": {},
   "outputs": [
    {
     "data": {
      "text/html": [
       "<div>\n",
       "<style scoped>\n",
       "    .dataframe tbody tr th:only-of-type {\n",
       "        vertical-align: middle;\n",
       "    }\n",
       "\n",
       "    .dataframe tbody tr th {\n",
       "        vertical-align: top;\n",
       "    }\n",
       "\n",
       "    .dataframe thead th {\n",
       "        text-align: right;\n",
       "    }\n",
       "</style>\n",
       "<table border=\"1\" class=\"dataframe\">\n",
       "  <thead>\n",
       "    <tr style=\"text-align: right;\">\n",
       "      <th></th>\n",
       "      <th>name</th>\n",
       "      <th>platform</th>\n",
       "      <th>year_of_release</th>\n",
       "      <th>genre</th>\n",
       "      <th>na_sales</th>\n",
       "      <th>eu_sales</th>\n",
       "      <th>jp_sales</th>\n",
       "      <th>other_sales</th>\n",
       "      <th>critic_score</th>\n",
       "      <th>user_score</th>\n",
       "      <th>rating</th>\n",
       "      <th>total_sales</th>\n",
       "    </tr>\n",
       "  </thead>\n",
       "  <tbody>\n",
       "    <tr>\n",
       "      <th>0</th>\n",
       "      <td>Wii Sports</td>\n",
       "      <td>Wii</td>\n",
       "      <td>2006</td>\n",
       "      <td>Sports</td>\n",
       "      <td>41.36</td>\n",
       "      <td>28.96</td>\n",
       "      <td>3.77</td>\n",
       "      <td>8.45</td>\n",
       "      <td>76</td>\n",
       "      <td>8.000000</td>\n",
       "      <td>E</td>\n",
       "      <td>82.54</td>\n",
       "    </tr>\n",
       "    <tr>\n",
       "      <th>1</th>\n",
       "      <td>Super Mario Bros.</td>\n",
       "      <td>NES</td>\n",
       "      <td>1985</td>\n",
       "      <td>Platform</td>\n",
       "      <td>29.08</td>\n",
       "      <td>3.58</td>\n",
       "      <td>6.81</td>\n",
       "      <td>0.77</td>\n",
       "      <td>71</td>\n",
       "      <td>7.273171</td>\n",
       "      <td>undefined</td>\n",
       "      <td>40.24</td>\n",
       "    </tr>\n",
       "    <tr>\n",
       "      <th>2</th>\n",
       "      <td>Mario Kart Wii</td>\n",
       "      <td>Wii</td>\n",
       "      <td>2008</td>\n",
       "      <td>Racing</td>\n",
       "      <td>15.68</td>\n",
       "      <td>12.76</td>\n",
       "      <td>3.79</td>\n",
       "      <td>3.29</td>\n",
       "      <td>82</td>\n",
       "      <td>8.300000</td>\n",
       "      <td>E</td>\n",
       "      <td>35.52</td>\n",
       "    </tr>\n",
       "    <tr>\n",
       "      <th>3</th>\n",
       "      <td>Wii Sports Resort</td>\n",
       "      <td>Wii</td>\n",
       "      <td>2009</td>\n",
       "      <td>Sports</td>\n",
       "      <td>15.61</td>\n",
       "      <td>10.93</td>\n",
       "      <td>3.28</td>\n",
       "      <td>2.95</td>\n",
       "      <td>80</td>\n",
       "      <td>8.000000</td>\n",
       "      <td>E</td>\n",
       "      <td>32.77</td>\n",
       "    </tr>\n",
       "    <tr>\n",
       "      <th>4</th>\n",
       "      <td>Pokemon Red/Pokemon Blue</td>\n",
       "      <td>GB</td>\n",
       "      <td>1996</td>\n",
       "      <td>Role-Playing</td>\n",
       "      <td>11.27</td>\n",
       "      <td>8.89</td>\n",
       "      <td>10.22</td>\n",
       "      <td>1.00</td>\n",
       "      <td>71</td>\n",
       "      <td>7.273171</td>\n",
       "      <td>undefined</td>\n",
       "      <td>31.38</td>\n",
       "    </tr>\n",
       "  </tbody>\n",
       "</table>\n",
       "</div>"
      ],
      "text/plain": [
       "                       name platform  year_of_release         genre  na_sales  \\\n",
       "0                Wii Sports      Wii             2006        Sports     41.36   \n",
       "1         Super Mario Bros.      NES             1985      Platform     29.08   \n",
       "2            Mario Kart Wii      Wii             2008        Racing     15.68   \n",
       "3         Wii Sports Resort      Wii             2009        Sports     15.61   \n",
       "4  Pokemon Red/Pokemon Blue       GB             1996  Role-Playing     11.27   \n",
       "\n",
       "   eu_sales  jp_sales  other_sales  critic_score  user_score     rating  \\\n",
       "0     28.96      3.77         8.45            76    8.000000          E   \n",
       "1      3.58      6.81         0.77            71    7.273171  undefined   \n",
       "2     12.76      3.79         3.29            82    8.300000          E   \n",
       "3     10.93      3.28         2.95            80    8.000000          E   \n",
       "4      8.89     10.22         1.00            71    7.273171  undefined   \n",
       "\n",
       "   total_sales  \n",
       "0        82.54  \n",
       "1        40.24  \n",
       "2        35.52  \n",
       "3        32.77  \n",
       "4        31.38  "
      ]
     },
     "execution_count": 21,
     "metadata": {},
     "output_type": "execute_result"
    }
   ],
   "source": [
    "data['total_sales'] = data[['na_sales', 'eu_sales', 'jp_sales', 'other_sales']].sum(axis=1)\n",
    "data.head()"
   ]
  },
  {
   "cell_type": "markdown",
   "metadata": {},
   "source": [
    "### Обработка дубликатов"
   ]
  },
  {
   "cell_type": "code",
   "execution_count": 22,
   "metadata": {},
   "outputs": [
    {
     "data": {
      "text/plain": [
       "0"
      ]
     },
     "execution_count": 22,
     "metadata": {},
     "output_type": "execute_result"
    }
   ],
   "source": [
    "data.duplicated().sum()"
   ]
  },
  {
   "cell_type": "markdown",
   "metadata": {},
   "source": [
    "Явные дубликаты отсутствуют."
   ]
  },
  {
   "cell_type": "code",
   "execution_count": 23,
   "metadata": {},
   "outputs": [
    {
     "name": "stdout",
     "output_type": "stream",
     "text": [
      "Текущий размер датафрейма составляет 98.38% от исходного.\n"
     ]
    }
   ],
   "source": [
    "print(f'Текущий размер датафрейма составляет {data.shape[0] / data_size_before_modify:.2%} от исходного.')"
   ]
  },
  {
   "cell_type": "markdown",
   "metadata": {},
   "source": [
    "<b>Промежуточный итог:</b> \n",
    "\n",
    "Мы привели названия столбцов к нижнему регистру, удалили строки с пропусками в `name`, `genre` и `year_of_release`, заполнили пропуски в `critic_score` медианным значением и пропуски в `user_score` на основании `critic_score`. Также убедились в отсутствии явных дубликатов и заполнили значения `tbd` пропусками."
   ]
  },
  {
   "cell_type": "markdown",
   "metadata": {},
   "source": [
    "## Исследовательский анализ данных"
   ]
  },
  {
   "cell_type": "markdown",
   "metadata": {},
   "source": [
    "Рассмотрим количество выпущенных игр за каждый год. Отметим, что, скорее всего, для нашей задачи не важны сведения за все года, поскольку тенденции периодически меняются, и некоторые данные со временем теряют свою актуальность."
   ]
  },
  {
   "cell_type": "code",
   "execution_count": 24,
   "metadata": {},
   "outputs": [
    {
     "data": {
      "image/png": "[encoded data removed]",
      "text/plain": [
       "<Figure size 720x360 with 1 Axes>"
      ]
     },
     "metadata": {
      "needs_background": "light"
     },
     "output_type": "display_data"
    }
   ],
   "source": [
    "(data.groupby('year_of_release')['name'].count()\n",
    "    .plot.bar(figsize=(10,5), xlabel='Год', ylabel='Количество выпущенных игр'))\n",
    "plt.title('Количество выпущенных игр в каждый год')\n",
    "plt.show()"
   ]
  },
  {
   "cell_type": "markdown",
   "metadata": {},
   "source": [
    "Наибольшее количество игр вышло в промежуток от `2005` до `2011` года, наименьшее от `1980` до `1992` года."
   ]
  },
  {
   "cell_type": "markdown",
   "metadata": {},
   "source": [
    "Теперь найдём `5` платформ с наибольшим числом продаж и для каждой из них построим график изменения продаж в зависимости от года."
   ]
  },
  {
   "cell_type": "code",
   "execution_count": 25,
   "metadata": {},
   "outputs": [
    {
     "data": {
      "text/html": [
       "<div>\n",
       "<style scoped>\n",
       "    .dataframe tbody tr th:only-of-type {\n",
       "        vertical-align: middle;\n",
       "    }\n",
       "\n",
       "    .dataframe tbody tr th {\n",
       "        vertical-align: top;\n",
       "    }\n",
       "\n",
       "    .dataframe thead th {\n",
       "        text-align: right;\n",
       "    }\n",
       "</style>\n",
       "<table border=\"1\" class=\"dataframe\">\n",
       "  <thead>\n",
       "    <tr style=\"text-align: right;\">\n",
       "      <th></th>\n",
       "      <th>platform</th>\n",
       "      <th>total_sales</th>\n",
       "    </tr>\n",
       "  </thead>\n",
       "  <tbody>\n",
       "    <tr>\n",
       "      <th>0</th>\n",
       "      <td>DS</td>\n",
       "      <td>802.78</td>\n",
       "    </tr>\n",
       "    <tr>\n",
       "      <th>1</th>\n",
       "      <td>Wii</td>\n",
       "      <td>891.18</td>\n",
       "    </tr>\n",
       "    <tr>\n",
       "      <th>2</th>\n",
       "      <td>PS3</td>\n",
       "      <td>931.34</td>\n",
       "    </tr>\n",
       "    <tr>\n",
       "      <th>3</th>\n",
       "      <td>X360</td>\n",
       "      <td>961.24</td>\n",
       "    </tr>\n",
       "    <tr>\n",
       "      <th>4</th>\n",
       "      <td>PS2</td>\n",
       "      <td>1233.56</td>\n",
       "    </tr>\n",
       "  </tbody>\n",
       "</table>\n",
       "</div>"
      ],
      "text/plain": [
       "  platform  total_sales\n",
       "0       DS       802.78\n",
       "1      Wii       891.18\n",
       "2      PS3       931.34\n",
       "3     X360       961.24\n",
       "4      PS2      1233.56"
      ]
     },
     "execution_count": 25,
     "metadata": {},
     "output_type": "execute_result"
    }
   ],
   "source": [
    "high_sales_platforms = data.groupby('platform')['total_sales'].sum().sort_values().tail(5).reset_index()\n",
    "high_sales_platforms"
   ]
  },
  {
   "cell_type": "markdown",
   "metadata": {},
   "source": [
    "Получаем, что наибольшим числом продаж обладают игры для следующих платформ: `DS`, `Wii`, `PS3`, `X360`, `PS2`. Теперь построим для них графики зависимости продаж от года и заодно определим приблизительный период актуальности платформы."
   ]
  },
  {
   "cell_type": "code",
   "execution_count": 26,
   "metadata": {
    "scrolled": false
   },
   "outputs": [
    {
     "data": {
      "image/png": "[encoded data removed]",
      "text/plain": [
       "<Figure size 864x504 with 1 Axes>"
      ]
     },
     "metadata": {
      "needs_background": "light"
     },
     "output_type": "display_data"
    }
   ],
   "source": [
    "plt.figure(figsize=(12,7))\n",
    "for platform in high_sales_platforms['platform']:\n",
    "    plt.plot(\n",
    "            data[data['platform'] == platform]['year_of_release'].sort_values().unique(), \n",
    "            data[data['platform'] == platform].groupby('year_of_release')['total_sales'].sum(),\n",
    "            alpha=.55,\n",
    "            label=platform,\n",
    "            lw=1.8\n",
    "    )\n",
    "plt.title('Количество проданных игр для 5 платформ с наивысшими продажами в зависимости от года')\n",
    "plt.xlabel('Год')\n",
    "plt.ylabel('Количество проданных игр')\n",
    "plt.legend()\n",
    "plt.show()"
   ]
  },
  {
   "cell_type": "markdown",
   "metadata": {},
   "source": [
    "Найдём приблизительное время \"жизни\" платформы. То есть за этот срок появляются новые и, возможно, полностью теряют актуальность старые платформы"
   ]
  },
  {
   "cell_type": "code",
   "execution_count": 27,
   "metadata": {},
   "outputs": [
    {
     "name": "stdout",
     "output_type": "stream",
     "text": [
      "Приблизительное время жизни платформы составляет 6.0 лет.\n"
     ]
    }
   ],
   "source": [
    "platforms_periods = data.groupby('platform').agg({'year_of_release': ['min', 'max']})\n",
    "platforms_periods.columns = ['min', 'max']\n",
    "print(f'Приблизительное время жизни платформы составляет {(platforms_periods[\"max\"] - platforms_periods[\"min\"]).median()} лет.')"
   ]
  },
  {
   "cell_type": "markdown",
   "metadata": {},
   "source": [
    "Будем считать данные актуальными, если они содержат сведения за последние три года. В дальнейшем в работе будем использовать только актуальные данные, а остальные будем считать неактуальными в контексте нашей задачи.\n",
    "\n",
    "Посчитаем граничное значение."
   ]
  },
  {
   "cell_type": "code",
   "execution_count": 28,
   "metadata": {},
   "outputs": [
    {
     "data": {
      "text/html": [
       "<div>\n",
       "<style scoped>\n",
       "    .dataframe tbody tr th:only-of-type {\n",
       "        vertical-align: middle;\n",
       "    }\n",
       "\n",
       "    .dataframe tbody tr th {\n",
       "        vertical-align: top;\n",
       "    }\n",
       "\n",
       "    .dataframe thead th {\n",
       "        text-align: right;\n",
       "    }\n",
       "</style>\n",
       "<table border=\"1\" class=\"dataframe\">\n",
       "  <thead>\n",
       "    <tr style=\"text-align: right;\">\n",
       "      <th></th>\n",
       "      <th>name</th>\n",
       "      <th>platform</th>\n",
       "      <th>year_of_release</th>\n",
       "      <th>genre</th>\n",
       "      <th>na_sales</th>\n",
       "      <th>eu_sales</th>\n",
       "      <th>jp_sales</th>\n",
       "      <th>other_sales</th>\n",
       "      <th>critic_score</th>\n",
       "      <th>user_score</th>\n",
       "      <th>rating</th>\n",
       "      <th>total_sales</th>\n",
       "    </tr>\n",
       "  </thead>\n",
       "  <tbody>\n",
       "    <tr>\n",
       "      <th>31</th>\n",
       "      <td>Call of Duty: Black Ops 3</td>\n",
       "      <td>PS4</td>\n",
       "      <td>2015</td>\n",
       "      <td>Shooter</td>\n",
       "      <td>6.03</td>\n",
       "      <td>5.86</td>\n",
       "      <td>0.36</td>\n",
       "      <td>2.38</td>\n",
       "      <td>71</td>\n",
       "      <td>7.273171</td>\n",
       "      <td>undefined</td>\n",
       "      <td>14.63</td>\n",
       "    </tr>\n",
       "    <tr>\n",
       "      <th>42</th>\n",
       "      <td>Grand Theft Auto V</td>\n",
       "      <td>PS4</td>\n",
       "      <td>2014</td>\n",
       "      <td>Action</td>\n",
       "      <td>3.96</td>\n",
       "      <td>6.31</td>\n",
       "      <td>0.38</td>\n",
       "      <td>1.97</td>\n",
       "      <td>97</td>\n",
       "      <td>8.300000</td>\n",
       "      <td>M</td>\n",
       "      <td>12.62</td>\n",
       "    </tr>\n",
       "    <tr>\n",
       "      <th>47</th>\n",
       "      <td>Pokemon Omega Ruby/Pokemon Alpha Sapphire</td>\n",
       "      <td>3DS</td>\n",
       "      <td>2014</td>\n",
       "      <td>Role-Playing</td>\n",
       "      <td>4.35</td>\n",
       "      <td>3.49</td>\n",
       "      <td>3.10</td>\n",
       "      <td>0.74</td>\n",
       "      <td>71</td>\n",
       "      <td>7.273171</td>\n",
       "      <td>undefined</td>\n",
       "      <td>11.68</td>\n",
       "    </tr>\n",
       "    <tr>\n",
       "      <th>77</th>\n",
       "      <td>FIFA 16</td>\n",
       "      <td>PS4</td>\n",
       "      <td>2015</td>\n",
       "      <td>Sports</td>\n",
       "      <td>1.12</td>\n",
       "      <td>6.12</td>\n",
       "      <td>0.06</td>\n",
       "      <td>1.28</td>\n",
       "      <td>82</td>\n",
       "      <td>4.300000</td>\n",
       "      <td>E</td>\n",
       "      <td>8.58</td>\n",
       "    </tr>\n",
       "    <tr>\n",
       "      <th>87</th>\n",
       "      <td>Star Wars Battlefront (2015)</td>\n",
       "      <td>PS4</td>\n",
       "      <td>2015</td>\n",
       "      <td>Shooter</td>\n",
       "      <td>2.99</td>\n",
       "      <td>3.49</td>\n",
       "      <td>0.22</td>\n",
       "      <td>1.28</td>\n",
       "      <td>71</td>\n",
       "      <td>7.273171</td>\n",
       "      <td>undefined</td>\n",
       "      <td>7.98</td>\n",
       "    </tr>\n",
       "    <tr>\n",
       "      <th>...</th>\n",
       "      <td>...</td>\n",
       "      <td>...</td>\n",
       "      <td>...</td>\n",
       "      <td>...</td>\n",
       "      <td>...</td>\n",
       "      <td>...</td>\n",
       "      <td>...</td>\n",
       "      <td>...</td>\n",
       "      <td>...</td>\n",
       "      <td>...</td>\n",
       "      <td>...</td>\n",
       "      <td>...</td>\n",
       "    </tr>\n",
       "    <tr>\n",
       "      <th>16703</th>\n",
       "      <td>Strawberry Nauts</td>\n",
       "      <td>PSV</td>\n",
       "      <td>2016</td>\n",
       "      <td>Adventure</td>\n",
       "      <td>0.00</td>\n",
       "      <td>0.00</td>\n",
       "      <td>0.01</td>\n",
       "      <td>0.00</td>\n",
       "      <td>71</td>\n",
       "      <td>7.273171</td>\n",
       "      <td>undefined</td>\n",
       "      <td>0.01</td>\n",
       "    </tr>\n",
       "    <tr>\n",
       "      <th>16707</th>\n",
       "      <td>Aiyoku no Eustia</td>\n",
       "      <td>PSV</td>\n",
       "      <td>2014</td>\n",
       "      <td>Misc</td>\n",
       "      <td>0.00</td>\n",
       "      <td>0.00</td>\n",
       "      <td>0.01</td>\n",
       "      <td>0.00</td>\n",
       "      <td>71</td>\n",
       "      <td>7.273171</td>\n",
       "      <td>undefined</td>\n",
       "      <td>0.01</td>\n",
       "    </tr>\n",
       "    <tr>\n",
       "      <th>16710</th>\n",
       "      <td>Samurai Warriors: Sanada Maru</td>\n",
       "      <td>PS3</td>\n",
       "      <td>2016</td>\n",
       "      <td>Action</td>\n",
       "      <td>0.00</td>\n",
       "      <td>0.00</td>\n",
       "      <td>0.01</td>\n",
       "      <td>0.00</td>\n",
       "      <td>71</td>\n",
       "      <td>7.273171</td>\n",
       "      <td>undefined</td>\n",
       "      <td>0.01</td>\n",
       "    </tr>\n",
       "    <tr>\n",
       "      <th>16712</th>\n",
       "      <td>Haitaka no Psychedelica</td>\n",
       "      <td>PSV</td>\n",
       "      <td>2016</td>\n",
       "      <td>Adventure</td>\n",
       "      <td>0.00</td>\n",
       "      <td>0.00</td>\n",
       "      <td>0.01</td>\n",
       "      <td>0.00</td>\n",
       "      <td>71</td>\n",
       "      <td>7.273171</td>\n",
       "      <td>undefined</td>\n",
       "      <td>0.01</td>\n",
       "    </tr>\n",
       "    <tr>\n",
       "      <th>16714</th>\n",
       "      <td>Winning Post 8 2016</td>\n",
       "      <td>PSV</td>\n",
       "      <td>2016</td>\n",
       "      <td>Simulation</td>\n",
       "      <td>0.00</td>\n",
       "      <td>0.00</td>\n",
       "      <td>0.01</td>\n",
       "      <td>0.00</td>\n",
       "      <td>71</td>\n",
       "      <td>7.273171</td>\n",
       "      <td>undefined</td>\n",
       "      <td>0.01</td>\n",
       "    </tr>\n",
       "  </tbody>\n",
       "</table>\n",
       "<p>1689 rows × 12 columns</p>\n",
       "</div>"
      ],
      "text/plain": [
       "                                            name platform  year_of_release  \\\n",
       "31                     Call of Duty: Black Ops 3      PS4             2015   \n",
       "42                            Grand Theft Auto V      PS4             2014   \n",
       "47     Pokemon Omega Ruby/Pokemon Alpha Sapphire      3DS             2014   \n",
       "77                                       FIFA 16      PS4             2015   \n",
       "87                  Star Wars Battlefront (2015)      PS4             2015   \n",
       "...                                          ...      ...              ...   \n",
       "16703                           Strawberry Nauts      PSV             2016   \n",
       "16707                           Aiyoku no Eustia      PSV             2014   \n",
       "16710              Samurai Warriors: Sanada Maru      PS3             2016   \n",
       "16712                    Haitaka no Psychedelica      PSV             2016   \n",
       "16714                        Winning Post 8 2016      PSV             2016   \n",
       "\n",
       "              genre  na_sales  eu_sales  jp_sales  other_sales  critic_score  \\\n",
       "31          Shooter      6.03      5.86      0.36         2.38            71   \n",
       "42           Action      3.96      6.31      0.38         1.97            97   \n",
       "47     Role-Playing      4.35      3.49      3.10         0.74            71   \n",
       "77           Sports      1.12      6.12      0.06         1.28            82   \n",
       "87          Shooter      2.99      3.49      0.22         1.28            71   \n",
       "...             ...       ...       ...       ...          ...           ...   \n",
       "16703     Adventure      0.00      0.00      0.01         0.00            71   \n",
       "16707          Misc      0.00      0.00      0.01         0.00            71   \n",
       "16710        Action      0.00      0.00      0.01         0.00            71   \n",
       "16712     Adventure      0.00      0.00      0.01         0.00            71   \n",
       "16714    Simulation      0.00      0.00      0.01         0.00            71   \n",
       "\n",
       "       user_score     rating  total_sales  \n",
       "31       7.273171  undefined        14.63  \n",
       "42       8.300000          M        12.62  \n",
       "47       7.273171  undefined        11.68  \n",
       "77       4.300000          E         8.58  \n",
       "87       7.273171  undefined         7.98  \n",
       "...           ...        ...          ...  \n",
       "16703    7.273171  undefined         0.01  \n",
       "16707    7.273171  undefined         0.01  \n",
       "16710    7.273171  undefined         0.01  \n",
       "16712    7.273171  undefined         0.01  \n",
       "16714    7.273171  undefined         0.01  \n",
       "\n",
       "[1689 rows x 12 columns]"
      ]
     },
     "execution_count": 28,
     "metadata": {},
     "output_type": "execute_result"
    }
   ],
   "source": [
    "actual_data = data[data['year_of_release'] >= 2014]\n",
    "actual_data"
   ]
  },
  {
   "cell_type": "code",
   "execution_count": 29,
   "metadata": {
    "scrolled": false
   },
   "outputs": [
    {
     "data": {
      "image/png": "[encoded data removed]",
      "text/plain": [
       "<Figure size 1080x3600 with 10 Axes>"
      ]
     },
     "metadata": {
      "needs_background": "light"
     },
     "output_type": "display_data"
    }
   ],
   "source": [
    "plt.figure(figsize=(15, 50))\n",
    "idx = 1\n",
    "for platform in actual_data['platform'].unique():\n",
    "    plt.subplot(8, 2, idx)\n",
    "    plt.plot(\n",
    "            actual_data[actual_data['platform'] == platform]['year_of_release'].sort_values().unique(), \n",
    "            actual_data[actual_data['platform'] == platform].groupby('year_of_release')['total_sales'].sum(),\n",
    "            lw=1.8\n",
    "    )\n",
    "    plt.title(platform)\n",
    "    plt.xlabel('Год')\n",
    "    plt.ylabel('Количество проданных игр')\n",
    "    idx += 1\n",
    "plt.show()"
   ]
  },
  {
   "cell_type": "markdown",
   "metadata": {},
   "source": [
    "Проанализировав графики, можем сделать следующие выводы: \n",
    "* Наиболее перспективными платформами являются следующие: `PS4`, `XOne`,\n",
    "* Наименее перспективными являются: `X360`, `Wii`, `PSP`, `PS3`."
   ]
  },
  {
   "cell_type": "code",
   "execution_count": 30,
   "metadata": {},
   "outputs": [
    {
     "data": {
      "text/html": [
       "<div>\n",
       "<style scoped>\n",
       "    .dataframe tbody tr th:only-of-type {\n",
       "        vertical-align: middle;\n",
       "    }\n",
       "\n",
       "    .dataframe tbody tr th {\n",
       "        vertical-align: top;\n",
       "    }\n",
       "\n",
       "    .dataframe thead th {\n",
       "        text-align: right;\n",
       "    }\n",
       "</style>\n",
       "<table border=\"1\" class=\"dataframe\">\n",
       "  <thead>\n",
       "    <tr style=\"text-align: right;\">\n",
       "      <th></th>\n",
       "      <th>platform</th>\n",
       "      <th>total_sales</th>\n",
       "    </tr>\n",
       "  </thead>\n",
       "  <tbody>\n",
       "    <tr>\n",
       "      <th>5</th>\n",
       "      <td>X360</td>\n",
       "      <td>48.22</td>\n",
       "    </tr>\n",
       "    <tr>\n",
       "      <th>6</th>\n",
       "      <td>PS3</td>\n",
       "      <td>68.18</td>\n",
       "    </tr>\n",
       "    <tr>\n",
       "      <th>7</th>\n",
       "      <td>3DS</td>\n",
       "      <td>86.68</td>\n",
       "    </tr>\n",
       "    <tr>\n",
       "      <th>8</th>\n",
       "      <td>XOne</td>\n",
       "      <td>140.36</td>\n",
       "    </tr>\n",
       "    <tr>\n",
       "      <th>9</th>\n",
       "      <td>PS4</td>\n",
       "      <td>288.15</td>\n",
       "    </tr>\n",
       "  </tbody>\n",
       "</table>\n",
       "</div>"
      ],
      "text/plain": [
       "  platform  total_sales\n",
       "5     X360        48.22\n",
       "6      PS3        68.18\n",
       "7      3DS        86.68\n",
       "8     XOne       140.36\n",
       "9      PS4       288.15"
      ]
     },
     "execution_count": 30,
     "metadata": {},
     "output_type": "execute_result"
    }
   ],
   "source": [
    "platforms_total_sales = actual_data.groupby('platform')['total_sales'].sum().sort_values().reset_index()\n",
    "platforms_total_sales.tail()"
   ]
  },
  {
   "cell_type": "markdown",
   "metadata": {},
   "source": [
    "Платформы, лидирующие по продажам (по возрастанию количества продаж): `X360`, `PS3`, `3DS`, `XOne`, `PS4`."
   ]
  },
  {
   "cell_type": "markdown",
   "metadata": {},
   "source": [
    "Построим диаграммы размаха для общих продаж каждой из платформ."
   ]
  },
  {
   "cell_type": "code",
   "execution_count": 31,
   "metadata": {
    "scrolled": false
   },
   "outputs": [
    {
     "data": {
      "image/png": "[encoded data removed]",
      "text/plain": [
       "<Figure size 1440x3960 with 20 Axes>"
      ]
     },
     "metadata": {
      "needs_background": "light"
     },
     "output_type": "display_data"
    }
   ],
   "source": [
    "plt.figure(figsize=(20, 55))\n",
    "\n",
    "for i, platform in enumerate(actual_data['platform'].unique()):\n",
    "    plt.subplot(10, 2, 2 * i + 1)\n",
    "    actual_data[actual_data['platform'] == platform].boxplot('total_sales')\n",
    "    plt.ylim((0, actual_data[actual_data['platform'] == platform]['total_sales'].max() + 0.25))\n",
    "    plt.title(f'{platform}')\n",
    "    plt.subplot(10, 2, 2 * i + 2)\n",
    "    actual_data[actual_data['platform'] == platform].boxplot('total_sales')\n",
    "    plt.ylim((0, actual_data[actual_data['platform'] == platform]['total_sales'].quantile(0.75) + 0.05))\n",
    "    plt.title(f'{platform}')\n",
    "    plt.ylabel('')"
   ]
  },
  {
   "cell_type": "markdown",
   "metadata": {},
   "source": [
    "Практически во всех случаях мы можем наблюдать некоторое число выбросов. Причём, заметим что выбросов больше у тех платформ, которые более актуальны и имеют больше продаж."
   ]
  },
  {
   "cell_type": "markdown",
   "metadata": {},
   "source": [
    "Посмотрим, как влияют на продажи внутри самой 3 наиболее популярных платформ отзывы пользователей и критиков."
   ]
  },
  {
   "cell_type": "code",
   "execution_count": 32,
   "metadata": {
    "scrolled": false
   },
   "outputs": [
    {
     "data": {
      "image/png": "[encoded data removed]",
      "text/plain": [
       "<Figure size 1080x720 with 6 Axes>"
      ]
     },
     "metadata": {
      "needs_background": "light"
     },
     "output_type": "display_data"
    }
   ],
   "source": [
    "platforms_to_compare = platforms_total_sales.tail(3)['platform'].values\n",
    "\n",
    "plt.figure(figsize=(15, 10))\n",
    "for i, platform in enumerate(platforms_to_compare):\n",
    "    platform_data = actual_data[actual_data['platform'] == platform].dropna()\n",
    "    plt.subplot(3, 2, 2 * i + 1)\n",
    "    plt.title(f'Связь между продажами и отзывами пользователей для {platform}')\n",
    "    plt.scatter(x=platform_data['total_sales'], y=platform_data['user_score'], alpha=.25)\n",
    "    plt.subplot(3, 2, 2 * i + 2)\n",
    "    plt.title(f'Связь между продажами и отзывами критиков для {platform}')\n",
    "    plt.scatter(x=platform_data['total_sales'], y=platform_data['critic_score'], alpha=.25)"
   ]
  },
  {
   "cell_type": "markdown",
   "metadata": {},
   "source": [
    "По диаграммам видно, что с увеличением оценок критиков увеличивается число продаж. Для отзывов пользователей такой зависимости не наблюдается. Логично предположить, что такая закономерность распространяется не только на рассматриваемые платформы."
   ]
  },
  {
   "cell_type": "markdown",
   "metadata": {},
   "source": [
    "Посчитаем коэффиценты корреляции."
   ]
  },
  {
   "cell_type": "code",
   "execution_count": 33,
   "metadata": {},
   "outputs": [
    {
     "data": {
      "text/html": [
       "<div>\n",
       "<style scoped>\n",
       "    .dataframe tbody tr th:only-of-type {\n",
       "        vertical-align: middle;\n",
       "    }\n",
       "\n",
       "    .dataframe tbody tr th {\n",
       "        vertical-align: top;\n",
       "    }\n",
       "\n",
       "    .dataframe thead th {\n",
       "        text-align: right;\n",
       "    }\n",
       "</style>\n",
       "<table border=\"1\" class=\"dataframe\">\n",
       "  <thead>\n",
       "    <tr style=\"text-align: right;\">\n",
       "      <th></th>\n",
       "      <th>3DS</th>\n",
       "      <th>XOne</th>\n",
       "      <th>PS4</th>\n",
       "    </tr>\n",
       "  </thead>\n",
       "  <tbody>\n",
       "    <tr>\n",
       "      <th>user_score</th>\n",
       "      <td>0.066759</td>\n",
       "      <td>-0.078892</td>\n",
       "      <td>-0.052000</td>\n",
       "    </tr>\n",
       "    <tr>\n",
       "      <th>critic_score</th>\n",
       "      <td>0.087755</td>\n",
       "      <td>0.369967</td>\n",
       "      <td>0.333486</td>\n",
       "    </tr>\n",
       "  </tbody>\n",
       "</table>\n",
       "</div>"
      ],
      "text/plain": [
       "                   3DS      XOne       PS4\n",
       "user_score    0.066759 -0.078892 -0.052000\n",
       "critic_score  0.087755  0.369967  0.333486"
      ]
     },
     "execution_count": 33,
     "metadata": {},
     "output_type": "execute_result"
    }
   ],
   "source": [
    "platforms_to_cmp_corr = pd.DataFrame()\n",
    "\n",
    "for platform in platforms_to_compare:\n",
    "    platform_data = actual_data[actual_data['platform'] == platform].dropna()\n",
    "    platforms_to_cmp_corr[platform] = [\n",
    "        platform_data['user_score'].corr(platform_data['total_sales']),\n",
    "        platform_data['critic_score'].corr(platform_data['total_sales']),\n",
    "    ]\n",
    "platforms_to_cmp_corr.index = ['user_score', 'critic_score']\n",
    "platforms_to_cmp_corr"
   ]
  },
  {
   "cell_type": "markdown",
   "metadata": {},
   "source": [
    "Получаем примерно тот же результат, который получили при анализе соответствующих графиков. Связь продаж и `user_score` практически отсутвует, а для `XOne` и `PS4`, судя по коэффицентам, продажи и оценки пользователей обратно пропорциональны. Отметим, что связь `critic_score` и `total_sales` для `3DS` значительно меньше, чем для остальных платформ."
   ]
  },
  {
   "cell_type": "markdown",
   "metadata": {},
   "source": [
    "Определим самых прибыльные жанры, жанры с высокими и низкими продажами. Интересующие нас жанры найдём, исходя из медиан общих продаж."
   ]
  },
  {
   "cell_type": "code",
   "execution_count": 34,
   "metadata": {},
   "outputs": [
    {
     "data": {
      "image/png": "[encoded data removed]",
      "text/plain": [
       "<Figure size 720x360 with 1 Axes>"
      ]
     },
     "metadata": {
      "needs_background": "light"
     },
     "output_type": "display_data"
    }
   ],
   "source": [
    "actual_data.groupby('genre')['total_sales'].median().sort_values().plot.bar(\n",
    "    xlabel='Жанр', \n",
    "    ylabel='Медиана общих продаж',\n",
    "    title='Прибыльность жанров',\n",
    "    figsize=(10,5)\n",
    ")\n",
    "plt.show()"
   ]
  },
  {
   "cell_type": "markdown",
   "metadata": {},
   "source": [
    "* Самый прибыльный жанр - `Shooter`,\n",
    "* Жанры с высоким числом продаж - `Sports`, `Platform`, `Fighting`, `Role-Playing`,\n",
    "* Жанры с низким числом продаж - `Adventure`, `Puzzle`, `Strategy`."
   ]
  },
  {
   "cell_type": "markdown",
   "metadata": {},
   "source": [
    "<b>Промежуточный итог:</b>\n",
    "    \n",
    "Сведения, полученные из исходных данных:\n",
    "* Наибольшее количество игр вышло в промежуток от 2005 до 2011 года, наименьшее от 1980 до 1992 года.\n",
    "* Наибольшим числом продаж обладают игры для следующих платформ: `DS`, `Wii`, `PS3`, `X360`, `PS2`.\n",
    "* Характерный срок, за который появляются новые и исчезают старые платформы - `6` лет.\n",
    "\n",
    "Мы определили минимальный год, начиная с которого будем считать данные актуальными - `2014`.\n",
    "В последствии мы используем только их.\n",
    "\n",
    "Мы также сделали значимые выводы о направлении изменения числа продаж платформ с течением времени:\n",
    "* Наиболее перспективными платформами являются следующие: `PS4`, `XOne`,\n",
    "* Наименее перспективными являются: `X360`, `Wii`, `PSP`, `PS3`.\n",
    "\n",
    "Платформы, лидирующие по продажам (по возрастанию количества продаж): `X360`, `PS3`, `3DS`, `XOne`, `PS4`.\n",
    "\n",
    "Далее мы установили, что для некоторых платформ с увеличением оценок критиков увеличивается число продаж и изучили прибыльность разных жанров.\n",
    "\n",
    "* Самый прибыльный жанр - `Shooter`,\n",
    "* Жанры с высоким числом продаж - `Sports`, `Platform`, `Fighting`, `Role-Playing`,\n",
    "* Жанры с низким числом продаж - `Adventure`, `Puzzle`, `Strategy`."
   ]
  },
  {
   "cell_type": "markdown",
   "metadata": {},
   "source": [
    "## Портреты пользователей каждого региона"
   ]
  },
  {
   "cell_type": "markdown",
   "metadata": {},
   "source": [
    "На этом этапе мы составим среднестатистический портрет пользователя каждого региона.\n",
    "Для каждого региона определим:\n",
    "* Топ-5 популярные платформы.\n",
    "* Топ-5 популярных жанры.\n",
    "* Влияет ли рейтинг ESRB на продажи в отдельном регионе?"
   ]
  },
  {
   "cell_type": "markdown",
   "metadata": {},
   "source": [
    "Первым делом, для каждого региона найдём `5` самых популярных платформ."
   ]
  },
  {
   "cell_type": "code",
   "execution_count": 35,
   "metadata": {},
   "outputs": [
    {
     "name": "stdout",
     "output_type": "stream",
     "text": [
      "Регион: NA\n"
     ]
    },
    {
     "data": {
      "image/png": "[encoded data removed]",
      "text/plain": [
       "<Figure size 864x360 with 2 Axes>"
      ]
     },
     "metadata": {
      "needs_background": "light"
     },
     "output_type": "display_data"
    },
    {
     "name": "stdout",
     "output_type": "stream",
     "text": [
      "Регион: EU\n"
     ]
    },
    {
     "data": {
      "image/png": "[encoded data removed]",
      "text/plain": [
       "<Figure size 864x360 with 2 Axes>"
      ]
     },
     "metadata": {
      "needs_background": "light"
     },
     "output_type": "display_data"
    },
    {
     "name": "stdout",
     "output_type": "stream",
     "text": [
      "Регион: JP\n"
     ]
    },
    {
     "data": {
      "image/png": "[encoded data removed]",
      "text/plain": [
       "<Figure size 864x360 with 2 Axes>"
      ]
     },
     "metadata": {
      "needs_background": "light"
     },
     "output_type": "display_data"
    }
   ],
   "source": [
    "for region in ['NA', 'EU', 'JP']:\n",
    "    print('Регион:', region)\n",
    "    column = region.lower()+'_sales'\n",
    "    top_region_platforms = actual_data.groupby('platform')[column].sum().sort_values().reset_index().tail()\n",
    "    top_region_platforms[column] = np.round(top_region_platforms[column], 2)\n",
    "    \n",
    "    fig, axes = plt.subplots(1, 2, figsize=(12, 5))\n",
    "\n",
    "    ax_plot_bar = axes[0]\n",
    "    ax_plot_bar.bar(top_region_platforms['platform'], top_region_platforms[column])\n",
    "    ax_plot_bar.set_title(f'5 самых популярных платформ региона {region}')\n",
    "    ax_plot_bar.set_xlabel('Платформа')\n",
    "    ax_plot_bar.set_ylabel('Количество продаж в регионе')\n",
    "    \n",
    "    ax_plot_pie = axes[1]\n",
    "    ax_plot_pie.pie(top_region_platforms[column], labels=top_region_platforms['platform'], autopct='%1.f%%')\n",
    "    ax_plot_pie.set_title(f'Доли продаж 5 самых популярных платформ региона {region}')\n",
    "    \n",
    "    plt.show()"
   ]
  },
  {
   "cell_type": "markdown",
   "metadata": {},
   "source": [
    "Проанализируем графики.\n",
    "<br>\n",
    "<br>\n",
    "Для региона `NA` получаем следующее: \n",
    "* Пять самых популярных платформ (по возрастанию количества продаж) - `PS3`, `3DS`, `X360`, `XOne`, `PS4`.\n",
    "* Соответствующие доли продаж: `9%`, `9%`, `11%`, `32%`, `39%`.\n",
    "\n",
    "Для региона `EU`:\n",
    "* Пять самых популярных платформ (по возрастанию количества продаж) - `3DS`, `PC`, `PS3`, `XOne`, `PS4`.\n",
    "* Соответствующие доли продаж: `7%`, `8%`, `11%`, `20%`, `55%`.\n",
    "\n",
    "Наконец, для `JP`:\n",
    "* Пять самых популярных платформ (по возрастанию количества продаж) - `WiiU`, `PS3`, `PSV`, `PS4`, `3DS`.\n",
    "* Соответствующие доли продаж: `8%`, `12%`, `16%`, `16%`, `48%`.\n",
    "\n",
    "В регионах `NA`и `EU` ситуации имеют некоторые сходства, в отличие от `JP`, сведения о котором заметно отличаются. Это касается и наборов платформ, и распределений долей продаж для этих платформ. "
   ]
  },
  {
   "cell_type": "markdown",
   "metadata": {},
   "source": [
    "Теперь найдём по `5` самых популярных жанров для каждого региона."
   ]
  },
  {
   "cell_type": "code",
   "execution_count": 36,
   "metadata": {},
   "outputs": [
    {
     "data": {
      "image/png": "[encoded data removed]",
      "text/plain": [
       "<Figure size 1512x360 with 3 Axes>"
      ]
     },
     "metadata": {
      "needs_background": "light"
     },
     "output_type": "display_data"
    }
   ],
   "source": [
    "plt.figure(figsize=(21, 5))\n",
    "\n",
    "for i, region in enumerate(['NA', 'EU', 'JP']):\n",
    "    column = region.lower() + '_sales'\n",
    "    top_region_genres = (\n",
    "        actual_data\n",
    "            .groupby('genre')[column]\n",
    "            .sum()\n",
    "            .sort_values()\n",
    "            .reset_index()\n",
    "            .tail()\n",
    "    )\n",
    "    another_region_genres = (\n",
    "        actual_data\n",
    "            .groupby('genre')[column]\n",
    "            .sum()\n",
    "            .sort_values()\n",
    "            .reset_index()\n",
    "            .iloc[0:-5]\n",
    "    )\n",
    "    another_region_genres['genre'] = 'Другие'\n",
    "    top_region_genres = top_region_genres.merge(another_region_genres, how='outer').sort_values(by=column)\n",
    "    \n",
    "    plt.subplot(1, 3, i + 1)\n",
    "    plt.bar(top_region_genres['genre'], top_region_genres[column])\n",
    "    plt.title(f'5 самых популярных жанров региона {region}')\n",
    "    plt.xlabel('Жанр')\n",
    "    plt.ylabel('Количество продаж')"
   ]
  },
  {
   "cell_type": "markdown",
   "metadata": {},
   "source": [
    "5 самых популярных жанров для региона `NA` (по возрастанию количества продаж): `Misc`, `Role-Playing`, `Sports`, `Action`, `Shooter`.\n",
    "<br>\n",
    "Для `EU`: `Racing`, `Role-Playing`, `Sports`, `Shooter`, `Action`.\n",
    "<br>\n",
    "В `JP` `5` наиболее популярных жанров следующие: `Shooter`, `Misc`, `Fighting`, `Action`, `Role-Playing` (по возрастанию количества продаж).\n",
    "<br>\n",
    "Для жанров также прослеживается тенденции сходства `NA` с `EU` и их различия с `JP`."
   ]
  },
  {
   "cell_type": "markdown",
   "metadata": {},
   "source": [
    "Посмотрим, как в разных регионах рейтинг `ESRB` влияет на число продаж."
   ]
  },
  {
   "cell_type": "code",
   "execution_count": 37,
   "metadata": {},
   "outputs": [
    {
     "data": {
      "image/png": "[encoded data removed]",
      "text/plain": [
       "<Figure size 1440x720 with 3 Axes>"
      ]
     },
     "metadata": {},
     "output_type": "display_data"
    }
   ],
   "source": [
    "plt.figure(figsize=(20,10))\n",
    "\n",
    "for i, region in enumerate(['NA', 'EU', 'JP']):\n",
    "    column = region.lower() + '_sales'\n",
    "    region_sales = actual_data.groupby('rating')[column].sum().reset_index().sort_values(by=column)\n",
    "    \n",
    "    plt.subplot(1, 3, i + 1)\n",
    "    plt.pie(region_sales[column], autopct='%1.f%%', labels=region_sales['rating'])\n",
    "    plt.title(f'Доля продаж в регионе {region} в зависимости от рейтинга')"
   ]
  },
  {
   "cell_type": "markdown",
   "metadata": {},
   "source": [
    "Зависимость между рейтингом `ESRB` и количеством продаж есть. Игры с рейтингом `E10+` наименее популярны.\n",
    "В регионе `NA` наибольшее число продаж имеют игры с рейтингом `M`, в `EU` также `M`. В регионе `JP` наибольшее число продаж имеют игры, чей рейтинг нам неизвестен, но если мы опустим эти значения, то получим, что наибольшее количество продаж свойственно рейтингу `T`."
   ]
  },
  {
   "cell_type": "markdown",
   "metadata": {},
   "source": [
    "<b>Промежуточный итог:</b>\n",
    "\n",
    "Объединим полученные выше сведения для описания портрета среднего пользователя каждого региона.\n",
    "\n",
    "Для региона `NA` средний пользователь это человек, использующий для игры платформу `PS4` и предпочитающий жанры `Shooter` и `Action`.\n",
    "Средний пользователь в `EU` также использует платформу `PS4` и является любителем игр жанров `Shooter`, `Action`.\n",
    "Пользователь в `JP`, вероятнее всего, выбрал бы платформу `3DS` и предпочёл бы игры жанров `Role-Playing` или `Action`."
   ]
  },
  {
   "cell_type": "code",
   "execution_count": 38,
   "metadata": {},
   "outputs": [
    {
     "data": {
      "text/html": [
       "<div>\n",
       "<style scoped>\n",
       "    .dataframe tbody tr th:only-of-type {\n",
       "        vertical-align: middle;\n",
       "    }\n",
       "\n",
       "    .dataframe tbody tr th {\n",
       "        vertical-align: top;\n",
       "    }\n",
       "\n",
       "    .dataframe thead th {\n",
       "        text-align: right;\n",
       "    }\n",
       "</style>\n",
       "<table border=\"1\" class=\"dataframe\">\n",
       "  <thead>\n",
       "    <tr style=\"text-align: right;\">\n",
       "      <th></th>\n",
       "      <th>region</th>\n",
       "      <th>platform</th>\n",
       "      <th>genres</th>\n",
       "    </tr>\n",
       "  </thead>\n",
       "  <tbody>\n",
       "    <tr>\n",
       "      <th>0</th>\n",
       "      <td>NA</td>\n",
       "      <td>PS4</td>\n",
       "      <td>Shooter, Action</td>\n",
       "    </tr>\n",
       "    <tr>\n",
       "      <th>1</th>\n",
       "      <td>EU</td>\n",
       "      <td>PS4</td>\n",
       "      <td>Shooter, Action</td>\n",
       "    </tr>\n",
       "    <tr>\n",
       "      <th>2</th>\n",
       "      <td>JP</td>\n",
       "      <td>3DS</td>\n",
       "      <td>Role-Playing, Action</td>\n",
       "    </tr>\n",
       "  </tbody>\n",
       "</table>\n",
       "</div>"
      ],
      "text/plain": [
       "  region platform                genres\n",
       "0     NA      PS4       Shooter, Action\n",
       "1     EU      PS4       Shooter, Action\n",
       "2     JP      3DS  Role-Playing, Action"
      ]
     },
     "execution_count": 38,
     "metadata": {},
     "output_type": "execute_result"
    }
   ],
   "source": [
    "average_users = pd.DataFrame({\n",
    "    'region': ['NA', 'EU', 'JP'],\n",
    "    'platform': ['PS4', 'PS4', '3DS'],\n",
    "    'genres': ['Shooter, Action', 'Shooter, Action', 'Role-Playing, Action']\n",
    "})\n",
    "\n",
    "average_users"
   ]
  },
  {
   "cell_type": "markdown",
   "metadata": {},
   "source": [
    "Также мы установили зависимость между рейтингом ESRB и количеством продаж в регионе. Зависимость между рейтингом `ESRB` и количеством продаж есть. Игры с рейтингом `M` или `T` имеют наибольшее число продаж, а для рейтинга `E10+`, наоборот, характерно низкое число продаж."
   ]
  },
  {
   "cell_type": "markdown",
   "metadata": {},
   "source": [
    "## Проверка гипотез"
   ]
  },
  {
   "cell_type": "markdown",
   "metadata": {},
   "source": [
    "Проверим следующие гипотезы:\n",
    "* Средние пользовательские рейтинги платформ Xbox One и PC одинаковые;\n",
    "* Средние пользовательские рейтинги жанров Action (англ. «действие», экшен-игры) и Sports (англ. «спортивные соревнования») разные."
   ]
  },
  {
   "cell_type": "markdown",
   "metadata": {},
   "source": [
    "Пороговое значение стат. значимости положим равным `0.05`. Проверим гипотезы `t-тестом`. В обоих случаях применим метод `ttest_ind` для независимых выборок из модуля `scipy.stats`."
   ]
  },
  {
   "cell_type": "markdown",
   "metadata": {},
   "source": [
    "Сформулируем нулевую гипотезу `H0` и альтернативную гипотезу `H1` для первого теста:\n",
    "<br>\n",
    "`H0` - Средние пользовательские рейтинги платформ `Xbox One` и `PC` равны,\n",
    "<br>\n",
    "`H1` - Средние пользовательские рейтинги платформ `Xbox One` и `PC` не равны."
   ]
  },
  {
   "cell_type": "code",
   "execution_count": 39,
   "metadata": {},
   "outputs": [
    {
     "name": "stdout",
     "output_type": "stream",
     "text": [
      "p-value: 0.04610097158965101\n",
      "Среднее значение для XOne: 6.754332921209389\n",
      "Среднее значение для PC: 6.456498496491811\n",
      "Есть статистически значимая разница: отвергаем нулевую гипотезу в пользу альтернативной.\n"
     ]
    }
   ],
   "source": [
    "alpha = .05\n",
    "\n",
    "text_success = 'Нет статистически значимой разницы: не отвергаем нулевую гипотезу.'\n",
    "text_fail = 'Есть статистически значимая разница: отвергаем нулевую гипотезу в пользу альтернативной.'\n",
    "\n",
    "res = st.ttest_ind(\n",
    "    actual_data[actual_data['platform'] == 'XOne']['user_score'].dropna(), \n",
    "    actual_data[actual_data['platform'] == 'PC']['user_score'].dropna()\n",
    ")\n",
    "\n",
    "print(f'p-value: {res.pvalue}')\n",
    "print(f'Среднее значение для XOne: {actual_data[actual_data[\"platform\"] == \"XOne\"][\"user_score\"].mean()}')\n",
    "print(f'Среднее значение для PC: {actual_data[actual_data[\"platform\"] == \"PC\"][\"user_score\"].mean()}')\n",
    "\n",
    "if res.pvalue < alpha:\n",
    "    print(text_fail)\n",
    "else:\n",
    "    print(text_success)"
   ]
  },
  {
   "cell_type": "markdown",
   "metadata": {},
   "source": [
    "По результатам теста, гипотеза \"средние пользовательские рейтинги платформ `Xbox One` и `PC` одинаковые\" НЕ подтвердилась."
   ]
  },
  {
   "cell_type": "markdown",
   "metadata": {},
   "source": [
    "Сформулируем нулевую гипотезу `H0` и альтернативную гипотезу `H1` для второго теста:\n",
    "<br>\n",
    "`H0` - Средние пользовательские рейтинги жанров `Action` и `Sports` равны,\n",
    "<br>\n",
    "`H1` - Средние пользовательские рейтинги жанров `Action` и `Sports` не равны."
   ]
  },
  {
   "cell_type": "code",
   "execution_count": 40,
   "metadata": {},
   "outputs": [
    {
     "name": "stdout",
     "output_type": "stream",
     "text": [
      "p-value: 2.4170797603660164e-34\n",
      "Среднее значение для Action: 7.009718185264818\n",
      "Среднее значение для Sports: 5.550702632854139\n",
      "Есть статистически значимая разница: отвергаем нулевую гипотезу в пользу альтернативной.\n"
     ]
    }
   ],
   "source": [
    "res = st.ttest_ind(\n",
    "    actual_data[actual_data['genre'] == 'Action']['user_score'].dropna(), \n",
    "    actual_data[actual_data['genre'] == 'Sports']['user_score'].dropna()\n",
    ")\n",
    "\n",
    "print(f'p-value: {res.pvalue}')\n",
    "print(f'Среднее значение для Action: {actual_data[actual_data[\"genre\"] == \"Action\"][\"user_score\"].mean()}')\n",
    "print(f'Среднее значение для Sports: {actual_data[actual_data[\"genre\"] == \"Sports\"][\"user_score\"].mean()}')\n",
    "\n",
    "if res.pvalue < alpha:\n",
    "    print(text_fail)\n",
    "else:\n",
    "    print(text_success)"
   ]
  },
  {
   "cell_type": "markdown",
   "metadata": {},
   "source": [
    "Отвергаем нулевую гипотезу, следовательно, признаем альтернативую гипотезу верной. Значит, исходная гипотеза \"средние пользовательские рейтинги жанров `Action` и `Sports` разные\" подтвердилась."
   ]
  },
  {
   "cell_type": "markdown",
   "metadata": {},
   "source": [
    "<b>Промежуточный итог:</b> \n",
    "\n",
    "Мы проверили две гипотезы, проведя `t-тесты`, в результате которых гипотеза \"средние пользовательские рейтинги платформ `Xbox One` и `PC` одинаковые\" оказалась неверной, а гипотеза \"средние пользовательские рейтинги жанров `Action` и `Sports` разные\" верной."
   ]
  },
  {
   "cell_type": "markdown",
   "metadata": {},
   "source": [
    "# Итоговый вывод"
   ]
  },
  {
   "cell_type": "markdown",
   "metadata": {},
   "source": [
    "Главное целью нашего исследования было выявление факторов, определяющих успех игры."
   ]
  },
  {
   "cell_type": "markdown",
   "metadata": {},
   "source": [
    "Тезисно опишем промежуточные выводы, полученные в ходе нашего исследования.\n",
    "\n",
    "<b>Первым делом из сводной информации мы установили наличие следующих проблемы в данных:</b>\n",
    "* В данных достаточно большое количество пропусков,\n",
    "* Не совсем корректно именованы столбцы,\n",
    "* Некоторые столбцы имеют неверный тип.\n",
    "\n",
    "<b>На следующем этапе мы занимались `предобработкой данных`, непосредственно устранением обнаруженных проблем:</b>\n",
    "* Привели названия столбцов к нижнему регистру,\n",
    "* Удалили строки с пропусками в `name`, `genre` и `year_of_release`,\n",
    "* Заполнили пропуски в `critic_score` медианным значением,\n",
    "* Заполнили пропуски в `user_score` на основании `critic_score`, \n",
    "* Заполнили значения `tbd` столбца `user_score` пропусками (значениями `NaN`).\n",
    "* Убедились в отсутствии явных дубликатов.\n",
    "\n",
    "В результате всех модификаций мы потеряли всего `1.62%` исходных данных.\n",
    "\n",
    "<b>На `3` этапе мы провели `исследовательский анализ`, в результате которого разделили данные на `актуальные`-`неактуальные` и получили важные сведения:</b>\n",
    "\n",
    "Выводы, полученные из исходных данных:\n",
    "* Наибольшее количество игр вышло в промежуток от `2005` до `2011` года, наименьшее от `1980` до `1992` года.\n",
    "* Наибольшим числом продаж обладают игры для следующих платформ: `DS`, `Wii`, `PS3`, `X360`, `PS2`.\n",
    "* Характерный срок, за который появляются новые и исчезают старые платформы - `6` лет.\n",
    "\n",
    "Мы определили минимальный год, начиная с которого данные считаются актуальными - `2014`. В последствии мы используем только их.\n",
    "\n",
    "Выводы о направлении изменения числа продаж платформ с течением времени:\n",
    "* Наиболее перспективными платформами являются следующие: `PS4`, `XOne`,\n",
    "* Наименее перспективными являются: `X360`, `Wii`, `PSP`, `PS3`.\n",
    "* Платформы, лидирующие по продажам (по возрастанию количества продаж): `X360`, `PS3`, `3DS`, `XOne`, `PS4`.\n",
    "\n",
    " Отметим, что игры для платформ `PS4` и `XOne` достаточно зависимы от оценок критиков (зависимость - `прямая`). Коэффиценты корреляции больше `30%` для обеих платформ.\n",
    "\n",
    "Прибыльность разных жанров:\n",
    "* Самый прибыльный жанр - `Shooter`,\n",
    "* Жанры с высоким числом продаж - `Sports`, `Platform`, `Fighting`, `Role-Playing`,\n",
    "* Жанры с низким числом продаж - `Adventure`, `Puzzle`, `Strategy`.\n",
    "\n",
    "<b>Следующий этап был посвящён `составлению портрета среднестатистического пользователя для каждого региона`:</b> \n",
    "* Для региона `NA` средний пользователь это человек, использующий для игры платформу `PS4`(доля продаж - `39%`) и предпочитающий жанры `Shooter` и `Action`.\n",
    "* Средний пользователь в `EU` также использует платформу `PS4`(доля продаж - `55%`) и является любителем игр жанров `Shooter`, `Action`. \n",
    "* Пользователь в `JP`, вероятнее всего, выбрал бы платформу `3DS`(доля продаж - `48%`) и предпочёл бы игры жанров `Role-Playing` или `Action`.\n",
    "\n",
    "Также мы установили зависимость между рейтингом `ESRB` и количеством продаж в регионе. Зависимость между рейтингом `ESRB` и количеством продаж есть. Игры с рейтингом `M` или `T` имеют наибольшее число продаж, а для рейтинга `E10+`, наоборот, характерно низкое число продаж.\n",
    "\n",
    "<b>На последнем этапе мы занимались `проверкой двух гипотез`:</b>\n",
    "1. Средние пользовательские рейтинги платформ Xbox One и PC одинаковые.\n",
    "2. Средние пользовательские рейтинги жанров Action и Sports разные.\n",
    "\n",
    "В результате мы пришли к выводу, что первая гипотеза является неверной, а вторая верной."
   ]
  },
  {
   "cell_type": "markdown",
   "metadata": {},
   "source": [
    "Используем все эти сведения для ответа на вопрос задачи."
   ]
  },
  {
   "cell_type": "markdown",
   "metadata": {},
   "source": [
    "<b>Факторы влиящие на успех игры:</b>\n",
    "1. Актуальность платформы \n",
    "2. Жанр\n",
    "3. Оценки игры от критиков\n",
    "4. Полученный рейтинг `ESRB`.\n",
    "\n",
    "Влияние `жанра`, `актуальности платформы`, `рейтинга ESRB` сильно зависит от региона, в то время, как влияние `оценки критиков` зависит от конкретной платформы для которой выпускается игра."
   ]
  }
 ],
 "metadata": {
  "ExecuteTimeLog": [
   {
    "duration": 150,
    "start_time": "2023-11-18T22:46:13.061Z"
   },
   {
    "duration": 855,
    "start_time": "2023-11-18T22:47:38.708Z"
   },
   {
    "duration": 269,
    "start_time": "2023-11-18T22:49:07.594Z"
   },
   {
    "duration": 4,
    "start_time": "2023-11-18T22:52:13.746Z"
   },
   {
    "duration": 3,
    "start_time": "2023-11-18T22:52:47.357Z"
   },
   {
    "duration": 65,
    "start_time": "2023-11-18T22:52:54.870Z"
   },
   {
    "duration": 4,
    "start_time": "2023-11-18T22:52:59.568Z"
   },
   {
    "duration": 5,
    "start_time": "2023-11-18T22:53:28.043Z"
   },
   {
    "duration": 4,
    "start_time": "2023-11-18T22:53:33.226Z"
   },
   {
    "duration": 5,
    "start_time": "2023-11-18T22:53:44.542Z"
   },
   {
    "duration": 10,
    "start_time": "2023-11-18T22:54:07.550Z"
   },
   {
    "duration": 9,
    "start_time": "2023-11-18T22:54:13.088Z"
   },
   {
    "duration": 10,
    "start_time": "2023-11-18T22:54:16.241Z"
   },
   {
    "duration": 4,
    "start_time": "2023-11-18T22:54:59.387Z"
   },
   {
    "duration": 5,
    "start_time": "2023-11-18T22:55:17.166Z"
   },
   {
    "duration": 15,
    "start_time": "2023-11-18T22:55:56.767Z"
   },
   {
    "duration": 12,
    "start_time": "2023-11-18T22:56:00.177Z"
   },
   {
    "duration": 10,
    "start_time": "2023-11-18T22:56:16.878Z"
   },
   {
    "duration": 3,
    "start_time": "2023-11-19T00:33:20.642Z"
   },
   {
    "duration": 733,
    "start_time": "2023-11-19T00:34:41.766Z"
   },
   {
    "duration": 165,
    "start_time": "2023-11-19T00:34:42.501Z"
   },
   {
    "duration": 4,
    "start_time": "2023-11-19T00:34:42.668Z"
   },
   {
    "duration": 5,
    "start_time": "2023-11-19T00:34:42.673Z"
   },
   {
    "duration": 7,
    "start_time": "2023-11-19T00:34:42.679Z"
   },
   {
    "duration": 2,
    "start_time": "2023-11-19T00:35:24.083Z"
   },
   {
    "duration": 124,
    "start_time": "2023-11-19T00:35:24.214Z"
   },
   {
    "duration": 4,
    "start_time": "2023-11-19T00:35:25.012Z"
   },
   {
    "duration": 2,
    "start_time": "2023-11-19T00:41:04.014Z"
   },
   {
    "duration": 9,
    "start_time": "2023-11-19T00:41:23.393Z"
   },
   {
    "duration": 19,
    "start_time": "2023-11-19T00:42:03.360Z"
   },
   {
    "duration": 5,
    "start_time": "2023-11-19T00:42:26.524Z"
   },
   {
    "duration": 75,
    "start_time": "2023-11-19T00:42:58.907Z"
   },
   {
    "duration": 9,
    "start_time": "2023-11-19T00:43:16.626Z"
   },
   {
    "duration": 12,
    "start_time": "2023-11-19T00:43:48.207Z"
   },
   {
    "duration": 3,
    "start_time": "2023-11-19T00:43:56.234Z"
   },
   {
    "duration": 136,
    "start_time": "2023-11-19T00:43:56.726Z"
   },
   {
    "duration": 4,
    "start_time": "2023-11-19T00:43:58.533Z"
   },
   {
    "duration": 5,
    "start_time": "2023-11-19T00:43:59.198Z"
   },
   {
    "duration": 9,
    "start_time": "2023-11-19T00:44:01.023Z"
   },
   {
    "duration": 1417,
    "start_time": "2023-11-19T00:44:02.530Z"
   },
   {
    "duration": 5,
    "start_time": "2023-11-19T00:44:05.839Z"
   },
   {
    "duration": 12,
    "start_time": "2023-11-19T00:44:08.275Z"
   },
   {
    "duration": 9,
    "start_time": "2023-11-19T00:45:22.238Z"
   },
   {
    "duration": 13,
    "start_time": "2023-11-19T00:45:34.558Z"
   },
   {
    "duration": 9,
    "start_time": "2023-11-19T00:45:40.575Z"
   },
   {
    "duration": 3,
    "start_time": "2023-11-19T00:50:12.051Z"
   },
   {
    "duration": 125,
    "start_time": "2023-11-19T00:50:12.137Z"
   },
   {
    "duration": 3,
    "start_time": "2023-11-19T00:50:14.371Z"
   },
   {
    "duration": 9,
    "start_time": "2023-11-19T00:50:14.376Z"
   },
   {
    "duration": 9,
    "start_time": "2023-11-19T00:50:16.980Z"
   },
   {
    "duration": 13,
    "start_time": "2023-11-19T00:50:18.124Z"
   },
   {
    "duration": 3,
    "start_time": "2023-11-19T00:51:26.478Z"
   },
   {
    "duration": 116,
    "start_time": "2023-11-19T00:51:26.609Z"
   },
   {
    "duration": 3,
    "start_time": "2023-11-19T00:51:27.647Z"
   },
   {
    "duration": 4,
    "start_time": "2023-11-19T00:51:29.579Z"
   },
   {
    "duration": 9,
    "start_time": "2023-11-19T00:51:30.526Z"
   },
   {
    "duration": 12,
    "start_time": "2023-11-19T00:51:32.144Z"
   },
   {
    "duration": 9,
    "start_time": "2023-11-19T00:54:57.817Z"
   },
   {
    "duration": 10,
    "start_time": "2023-11-19T00:55:06.456Z"
   },
   {
    "duration": 10,
    "start_time": "2023-11-19T00:55:16.514Z"
   },
   {
    "duration": 2,
    "start_time": "2023-11-19T01:13:21.300Z"
   },
   {
    "duration": 115,
    "start_time": "2023-11-19T01:13:21.379Z"
   },
   {
    "duration": 2,
    "start_time": "2023-11-19T01:13:24.061Z"
   },
   {
    "duration": 3,
    "start_time": "2023-11-19T01:13:25.602Z"
   },
   {
    "duration": 5,
    "start_time": "2023-11-19T01:13:28.983Z"
   },
   {
    "duration": 3,
    "start_time": "2023-11-19T01:14:10.140Z"
   },
   {
    "duration": 295,
    "start_time": "2023-11-19T01:14:10.145Z"
   },
   {
    "duration": 3,
    "start_time": "2023-11-19T01:14:10.441Z"
   },
   {
    "duration": 5,
    "start_time": "2023-11-19T01:14:10.446Z"
   },
   {
    "duration": 5,
    "start_time": "2023-11-19T01:14:10.453Z"
   },
   {
    "duration": 2,
    "start_time": "2023-11-19T01:14:19.546Z"
   },
   {
    "duration": 138,
    "start_time": "2023-11-19T01:14:19.550Z"
   },
   {
    "duration": 3,
    "start_time": "2023-11-19T01:14:19.690Z"
   },
   {
    "duration": 7,
    "start_time": "2023-11-19T01:14:19.694Z"
   },
   {
    "duration": 9,
    "start_time": "2023-11-19T01:14:19.703Z"
   },
   {
    "duration": 18,
    "start_time": "2023-11-19T01:14:19.713Z"
   },
   {
    "duration": 2,
    "start_time": "2023-11-19T01:14:36.488Z"
   },
   {
    "duration": 139,
    "start_time": "2023-11-19T01:14:36.492Z"
   },
   {
    "duration": 3,
    "start_time": "2023-11-19T01:14:36.632Z"
   },
   {
    "duration": 17,
    "start_time": "2023-11-19T01:14:36.636Z"
   },
   {
    "duration": 5,
    "start_time": "2023-11-19T01:14:36.655Z"
   },
   {
    "duration": 10,
    "start_time": "2023-11-19T01:14:36.661Z"
   },
   {
    "duration": 13,
    "start_time": "2023-11-19T01:14:36.673Z"
   },
   {
    "duration": 2,
    "start_time": "2023-11-19T01:14:39.705Z"
   },
   {
    "duration": 194,
    "start_time": "2023-11-19T01:14:39.709Z"
   },
   {
    "duration": 3,
    "start_time": "2023-11-19T01:14:39.904Z"
   },
   {
    "duration": 8,
    "start_time": "2023-11-19T01:14:39.908Z"
   },
   {
    "duration": 5,
    "start_time": "2023-11-19T01:14:39.918Z"
   },
   {
    "duration": 22,
    "start_time": "2023-11-19T01:14:39.924Z"
   },
   {
    "duration": 13,
    "start_time": "2023-11-19T01:14:39.948Z"
   },
   {
    "duration": 11,
    "start_time": "2023-11-19T01:14:39.963Z"
   },
   {
    "duration": 42,
    "start_time": "2023-11-19T01:30:55.676Z"
   },
   {
    "duration": 6,
    "start_time": "2023-11-19T01:31:04.924Z"
   },
   {
    "duration": 18,
    "start_time": "2023-11-19T01:31:31.232Z"
   },
   {
    "duration": 10,
    "start_time": "2023-11-19T01:32:03.101Z"
   },
   {
    "duration": 22,
    "start_time": "2023-11-19T01:32:10.105Z"
   },
   {
    "duration": 20,
    "start_time": "2023-11-19T01:32:30.647Z"
   },
   {
    "duration": 7,
    "start_time": "2023-11-19T01:38:07.616Z"
   },
   {
    "duration": 14,
    "start_time": "2023-11-19T01:38:46.619Z"
   },
   {
    "duration": 8,
    "start_time": "2023-11-19T01:39:01.127Z"
   },
   {
    "duration": 7,
    "start_time": "2023-11-19T01:39:04.806Z"
   },
   {
    "duration": 8,
    "start_time": "2023-11-19T01:40:15.323Z"
   },
   {
    "duration": 7,
    "start_time": "2023-11-19T01:40:33.762Z"
   },
   {
    "duration": 10,
    "start_time": "2023-11-19T01:40:39.351Z"
   },
   {
    "duration": 6,
    "start_time": "2023-11-19T01:40:58.399Z"
   },
   {
    "duration": 8,
    "start_time": "2023-11-19T01:41:13.800Z"
   },
   {
    "duration": 20,
    "start_time": "2023-11-19T01:42:48.445Z"
   },
   {
    "duration": 21,
    "start_time": "2023-11-19T01:43:09.571Z"
   },
   {
    "duration": 18,
    "start_time": "2023-11-19T01:43:54.406Z"
   },
   {
    "duration": 5,
    "start_time": "2023-11-19T01:44:57.962Z"
   },
   {
    "duration": 8,
    "start_time": "2023-11-19T01:45:16.318Z"
   },
   {
    "duration": 281,
    "start_time": "2023-11-19T01:47:39.766Z"
   },
   {
    "duration": 5,
    "start_time": "2023-11-19T01:48:32.650Z"
   },
   {
    "duration": 16,
    "start_time": "2023-11-19T01:48:43.150Z"
   },
   {
    "duration": 7,
    "start_time": "2023-11-19T01:59:16.411Z"
   },
   {
    "duration": 2,
    "start_time": "2023-11-19T01:59:30.183Z"
   },
   {
    "duration": 115,
    "start_time": "2023-11-19T01:59:30.271Z"
   },
   {
    "duration": 3,
    "start_time": "2023-11-19T01:59:30.513Z"
   },
   {
    "duration": 4,
    "start_time": "2023-11-19T01:59:30.678Z"
   },
   {
    "duration": 5,
    "start_time": "2023-11-19T01:59:30.761Z"
   },
   {
    "duration": 9,
    "start_time": "2023-11-19T01:59:31.014Z"
   },
   {
    "duration": 13,
    "start_time": "2023-11-19T01:59:31.181Z"
   },
   {
    "duration": 11,
    "start_time": "2023-11-19T01:59:31.350Z"
   },
   {
    "duration": 18,
    "start_time": "2023-11-19T01:59:31.519Z"
   },
   {
    "duration": 11,
    "start_time": "2023-11-19T01:59:31.770Z"
   },
   {
    "duration": 8,
    "start_time": "2023-11-19T01:59:39.907Z"
   },
   {
    "duration": 5,
    "start_time": "2023-11-19T02:01:17.692Z"
   },
   {
    "duration": 8,
    "start_time": "2023-11-19T02:05:04.360Z"
   },
   {
    "duration": 8,
    "start_time": "2023-11-19T02:05:10.206Z"
   },
   {
    "duration": 7,
    "start_time": "2023-11-19T02:05:14.220Z"
   },
   {
    "duration": 8,
    "start_time": "2023-11-19T02:05:18.123Z"
   },
   {
    "duration": 652,
    "start_time": "2023-11-19T02:07:47.788Z"
   },
   {
    "duration": 114,
    "start_time": "2023-11-19T02:07:48.442Z"
   },
   {
    "duration": 2,
    "start_time": "2023-11-19T02:07:48.558Z"
   },
   {
    "duration": 5,
    "start_time": "2023-11-19T02:07:48.562Z"
   },
   {
    "duration": 4,
    "start_time": "2023-11-19T02:07:48.569Z"
   },
   {
    "duration": 10,
    "start_time": "2023-11-19T02:07:48.575Z"
   },
   {
    "duration": 35,
    "start_time": "2023-11-19T02:07:48.586Z"
   },
   {
    "duration": 12,
    "start_time": "2023-11-19T02:07:48.623Z"
   },
   {
    "duration": 18,
    "start_time": "2023-11-19T02:07:48.636Z"
   },
   {
    "duration": 8,
    "start_time": "2023-11-19T02:07:48.656Z"
   },
   {
    "duration": 6,
    "start_time": "2023-11-19T02:07:48.665Z"
   },
   {
    "duration": 351,
    "start_time": "2023-11-19T02:07:48.672Z"
   },
   {
    "duration": 3,
    "start_time": "2023-11-19T02:08:15.959Z"
   },
   {
    "duration": 11,
    "start_time": "2023-11-19T02:08:30.201Z"
   },
   {
    "duration": 3,
    "start_time": "2023-11-19T02:09:41.772Z"
   },
   {
    "duration": 128,
    "start_time": "2023-11-19T02:09:41.855Z"
   },
   {
    "duration": 2,
    "start_time": "2023-11-19T02:09:42.097Z"
   },
   {
    "duration": 3,
    "start_time": "2023-11-19T02:09:42.429Z"
   },
   {
    "duration": 3,
    "start_time": "2023-11-19T02:09:42.449Z"
   },
   {
    "duration": 9,
    "start_time": "2023-11-19T02:09:42.589Z"
   },
   {
    "duration": 12,
    "start_time": "2023-11-19T02:09:43.018Z"
   },
   {
    "duration": 10,
    "start_time": "2023-11-19T02:09:43.034Z"
   },
   {
    "duration": 19,
    "start_time": "2023-11-19T02:09:43.107Z"
   },
   {
    "duration": 9,
    "start_time": "2023-11-19T02:10:13.246Z"
   },
   {
    "duration": 8,
    "start_time": "2023-11-19T02:10:37.015Z"
   },
   {
    "duration": 6,
    "start_time": "2023-11-19T02:10:39.028Z"
   },
   {
    "duration": 571,
    "start_time": "2023-11-19T02:19:25.672Z"
   },
   {
    "duration": 116,
    "start_time": "2023-11-19T02:19:26.245Z"
   },
   {
    "duration": 2,
    "start_time": "2023-11-19T02:19:26.363Z"
   },
   {
    "duration": 5,
    "start_time": "2023-11-19T02:19:26.367Z"
   },
   {
    "duration": 5,
    "start_time": "2023-11-19T02:19:26.374Z"
   },
   {
    "duration": 9,
    "start_time": "2023-11-19T02:19:26.380Z"
   },
   {
    "duration": 13,
    "start_time": "2023-11-19T02:19:26.415Z"
   },
   {
    "duration": 24,
    "start_time": "2023-11-19T02:19:26.430Z"
   },
   {
    "duration": 19,
    "start_time": "2023-11-19T02:19:26.456Z"
   },
   {
    "duration": 9,
    "start_time": "2023-11-19T02:19:26.477Z"
   },
   {
    "duration": 30,
    "start_time": "2023-11-19T02:19:26.488Z"
   },
   {
    "duration": 81,
    "start_time": "2023-11-19T02:19:26.520Z"
   },
   {
    "duration": 15,
    "start_time": "2023-11-19T02:19:38.076Z"
   },
   {
    "duration": 93,
    "start_time": "2023-11-19T02:22:34.620Z"
   },
   {
    "duration": 12,
    "start_time": "2023-11-19T02:22:43.599Z"
   },
   {
    "duration": 1300,
    "start_time": "2023-11-19T02:22:51.791Z"
   },
   {
    "duration": 7,
    "start_time": "2023-11-19T02:23:09.021Z"
   },
   {
    "duration": 19,
    "start_time": "2023-11-19T02:23:30.047Z"
   },
   {
    "duration": 10,
    "start_time": "2023-11-19T02:23:51.377Z"
   },
   {
    "duration": 145,
    "start_time": "2023-11-19T02:24:15.613Z"
   },
   {
    "duration": 212,
    "start_time": "2023-11-19T02:24:35.734Z"
   },
   {
    "duration": 218,
    "start_time": "2023-11-19T02:25:20.228Z"
   },
   {
    "duration": 3,
    "start_time": "2023-11-19T02:25:59.569Z"
   },
   {
    "duration": 119,
    "start_time": "2023-11-19T02:25:59.574Z"
   },
   {
    "duration": 2,
    "start_time": "2023-11-19T02:25:59.695Z"
   },
   {
    "duration": 10,
    "start_time": "2023-11-19T02:25:59.698Z"
   },
   {
    "duration": 6,
    "start_time": "2023-11-19T02:25:59.709Z"
   },
   {
    "duration": 9,
    "start_time": "2023-11-19T02:25:59.716Z"
   },
   {
    "duration": 14,
    "start_time": "2023-11-19T02:25:59.726Z"
   },
   {
    "duration": 10,
    "start_time": "2023-11-19T02:25:59.741Z"
   },
   {
    "duration": 17,
    "start_time": "2023-11-19T02:25:59.754Z"
   },
   {
    "duration": 8,
    "start_time": "2023-11-19T02:25:59.772Z"
   },
   {
    "duration": 37,
    "start_time": "2023-11-19T02:25:59.781Z"
   },
   {
    "duration": 180,
    "start_time": "2023-11-19T02:26:01.804Z"
   },
   {
    "duration": 232,
    "start_time": "2023-11-19T02:26:16.061Z"
   },
   {
    "duration": 177,
    "start_time": "2023-11-19T02:26:21.886Z"
   },
   {
    "duration": 10,
    "start_time": "2023-11-19T02:27:20.853Z"
   },
   {
    "duration": 13,
    "start_time": "2023-11-19T02:27:31.510Z"
   },
   {
    "duration": 14,
    "start_time": "2023-11-19T02:27:49.915Z"
   },
   {
    "duration": 14,
    "start_time": "2023-11-19T02:28:11.520Z"
   },
   {
    "duration": 16,
    "start_time": "2023-11-19T02:28:48.131Z"
   },
   {
    "duration": 10,
    "start_time": "2023-11-19T02:28:52.161Z"
   },
   {
    "duration": 14,
    "start_time": "2023-11-19T02:28:58.816Z"
   },
   {
    "duration": 11,
    "start_time": "2023-11-19T02:29:08.442Z"
   },
   {
    "duration": 10,
    "start_time": "2023-11-19T02:29:13.638Z"
   },
   {
    "duration": 11,
    "start_time": "2023-11-19T02:29:26.355Z"
   },
   {
    "duration": 11,
    "start_time": "2023-11-19T02:29:28.042Z"
   },
   {
    "duration": 9,
    "start_time": "2023-11-19T02:29:32.340Z"
   },
   {
    "duration": 11,
    "start_time": "2023-11-19T02:29:49.916Z"
   },
   {
    "duration": 133,
    "start_time": "2023-11-19T02:30:03.202Z"
   },
   {
    "duration": 159,
    "start_time": "2023-11-19T02:30:29.607Z"
   },
   {
    "duration": 166,
    "start_time": "2023-11-19T02:30:38.132Z"
   },
   {
    "duration": 157,
    "start_time": "2023-11-19T02:30:48.795Z"
   },
   {
    "duration": 161,
    "start_time": "2023-11-19T02:32:02.509Z"
   },
   {
    "duration": 168,
    "start_time": "2023-11-19T02:35:57.819Z"
   },
   {
    "duration": 625,
    "start_time": "2023-11-19T02:36:15.836Z"
   },
   {
    "duration": 126,
    "start_time": "2023-11-19T02:36:16.463Z"
   },
   {
    "duration": 3,
    "start_time": "2023-11-19T02:36:16.590Z"
   },
   {
    "duration": 4,
    "start_time": "2023-11-19T02:36:16.595Z"
   },
   {
    "duration": 4,
    "start_time": "2023-11-19T02:36:16.601Z"
   },
   {
    "duration": 11,
    "start_time": "2023-11-19T02:36:16.607Z"
   },
   {
    "duration": 13,
    "start_time": "2023-11-19T02:36:16.619Z"
   },
   {
    "duration": 14,
    "start_time": "2023-11-19T02:36:16.634Z"
   },
   {
    "duration": 18,
    "start_time": "2023-11-19T02:36:16.649Z"
   },
   {
    "duration": 15,
    "start_time": "2023-11-19T02:36:16.669Z"
   },
   {
    "duration": 31,
    "start_time": "2023-11-19T02:36:16.686Z"
   },
   {
    "duration": 199,
    "start_time": "2023-11-19T02:36:16.719Z"
   },
   {
    "duration": 4,
    "start_time": "2023-11-19T02:36:16.920Z"
   },
   {
    "duration": 72,
    "start_time": "2023-11-19T02:39:57.841Z"
   },
   {
    "duration": 15,
    "start_time": "2023-11-19T02:40:04.165Z"
   },
   {
    "duration": 127,
    "start_time": "2023-11-19T02:40:07.572Z"
   },
   {
    "duration": 15,
    "start_time": "2023-11-19T02:40:25.188Z"
   },
   {
    "duration": 15,
    "start_time": "2023-11-19T02:41:11.637Z"
   },
   {
    "duration": 10,
    "start_time": "2023-11-19T02:41:29.269Z"
   },
   {
    "duration": 851,
    "start_time": "2023-11-19T17:35:05.632Z"
   },
   {
    "duration": 264,
    "start_time": "2023-11-19T17:35:06.485Z"
   },
   {
    "duration": 3,
    "start_time": "2023-11-19T17:35:06.750Z"
   },
   {
    "duration": 44,
    "start_time": "2023-11-19T17:35:06.754Z"
   },
   {
    "duration": 49,
    "start_time": "2023-11-19T17:35:06.800Z"
   },
   {
    "duration": 20,
    "start_time": "2023-11-19T17:35:06.851Z"
   },
   {
    "duration": 68,
    "start_time": "2023-11-19T17:35:06.873Z"
   },
   {
    "duration": 16,
    "start_time": "2023-11-19T17:35:06.943Z"
   },
   {
    "duration": 21,
    "start_time": "2023-11-19T17:35:06.961Z"
   },
   {
    "duration": 7,
    "start_time": "2023-11-19T17:35:06.984Z"
   },
   {
    "duration": 8,
    "start_time": "2023-11-19T17:35:06.993Z"
   },
   {
    "duration": 230,
    "start_time": "2023-11-19T17:35:07.002Z"
   },
   {
    "duration": 92,
    "start_time": "2023-11-19T17:35:07.233Z"
   },
   {
    "duration": 12,
    "start_time": "2023-11-19T17:38:01.169Z"
   },
   {
    "duration": 2,
    "start_time": "2023-11-19T17:44:03.501Z"
   },
   {
    "duration": 126,
    "start_time": "2023-11-19T17:44:03.589Z"
   },
   {
    "duration": 3,
    "start_time": "2023-11-19T17:44:03.828Z"
   },
   {
    "duration": 4,
    "start_time": "2023-11-19T17:44:03.993Z"
   },
   {
    "duration": 5,
    "start_time": "2023-11-19T17:44:04.078Z"
   },
   {
    "duration": 9,
    "start_time": "2023-11-19T17:44:05.129Z"
   },
   {
    "duration": 12,
    "start_time": "2023-11-19T17:44:07.087Z"
   },
   {
    "duration": 11,
    "start_time": "2023-11-19T17:44:07.696Z"
   },
   {
    "duration": 19,
    "start_time": "2023-11-19T17:44:10.164Z"
   },
   {
    "duration": 10,
    "start_time": "2023-11-19T17:44:13.830Z"
   },
   {
    "duration": 6,
    "start_time": "2023-11-19T17:44:17.579Z"
   },
   {
    "duration": 12,
    "start_time": "2023-11-19T17:45:26.723Z"
   },
   {
    "duration": 13,
    "start_time": "2023-11-19T17:46:35.341Z"
   },
   {
    "duration": 171,
    "start_time": "2023-11-19T17:49:25.032Z"
   },
   {
    "duration": 190,
    "start_time": "2023-11-19T17:52:12.513Z"
   },
   {
    "duration": 113,
    "start_time": "2023-11-19T17:53:30.887Z"
   },
   {
    "duration": 235,
    "start_time": "2023-11-19T17:53:47.283Z"
   },
   {
    "duration": 158,
    "start_time": "2023-11-19T17:54:26.151Z"
   },
   {
    "duration": 156,
    "start_time": "2023-11-19T17:54:44.889Z"
   },
   {
    "duration": 164,
    "start_time": "2023-11-19T17:55:18.147Z"
   },
   {
    "duration": 156,
    "start_time": "2023-11-19T17:55:39.696Z"
   },
   {
    "duration": 172,
    "start_time": "2023-11-19T17:55:43.329Z"
   },
   {
    "duration": 161,
    "start_time": "2023-11-19T17:55:48.215Z"
   },
   {
    "duration": 12,
    "start_time": "2023-11-19T18:08:21.970Z"
   },
   {
    "duration": 3,
    "start_time": "2023-11-19T18:08:56.476Z"
   },
   {
    "duration": 126,
    "start_time": "2023-11-19T18:08:56.570Z"
   },
   {
    "duration": 2,
    "start_time": "2023-11-19T18:08:56.812Z"
   },
   {
    "duration": 4,
    "start_time": "2023-11-19T18:08:56.979Z"
   },
   {
    "duration": 6,
    "start_time": "2023-11-19T18:08:57.064Z"
   },
   {
    "duration": 9,
    "start_time": "2023-11-19T18:08:57.320Z"
   },
   {
    "duration": 14,
    "start_time": "2023-11-19T18:08:57.484Z"
   },
   {
    "duration": 19,
    "start_time": "2023-11-19T18:08:57.651Z"
   },
   {
    "duration": 23,
    "start_time": "2023-11-19T18:08:57.820Z"
   },
   {
    "duration": 12,
    "start_time": "2023-11-19T18:08:58.073Z"
   },
   {
    "duration": 5,
    "start_time": "2023-11-19T18:08:58.242Z"
   },
   {
    "duration": 13,
    "start_time": "2023-11-19T18:08:58.406Z"
   },
   {
    "duration": 165,
    "start_time": "2023-11-19T18:08:58.576Z"
   },
   {
    "duration": 8,
    "start_time": "2023-11-19T18:08:58.744Z"
   },
   {
    "duration": 21,
    "start_time": "2023-11-19T18:09:10.953Z"
   },
   {
    "duration": 12,
    "start_time": "2023-11-19T18:09:21.557Z"
   },
   {
    "duration": 11,
    "start_time": "2023-11-19T18:11:31.225Z"
   },
   {
    "duration": 8,
    "start_time": "2023-11-19T18:11:52.385Z"
   },
   {
    "duration": 2,
    "start_time": "2023-11-19T18:11:57.876Z"
   },
   {
    "duration": 132,
    "start_time": "2023-11-19T18:11:57.972Z"
   },
   {
    "duration": 2,
    "start_time": "2023-11-19T18:11:58.210Z"
   },
   {
    "duration": 3,
    "start_time": "2023-11-19T18:11:58.375Z"
   },
   {
    "duration": 6,
    "start_time": "2023-11-19T18:11:58.466Z"
   },
   {
    "duration": 9,
    "start_time": "2023-11-19T18:11:58.723Z"
   },
   {
    "duration": 13,
    "start_time": "2023-11-19T18:11:58.877Z"
   },
   {
    "duration": 14,
    "start_time": "2023-11-19T18:11:59.079Z"
   },
   {
    "duration": 18,
    "start_time": "2023-11-19T18:11:59.217Z"
   },
   {
    "duration": 9,
    "start_time": "2023-11-19T18:12:00.898Z"
   },
   {
    "duration": 6,
    "start_time": "2023-11-19T18:12:02.151Z"
   },
   {
    "duration": 19,
    "start_time": "2023-11-19T18:12:03.759Z"
   },
   {
    "duration": 166,
    "start_time": "2023-11-19T18:12:06.018Z"
   },
   {
    "duration": 8,
    "start_time": "2023-11-19T18:12:09.414Z"
   },
   {
    "duration": 655,
    "start_time": "2023-11-19T18:16:10.968Z"
   },
   {
    "duration": 126,
    "start_time": "2023-11-19T18:16:11.625Z"
   },
   {
    "duration": 4,
    "start_time": "2023-11-19T18:16:11.753Z"
   },
   {
    "duration": 29,
    "start_time": "2023-11-19T18:16:11.759Z"
   },
   {
    "duration": 15,
    "start_time": "2023-11-19T18:16:11.791Z"
   },
   {
    "duration": 23,
    "start_time": "2023-11-19T18:16:11.808Z"
   },
   {
    "duration": 19,
    "start_time": "2023-11-19T18:16:11.833Z"
   },
   {
    "duration": 21,
    "start_time": "2023-11-19T18:16:11.854Z"
   },
   {
    "duration": 53,
    "start_time": "2023-11-19T18:16:11.876Z"
   },
   {
    "duration": 16,
    "start_time": "2023-11-19T18:16:11.931Z"
   },
   {
    "duration": 10,
    "start_time": "2023-11-19T18:16:11.948Z"
   },
   {
    "duration": 41,
    "start_time": "2023-11-19T18:16:11.960Z"
   },
   {
    "duration": 192,
    "start_time": "2023-11-19T18:16:12.003Z"
   },
   {
    "duration": 7,
    "start_time": "2023-11-19T18:16:12.198Z"
   },
   {
    "duration": 9,
    "start_time": "2023-11-19T18:16:12.206Z"
   },
   {
    "duration": 7,
    "start_time": "2023-11-19T18:26:18.023Z"
   },
   {
    "duration": 7,
    "start_time": "2023-11-19T18:26:20.841Z"
   },
   {
    "duration": 9,
    "start_time": "2023-11-19T18:35:12.383Z"
   },
   {
    "duration": 7,
    "start_time": "2023-11-19T18:36:00.899Z"
   },
   {
    "duration": 7,
    "start_time": "2023-11-19T18:44:06.170Z"
   },
   {
    "duration": 9,
    "start_time": "2023-11-19T18:44:11.021Z"
   },
   {
    "duration": 640,
    "start_time": "2023-11-19T18:44:39.374Z"
   },
   {
    "duration": 133,
    "start_time": "2023-11-19T18:44:40.016Z"
   },
   {
    "duration": 2,
    "start_time": "2023-11-19T18:44:40.151Z"
   },
   {
    "duration": 23,
    "start_time": "2023-11-19T18:44:40.167Z"
   },
   {
    "duration": 7,
    "start_time": "2023-11-19T18:44:40.191Z"
   },
   {
    "duration": 26,
    "start_time": "2023-11-19T18:44:40.199Z"
   },
   {
    "duration": 21,
    "start_time": "2023-11-19T18:44:40.226Z"
   },
   {
    "duration": 12,
    "start_time": "2023-11-19T18:44:40.249Z"
   },
   {
    "duration": 39,
    "start_time": "2023-11-19T18:44:40.263Z"
   },
   {
    "duration": 10,
    "start_time": "2023-11-19T18:44:40.304Z"
   },
   {
    "duration": 16,
    "start_time": "2023-11-19T18:44:40.315Z"
   },
   {
    "duration": 48,
    "start_time": "2023-11-19T18:44:40.333Z"
   },
   {
    "duration": 196,
    "start_time": "2023-11-19T18:44:40.383Z"
   },
   {
    "duration": 8,
    "start_time": "2023-11-19T18:44:40.582Z"
   },
   {
    "duration": 16,
    "start_time": "2023-11-19T18:44:40.592Z"
   },
   {
    "duration": 6,
    "start_time": "2023-11-19T18:44:40.609Z"
   },
   {
    "duration": 9,
    "start_time": "2023-11-19T18:44:40.616Z"
   },
   {
    "duration": 22,
    "start_time": "2023-11-19T18:44:40.626Z"
   },
   {
    "duration": 621,
    "start_time": "2023-11-19T18:45:58.173Z"
   },
   {
    "duration": 136,
    "start_time": "2023-11-19T18:45:58.796Z"
   },
   {
    "duration": 2,
    "start_time": "2023-11-19T18:45:58.934Z"
   },
   {
    "duration": 7,
    "start_time": "2023-11-19T18:45:58.937Z"
   },
   {
    "duration": 5,
    "start_time": "2023-11-19T18:45:58.945Z"
   },
   {
    "duration": 15,
    "start_time": "2023-11-19T18:45:58.951Z"
   },
   {
    "duration": 14,
    "start_time": "2023-11-19T18:45:58.968Z"
   },
   {
    "duration": 15,
    "start_time": "2023-11-19T18:45:58.983Z"
   },
   {
    "duration": 7,
    "start_time": "2023-11-19T18:45:59.000Z"
   },
   {
    "duration": 10,
    "start_time": "2023-11-19T18:45:59.009Z"
   },
   {
    "duration": 11,
    "start_time": "2023-11-19T18:45:59.020Z"
   },
   {
    "duration": 28,
    "start_time": "2023-11-19T18:45:59.033Z"
   },
   {
    "duration": 215,
    "start_time": "2023-11-19T18:45:59.063Z"
   },
   {
    "duration": 8,
    "start_time": "2023-11-19T18:45:59.280Z"
   },
   {
    "duration": 10,
    "start_time": "2023-11-19T18:45:59.289Z"
   },
   {
    "duration": 6,
    "start_time": "2023-11-19T18:45:59.300Z"
   },
   {
    "duration": 12,
    "start_time": "2023-11-19T18:45:59.307Z"
   },
   {
    "duration": 22,
    "start_time": "2023-11-19T18:45:59.321Z"
   },
   {
    "duration": 2,
    "start_time": "2023-11-19T18:47:16.198Z"
   },
   {
    "duration": 16,
    "start_time": "2023-11-19T18:48:00.026Z"
   },
   {
    "duration": 4,
    "start_time": "2023-11-19T18:53:32.597Z"
   },
   {
    "duration": 7,
    "start_time": "2023-11-19T18:53:59.039Z"
   },
   {
    "duration": 4,
    "start_time": "2023-11-19T18:54:06.205Z"
   },
   {
    "duration": 8,
    "start_time": "2023-11-19T18:54:30.153Z"
   },
   {
    "duration": 6,
    "start_time": "2023-11-19T18:54:40.229Z"
   },
   {
    "duration": 13,
    "start_time": "2023-11-19T18:55:29.955Z"
   },
   {
    "duration": 7,
    "start_time": "2023-11-19T18:55:41.621Z"
   },
   {
    "duration": 653,
    "start_time": "2023-11-19T18:55:49.449Z"
   },
   {
    "duration": 133,
    "start_time": "2023-11-19T18:55:50.104Z"
   },
   {
    "duration": 3,
    "start_time": "2023-11-19T18:55:50.239Z"
   },
   {
    "duration": 8,
    "start_time": "2023-11-19T18:55:50.244Z"
   },
   {
    "duration": 6,
    "start_time": "2023-11-19T18:55:50.253Z"
   },
   {
    "duration": 12,
    "start_time": "2023-11-19T18:55:50.261Z"
   },
   {
    "duration": 11,
    "start_time": "2023-11-19T18:55:50.274Z"
   },
   {
    "duration": 15,
    "start_time": "2023-11-19T18:55:50.287Z"
   },
   {
    "duration": 7,
    "start_time": "2023-11-19T18:55:50.304Z"
   },
   {
    "duration": 20,
    "start_time": "2023-11-19T18:55:50.312Z"
   },
   {
    "duration": 24,
    "start_time": "2023-11-19T18:55:50.333Z"
   },
   {
    "duration": 21,
    "start_time": "2023-11-19T18:55:50.358Z"
   },
   {
    "duration": 191,
    "start_time": "2023-11-19T18:55:50.381Z"
   },
   {
    "duration": 7,
    "start_time": "2023-11-19T18:55:50.574Z"
   },
   {
    "duration": 26,
    "start_time": "2023-11-19T18:55:50.583Z"
   },
   {
    "duration": 24,
    "start_time": "2023-11-19T18:55:50.611Z"
   },
   {
    "duration": 10,
    "start_time": "2023-11-19T18:55:50.636Z"
   },
   {
    "duration": 8,
    "start_time": "2023-11-19T18:55:50.647Z"
   },
   {
    "duration": 20,
    "start_time": "2023-11-19T18:55:50.657Z"
   },
   {
    "duration": 4,
    "start_time": "2023-11-19T18:55:50.678Z"
   },
   {
    "duration": 7,
    "start_time": "2023-11-19T18:55:50.683Z"
   },
   {
    "duration": 4,
    "start_time": "2023-11-19T18:56:16.734Z"
   },
   {
    "duration": 6,
    "start_time": "2023-11-19T18:57:05.108Z"
   },
   {
    "duration": 8,
    "start_time": "2023-11-19T18:57:28.093Z"
   },
   {
    "duration": 6,
    "start_time": "2023-11-19T18:58:43.044Z"
   },
   {
    "duration": 6,
    "start_time": "2023-11-19T18:58:49.943Z"
   },
   {
    "duration": 15,
    "start_time": "2023-11-19T18:58:59.821Z"
   },
   {
    "duration": 8,
    "start_time": "2023-11-19T19:02:01.666Z"
   },
   {
    "duration": 144,
    "start_time": "2023-11-19T19:02:17.555Z"
   },
   {
    "duration": 281,
    "start_time": "2023-11-19T19:02:22.900Z"
   },
   {
    "duration": 205,
    "start_time": "2023-11-19T19:02:49.483Z"
   },
   {
    "duration": 293,
    "start_time": "2023-11-19T19:03:15.432Z"
   },
   {
    "duration": 7,
    "start_time": "2023-11-19T19:03:32.199Z"
   },
   {
    "duration": 272,
    "start_time": "2023-11-19T19:03:38.476Z"
   },
   {
    "duration": 279,
    "start_time": "2023-11-19T19:03:44.335Z"
   },
   {
    "duration": 285,
    "start_time": "2023-11-19T19:03:57.214Z"
   },
   {
    "duration": 270,
    "start_time": "2023-11-19T19:04:06.080Z"
   },
   {
    "duration": 351,
    "start_time": "2023-11-19T19:04:55.684Z"
   },
   {
    "duration": 94,
    "start_time": "2023-11-19T19:05:16.229Z"
   },
   {
    "duration": 284,
    "start_time": "2023-11-19T19:05:20.964Z"
   },
   {
    "duration": 293,
    "start_time": "2023-11-19T19:05:55.324Z"
   },
   {
    "duration": 291,
    "start_time": "2023-11-19T19:06:46.693Z"
   },
   {
    "duration": 801,
    "start_time": "2023-11-19T20:39:54.090Z"
   },
   {
    "duration": 183,
    "start_time": "2023-11-19T20:39:54.893Z"
   },
   {
    "duration": 3,
    "start_time": "2023-11-19T20:39:55.077Z"
   },
   {
    "duration": 6,
    "start_time": "2023-11-19T20:39:55.082Z"
   },
   {
    "duration": 6,
    "start_time": "2023-11-19T20:39:55.090Z"
   },
   {
    "duration": 12,
    "start_time": "2023-11-19T20:39:55.098Z"
   },
   {
    "duration": 44,
    "start_time": "2023-11-19T20:39:55.111Z"
   },
   {
    "duration": 14,
    "start_time": "2023-11-19T20:39:55.157Z"
   },
   {
    "duration": 8,
    "start_time": "2023-11-19T20:39:55.172Z"
   },
   {
    "duration": 10,
    "start_time": "2023-11-19T20:39:55.182Z"
   },
   {
    "duration": 8,
    "start_time": "2023-11-19T20:39:55.193Z"
   },
   {
    "duration": 48,
    "start_time": "2023-11-19T20:39:55.203Z"
   },
   {
    "duration": 204,
    "start_time": "2023-11-19T20:39:55.253Z"
   },
   {
    "duration": 11,
    "start_time": "2023-11-19T20:39:55.459Z"
   },
   {
    "duration": 10,
    "start_time": "2023-11-19T20:39:55.472Z"
   },
   {
    "duration": 7,
    "start_time": "2023-11-19T20:39:55.484Z"
   },
   {
    "duration": 10,
    "start_time": "2023-11-19T20:39:55.492Z"
   },
   {
    "duration": 53,
    "start_time": "2023-11-19T20:39:55.504Z"
   },
   {
    "duration": 19,
    "start_time": "2023-11-19T20:39:55.559Z"
   },
   {
    "duration": 11,
    "start_time": "2023-11-19T20:39:55.581Z"
   },
   {
    "duration": 16,
    "start_time": "2023-11-19T20:39:55.593Z"
   },
   {
    "duration": 368,
    "start_time": "2023-11-19T20:39:55.611Z"
   },
   {
    "duration": 3,
    "start_time": "2023-11-19T21:19:44.725Z"
   },
   {
    "duration": 121,
    "start_time": "2023-11-19T21:19:44.799Z"
   },
   {
    "duration": 3,
    "start_time": "2023-11-19T21:19:45.053Z"
   },
   {
    "duration": 5,
    "start_time": "2023-11-19T21:19:46.808Z"
   },
   {
    "duration": 5,
    "start_time": "2023-11-19T21:19:48.377Z"
   },
   {
    "duration": 10,
    "start_time": "2023-11-19T21:19:49.627Z"
   },
   {
    "duration": 15,
    "start_time": "2023-11-19T21:19:49.804Z"
   },
   {
    "duration": 13,
    "start_time": "2023-11-19T21:19:50.421Z"
   },
   {
    "duration": 8,
    "start_time": "2023-11-19T21:19:51.016Z"
   },
   {
    "duration": 9,
    "start_time": "2023-11-19T21:19:51.976Z"
   },
   {
    "duration": 7,
    "start_time": "2023-11-19T21:19:52.395Z"
   },
   {
    "duration": 15,
    "start_time": "2023-11-19T21:19:54.313Z"
   },
   {
    "duration": 192,
    "start_time": "2023-11-19T21:19:55.381Z"
   },
   {
    "duration": 9,
    "start_time": "2023-11-19T21:19:57.434Z"
   },
   {
    "duration": 9,
    "start_time": "2023-11-19T21:19:57.987Z"
   },
   {
    "duration": 6,
    "start_time": "2023-11-19T21:19:58.166Z"
   },
   {
    "duration": 8,
    "start_time": "2023-11-19T21:20:00.219Z"
   },
   {
    "duration": 12,
    "start_time": "2023-11-19T21:20:00.669Z"
   },
   {
    "duration": 17,
    "start_time": "2023-11-19T21:20:12.627Z"
   },
   {
    "duration": 96,
    "start_time": "2023-11-19T21:20:58.823Z"
   },
   {
    "duration": 8,
    "start_time": "2023-11-19T21:21:07.000Z"
   },
   {
    "duration": 15,
    "start_time": "2023-11-19T21:22:24.741Z"
   },
   {
    "duration": 13,
    "start_time": "2023-11-19T21:22:33.404Z"
   },
   {
    "duration": 13,
    "start_time": "2023-11-19T21:22:42.399Z"
   },
   {
    "duration": 26,
    "start_time": "2023-11-19T21:22:54.090Z"
   },
   {
    "duration": 17,
    "start_time": "2023-11-19T21:23:57.775Z"
   },
   {
    "duration": 2,
    "start_time": "2023-11-19T21:24:33.659Z"
   },
   {
    "duration": 695,
    "start_time": "2023-11-19T21:24:46.629Z"
   },
   {
    "duration": 141,
    "start_time": "2023-11-19T21:24:47.326Z"
   },
   {
    "duration": 3,
    "start_time": "2023-11-19T21:24:47.469Z"
   },
   {
    "duration": 36,
    "start_time": "2023-11-19T21:24:47.473Z"
   },
   {
    "duration": 27,
    "start_time": "2023-11-19T21:24:47.511Z"
   },
   {
    "duration": 50,
    "start_time": "2023-11-19T21:24:47.540Z"
   },
   {
    "duration": 15,
    "start_time": "2023-11-19T21:24:47.592Z"
   },
   {
    "duration": 26,
    "start_time": "2023-11-19T21:24:47.609Z"
   },
   {
    "duration": 9,
    "start_time": "2023-11-19T21:24:47.637Z"
   },
   {
    "duration": 36,
    "start_time": "2023-11-19T21:24:47.647Z"
   },
   {
    "duration": 7,
    "start_time": "2023-11-19T21:24:47.685Z"
   },
   {
    "duration": 15,
    "start_time": "2023-11-19T21:24:47.694Z"
   },
   {
    "duration": 194,
    "start_time": "2023-11-19T21:24:47.711Z"
   },
   {
    "duration": 10,
    "start_time": "2023-11-19T21:24:47.908Z"
   },
   {
    "duration": 30,
    "start_time": "2023-11-19T21:24:47.920Z"
   },
   {
    "duration": 7,
    "start_time": "2023-11-19T21:24:47.951Z"
   },
   {
    "duration": 8,
    "start_time": "2023-11-19T21:24:47.960Z"
   },
   {
    "duration": 10,
    "start_time": "2023-11-19T21:24:47.969Z"
   },
   {
    "duration": 18,
    "start_time": "2023-11-19T21:24:47.980Z"
   },
   {
    "duration": 10,
    "start_time": "2023-11-19T21:24:48.000Z"
   },
   {
    "duration": 18,
    "start_time": "2023-11-19T21:24:48.046Z"
   },
   {
    "duration": 17,
    "start_time": "2023-11-19T21:24:48.066Z"
   },
   {
    "duration": 340,
    "start_time": "2023-11-19T21:24:48.085Z"
   },
   {
    "duration": 678,
    "start_time": "2023-11-19T21:27:05.454Z"
   },
   {
    "duration": 130,
    "start_time": "2023-11-19T21:27:06.134Z"
   },
   {
    "duration": 3,
    "start_time": "2023-11-19T21:27:06.265Z"
   },
   {
    "duration": 17,
    "start_time": "2023-11-19T21:27:06.270Z"
   },
   {
    "duration": 13,
    "start_time": "2023-11-19T21:27:06.289Z"
   },
   {
    "duration": 33,
    "start_time": "2023-11-19T21:27:06.303Z"
   },
   {
    "duration": 41,
    "start_time": "2023-11-19T21:27:06.337Z"
   },
   {
    "duration": 16,
    "start_time": "2023-11-19T21:27:06.380Z"
   },
   {
    "duration": 9,
    "start_time": "2023-11-19T21:27:06.397Z"
   },
   {
    "duration": 11,
    "start_time": "2023-11-19T21:27:06.408Z"
   },
   {
    "duration": 8,
    "start_time": "2023-11-19T21:27:06.420Z"
   },
   {
    "duration": 29,
    "start_time": "2023-11-19T21:27:06.429Z"
   },
   {
    "duration": 210,
    "start_time": "2023-11-19T21:27:06.460Z"
   },
   {
    "duration": 11,
    "start_time": "2023-11-19T21:27:06.674Z"
   },
   {
    "duration": 11,
    "start_time": "2023-11-19T21:27:06.688Z"
   },
   {
    "duration": 9,
    "start_time": "2023-11-19T21:27:06.701Z"
   },
   {
    "duration": 41,
    "start_time": "2023-11-19T21:27:06.712Z"
   },
   {
    "duration": 20,
    "start_time": "2023-11-19T21:27:06.755Z"
   },
   {
    "duration": 18,
    "start_time": "2023-11-19T21:27:06.777Z"
   },
   {
    "duration": 11,
    "start_time": "2023-11-19T21:27:06.796Z"
   },
   {
    "duration": 40,
    "start_time": "2023-11-19T21:27:06.809Z"
   },
   {
    "duration": 16,
    "start_time": "2023-11-19T21:27:06.851Z"
   },
   {
    "duration": 349,
    "start_time": "2023-11-19T21:27:06.869Z"
   },
   {
    "duration": 759,
    "start_time": "2023-11-19T21:33:44.714Z"
   },
   {
    "duration": 134,
    "start_time": "2023-11-19T21:33:45.475Z"
   },
   {
    "duration": 4,
    "start_time": "2023-11-19T21:33:45.611Z"
   },
   {
    "duration": 12,
    "start_time": "2023-11-19T21:33:45.619Z"
   },
   {
    "duration": 23,
    "start_time": "2023-11-19T21:33:45.633Z"
   },
   {
    "duration": 13,
    "start_time": "2023-11-19T21:33:45.658Z"
   },
   {
    "duration": 20,
    "start_time": "2023-11-19T21:33:45.673Z"
   },
   {
    "duration": 17,
    "start_time": "2023-11-19T21:33:45.695Z"
   },
   {
    "duration": 35,
    "start_time": "2023-11-19T21:33:45.714Z"
   },
   {
    "duration": 10,
    "start_time": "2023-11-19T21:33:45.753Z"
   },
   {
    "duration": 11,
    "start_time": "2023-11-19T21:33:45.765Z"
   },
   {
    "duration": 21,
    "start_time": "2023-11-19T21:33:45.778Z"
   },
   {
    "duration": 239,
    "start_time": "2023-11-19T21:33:45.801Z"
   },
   {
    "duration": 11,
    "start_time": "2023-11-19T21:33:46.047Z"
   },
   {
    "duration": 10,
    "start_time": "2023-11-19T21:33:46.060Z"
   },
   {
    "duration": 9,
    "start_time": "2023-11-19T21:33:46.072Z"
   },
   {
    "duration": 8,
    "start_time": "2023-11-19T21:33:46.083Z"
   },
   {
    "duration": 10,
    "start_time": "2023-11-19T21:33:46.093Z"
   },
   {
    "duration": 20,
    "start_time": "2023-11-19T21:33:46.147Z"
   },
   {
    "duration": 12,
    "start_time": "2023-11-19T21:33:46.168Z"
   },
   {
    "duration": 18,
    "start_time": "2023-11-19T21:33:46.181Z"
   },
   {
    "duration": 53,
    "start_time": "2023-11-19T21:33:46.201Z"
   },
   {
    "duration": 339,
    "start_time": "2023-11-19T21:33:46.256Z"
   },
   {
    "duration": 8,
    "start_time": "2023-11-19T21:33:46.597Z"
   },
   {
    "duration": 9,
    "start_time": "2023-11-19T21:33:59.401Z"
   },
   {
    "duration": 25,
    "start_time": "2023-11-19T21:34:04.504Z"
   },
   {
    "duration": 8,
    "start_time": "2023-11-19T21:34:27.394Z"
   },
   {
    "duration": 8,
    "start_time": "2023-11-19T21:34:34.089Z"
   },
   {
    "duration": 9,
    "start_time": "2023-11-19T21:34:37.178Z"
   },
   {
    "duration": 82,
    "start_time": "2023-11-19T21:37:46.761Z"
   },
   {
    "duration": 12,
    "start_time": "2023-11-19T21:37:53.364Z"
   },
   {
    "duration": 12,
    "start_time": "2023-11-19T21:37:58.755Z"
   },
   {
    "duration": 11,
    "start_time": "2023-11-19T21:38:23.649Z"
   },
   {
    "duration": 8,
    "start_time": "2023-11-19T21:38:27.287Z"
   },
   {
    "duration": 691,
    "start_time": "2023-11-19T22:07:32.615Z"
   },
   {
    "duration": 180,
    "start_time": "2023-11-19T22:07:33.308Z"
   },
   {
    "duration": 2,
    "start_time": "2023-11-19T22:07:33.491Z"
   },
   {
    "duration": 18,
    "start_time": "2023-11-19T22:07:33.495Z"
   },
   {
    "duration": 17,
    "start_time": "2023-11-19T22:07:33.515Z"
   },
   {
    "duration": 15,
    "start_time": "2023-11-19T22:07:33.534Z"
   },
   {
    "duration": 15,
    "start_time": "2023-11-19T22:07:33.551Z"
   },
   {
    "duration": 27,
    "start_time": "2023-11-19T22:07:33.568Z"
   },
   {
    "duration": 8,
    "start_time": "2023-11-19T22:07:33.596Z"
   },
   {
    "duration": 8,
    "start_time": "2023-11-19T22:07:33.606Z"
   },
   {
    "duration": 9,
    "start_time": "2023-11-19T22:07:33.616Z"
   },
   {
    "duration": 16,
    "start_time": "2023-11-19T22:07:33.647Z"
   },
   {
    "duration": 203,
    "start_time": "2023-11-19T22:07:33.665Z"
   },
   {
    "duration": 10,
    "start_time": "2023-11-19T22:07:33.869Z"
   },
   {
    "duration": 10,
    "start_time": "2023-11-19T22:07:33.880Z"
   },
   {
    "duration": 11,
    "start_time": "2023-11-19T22:07:33.891Z"
   },
   {
    "duration": 9,
    "start_time": "2023-11-19T22:07:33.904Z"
   },
   {
    "duration": 39,
    "start_time": "2023-11-19T22:07:33.914Z"
   },
   {
    "duration": 18,
    "start_time": "2023-11-19T22:07:33.955Z"
   },
   {
    "duration": 11,
    "start_time": "2023-11-19T22:07:33.974Z"
   },
   {
    "duration": 17,
    "start_time": "2023-11-19T22:07:33.986Z"
   },
   {
    "duration": 52,
    "start_time": "2023-11-19T22:07:34.005Z"
   },
   {
    "duration": 323,
    "start_time": "2023-11-19T22:07:34.058Z"
   },
   {
    "duration": 8,
    "start_time": "2023-11-19T22:07:34.382Z"
   },
   {
    "duration": 10,
    "start_time": "2023-11-19T22:08:59.300Z"
   },
   {
    "duration": 2,
    "start_time": "2023-11-19T22:16:32.982Z"
   },
   {
    "duration": 505,
    "start_time": "2023-11-19T22:17:29.172Z"
   },
   {
    "duration": 3,
    "start_time": "2023-11-19T22:22:01.640Z"
   },
   {
    "duration": 3,
    "start_time": "2023-11-19T22:22:18.673Z"
   },
   {
    "duration": 135,
    "start_time": "2023-11-19T22:22:18.678Z"
   },
   {
    "duration": 3,
    "start_time": "2023-11-19T22:22:18.814Z"
   },
   {
    "duration": 8,
    "start_time": "2023-11-19T22:22:18.819Z"
   },
   {
    "duration": 8,
    "start_time": "2023-11-19T22:22:18.829Z"
   },
   {
    "duration": 26,
    "start_time": "2023-11-19T22:22:18.839Z"
   },
   {
    "duration": 14,
    "start_time": "2023-11-19T22:22:18.867Z"
   },
   {
    "duration": 14,
    "start_time": "2023-11-19T22:22:18.883Z"
   },
   {
    "duration": 11,
    "start_time": "2023-11-19T22:22:18.899Z"
   },
   {
    "duration": 36,
    "start_time": "2023-11-19T22:22:18.912Z"
   },
   {
    "duration": 7,
    "start_time": "2023-11-19T22:22:18.950Z"
   },
   {
    "duration": 16,
    "start_time": "2023-11-19T22:22:18.959Z"
   },
   {
    "duration": 207,
    "start_time": "2023-11-19T22:22:18.979Z"
   },
   {
    "duration": 10,
    "start_time": "2023-11-19T22:22:19.188Z"
   },
   {
    "duration": 11,
    "start_time": "2023-11-19T22:22:19.200Z"
   },
   {
    "duration": 36,
    "start_time": "2023-11-19T22:22:19.212Z"
   },
   {
    "duration": 8,
    "start_time": "2023-11-19T22:22:19.250Z"
   },
   {
    "duration": 11,
    "start_time": "2023-11-19T22:22:19.260Z"
   },
   {
    "duration": 18,
    "start_time": "2023-11-19T22:22:19.273Z"
   },
   {
    "duration": 10,
    "start_time": "2023-11-19T22:22:19.293Z"
   },
   {
    "duration": 55,
    "start_time": "2023-11-19T22:22:19.305Z"
   },
   {
    "duration": 17,
    "start_time": "2023-11-19T22:22:19.362Z"
   },
   {
    "duration": 320,
    "start_time": "2023-11-19T22:22:19.380Z"
   },
   {
    "duration": 7,
    "start_time": "2023-11-19T22:24:36.665Z"
   },
   {
    "duration": 10,
    "start_time": "2023-11-19T22:24:44.390Z"
   },
   {
    "duration": 2185,
    "start_time": "2023-11-19T22:25:04.365Z"
   },
   {
    "duration": 16,
    "start_time": "2023-11-19T22:25:17.543Z"
   },
   {
    "duration": 9,
    "start_time": "2023-11-19T22:25:24.570Z"
   },
   {
    "duration": 10,
    "start_time": "2023-11-19T22:25:27.206Z"
   },
   {
    "duration": 15,
    "start_time": "2023-11-19T22:25:35.876Z"
   },
   {
    "duration": 8,
    "start_time": "2023-11-19T22:30:08.600Z"
   },
   {
    "duration": 122,
    "start_time": "2023-11-19T22:31:12.154Z"
   },
   {
    "duration": 9,
    "start_time": "2023-11-19T22:31:21.725Z"
   },
   {
    "duration": 10,
    "start_time": "2023-11-19T22:32:50.701Z"
   },
   {
    "duration": 11,
    "start_time": "2023-11-19T22:33:05.686Z"
   },
   {
    "duration": 11,
    "start_time": "2023-11-19T22:33:14.351Z"
   },
   {
    "duration": 87,
    "start_time": "2023-11-19T22:33:17.970Z"
   },
   {
    "duration": 7,
    "start_time": "2023-11-19T22:33:21.629Z"
   },
   {
    "duration": 9,
    "start_time": "2023-11-19T22:33:26.054Z"
   },
   {
    "duration": 25,
    "start_time": "2023-11-19T22:33:39.781Z"
   },
   {
    "duration": 13,
    "start_time": "2023-11-19T22:34:02.125Z"
   },
   {
    "duration": 132,
    "start_time": "2023-11-19T22:34:06.724Z"
   },
   {
    "duration": 171,
    "start_time": "2023-11-19T22:34:11.423Z"
   },
   {
    "duration": 1630,
    "start_time": "2023-11-19T22:34:21.648Z"
   },
   {
    "duration": 12,
    "start_time": "2023-11-19T22:41:11.876Z"
   },
   {
    "duration": 962,
    "start_time": "2023-11-19T22:41:14.057Z"
   },
   {
    "duration": 400,
    "start_time": "2023-11-19T22:43:08.915Z"
   },
   {
    "duration": 257,
    "start_time": "2023-11-19T22:43:12.646Z"
   },
   {
    "duration": 758,
    "start_time": "2023-11-19T22:43:35.159Z"
   },
   {
    "duration": 832,
    "start_time": "2023-11-19T22:44:15.035Z"
   },
   {
    "duration": 127,
    "start_time": "2023-11-19T22:45:06.219Z"
   },
   {
    "duration": 78,
    "start_time": "2023-11-19T22:45:12.313Z"
   },
   {
    "duration": 1199,
    "start_time": "2023-11-19T22:45:20.598Z"
   },
   {
    "duration": 119,
    "start_time": "2023-11-19T22:45:34.214Z"
   },
   {
    "duration": 76,
    "start_time": "2023-11-19T22:45:47.370Z"
   },
   {
    "duration": 867,
    "start_time": "2023-11-19T22:45:52.189Z"
   },
   {
    "duration": 884,
    "start_time": "2023-11-19T22:45:56.444Z"
   },
   {
    "duration": 883,
    "start_time": "2023-11-19T22:46:00.081Z"
   },
   {
    "duration": 824,
    "start_time": "2023-11-19T22:46:03.558Z"
   },
   {
    "duration": 782,
    "start_time": "2023-11-19T22:46:06.394Z"
   },
   {
    "duration": 727,
    "start_time": "2023-11-19T22:46:09.716Z"
   },
   {
    "duration": 1303,
    "start_time": "2023-11-19T22:46:12.379Z"
   },
   {
    "duration": 777,
    "start_time": "2023-11-19T22:46:19.109Z"
   },
   {
    "duration": 806,
    "start_time": "2023-11-19T22:46:21.736Z"
   },
   {
    "duration": 697,
    "start_time": "2023-11-19T22:46:24.501Z"
   },
   {
    "duration": 78,
    "start_time": "2023-11-19T22:46:30.312Z"
   },
   {
    "duration": 862,
    "start_time": "2023-11-19T22:46:32.701Z"
   },
   {
    "duration": 5,
    "start_time": "2023-11-19T22:48:04.603Z"
   },
   {
    "duration": 23,
    "start_time": "2023-11-19T22:48:10.421Z"
   },
   {
    "duration": 1169,
    "start_time": "2023-11-20T10:02:31.338Z"
   },
   {
    "duration": 259,
    "start_time": "2023-11-20T10:02:32.508Z"
   },
   {
    "duration": 2,
    "start_time": "2023-11-20T10:02:32.769Z"
   },
   {
    "duration": 18,
    "start_time": "2023-11-20T10:02:32.773Z"
   },
   {
    "duration": 15,
    "start_time": "2023-11-20T10:02:32.792Z"
   },
   {
    "duration": 22,
    "start_time": "2023-11-20T10:02:32.808Z"
   },
   {
    "duration": 23,
    "start_time": "2023-11-20T10:02:32.831Z"
   },
   {
    "duration": 11,
    "start_time": "2023-11-20T10:02:32.856Z"
   },
   {
    "duration": 7,
    "start_time": "2023-11-20T10:02:32.868Z"
   },
   {
    "duration": 25,
    "start_time": "2023-11-20T10:02:32.877Z"
   },
   {
    "duration": 25,
    "start_time": "2023-11-20T10:02:32.903Z"
   },
   {
    "duration": 16,
    "start_time": "2023-11-20T10:02:32.929Z"
   },
   {
    "duration": 187,
    "start_time": "2023-11-20T10:02:32.946Z"
   },
   {
    "duration": 9,
    "start_time": "2023-11-20T10:02:33.134Z"
   },
   {
    "duration": 9,
    "start_time": "2023-11-20T10:02:33.144Z"
   },
   {
    "duration": 20,
    "start_time": "2023-11-20T10:02:33.154Z"
   },
   {
    "duration": 8,
    "start_time": "2023-11-20T10:02:33.175Z"
   },
   {
    "duration": 9,
    "start_time": "2023-11-20T10:02:33.184Z"
   },
   {
    "duration": 17,
    "start_time": "2023-11-20T10:02:33.194Z"
   },
   {
    "duration": 11,
    "start_time": "2023-11-20T10:02:33.212Z"
   },
   {
    "duration": 19,
    "start_time": "2023-11-20T10:02:33.224Z"
   },
   {
    "duration": 39,
    "start_time": "2023-11-20T10:02:33.244Z"
   },
   {
    "duration": 306,
    "start_time": "2023-11-20T10:02:33.285Z"
   },
   {
    "duration": 9,
    "start_time": "2023-11-20T10:02:33.592Z"
   },
   {
    "duration": 777,
    "start_time": "2023-11-20T10:02:33.603Z"
   },
   {
    "duration": 21,
    "start_time": "2023-11-20T10:02:34.381Z"
   },
   {
    "duration": 3,
    "start_time": "2023-11-20T10:02:34.403Z"
   },
   {
    "duration": 3,
    "start_time": "2023-11-20T10:05:36.756Z"
   },
   {
    "duration": 3,
    "start_time": "2023-11-20T10:05:50.893Z"
   },
   {
    "duration": 3,
    "start_time": "2023-11-20T10:06:11.581Z"
   },
   {
    "duration": 999,
    "start_time": "2023-11-20T10:06:19.618Z"
   },
   {
    "duration": 147,
    "start_time": "2023-11-20T10:06:20.619Z"
   },
   {
    "duration": 3,
    "start_time": "2023-11-20T10:06:20.767Z"
   },
   {
    "duration": 15,
    "start_time": "2023-11-20T10:06:20.772Z"
   },
   {
    "duration": 5,
    "start_time": "2023-11-20T10:06:20.789Z"
   },
   {
    "duration": 10,
    "start_time": "2023-11-20T10:06:20.795Z"
   },
   {
    "duration": 26,
    "start_time": "2023-11-20T10:06:20.807Z"
   },
   {
    "duration": 14,
    "start_time": "2023-11-20T10:06:20.835Z"
   },
   {
    "duration": 7,
    "start_time": "2023-11-20T10:06:20.850Z"
   },
   {
    "duration": 11,
    "start_time": "2023-11-20T10:06:20.859Z"
   },
   {
    "duration": 17,
    "start_time": "2023-11-20T10:06:20.872Z"
   },
   {
    "duration": 28,
    "start_time": "2023-11-20T10:06:20.890Z"
   },
   {
    "duration": 183,
    "start_time": "2023-11-20T10:06:20.919Z"
   },
   {
    "duration": 9,
    "start_time": "2023-11-20T10:06:21.104Z"
   },
   {
    "duration": 22,
    "start_time": "2023-11-20T10:06:21.114Z"
   },
   {
    "duration": 13,
    "start_time": "2023-11-20T10:06:21.137Z"
   },
   {
    "duration": 32,
    "start_time": "2023-11-20T10:06:21.152Z"
   },
   {
    "duration": 15,
    "start_time": "2023-11-20T10:06:21.185Z"
   },
   {
    "duration": 16,
    "start_time": "2023-11-20T10:06:21.201Z"
   },
   {
    "duration": 8,
    "start_time": "2023-11-20T10:06:21.219Z"
   },
   {
    "duration": 14,
    "start_time": "2023-11-20T10:06:21.229Z"
   },
   {
    "duration": 30,
    "start_time": "2023-11-20T10:06:21.244Z"
   },
   {
    "duration": 3,
    "start_time": "2023-11-20T10:06:21.276Z"
   },
   {
    "duration": 301,
    "start_time": "2023-11-20T10:06:21.280Z"
   },
   {
    "duration": 9,
    "start_time": "2023-11-20T10:06:21.583Z"
   },
   {
    "duration": 792,
    "start_time": "2023-11-20T10:06:21.594Z"
   },
   {
    "duration": 20,
    "start_time": "2023-11-20T10:06:22.387Z"
   },
   {
    "duration": 3,
    "start_time": "2023-11-20T10:06:22.410Z"
   },
   {
    "duration": 96,
    "start_time": "2023-11-20T10:12:48.034Z"
   },
   {
    "duration": 89,
    "start_time": "2023-11-20T10:17:08.509Z"
   },
   {
    "duration": 883,
    "start_time": "2023-11-20T10:19:59.148Z"
   },
   {
    "duration": 1010,
    "start_time": "2023-11-20T10:20:07.516Z"
   },
   {
    "duration": 951,
    "start_time": "2023-11-20T10:20:24.963Z"
   },
   {
    "duration": 981,
    "start_time": "2023-11-20T10:20:41.773Z"
   },
   {
    "duration": 923,
    "start_time": "2023-11-20T10:25:46.464Z"
   },
   {
    "duration": 783,
    "start_time": "2023-11-20T10:26:05.657Z"
   },
   {
    "duration": 1008,
    "start_time": "2023-11-20T10:26:17.528Z"
   },
   {
    "duration": 128,
    "start_time": "2023-11-20T10:26:38.983Z"
   },
   {
    "duration": 93,
    "start_time": "2023-11-20T10:27:25.093Z"
   },
   {
    "duration": 95,
    "start_time": "2023-11-20T10:27:39.165Z"
   },
   {
    "duration": 86,
    "start_time": "2023-11-20T10:27:46.652Z"
   },
   {
    "duration": 121,
    "start_time": "2023-11-20T10:28:02.674Z"
   },
   {
    "duration": 127,
    "start_time": "2023-11-20T10:28:24.077Z"
   },
   {
    "duration": 125,
    "start_time": "2023-11-20T10:28:39.406Z"
   },
   {
    "duration": 135,
    "start_time": "2023-11-20T10:28:43.473Z"
   },
   {
    "duration": 154,
    "start_time": "2023-11-20T10:29:03.870Z"
   },
   {
    "duration": 121,
    "start_time": "2023-11-20T10:29:08.211Z"
   },
   {
    "duration": 123,
    "start_time": "2023-11-20T10:29:29.940Z"
   },
   {
    "duration": 126,
    "start_time": "2023-11-20T10:29:33.578Z"
   },
   {
    "duration": 123,
    "start_time": "2023-11-20T10:29:36.674Z"
   },
   {
    "duration": 105,
    "start_time": "2023-11-20T10:29:53.780Z"
   },
   {
    "duration": 731,
    "start_time": "2023-11-20T10:30:30.775Z"
   },
   {
    "duration": 136,
    "start_time": "2023-11-20T10:30:44.614Z"
   },
   {
    "duration": 148,
    "start_time": "2023-11-20T10:30:50.094Z"
   },
   {
    "duration": 145,
    "start_time": "2023-11-20T10:30:55.454Z"
   },
   {
    "duration": 154,
    "start_time": "2023-11-20T10:30:58.348Z"
   },
   {
    "duration": 146,
    "start_time": "2023-11-20T10:31:29.341Z"
   },
   {
    "duration": 190,
    "start_time": "2023-11-20T10:31:38.224Z"
   },
   {
    "duration": 187,
    "start_time": "2023-11-20T10:31:47.093Z"
   },
   {
    "duration": 187,
    "start_time": "2023-11-20T10:32:48.355Z"
   },
   {
    "duration": 192,
    "start_time": "2023-11-20T10:32:55.079Z"
   },
   {
    "duration": 186,
    "start_time": "2023-11-20T10:33:00.658Z"
   },
   {
    "duration": 184,
    "start_time": "2023-11-20T10:33:22.983Z"
   },
   {
    "duration": 210,
    "start_time": "2023-11-20T10:33:25.975Z"
   },
   {
    "duration": 184,
    "start_time": "2023-11-20T10:33:28.138Z"
   },
   {
    "duration": 300,
    "start_time": "2023-11-20T10:33:31.683Z"
   },
   {
    "duration": 183,
    "start_time": "2023-11-20T10:33:34.562Z"
   },
   {
    "duration": 213,
    "start_time": "2023-11-20T10:33:36.903Z"
   },
   {
    "duration": 183,
    "start_time": "2023-11-20T10:33:39.758Z"
   },
   {
    "duration": 184,
    "start_time": "2023-11-20T10:33:43.149Z"
   },
   {
    "duration": 185,
    "start_time": "2023-11-20T10:33:47.076Z"
   },
   {
    "duration": 186,
    "start_time": "2023-11-20T10:33:50.543Z"
   },
   {
    "duration": 206,
    "start_time": "2023-11-20T10:33:53.558Z"
   },
   {
    "duration": 185,
    "start_time": "2023-11-20T10:33:56.293Z"
   },
   {
    "duration": 187,
    "start_time": "2023-11-20T10:33:59.013Z"
   },
   {
    "duration": 193,
    "start_time": "2023-11-20T10:34:52.715Z"
   },
   {
    "duration": 188,
    "start_time": "2023-11-20T10:35:23.366Z"
   },
   {
    "duration": 830,
    "start_time": "2023-11-20T10:35:27.553Z"
   },
   {
    "duration": 252,
    "start_time": "2023-11-20T10:35:31.478Z"
   },
   {
    "duration": 193,
    "start_time": "2023-11-20T10:35:40.256Z"
   },
   {
    "duration": 213,
    "start_time": "2023-11-20T10:36:19.329Z"
   },
   {
    "duration": 91,
    "start_time": "2023-11-20T10:38:17.107Z"
   },
   {
    "duration": 218,
    "start_time": "2023-11-20T10:38:38.968Z"
   },
   {
    "duration": 138,
    "start_time": "2023-11-20T10:40:25.275Z"
   },
   {
    "duration": 1278,
    "start_time": "2023-11-20T13:06:16.546Z"
   },
   {
    "duration": 170,
    "start_time": "2023-11-20T13:06:17.826Z"
   },
   {
    "duration": 2,
    "start_time": "2023-11-20T13:06:17.998Z"
   },
   {
    "duration": 16,
    "start_time": "2023-11-20T13:06:18.002Z"
   },
   {
    "duration": 16,
    "start_time": "2023-11-20T13:06:18.019Z"
   },
   {
    "duration": 39,
    "start_time": "2023-11-20T13:06:18.036Z"
   },
   {
    "duration": 21,
    "start_time": "2023-11-20T13:06:18.077Z"
   },
   {
    "duration": 13,
    "start_time": "2023-11-20T13:06:18.099Z"
   },
   {
    "duration": 7,
    "start_time": "2023-11-20T13:06:18.114Z"
   },
   {
    "duration": 15,
    "start_time": "2023-11-20T13:06:18.123Z"
   },
   {
    "duration": 8,
    "start_time": "2023-11-20T13:06:18.140Z"
   },
   {
    "duration": 30,
    "start_time": "2023-11-20T13:06:18.150Z"
   },
   {
    "duration": 192,
    "start_time": "2023-11-20T13:06:18.181Z"
   },
   {
    "duration": 9,
    "start_time": "2023-11-20T13:06:18.374Z"
   },
   {
    "duration": 34,
    "start_time": "2023-11-20T13:06:18.385Z"
   },
   {
    "duration": 37,
    "start_time": "2023-11-20T13:06:18.420Z"
   },
   {
    "duration": 46,
    "start_time": "2023-11-20T13:06:18.459Z"
   },
   {
    "duration": 35,
    "start_time": "2023-11-20T13:06:18.507Z"
   },
   {
    "duration": 32,
    "start_time": "2023-11-20T13:06:18.544Z"
   },
   {
    "duration": 36,
    "start_time": "2023-11-20T13:06:18.578Z"
   },
   {
    "duration": 19,
    "start_time": "2023-11-20T13:06:18.616Z"
   },
   {
    "duration": 33,
    "start_time": "2023-11-20T13:06:18.637Z"
   },
   {
    "duration": 4,
    "start_time": "2023-11-20T13:06:18.672Z"
   },
   {
    "duration": 307,
    "start_time": "2023-11-20T13:06:18.678Z"
   },
   {
    "duration": 10,
    "start_time": "2023-11-20T13:06:18.986Z"
   },
   {
    "duration": 239,
    "start_time": "2023-11-20T13:06:18.997Z"
   },
   {
    "duration": 29,
    "start_time": "2023-11-20T13:06:19.237Z"
   },
   {
    "duration": 2,
    "start_time": "2023-11-20T13:06:19.269Z"
   },
   {
    "duration": 21,
    "start_time": "2023-11-20T13:11:38.421Z"
   },
   {
    "duration": 1050,
    "start_time": "2023-11-20T13:14:33.227Z"
   },
   {
    "duration": 125,
    "start_time": "2023-11-20T13:14:34.279Z"
   },
   {
    "duration": 3,
    "start_time": "2023-11-20T13:14:34.406Z"
   },
   {
    "duration": 26,
    "start_time": "2023-11-20T13:14:34.411Z"
   },
   {
    "duration": 31,
    "start_time": "2023-11-20T13:14:34.438Z"
   },
   {
    "duration": 33,
    "start_time": "2023-11-20T13:14:34.470Z"
   },
   {
    "duration": 33,
    "start_time": "2023-11-20T13:14:34.504Z"
   },
   {
    "duration": 32,
    "start_time": "2023-11-20T13:14:34.538Z"
   },
   {
    "duration": 22,
    "start_time": "2023-11-20T13:14:34.571Z"
   },
   {
    "duration": 41,
    "start_time": "2023-11-20T13:14:34.595Z"
   },
   {
    "duration": 26,
    "start_time": "2023-11-20T13:14:34.638Z"
   },
   {
    "duration": 40,
    "start_time": "2023-11-20T13:14:34.665Z"
   },
   {
    "duration": 181,
    "start_time": "2023-11-20T13:14:34.706Z"
   },
   {
    "duration": 8,
    "start_time": "2023-11-20T13:14:34.888Z"
   },
   {
    "duration": 39,
    "start_time": "2023-11-20T13:14:34.898Z"
   },
   {
    "duration": 30,
    "start_time": "2023-11-20T13:14:34.939Z"
   },
   {
    "duration": 39,
    "start_time": "2023-11-20T13:14:34.970Z"
   },
   {
    "duration": 62,
    "start_time": "2023-11-20T13:14:35.010Z"
   },
   {
    "duration": 29,
    "start_time": "2023-11-20T13:14:35.074Z"
   },
   {
    "duration": 44,
    "start_time": "2023-11-20T13:14:35.105Z"
   },
   {
    "duration": 41,
    "start_time": "2023-11-20T13:14:35.151Z"
   },
   {
    "duration": 36,
    "start_time": "2023-11-20T13:14:35.194Z"
   },
   {
    "duration": 50,
    "start_time": "2023-11-20T13:14:35.231Z"
   },
   {
    "duration": 364,
    "start_time": "2023-11-20T13:14:35.283Z"
   },
   {
    "duration": 21,
    "start_time": "2023-11-20T13:14:35.649Z"
   },
   {
    "duration": 275,
    "start_time": "2023-11-20T13:14:35.672Z"
   },
   {
    "duration": 28,
    "start_time": "2023-11-20T13:14:35.948Z"
   },
   {
    "duration": 35468,
    "start_time": "2023-11-20T13:14:35.979Z"
   },
   {
    "duration": 0,
    "start_time": "2023-11-20T13:15:11.448Z"
   },
   {
    "duration": 8628,
    "start_time": "2023-11-20T13:17:16.555Z"
   },
   {
    "duration": 41665,
    "start_time": "2023-11-20T13:21:05.314Z"
   },
   {
    "duration": 5,
    "start_time": "2023-11-20T13:21:59.431Z"
   },
   {
    "duration": 5,
    "start_time": "2023-11-20T13:22:07.315Z"
   },
   {
    "duration": 146,
    "start_time": "2023-11-20T13:22:27.390Z"
   },
   {
    "duration": 1486,
    "start_time": "2023-11-20T13:22:38.511Z"
   },
   {
    "duration": 380,
    "start_time": "2023-11-20T13:23:19.827Z"
   },
   {
    "duration": 22,
    "start_time": "2023-11-20T13:26:28.050Z"
   },
   {
    "duration": 20,
    "start_time": "2023-11-20T13:26:39.648Z"
   },
   {
    "duration": 15,
    "start_time": "2023-11-20T13:28:08.051Z"
   },
   {
    "duration": 17,
    "start_time": "2023-11-20T13:28:25.045Z"
   },
   {
    "duration": 1060,
    "start_time": "2023-11-20T13:28:32.516Z"
   },
   {
    "duration": 1755,
    "start_time": "2023-11-20T13:28:45.373Z"
   },
   {
    "duration": 1693,
    "start_time": "2023-11-20T13:28:51.408Z"
   },
   {
    "duration": 968,
    "start_time": "2023-11-20T13:28:54.797Z"
   },
   {
    "duration": 1309,
    "start_time": "2023-11-20T13:29:05.709Z"
   },
   {
    "duration": 1602,
    "start_time": "2023-11-20T13:29:12.524Z"
   },
   {
    "duration": 1261,
    "start_time": "2023-11-20T13:29:39.473Z"
   },
   {
    "duration": 151,
    "start_time": "2023-11-20T13:29:40.736Z"
   },
   {
    "duration": 5,
    "start_time": "2023-11-20T13:29:40.888Z"
   },
   {
    "duration": 6,
    "start_time": "2023-11-20T13:29:40.895Z"
   },
   {
    "duration": 13,
    "start_time": "2023-11-20T13:29:40.902Z"
   },
   {
    "duration": 15,
    "start_time": "2023-11-20T13:29:40.917Z"
   },
   {
    "duration": 15,
    "start_time": "2023-11-20T13:29:40.934Z"
   },
   {
    "duration": 48,
    "start_time": "2023-11-20T13:29:40.951Z"
   },
   {
    "duration": 18,
    "start_time": "2023-11-20T13:29:41.000Z"
   },
   {
    "duration": 8,
    "start_time": "2023-11-20T13:29:41.021Z"
   },
   {
    "duration": 24,
    "start_time": "2023-11-20T13:29:41.031Z"
   },
   {
    "duration": 20,
    "start_time": "2023-11-20T13:29:41.057Z"
   },
   {
    "duration": 193,
    "start_time": "2023-11-20T13:29:41.079Z"
   },
   {
    "duration": 10,
    "start_time": "2023-11-20T13:29:41.273Z"
   },
   {
    "duration": 26,
    "start_time": "2023-11-20T13:29:41.284Z"
   },
   {
    "duration": 25,
    "start_time": "2023-11-20T13:29:41.312Z"
   },
   {
    "duration": 50,
    "start_time": "2023-11-20T13:29:41.338Z"
   },
   {
    "duration": 37,
    "start_time": "2023-11-20T13:29:41.390Z"
   },
   {
    "duration": 36,
    "start_time": "2023-11-20T13:29:41.428Z"
   },
   {
    "duration": 31,
    "start_time": "2023-11-20T13:29:41.465Z"
   },
   {
    "duration": 38,
    "start_time": "2023-11-20T13:29:41.497Z"
   },
   {
    "duration": 34,
    "start_time": "2023-11-20T13:29:41.537Z"
   },
   {
    "duration": 13,
    "start_time": "2023-11-20T13:29:41.573Z"
   },
   {
    "duration": 325,
    "start_time": "2023-11-20T13:29:41.588Z"
   },
   {
    "duration": 10,
    "start_time": "2023-11-20T13:29:41.915Z"
   },
   {
    "duration": 230,
    "start_time": "2023-11-20T13:29:41.926Z"
   },
   {
    "duration": 22,
    "start_time": "2023-11-20T13:29:42.165Z"
   },
   {
    "duration": 1641,
    "start_time": "2023-11-20T13:29:42.190Z"
   },
   {
    "duration": 3,
    "start_time": "2023-11-20T13:29:43.832Z"
   },
   {
    "duration": 1736,
    "start_time": "2023-11-20T13:30:12.324Z"
   },
   {
    "duration": 165,
    "start_time": "2023-11-20T13:30:22.652Z"
   },
   {
    "duration": 1688,
    "start_time": "2023-11-20T13:30:30.243Z"
   },
   {
    "duration": 1422,
    "start_time": "2023-11-20T13:30:36.789Z"
   },
   {
    "duration": 2091,
    "start_time": "2023-11-20T13:30:49.948Z"
   },
   {
    "duration": 2025,
    "start_time": "2023-11-20T13:31:00.312Z"
   },
   {
    "duration": 1694,
    "start_time": "2023-11-20T13:31:22.654Z"
   },
   {
    "duration": 1824,
    "start_time": "2023-11-20T13:31:32.357Z"
   },
   {
    "duration": 1705,
    "start_time": "2023-11-20T13:31:40.068Z"
   },
   {
    "duration": 1940,
    "start_time": "2023-11-20T13:31:54.670Z"
   },
   {
    "duration": 2002,
    "start_time": "2023-11-20T13:32:11.159Z"
   },
   {
    "duration": 104,
    "start_time": "2023-11-20T13:35:10.223Z"
   },
   {
    "duration": 11,
    "start_time": "2023-11-20T13:35:33.957Z"
   },
   {
    "duration": 1857,
    "start_time": "2023-11-20T13:36:03.641Z"
   },
   {
    "duration": 2078,
    "start_time": "2023-11-20T13:36:14.965Z"
   },
   {
    "duration": 1922,
    "start_time": "2023-11-20T13:36:44.203Z"
   },
   {
    "duration": 2014,
    "start_time": "2023-11-20T13:37:05.561Z"
   },
   {
    "duration": 1903,
    "start_time": "2023-11-20T13:37:18.736Z"
   },
   {
    "duration": 1760,
    "start_time": "2023-11-20T13:37:27.543Z"
   },
   {
    "duration": 1973,
    "start_time": "2023-11-20T13:37:39.599Z"
   },
   {
    "duration": 2083,
    "start_time": "2023-11-20T13:37:56.182Z"
   },
   {
    "duration": 197,
    "start_time": "2023-11-20T13:38:06.134Z"
   },
   {
    "duration": 228,
    "start_time": "2023-11-20T13:38:10.577Z"
   },
   {
    "duration": 2377,
    "start_time": "2023-11-20T13:38:41.176Z"
   },
   {
    "duration": 1584,
    "start_time": "2023-11-20T13:39:05.074Z"
   },
   {
    "duration": 1918,
    "start_time": "2023-11-20T13:39:15.837Z"
   },
   {
    "duration": 2497,
    "start_time": "2023-11-20T13:39:21.925Z"
   },
   {
    "duration": 2669,
    "start_time": "2023-11-20T13:39:29.478Z"
   },
   {
    "duration": 2536,
    "start_time": "2023-11-20T13:39:36.530Z"
   },
   {
    "duration": 2434,
    "start_time": "2023-11-20T13:40:06.261Z"
   },
   {
    "duration": 2591,
    "start_time": "2023-11-20T13:40:26.138Z"
   },
   {
    "duration": 2885,
    "start_time": "2023-11-20T13:41:12.067Z"
   },
   {
    "duration": 2607,
    "start_time": "2023-11-20T13:41:27.978Z"
   },
   {
    "duration": 2642,
    "start_time": "2023-11-20T13:41:52.740Z"
   },
   {
    "duration": 2685,
    "start_time": "2023-11-20T13:42:21.605Z"
   },
   {
    "duration": 2700,
    "start_time": "2023-11-20T13:43:21.326Z"
   },
   {
    "duration": 11,
    "start_time": "2023-11-20T13:45:01.287Z"
   },
   {
    "duration": 9,
    "start_time": "2023-11-20T13:45:08.407Z"
   },
   {
    "duration": 7,
    "start_time": "2023-11-20T13:45:29.593Z"
   },
   {
    "duration": 82,
    "start_time": "2023-11-20T13:48:27.749Z"
   },
   {
    "duration": 12,
    "start_time": "2023-11-20T13:48:52.852Z"
   },
   {
    "duration": 139,
    "start_time": "2023-11-20T13:48:57.347Z"
   },
   {
    "duration": 11,
    "start_time": "2023-11-20T13:49:04.285Z"
   },
   {
    "duration": 130,
    "start_time": "2023-11-20T13:49:07.572Z"
   },
   {
    "duration": 103,
    "start_time": "2023-11-20T13:49:47.355Z"
   },
   {
    "duration": 101,
    "start_time": "2023-11-20T13:49:59.696Z"
   },
   {
    "duration": 116,
    "start_time": "2023-11-20T13:50:36.187Z"
   },
   {
    "duration": 7,
    "start_time": "2023-11-20T13:50:54.934Z"
   },
   {
    "duration": 1420,
    "start_time": "2023-11-20T18:36:16.968Z"
   },
   {
    "duration": 279,
    "start_time": "2023-11-20T18:36:18.390Z"
   },
   {
    "duration": 3,
    "start_time": "2023-11-20T18:36:18.671Z"
   },
   {
    "duration": 11,
    "start_time": "2023-11-20T18:36:18.676Z"
   },
   {
    "duration": 19,
    "start_time": "2023-11-20T18:36:18.689Z"
   },
   {
    "duration": 13,
    "start_time": "2023-11-20T18:36:18.709Z"
   },
   {
    "duration": 22,
    "start_time": "2023-11-20T18:36:18.724Z"
   },
   {
    "duration": 26,
    "start_time": "2023-11-20T18:36:18.749Z"
   },
   {
    "duration": 11,
    "start_time": "2023-11-20T18:36:18.776Z"
   },
   {
    "duration": 20,
    "start_time": "2023-11-20T18:36:18.788Z"
   },
   {
    "duration": 10,
    "start_time": "2023-11-20T18:36:18.810Z"
   },
   {
    "duration": 21,
    "start_time": "2023-11-20T18:36:18.821Z"
   },
   {
    "duration": 210,
    "start_time": "2023-11-20T18:36:18.843Z"
   },
   {
    "duration": 9,
    "start_time": "2023-11-20T18:36:19.056Z"
   },
   {
    "duration": 12,
    "start_time": "2023-11-20T18:36:19.066Z"
   },
   {
    "duration": 23,
    "start_time": "2023-11-20T18:36:19.080Z"
   },
   {
    "duration": 20,
    "start_time": "2023-11-20T18:36:19.104Z"
   },
   {
    "duration": 13,
    "start_time": "2023-11-20T18:36:19.126Z"
   },
   {
    "duration": 38,
    "start_time": "2023-11-20T18:36:19.140Z"
   },
   {
    "duration": 16,
    "start_time": "2023-11-20T18:36:19.179Z"
   },
   {
    "duration": 25,
    "start_time": "2023-11-20T18:36:19.197Z"
   },
   {
    "duration": 18,
    "start_time": "2023-11-20T18:36:19.223Z"
   },
   {
    "duration": 9,
    "start_time": "2023-11-20T18:36:19.242Z"
   },
   {
    "duration": 351,
    "start_time": "2023-11-20T18:36:19.253Z"
   },
   {
    "duration": 11,
    "start_time": "2023-11-20T18:36:19.605Z"
   },
   {
    "duration": 267,
    "start_time": "2023-11-20T18:36:19.618Z"
   },
   {
    "duration": 32,
    "start_time": "2023-11-20T18:36:19.887Z"
   },
   {
    "duration": 2699,
    "start_time": "2023-11-20T18:36:19.921Z"
   },
   {
    "duration": 9,
    "start_time": "2023-11-20T18:36:22.622Z"
   },
   {
    "duration": 245,
    "start_time": "2023-11-20T18:36:22.632Z"
   },
   {
    "duration": 91,
    "start_time": "2023-11-20T18:36:22.879Z"
   },
   {
    "duration": 0,
    "start_time": "2023-11-20T18:36:22.972Z"
   },
   {
    "duration": 1171,
    "start_time": "2023-11-20T18:37:16.206Z"
   },
   {
    "duration": 144,
    "start_time": "2023-11-20T18:37:17.379Z"
   },
   {
    "duration": 3,
    "start_time": "2023-11-20T18:37:17.524Z"
   },
   {
    "duration": 48,
    "start_time": "2023-11-20T18:37:17.529Z"
   },
   {
    "duration": 11,
    "start_time": "2023-11-20T18:37:17.579Z"
   },
   {
    "duration": 56,
    "start_time": "2023-11-20T18:37:17.592Z"
   },
   {
    "duration": 23,
    "start_time": "2023-11-20T18:37:17.649Z"
   },
   {
    "duration": 27,
    "start_time": "2023-11-20T18:37:17.673Z"
   },
   {
    "duration": 14,
    "start_time": "2023-11-20T18:37:17.702Z"
   },
   {
    "duration": 31,
    "start_time": "2023-11-20T18:37:17.719Z"
   },
   {
    "duration": 30,
    "start_time": "2023-11-20T18:37:17.752Z"
   },
   {
    "duration": 26,
    "start_time": "2023-11-20T18:37:17.784Z"
   },
   {
    "duration": 207,
    "start_time": "2023-11-20T18:37:17.812Z"
   },
   {
    "duration": 11,
    "start_time": "2023-11-20T18:37:18.021Z"
   },
   {
    "duration": 13,
    "start_time": "2023-11-20T18:37:18.033Z"
   },
   {
    "duration": 7,
    "start_time": "2023-11-20T18:37:18.048Z"
   },
   {
    "duration": 15,
    "start_time": "2023-11-20T18:37:18.057Z"
   },
   {
    "duration": 33,
    "start_time": "2023-11-20T18:37:18.074Z"
   },
   {
    "duration": 19,
    "start_time": "2023-11-20T18:37:18.109Z"
   },
   {
    "duration": 13,
    "start_time": "2023-11-20T18:37:18.129Z"
   },
   {
    "duration": 17,
    "start_time": "2023-11-20T18:37:18.143Z"
   },
   {
    "duration": 46,
    "start_time": "2023-11-20T18:37:18.162Z"
   },
   {
    "duration": 4,
    "start_time": "2023-11-20T18:37:18.210Z"
   },
   {
    "duration": 343,
    "start_time": "2023-11-20T18:37:18.216Z"
   },
   {
    "duration": 11,
    "start_time": "2023-11-20T18:37:18.561Z"
   },
   {
    "duration": 260,
    "start_time": "2023-11-20T18:37:18.573Z"
   },
   {
    "duration": 24,
    "start_time": "2023-11-20T18:37:18.835Z"
   },
   {
    "duration": 2769,
    "start_time": "2023-11-20T18:37:18.863Z"
   },
   {
    "duration": 8,
    "start_time": "2023-11-20T18:37:21.634Z"
   },
   {
    "duration": 21,
    "start_time": "2023-11-20T18:37:21.643Z"
   },
   {
    "duration": 135,
    "start_time": "2023-11-20T18:37:21.666Z"
   },
   {
    "duration": 97,
    "start_time": "2023-11-20T18:37:21.802Z"
   },
   {
    "duration": 0,
    "start_time": "2023-11-20T18:37:21.901Z"
   },
   {
    "duration": 116,
    "start_time": "2023-11-20T18:39:13.190Z"
   },
   {
    "duration": 9,
    "start_time": "2023-11-20T18:39:30.105Z"
   },
   {
    "duration": 10,
    "start_time": "2023-11-20T18:39:38.150Z"
   },
   {
    "duration": 9,
    "start_time": "2023-11-20T18:40:01.586Z"
   },
   {
    "duration": 9,
    "start_time": "2023-11-20T18:40:06.281Z"
   },
   {
    "duration": 10,
    "start_time": "2023-11-20T18:40:08.434Z"
   },
   {
    "duration": 9,
    "start_time": "2023-11-20T18:40:10.492Z"
   },
   {
    "duration": 9,
    "start_time": "2023-11-20T18:40:13.363Z"
   },
   {
    "duration": 10,
    "start_time": "2023-11-20T18:40:31.182Z"
   },
   {
    "duration": 1222,
    "start_time": "2023-11-20T18:43:02.669Z"
   },
   {
    "duration": 153,
    "start_time": "2023-11-20T18:43:03.893Z"
   },
   {
    "duration": 4,
    "start_time": "2023-11-20T18:43:04.047Z"
   },
   {
    "duration": 12,
    "start_time": "2023-11-20T18:43:04.052Z"
   },
   {
    "duration": 8,
    "start_time": "2023-11-20T18:43:04.066Z"
   },
   {
    "duration": 14,
    "start_time": "2023-11-20T18:43:04.075Z"
   },
   {
    "duration": 15,
    "start_time": "2023-11-20T18:43:04.100Z"
   },
   {
    "duration": 31,
    "start_time": "2023-11-20T18:43:04.116Z"
   },
   {
    "duration": 20,
    "start_time": "2023-11-20T18:43:04.148Z"
   },
   {
    "duration": 32,
    "start_time": "2023-11-20T18:43:04.169Z"
   },
   {
    "duration": 7,
    "start_time": "2023-11-20T18:43:04.203Z"
   },
   {
    "duration": 18,
    "start_time": "2023-11-20T18:43:04.211Z"
   },
   {
    "duration": 211,
    "start_time": "2023-11-20T18:43:04.231Z"
   },
   {
    "duration": 10,
    "start_time": "2023-11-20T18:43:04.446Z"
   },
   {
    "duration": 15,
    "start_time": "2023-11-20T18:43:04.458Z"
   },
   {
    "duration": 26,
    "start_time": "2023-11-20T18:43:04.475Z"
   },
   {
    "duration": 13,
    "start_time": "2023-11-20T18:43:04.503Z"
   },
   {
    "duration": 18,
    "start_time": "2023-11-20T18:43:04.518Z"
   },
   {
    "duration": 18,
    "start_time": "2023-11-20T18:43:04.537Z"
   },
   {
    "duration": 12,
    "start_time": "2023-11-20T18:43:04.557Z"
   },
   {
    "duration": 37,
    "start_time": "2023-11-20T18:43:04.571Z"
   },
   {
    "duration": 17,
    "start_time": "2023-11-20T18:43:04.610Z"
   },
   {
    "duration": 4,
    "start_time": "2023-11-20T18:43:04.629Z"
   },
   {
    "duration": 349,
    "start_time": "2023-11-20T18:43:04.635Z"
   },
   {
    "duration": 22,
    "start_time": "2023-11-20T18:43:04.986Z"
   },
   {
    "duration": 249,
    "start_time": "2023-11-20T18:43:05.010Z"
   },
   {
    "duration": 25,
    "start_time": "2023-11-20T18:43:05.261Z"
   },
   {
    "duration": 2688,
    "start_time": "2023-11-20T18:43:05.300Z"
   },
   {
    "duration": 10,
    "start_time": "2023-11-20T18:43:07.990Z"
   },
   {
    "duration": 8,
    "start_time": "2023-11-20T18:43:08.001Z"
   },
   {
    "duration": 114,
    "start_time": "2023-11-20T18:43:08.011Z"
   },
   {
    "duration": 10,
    "start_time": "2023-11-20T18:43:08.127Z"
   },
   {
    "duration": 5,
    "start_time": "2023-11-20T18:43:08.139Z"
   },
   {
    "duration": 10,
    "start_time": "2023-11-20T18:43:30.345Z"
   },
   {
    "duration": 9,
    "start_time": "2023-11-20T18:43:36.004Z"
   },
   {
    "duration": 10,
    "start_time": "2023-11-20T18:43:53.277Z"
   },
   {
    "duration": 8,
    "start_time": "2023-11-20T18:45:43.760Z"
   },
   {
    "duration": 9,
    "start_time": "2023-11-20T18:48:03.044Z"
   },
   {
    "duration": 2600,
    "start_time": "2023-11-20T18:55:03.971Z"
   },
   {
    "duration": 2645,
    "start_time": "2023-11-20T18:55:15.090Z"
   },
   {
    "duration": 1172,
    "start_time": "2023-11-20T18:59:18.733Z"
   },
   {
    "duration": 139,
    "start_time": "2023-11-20T18:59:19.908Z"
   },
   {
    "duration": 3,
    "start_time": "2023-11-20T18:59:20.052Z"
   },
   {
    "duration": 20,
    "start_time": "2023-11-20T18:59:20.056Z"
   },
   {
    "duration": 45,
    "start_time": "2023-11-20T18:59:20.078Z"
   },
   {
    "duration": 18,
    "start_time": "2023-11-20T18:59:20.125Z"
   },
   {
    "duration": 19,
    "start_time": "2023-11-20T18:59:20.145Z"
   },
   {
    "duration": 30,
    "start_time": "2023-11-20T18:59:20.166Z"
   },
   {
    "duration": 17,
    "start_time": "2023-11-20T18:59:20.199Z"
   },
   {
    "duration": 10,
    "start_time": "2023-11-20T18:59:20.217Z"
   },
   {
    "duration": 10,
    "start_time": "2023-11-20T18:59:20.228Z"
   },
   {
    "duration": 21,
    "start_time": "2023-11-20T18:59:20.240Z"
   },
   {
    "duration": 202,
    "start_time": "2023-11-20T18:59:20.262Z"
   },
   {
    "duration": 9,
    "start_time": "2023-11-20T18:59:20.466Z"
   },
   {
    "duration": 25,
    "start_time": "2023-11-20T18:59:20.477Z"
   },
   {
    "duration": 7,
    "start_time": "2023-11-20T18:59:20.503Z"
   },
   {
    "duration": 10,
    "start_time": "2023-11-20T18:59:20.512Z"
   },
   {
    "duration": 14,
    "start_time": "2023-11-20T18:59:20.524Z"
   },
   {
    "duration": 44,
    "start_time": "2023-11-20T18:59:20.539Z"
   },
   {
    "duration": 19,
    "start_time": "2023-11-20T18:59:20.585Z"
   },
   {
    "duration": 16,
    "start_time": "2023-11-20T18:59:20.606Z"
   },
   {
    "duration": 15,
    "start_time": "2023-11-20T18:59:20.624Z"
   },
   {
    "duration": 3,
    "start_time": "2023-11-20T18:59:20.641Z"
   },
   {
    "duration": 387,
    "start_time": "2023-11-20T18:59:20.646Z"
   },
   {
    "duration": 13,
    "start_time": "2023-11-20T18:59:21.035Z"
   },
   {
    "duration": 312,
    "start_time": "2023-11-20T18:59:21.050Z"
   },
   {
    "duration": 25,
    "start_time": "2023-11-20T18:59:21.365Z"
   },
   {
    "duration": 2672,
    "start_time": "2023-11-20T18:59:21.392Z"
   },
   {
    "duration": 8,
    "start_time": "2023-11-20T18:59:24.066Z"
   },
   {
    "duration": 9,
    "start_time": "2023-11-20T18:59:24.075Z"
   },
   {
    "duration": 118,
    "start_time": "2023-11-20T18:59:24.085Z"
   },
   {
    "duration": 3,
    "start_time": "2023-11-20T18:59:24.204Z"
   },
   {
    "duration": 12,
    "start_time": "2023-11-20T19:01:37.354Z"
   },
   {
    "duration": 108,
    "start_time": "2023-11-20T19:01:39.747Z"
   },
   {
    "duration": 10,
    "start_time": "2023-11-20T19:01:48.192Z"
   },
   {
    "duration": 115,
    "start_time": "2023-11-20T19:01:50.397Z"
   },
   {
    "duration": 1715,
    "start_time": "2023-11-20T19:02:57.257Z"
   },
   {
    "duration": 16,
    "start_time": "2023-11-20T19:03:08.465Z"
   },
   {
    "duration": 5,
    "start_time": "2023-11-20T19:03:39.620Z"
   },
   {
    "duration": 4,
    "start_time": "2023-11-20T19:03:50.676Z"
   },
   {
    "duration": 5,
    "start_time": "2023-11-20T19:03:53.976Z"
   },
   {
    "duration": 1201,
    "start_time": "2023-11-20T19:04:14.491Z"
   },
   {
    "duration": 138,
    "start_time": "2023-11-20T19:04:15.694Z"
   },
   {
    "duration": 3,
    "start_time": "2023-11-20T19:04:15.834Z"
   },
   {
    "duration": 44,
    "start_time": "2023-11-20T19:04:15.839Z"
   },
   {
    "duration": 12,
    "start_time": "2023-11-20T19:04:15.885Z"
   },
   {
    "duration": 42,
    "start_time": "2023-11-20T19:04:15.898Z"
   },
   {
    "duration": 23,
    "start_time": "2023-11-20T19:04:15.941Z"
   },
   {
    "duration": 45,
    "start_time": "2023-11-20T19:04:15.965Z"
   },
   {
    "duration": 10,
    "start_time": "2023-11-20T19:04:16.011Z"
   },
   {
    "duration": 19,
    "start_time": "2023-11-20T19:04:16.024Z"
   },
   {
    "duration": 9,
    "start_time": "2023-11-20T19:04:16.045Z"
   },
   {
    "duration": 15,
    "start_time": "2023-11-20T19:04:16.055Z"
   },
   {
    "duration": 210,
    "start_time": "2023-11-20T19:04:16.072Z"
   },
   {
    "duration": 19,
    "start_time": "2023-11-20T19:04:16.284Z"
   },
   {
    "duration": 15,
    "start_time": "2023-11-20T19:04:16.305Z"
   },
   {
    "duration": 8,
    "start_time": "2023-11-20T19:04:16.322Z"
   },
   {
    "duration": 8,
    "start_time": "2023-11-20T19:04:16.332Z"
   },
   {
    "duration": 13,
    "start_time": "2023-11-20T19:04:16.342Z"
   },
   {
    "duration": 87,
    "start_time": "2023-11-20T19:04:16.357Z"
   },
   {
    "duration": 11,
    "start_time": "2023-11-20T19:04:16.446Z"
   },
   {
    "duration": 17,
    "start_time": "2023-11-20T19:04:16.458Z"
   },
   {
    "duration": 43,
    "start_time": "2023-11-20T19:04:16.477Z"
   },
   {
    "duration": 71,
    "start_time": "2023-11-20T19:04:16.521Z"
   },
   {
    "duration": 373,
    "start_time": "2023-11-20T19:04:16.594Z"
   },
   {
    "duration": 11,
    "start_time": "2023-11-20T19:04:16.969Z"
   },
   {
    "duration": 256,
    "start_time": "2023-11-20T19:04:16.981Z"
   },
   {
    "duration": 24,
    "start_time": "2023-11-20T19:04:17.238Z"
   },
   {
    "duration": 2735,
    "start_time": "2023-11-20T19:04:17.265Z"
   },
   {
    "duration": 16,
    "start_time": "2023-11-20T19:04:20.002Z"
   },
   {
    "duration": 13,
    "start_time": "2023-11-20T19:04:20.020Z"
   },
   {
    "duration": 135,
    "start_time": "2023-11-20T19:04:20.035Z"
   },
   {
    "duration": 4,
    "start_time": "2023-11-20T19:04:20.172Z"
   },
   {
    "duration": 19,
    "start_time": "2023-11-20T19:04:20.178Z"
   },
   {
    "duration": 6,
    "start_time": "2023-11-20T19:04:41.815Z"
   },
   {
    "duration": 1212,
    "start_time": "2023-11-20T19:05:16.473Z"
   },
   {
    "duration": 142,
    "start_time": "2023-11-20T19:05:17.687Z"
   },
   {
    "duration": 3,
    "start_time": "2023-11-20T19:05:17.831Z"
   },
   {
    "duration": 12,
    "start_time": "2023-11-20T19:05:17.836Z"
   },
   {
    "duration": 59,
    "start_time": "2023-11-20T19:05:17.850Z"
   },
   {
    "duration": 64,
    "start_time": "2023-11-20T19:05:17.911Z"
   },
   {
    "duration": 55,
    "start_time": "2023-11-20T19:05:17.977Z"
   },
   {
    "duration": 24,
    "start_time": "2023-11-20T19:05:18.033Z"
   },
   {
    "duration": 13,
    "start_time": "2023-11-20T19:05:18.059Z"
   },
   {
    "duration": 16,
    "start_time": "2023-11-20T19:05:18.075Z"
   },
   {
    "duration": 34,
    "start_time": "2023-11-20T19:05:18.093Z"
   },
   {
    "duration": 22,
    "start_time": "2023-11-20T19:05:18.129Z"
   },
   {
    "duration": 200,
    "start_time": "2023-11-20T19:05:18.153Z"
   },
   {
    "duration": 10,
    "start_time": "2023-11-20T19:05:18.354Z"
   },
   {
    "duration": 67,
    "start_time": "2023-11-20T19:05:18.365Z"
   },
   {
    "duration": 7,
    "start_time": "2023-11-20T19:05:18.433Z"
   },
   {
    "duration": 11,
    "start_time": "2023-11-20T19:05:18.441Z"
   },
   {
    "duration": 11,
    "start_time": "2023-11-20T19:05:18.453Z"
   },
   {
    "duration": 16,
    "start_time": "2023-11-20T19:05:18.465Z"
   },
   {
    "duration": 11,
    "start_time": "2023-11-20T19:05:18.483Z"
   },
   {
    "duration": 18,
    "start_time": "2023-11-20T19:05:18.496Z"
   },
   {
    "duration": 17,
    "start_time": "2023-11-20T19:05:18.515Z"
   },
   {
    "duration": 4,
    "start_time": "2023-11-20T19:05:18.533Z"
   },
   {
    "duration": 349,
    "start_time": "2023-11-20T19:05:18.539Z"
   },
   {
    "duration": 15,
    "start_time": "2023-11-20T19:05:18.890Z"
   },
   {
    "duration": 244,
    "start_time": "2023-11-20T19:05:18.907Z"
   },
   {
    "duration": 23,
    "start_time": "2023-11-20T19:05:19.154Z"
   },
   {
    "duration": 2664,
    "start_time": "2023-11-20T19:05:19.180Z"
   },
   {
    "duration": 11,
    "start_time": "2023-11-20T19:05:21.846Z"
   },
   {
    "duration": 104,
    "start_time": "2023-11-20T19:05:21.858Z"
   },
   {
    "duration": 0,
    "start_time": "2023-11-20T19:05:21.964Z"
   },
   {
    "duration": 0,
    "start_time": "2023-11-20T19:05:21.965Z"
   },
   {
    "duration": 0,
    "start_time": "2023-11-20T19:05:21.966Z"
   },
   {
    "duration": 8,
    "start_time": "2023-11-20T19:05:50.877Z"
   },
   {
    "duration": 121,
    "start_time": "2023-11-20T19:05:53.883Z"
   },
   {
    "duration": 6,
    "start_time": "2023-11-20T19:05:58.358Z"
   },
   {
    "duration": 13,
    "start_time": "2023-11-20T19:06:44.503Z"
   },
   {
    "duration": 868,
    "start_time": "2023-11-20T19:07:20.417Z"
   },
   {
    "duration": 12,
    "start_time": "2023-11-20T19:07:26.116Z"
   },
   {
    "duration": 5,
    "start_time": "2023-11-20T19:07:36.353Z"
   },
   {
    "duration": 14,
    "start_time": "2023-11-20T19:07:48.766Z"
   },
   {
    "duration": 906,
    "start_time": "2023-11-20T19:07:58.982Z"
   },
   {
    "duration": 1221,
    "start_time": "2023-11-20T19:09:57.369Z"
   },
   {
    "duration": 136,
    "start_time": "2023-11-20T19:09:58.592Z"
   },
   {
    "duration": 2,
    "start_time": "2023-11-20T19:09:58.730Z"
   },
   {
    "duration": 23,
    "start_time": "2023-11-20T19:09:58.734Z"
   },
   {
    "duration": 7,
    "start_time": "2023-11-20T19:09:58.759Z"
   },
   {
    "duration": 13,
    "start_time": "2023-11-20T19:09:58.768Z"
   },
   {
    "duration": 14,
    "start_time": "2023-11-20T19:09:58.783Z"
   },
   {
    "duration": 18,
    "start_time": "2023-11-20T19:09:58.799Z"
   },
   {
    "duration": 12,
    "start_time": "2023-11-20T19:09:58.819Z"
   },
   {
    "duration": 9,
    "start_time": "2023-11-20T19:09:58.832Z"
   },
   {
    "duration": 9,
    "start_time": "2023-11-20T19:09:58.842Z"
   },
   {
    "duration": 22,
    "start_time": "2023-11-20T19:09:58.853Z"
   },
   {
    "duration": 214,
    "start_time": "2023-11-20T19:09:58.878Z"
   },
   {
    "duration": 10,
    "start_time": "2023-11-20T19:09:59.100Z"
   },
   {
    "duration": 10,
    "start_time": "2023-11-20T19:09:59.112Z"
   },
   {
    "duration": 9,
    "start_time": "2023-11-20T19:09:59.123Z"
   },
   {
    "duration": 11,
    "start_time": "2023-11-20T19:09:59.133Z"
   },
   {
    "duration": 14,
    "start_time": "2023-11-20T19:09:59.145Z"
   },
   {
    "duration": 48,
    "start_time": "2023-11-20T19:09:59.160Z"
   },
   {
    "duration": 12,
    "start_time": "2023-11-20T19:09:59.209Z"
   },
   {
    "duration": 17,
    "start_time": "2023-11-20T19:09:59.222Z"
   },
   {
    "duration": 17,
    "start_time": "2023-11-20T19:09:59.241Z"
   },
   {
    "duration": 4,
    "start_time": "2023-11-20T19:09:59.260Z"
   },
   {
    "duration": 358,
    "start_time": "2023-11-20T19:09:59.266Z"
   },
   {
    "duration": 11,
    "start_time": "2023-11-20T19:09:59.627Z"
   },
   {
    "duration": 275,
    "start_time": "2023-11-20T19:09:59.640Z"
   },
   {
    "duration": 29,
    "start_time": "2023-11-20T19:09:59.917Z"
   },
   {
    "duration": 2756,
    "start_time": "2023-11-20T19:09:59.948Z"
   },
   {
    "duration": 11,
    "start_time": "2023-11-20T19:10:02.706Z"
   },
   {
    "duration": 128,
    "start_time": "2023-11-20T19:10:02.719Z"
   },
   {
    "duration": 121,
    "start_time": "2023-11-20T19:10:02.849Z"
   },
   {
    "duration": 0,
    "start_time": "2023-11-20T19:10:02.972Z"
   },
   {
    "duration": 12,
    "start_time": "2023-11-20T19:10:49.184Z"
   },
   {
    "duration": 11,
    "start_time": "2023-11-20T19:11:14.224Z"
   },
   {
    "duration": 105,
    "start_time": "2023-11-20T19:11:16.346Z"
   },
   {
    "duration": 13,
    "start_time": "2023-11-20T19:11:19.332Z"
   },
   {
    "duration": 13,
    "start_time": "2023-11-20T19:11:52.096Z"
   },
   {
    "duration": 13,
    "start_time": "2023-11-20T19:12:00.050Z"
   },
   {
    "duration": 1460,
    "start_time": "2023-11-21T14:13:17.948Z"
   },
   {
    "duration": 281,
    "start_time": "2023-11-21T14:13:19.410Z"
   },
   {
    "duration": 3,
    "start_time": "2023-11-21T14:13:19.692Z"
   },
   {
    "duration": 8,
    "start_time": "2023-11-21T14:13:19.697Z"
   },
   {
    "duration": 7,
    "start_time": "2023-11-21T14:13:19.707Z"
   },
   {
    "duration": 16,
    "start_time": "2023-11-21T14:13:19.716Z"
   },
   {
    "duration": 15,
    "start_time": "2023-11-21T14:13:19.734Z"
   },
   {
    "duration": 15,
    "start_time": "2023-11-21T14:13:19.751Z"
   },
   {
    "duration": 36,
    "start_time": "2023-11-21T14:13:19.769Z"
   },
   {
    "duration": 10,
    "start_time": "2023-11-21T14:13:19.807Z"
   },
   {
    "duration": 16,
    "start_time": "2023-11-21T14:13:19.819Z"
   },
   {
    "duration": 17,
    "start_time": "2023-11-21T14:13:19.837Z"
   },
   {
    "duration": 248,
    "start_time": "2023-11-21T14:13:19.857Z"
   },
   {
    "duration": 11,
    "start_time": "2023-11-21T14:13:20.107Z"
   },
   {
    "duration": 12,
    "start_time": "2023-11-21T14:13:20.120Z"
   },
   {
    "duration": 8,
    "start_time": "2023-11-21T14:13:20.134Z"
   },
   {
    "duration": 23,
    "start_time": "2023-11-21T14:13:20.144Z"
   },
   {
    "duration": 35,
    "start_time": "2023-11-21T14:13:20.169Z"
   },
   {
    "duration": 18,
    "start_time": "2023-11-21T14:13:20.206Z"
   },
   {
    "duration": 19,
    "start_time": "2023-11-21T14:13:20.226Z"
   },
   {
    "duration": 24,
    "start_time": "2023-11-21T14:13:20.247Z"
   },
   {
    "duration": 48,
    "start_time": "2023-11-21T14:13:20.272Z"
   },
   {
    "duration": 4,
    "start_time": "2023-11-21T14:13:20.322Z"
   },
   {
    "duration": 372,
    "start_time": "2023-11-21T14:13:20.328Z"
   },
   {
    "duration": 13,
    "start_time": "2023-11-21T14:13:20.701Z"
   },
   {
    "duration": 277,
    "start_time": "2023-11-21T14:13:20.716Z"
   },
   {
    "duration": 25,
    "start_time": "2023-11-21T14:13:20.999Z"
   },
   {
    "duration": 2801,
    "start_time": "2023-11-21T14:13:21.027Z"
   },
   {
    "duration": 14,
    "start_time": "2023-11-21T14:13:23.831Z"
   },
   {
    "duration": 122,
    "start_time": "2023-11-21T14:13:23.847Z"
   },
   {
    "duration": 35,
    "start_time": "2023-11-21T14:13:23.971Z"
   },
   {
    "duration": 605,
    "start_time": "2023-11-21T14:16:14.081Z"
   },
   {
    "duration": 191,
    "start_time": "2023-11-21T14:16:49.585Z"
   },
   {
    "duration": 122,
    "start_time": "2023-11-21T14:16:56.660Z"
   },
   {
    "duration": 285,
    "start_time": "2023-11-21T14:18:35.519Z"
   },
   {
    "duration": 121,
    "start_time": "2023-11-21T14:19:54.856Z"
   },
   {
    "duration": 380,
    "start_time": "2023-11-21T14:20:09.638Z"
   },
   {
    "duration": 5,
    "start_time": "2023-11-21T14:25:06.146Z"
   },
   {
    "duration": 305,
    "start_time": "2023-11-21T14:32:23.375Z"
   },
   {
    "duration": 10,
    "start_time": "2023-11-21T14:32:33.128Z"
   },
   {
    "duration": 10,
    "start_time": "2023-11-21T14:32:35.390Z"
   },
   {
    "duration": 10,
    "start_time": "2023-11-21T14:32:36.349Z"
   },
   {
    "duration": 9,
    "start_time": "2023-11-21T14:32:37.316Z"
   },
   {
    "duration": 12,
    "start_time": "2023-11-21T14:32:44.069Z"
   },
   {
    "duration": 11,
    "start_time": "2023-11-21T14:32:45.491Z"
   },
   {
    "duration": 10,
    "start_time": "2023-11-21T14:32:46.466Z"
   },
   {
    "duration": 10,
    "start_time": "2023-11-21T14:32:47.445Z"
   },
   {
    "duration": 10,
    "start_time": "2023-11-21T14:32:48.505Z"
   },
   {
    "duration": 10,
    "start_time": "2023-11-21T14:32:52.939Z"
   },
   {
    "duration": 10,
    "start_time": "2023-11-21T14:32:53.947Z"
   },
   {
    "duration": 9,
    "start_time": "2023-11-21T14:32:55.026Z"
   },
   {
    "duration": 10,
    "start_time": "2023-11-21T14:32:56.044Z"
   },
   {
    "duration": 10,
    "start_time": "2023-11-21T14:32:57.056Z"
   },
   {
    "duration": 11,
    "start_time": "2023-11-21T14:32:57.987Z"
   },
   {
    "duration": 11,
    "start_time": "2023-11-21T14:32:58.984Z"
   },
   {
    "duration": 10,
    "start_time": "2023-11-21T14:32:59.999Z"
   },
   {
    "duration": 10,
    "start_time": "2023-11-21T14:33:14.956Z"
   },
   {
    "duration": 11,
    "start_time": "2023-11-21T14:33:33.010Z"
   },
   {
    "duration": 11,
    "start_time": "2023-11-21T14:33:34.548Z"
   },
   {
    "duration": 10,
    "start_time": "2023-11-21T14:33:35.581Z"
   },
   {
    "duration": 11,
    "start_time": "2023-11-21T14:33:36.524Z"
   },
   {
    "duration": 10,
    "start_time": "2023-11-21T14:33:38.945Z"
   },
   {
    "duration": 10,
    "start_time": "2023-11-21T14:33:40.006Z"
   },
   {
    "duration": 10,
    "start_time": "2023-11-21T14:33:40.971Z"
   },
   {
    "duration": 11,
    "start_time": "2023-11-21T14:33:41.881Z"
   },
   {
    "duration": 10,
    "start_time": "2023-11-21T14:33:42.935Z"
   },
   {
    "duration": 11,
    "start_time": "2023-11-21T14:33:43.936Z"
   },
   {
    "duration": 10,
    "start_time": "2023-11-21T14:33:44.951Z"
   },
   {
    "duration": 10,
    "start_time": "2023-11-21T14:33:46.057Z"
   },
   {
    "duration": 10,
    "start_time": "2023-11-21T14:33:47.027Z"
   },
   {
    "duration": 10,
    "start_time": "2023-11-21T14:33:47.936Z"
   },
   {
    "duration": 10,
    "start_time": "2023-11-21T14:33:48.814Z"
   },
   {
    "duration": 12,
    "start_time": "2023-11-21T14:33:49.764Z"
   },
   {
    "duration": 10,
    "start_time": "2023-11-21T14:33:50.698Z"
   },
   {
    "duration": 10,
    "start_time": "2023-11-21T14:33:55.265Z"
   },
   {
    "duration": 11,
    "start_time": "2023-11-21T14:33:56.644Z"
   },
   {
    "duration": 13,
    "start_time": "2023-11-21T14:33:58.593Z"
   },
   {
    "duration": 12,
    "start_time": "2023-11-21T14:34:01.140Z"
   },
   {
    "duration": 9,
    "start_time": "2023-11-21T14:34:02.416Z"
   },
   {
    "duration": 10,
    "start_time": "2023-11-21T14:34:03.771Z"
   },
   {
    "duration": 10,
    "start_time": "2023-11-21T14:34:04.958Z"
   },
   {
    "duration": 9,
    "start_time": "2023-11-21T14:34:06.120Z"
   },
   {
    "duration": 10,
    "start_time": "2023-11-21T14:34:45.460Z"
   },
   {
    "duration": 9,
    "start_time": "2023-11-21T14:35:25.564Z"
   },
   {
    "duration": 10,
    "start_time": "2023-11-21T14:35:27.090Z"
   },
   {
    "duration": 10,
    "start_time": "2023-11-21T14:35:27.981Z"
   },
   {
    "duration": 10,
    "start_time": "2023-11-21T14:35:29.073Z"
   },
   {
    "duration": 14,
    "start_time": "2023-11-21T14:35:39.755Z"
   },
   {
    "duration": 11,
    "start_time": "2023-11-21T14:35:40.638Z"
   },
   {
    "duration": 10,
    "start_time": "2023-11-21T14:35:41.511Z"
   },
   {
    "duration": 10,
    "start_time": "2023-11-21T14:35:42.649Z"
   },
   {
    "duration": 10,
    "start_time": "2023-11-21T14:35:43.663Z"
   },
   {
    "duration": 10,
    "start_time": "2023-11-21T14:35:44.601Z"
   },
   {
    "duration": 10,
    "start_time": "2023-11-21T14:35:45.495Z"
   },
   {
    "duration": 10,
    "start_time": "2023-11-21T14:35:46.401Z"
   },
   {
    "duration": 11,
    "start_time": "2023-11-21T14:35:47.348Z"
   },
   {
    "duration": 11,
    "start_time": "2023-11-21T14:35:48.248Z"
   },
   {
    "duration": 11,
    "start_time": "2023-11-21T14:35:49.109Z"
   },
   {
    "duration": 11,
    "start_time": "2023-11-21T14:35:50.027Z"
   },
   {
    "duration": 10,
    "start_time": "2023-11-21T14:35:50.899Z"
   },
   {
    "duration": 11,
    "start_time": "2023-11-21T14:35:51.848Z"
   },
   {
    "duration": 10,
    "start_time": "2023-11-21T14:35:52.812Z"
   },
   {
    "duration": 10,
    "start_time": "2023-11-21T14:35:53.775Z"
   },
   {
    "duration": 10,
    "start_time": "2023-11-21T14:37:53.369Z"
   },
   {
    "duration": 11,
    "start_time": "2023-11-21T14:37:54.781Z"
   },
   {
    "duration": 10,
    "start_time": "2023-11-21T14:37:55.808Z"
   },
   {
    "duration": 11,
    "start_time": "2023-11-21T14:37:56.898Z"
   },
   {
    "duration": 12,
    "start_time": "2023-11-21T14:37:57.810Z"
   },
   {
    "duration": 10,
    "start_time": "2023-11-21T14:37:58.787Z"
   },
   {
    "duration": 12,
    "start_time": "2023-11-21T14:37:59.700Z"
   },
   {
    "duration": 11,
    "start_time": "2023-11-21T14:38:00.889Z"
   },
   {
    "duration": 11,
    "start_time": "2023-11-21T14:38:01.604Z"
   },
   {
    "duration": 10,
    "start_time": "2023-11-21T14:38:02.589Z"
   },
   {
    "duration": 12,
    "start_time": "2023-11-21T14:38:04.073Z"
   },
   {
    "duration": 10,
    "start_time": "2023-11-21T14:38:05.160Z"
   },
   {
    "duration": 10,
    "start_time": "2023-11-21T14:38:06.362Z"
   },
   {
    "duration": 14,
    "start_time": "2023-11-21T14:38:07.313Z"
   },
   {
    "duration": 11,
    "start_time": "2023-11-21T14:38:08.266Z"
   },
   {
    "duration": 10,
    "start_time": "2023-11-21T14:38:09.508Z"
   },
   {
    "duration": 11,
    "start_time": "2023-11-21T14:38:10.513Z"
   },
   {
    "duration": 10,
    "start_time": "2023-11-21T14:38:11.345Z"
   },
   {
    "duration": 9,
    "start_time": "2023-11-21T14:38:12.156Z"
   },
   {
    "duration": 10,
    "start_time": "2023-11-21T14:38:12.993Z"
   },
   {
    "duration": 11,
    "start_time": "2023-11-21T14:38:13.923Z"
   },
   {
    "duration": 10,
    "start_time": "2023-11-21T14:38:14.782Z"
   },
   {
    "duration": 11,
    "start_time": "2023-11-21T14:38:15.880Z"
   },
   {
    "duration": 12,
    "start_time": "2023-11-21T14:38:16.765Z"
   },
   {
    "duration": 10,
    "start_time": "2023-11-21T14:38:17.657Z"
   },
   {
    "duration": 10,
    "start_time": "2023-11-21T14:38:18.602Z"
   },
   {
    "duration": 11,
    "start_time": "2023-11-21T14:38:19.516Z"
   },
   {
    "duration": 10,
    "start_time": "2023-11-21T14:38:20.375Z"
   },
   {
    "duration": 10,
    "start_time": "2023-11-21T14:38:21.272Z"
   },
   {
    "duration": 10,
    "start_time": "2023-11-21T14:38:22.180Z"
   },
   {
    "duration": 10,
    "start_time": "2023-11-21T14:39:15.402Z"
   },
   {
    "duration": 310,
    "start_time": "2023-11-21T14:40:06.308Z"
   },
   {
    "duration": 307,
    "start_time": "2023-11-21T14:40:14.149Z"
   },
   {
    "duration": 368,
    "start_time": "2023-11-21T14:40:19.675Z"
   },
   {
    "duration": 11,
    "start_time": "2023-11-21T14:40:35.667Z"
   },
   {
    "duration": 9,
    "start_time": "2023-11-21T14:40:37.731Z"
   },
   {
    "duration": 10,
    "start_time": "2023-11-21T14:40:38.622Z"
   },
   {
    "duration": 12,
    "start_time": "2023-11-21T14:40:39.574Z"
   },
   {
    "duration": 11,
    "start_time": "2023-11-21T14:40:40.450Z"
   },
   {
    "duration": 11,
    "start_time": "2023-11-21T14:40:41.467Z"
   },
   {
    "duration": 10,
    "start_time": "2023-11-21T14:40:42.375Z"
   },
   {
    "duration": 10,
    "start_time": "2023-11-21T14:40:43.311Z"
   },
   {
    "duration": 11,
    "start_time": "2023-11-21T14:40:44.571Z"
   },
   {
    "duration": 9,
    "start_time": "2023-11-21T14:40:45.571Z"
   },
   {
    "duration": 10,
    "start_time": "2023-11-21T14:40:46.667Z"
   },
   {
    "duration": 10,
    "start_time": "2023-11-21T14:40:47.619Z"
   },
   {
    "duration": 9,
    "start_time": "2023-11-21T14:40:49.073Z"
   },
   {
    "duration": 16,
    "start_time": "2023-11-21T14:40:49.987Z"
   },
   {
    "duration": 11,
    "start_time": "2023-11-21T14:40:50.950Z"
   },
   {
    "duration": 11,
    "start_time": "2023-11-21T14:40:52.331Z"
   },
   {
    "duration": 16,
    "start_time": "2023-11-21T14:41:11.396Z"
   },
   {
    "duration": 11,
    "start_time": "2023-11-21T14:41:17.434Z"
   },
   {
    "duration": 10,
    "start_time": "2023-11-21T14:41:19.269Z"
   },
   {
    "duration": 12,
    "start_time": "2023-11-21T14:49:39.091Z"
   },
   {
    "duration": 13,
    "start_time": "2023-11-21T14:49:41.188Z"
   },
   {
    "duration": 10,
    "start_time": "2023-11-21T14:49:42.121Z"
   },
   {
    "duration": 11,
    "start_time": "2023-11-21T14:49:49.814Z"
   },
   {
    "duration": 10,
    "start_time": "2023-11-21T14:49:50.709Z"
   },
   {
    "duration": 10,
    "start_time": "2023-11-21T14:49:51.557Z"
   },
   {
    "duration": 9,
    "start_time": "2023-11-21T14:49:52.587Z"
   },
   {
    "duration": 14,
    "start_time": "2023-11-21T14:49:53.449Z"
   },
   {
    "duration": 11,
    "start_time": "2023-11-21T14:49:54.269Z"
   },
   {
    "duration": 12,
    "start_time": "2023-11-21T14:49:55.162Z"
   },
   {
    "duration": 11,
    "start_time": "2023-11-21T14:49:55.985Z"
   },
   {
    "duration": 11,
    "start_time": "2023-11-21T14:49:56.803Z"
   },
   {
    "duration": 13,
    "start_time": "2023-11-21T14:49:57.653Z"
   },
   {
    "duration": 11,
    "start_time": "2023-11-21T14:49:58.487Z"
   },
   {
    "duration": 9,
    "start_time": "2023-11-21T14:49:59.367Z"
   },
   {
    "duration": 10,
    "start_time": "2023-11-21T14:50:00.191Z"
   },
   {
    "duration": 10,
    "start_time": "2023-11-21T14:50:01.067Z"
   },
   {
    "duration": 12,
    "start_time": "2023-11-21T14:50:01.941Z"
   },
   {
    "duration": 12,
    "start_time": "2023-11-21T14:50:02.826Z"
   },
   {
    "duration": 10,
    "start_time": "2023-11-21T14:50:03.868Z"
   },
   {
    "duration": 10,
    "start_time": "2023-11-21T14:50:04.857Z"
   },
   {
    "duration": 11,
    "start_time": "2023-11-21T14:50:05.860Z"
   },
   {
    "duration": 11,
    "start_time": "2023-11-21T14:50:06.816Z"
   },
   {
    "duration": 10,
    "start_time": "2023-11-21T14:50:29.649Z"
   },
   {
    "duration": 11,
    "start_time": "2023-11-21T14:50:31.015Z"
   },
   {
    "duration": 9,
    "start_time": "2023-11-21T14:50:32.175Z"
   },
   {
    "duration": 10,
    "start_time": "2023-11-21T14:50:33.452Z"
   },
   {
    "duration": 10,
    "start_time": "2023-11-21T14:50:34.303Z"
   },
   {
    "duration": 10,
    "start_time": "2023-11-21T14:50:35.303Z"
   },
   {
    "duration": 10,
    "start_time": "2023-11-21T14:50:51.896Z"
   },
   {
    "duration": 10,
    "start_time": "2023-11-21T14:51:03.422Z"
   },
   {
    "duration": 10,
    "start_time": "2023-11-21T14:51:06.368Z"
   },
   {
    "duration": 14,
    "start_time": "2023-11-21T14:51:07.609Z"
   },
   {
    "duration": 12,
    "start_time": "2023-11-21T14:51:08.916Z"
   },
   {
    "duration": 10,
    "start_time": "2023-11-21T14:51:10.080Z"
   },
   {
    "duration": 14,
    "start_time": "2023-11-21T14:51:11.717Z"
   },
   {
    "duration": 12,
    "start_time": "2023-11-21T14:51:15.198Z"
   },
   {
    "duration": 11,
    "start_time": "2023-11-21T14:51:16.278Z"
   },
   {
    "duration": 11,
    "start_time": "2023-11-21T14:51:17.529Z"
   },
   {
    "duration": 12,
    "start_time": "2023-11-21T14:51:19.321Z"
   },
   {
    "duration": 97,
    "start_time": "2023-11-21T14:52:51.442Z"
   },
   {
    "duration": 134,
    "start_time": "2023-11-21T15:21:19.517Z"
   },
   {
    "duration": 90,
    "start_time": "2023-11-21T15:22:48.667Z"
   },
   {
    "duration": 10,
    "start_time": "2023-11-21T15:23:05.177Z"
   },
   {
    "duration": 10,
    "start_time": "2023-11-21T15:23:06.669Z"
   },
   {
    "duration": 11,
    "start_time": "2023-11-21T15:23:07.581Z"
   },
   {
    "duration": 9,
    "start_time": "2023-11-21T15:23:08.452Z"
   },
   {
    "duration": 10,
    "start_time": "2023-11-21T15:23:09.321Z"
   },
   {
    "duration": 9,
    "start_time": "2023-11-21T15:23:10.208Z"
   },
   {
    "duration": 11,
    "start_time": "2023-11-21T15:23:11.138Z"
   },
   {
    "duration": 10,
    "start_time": "2023-11-21T15:23:12.046Z"
   },
   {
    "duration": 13,
    "start_time": "2023-11-21T15:23:13.068Z"
   },
   {
    "duration": 63,
    "start_time": "2023-11-21T15:23:56.830Z"
   },
   {
    "duration": 58,
    "start_time": "2023-11-21T15:24:10.212Z"
   },
   {
    "duration": 4464,
    "start_time": "2023-11-21T15:24:28.740Z"
   },
   {
    "duration": 4407,
    "start_time": "2023-11-21T15:24:54.187Z"
   },
   {
    "duration": 10,
    "start_time": "2023-11-21T15:25:27.671Z"
   },
   {
    "duration": 384,
    "start_time": "2023-11-21T15:26:13.767Z"
   },
   {
    "duration": 386,
    "start_time": "2023-11-21T15:26:22.980Z"
   },
   {
    "duration": 386,
    "start_time": "2023-11-21T15:26:33.485Z"
   },
   {
    "duration": 404,
    "start_time": "2023-11-21T15:26:37.022Z"
   },
   {
    "duration": 10,
    "start_time": "2023-11-21T15:27:02.025Z"
   },
   {
    "duration": 94,
    "start_time": "2023-11-21T15:31:16.728Z"
   },
   {
    "duration": 3,
    "start_time": "2023-11-21T15:40:47.727Z"
   },
   {
    "duration": 140,
    "start_time": "2023-11-21T15:40:47.733Z"
   },
   {
    "duration": 2,
    "start_time": "2023-11-21T15:40:47.875Z"
   },
   {
    "duration": 11,
    "start_time": "2023-11-21T15:40:47.879Z"
   },
   {
    "duration": 6,
    "start_time": "2023-11-21T15:40:47.892Z"
   },
   {
    "duration": 18,
    "start_time": "2023-11-21T15:40:47.899Z"
   },
   {
    "duration": 16,
    "start_time": "2023-11-21T15:40:47.919Z"
   },
   {
    "duration": 13,
    "start_time": "2023-11-21T15:40:47.937Z"
   },
   {
    "duration": 25,
    "start_time": "2023-11-21T15:40:47.952Z"
   },
   {
    "duration": 9,
    "start_time": "2023-11-21T15:40:47.979Z"
   },
   {
    "duration": 8,
    "start_time": "2023-11-21T15:40:48.000Z"
   },
   {
    "duration": 19,
    "start_time": "2023-11-21T15:40:48.010Z"
   },
   {
    "duration": 378,
    "start_time": "2023-11-21T15:40:48.031Z"
   },
   {
    "duration": 10,
    "start_time": "2023-11-21T15:40:48.412Z"
   },
   {
    "duration": 11,
    "start_time": "2023-11-21T15:40:48.424Z"
   },
   {
    "duration": 8,
    "start_time": "2023-11-21T15:40:48.436Z"
   },
   {
    "duration": 9,
    "start_time": "2023-11-21T15:40:48.446Z"
   },
   {
    "duration": 46,
    "start_time": "2023-11-21T15:40:48.457Z"
   },
   {
    "duration": 17,
    "start_time": "2023-11-21T15:40:48.505Z"
   },
   {
    "duration": 39,
    "start_time": "2023-11-21T15:40:48.524Z"
   },
   {
    "duration": 17,
    "start_time": "2023-11-21T15:40:48.565Z"
   },
   {
    "duration": 16,
    "start_time": "2023-11-21T15:40:48.584Z"
   },
   {
    "duration": 3,
    "start_time": "2023-11-21T15:40:48.602Z"
   },
   {
    "duration": 356,
    "start_time": "2023-11-21T15:40:48.607Z"
   },
   {
    "duration": 10,
    "start_time": "2023-11-21T15:40:48.965Z"
   },
   {
    "duration": 265,
    "start_time": "2023-11-21T15:40:48.977Z"
   },
   {
    "duration": 25,
    "start_time": "2023-11-21T15:40:49.244Z"
   },
   {
    "duration": 2684,
    "start_time": "2023-11-21T15:40:49.271Z"
   },
   {
    "duration": 12,
    "start_time": "2023-11-21T15:40:51.957Z"
   },
   {
    "duration": 150,
    "start_time": "2023-11-21T15:40:51.970Z"
   },
   {
    "duration": 25,
    "start_time": "2023-11-21T15:41:04.145Z"
   },
   {
    "duration": 9,
    "start_time": "2023-11-21T15:42:59.397Z"
   },
   {
    "duration": 11,
    "start_time": "2023-11-21T15:43:16.523Z"
   },
   {
    "duration": 12,
    "start_time": "2023-11-21T15:43:26.729Z"
   },
   {
    "duration": 11,
    "start_time": "2023-11-21T15:43:30.556Z"
   },
   {
    "duration": 11,
    "start_time": "2023-11-21T15:44:44.912Z"
   },
   {
    "duration": 19,
    "start_time": "2023-11-21T15:45:10.449Z"
   },
   {
    "duration": 18,
    "start_time": "2023-11-21T15:45:25.138Z"
   },
   {
    "duration": 29,
    "start_time": "2023-11-21T15:45:31.970Z"
   },
   {
    "duration": 26,
    "start_time": "2023-11-21T15:46:25.022Z"
   },
   {
    "duration": 19,
    "start_time": "2023-11-21T15:46:32.437Z"
   },
   {
    "duration": 18,
    "start_time": "2023-11-21T15:46:36.188Z"
   },
   {
    "duration": 26,
    "start_time": "2023-11-21T15:46:38.939Z"
   },
   {
    "duration": 28,
    "start_time": "2023-11-21T15:46:52.214Z"
   },
   {
    "duration": 28,
    "start_time": "2023-11-21T15:46:57.040Z"
   },
   {
    "duration": 25,
    "start_time": "2023-11-21T15:47:40.843Z"
   },
   {
    "duration": 27,
    "start_time": "2023-11-21T15:48:21.125Z"
   },
   {
    "duration": 715,
    "start_time": "2023-11-21T15:50:13.291Z"
   },
   {
    "duration": 153,
    "start_time": "2023-11-21T15:53:04.993Z"
   },
   {
    "duration": 557,
    "start_time": "2023-11-21T15:53:12.173Z"
   },
   {
    "duration": 98,
    "start_time": "2023-11-21T15:53:59.653Z"
   },
   {
    "duration": 563,
    "start_time": "2023-11-21T15:54:10.507Z"
   },
   {
    "duration": 566,
    "start_time": "2023-11-21T15:56:06.417Z"
   },
   {
    "duration": 603,
    "start_time": "2023-11-21T15:57:31.134Z"
   },
   {
    "duration": 145,
    "start_time": "2023-11-21T15:57:38.971Z"
   },
   {
    "duration": 581,
    "start_time": "2023-11-21T15:57:46.300Z"
   },
   {
    "duration": 25,
    "start_time": "2023-11-21T16:00:15.079Z"
   },
   {
    "duration": 25,
    "start_time": "2023-11-21T16:00:45.475Z"
   },
   {
    "duration": 24,
    "start_time": "2023-11-21T16:04:10.940Z"
   },
   {
    "duration": 107,
    "start_time": "2023-11-21T16:04:30.969Z"
   },
   {
    "duration": 177,
    "start_time": "2023-11-21T16:07:13.863Z"
   },
   {
    "duration": 211,
    "start_time": "2023-11-21T16:07:37.120Z"
   },
   {
    "duration": 227,
    "start_time": "2023-11-21T16:08:05.124Z"
   },
   {
    "duration": 414,
    "start_time": "2023-11-21T16:08:16.675Z"
   },
   {
    "duration": 299,
    "start_time": "2023-11-21T16:08:31.941Z"
   },
   {
    "duration": 144,
    "start_time": "2023-11-21T16:08:38.237Z"
   },
   {
    "duration": 282,
    "start_time": "2023-11-21T16:08:44.891Z"
   },
   {
    "duration": 539,
    "start_time": "2023-11-21T16:09:23.961Z"
   },
   {
    "duration": 290,
    "start_time": "2023-11-21T16:09:35.590Z"
   },
   {
    "duration": 26,
    "start_time": "2023-11-21T16:09:58.205Z"
   },
   {
    "duration": 1324,
    "start_time": "2023-11-21T16:12:19.316Z"
   },
   {
    "duration": 1552,
    "start_time": "2023-11-21T16:13:11.772Z"
   },
   {
    "duration": 1371,
    "start_time": "2023-11-21T16:13:16.853Z"
   },
   {
    "duration": 1369,
    "start_time": "2023-11-21T16:13:20.870Z"
   },
   {
    "duration": 1287,
    "start_time": "2023-11-21T16:13:27.748Z"
   },
   {
    "duration": 3,
    "start_time": "2023-11-21T16:13:57.326Z"
   },
   {
    "duration": 154,
    "start_time": "2023-11-21T16:14:11.214Z"
   },
   {
    "duration": 1348,
    "start_time": "2023-11-21T16:15:15.955Z"
   },
   {
    "duration": 20,
    "start_time": "2023-11-21T16:15:46.968Z"
   },
   {
    "duration": 1417,
    "start_time": "2023-11-21T16:15:54.811Z"
   },
   {
    "duration": 1266,
    "start_time": "2023-11-21T16:16:50.655Z"
   },
   {
    "duration": 1375,
    "start_time": "2023-11-21T16:17:47.965Z"
   },
   {
    "duration": 171,
    "start_time": "2023-11-21T16:18:41.019Z"
   },
   {
    "duration": 1347,
    "start_time": "2023-11-21T16:19:22.816Z"
   },
   {
    "duration": 1691,
    "start_time": "2023-11-21T16:19:40.741Z"
   },
   {
    "duration": 1526,
    "start_time": "2023-11-21T16:19:50.221Z"
   },
   {
    "duration": 2450,
    "start_time": "2023-11-21T16:20:00.001Z"
   },
   {
    "duration": 1298,
    "start_time": "2023-11-21T16:20:14.549Z"
   },
   {
    "duration": 1328,
    "start_time": "2023-11-21T16:21:44.198Z"
   },
   {
    "duration": 1633,
    "start_time": "2023-11-21T16:21:51.920Z"
   },
   {
    "duration": 1356,
    "start_time": "2023-11-21T16:21:58.171Z"
   },
   {
    "duration": 1297,
    "start_time": "2023-11-21T16:22:03.325Z"
   },
   {
    "duration": 1532,
    "start_time": "2023-11-21T16:23:37.385Z"
   },
   {
    "duration": 1103,
    "start_time": "2023-11-21T16:30:00.077Z"
   },
   {
    "duration": 1247,
    "start_time": "2023-11-21T16:30:42.575Z"
   },
   {
    "duration": 652,
    "start_time": "2023-11-21T16:30:49.868Z"
   },
   {
    "duration": 687,
    "start_time": "2023-11-21T16:31:09.523Z"
   },
   {
    "duration": 880,
    "start_time": "2023-11-21T16:31:19.543Z"
   },
   {
    "duration": 628,
    "start_time": "2023-11-21T16:31:39.921Z"
   },
   {
    "duration": 609,
    "start_time": "2023-11-21T16:32:02.107Z"
   },
   {
    "duration": 223,
    "start_time": "2023-11-21T16:34:52.151Z"
   },
   {
    "duration": 659,
    "start_time": "2023-11-21T16:35:21.572Z"
   },
   {
    "duration": 1270,
    "start_time": "2023-11-21T16:37:09.459Z"
   },
   {
    "duration": 619,
    "start_time": "2023-11-21T16:37:40.422Z"
   },
   {
    "duration": 844,
    "start_time": "2023-11-21T16:38:03.475Z"
   },
   {
    "duration": 228,
    "start_time": "2023-11-21T16:38:22.077Z"
   },
   {
    "duration": 649,
    "start_time": "2023-11-21T16:38:34.319Z"
   },
   {
    "duration": 663,
    "start_time": "2023-11-21T16:38:57.957Z"
   },
   {
    "duration": 656,
    "start_time": "2023-11-21T16:40:08.518Z"
   },
   {
    "duration": 897,
    "start_time": "2023-11-21T16:40:15.507Z"
   },
   {
    "duration": 737,
    "start_time": "2023-11-21T16:40:20.777Z"
   },
   {
    "duration": 706,
    "start_time": "2023-11-21T16:40:33.497Z"
   },
   {
    "duration": 700,
    "start_time": "2023-11-21T16:40:44.862Z"
   },
   {
    "duration": 30,
    "start_time": "2023-11-21T16:41:24.004Z"
   },
   {
    "duration": 1243,
    "start_time": "2023-11-21T16:41:37.957Z"
   },
   {
    "duration": 150,
    "start_time": "2023-11-21T16:41:39.203Z"
   },
   {
    "duration": 3,
    "start_time": "2023-11-21T16:41:39.355Z"
   },
   {
    "duration": 14,
    "start_time": "2023-11-21T16:41:39.360Z"
   },
   {
    "duration": 6,
    "start_time": "2023-11-21T16:41:39.377Z"
   },
   {
    "duration": 12,
    "start_time": "2023-11-21T16:41:39.401Z"
   },
   {
    "duration": 16,
    "start_time": "2023-11-21T16:41:39.415Z"
   },
   {
    "duration": 15,
    "start_time": "2023-11-21T16:41:39.433Z"
   },
   {
    "duration": 9,
    "start_time": "2023-11-21T16:41:39.449Z"
   },
   {
    "duration": 45,
    "start_time": "2023-11-21T16:41:39.460Z"
   },
   {
    "duration": 13,
    "start_time": "2023-11-21T16:41:39.508Z"
   },
   {
    "duration": 26,
    "start_time": "2023-11-21T16:41:39.523Z"
   },
   {
    "duration": 212,
    "start_time": "2023-11-21T16:41:39.551Z"
   },
   {
    "duration": 12,
    "start_time": "2023-11-21T16:41:39.766Z"
   },
   {
    "duration": 12,
    "start_time": "2023-11-21T16:41:39.801Z"
   },
   {
    "duration": 8,
    "start_time": "2023-11-21T16:41:39.815Z"
   },
   {
    "duration": 11,
    "start_time": "2023-11-21T16:41:39.824Z"
   },
   {
    "duration": 12,
    "start_time": "2023-11-21T16:41:39.837Z"
   },
   {
    "duration": 49,
    "start_time": "2023-11-21T16:41:39.852Z"
   },
   {
    "duration": 10,
    "start_time": "2023-11-21T16:41:39.903Z"
   },
   {
    "duration": 16,
    "start_time": "2023-11-21T16:41:39.915Z"
   },
   {
    "duration": 23,
    "start_time": "2023-11-21T16:41:39.934Z"
   },
   {
    "duration": 3,
    "start_time": "2023-11-21T16:41:39.959Z"
   },
   {
    "duration": 369,
    "start_time": "2023-11-21T16:41:39.964Z"
   },
   {
    "duration": 12,
    "start_time": "2023-11-21T16:41:40.335Z"
   },
   {
    "duration": 267,
    "start_time": "2023-11-21T16:41:40.349Z"
   },
   {
    "duration": 25,
    "start_time": "2023-11-21T16:41:40.617Z"
   },
   {
    "duration": 2781,
    "start_time": "2023-11-21T16:41:40.643Z"
   },
   {
    "duration": 11,
    "start_time": "2023-11-21T16:41:43.426Z"
   },
   {
    "duration": 109,
    "start_time": "2023-11-21T16:41:43.439Z"
   },
   {
    "duration": 1288,
    "start_time": "2023-11-21T16:41:43.549Z"
   },
   {
    "duration": 714,
    "start_time": "2023-11-21T16:41:44.839Z"
   },
   {
    "duration": 46,
    "start_time": "2023-11-21T16:41:45.555Z"
   },
   {
    "duration": 12,
    "start_time": "2023-11-21T16:41:45.603Z"
   },
   {
    "duration": 17,
    "start_time": "2023-11-21T16:41:45.617Z"
   },
   {
    "duration": 2700,
    "start_time": "2023-11-21T16:42:09.682Z"
   },
   {
    "duration": 2539,
    "start_time": "2023-11-21T16:42:17.645Z"
   },
   {
    "duration": 2208,
    "start_time": "2023-11-21T16:42:27.114Z"
   },
   {
    "duration": 2160,
    "start_time": "2023-11-21T16:42:34.510Z"
   },
   {
    "duration": 1853,
    "start_time": "2023-11-21T16:42:48.484Z"
   },
   {
    "duration": 2598,
    "start_time": "2023-11-21T16:42:58.184Z"
   },
   {
    "duration": 2283,
    "start_time": "2023-11-21T16:43:04.624Z"
   },
   {
    "duration": 2260,
    "start_time": "2023-11-21T16:43:11.946Z"
   },
   {
    "duration": 2440,
    "start_time": "2023-11-21T16:43:19.235Z"
   },
   {
    "duration": 2418,
    "start_time": "2023-11-21T16:43:26.304Z"
   },
   {
    "duration": 2381,
    "start_time": "2023-11-21T16:43:34.502Z"
   },
   {
    "duration": 1166,
    "start_time": "2023-11-21T16:44:22.936Z"
   },
   {
    "duration": 148,
    "start_time": "2023-11-21T16:44:24.104Z"
   },
   {
    "duration": 3,
    "start_time": "2023-11-21T16:44:24.254Z"
   },
   {
    "duration": 16,
    "start_time": "2023-11-21T16:44:24.258Z"
   },
   {
    "duration": 6,
    "start_time": "2023-11-21T16:44:24.277Z"
   },
   {
    "duration": 17,
    "start_time": "2023-11-21T16:44:24.285Z"
   },
   {
    "duration": 15,
    "start_time": "2023-11-21T16:44:24.304Z"
   },
   {
    "duration": 15,
    "start_time": "2023-11-21T16:44:24.321Z"
   },
   {
    "duration": 9,
    "start_time": "2023-11-21T16:44:24.338Z"
   },
   {
    "duration": 9,
    "start_time": "2023-11-21T16:44:24.349Z"
   },
   {
    "duration": 41,
    "start_time": "2023-11-21T16:44:24.360Z"
   },
   {
    "duration": 19,
    "start_time": "2023-11-21T16:44:24.403Z"
   },
   {
    "duration": 235,
    "start_time": "2023-11-21T16:44:24.424Z"
   },
   {
    "duration": 9,
    "start_time": "2023-11-21T16:44:24.663Z"
   },
   {
    "duration": 12,
    "start_time": "2023-11-21T16:44:24.674Z"
   },
   {
    "duration": 13,
    "start_time": "2023-11-21T16:44:24.688Z"
   },
   {
    "duration": 16,
    "start_time": "2023-11-21T16:44:24.702Z"
   },
   {
    "duration": 19,
    "start_time": "2023-11-21T16:44:24.720Z"
   },
   {
    "duration": 19,
    "start_time": "2023-11-21T16:44:24.741Z"
   },
   {
    "duration": 21,
    "start_time": "2023-11-21T16:44:24.762Z"
   },
   {
    "duration": 16,
    "start_time": "2023-11-21T16:44:24.785Z"
   },
   {
    "duration": 33,
    "start_time": "2023-11-21T16:44:24.803Z"
   },
   {
    "duration": 11,
    "start_time": "2023-11-21T16:44:24.837Z"
   },
   {
    "duration": 452,
    "start_time": "2023-11-21T16:44:24.850Z"
   },
   {
    "duration": 12,
    "start_time": "2023-11-21T16:44:25.304Z"
   },
   {
    "duration": 264,
    "start_time": "2023-11-21T16:44:25.317Z"
   },
   {
    "duration": 29,
    "start_time": "2023-11-21T16:44:25.583Z"
   },
   {
    "duration": 2542,
    "start_time": "2023-11-21T16:44:25.614Z"
   },
   {
    "duration": 12,
    "start_time": "2023-11-21T16:44:28.158Z"
   },
   {
    "duration": 111,
    "start_time": "2023-11-21T16:44:28.172Z"
   },
   {
    "duration": 718,
    "start_time": "2023-11-21T16:44:28.285Z"
   },
   {
    "duration": 27,
    "start_time": "2023-11-21T16:44:29.005Z"
   },
   {
    "duration": 10,
    "start_time": "2023-11-21T16:44:29.033Z"
   },
   {
    "duration": 16,
    "start_time": "2023-11-21T16:44:29.045Z"
   },
   {
    "duration": 1195,
    "start_time": "2023-11-21T17:24:23.899Z"
   },
   {
    "duration": 135,
    "start_time": "2023-11-21T17:24:25.096Z"
   },
   {
    "duration": 3,
    "start_time": "2023-11-21T17:24:25.233Z"
   },
   {
    "duration": 29,
    "start_time": "2023-11-21T17:24:25.237Z"
   },
   {
    "duration": 35,
    "start_time": "2023-11-21T17:24:25.269Z"
   },
   {
    "duration": 23,
    "start_time": "2023-11-21T17:24:25.305Z"
   },
   {
    "duration": 17,
    "start_time": "2023-11-21T17:24:25.330Z"
   },
   {
    "duration": 45,
    "start_time": "2023-11-21T17:24:25.349Z"
   },
   {
    "duration": 9,
    "start_time": "2023-11-21T17:24:25.395Z"
   },
   {
    "duration": 12,
    "start_time": "2023-11-21T17:24:25.405Z"
   },
   {
    "duration": 9,
    "start_time": "2023-11-21T17:24:25.419Z"
   },
   {
    "duration": 20,
    "start_time": "2023-11-21T17:24:25.430Z"
   },
   {
    "duration": 217,
    "start_time": "2023-11-21T17:24:25.452Z"
   },
   {
    "duration": 10,
    "start_time": "2023-11-21T17:24:25.672Z"
   },
   {
    "duration": 23,
    "start_time": "2023-11-21T17:24:25.684Z"
   },
   {
    "duration": 14,
    "start_time": "2023-11-21T17:24:25.709Z"
   },
   {
    "duration": 25,
    "start_time": "2023-11-21T17:24:25.725Z"
   },
   {
    "duration": 34,
    "start_time": "2023-11-21T17:24:25.751Z"
   },
   {
    "duration": 68,
    "start_time": "2023-11-21T17:24:25.786Z"
   },
   {
    "duration": 14,
    "start_time": "2023-11-21T17:24:25.855Z"
   },
   {
    "duration": 17,
    "start_time": "2023-11-21T17:24:25.870Z"
   },
   {
    "duration": 21,
    "start_time": "2023-11-21T17:24:25.889Z"
   },
   {
    "duration": 3,
    "start_time": "2023-11-21T17:24:25.912Z"
   },
   {
    "duration": 337,
    "start_time": "2023-11-21T17:24:25.917Z"
   },
   {
    "duration": 12,
    "start_time": "2023-11-21T17:24:26.256Z"
   },
   {
    "duration": 258,
    "start_time": "2023-11-21T17:24:26.270Z"
   },
   {
    "duration": 25,
    "start_time": "2023-11-21T17:24:26.530Z"
   },
   {
    "duration": 2504,
    "start_time": "2023-11-21T17:24:26.556Z"
   },
   {
    "duration": 12,
    "start_time": "2023-11-21T17:24:29.062Z"
   },
   {
    "duration": 224,
    "start_time": "2023-11-21T17:24:29.075Z"
   },
   {
    "duration": 716,
    "start_time": "2023-11-21T17:24:29.300Z"
   },
   {
    "duration": 28,
    "start_time": "2023-11-21T17:24:30.018Z"
   },
   {
    "duration": 70,
    "start_time": "2023-11-21T17:24:30.048Z"
   },
   {
    "duration": 181,
    "start_time": "2023-11-21T17:24:30.119Z"
   },
   {
    "duration": 107,
    "start_time": "2023-11-21T17:26:52.733Z"
   },
   {
    "duration": 1280,
    "start_time": "2023-11-21T17:28:00.331Z"
   },
   {
    "duration": 1176,
    "start_time": "2023-11-21T17:28:09.255Z"
   },
   {
    "duration": 164,
    "start_time": "2023-11-21T17:28:49.443Z"
   },
   {
    "duration": 351,
    "start_time": "2023-11-21T17:28:57.470Z"
   },
   {
    "duration": 18,
    "start_time": "2023-11-21T17:29:27.561Z"
   },
   {
    "duration": 389,
    "start_time": "2023-11-21T17:29:37.260Z"
   },
   {
    "duration": 353,
    "start_time": "2023-11-21T17:29:41.970Z"
   },
   {
    "duration": 266,
    "start_time": "2023-11-21T17:29:47.908Z"
   },
   {
    "duration": 11,
    "start_time": "2023-11-21T17:30:02.922Z"
   },
   {
    "duration": 268,
    "start_time": "2023-11-21T17:30:31.396Z"
   },
   {
    "duration": 406,
    "start_time": "2023-11-21T17:30:35.487Z"
   },
   {
    "duration": 380,
    "start_time": "2023-11-21T17:31:01.528Z"
   },
   {
    "duration": 447,
    "start_time": "2023-11-21T17:31:43.031Z"
   },
   {
    "duration": 246,
    "start_time": "2023-11-21T17:31:54.060Z"
   },
   {
    "duration": 22,
    "start_time": "2023-11-21T17:32:22.292Z"
   },
   {
    "duration": 406,
    "start_time": "2023-11-21T17:32:27.225Z"
   },
   {
    "duration": 327,
    "start_time": "2023-11-21T17:32:39.097Z"
   },
   {
    "duration": 314,
    "start_time": "2023-11-21T17:32:44.160Z"
   },
   {
    "duration": 311,
    "start_time": "2023-11-21T17:32:50.254Z"
   },
   {
    "duration": 324,
    "start_time": "2023-11-21T17:33:19.492Z"
   },
   {
    "duration": 323,
    "start_time": "2023-11-21T17:33:24.276Z"
   },
   {
    "duration": 427,
    "start_time": "2023-11-21T17:33:26.885Z"
   },
   {
    "duration": 344,
    "start_time": "2023-11-21T17:33:36.184Z"
   },
   {
    "duration": 334,
    "start_time": "2023-11-21T17:33:39.275Z"
   },
   {
    "duration": 310,
    "start_time": "2023-11-21T17:33:42.392Z"
   },
   {
    "duration": 314,
    "start_time": "2023-11-21T17:33:44.880Z"
   },
   {
    "duration": 421,
    "start_time": "2023-11-21T17:34:46.563Z"
   },
   {
    "duration": 334,
    "start_time": "2023-11-21T17:34:52.148Z"
   },
   {
    "duration": 319,
    "start_time": "2023-11-21T17:38:37.024Z"
   },
   {
    "duration": 630,
    "start_time": "2023-11-21T17:43:35.404Z"
   },
   {
    "duration": 510,
    "start_time": "2023-11-21T17:46:37.224Z"
   },
   {
    "duration": 508,
    "start_time": "2023-11-21T17:46:47.765Z"
   },
   {
    "duration": 476,
    "start_time": "2023-11-21T17:48:30.529Z"
   },
   {
    "duration": 11,
    "start_time": "2023-11-21T17:59:00.152Z"
   },
   {
    "duration": 22,
    "start_time": "2023-11-21T17:59:03.543Z"
   },
   {
    "duration": 744,
    "start_time": "2023-11-21T17:59:09.188Z"
   },
   {
    "duration": 13,
    "start_time": "2023-11-21T18:02:50.395Z"
   },
   {
    "duration": 18,
    "start_time": "2023-11-21T18:03:03.823Z"
   },
   {
    "duration": 25,
    "start_time": "2023-11-21T18:03:10.316Z"
   },
   {
    "duration": 1326,
    "start_time": "2023-11-21T18:03:19.996Z"
   },
   {
    "duration": 323,
    "start_time": "2023-11-21T18:03:27.440Z"
   },
   {
    "duration": 462,
    "start_time": "2023-11-21T18:04:19.533Z"
   },
   {
    "duration": 434,
    "start_time": "2023-11-21T18:04:36.668Z"
   },
   {
    "duration": 138,
    "start_time": "2023-11-21T18:07:53.852Z"
   },
   {
    "duration": 454,
    "start_time": "2023-11-21T18:08:00.084Z"
   },
   {
    "duration": 137,
    "start_time": "2023-11-21T18:08:11.455Z"
   },
   {
    "duration": 450,
    "start_time": "2023-11-21T18:08:23.632Z"
   },
   {
    "duration": 132,
    "start_time": "2023-11-21T18:08:27.414Z"
   },
   {
    "duration": 464,
    "start_time": "2023-11-21T18:08:35.180Z"
   },
   {
    "duration": 494,
    "start_time": "2023-11-21T18:08:47.874Z"
   },
   {
    "duration": 136,
    "start_time": "2023-11-21T18:09:19.579Z"
   },
   {
    "duration": 456,
    "start_time": "2023-11-21T18:09:29.280Z"
   },
   {
    "duration": 762,
    "start_time": "2023-11-21T18:09:32.126Z"
   },
   {
    "duration": 132,
    "start_time": "2023-11-21T18:09:36.238Z"
   },
   {
    "duration": 441,
    "start_time": "2023-11-21T18:09:46.034Z"
   },
   {
    "duration": 473,
    "start_time": "2023-11-21T18:12:37.258Z"
   },
   {
    "duration": 458,
    "start_time": "2023-11-21T18:12:47.644Z"
   },
   {
    "duration": 477,
    "start_time": "2023-11-21T18:13:30.896Z"
   },
   {
    "duration": 454,
    "start_time": "2023-11-21T18:14:12.965Z"
   },
   {
    "duration": 447,
    "start_time": "2023-11-21T18:14:34.223Z"
   },
   {
    "duration": 468,
    "start_time": "2023-11-21T18:15:03.054Z"
   },
   {
    "duration": 461,
    "start_time": "2023-11-21T18:15:51.476Z"
   },
   {
    "duration": 1362,
    "start_time": "2023-11-21T21:10:18.628Z"
   },
   {
    "duration": 160,
    "start_time": "2023-11-21T21:10:21.227Z"
   },
   {
    "duration": 3,
    "start_time": "2023-11-21T21:10:23.681Z"
   },
   {
    "duration": 5,
    "start_time": "2023-11-21T21:10:30.842Z"
   },
   {
    "duration": 5,
    "start_time": "2023-11-21T21:10:33.479Z"
   },
   {
    "duration": 10,
    "start_time": "2023-11-21T21:10:37.064Z"
   },
   {
    "duration": 15,
    "start_time": "2023-11-21T21:10:38.211Z"
   },
   {
    "duration": 15,
    "start_time": "2023-11-21T21:10:51.848Z"
   },
   {
    "duration": 8,
    "start_time": "2023-11-21T21:10:56.438Z"
   },
   {
    "duration": 9,
    "start_time": "2023-11-21T21:11:02.991Z"
   },
   {
    "duration": 7,
    "start_time": "2023-11-21T21:11:06.445Z"
   },
   {
    "duration": 16,
    "start_time": "2023-11-21T21:11:23.924Z"
   },
   {
    "duration": 15,
    "start_time": "2023-11-21T21:12:28.010Z"
   },
   {
    "duration": 202,
    "start_time": "2023-11-21T21:12:37.246Z"
   },
   {
    "duration": 15,
    "start_time": "2023-11-21T21:12:59.401Z"
   },
   {
    "duration": 14,
    "start_time": "2023-11-21T21:13:08.316Z"
   },
   {
    "duration": 10,
    "start_time": "2023-11-21T21:13:10.253Z"
   },
   {
    "duration": 10,
    "start_time": "2023-11-21T21:13:14.470Z"
   },
   {
    "duration": 11,
    "start_time": "2023-11-21T21:13:38.122Z"
   },
   {
    "duration": 16,
    "start_time": "2023-11-21T21:13:38.744Z"
   },
   {
    "duration": 26,
    "start_time": "2023-11-21T21:13:40.638Z"
   },
   {
    "duration": 13,
    "start_time": "2023-11-21T21:13:42.595Z"
   },
   {
    "duration": 17,
    "start_time": "2023-11-21T21:13:43.398Z"
   },
   {
    "duration": 17,
    "start_time": "2023-11-21T21:13:45.230Z"
   },
   {
    "duration": 4,
    "start_time": "2023-11-21T21:13:45.958Z"
   },
   {
    "duration": 124,
    "start_time": "2023-11-21T21:16:40.848Z"
   },
   {
    "duration": 3,
    "start_time": "2023-11-21T21:16:58.485Z"
   },
   {
    "duration": 149,
    "start_time": "2023-11-21T21:16:58.490Z"
   },
   {
    "duration": 3,
    "start_time": "2023-11-21T21:16:58.642Z"
   },
   {
    "duration": 21,
    "start_time": "2023-11-21T21:16:58.648Z"
   },
   {
    "duration": 18,
    "start_time": "2023-11-21T21:16:58.671Z"
   },
   {
    "duration": 44,
    "start_time": "2023-11-21T21:16:58.692Z"
   },
   {
    "duration": 23,
    "start_time": "2023-11-21T21:16:58.738Z"
   },
   {
    "duration": 33,
    "start_time": "2023-11-21T21:16:58.763Z"
   },
   {
    "duration": 8,
    "start_time": "2023-11-21T21:16:58.799Z"
   },
   {
    "duration": 28,
    "start_time": "2023-11-21T21:16:58.809Z"
   },
   {
    "duration": 16,
    "start_time": "2023-11-21T21:16:58.839Z"
   },
   {
    "duration": 15,
    "start_time": "2023-11-21T21:16:58.857Z"
   },
   {
    "duration": 193,
    "start_time": "2023-11-21T21:16:58.873Z"
   },
   {
    "duration": 9,
    "start_time": "2023-11-21T21:16:59.068Z"
   },
   {
    "duration": 29,
    "start_time": "2023-11-21T21:16:59.078Z"
   },
   {
    "duration": 8,
    "start_time": "2023-11-21T21:16:59.108Z"
   },
   {
    "duration": 21,
    "start_time": "2023-11-21T21:16:59.118Z"
   },
   {
    "duration": 49,
    "start_time": "2023-11-21T21:16:59.142Z"
   },
   {
    "duration": 53,
    "start_time": "2023-11-21T21:16:59.192Z"
   },
   {
    "duration": 10,
    "start_time": "2023-11-21T21:16:59.246Z"
   },
   {
    "duration": 17,
    "start_time": "2023-11-21T21:16:59.257Z"
   },
   {
    "duration": 16,
    "start_time": "2023-11-21T21:16:59.275Z"
   },
   {
    "duration": 3,
    "start_time": "2023-11-21T21:16:59.293Z"
   },
   {
    "duration": 351,
    "start_time": "2023-11-21T21:16:59.299Z"
   },
   {
    "duration": 12,
    "start_time": "2023-11-21T21:16:59.651Z"
   },
   {
    "duration": 266,
    "start_time": "2023-11-21T21:16:59.665Z"
   },
   {
    "duration": 24,
    "start_time": "2023-11-21T21:16:59.933Z"
   },
   {
    "duration": 2591,
    "start_time": "2023-11-21T21:16:59.959Z"
   },
   {
    "duration": 14,
    "start_time": "2023-11-21T21:17:02.552Z"
   },
   {
    "duration": 140,
    "start_time": "2023-11-21T21:17:02.568Z"
   },
   {
    "duration": 702,
    "start_time": "2023-11-21T21:17:07.654Z"
   },
   {
    "duration": 3,
    "start_time": "2023-11-21T21:44:27.909Z"
   },
   {
    "duration": 134,
    "start_time": "2023-11-21T21:44:27.914Z"
   },
   {
    "duration": 3,
    "start_time": "2023-11-21T21:44:28.050Z"
   },
   {
    "duration": 18,
    "start_time": "2023-11-21T21:44:28.054Z"
   },
   {
    "duration": 8,
    "start_time": "2023-11-21T21:44:28.073Z"
   },
   {
    "duration": 14,
    "start_time": "2023-11-21T21:44:28.082Z"
   },
   {
    "duration": 14,
    "start_time": "2023-11-21T21:44:28.106Z"
   },
   {
    "duration": 19,
    "start_time": "2023-11-21T21:44:28.121Z"
   },
   {
    "duration": 8,
    "start_time": "2023-11-21T21:44:28.142Z"
   },
   {
    "duration": 8,
    "start_time": "2023-11-21T21:44:28.152Z"
   },
   {
    "duration": 15,
    "start_time": "2023-11-21T21:44:28.162Z"
   },
   {
    "duration": 39,
    "start_time": "2023-11-21T21:44:28.179Z"
   },
   {
    "duration": 199,
    "start_time": "2023-11-21T21:44:28.219Z"
   },
   {
    "duration": 10,
    "start_time": "2023-11-21T21:44:28.419Z"
   },
   {
    "duration": 21,
    "start_time": "2023-11-21T21:44:28.430Z"
   },
   {
    "duration": 15,
    "start_time": "2023-11-21T21:44:28.453Z"
   },
   {
    "duration": 13,
    "start_time": "2023-11-21T21:44:28.471Z"
   },
   {
    "duration": 13,
    "start_time": "2023-11-21T21:44:28.485Z"
   },
   {
    "duration": 19,
    "start_time": "2023-11-21T21:44:28.507Z"
   },
   {
    "duration": 41,
    "start_time": "2023-11-21T21:44:28.528Z"
   },
   {
    "duration": 113,
    "start_time": "2023-11-21T21:44:28.571Z"
   },
   {
    "duration": 23,
    "start_time": "2023-11-21T21:44:28.686Z"
   },
   {
    "duration": 5,
    "start_time": "2023-11-21T21:44:28.711Z"
   },
   {
    "duration": 339,
    "start_time": "2023-11-21T21:44:28.718Z"
   },
   {
    "duration": 11,
    "start_time": "2023-11-21T21:44:29.059Z"
   },
   {
    "duration": 253,
    "start_time": "2023-11-21T21:44:29.072Z"
   },
   {
    "duration": 31,
    "start_time": "2023-11-21T21:44:29.327Z"
   },
   {
    "duration": 2490,
    "start_time": "2023-11-21T21:44:29.360Z"
   },
   {
    "duration": 10,
    "start_time": "2023-11-21T21:44:31.852Z"
   },
   {
    "duration": 129,
    "start_time": "2023-11-21T21:44:31.864Z"
   },
   {
    "duration": 705,
    "start_time": "2023-11-21T21:44:31.995Z"
   },
   {
    "duration": 411,
    "start_time": "2023-11-21T21:44:36.733Z"
   },
   {
    "duration": 160,
    "start_time": "2023-11-21T21:45:17.635Z"
   },
   {
    "duration": 314,
    "start_time": "2023-11-21T21:45:22.876Z"
   },
   {
    "duration": 14,
    "start_time": "2023-11-21T21:46:11.017Z"
   },
   {
    "duration": 314,
    "start_time": "2023-11-21T21:46:25.858Z"
   },
   {
    "duration": 404,
    "start_time": "2023-11-21T21:46:50.392Z"
   },
   {
    "duration": 339,
    "start_time": "2023-11-21T21:47:11.998Z"
   },
   {
    "duration": 324,
    "start_time": "2023-11-21T21:47:29.220Z"
   },
   {
    "duration": 98,
    "start_time": "2023-11-21T21:47:41.837Z"
   },
   {
    "duration": 332,
    "start_time": "2023-11-21T21:47:52.681Z"
   },
   {
    "duration": 364,
    "start_time": "2023-11-21T21:48:15.461Z"
   },
   {
    "duration": 9,
    "start_time": "2023-11-21T22:35:54.582Z"
   },
   {
    "duration": 4,
    "start_time": "2023-11-21T22:57:36.176Z"
   },
   {
    "duration": 191,
    "start_time": "2023-11-21T22:57:36.182Z"
   },
   {
    "duration": 3,
    "start_time": "2023-11-21T22:57:36.375Z"
   },
   {
    "duration": 18,
    "start_time": "2023-11-21T22:57:36.380Z"
   },
   {
    "duration": 16,
    "start_time": "2023-11-21T22:57:36.400Z"
   },
   {
    "duration": 18,
    "start_time": "2023-11-21T22:57:36.418Z"
   },
   {
    "duration": 15,
    "start_time": "2023-11-21T22:57:36.438Z"
   },
   {
    "duration": 16,
    "start_time": "2023-11-21T22:57:36.454Z"
   },
   {
    "duration": 8,
    "start_time": "2023-11-21T22:57:36.471Z"
   },
   {
    "duration": 13,
    "start_time": "2023-11-21T22:57:36.480Z"
   },
   {
    "duration": 15,
    "start_time": "2023-11-21T22:57:36.495Z"
   },
   {
    "duration": 18,
    "start_time": "2023-11-21T22:57:36.512Z"
   },
   {
    "duration": 198,
    "start_time": "2023-11-21T22:57:36.532Z"
   },
   {
    "duration": 9,
    "start_time": "2023-11-21T22:57:36.733Z"
   },
   {
    "duration": 9,
    "start_time": "2023-11-21T22:57:36.743Z"
   },
   {
    "duration": 7,
    "start_time": "2023-11-21T22:57:36.754Z"
   },
   {
    "duration": 8,
    "start_time": "2023-11-21T22:57:36.762Z"
   },
   {
    "duration": 41,
    "start_time": "2023-11-21T22:57:36.771Z"
   },
   {
    "duration": 38,
    "start_time": "2023-11-21T22:57:36.813Z"
   },
   {
    "duration": 9,
    "start_time": "2023-11-21T22:57:36.853Z"
   },
   {
    "duration": 15,
    "start_time": "2023-11-21T22:57:36.864Z"
   },
   {
    "duration": 14,
    "start_time": "2023-11-21T22:57:36.881Z"
   },
   {
    "duration": 10,
    "start_time": "2023-11-21T22:57:36.897Z"
   },
   {
    "duration": 329,
    "start_time": "2023-11-21T22:57:36.909Z"
   },
   {
    "duration": 12,
    "start_time": "2023-11-21T22:58:08.370Z"
   },
   {
    "duration": 226,
    "start_time": "2023-11-21T22:58:52.267Z"
   },
   {
    "duration": 24,
    "start_time": "2023-11-21T23:00:23.533Z"
   },
   {
    "duration": 2390,
    "start_time": "2023-11-21T23:00:25.701Z"
   },
   {
    "duration": 134,
    "start_time": "2023-11-21T23:06:06.446Z"
   },
   {
    "duration": 164,
    "start_time": "2023-11-21T23:06:14.255Z"
   },
   {
    "duration": 160,
    "start_time": "2023-11-21T23:06:26.941Z"
   },
   {
    "duration": 157,
    "start_time": "2023-11-21T23:06:38.286Z"
   },
   {
    "duration": 173,
    "start_time": "2023-11-21T23:07:20.310Z"
   },
   {
    "duration": 184,
    "start_time": "2023-11-21T23:07:31.715Z"
   },
   {
    "duration": 1151,
    "start_time": "2023-11-21T23:22:44.647Z"
   },
   {
    "duration": 132,
    "start_time": "2023-11-21T23:22:45.800Z"
   },
   {
    "duration": 3,
    "start_time": "2023-11-21T23:22:45.934Z"
   },
   {
    "duration": 50,
    "start_time": "2023-11-21T23:22:45.939Z"
   },
   {
    "duration": 21,
    "start_time": "2023-11-21T23:22:45.991Z"
   },
   {
    "duration": 11,
    "start_time": "2023-11-21T23:22:46.013Z"
   },
   {
    "duration": 15,
    "start_time": "2023-11-21T23:22:46.026Z"
   },
   {
    "duration": 17,
    "start_time": "2023-11-21T23:22:46.043Z"
   },
   {
    "duration": 9,
    "start_time": "2023-11-21T23:22:46.061Z"
   },
   {
    "duration": 8,
    "start_time": "2023-11-21T23:22:46.072Z"
   },
   {
    "duration": 7,
    "start_time": "2023-11-21T23:22:46.107Z"
   },
   {
    "duration": 18,
    "start_time": "2023-11-21T23:22:46.116Z"
   },
   {
    "duration": 216,
    "start_time": "2023-11-21T23:22:46.136Z"
   },
   {
    "duration": 10,
    "start_time": "2023-11-21T23:22:46.355Z"
   },
   {
    "duration": 42,
    "start_time": "2023-11-21T23:22:46.366Z"
   },
   {
    "duration": 71,
    "start_time": "2023-11-21T23:22:46.409Z"
   },
   {
    "duration": 18,
    "start_time": "2023-11-21T23:22:46.481Z"
   },
   {
    "duration": 32,
    "start_time": "2023-11-21T23:22:46.500Z"
   },
   {
    "duration": 18,
    "start_time": "2023-11-21T23:22:46.533Z"
   },
   {
    "duration": 15,
    "start_time": "2023-11-21T23:22:46.553Z"
   },
   {
    "duration": 36,
    "start_time": "2023-11-21T23:22:46.570Z"
   },
   {
    "duration": 17,
    "start_time": "2023-11-21T23:22:46.609Z"
   },
   {
    "duration": 9,
    "start_time": "2023-11-21T23:22:46.627Z"
   },
   {
    "duration": 333,
    "start_time": "2023-11-21T23:22:46.638Z"
   },
   {
    "duration": 11,
    "start_time": "2023-11-21T23:22:46.973Z"
   },
   {
    "duration": 330,
    "start_time": "2023-11-21T23:22:46.985Z"
   },
   {
    "duration": 23,
    "start_time": "2023-11-21T23:22:47.317Z"
   },
   {
    "duration": 2416,
    "start_time": "2023-11-21T23:22:47.342Z"
   },
   {
    "duration": 11,
    "start_time": "2023-11-21T23:22:49.760Z"
   },
   {
    "duration": 110,
    "start_time": "2023-11-21T23:22:49.773Z"
   },
   {
    "duration": 197,
    "start_time": "2023-11-21T23:22:49.885Z"
   },
   {
    "duration": 695,
    "start_time": "2023-11-21T23:22:50.084Z"
   },
   {
    "duration": 351,
    "start_time": "2023-11-21T23:22:50.780Z"
   },
   {
    "duration": 458,
    "start_time": "2023-11-21T23:22:51.132Z"
   },
   {
    "duration": 16,
    "start_time": "2023-11-21T23:22:51.592Z"
   },
   {
    "duration": 10,
    "start_time": "2023-11-21T23:22:51.609Z"
   },
   {
    "duration": 8,
    "start_time": "2023-11-21T23:22:51.621Z"
   },
   {
    "duration": 461,
    "start_time": "2023-11-21T23:23:30.280Z"
   },
   {
    "duration": 240,
    "start_time": "2023-11-21T23:23:57.321Z"
   },
   {
    "duration": 247,
    "start_time": "2023-11-21T23:24:11.002Z"
   },
   {
    "duration": 249,
    "start_time": "2023-11-21T23:24:19.844Z"
   },
   {
    "duration": 248,
    "start_time": "2023-11-21T23:24:30.953Z"
   },
   {
    "duration": 242,
    "start_time": "2023-11-21T23:24:43.928Z"
   },
   {
    "duration": 248,
    "start_time": "2023-11-21T23:24:57.300Z"
   },
   {
    "duration": 243,
    "start_time": "2023-11-21T23:25:04.436Z"
   },
   {
    "duration": 238,
    "start_time": "2023-11-21T23:25:47.168Z"
   },
   {
    "duration": 11,
    "start_time": "2023-11-21T23:25:53.128Z"
   },
   {
    "duration": 238,
    "start_time": "2023-11-21T23:25:53.804Z"
   },
   {
    "duration": 251,
    "start_time": "2023-11-21T23:26:00.791Z"
   },
   {
    "duration": 243,
    "start_time": "2023-11-21T23:26:02.749Z"
   },
   {
    "duration": 253,
    "start_time": "2023-11-21T23:26:11.860Z"
   },
   {
    "duration": 245,
    "start_time": "2023-11-21T23:26:26.533Z"
   },
   {
    "duration": 267,
    "start_time": "2023-11-21T23:26:38.571Z"
   },
   {
    "duration": 244,
    "start_time": "2023-11-21T23:26:44.816Z"
   },
   {
    "duration": 233,
    "start_time": "2023-11-21T23:30:43.564Z"
   },
   {
    "duration": 9,
    "start_time": "2023-11-21T23:36:48.579Z"
   },
   {
    "duration": 10,
    "start_time": "2023-11-21T23:36:51.613Z"
   },
   {
    "duration": 3,
    "start_time": "2023-11-21T23:37:02.231Z"
   },
   {
    "duration": 192,
    "start_time": "2023-11-21T23:37:02.236Z"
   },
   {
    "duration": 2,
    "start_time": "2023-11-21T23:37:02.430Z"
   },
   {
    "duration": 114,
    "start_time": "2023-11-21T23:37:02.434Z"
   },
   {
    "duration": 184,
    "start_time": "2023-11-21T23:37:02.550Z"
   },
   {
    "duration": 144,
    "start_time": "2023-11-21T23:37:02.736Z"
   },
   {
    "duration": 33,
    "start_time": "2023-11-21T23:37:02.881Z"
   },
   {
    "duration": 29,
    "start_time": "2023-11-21T23:37:02.915Z"
   },
   {
    "duration": 17,
    "start_time": "2023-11-21T23:37:02.946Z"
   },
   {
    "duration": 18,
    "start_time": "2023-11-21T23:37:02.964Z"
   },
   {
    "duration": 6,
    "start_time": "2023-11-21T23:37:02.984Z"
   },
   {
    "duration": 21,
    "start_time": "2023-11-21T23:37:02.991Z"
   },
   {
    "duration": 180,
    "start_time": "2023-11-21T23:37:03.014Z"
   },
   {
    "duration": 10,
    "start_time": "2023-11-21T23:37:03.206Z"
   },
   {
    "duration": 75,
    "start_time": "2023-11-21T23:37:03.218Z"
   },
   {
    "duration": 152,
    "start_time": "2023-11-21T23:37:03.295Z"
   },
   {
    "duration": 34,
    "start_time": "2023-11-21T23:37:03.449Z"
   },
   {
    "duration": 56,
    "start_time": "2023-11-21T23:37:03.485Z"
   },
   {
    "duration": 20,
    "start_time": "2023-11-21T23:37:03.543Z"
   },
   {
    "duration": 12,
    "start_time": "2023-11-21T23:37:03.565Z"
   },
   {
    "duration": 17,
    "start_time": "2023-11-21T23:37:03.579Z"
   },
   {
    "duration": 26,
    "start_time": "2023-11-21T23:37:03.598Z"
   },
   {
    "duration": 31,
    "start_time": "2023-11-21T23:37:03.626Z"
   },
   {
    "duration": 351,
    "start_time": "2023-11-21T23:37:03.659Z"
   },
   {
    "duration": 13,
    "start_time": "2023-11-21T23:37:04.012Z"
   },
   {
    "duration": 249,
    "start_time": "2023-11-21T23:37:04.027Z"
   },
   {
    "duration": 12,
    "start_time": "2023-11-21T23:37:04.278Z"
   },
   {
    "duration": 11,
    "start_time": "2023-11-21T23:37:12.109Z"
   },
   {
    "duration": 15,
    "start_time": "2023-11-21T23:37:59.807Z"
   },
   {
    "duration": 103,
    "start_time": "2023-11-21T23:38:22.734Z"
   },
   {
    "duration": 78,
    "start_time": "2023-11-21T23:38:29.342Z"
   },
   {
    "duration": 114,
    "start_time": "2023-11-21T23:38:46.951Z"
   },
   {
    "duration": 9,
    "start_time": "2023-11-21T23:39:01.962Z"
   },
   {
    "duration": 8,
    "start_time": "2023-11-21T23:39:16.752Z"
   },
   {
    "duration": 8,
    "start_time": "2023-11-21T23:39:23.921Z"
   },
   {
    "duration": 10,
    "start_time": "2023-11-21T23:40:01.305Z"
   },
   {
    "duration": 10,
    "start_time": "2023-11-21T23:41:20.667Z"
   },
   {
    "duration": 10,
    "start_time": "2023-11-21T23:41:29.518Z"
   },
   {
    "duration": 9,
    "start_time": "2023-11-21T23:41:56.376Z"
   },
   {
    "duration": 11,
    "start_time": "2023-11-21T23:42:03.018Z"
   },
   {
    "duration": 10,
    "start_time": "2023-11-21T23:42:09.784Z"
   },
   {
    "duration": 1670,
    "start_time": "2023-11-21T23:42:38.282Z"
   },
   {
    "duration": 7,
    "start_time": "2023-11-21T23:43:47.816Z"
   },
   {
    "duration": 7,
    "start_time": "2023-11-21T23:46:22.520Z"
   },
   {
    "duration": 7,
    "start_time": "2023-11-21T23:48:44.650Z"
   },
   {
    "duration": 2,
    "start_time": "2023-11-21T23:49:03.298Z"
   },
   {
    "duration": 121,
    "start_time": "2023-11-21T23:49:03.382Z"
   },
   {
    "duration": 3,
    "start_time": "2023-11-21T23:49:03.717Z"
   },
   {
    "duration": 4,
    "start_time": "2023-11-21T23:49:03.879Z"
   },
   {
    "duration": 5,
    "start_time": "2023-11-21T23:49:03.967Z"
   },
   {
    "duration": 10,
    "start_time": "2023-11-21T23:49:04.218Z"
   },
   {
    "duration": 14,
    "start_time": "2023-11-21T23:49:04.382Z"
   },
   {
    "duration": 12,
    "start_time": "2023-11-21T23:49:04.550Z"
   },
   {
    "duration": 9,
    "start_time": "2023-11-21T23:49:04.720Z"
   },
   {
    "duration": 10,
    "start_time": "2023-11-21T23:49:04.970Z"
   },
   {
    "duration": 7,
    "start_time": "2023-11-21T23:49:05.136Z"
   },
   {
    "duration": 15,
    "start_time": "2023-11-21T23:49:05.387Z"
   },
   {
    "duration": 179,
    "start_time": "2023-11-21T23:49:05.557Z"
   },
   {
    "duration": 9,
    "start_time": "2023-11-21T23:49:05.740Z"
   },
   {
    "duration": 11,
    "start_time": "2023-11-21T23:49:05.973Z"
   },
   {
    "duration": 7,
    "start_time": "2023-11-21T23:49:06.375Z"
   },
   {
    "duration": 8,
    "start_time": "2023-11-21T23:49:06.845Z"
   },
   {
    "duration": 10,
    "start_time": "2023-11-21T23:49:07.030Z"
   },
   {
    "duration": 17,
    "start_time": "2023-11-21T23:49:07.516Z"
   },
   {
    "duration": 10,
    "start_time": "2023-11-21T23:49:08.368Z"
   },
   {
    "duration": 17,
    "start_time": "2023-11-21T23:49:09.006Z"
   },
   {
    "duration": 14,
    "start_time": "2023-11-21T23:49:09.660Z"
   },
   {
    "duration": 4,
    "start_time": "2023-11-21T23:49:10.487Z"
   },
   {
    "duration": 315,
    "start_time": "2023-11-21T23:49:12.976Z"
   },
   {
    "duration": 12,
    "start_time": "2023-11-21T23:49:15.340Z"
   },
   {
    "duration": 239,
    "start_time": "2023-11-21T23:49:17.108Z"
   },
   {
    "duration": 9,
    "start_time": "2023-11-21T23:49:26.087Z"
   },
   {
    "duration": 6,
    "start_time": "2023-11-21T23:49:44.289Z"
   },
   {
    "duration": 6,
    "start_time": "2023-11-21T23:50:20.292Z"
   },
   {
    "duration": 7,
    "start_time": "2023-11-21T23:50:24.609Z"
   },
   {
    "duration": 24,
    "start_time": "2023-11-21T23:50:26.232Z"
   },
   {
    "duration": 2283,
    "start_time": "2023-11-21T23:50:27.778Z"
   },
   {
    "duration": 12,
    "start_time": "2023-11-21T23:51:18.784Z"
   },
   {
    "duration": 11,
    "start_time": "2023-11-21T23:51:53.305Z"
   },
   {
    "duration": 3,
    "start_time": "2023-11-21T23:52:13.147Z"
   },
   {
    "duration": 144,
    "start_time": "2023-11-21T23:52:13.153Z"
   },
   {
    "duration": 3,
    "start_time": "2023-11-21T23:52:13.299Z"
   },
   {
    "duration": 14,
    "start_time": "2023-11-21T23:52:13.304Z"
   },
   {
    "duration": 14,
    "start_time": "2023-11-21T23:52:13.320Z"
   },
   {
    "duration": 16,
    "start_time": "2023-11-21T23:52:13.336Z"
   },
   {
    "duration": 16,
    "start_time": "2023-11-21T23:52:13.354Z"
   },
   {
    "duration": 20,
    "start_time": "2023-11-21T23:52:13.372Z"
   },
   {
    "duration": 390,
    "start_time": "2023-11-21T23:52:13.394Z"
   },
   {
    "duration": 9,
    "start_time": "2023-11-21T23:52:13.785Z"
   },
   {
    "duration": 7,
    "start_time": "2023-11-21T23:52:13.807Z"
   },
   {
    "duration": 30,
    "start_time": "2023-11-21T23:52:13.815Z"
   },
   {
    "duration": 188,
    "start_time": "2023-11-21T23:52:13.847Z"
   },
   {
    "duration": 9,
    "start_time": "2023-11-21T23:52:14.039Z"
   },
   {
    "duration": 18,
    "start_time": "2023-11-21T23:52:14.050Z"
   },
   {
    "duration": 9,
    "start_time": "2023-11-21T23:52:14.069Z"
   },
   {
    "duration": 27,
    "start_time": "2023-11-21T23:52:14.079Z"
   },
   {
    "duration": 10,
    "start_time": "2023-11-21T23:52:14.108Z"
   },
   {
    "duration": 29,
    "start_time": "2023-11-21T23:52:14.120Z"
   },
   {
    "duration": 11,
    "start_time": "2023-11-21T23:52:14.151Z"
   },
   {
    "duration": 17,
    "start_time": "2023-11-21T23:52:14.164Z"
   },
   {
    "duration": 33,
    "start_time": "2023-11-21T23:52:14.183Z"
   },
   {
    "duration": 3,
    "start_time": "2023-11-21T23:52:14.218Z"
   },
   {
    "duration": 327,
    "start_time": "2023-11-21T23:52:14.223Z"
   },
   {
    "duration": 12,
    "start_time": "2023-11-21T23:52:14.552Z"
   },
   {
    "duration": 256,
    "start_time": "2023-11-21T23:52:14.566Z"
   },
   {
    "duration": 9,
    "start_time": "2023-11-21T23:52:14.824Z"
   },
   {
    "duration": 6,
    "start_time": "2023-11-21T23:52:14.835Z"
   },
   {
    "duration": 23,
    "start_time": "2023-11-21T23:52:14.843Z"
   },
   {
    "duration": 2296,
    "start_time": "2023-11-21T23:52:14.867Z"
   },
   {
    "duration": 11,
    "start_time": "2023-11-21T23:52:17.165Z"
   },
   {
    "duration": 11,
    "start_time": "2023-11-21T23:52:33.181Z"
   },
   {
    "duration": 10,
    "start_time": "2023-11-21T23:52:37.019Z"
   },
   {
    "duration": 103,
    "start_time": "2023-11-21T23:52:39.175Z"
   },
   {
    "duration": 193,
    "start_time": "2023-11-21T23:52:45.832Z"
   },
   {
    "duration": 8,
    "start_time": "2023-11-21T23:54:40.551Z"
   },
   {
    "duration": 1533,
    "start_time": "2023-11-21T23:55:08.327Z"
   },
   {
    "duration": 1895,
    "start_time": "2023-11-21T23:55:16.122Z"
   },
   {
    "duration": 13,
    "start_time": "2023-11-21T23:55:24.290Z"
   },
   {
    "duration": 14,
    "start_time": "2023-11-21T23:55:42.889Z"
   },
   {
    "duration": 12,
    "start_time": "2023-11-21T23:55:52.150Z"
   },
   {
    "duration": 5,
    "start_time": "2023-11-21T23:55:57.218Z"
   },
   {
    "duration": 15,
    "start_time": "2023-11-21T23:56:04.004Z"
   },
   {
    "duration": 13,
    "start_time": "2023-11-21T23:56:10.285Z"
   },
   {
    "duration": 92,
    "start_time": "2023-11-21T23:56:12.661Z"
   },
   {
    "duration": 5,
    "start_time": "2023-11-21T23:56:16.538Z"
   },
   {
    "duration": 10,
    "start_time": "2023-11-21T23:56:23.349Z"
   },
   {
    "duration": 8,
    "start_time": "2023-11-21T23:56:28.725Z"
   },
   {
    "duration": 7,
    "start_time": "2023-11-21T23:56:32.116Z"
   },
   {
    "duration": 17,
    "start_time": "2023-11-21T23:56:35.177Z"
   },
   {
    "duration": 6,
    "start_time": "2023-11-21T23:56:39.565Z"
   },
   {
    "duration": 6,
    "start_time": "2023-11-21T23:56:46.022Z"
   },
   {
    "duration": 23,
    "start_time": "2023-11-21T23:56:50.873Z"
   },
   {
    "duration": 22,
    "start_time": "2023-11-21T23:56:57.676Z"
   },
   {
    "duration": 81,
    "start_time": "2023-11-21T23:59:04.218Z"
   },
   {
    "duration": 107,
    "start_time": "2023-11-21T23:59:09.975Z"
   },
   {
    "duration": 81,
    "start_time": "2023-11-21T23:59:12.502Z"
   },
   {
    "duration": 18,
    "start_time": "2023-11-21T23:59:20.093Z"
   },
   {
    "duration": 107,
    "start_time": "2023-11-21T23:59:29.895Z"
   },
   {
    "duration": 18,
    "start_time": "2023-11-21T23:59:36.121Z"
   },
   {
    "duration": 79,
    "start_time": "2023-11-21T23:59:53.881Z"
   },
   {
    "duration": 120,
    "start_time": "2023-11-21T23:59:57.195Z"
   },
   {
    "duration": 123,
    "start_time": "2023-11-22T00:00:24.019Z"
   },
   {
    "duration": 378,
    "start_time": "2023-11-22T00:01:15.906Z"
   },
   {
    "duration": 362,
    "start_time": "2023-11-22T00:01:18.800Z"
   },
   {
    "duration": 363,
    "start_time": "2023-11-22T00:01:26.400Z"
   },
   {
    "duration": 344,
    "start_time": "2023-11-22T00:01:38.833Z"
   },
   {
    "duration": 366,
    "start_time": "2023-11-22T00:02:15.883Z"
   },
   {
    "duration": 116,
    "start_time": "2023-11-22T00:04:08.158Z"
   },
   {
    "duration": 183,
    "start_time": "2023-11-22T00:04:16.600Z"
   },
   {
    "duration": 202,
    "start_time": "2023-11-22T00:04:26.270Z"
   },
   {
    "duration": 209,
    "start_time": "2023-11-22T00:04:39.918Z"
   },
   {
    "duration": 215,
    "start_time": "2023-11-22T00:04:50.008Z"
   },
   {
    "duration": 18,
    "start_time": "2023-11-22T00:05:40.882Z"
   },
   {
    "duration": 13,
    "start_time": "2023-11-22T00:05:56.017Z"
   },
   {
    "duration": 156,
    "start_time": "2023-11-22T00:06:05.675Z"
   },
   {
    "duration": 218,
    "start_time": "2023-11-22T00:06:09.636Z"
   },
   {
    "duration": 233,
    "start_time": "2023-11-22T00:06:46.603Z"
   },
   {
    "duration": 231,
    "start_time": "2023-11-22T00:06:52.323Z"
   },
   {
    "duration": 235,
    "start_time": "2023-11-22T00:07:23.492Z"
   },
   {
    "duration": 237,
    "start_time": "2023-11-22T00:07:26.448Z"
   },
   {
    "duration": 240,
    "start_time": "2023-11-22T00:07:30.141Z"
   },
   {
    "duration": 252,
    "start_time": "2023-11-22T00:07:33.022Z"
   },
   {
    "duration": 594,
    "start_time": "2023-11-22T00:07:36.560Z"
   },
   {
    "duration": 238,
    "start_time": "2023-11-22T00:07:46.764Z"
   },
   {
    "duration": 258,
    "start_time": "2023-11-22T00:08:37.323Z"
   },
   {
    "duration": 247,
    "start_time": "2023-11-22T00:08:41.444Z"
   },
   {
    "duration": 249,
    "start_time": "2023-11-22T00:09:21.716Z"
   },
   {
    "duration": 264,
    "start_time": "2023-11-22T00:10:24.424Z"
   },
   {
    "duration": 275,
    "start_time": "2023-11-22T00:10:32.404Z"
   },
   {
    "duration": 7,
    "start_time": "2023-11-22T00:14:32.886Z"
   },
   {
    "duration": 12,
    "start_time": "2023-11-22T00:15:02.530Z"
   },
   {
    "duration": 6,
    "start_time": "2023-11-22T00:15:06.013Z"
   },
   {
    "duration": 7,
    "start_time": "2023-11-22T00:16:14.050Z"
   },
   {
    "duration": 182,
    "start_time": "2023-11-22T00:17:21.483Z"
   },
   {
    "duration": 194,
    "start_time": "2023-11-22T00:17:24.116Z"
   },
   {
    "duration": 1149,
    "start_time": "2023-11-22T00:19:10.437Z"
   },
   {
    "duration": 125,
    "start_time": "2023-11-22T00:19:11.588Z"
   },
   {
    "duration": 3,
    "start_time": "2023-11-22T00:19:11.715Z"
   },
   {
    "duration": 10,
    "start_time": "2023-11-22T00:19:11.720Z"
   },
   {
    "duration": 4,
    "start_time": "2023-11-22T00:19:11.732Z"
   },
   {
    "duration": 12,
    "start_time": "2023-11-22T00:19:11.738Z"
   },
   {
    "duration": 25,
    "start_time": "2023-11-22T00:19:11.752Z"
   },
   {
    "duration": 27,
    "start_time": "2023-11-22T00:19:11.779Z"
   },
   {
    "duration": 8,
    "start_time": "2023-11-22T00:19:11.808Z"
   },
   {
    "duration": 11,
    "start_time": "2023-11-22T00:19:11.817Z"
   },
   {
    "duration": 20,
    "start_time": "2023-11-22T00:19:11.830Z"
   },
   {
    "duration": 19,
    "start_time": "2023-11-22T00:19:11.852Z"
   },
   {
    "duration": 207,
    "start_time": "2023-11-22T00:19:11.873Z"
   },
   {
    "duration": 9,
    "start_time": "2023-11-22T00:19:12.083Z"
   },
   {
    "duration": 24,
    "start_time": "2023-11-22T00:19:12.093Z"
   },
   {
    "duration": 13,
    "start_time": "2023-11-22T00:19:12.118Z"
   },
   {
    "duration": 10,
    "start_time": "2023-11-22T00:19:12.133Z"
   },
   {
    "duration": 9,
    "start_time": "2023-11-22T00:19:12.145Z"
   },
   {
    "duration": 24,
    "start_time": "2023-11-22T00:19:12.156Z"
   },
   {
    "duration": 27,
    "start_time": "2023-11-22T00:19:12.182Z"
   },
   {
    "duration": 20,
    "start_time": "2023-11-22T00:19:12.211Z"
   },
   {
    "duration": 17,
    "start_time": "2023-11-22T00:19:12.233Z"
   },
   {
    "duration": 4,
    "start_time": "2023-11-22T00:19:12.252Z"
   },
   {
    "duration": 349,
    "start_time": "2023-11-22T00:19:12.258Z"
   },
   {
    "duration": 12,
    "start_time": "2023-11-22T00:19:12.609Z"
   },
   {
    "duration": 254,
    "start_time": "2023-11-22T00:19:12.623Z"
   },
   {
    "duration": 9,
    "start_time": "2023-11-22T00:19:12.879Z"
   },
   {
    "duration": 19,
    "start_time": "2023-11-22T00:19:12.890Z"
   },
   {
    "duration": 22,
    "start_time": "2023-11-22T00:19:12.911Z"
   },
   {
    "duration": 2383,
    "start_time": "2023-11-22T00:19:12.935Z"
   },
   {
    "duration": 11,
    "start_time": "2023-11-22T00:19:15.319Z"
   },
   {
    "duration": 116,
    "start_time": "2023-11-22T00:19:15.332Z"
   },
   {
    "duration": 272,
    "start_time": "2023-11-22T00:19:15.450Z"
   },
   {
    "duration": 7,
    "start_time": "2023-11-22T00:19:15.724Z"
   },
   {
    "duration": 211,
    "start_time": "2023-11-22T00:19:15.733Z"
   },
   {
    "duration": 688,
    "start_time": "2023-11-22T00:19:15.946Z"
   },
   {
    "duration": 369,
    "start_time": "2023-11-22T00:19:16.636Z"
   },
   {
    "duration": 557,
    "start_time": "2023-11-22T00:19:17.007Z"
   },
   {
    "duration": 8,
    "start_time": "2023-11-22T00:19:17.566Z"
   },
   {
    "duration": 16,
    "start_time": "2023-11-22T00:19:17.575Z"
   },
   {
    "duration": 9,
    "start_time": "2023-11-22T00:19:17.606Z"
   },
   {
    "duration": 1155,
    "start_time": "2023-11-22T00:22:58.033Z"
   },
   {
    "duration": 141,
    "start_time": "2023-11-22T00:22:59.189Z"
   },
   {
    "duration": 3,
    "start_time": "2023-11-22T00:22:59.332Z"
   },
   {
    "duration": 16,
    "start_time": "2023-11-22T00:22:59.337Z"
   },
   {
    "duration": 12,
    "start_time": "2023-11-22T00:22:59.355Z"
   },
   {
    "duration": 27,
    "start_time": "2023-11-22T00:22:59.368Z"
   },
   {
    "duration": 22,
    "start_time": "2023-11-22T00:22:59.398Z"
   },
   {
    "duration": 23,
    "start_time": "2023-11-22T00:22:59.422Z"
   },
   {
    "duration": 9,
    "start_time": "2023-11-22T00:22:59.446Z"
   },
   {
    "duration": 17,
    "start_time": "2023-11-22T00:22:59.457Z"
   },
   {
    "duration": 21,
    "start_time": "2023-11-22T00:22:59.476Z"
   },
   {
    "duration": 17,
    "start_time": "2023-11-22T00:22:59.499Z"
   },
   {
    "duration": 206,
    "start_time": "2023-11-22T00:22:59.518Z"
   },
   {
    "duration": 10,
    "start_time": "2023-11-22T00:22:59.729Z"
   },
   {
    "duration": 12,
    "start_time": "2023-11-22T00:22:59.741Z"
   },
   {
    "duration": 6,
    "start_time": "2023-11-22T00:22:59.755Z"
   },
   {
    "duration": 12,
    "start_time": "2023-11-22T00:22:59.763Z"
   },
   {
    "duration": 11,
    "start_time": "2023-11-22T00:22:59.806Z"
   },
   {
    "duration": 22,
    "start_time": "2023-11-22T00:22:59.818Z"
   },
   {
    "duration": 11,
    "start_time": "2023-11-22T00:22:59.842Z"
   },
   {
    "duration": 17,
    "start_time": "2023-11-22T00:22:59.855Z"
   },
   {
    "duration": 17,
    "start_time": "2023-11-22T00:22:59.906Z"
   },
   {
    "duration": 4,
    "start_time": "2023-11-22T00:22:59.925Z"
   },
   {
    "duration": 346,
    "start_time": "2023-11-22T00:22:59.931Z"
   },
   {
    "duration": 12,
    "start_time": "2023-11-22T00:23:00.280Z"
   },
   {
    "duration": 272,
    "start_time": "2023-11-22T00:23:00.306Z"
   },
   {
    "duration": 9,
    "start_time": "2023-11-22T00:23:00.580Z"
   },
   {
    "duration": 85,
    "start_time": "2023-11-22T00:23:00.591Z"
   },
   {
    "duration": 64,
    "start_time": "2023-11-22T00:23:00.678Z"
   },
   {
    "duration": 2482,
    "start_time": "2023-11-22T00:23:00.744Z"
   },
   {
    "duration": 12,
    "start_time": "2023-11-22T00:23:03.227Z"
   },
   {
    "duration": 177,
    "start_time": "2023-11-22T00:23:03.240Z"
   },
   {
    "duration": 273,
    "start_time": "2023-11-22T00:23:03.419Z"
   },
   {
    "duration": 13,
    "start_time": "2023-11-22T00:23:03.694Z"
   },
   {
    "duration": 192,
    "start_time": "2023-11-22T00:23:03.708Z"
   },
   {
    "duration": 686,
    "start_time": "2023-11-22T00:23:03.902Z"
   },
   {
    "duration": 358,
    "start_time": "2023-11-22T00:23:04.590Z"
   },
   {
    "duration": 571,
    "start_time": "2023-11-22T00:23:04.950Z"
   },
   {
    "duration": 10,
    "start_time": "2023-11-22T00:23:05.523Z"
   },
   {
    "duration": 37,
    "start_time": "2023-11-22T00:23:05.535Z"
   },
   {
    "duration": 27,
    "start_time": "2023-11-22T00:23:05.575Z"
   },
   {
    "duration": 191,
    "start_time": "2023-11-22T00:23:28.118Z"
   },
   {
    "duration": 8,
    "start_time": "2023-11-22T00:25:39.273Z"
   },
   {
    "duration": 84,
    "start_time": "2023-11-22T00:44:57.781Z"
   },
   {
    "duration": 1224,
    "start_time": "2023-11-22T00:49:59.976Z"
   },
   {
    "duration": 153,
    "start_time": "2023-11-22T00:50:01.202Z"
   },
   {
    "duration": 9,
    "start_time": "2023-11-22T00:50:01.357Z"
   },
   {
    "duration": 49,
    "start_time": "2023-11-22T00:50:01.368Z"
   },
   {
    "duration": 21,
    "start_time": "2023-11-22T00:50:01.419Z"
   },
   {
    "duration": 33,
    "start_time": "2023-11-22T00:50:01.443Z"
   },
   {
    "duration": 53,
    "start_time": "2023-11-22T00:50:01.478Z"
   },
   {
    "duration": 49,
    "start_time": "2023-11-22T00:50:01.533Z"
   },
   {
    "duration": 47,
    "start_time": "2023-11-22T00:50:01.585Z"
   },
   {
    "duration": 53,
    "start_time": "2023-11-22T00:50:01.635Z"
   },
   {
    "duration": 52,
    "start_time": "2023-11-22T00:50:01.690Z"
   },
   {
    "duration": 104,
    "start_time": "2023-11-22T00:50:01.743Z"
   },
   {
    "duration": 317,
    "start_time": "2023-11-22T00:50:01.849Z"
   },
   {
    "duration": 10,
    "start_time": "2023-11-22T00:50:02.168Z"
   },
   {
    "duration": 79,
    "start_time": "2023-11-22T00:50:02.180Z"
   },
   {
    "duration": 62,
    "start_time": "2023-11-22T00:50:02.261Z"
   },
   {
    "duration": 52,
    "start_time": "2023-11-22T00:50:02.325Z"
   },
   {
    "duration": 38,
    "start_time": "2023-11-22T00:50:02.379Z"
   },
   {
    "duration": 45,
    "start_time": "2023-11-22T00:50:02.419Z"
   },
   {
    "duration": 28,
    "start_time": "2023-11-22T00:50:02.466Z"
   },
   {
    "duration": 24,
    "start_time": "2023-11-22T00:50:02.496Z"
   },
   {
    "duration": 17,
    "start_time": "2023-11-22T00:50:02.522Z"
   },
   {
    "duration": 23,
    "start_time": "2023-11-22T00:50:02.541Z"
   },
   {
    "duration": 367,
    "start_time": "2023-11-22T00:50:02.566Z"
   },
   {
    "duration": 11,
    "start_time": "2023-11-22T00:50:02.936Z"
   },
   {
    "duration": 301,
    "start_time": "2023-11-22T00:50:02.949Z"
   },
   {
    "duration": 9,
    "start_time": "2023-11-22T00:50:03.252Z"
   },
   {
    "duration": 47,
    "start_time": "2023-11-22T00:50:03.265Z"
   },
   {
    "duration": 24,
    "start_time": "2023-11-22T00:50:03.314Z"
   },
   {
    "duration": 2462,
    "start_time": "2023-11-22T00:50:03.340Z"
   },
   {
    "duration": 12,
    "start_time": "2023-11-22T00:50:05.803Z"
   },
   {
    "duration": 166,
    "start_time": "2023-11-22T00:50:05.817Z"
   },
   {
    "duration": 274,
    "start_time": "2023-11-22T00:50:05.985Z"
   },
   {
    "duration": 7,
    "start_time": "2023-11-22T00:50:06.261Z"
   },
   {
    "duration": 200,
    "start_time": "2023-11-22T00:50:06.270Z"
   },
   {
    "duration": 689,
    "start_time": "2023-11-22T00:50:06.473Z"
   },
   {
    "duration": 355,
    "start_time": "2023-11-22T00:50:07.164Z"
   },
   {
    "duration": 582,
    "start_time": "2023-11-22T00:50:07.521Z"
   },
   {
    "duration": 9,
    "start_time": "2023-11-22T00:50:08.105Z"
   },
   {
    "duration": 149,
    "start_time": "2023-11-22T00:50:08.115Z"
   },
   {
    "duration": 10,
    "start_time": "2023-11-22T00:50:08.266Z"
   },
   {
    "duration": 1341,
    "start_time": "2023-11-22T19:36:17.234Z"
   },
   {
    "duration": 166,
    "start_time": "2023-11-22T19:36:18.577Z"
   },
   {
    "duration": 3,
    "start_time": "2023-11-22T19:36:18.745Z"
   },
   {
    "duration": 167,
    "start_time": "2023-11-22T19:36:18.749Z"
   },
   {
    "duration": 6,
    "start_time": "2023-11-22T19:36:18.918Z"
   },
   {
    "duration": 13,
    "start_time": "2023-11-22T19:36:18.925Z"
   },
   {
    "duration": 15,
    "start_time": "2023-11-22T19:36:18.940Z"
   },
   {
    "duration": 15,
    "start_time": "2023-11-22T19:36:18.957Z"
   },
   {
    "duration": 8,
    "start_time": "2023-11-22T19:36:18.973Z"
   },
   {
    "duration": 8,
    "start_time": "2023-11-22T19:36:18.984Z"
   },
   {
    "duration": 6,
    "start_time": "2023-11-22T19:36:18.993Z"
   },
   {
    "duration": 54,
    "start_time": "2023-11-22T19:36:19.001Z"
   },
   {
    "duration": 198,
    "start_time": "2023-11-22T19:36:19.057Z"
   },
   {
    "duration": 9,
    "start_time": "2023-11-22T19:36:19.257Z"
   },
   {
    "duration": 23,
    "start_time": "2023-11-22T19:36:19.267Z"
   },
   {
    "duration": 6,
    "start_time": "2023-11-22T19:36:19.292Z"
   },
   {
    "duration": 17,
    "start_time": "2023-11-22T19:36:19.300Z"
   },
   {
    "duration": 12,
    "start_time": "2023-11-22T19:36:19.319Z"
   },
   {
    "duration": 29,
    "start_time": "2023-11-22T19:36:19.332Z"
   },
   {
    "duration": 12,
    "start_time": "2023-11-22T19:36:19.362Z"
   },
   {
    "duration": 17,
    "start_time": "2023-11-22T19:36:19.376Z"
   },
   {
    "duration": 16,
    "start_time": "2023-11-22T19:36:19.396Z"
   },
   {
    "duration": 35,
    "start_time": "2023-11-22T19:36:19.413Z"
   },
   {
    "duration": 325,
    "start_time": "2023-11-22T19:36:19.451Z"
   },
   {
    "duration": 12,
    "start_time": "2023-11-22T19:36:19.778Z"
   },
   {
    "duration": 258,
    "start_time": "2023-11-22T19:36:19.792Z"
   },
   {
    "duration": 11,
    "start_time": "2023-11-22T19:36:20.052Z"
   },
   {
    "duration": 7,
    "start_time": "2023-11-22T19:36:20.067Z"
   },
   {
    "duration": 28,
    "start_time": "2023-11-22T19:36:20.076Z"
   },
   {
    "duration": 2418,
    "start_time": "2023-11-22T19:36:20.106Z"
   },
   {
    "duration": 12,
    "start_time": "2023-11-22T19:36:22.526Z"
   },
   {
    "duration": 112,
    "start_time": "2023-11-22T19:36:22.540Z"
   },
   {
    "duration": 264,
    "start_time": "2023-11-22T19:36:22.654Z"
   },
   {
    "duration": 6,
    "start_time": "2023-11-22T19:36:22.920Z"
   },
   {
    "duration": 201,
    "start_time": "2023-11-22T19:36:22.928Z"
   },
   {
    "duration": 682,
    "start_time": "2023-11-22T19:36:23.131Z"
   },
   {
    "duration": 351,
    "start_time": "2023-11-22T19:36:23.816Z"
   },
   {
    "duration": 552,
    "start_time": "2023-11-22T19:36:24.169Z"
   },
   {
    "duration": 9,
    "start_time": "2023-11-22T19:36:24.723Z"
   },
   {
    "duration": 17,
    "start_time": "2023-11-22T19:36:24.734Z"
   },
   {
    "duration": 9,
    "start_time": "2023-11-22T19:36:24.752Z"
   },
   {
    "duration": 1294,
    "start_time": "2023-11-22T20:30:06.531Z"
   },
   {
    "duration": 197,
    "start_time": "2023-11-22T20:30:07.827Z"
   },
   {
    "duration": 2,
    "start_time": "2023-11-22T20:30:08.026Z"
   },
   {
    "duration": 5,
    "start_time": "2023-11-22T20:30:08.030Z"
   },
   {
    "duration": 3,
    "start_time": "2023-11-22T20:30:10.778Z"
   },
   {
    "duration": 4,
    "start_time": "2023-11-22T20:30:16.899Z"
   },
   {
    "duration": 5,
    "start_time": "2023-11-22T20:30:33.476Z"
   },
   {
    "duration": 10,
    "start_time": "2023-11-22T20:31:19.320Z"
   },
   {
    "duration": 14,
    "start_time": "2023-11-22T20:31:23.333Z"
   },
   {
    "duration": 12,
    "start_time": "2023-11-22T20:31:26.388Z"
   },
   {
    "duration": 8,
    "start_time": "2023-11-22T20:31:27.849Z"
   },
   {
    "duration": 9,
    "start_time": "2023-11-22T20:31:29.929Z"
   },
   {
    "duration": 6,
    "start_time": "2023-11-22T20:31:30.458Z"
   },
   {
    "duration": 14,
    "start_time": "2023-11-22T20:31:33.730Z"
   },
   {
    "duration": 183,
    "start_time": "2023-11-22T20:31:36.289Z"
   },
   {
    "duration": 10,
    "start_time": "2023-11-22T20:31:38.099Z"
   },
   {
    "duration": 10,
    "start_time": "2023-11-22T20:32:02.430Z"
   },
   {
    "duration": 3,
    "start_time": "2023-11-22T20:34:47.622Z"
   },
   {
    "duration": 120,
    "start_time": "2023-11-22T20:34:47.787Z"
   },
   {
    "duration": 3,
    "start_time": "2023-11-22T20:34:48.207Z"
   },
   {
    "duration": 4,
    "start_time": "2023-11-22T20:34:48.367Z"
   },
   {
    "duration": 5,
    "start_time": "2023-11-22T20:34:51.529Z"
   },
   {
    "duration": 10,
    "start_time": "2023-11-22T20:34:55.464Z"
   },
   {
    "duration": 15,
    "start_time": "2023-11-22T20:34:57.299Z"
   },
   {
    "duration": 12,
    "start_time": "2023-11-22T20:34:59.140Z"
   },
   {
    "duration": 9,
    "start_time": "2023-11-22T20:35:00.925Z"
   },
   {
    "duration": 10,
    "start_time": "2023-11-22T20:35:02.750Z"
   },
   {
    "duration": 6,
    "start_time": "2023-11-22T20:35:03.047Z"
   },
   {
    "duration": 14,
    "start_time": "2023-11-22T20:35:04.140Z"
   },
   {
    "duration": 171,
    "start_time": "2023-11-22T20:35:13.004Z"
   },
   {
    "duration": 8,
    "start_time": "2023-11-22T20:35:14.938Z"
   },
   {
    "duration": 5,
    "start_time": "2023-11-22T20:35:22.504Z"
   },
   {
    "duration": 1109,
    "start_time": "2023-11-22T20:36:00.966Z"
   },
   {
    "duration": 130,
    "start_time": "2023-11-22T20:36:02.077Z"
   },
   {
    "duration": 3,
    "start_time": "2023-11-22T20:36:02.208Z"
   },
   {
    "duration": 24,
    "start_time": "2023-11-22T20:36:02.213Z"
   },
   {
    "duration": 32,
    "start_time": "2023-11-22T20:36:02.238Z"
   },
   {
    "duration": 16,
    "start_time": "2023-11-22T20:36:02.272Z"
   },
   {
    "duration": 29,
    "start_time": "2023-11-22T20:36:02.289Z"
   },
   {
    "duration": 17,
    "start_time": "2023-11-22T20:36:02.319Z"
   },
   {
    "duration": 28,
    "start_time": "2023-11-22T20:36:02.337Z"
   },
   {
    "duration": 13,
    "start_time": "2023-11-22T20:36:02.367Z"
   },
   {
    "duration": 25,
    "start_time": "2023-11-22T20:36:02.382Z"
   },
   {
    "duration": 35,
    "start_time": "2023-11-22T20:36:02.408Z"
   },
   {
    "duration": 198,
    "start_time": "2023-11-22T20:36:02.445Z"
   },
   {
    "duration": 8,
    "start_time": "2023-11-22T20:36:02.644Z"
   },
   {
    "duration": 18,
    "start_time": "2023-11-22T20:36:02.654Z"
   },
   {
    "duration": 6,
    "start_time": "2023-11-22T20:36:02.674Z"
   },
   {
    "duration": 25,
    "start_time": "2023-11-22T20:36:02.681Z"
   },
   {
    "duration": 23,
    "start_time": "2023-11-22T20:36:02.708Z"
   },
   {
    "duration": 133,
    "start_time": "2023-11-22T20:36:02.732Z"
   },
   {
    "duration": 0,
    "start_time": "2023-11-22T20:36:02.867Z"
   },
   {
    "duration": 0,
    "start_time": "2023-11-22T20:36:02.868Z"
   },
   {
    "duration": 0,
    "start_time": "2023-11-22T20:36:02.869Z"
   },
   {
    "duration": 0,
    "start_time": "2023-11-22T20:36:02.870Z"
   },
   {
    "duration": 0,
    "start_time": "2023-11-22T20:36:02.871Z"
   },
   {
    "duration": 0,
    "start_time": "2023-11-22T20:36:02.872Z"
   },
   {
    "duration": 0,
    "start_time": "2023-11-22T20:36:02.873Z"
   },
   {
    "duration": 0,
    "start_time": "2023-11-22T20:36:02.874Z"
   },
   {
    "duration": 0,
    "start_time": "2023-11-22T20:36:02.875Z"
   },
   {
    "duration": 0,
    "start_time": "2023-11-22T20:36:02.876Z"
   },
   {
    "duration": 0,
    "start_time": "2023-11-22T20:36:02.876Z"
   },
   {
    "duration": 0,
    "start_time": "2023-11-22T20:36:02.878Z"
   },
   {
    "duration": 0,
    "start_time": "2023-11-22T20:36:02.879Z"
   },
   {
    "duration": 0,
    "start_time": "2023-11-22T20:36:02.879Z"
   },
   {
    "duration": 0,
    "start_time": "2023-11-22T20:36:02.880Z"
   },
   {
    "duration": 0,
    "start_time": "2023-11-22T20:36:02.881Z"
   },
   {
    "duration": 0,
    "start_time": "2023-11-22T20:36:02.883Z"
   },
   {
    "duration": 0,
    "start_time": "2023-11-22T20:36:02.884Z"
   },
   {
    "duration": 0,
    "start_time": "2023-11-22T20:36:02.884Z"
   },
   {
    "duration": 0,
    "start_time": "2023-11-22T20:36:02.886Z"
   },
   {
    "duration": 0,
    "start_time": "2023-11-22T20:36:02.915Z"
   },
   {
    "duration": 8,
    "start_time": "2023-11-22T20:39:27.748Z"
   },
   {
    "duration": 9,
    "start_time": "2023-11-22T20:39:48.147Z"
   },
   {
    "duration": 15,
    "start_time": "2023-11-22T20:40:08.638Z"
   },
   {
    "duration": 12,
    "start_time": "2023-11-22T20:40:25.052Z"
   },
   {
    "duration": 7,
    "start_time": "2023-11-22T20:40:34.662Z"
   },
   {
    "duration": 7,
    "start_time": "2023-11-22T20:40:42.789Z"
   },
   {
    "duration": 10,
    "start_time": "2023-11-22T20:40:44.643Z"
   },
   {
    "duration": 3,
    "start_time": "2023-11-22T20:40:50.311Z"
   },
   {
    "duration": 168,
    "start_time": "2023-11-22T20:40:50.477Z"
   },
   {
    "duration": 3,
    "start_time": "2023-11-22T20:40:50.895Z"
   },
   {
    "duration": 4,
    "start_time": "2023-11-22T20:40:51.066Z"
   },
   {
    "duration": 5,
    "start_time": "2023-11-22T20:40:51.148Z"
   },
   {
    "duration": 10,
    "start_time": "2023-11-22T20:40:52.366Z"
   },
   {
    "duration": 14,
    "start_time": "2023-11-22T20:40:53.659Z"
   },
   {
    "duration": 12,
    "start_time": "2023-11-22T20:40:54.186Z"
   },
   {
    "duration": 9,
    "start_time": "2023-11-22T20:40:54.557Z"
   },
   {
    "duration": 9,
    "start_time": "2023-11-22T20:40:55.546Z"
   },
   {
    "duration": 7,
    "start_time": "2023-11-22T20:40:56.172Z"
   },
   {
    "duration": 15,
    "start_time": "2023-11-22T20:40:57.187Z"
   },
   {
    "duration": 182,
    "start_time": "2023-11-22T20:40:58.006Z"
   },
   {
    "duration": 9,
    "start_time": "2023-11-22T20:40:59.878Z"
   },
   {
    "duration": 12,
    "start_time": "2023-11-22T20:41:01.420Z"
   },
   {
    "duration": 7,
    "start_time": "2023-11-22T20:41:09.660Z"
   },
   {
    "duration": 7,
    "start_time": "2023-11-22T20:41:12.346Z"
   },
   {
    "duration": 8,
    "start_time": "2023-11-22T20:41:13.084Z"
   },
   {
    "duration": 10,
    "start_time": "2023-11-22T20:41:15.280Z"
   },
   {
    "duration": 14,
    "start_time": "2023-11-22T20:42:05.439Z"
   },
   {
    "duration": 14,
    "start_time": "2023-11-22T20:42:54.187Z"
   },
   {
    "duration": 15,
    "start_time": "2023-11-22T20:43:03.146Z"
   },
   {
    "duration": 14,
    "start_time": "2023-11-22T20:43:17.582Z"
   },
   {
    "duration": 82,
    "start_time": "2023-11-22T20:44:53.953Z"
   },
   {
    "duration": 118,
    "start_time": "2023-11-22T20:45:11.801Z"
   },
   {
    "duration": 19,
    "start_time": "2023-11-22T20:45:27.259Z"
   },
   {
    "duration": 3,
    "start_time": "2023-11-22T20:45:57.848Z"
   },
   {
    "duration": 163,
    "start_time": "2023-11-22T20:45:57.858Z"
   },
   {
    "duration": 2,
    "start_time": "2023-11-22T20:45:58.023Z"
   },
   {
    "duration": 8,
    "start_time": "2023-11-22T20:45:58.027Z"
   },
   {
    "duration": 7,
    "start_time": "2023-11-22T20:45:58.038Z"
   },
   {
    "duration": 15,
    "start_time": "2023-11-22T20:45:58.047Z"
   },
   {
    "duration": 18,
    "start_time": "2023-11-22T20:45:58.064Z"
   },
   {
    "duration": 42,
    "start_time": "2023-11-22T20:45:58.084Z"
   },
   {
    "duration": 9,
    "start_time": "2023-11-22T20:45:58.127Z"
   },
   {
    "duration": 11,
    "start_time": "2023-11-22T20:45:58.139Z"
   },
   {
    "duration": 8,
    "start_time": "2023-11-22T20:45:58.152Z"
   },
   {
    "duration": 21,
    "start_time": "2023-11-22T20:45:58.162Z"
   },
   {
    "duration": 207,
    "start_time": "2023-11-22T20:45:58.185Z"
   },
   {
    "duration": 22,
    "start_time": "2023-11-22T20:45:58.393Z"
   },
   {
    "duration": 27,
    "start_time": "2023-11-22T20:46:10.380Z"
   },
   {
    "duration": 8,
    "start_time": "2023-11-22T20:46:19.354Z"
   },
   {
    "duration": 32,
    "start_time": "2023-11-22T20:46:20.670Z"
   },
   {
    "duration": 24,
    "start_time": "2023-11-22T20:46:39.732Z"
   },
   {
    "duration": 16,
    "start_time": "2023-11-22T20:47:33.477Z"
   },
   {
    "duration": 6,
    "start_time": "2023-11-22T20:47:40.225Z"
   },
   {
    "duration": 8,
    "start_time": "2023-11-22T20:47:43.995Z"
   },
   {
    "duration": 10,
    "start_time": "2023-11-22T20:47:45.478Z"
   },
   {
    "duration": 15,
    "start_time": "2023-11-22T20:48:43.919Z"
   },
   {
    "duration": 12,
    "start_time": "2023-11-22T20:48:47.826Z"
   },
   {
    "duration": 3,
    "start_time": "2023-11-22T20:49:06.211Z"
   },
   {
    "duration": 115,
    "start_time": "2023-11-22T20:49:06.216Z"
   },
   {
    "duration": 2,
    "start_time": "2023-11-22T20:49:06.333Z"
   },
   {
    "duration": 7,
    "start_time": "2023-11-22T20:49:06.336Z"
   },
   {
    "duration": 4,
    "start_time": "2023-11-22T20:49:06.345Z"
   },
   {
    "duration": 9,
    "start_time": "2023-11-22T20:49:06.351Z"
   },
   {
    "duration": 104,
    "start_time": "2023-11-22T20:49:06.361Z"
   },
   {
    "duration": 13,
    "start_time": "2023-11-22T20:49:06.467Z"
   },
   {
    "duration": 7,
    "start_time": "2023-11-22T20:49:06.481Z"
   },
   {
    "duration": 30,
    "start_time": "2023-11-22T20:49:06.490Z"
   },
   {
    "duration": 5,
    "start_time": "2023-11-22T20:49:06.522Z"
   },
   {
    "duration": 12,
    "start_time": "2023-11-22T20:49:06.529Z"
   },
   {
    "duration": 181,
    "start_time": "2023-11-22T20:49:06.542Z"
   },
   {
    "duration": 8,
    "start_time": "2023-11-22T20:49:06.725Z"
   },
   {
    "duration": 14,
    "start_time": "2023-11-22T20:49:06.734Z"
   },
   {
    "duration": 6,
    "start_time": "2023-11-22T20:49:06.749Z"
   },
   {
    "duration": 10,
    "start_time": "2023-11-22T20:49:06.757Z"
   },
   {
    "duration": 9,
    "start_time": "2023-11-22T20:49:06.769Z"
   },
   {
    "duration": 45,
    "start_time": "2023-11-22T20:49:06.779Z"
   },
   {
    "duration": 15,
    "start_time": "2023-11-22T20:49:12.572Z"
   },
   {
    "duration": 4,
    "start_time": "2023-11-22T20:49:25.476Z"
   },
   {
    "duration": 3,
    "start_time": "2023-11-22T20:50:00.693Z"
   },
   {
    "duration": 161,
    "start_time": "2023-11-22T20:50:00.698Z"
   },
   {
    "duration": 2,
    "start_time": "2023-11-22T20:50:00.860Z"
   },
   {
    "duration": 24,
    "start_time": "2023-11-22T20:50:00.864Z"
   },
   {
    "duration": 28,
    "start_time": "2023-11-22T20:50:00.890Z"
   },
   {
    "duration": 44,
    "start_time": "2023-11-22T20:50:00.920Z"
   },
   {
    "duration": 28,
    "start_time": "2023-11-22T20:50:00.966Z"
   },
   {
    "duration": 51,
    "start_time": "2023-11-22T20:50:00.996Z"
   },
   {
    "duration": 28,
    "start_time": "2023-11-22T20:50:01.049Z"
   },
   {
    "duration": 25,
    "start_time": "2023-11-22T20:50:01.079Z"
   },
   {
    "duration": 17,
    "start_time": "2023-11-22T20:50:01.106Z"
   },
   {
    "duration": 20,
    "start_time": "2023-11-22T20:50:01.125Z"
   },
   {
    "duration": 192,
    "start_time": "2023-11-22T20:50:01.147Z"
   },
   {
    "duration": 8,
    "start_time": "2023-11-22T20:50:01.341Z"
   },
   {
    "duration": 31,
    "start_time": "2023-11-22T20:50:01.351Z"
   },
   {
    "duration": 17,
    "start_time": "2023-11-22T20:50:01.383Z"
   },
   {
    "duration": 26,
    "start_time": "2023-11-22T20:50:01.401Z"
   },
   {
    "duration": 20,
    "start_time": "2023-11-22T20:50:01.429Z"
   },
   {
    "duration": 27,
    "start_time": "2023-11-22T20:50:01.450Z"
   },
   {
    "duration": 12,
    "start_time": "2023-11-22T20:50:37.023Z"
   },
   {
    "duration": 7,
    "start_time": "2023-11-22T20:50:38.972Z"
   },
   {
    "duration": 7,
    "start_time": "2023-11-22T20:50:40.521Z"
   },
   {
    "duration": 10,
    "start_time": "2023-11-22T20:50:41.698Z"
   },
   {
    "duration": 2,
    "start_time": "2023-11-22T20:50:52.512Z"
   },
   {
    "duration": 116,
    "start_time": "2023-11-22T20:50:52.516Z"
   },
   {
    "duration": 2,
    "start_time": "2023-11-22T20:50:52.634Z"
   },
   {
    "duration": 6,
    "start_time": "2023-11-22T20:50:52.638Z"
   },
   {
    "duration": 9,
    "start_time": "2023-11-22T20:50:52.646Z"
   },
   {
    "duration": 14,
    "start_time": "2023-11-22T20:50:52.657Z"
   },
   {
    "duration": 23,
    "start_time": "2023-11-22T20:50:52.672Z"
   },
   {
    "duration": 11,
    "start_time": "2023-11-22T20:50:52.696Z"
   },
   {
    "duration": 11,
    "start_time": "2023-11-22T20:50:52.709Z"
   },
   {
    "duration": 7,
    "start_time": "2023-11-22T20:50:52.722Z"
   },
   {
    "duration": 16,
    "start_time": "2023-11-22T20:50:52.730Z"
   },
   {
    "duration": 19,
    "start_time": "2023-11-22T20:50:52.747Z"
   },
   {
    "duration": 179,
    "start_time": "2023-11-22T20:50:52.767Z"
   },
   {
    "duration": 8,
    "start_time": "2023-11-22T20:50:52.948Z"
   },
   {
    "duration": 19,
    "start_time": "2023-11-22T20:50:52.957Z"
   },
   {
    "duration": 13,
    "start_time": "2023-11-22T20:50:52.978Z"
   },
   {
    "duration": 11,
    "start_time": "2023-11-22T20:50:52.992Z"
   },
   {
    "duration": 9,
    "start_time": "2023-11-22T20:50:53.014Z"
   },
   {
    "duration": 22,
    "start_time": "2023-11-22T20:50:53.025Z"
   },
   {
    "duration": 15,
    "start_time": "2023-11-22T20:50:53.048Z"
   },
   {
    "duration": 15,
    "start_time": "2023-11-22T20:50:56.277Z"
   },
   {
    "duration": 17,
    "start_time": "2023-11-22T20:51:40.968Z"
   },
   {
    "duration": 3,
    "start_time": "2023-11-22T20:52:42.575Z"
   },
   {
    "duration": 122,
    "start_time": "2023-11-22T20:52:42.583Z"
   },
   {
    "duration": 3,
    "start_time": "2023-11-22T20:52:42.707Z"
   },
   {
    "duration": 6,
    "start_time": "2023-11-22T20:52:42.711Z"
   },
   {
    "duration": 4,
    "start_time": "2023-11-22T20:52:42.719Z"
   },
   {
    "duration": 10,
    "start_time": "2023-11-22T20:52:42.724Z"
   },
   {
    "duration": 18,
    "start_time": "2023-11-22T20:52:42.735Z"
   },
   {
    "duration": 10,
    "start_time": "2023-11-22T20:52:42.754Z"
   },
   {
    "duration": 7,
    "start_time": "2023-11-22T20:52:42.766Z"
   },
   {
    "duration": 8,
    "start_time": "2023-11-22T20:52:42.775Z"
   },
   {
    "duration": 7,
    "start_time": "2023-11-22T20:52:42.814Z"
   },
   {
    "duration": 18,
    "start_time": "2023-11-22T20:52:42.823Z"
   },
   {
    "duration": 184,
    "start_time": "2023-11-22T20:52:42.843Z"
   },
   {
    "duration": 9,
    "start_time": "2023-11-22T20:52:43.028Z"
   },
   {
    "duration": 11,
    "start_time": "2023-11-22T20:52:43.038Z"
   },
   {
    "duration": 5,
    "start_time": "2023-11-22T20:52:43.051Z"
   },
   {
    "duration": 6,
    "start_time": "2023-11-22T20:52:43.058Z"
   },
   {
    "duration": 8,
    "start_time": "2023-11-22T20:52:43.066Z"
   },
   {
    "duration": 48,
    "start_time": "2023-11-22T20:52:43.075Z"
   },
   {
    "duration": 9,
    "start_time": "2023-11-22T20:52:43.124Z"
   },
   {
    "duration": 15,
    "start_time": "2023-11-22T20:52:43.134Z"
   },
   {
    "duration": 14,
    "start_time": "2023-11-22T20:52:43.150Z"
   },
   {
    "duration": 2,
    "start_time": "2023-11-22T20:52:43.166Z"
   },
   {
    "duration": 296,
    "start_time": "2023-11-22T20:53:18.223Z"
   },
   {
    "duration": 302,
    "start_time": "2023-11-22T20:53:38.529Z"
   },
   {
    "duration": 11,
    "start_time": "2023-11-22T20:54:15.878Z"
   },
   {
    "duration": 231,
    "start_time": "2023-11-22T20:54:21.901Z"
   },
   {
    "duration": 10,
    "start_time": "2023-11-22T20:54:28.088Z"
   },
   {
    "duration": 23,
    "start_time": "2023-11-22T21:08:52.825Z"
   },
   {
    "duration": 1516,
    "start_time": "2023-11-22T21:08:57.903Z"
   },
   {
    "duration": 10,
    "start_time": "2023-11-22T21:10:43.755Z"
   },
   {
    "duration": 10,
    "start_time": "2023-11-22T21:11:09.470Z"
   },
   {
    "duration": 98,
    "start_time": "2023-11-22T21:11:44.302Z"
   },
   {
    "duration": 5,
    "start_time": "2023-11-22T21:12:53.723Z"
   },
   {
    "duration": 12,
    "start_time": "2023-11-22T21:13:00.196Z"
   },
   {
    "duration": 7,
    "start_time": "2023-11-22T21:13:42.362Z"
   },
   {
    "duration": 14,
    "start_time": "2023-11-22T21:13:57.521Z"
   },
   {
    "duration": 7,
    "start_time": "2023-11-22T21:14:11.503Z"
   },
   {
    "duration": 15,
    "start_time": "2023-11-22T21:14:18.232Z"
   },
   {
    "duration": 9,
    "start_time": "2023-11-22T21:14:33.713Z"
   },
   {
    "duration": 5,
    "start_time": "2023-11-22T21:15:03.973Z"
   },
   {
    "duration": 9,
    "start_time": "2023-11-22T21:15:14.497Z"
   },
   {
    "duration": 1992,
    "start_time": "2023-11-22T21:15:32.535Z"
   },
   {
    "duration": 141,
    "start_time": "2023-11-22T21:15:45.627Z"
   },
   {
    "duration": 10,
    "start_time": "2023-11-22T21:17:16.547Z"
   },
   {
    "duration": 11,
    "start_time": "2023-11-22T21:17:20.718Z"
   },
   {
    "duration": 124,
    "start_time": "2023-11-22T21:17:23.997Z"
   },
   {
    "duration": 2035,
    "start_time": "2023-11-22T21:17:48.671Z"
   },
   {
    "duration": 260,
    "start_time": "2023-11-22T21:18:38.927Z"
   },
   {
    "duration": 162,
    "start_time": "2023-11-22T21:19:04.440Z"
   },
   {
    "duration": 3067,
    "start_time": "2023-11-22T21:19:11.529Z"
   },
   {
    "duration": 254,
    "start_time": "2023-11-22T21:19:25.400Z"
   },
   {
    "duration": 260,
    "start_time": "2023-11-22T21:20:49.335Z"
   },
   {
    "duration": 841,
    "start_time": "2023-11-22T21:21:20.927Z"
   },
   {
    "duration": 636,
    "start_time": "2023-11-22T21:21:35.961Z"
   },
   {
    "duration": 786,
    "start_time": "2023-11-22T21:21:47.783Z"
   },
   {
    "duration": 1056,
    "start_time": "2023-11-22T21:23:27.668Z"
   },
   {
    "duration": 834,
    "start_time": "2023-11-22T21:23:36.449Z"
   },
   {
    "duration": 866,
    "start_time": "2023-11-22T21:24:14.062Z"
   },
   {
    "duration": 945,
    "start_time": "2023-11-22T21:24:30.421Z"
   },
   {
    "duration": 1125,
    "start_time": "2023-11-22T21:24:35.983Z"
   },
   {
    "duration": 875,
    "start_time": "2023-11-22T21:25:11.144Z"
   },
   {
    "duration": 85,
    "start_time": "2023-11-22T21:26:40.716Z"
   },
   {
    "duration": 871,
    "start_time": "2023-11-22T21:28:24.378Z"
   },
   {
    "duration": 497,
    "start_time": "2023-11-22T21:29:35.290Z"
   },
   {
    "duration": 5,
    "start_time": "2023-11-22T21:29:42.815Z"
   },
   {
    "duration": 10,
    "start_time": "2023-11-22T21:30:45.815Z"
   },
   {
    "duration": 8,
    "start_time": "2023-11-22T21:30:53.553Z"
   },
   {
    "duration": 6,
    "start_time": "2023-11-22T21:31:05.285Z"
   },
   {
    "duration": 5,
    "start_time": "2023-11-22T21:31:06.956Z"
   },
   {
    "duration": 6,
    "start_time": "2023-11-22T21:31:16.550Z"
   },
   {
    "duration": 1304,
    "start_time": "2023-11-22T21:31:20.670Z"
   },
   {
    "duration": 5,
    "start_time": "2023-11-22T21:31:29.638Z"
   },
   {
    "duration": 6,
    "start_time": "2023-11-22T21:36:01.425Z"
   },
   {
    "duration": 273,
    "start_time": "2023-11-22T21:36:04.252Z"
   },
   {
    "duration": 259,
    "start_time": "2023-11-22T21:36:11.239Z"
   },
   {
    "duration": 16,
    "start_time": "2023-11-22T21:36:42.966Z"
   },
   {
    "duration": 16,
    "start_time": "2023-11-22T21:37:04.974Z"
   },
   {
    "duration": 271,
    "start_time": "2023-11-22T21:37:14.535Z"
   },
   {
    "duration": 11,
    "start_time": "2023-11-22T21:37:42.228Z"
   },
   {
    "duration": 22,
    "start_time": "2023-11-22T21:37:45.189Z"
   },
   {
    "duration": 268,
    "start_time": "2023-11-22T21:37:47.602Z"
   },
   {
    "duration": 254,
    "start_time": "2023-11-22T21:37:52.548Z"
   },
   {
    "duration": 269,
    "start_time": "2023-11-22T21:37:54.926Z"
   },
   {
    "duration": 269,
    "start_time": "2023-11-22T21:37:59.980Z"
   },
   {
    "duration": 265,
    "start_time": "2023-11-22T21:38:05.843Z"
   },
   {
    "duration": 17,
    "start_time": "2023-11-22T21:38:12.785Z"
   },
   {
    "duration": 1441,
    "start_time": "2023-11-22T21:38:19.183Z"
   },
   {
    "duration": 632,
    "start_time": "2023-11-22T21:38:25.384Z"
   },
   {
    "duration": 297,
    "start_time": "2023-11-22T21:38:28.085Z"
   },
   {
    "duration": 260,
    "start_time": "2023-11-22T21:38:31.750Z"
   },
   {
    "duration": 723,
    "start_time": "2023-11-22T21:38:42.326Z"
   },
   {
    "duration": 829,
    "start_time": "2023-11-22T21:38:45.334Z"
   },
   {
    "duration": 721,
    "start_time": "2023-11-22T21:38:52.384Z"
   },
   {
    "duration": 756,
    "start_time": "2023-11-22T21:38:56.788Z"
   },
   {
    "duration": 734,
    "start_time": "2023-11-22T21:39:08.038Z"
   },
   {
    "duration": 665,
    "start_time": "2023-11-22T21:39:18.391Z"
   },
   {
    "duration": 278,
    "start_time": "2023-11-22T21:39:24.550Z"
   },
   {
    "duration": 281,
    "start_time": "2023-11-22T21:39:28.844Z"
   },
   {
    "duration": 260,
    "start_time": "2023-11-22T21:39:33.086Z"
   },
   {
    "duration": 261,
    "start_time": "2023-11-22T21:39:37.054Z"
   },
   {
    "duration": 472,
    "start_time": "2023-11-22T21:39:39.583Z"
   },
   {
    "duration": 260,
    "start_time": "2023-11-22T21:39:43.447Z"
   },
   {
    "duration": 269,
    "start_time": "2023-11-22T21:39:45.783Z"
   },
   {
    "duration": 256,
    "start_time": "2023-11-22T21:39:48.551Z"
   },
   {
    "duration": 275,
    "start_time": "2023-11-22T21:39:50.756Z"
   },
   {
    "duration": 264,
    "start_time": "2023-11-22T21:39:53.522Z"
   },
   {
    "duration": 262,
    "start_time": "2023-11-22T21:40:13.220Z"
   },
   {
    "duration": 271,
    "start_time": "2023-11-22T21:40:20.141Z"
   },
   {
    "duration": 266,
    "start_time": "2023-11-22T21:40:23.269Z"
   },
   {
    "duration": 265,
    "start_time": "2023-11-22T21:40:42.819Z"
   },
   {
    "duration": 383,
    "start_time": "2023-11-22T21:41:57.331Z"
   },
   {
    "duration": 383,
    "start_time": "2023-11-22T21:42:28.526Z"
   },
   {
    "duration": 605,
    "start_time": "2023-11-22T21:42:33.690Z"
   },
   {
    "duration": 380,
    "start_time": "2023-11-22T21:43:13.313Z"
   },
   {
    "duration": 459,
    "start_time": "2023-11-22T21:43:36.566Z"
   },
   {
    "duration": 93,
    "start_time": "2023-11-22T21:44:45.899Z"
   },
   {
    "duration": 560,
    "start_time": "2023-11-22T21:44:50.815Z"
   },
   {
    "duration": 544,
    "start_time": "2023-11-22T21:44:55.325Z"
   },
   {
    "duration": 576,
    "start_time": "2023-11-22T21:45:02.568Z"
   },
   {
    "duration": 581,
    "start_time": "2023-11-22T21:45:17.609Z"
   },
   {
    "duration": 75,
    "start_time": "2023-11-22T21:49:07.048Z"
   },
   {
    "duration": 86,
    "start_time": "2023-11-22T21:49:35.873Z"
   },
   {
    "duration": 110,
    "start_time": "2023-11-22T21:49:47.690Z"
   },
   {
    "duration": 84,
    "start_time": "2023-11-22T21:49:49.481Z"
   },
   {
    "duration": 14,
    "start_time": "2023-11-22T21:50:00.080Z"
   },
   {
    "duration": 90,
    "start_time": "2023-11-22T21:52:09.937Z"
   },
   {
    "duration": 93,
    "start_time": "2023-11-22T21:55:48.434Z"
   },
   {
    "duration": 19,
    "start_time": "2023-11-22T21:55:51.835Z"
   },
   {
    "duration": 22,
    "start_time": "2023-11-22T21:57:41.730Z"
   },
   {
    "duration": 21,
    "start_time": "2023-11-22T21:57:44.318Z"
   },
   {
    "duration": 22,
    "start_time": "2023-11-22T21:57:45.399Z"
   },
   {
    "duration": 24,
    "start_time": "2023-11-22T21:57:47.202Z"
   },
   {
    "duration": 29,
    "start_time": "2023-11-22T21:57:48.860Z"
   },
   {
    "duration": 20,
    "start_time": "2023-11-22T21:57:51.325Z"
   },
   {
    "duration": 27,
    "start_time": "2023-11-22T21:57:57.526Z"
   },
   {
    "duration": 20,
    "start_time": "2023-11-22T21:58:01.869Z"
   },
   {
    "duration": 14,
    "start_time": "2023-11-22T21:58:18.631Z"
   },
   {
    "duration": 20,
    "start_time": "2023-11-22T21:58:28.456Z"
   },
   {
    "duration": 19,
    "start_time": "2023-11-22T21:58:42.475Z"
   },
   {
    "duration": 29,
    "start_time": "2023-11-22T21:58:46.538Z"
   },
   {
    "duration": 28,
    "start_time": "2023-11-22T21:58:51.139Z"
   },
   {
    "duration": 20,
    "start_time": "2023-11-22T21:58:55.755Z"
   },
   {
    "duration": 21,
    "start_time": "2023-11-22T21:58:57.632Z"
   },
   {
    "duration": 643,
    "start_time": "2023-11-22T22:05:42.457Z"
   },
   {
    "duration": 176,
    "start_time": "2023-11-22T22:25:57.022Z"
   },
   {
    "duration": 6,
    "start_time": "2023-11-22T22:27:35.330Z"
   },
   {
    "duration": 11,
    "start_time": "2023-11-22T22:28:05.668Z"
   },
   {
    "duration": 7,
    "start_time": "2023-11-22T22:28:18.765Z"
   },
   {
    "duration": 9,
    "start_time": "2023-11-22T22:28:31.651Z"
   },
   {
    "duration": 7,
    "start_time": "2023-11-22T22:28:39.429Z"
   },
   {
    "duration": 3,
    "start_time": "2023-11-22T22:31:15.524Z"
   },
   {
    "duration": 496,
    "start_time": "2023-11-22T22:31:15.531Z"
   },
   {
    "duration": 2,
    "start_time": "2023-11-22T22:31:16.029Z"
   },
   {
    "duration": 5,
    "start_time": "2023-11-22T22:31:16.032Z"
   },
   {
    "duration": 6,
    "start_time": "2023-11-22T22:31:16.039Z"
   },
   {
    "duration": 9,
    "start_time": "2023-11-22T22:31:16.047Z"
   },
   {
    "duration": 13,
    "start_time": "2023-11-22T22:31:16.057Z"
   },
   {
    "duration": 11,
    "start_time": "2023-11-22T22:31:16.072Z"
   },
   {
    "duration": 265,
    "start_time": "2023-11-22T22:31:16.114Z"
   },
   {
    "duration": 8,
    "start_time": "2023-11-22T22:31:16.381Z"
   },
   {
    "duration": 6,
    "start_time": "2023-11-22T22:31:16.390Z"
   },
   {
    "duration": 13,
    "start_time": "2023-11-22T22:31:16.415Z"
   },
   {
    "duration": 178,
    "start_time": "2023-11-22T22:31:16.430Z"
   },
   {
    "duration": 10,
    "start_time": "2023-11-22T22:31:16.615Z"
   },
   {
    "duration": 11,
    "start_time": "2023-11-22T22:31:16.629Z"
   },
   {
    "duration": 6,
    "start_time": "2023-11-22T22:31:16.642Z"
   },
   {
    "duration": 7,
    "start_time": "2023-11-22T22:31:16.650Z"
   },
   {
    "duration": 10,
    "start_time": "2023-11-22T22:31:16.659Z"
   },
   {
    "duration": 57,
    "start_time": "2023-11-22T22:31:16.671Z"
   },
   {
    "duration": 9,
    "start_time": "2023-11-22T22:31:16.730Z"
   },
   {
    "duration": 15,
    "start_time": "2023-11-22T22:31:16.741Z"
   },
   {
    "duration": 13,
    "start_time": "2023-11-22T22:31:16.757Z"
   },
   {
    "duration": 3,
    "start_time": "2023-11-22T22:31:16.771Z"
   },
   {
    "duration": 331,
    "start_time": "2023-11-22T22:31:16.775Z"
   },
   {
    "duration": 14,
    "start_time": "2023-11-22T22:31:17.108Z"
   },
   {
    "duration": 226,
    "start_time": "2023-11-22T22:31:17.124Z"
   },
   {
    "duration": 8,
    "start_time": "2023-11-22T22:31:17.352Z"
   },
   {
    "duration": 21,
    "start_time": "2023-11-22T22:31:17.361Z"
   },
   {
    "duration": 1349,
    "start_time": "2023-11-22T22:31:17.383Z"
   },
   {
    "duration": 10,
    "start_time": "2023-11-22T22:31:18.734Z"
   },
   {
    "duration": 872,
    "start_time": "2023-11-22T22:31:18.745Z"
   },
   {
    "duration": 578,
    "start_time": "2023-11-22T22:31:19.619Z"
   },
   {
    "duration": 30,
    "start_time": "2023-11-22T22:31:20.198Z"
   },
   {
    "duration": 6,
    "start_time": "2023-11-22T22:31:20.229Z"
   },
   {
    "duration": 617,
    "start_time": "2023-11-22T22:31:20.237Z"
   },
   {
    "duration": 609,
    "start_time": "2023-11-22T22:31:20.856Z"
   },
   {
    "duration": 429,
    "start_time": "2023-11-22T22:31:21.467Z"
   },
   {
    "duration": 9,
    "start_time": "2023-11-22T22:31:21.897Z"
   },
   {
    "duration": 1290,
    "start_time": "2023-11-22T22:31:21.915Z"
   },
   {
    "duration": 0,
    "start_time": "2023-11-22T22:31:23.206Z"
   },
   {
    "duration": 3,
    "start_time": "2023-11-22T22:31:25.898Z"
   },
   {
    "duration": 374,
    "start_time": "2023-11-22T22:31:25.902Z"
   },
   {
    "duration": 2,
    "start_time": "2023-11-22T22:31:26.278Z"
   },
   {
    "duration": 5,
    "start_time": "2023-11-22T22:31:26.282Z"
   },
   {
    "duration": 7,
    "start_time": "2023-11-22T22:31:26.289Z"
   },
   {
    "duration": 10,
    "start_time": "2023-11-22T22:31:26.298Z"
   },
   {
    "duration": 15,
    "start_time": "2023-11-22T22:31:26.310Z"
   },
   {
    "duration": 10,
    "start_time": "2023-11-22T22:31:26.327Z"
   },
   {
    "duration": 8,
    "start_time": "2023-11-22T22:31:26.340Z"
   },
   {
    "duration": 10,
    "start_time": "2023-11-22T22:31:26.349Z"
   },
   {
    "duration": 7,
    "start_time": "2023-11-22T22:31:26.360Z"
   },
   {
    "duration": 52,
    "start_time": "2023-11-22T22:31:26.368Z"
   },
   {
    "duration": 185,
    "start_time": "2023-11-22T22:31:26.422Z"
   },
   {
    "duration": 8,
    "start_time": "2023-11-22T22:31:26.614Z"
   },
   {
    "duration": 11,
    "start_time": "2023-11-22T22:31:26.624Z"
   },
   {
    "duration": 9,
    "start_time": "2023-11-22T22:31:26.637Z"
   },
   {
    "duration": 6,
    "start_time": "2023-11-22T22:31:26.647Z"
   },
   {
    "duration": 10,
    "start_time": "2023-11-22T22:31:26.655Z"
   },
   {
    "duration": 48,
    "start_time": "2023-11-22T22:31:26.667Z"
   },
   {
    "duration": 10,
    "start_time": "2023-11-22T22:31:26.717Z"
   },
   {
    "duration": 15,
    "start_time": "2023-11-22T22:31:26.728Z"
   },
   {
    "duration": 13,
    "start_time": "2023-11-22T22:31:26.745Z"
   },
   {
    "duration": 4,
    "start_time": "2023-11-22T22:31:26.760Z"
   },
   {
    "duration": 341,
    "start_time": "2023-11-22T22:31:26.767Z"
   },
   {
    "duration": 14,
    "start_time": "2023-11-22T22:31:27.110Z"
   },
   {
    "duration": 241,
    "start_time": "2023-11-22T22:31:27.125Z"
   },
   {
    "duration": 10,
    "start_time": "2023-11-22T22:31:27.368Z"
   },
   {
    "duration": 43,
    "start_time": "2023-11-22T22:31:27.380Z"
   },
   {
    "duration": 1336,
    "start_time": "2023-11-22T22:31:27.425Z"
   },
   {
    "duration": 11,
    "start_time": "2023-11-22T22:31:28.763Z"
   },
   {
    "duration": 869,
    "start_time": "2023-11-22T22:31:28.776Z"
   },
   {
    "duration": 585,
    "start_time": "2023-11-22T22:31:29.647Z"
   },
   {
    "duration": 22,
    "start_time": "2023-11-22T22:31:30.233Z"
   },
   {
    "duration": 9,
    "start_time": "2023-11-22T22:31:30.257Z"
   },
   {
    "duration": 607,
    "start_time": "2023-11-22T22:31:43.500Z"
   },
   {
    "duration": 366,
    "start_time": "2023-11-22T22:35:49.358Z"
   },
   {
    "duration": 332,
    "start_time": "2023-11-22T22:36:14.142Z"
   },
   {
    "duration": 329,
    "start_time": "2023-11-22T22:36:59.365Z"
   },
   {
    "duration": 322,
    "start_time": "2023-11-22T22:37:05.319Z"
   },
   {
    "duration": 339,
    "start_time": "2023-11-22T22:37:11.030Z"
   },
   {
    "duration": 331,
    "start_time": "2023-11-22T22:37:14.913Z"
   },
   {
    "duration": 326,
    "start_time": "2023-11-22T22:37:20.263Z"
   },
   {
    "duration": 328,
    "start_time": "2023-11-22T22:37:22.829Z"
   },
   {
    "duration": 327,
    "start_time": "2023-11-22T22:37:26.174Z"
   },
   {
    "duration": 321,
    "start_time": "2023-11-22T22:37:29.152Z"
   },
   {
    "duration": 364,
    "start_time": "2023-11-22T22:39:00.006Z"
   },
   {
    "duration": 356,
    "start_time": "2023-11-22T22:39:13.321Z"
   },
   {
    "duration": 663,
    "start_time": "2023-11-22T22:39:41.617Z"
   },
   {
    "duration": 343,
    "start_time": "2023-11-22T22:39:52.162Z"
   },
   {
    "duration": 365,
    "start_time": "2023-11-22T22:39:55.871Z"
   },
   {
    "duration": 357,
    "start_time": "2023-11-22T22:40:28.885Z"
   },
   {
    "duration": 376,
    "start_time": "2023-11-22T22:40:32.214Z"
   },
   {
    "duration": 368,
    "start_time": "2023-11-22T22:42:09.525Z"
   },
   {
    "duration": 374,
    "start_time": "2023-11-22T22:42:15.605Z"
   },
   {
    "duration": 352,
    "start_time": "2023-11-22T22:42:20.355Z"
   },
   {
    "duration": 360,
    "start_time": "2023-11-22T22:42:25.860Z"
   },
   {
    "duration": 376,
    "start_time": "2023-11-22T22:42:30.472Z"
   },
   {
    "duration": 369,
    "start_time": "2023-11-22T22:42:46.127Z"
   },
   {
    "duration": 387,
    "start_time": "2023-11-22T22:43:22.998Z"
   },
   {
    "duration": 406,
    "start_time": "2023-11-22T22:43:35.690Z"
   },
   {
    "duration": 664,
    "start_time": "2023-11-22T22:43:56.631Z"
   },
   {
    "duration": 389,
    "start_time": "2023-11-22T22:44:10.941Z"
   },
   {
    "duration": 413,
    "start_time": "2023-11-22T22:44:25.494Z"
   },
   {
    "duration": 304,
    "start_time": "2023-11-22T22:45:38.113Z"
   },
   {
    "duration": 301,
    "start_time": "2023-11-22T22:45:51.739Z"
   },
   {
    "duration": 8211,
    "start_time": "2023-11-22T22:45:59.782Z"
   },
   {
    "duration": 391,
    "start_time": "2023-11-22T22:46:42.638Z"
   },
   {
    "duration": 381,
    "start_time": "2023-11-22T22:46:56.598Z"
   },
   {
    "duration": 20,
    "start_time": "2023-11-22T22:47:13.183Z"
   },
   {
    "duration": 384,
    "start_time": "2023-11-22T22:47:25.270Z"
   },
   {
    "duration": 378,
    "start_time": "2023-11-22T22:47:41.127Z"
   },
   {
    "duration": 3,
    "start_time": "2023-11-22T22:48:28.836Z"
   },
   {
    "duration": 131,
    "start_time": "2023-11-22T22:48:28.841Z"
   },
   {
    "duration": 2,
    "start_time": "2023-11-22T22:48:28.973Z"
   },
   {
    "duration": 5,
    "start_time": "2023-11-22T22:48:28.977Z"
   },
   {
    "duration": 4,
    "start_time": "2023-11-22T22:48:28.984Z"
   },
   {
    "duration": 10,
    "start_time": "2023-11-22T22:48:28.989Z"
   },
   {
    "duration": 32,
    "start_time": "2023-11-22T22:48:29.000Z"
   },
   {
    "duration": 11,
    "start_time": "2023-11-22T22:48:29.033Z"
   },
   {
    "duration": 7,
    "start_time": "2023-11-22T22:48:29.045Z"
   },
   {
    "duration": 8,
    "start_time": "2023-11-22T22:48:29.053Z"
   },
   {
    "duration": 6,
    "start_time": "2023-11-22T22:48:29.062Z"
   },
   {
    "duration": 47,
    "start_time": "2023-11-22T22:48:29.069Z"
   },
   {
    "duration": 192,
    "start_time": "2023-11-22T22:48:29.119Z"
   },
   {
    "duration": 16,
    "start_time": "2023-11-22T22:48:29.318Z"
   },
   {
    "duration": 11,
    "start_time": "2023-11-22T22:48:29.336Z"
   },
   {
    "duration": 6,
    "start_time": "2023-11-22T22:48:29.349Z"
   },
   {
    "duration": 7,
    "start_time": "2023-11-22T22:48:29.356Z"
   },
   {
    "duration": 9,
    "start_time": "2023-11-22T22:48:29.364Z"
   },
   {
    "duration": 59,
    "start_time": "2023-11-22T22:48:29.374Z"
   },
   {
    "duration": 9,
    "start_time": "2023-11-22T22:48:29.435Z"
   },
   {
    "duration": 16,
    "start_time": "2023-11-22T22:48:29.446Z"
   },
   {
    "duration": 14,
    "start_time": "2023-11-22T22:48:29.463Z"
   },
   {
    "duration": 4,
    "start_time": "2023-11-22T22:48:29.478Z"
   },
   {
    "duration": 363,
    "start_time": "2023-11-22T22:48:29.483Z"
   },
   {
    "duration": 10,
    "start_time": "2023-11-22T22:48:29.847Z"
   },
   {
    "duration": 239,
    "start_time": "2023-11-22T22:48:29.858Z"
   },
   {
    "duration": 9,
    "start_time": "2023-11-22T22:48:30.099Z"
   },
   {
    "duration": 38,
    "start_time": "2023-11-22T22:48:30.110Z"
   },
   {
    "duration": 1477,
    "start_time": "2023-11-22T22:48:30.149Z"
   },
   {
    "duration": 10,
    "start_time": "2023-11-22T22:48:31.629Z"
   },
   {
    "duration": 1349,
    "start_time": "2023-11-22T22:48:31.640Z"
   },
   {
    "duration": 637,
    "start_time": "2023-11-22T22:48:32.991Z"
   },
   {
    "duration": 21,
    "start_time": "2023-11-22T22:48:33.630Z"
   },
   {
    "duration": 23,
    "start_time": "2023-11-22T22:48:33.652Z"
   },
   {
    "duration": 676,
    "start_time": "2023-11-22T22:48:33.676Z"
   },
   {
    "duration": 366,
    "start_time": "2023-11-22T22:51:03.009Z"
   },
   {
    "duration": 369,
    "start_time": "2023-11-22T22:51:18.364Z"
   },
   {
    "duration": 450,
    "start_time": "2023-11-22T22:53:35.789Z"
   },
   {
    "duration": 417,
    "start_time": "2023-11-22T22:53:41.156Z"
   },
   {
    "duration": 3,
    "start_time": "2023-11-22T22:55:20.672Z"
   },
   {
    "duration": 858,
    "start_time": "2023-11-22T22:55:20.677Z"
   },
   {
    "duration": 3,
    "start_time": "2023-11-22T22:55:21.536Z"
   },
   {
    "duration": 14,
    "start_time": "2023-11-22T22:55:21.540Z"
   },
   {
    "duration": 11,
    "start_time": "2023-11-22T22:55:21.556Z"
   },
   {
    "duration": 10,
    "start_time": "2023-11-22T22:55:21.568Z"
   },
   {
    "duration": 16,
    "start_time": "2023-11-22T22:55:21.579Z"
   },
   {
    "duration": 19,
    "start_time": "2023-11-22T22:55:21.597Z"
   },
   {
    "duration": 9,
    "start_time": "2023-11-22T22:55:21.618Z"
   },
   {
    "duration": 9,
    "start_time": "2023-11-22T22:55:21.628Z"
   },
   {
    "duration": 6,
    "start_time": "2023-11-22T22:55:21.639Z"
   },
   {
    "duration": 14,
    "start_time": "2023-11-22T22:55:21.647Z"
   },
   {
    "duration": 213,
    "start_time": "2023-11-22T22:55:21.663Z"
   },
   {
    "duration": 9,
    "start_time": "2023-11-22T22:55:21.879Z"
   },
   {
    "duration": 26,
    "start_time": "2023-11-22T22:55:21.889Z"
   },
   {
    "duration": 6,
    "start_time": "2023-11-22T22:55:21.917Z"
   },
   {
    "duration": 8,
    "start_time": "2023-11-22T22:55:21.924Z"
   },
   {
    "duration": 9,
    "start_time": "2023-11-22T22:55:21.934Z"
   },
   {
    "duration": 15,
    "start_time": "2023-11-22T22:55:21.945Z"
   },
   {
    "duration": 10,
    "start_time": "2023-11-22T22:55:21.961Z"
   },
   {
    "duration": 48,
    "start_time": "2023-11-22T22:55:21.972Z"
   },
   {
    "duration": 13,
    "start_time": "2023-11-22T22:55:22.022Z"
   },
   {
    "duration": 3,
    "start_time": "2023-11-22T22:55:22.037Z"
   },
   {
    "duration": 316,
    "start_time": "2023-11-22T22:55:22.041Z"
   },
   {
    "duration": 10,
    "start_time": "2023-11-22T22:55:22.359Z"
   },
   {
    "duration": 227,
    "start_time": "2023-11-22T22:55:22.370Z"
   },
   {
    "duration": 17,
    "start_time": "2023-11-22T22:55:22.598Z"
   },
   {
    "duration": 22,
    "start_time": "2023-11-22T22:55:22.617Z"
   },
   {
    "duration": 1648,
    "start_time": "2023-11-22T22:55:22.640Z"
   },
   {
    "duration": 11,
    "start_time": "2023-11-22T22:55:24.289Z"
   },
   {
    "duration": 874,
    "start_time": "2023-11-22T22:55:24.315Z"
   },
   {
    "duration": 575,
    "start_time": "2023-11-22T22:55:25.191Z"
   },
   {
    "duration": 24,
    "start_time": "2023-11-22T22:55:25.768Z"
   },
   {
    "duration": 21,
    "start_time": "2023-11-22T22:55:25.794Z"
   },
   {
    "duration": 617,
    "start_time": "2023-11-22T22:55:25.817Z"
   },
   {
    "duration": 397,
    "start_time": "2023-11-22T22:55:26.435Z"
   },
   {
    "duration": 400,
    "start_time": "2023-11-22T22:55:31.168Z"
   },
   {
    "duration": 417,
    "start_time": "2023-11-22T23:17:32.347Z"
   },
   {
    "duration": 116,
    "start_time": "2023-11-22T23:18:39.958Z"
   },
   {
    "duration": 364,
    "start_time": "2023-11-22T23:18:43.256Z"
   },
   {
    "duration": 117,
    "start_time": "2023-11-22T23:18:47.924Z"
   },
   {
    "duration": 760,
    "start_time": "2023-11-22T23:20:10.180Z"
   },
   {
    "duration": 393,
    "start_time": "2023-11-22T23:20:17.806Z"
   },
   {
    "duration": 393,
    "start_time": "2023-11-22T23:20:22.707Z"
   },
   {
    "duration": 92,
    "start_time": "2023-11-22T23:20:34.181Z"
   },
   {
    "duration": 87,
    "start_time": "2023-11-22T23:23:55.121Z"
   },
   {
    "duration": 80,
    "start_time": "2023-11-22T23:24:24.936Z"
   },
   {
    "duration": 170,
    "start_time": "2023-11-22T23:24:45.302Z"
   },
   {
    "duration": 110,
    "start_time": "2023-11-22T23:25:07.072Z"
   },
   {
    "duration": 108,
    "start_time": "2023-11-22T23:25:11.505Z"
   },
   {
    "duration": 198,
    "start_time": "2023-11-22T23:25:14.529Z"
   },
   {
    "duration": 209,
    "start_time": "2023-11-22T23:25:18.871Z"
   },
   {
    "duration": 210,
    "start_time": "2023-11-22T23:25:21.241Z"
   },
   {
    "duration": 241,
    "start_time": "2023-11-22T23:25:25.882Z"
   },
   {
    "duration": 279,
    "start_time": "2023-11-22T23:26:00.833Z"
   },
   {
    "duration": 249,
    "start_time": "2023-11-22T23:26:05.309Z"
   },
   {
    "duration": 251,
    "start_time": "2023-11-22T23:26:14.944Z"
   },
   {
    "duration": 244,
    "start_time": "2023-11-22T23:26:18.591Z"
   },
   {
    "duration": 245,
    "start_time": "2023-11-22T23:26:55.385Z"
   },
   {
    "duration": 274,
    "start_time": "2023-11-22T23:27:26.302Z"
   },
   {
    "duration": 247,
    "start_time": "2023-11-22T23:28:30.942Z"
   },
   {
    "duration": 277,
    "start_time": "2023-11-22T23:28:38.379Z"
   },
   {
    "duration": 619,
    "start_time": "2023-11-22T23:28:41.860Z"
   },
   {
    "duration": 276,
    "start_time": "2023-11-22T23:30:58.655Z"
   },
   {
    "duration": 280,
    "start_time": "2023-11-22T23:31:07.854Z"
   },
   {
    "duration": 277,
    "start_time": "2023-11-22T23:31:15.404Z"
   },
   {
    "duration": 282,
    "start_time": "2023-11-22T23:31:19.475Z"
   },
   {
    "duration": 282,
    "start_time": "2023-11-22T23:31:35.042Z"
   },
   {
    "duration": 281,
    "start_time": "2023-11-22T23:32:12.696Z"
   },
   {
    "duration": 3,
    "start_time": "2023-11-22T23:35:43.659Z"
   },
   {
    "duration": 142,
    "start_time": "2023-11-22T23:35:43.664Z"
   },
   {
    "duration": 2,
    "start_time": "2023-11-22T23:35:43.808Z"
   },
   {
    "duration": 13,
    "start_time": "2023-11-22T23:35:43.812Z"
   },
   {
    "duration": 5,
    "start_time": "2023-11-22T23:35:43.828Z"
   },
   {
    "duration": 10,
    "start_time": "2023-11-22T23:35:43.834Z"
   },
   {
    "duration": 13,
    "start_time": "2023-11-22T23:35:43.845Z"
   },
   {
    "duration": 16,
    "start_time": "2023-11-22T23:35:43.859Z"
   },
   {
    "duration": 8,
    "start_time": "2023-11-22T23:35:43.877Z"
   },
   {
    "duration": 10,
    "start_time": "2023-11-22T23:35:43.886Z"
   },
   {
    "duration": 14,
    "start_time": "2023-11-22T23:35:43.915Z"
   },
   {
    "duration": 16,
    "start_time": "2023-11-22T23:35:43.930Z"
   },
   {
    "duration": 185,
    "start_time": "2023-11-22T23:35:43.947Z"
   },
   {
    "duration": 9,
    "start_time": "2023-11-22T23:35:44.134Z"
   },
   {
    "duration": 12,
    "start_time": "2023-11-22T23:35:44.144Z"
   },
   {
    "duration": 6,
    "start_time": "2023-11-22T23:35:44.157Z"
   },
   {
    "duration": 7,
    "start_time": "2023-11-22T23:35:44.164Z"
   },
   {
    "duration": 8,
    "start_time": "2023-11-22T23:35:44.172Z"
   },
   {
    "duration": 47,
    "start_time": "2023-11-22T23:35:44.182Z"
   },
   {
    "duration": 9,
    "start_time": "2023-11-22T23:35:44.231Z"
   },
   {
    "duration": 16,
    "start_time": "2023-11-22T23:35:44.241Z"
   },
   {
    "duration": 13,
    "start_time": "2023-11-22T23:35:44.258Z"
   },
   {
    "duration": 2,
    "start_time": "2023-11-22T23:35:44.273Z"
   },
   {
    "duration": 348,
    "start_time": "2023-11-22T23:35:44.277Z"
   },
   {
    "duration": 10,
    "start_time": "2023-11-22T23:35:44.631Z"
   },
   {
    "duration": 231,
    "start_time": "2023-11-22T23:35:44.642Z"
   },
   {
    "duration": 7,
    "start_time": "2023-11-22T23:35:44.875Z"
   },
   {
    "duration": 42,
    "start_time": "2023-11-22T23:35:44.884Z"
   },
   {
    "duration": 1417,
    "start_time": "2023-11-22T23:35:44.928Z"
   },
   {
    "duration": 10,
    "start_time": "2023-11-22T23:35:46.347Z"
   },
   {
    "duration": 1276,
    "start_time": "2023-11-22T23:35:46.359Z"
   },
   {
    "duration": 637,
    "start_time": "2023-11-22T23:35:47.636Z"
   },
   {
    "duration": 20,
    "start_time": "2023-11-22T23:35:48.275Z"
   },
   {
    "duration": 28,
    "start_time": "2023-11-22T23:35:48.297Z"
   },
   {
    "duration": 629,
    "start_time": "2023-11-22T23:35:48.327Z"
   },
   {
    "duration": 392,
    "start_time": "2023-11-22T23:35:48.958Z"
   },
   {
    "duration": 317,
    "start_time": "2023-11-22T23:35:49.352Z"
   },
   {
    "duration": 9,
    "start_time": "2023-11-22T23:35:49.670Z"
   },
   {
    "duration": 372,
    "start_time": "2023-11-22T23:35:49.681Z"
   },
   {
    "duration": 0,
    "start_time": "2023-11-22T23:35:50.054Z"
   },
   {
    "duration": 8,
    "start_time": "2023-11-22T23:38:20.410Z"
   },
   {
    "duration": 367,
    "start_time": "2023-11-22T23:39:48.588Z"
   },
   {
    "duration": 406,
    "start_time": "2023-11-22T23:40:33.519Z"
   },
   {
    "duration": 400,
    "start_time": "2023-11-22T23:40:57.904Z"
   },
   {
    "duration": 426,
    "start_time": "2023-11-22T23:41:08.107Z"
   },
   {
    "duration": 9,
    "start_time": "2023-11-22T23:41:14.215Z"
   },
   {
    "duration": 8,
    "start_time": "2023-11-22T23:41:17.181Z"
   },
   {
    "duration": 8,
    "start_time": "2023-11-22T23:41:18.223Z"
   },
   {
    "duration": 8,
    "start_time": "2023-11-22T23:41:18.926Z"
   },
   {
    "duration": 8,
    "start_time": "2023-11-22T23:41:19.740Z"
   },
   {
    "duration": 7,
    "start_time": "2023-11-22T23:41:20.560Z"
   },
   {
    "duration": 7,
    "start_time": "2023-11-22T23:41:21.361Z"
   },
   {
    "duration": 8,
    "start_time": "2023-11-22T23:41:22.124Z"
   },
   {
    "duration": 9,
    "start_time": "2023-11-22T23:41:22.944Z"
   },
   {
    "duration": 7,
    "start_time": "2023-11-22T23:41:23.703Z"
   },
   {
    "duration": 9,
    "start_time": "2023-11-22T23:41:26.262Z"
   },
   {
    "duration": 8,
    "start_time": "2023-11-22T23:42:24.364Z"
   },
   {
    "duration": 8,
    "start_time": "2023-11-22T23:42:28.660Z"
   },
   {
    "duration": 92,
    "start_time": "2023-11-22T23:43:29.326Z"
   },
   {
    "duration": 11,
    "start_time": "2023-11-22T23:43:52.042Z"
   },
   {
    "duration": 10,
    "start_time": "2023-11-22T23:44:16.421Z"
   },
   {
    "duration": 341,
    "start_time": "2023-11-22T23:45:08.638Z"
   },
   {
    "duration": 422,
    "start_time": "2023-11-22T23:45:13.164Z"
   },
   {
    "duration": 8,
    "start_time": "2023-11-22T23:45:25.835Z"
   },
   {
    "duration": 8,
    "start_time": "2023-11-22T23:45:26.925Z"
   },
   {
    "duration": 8,
    "start_time": "2023-11-22T23:45:27.692Z"
   },
   {
    "duration": 8,
    "start_time": "2023-11-22T23:45:28.425Z"
   },
   {
    "duration": 10,
    "start_time": "2023-11-22T23:46:00.315Z"
   },
   {
    "duration": 11,
    "start_time": "2023-11-22T23:46:07.114Z"
   },
   {
    "duration": 12,
    "start_time": "2023-11-22T23:46:08.600Z"
   },
   {
    "duration": 1079,
    "start_time": "2023-11-23T00:38:19.143Z"
   },
   {
    "duration": 125,
    "start_time": "2023-11-23T00:38:20.224Z"
   },
   {
    "duration": 3,
    "start_time": "2023-11-23T00:38:20.350Z"
   },
   {
    "duration": 9,
    "start_time": "2023-11-23T00:38:20.354Z"
   },
   {
    "duration": 8,
    "start_time": "2023-11-23T00:38:20.364Z"
   },
   {
    "duration": 11,
    "start_time": "2023-11-23T00:38:20.373Z"
   },
   {
    "duration": 29,
    "start_time": "2023-11-23T00:38:20.386Z"
   },
   {
    "duration": 12,
    "start_time": "2023-11-23T00:38:20.417Z"
   },
   {
    "duration": 7,
    "start_time": "2023-11-23T00:38:20.430Z"
   },
   {
    "duration": 10,
    "start_time": "2023-11-23T00:38:20.439Z"
   },
   {
    "duration": 6,
    "start_time": "2023-11-23T00:38:20.450Z"
   },
   {
    "duration": 13,
    "start_time": "2023-11-23T00:38:20.458Z"
   },
   {
    "duration": 217,
    "start_time": "2023-11-23T00:38:20.472Z"
   },
   {
    "duration": 25,
    "start_time": "2023-11-23T00:38:20.690Z"
   },
   {
    "duration": 13,
    "start_time": "2023-11-23T00:38:20.716Z"
   },
   {
    "duration": 16,
    "start_time": "2023-11-23T00:38:20.730Z"
   },
   {
    "duration": 16,
    "start_time": "2023-11-23T00:38:20.748Z"
   },
   {
    "duration": 18,
    "start_time": "2023-11-23T00:38:20.765Z"
   },
   {
    "duration": 19,
    "start_time": "2023-11-23T00:38:20.784Z"
   },
   {
    "duration": 19,
    "start_time": "2023-11-23T00:38:20.805Z"
   },
   {
    "duration": 16,
    "start_time": "2023-11-23T00:38:20.826Z"
   },
   {
    "duration": 16,
    "start_time": "2023-11-23T00:38:20.844Z"
   },
   {
    "duration": 4,
    "start_time": "2023-11-23T00:38:20.862Z"
   },
   {
    "duration": 330,
    "start_time": "2023-11-23T00:38:20.868Z"
   },
   {
    "duration": 15,
    "start_time": "2023-11-23T00:38:21.200Z"
   },
   {
    "duration": 238,
    "start_time": "2023-11-23T00:38:21.217Z"
   },
   {
    "duration": 8,
    "start_time": "2023-11-23T00:38:21.457Z"
   },
   {
    "duration": 49,
    "start_time": "2023-11-23T00:38:21.468Z"
   },
   {
    "duration": 1412,
    "start_time": "2023-11-23T00:38:21.519Z"
   },
   {
    "duration": 11,
    "start_time": "2023-11-23T00:38:22.932Z"
   },
   {
    "duration": 935,
    "start_time": "2023-11-23T00:38:22.945Z"
   },
   {
    "duration": 588,
    "start_time": "2023-11-23T00:38:23.881Z"
   },
   {
    "duration": 22,
    "start_time": "2023-11-23T00:38:24.470Z"
   },
   {
    "duration": 23,
    "start_time": "2023-11-23T00:38:24.493Z"
   },
   {
    "duration": 621,
    "start_time": "2023-11-23T00:38:24.518Z"
   },
   {
    "duration": 444,
    "start_time": "2023-11-23T00:38:25.141Z"
   },
   {
    "duration": 293,
    "start_time": "2023-11-23T00:38:25.586Z"
   },
   {
    "duration": 7,
    "start_time": "2023-11-23T00:38:25.881Z"
   },
   {
    "duration": 14,
    "start_time": "2023-11-23T00:38:25.890Z"
   },
   {
    "duration": 9,
    "start_time": "2023-11-23T00:38:25.915Z"
   },
   {
    "duration": 1088,
    "start_time": "2023-11-23T08:44:34.305Z"
   },
   {
    "duration": 264,
    "start_time": "2023-11-23T08:44:35.396Z"
   },
   {
    "duration": 2,
    "start_time": "2023-11-23T08:44:35.662Z"
   },
   {
    "duration": 15,
    "start_time": "2023-11-23T08:44:35.665Z"
   },
   {
    "duration": 8,
    "start_time": "2023-11-23T08:44:35.682Z"
   },
   {
    "duration": 23,
    "start_time": "2023-11-23T08:44:35.691Z"
   },
   {
    "duration": 25,
    "start_time": "2023-11-23T08:44:35.715Z"
   },
   {
    "duration": 24,
    "start_time": "2023-11-23T08:44:35.742Z"
   },
   {
    "duration": 40,
    "start_time": "2023-11-23T08:44:35.768Z"
   },
   {
    "duration": 9,
    "start_time": "2023-11-23T08:44:35.809Z"
   },
   {
    "duration": 8,
    "start_time": "2023-11-23T08:44:35.819Z"
   },
   {
    "duration": 14,
    "start_time": "2023-11-23T08:44:35.828Z"
   },
   {
    "duration": 178,
    "start_time": "2023-11-23T08:44:35.843Z"
   },
   {
    "duration": 9,
    "start_time": "2023-11-23T08:44:36.025Z"
   },
   {
    "duration": 29,
    "start_time": "2023-11-23T08:44:36.035Z"
   },
   {
    "duration": 20,
    "start_time": "2023-11-23T08:44:36.065Z"
   },
   {
    "duration": 21,
    "start_time": "2023-11-23T08:44:36.087Z"
   },
   {
    "duration": 24,
    "start_time": "2023-11-23T08:44:36.110Z"
   },
   {
    "duration": 36,
    "start_time": "2023-11-23T08:44:36.136Z"
   },
   {
    "duration": 12,
    "start_time": "2023-11-23T08:44:36.174Z"
   },
   {
    "duration": 21,
    "start_time": "2023-11-23T08:44:36.187Z"
   },
   {
    "duration": 16,
    "start_time": "2023-11-23T08:44:36.210Z"
   },
   {
    "duration": 3,
    "start_time": "2023-11-23T08:44:36.227Z"
   },
   {
    "duration": 316,
    "start_time": "2023-11-23T08:44:36.232Z"
   },
   {
    "duration": 15,
    "start_time": "2023-11-23T08:44:36.555Z"
   },
   {
    "duration": 238,
    "start_time": "2023-11-23T08:44:36.572Z"
   },
   {
    "duration": 8,
    "start_time": "2023-11-23T08:44:36.812Z"
   },
   {
    "duration": 35,
    "start_time": "2023-11-23T08:44:36.822Z"
   },
   {
    "duration": 1417,
    "start_time": "2023-11-23T08:44:36.859Z"
   },
   {
    "duration": 10,
    "start_time": "2023-11-23T08:44:38.278Z"
   },
   {
    "duration": 972,
    "start_time": "2023-11-23T08:44:38.289Z"
   },
   {
    "duration": 603,
    "start_time": "2023-11-23T08:44:39.263Z"
   },
   {
    "duration": 22,
    "start_time": "2023-11-23T08:44:39.868Z"
   },
   {
    "duration": 64,
    "start_time": "2023-11-23T08:44:39.892Z"
   },
   {
    "duration": 607,
    "start_time": "2023-11-23T08:44:39.957Z"
   },
   {
    "duration": 465,
    "start_time": "2023-11-23T08:44:40.566Z"
   },
   {
    "duration": 293,
    "start_time": "2023-11-23T08:44:41.033Z"
   },
   {
    "duration": 9,
    "start_time": "2023-11-23T08:44:41.328Z"
   },
   {
    "duration": 27,
    "start_time": "2023-11-23T08:44:41.355Z"
   },
   {
    "duration": 51,
    "start_time": "2023-11-23T08:44:41.384Z"
   },
   {
    "duration": 1118,
    "start_time": "2023-11-23T08:45:47.998Z"
   },
   {
    "duration": 124,
    "start_time": "2023-11-23T08:45:49.119Z"
   },
   {
    "duration": 3,
    "start_time": "2023-11-23T08:45:49.245Z"
   },
   {
    "duration": 15,
    "start_time": "2023-11-23T08:45:49.250Z"
   },
   {
    "duration": 19,
    "start_time": "2023-11-23T08:45:49.266Z"
   },
   {
    "duration": 24,
    "start_time": "2023-11-23T08:45:49.286Z"
   },
   {
    "duration": 26,
    "start_time": "2023-11-23T08:45:49.312Z"
   },
   {
    "duration": 14,
    "start_time": "2023-11-23T08:45:49.340Z"
   },
   {
    "duration": 18,
    "start_time": "2023-11-23T08:45:49.355Z"
   },
   {
    "duration": 30,
    "start_time": "2023-11-23T08:45:49.376Z"
   },
   {
    "duration": 29,
    "start_time": "2023-11-23T08:45:49.408Z"
   },
   {
    "duration": 19,
    "start_time": "2023-11-23T08:45:49.439Z"
   },
   {
    "duration": 195,
    "start_time": "2023-11-23T08:45:49.460Z"
   },
   {
    "duration": 8,
    "start_time": "2023-11-23T08:45:49.657Z"
   },
   {
    "duration": 37,
    "start_time": "2023-11-23T08:45:49.666Z"
   },
   {
    "duration": 37,
    "start_time": "2023-11-23T08:45:49.704Z"
   },
   {
    "duration": 53,
    "start_time": "2023-11-23T08:45:49.743Z"
   },
   {
    "duration": 11,
    "start_time": "2023-11-23T08:45:49.797Z"
   },
   {
    "duration": 20,
    "start_time": "2023-11-23T08:45:49.810Z"
   },
   {
    "duration": 9,
    "start_time": "2023-11-23T08:45:49.832Z"
   },
   {
    "duration": 20,
    "start_time": "2023-11-23T08:45:49.842Z"
   },
   {
    "duration": 13,
    "start_time": "2023-11-23T08:45:49.864Z"
   },
   {
    "duration": 3,
    "start_time": "2023-11-23T08:45:49.879Z"
   },
   {
    "duration": 333,
    "start_time": "2023-11-23T08:45:49.883Z"
   },
   {
    "duration": 15,
    "start_time": "2023-11-23T08:45:50.218Z"
   },
   {
    "duration": 243,
    "start_time": "2023-11-23T08:45:50.235Z"
   },
   {
    "duration": 8,
    "start_time": "2023-11-23T08:45:50.480Z"
   },
   {
    "duration": 21,
    "start_time": "2023-11-23T08:45:50.491Z"
   },
   {
    "duration": 1426,
    "start_time": "2023-11-23T08:45:50.514Z"
   },
   {
    "duration": 10,
    "start_time": "2023-11-23T08:45:51.942Z"
   },
   {
    "duration": 937,
    "start_time": "2023-11-23T08:45:51.953Z"
   },
   {
    "duration": 592,
    "start_time": "2023-11-23T08:45:52.892Z"
   },
   {
    "duration": 22,
    "start_time": "2023-11-23T08:45:53.485Z"
   },
   {
    "duration": 6,
    "start_time": "2023-11-23T08:45:53.508Z"
   },
   {
    "duration": 613,
    "start_time": "2023-11-23T08:45:53.516Z"
   },
   {
    "duration": 481,
    "start_time": "2023-11-23T08:45:54.131Z"
   },
   {
    "duration": 281,
    "start_time": "2023-11-23T08:45:54.614Z"
   },
   {
    "duration": 8,
    "start_time": "2023-11-23T08:45:54.897Z"
   },
   {
    "duration": 16,
    "start_time": "2023-11-23T08:45:54.906Z"
   },
   {
    "duration": 17,
    "start_time": "2023-11-23T08:45:54.924Z"
   },
   {
    "duration": 48,
    "start_time": "2023-11-23T12:19:41.289Z"
   },
   {
    "duration": 1250,
    "start_time": "2023-11-23T12:19:46.291Z"
   },
   {
    "duration": 263,
    "start_time": "2023-11-23T12:19:47.543Z"
   },
   {
    "duration": 3,
    "start_time": "2023-11-23T12:19:47.807Z"
   },
   {
    "duration": 6,
    "start_time": "2023-11-23T12:19:47.811Z"
   },
   {
    "duration": 6,
    "start_time": "2023-11-23T12:19:47.818Z"
   },
   {
    "duration": 12,
    "start_time": "2023-11-23T12:19:47.825Z"
   },
   {
    "duration": 24,
    "start_time": "2023-11-23T12:19:47.838Z"
   },
   {
    "duration": 21,
    "start_time": "2023-11-23T12:19:47.863Z"
   },
   {
    "duration": 10,
    "start_time": "2023-11-23T12:19:47.885Z"
   },
   {
    "duration": 13,
    "start_time": "2023-11-23T12:19:47.897Z"
   },
   {
    "duration": 8,
    "start_time": "2023-11-23T12:19:47.911Z"
   },
   {
    "duration": 38,
    "start_time": "2023-11-23T12:19:47.920Z"
   },
   {
    "duration": 215,
    "start_time": "2023-11-23T12:19:47.960Z"
   },
   {
    "duration": 9,
    "start_time": "2023-11-23T12:19:48.176Z"
   },
   {
    "duration": 20,
    "start_time": "2023-11-23T12:19:48.187Z"
   },
   {
    "duration": 15,
    "start_time": "2023-11-23T12:19:48.208Z"
   },
   {
    "duration": 7,
    "start_time": "2023-11-23T12:19:48.224Z"
   },
   {
    "duration": 10,
    "start_time": "2023-11-23T12:19:48.233Z"
   },
   {
    "duration": 16,
    "start_time": "2023-11-23T12:19:48.244Z"
   },
   {
    "duration": 15,
    "start_time": "2023-11-23T12:19:48.261Z"
   },
   {
    "duration": 16,
    "start_time": "2023-11-23T12:19:48.278Z"
   },
   {
    "duration": 26,
    "start_time": "2023-11-23T12:19:48.295Z"
   },
   {
    "duration": 3,
    "start_time": "2023-11-23T12:19:48.323Z"
   },
   {
    "duration": 444,
    "start_time": "2023-11-23T12:19:48.327Z"
   },
   {
    "duration": 10,
    "start_time": "2023-11-23T12:19:48.773Z"
   },
   {
    "duration": 246,
    "start_time": "2023-11-23T12:19:48.784Z"
   },
   {
    "duration": 8,
    "start_time": "2023-11-23T12:19:49.032Z"
   },
   {
    "duration": 33,
    "start_time": "2023-11-23T12:19:49.043Z"
   },
   {
    "duration": 1383,
    "start_time": "2023-11-23T12:19:49.077Z"
   },
   {
    "duration": 10,
    "start_time": "2023-11-23T12:19:50.462Z"
   },
   {
    "duration": 255,
    "start_time": "2023-11-23T12:20:01.825Z"
   },
   {
    "duration": 75,
    "start_time": "2023-11-23T12:20:28.003Z"
   },
   {
    "duration": 96,
    "start_time": "2023-11-23T12:24:03.480Z"
   },
   {
    "duration": 122,
    "start_time": "2023-11-23T12:24:06.871Z"
   },
   {
    "duration": 948,
    "start_time": "2023-11-23T12:24:11.327Z"
   },
   {
    "duration": 1092,
    "start_time": "2023-11-23T12:24:22.392Z"
   },
   {
    "duration": 1056,
    "start_time": "2023-11-23T12:24:35.774Z"
   },
   {
    "duration": 817,
    "start_time": "2023-11-23T12:24:57.840Z"
   },
   {
    "duration": 379,
    "start_time": "2023-11-23T12:32:02.767Z"
   },
   {
    "duration": 818,
    "start_time": "2023-11-23T12:32:58.540Z"
   },
   {
    "duration": 98,
    "start_time": "2023-11-23T12:35:01.038Z"
   },
   {
    "duration": 15,
    "start_time": "2023-11-23T12:35:04.234Z"
   },
   {
    "duration": 1276,
    "start_time": "2023-11-23T12:35:16.595Z"
   },
   {
    "duration": 1220,
    "start_time": "2023-11-23T12:35:30.739Z"
   },
   {
    "duration": 1323,
    "start_time": "2023-11-23T12:35:46.852Z"
   },
   {
    "duration": 1404,
    "start_time": "2023-11-23T12:36:01.199Z"
   },
   {
    "duration": 1602,
    "start_time": "2023-11-23T12:36:10.679Z"
   },
   {
    "duration": 1522,
    "start_time": "2023-11-23T12:36:17.720Z"
   },
   {
    "duration": 1733,
    "start_time": "2023-11-23T12:36:24.125Z"
   },
   {
    "duration": 1784,
    "start_time": "2023-11-23T12:36:48.798Z"
   },
   {
    "duration": 1710,
    "start_time": "2023-11-23T12:37:16.472Z"
   },
   {
    "duration": 288,
    "start_time": "2023-11-23T12:37:23.611Z"
   },
   {
    "duration": 1666,
    "start_time": "2023-11-23T12:37:25.829Z"
   },
   {
    "duration": 1884,
    "start_time": "2023-11-23T12:37:31.419Z"
   },
   {
    "duration": 1767,
    "start_time": "2023-11-23T12:38:03.841Z"
   },
   {
    "duration": 128,
    "start_time": "2023-11-23T12:39:02.855Z"
   },
   {
    "duration": 1796,
    "start_time": "2023-11-23T12:39:27.906Z"
   },
   {
    "duration": 1631,
    "start_time": "2023-11-23T12:40:07.783Z"
   },
   {
    "duration": 1782,
    "start_time": "2023-11-23T12:40:11.840Z"
   },
   {
    "duration": 1789,
    "start_time": "2023-11-23T12:40:33.427Z"
   },
   {
    "duration": 1776,
    "start_time": "2023-11-23T12:40:52.753Z"
   },
   {
    "duration": 1851,
    "start_time": "2023-11-23T12:41:49.461Z"
   },
   {
    "duration": 1856,
    "start_time": "2023-11-23T12:41:56.761Z"
   },
   {
    "duration": 1783,
    "start_time": "2023-11-23T12:42:02.085Z"
   },
   {
    "duration": 1632,
    "start_time": "2023-11-23T12:42:34.600Z"
   },
   {
    "duration": 234,
    "start_time": "2023-11-23T12:43:43.564Z"
   },
   {
    "duration": 2096,
    "start_time": "2023-11-23T12:43:47.670Z"
   },
   {
    "duration": 1963,
    "start_time": "2023-11-23T12:44:20.148Z"
   },
   {
    "duration": 1970,
    "start_time": "2023-11-23T12:45:00.834Z"
   },
   {
    "duration": 575,
    "start_time": "2023-11-23T12:45:12.724Z"
   },
   {
    "duration": 3,
    "start_time": "2023-11-23T12:45:25.807Z"
   },
   {
    "duration": 130,
    "start_time": "2023-11-23T12:45:25.812Z"
   },
   {
    "duration": 2,
    "start_time": "2023-11-23T12:45:25.944Z"
   },
   {
    "duration": 61,
    "start_time": "2023-11-23T12:45:25.948Z"
   },
   {
    "duration": 32,
    "start_time": "2023-11-23T12:45:26.010Z"
   },
   {
    "duration": 40,
    "start_time": "2023-11-23T12:45:26.043Z"
   },
   {
    "duration": 26,
    "start_time": "2023-11-23T12:45:26.085Z"
   },
   {
    "duration": 42,
    "start_time": "2023-11-23T12:45:26.112Z"
   },
   {
    "duration": 24,
    "start_time": "2023-11-23T12:45:26.156Z"
   },
   {
    "duration": 25,
    "start_time": "2023-11-23T12:45:26.181Z"
   },
   {
    "duration": 18,
    "start_time": "2023-11-23T12:45:26.207Z"
   },
   {
    "duration": 15,
    "start_time": "2023-11-23T12:45:26.226Z"
   },
   {
    "duration": 169,
    "start_time": "2023-11-23T12:45:26.243Z"
   },
   {
    "duration": 8,
    "start_time": "2023-11-23T12:45:26.414Z"
   },
   {
    "duration": 20,
    "start_time": "2023-11-23T12:45:26.424Z"
   },
   {
    "duration": 11,
    "start_time": "2023-11-23T12:45:26.445Z"
   },
   {
    "duration": 11,
    "start_time": "2023-11-23T12:45:26.457Z"
   },
   {
    "duration": 12,
    "start_time": "2023-11-23T12:45:26.470Z"
   },
   {
    "duration": 16,
    "start_time": "2023-11-23T12:45:26.483Z"
   },
   {
    "duration": 11,
    "start_time": "2023-11-23T12:45:26.501Z"
   },
   {
    "duration": 24,
    "start_time": "2023-11-23T12:45:26.513Z"
   },
   {
    "duration": 28,
    "start_time": "2023-11-23T12:45:26.539Z"
   },
   {
    "duration": 19,
    "start_time": "2023-11-23T12:45:26.569Z"
   },
   {
    "duration": 298,
    "start_time": "2023-11-23T12:45:26.590Z"
   },
   {
    "duration": 9,
    "start_time": "2023-11-23T12:45:26.889Z"
   },
   {
    "duration": 227,
    "start_time": "2023-11-23T12:45:26.900Z"
   },
   {
    "duration": 8,
    "start_time": "2023-11-23T12:45:27.128Z"
   },
   {
    "duration": 34,
    "start_time": "2023-11-23T12:45:27.137Z"
   },
   {
    "duration": 1448,
    "start_time": "2023-11-23T12:45:27.172Z"
   },
   {
    "duration": 9,
    "start_time": "2023-11-23T12:45:28.621Z"
   },
   {
    "duration": 1833,
    "start_time": "2023-11-23T12:45:28.631Z"
   },
   {
    "duration": 662,
    "start_time": "2023-11-23T12:45:30.465Z"
   },
   {
    "duration": 34,
    "start_time": "2023-11-23T12:45:31.129Z"
   },
   {
    "duration": 7,
    "start_time": "2023-11-23T12:45:41.107Z"
   },
   {
    "duration": 158,
    "start_time": "2023-11-23T12:46:09.393Z"
   },
   {
    "duration": 148,
    "start_time": "2023-11-23T12:46:37.586Z"
   },
   {
    "duration": 151,
    "start_time": "2023-11-23T12:46:56.145Z"
   },
   {
    "duration": 148,
    "start_time": "2023-11-23T12:47:20.780Z"
   },
   {
    "duration": 163,
    "start_time": "2023-11-23T12:47:29.380Z"
   },
   {
    "duration": 157,
    "start_time": "2023-11-23T12:47:44.032Z"
   },
   {
    "duration": 162,
    "start_time": "2023-11-23T12:47:57.682Z"
   },
   {
    "duration": 1090,
    "start_time": "2023-11-23T12:48:47.019Z"
   },
   {
    "duration": 128,
    "start_time": "2023-11-23T12:48:48.111Z"
   },
   {
    "duration": 3,
    "start_time": "2023-11-23T12:48:48.240Z"
   },
   {
    "duration": 30,
    "start_time": "2023-11-23T12:48:48.244Z"
   },
   {
    "duration": 38,
    "start_time": "2023-11-23T12:48:48.276Z"
   },
   {
    "duration": 48,
    "start_time": "2023-11-23T12:48:48.316Z"
   },
   {
    "duration": 17,
    "start_time": "2023-11-23T12:48:48.365Z"
   },
   {
    "duration": 23,
    "start_time": "2023-11-23T12:48:48.383Z"
   },
   {
    "duration": 26,
    "start_time": "2023-11-23T12:48:48.408Z"
   },
   {
    "duration": 9,
    "start_time": "2023-11-23T12:48:48.436Z"
   },
   {
    "duration": 6,
    "start_time": "2023-11-23T12:48:48.447Z"
   },
   {
    "duration": 23,
    "start_time": "2023-11-23T12:48:48.454Z"
   },
   {
    "duration": 209,
    "start_time": "2023-11-23T12:48:48.479Z"
   },
   {
    "duration": 9,
    "start_time": "2023-11-23T12:48:48.689Z"
   },
   {
    "duration": 13,
    "start_time": "2023-11-23T12:48:48.699Z"
   },
   {
    "duration": 6,
    "start_time": "2023-11-23T12:48:48.713Z"
   },
   {
    "duration": 10,
    "start_time": "2023-11-23T12:48:48.720Z"
   },
   {
    "duration": 30,
    "start_time": "2023-11-23T12:48:48.732Z"
   },
   {
    "duration": 17,
    "start_time": "2023-11-23T12:48:48.764Z"
   },
   {
    "duration": 14,
    "start_time": "2023-11-23T12:48:48.783Z"
   },
   {
    "duration": 20,
    "start_time": "2023-11-23T12:48:48.799Z"
   },
   {
    "duration": 15,
    "start_time": "2023-11-23T12:48:48.820Z"
   },
   {
    "duration": 20,
    "start_time": "2023-11-23T12:48:48.837Z"
   },
   {
    "duration": 305,
    "start_time": "2023-11-23T12:48:48.858Z"
   },
   {
    "duration": 11,
    "start_time": "2023-11-23T12:48:49.164Z"
   },
   {
    "duration": 225,
    "start_time": "2023-11-23T12:48:49.176Z"
   },
   {
    "duration": 9,
    "start_time": "2023-11-23T12:48:49.402Z"
   },
   {
    "duration": 28,
    "start_time": "2023-11-23T12:48:49.414Z"
   },
   {
    "duration": 1379,
    "start_time": "2023-11-23T12:48:49.457Z"
   },
   {
    "duration": 12,
    "start_time": "2023-11-23T12:48:50.838Z"
   },
   {
    "duration": 1931,
    "start_time": "2023-11-23T12:48:50.851Z"
   },
   {
    "duration": 591,
    "start_time": "2023-11-23T12:48:52.784Z"
   },
   {
    "duration": 21,
    "start_time": "2023-11-23T12:48:53.377Z"
   },
   {
    "duration": 267,
    "start_time": "2023-11-23T12:48:53.400Z"
   },
   {
    "duration": 656,
    "start_time": "2023-11-23T12:48:53.669Z"
   },
   {
    "duration": 408,
    "start_time": "2023-11-23T12:48:54.326Z"
   },
   {
    "duration": 284,
    "start_time": "2023-11-23T12:48:54.736Z"
   },
   {
    "duration": 8,
    "start_time": "2023-11-23T12:48:55.022Z"
   },
   {
    "duration": 25,
    "start_time": "2023-11-23T12:48:55.031Z"
   },
   {
    "duration": 19,
    "start_time": "2023-11-23T12:48:55.058Z"
   },
   {
    "duration": 1087,
    "start_time": "2023-11-23T12:49:06.432Z"
   },
   {
    "duration": 128,
    "start_time": "2023-11-23T12:49:07.521Z"
   },
   {
    "duration": 3,
    "start_time": "2023-11-23T12:49:07.650Z"
   },
   {
    "duration": 13,
    "start_time": "2023-11-23T12:49:07.655Z"
   },
   {
    "duration": 28,
    "start_time": "2023-11-23T12:49:07.671Z"
   },
   {
    "duration": 27,
    "start_time": "2023-11-23T12:49:07.701Z"
   },
   {
    "duration": 15,
    "start_time": "2023-11-23T12:49:07.730Z"
   },
   {
    "duration": 30,
    "start_time": "2023-11-23T12:49:07.746Z"
   },
   {
    "duration": 10,
    "start_time": "2023-11-23T12:49:07.778Z"
   },
   {
    "duration": 9,
    "start_time": "2023-11-23T12:49:07.789Z"
   },
   {
    "duration": 12,
    "start_time": "2023-11-23T12:49:07.800Z"
   },
   {
    "duration": 19,
    "start_time": "2023-11-23T12:49:07.814Z"
   },
   {
    "duration": 187,
    "start_time": "2023-11-23T12:49:07.835Z"
   },
   {
    "duration": 8,
    "start_time": "2023-11-23T12:49:08.025Z"
   },
   {
    "duration": 25,
    "start_time": "2023-11-23T12:49:08.034Z"
   },
   {
    "duration": 6,
    "start_time": "2023-11-23T12:49:08.061Z"
   },
   {
    "duration": 19,
    "start_time": "2023-11-23T12:49:08.068Z"
   },
   {
    "duration": 19,
    "start_time": "2023-11-23T12:49:08.089Z"
   },
   {
    "duration": 15,
    "start_time": "2023-11-23T12:49:08.109Z"
   },
   {
    "duration": 8,
    "start_time": "2023-11-23T12:49:08.126Z"
   },
   {
    "duration": 23,
    "start_time": "2023-11-23T12:49:08.136Z"
   },
   {
    "duration": 14,
    "start_time": "2023-11-23T12:49:08.161Z"
   },
   {
    "duration": 4,
    "start_time": "2023-11-23T12:49:08.176Z"
   },
   {
    "duration": 310,
    "start_time": "2023-11-23T12:49:08.181Z"
   },
   {
    "duration": 9,
    "start_time": "2023-11-23T12:49:08.492Z"
   },
   {
    "duration": 219,
    "start_time": "2023-11-23T12:49:08.503Z"
   },
   {
    "duration": 8,
    "start_time": "2023-11-23T12:49:08.724Z"
   },
   {
    "duration": 34,
    "start_time": "2023-11-23T12:49:08.733Z"
   },
   {
    "duration": 1379,
    "start_time": "2023-11-23T12:49:08.769Z"
   },
   {
    "duration": 10,
    "start_time": "2023-11-23T12:49:10.150Z"
   },
   {
    "duration": 1939,
    "start_time": "2023-11-23T12:49:10.161Z"
   },
   {
    "duration": 568,
    "start_time": "2023-11-23T12:49:12.101Z"
   },
   {
    "duration": 20,
    "start_time": "2023-11-23T12:49:12.671Z"
   },
   {
    "duration": 290,
    "start_time": "2023-11-23T12:49:12.693Z"
   },
   {
    "duration": 598,
    "start_time": "2023-11-23T12:49:12.985Z"
   },
   {
    "duration": 362,
    "start_time": "2023-11-23T12:49:13.584Z"
   },
   {
    "duration": 282,
    "start_time": "2023-11-23T12:49:13.947Z"
   },
   {
    "duration": 9,
    "start_time": "2023-11-23T12:49:14.230Z"
   },
   {
    "duration": 29,
    "start_time": "2023-11-23T12:49:14.240Z"
   },
   {
    "duration": 55,
    "start_time": "2023-11-23T12:49:14.270Z"
   },
   {
    "duration": 1065,
    "start_time": "2023-11-23T12:49:27.945Z"
   },
   {
    "duration": 133,
    "start_time": "2023-11-23T12:49:29.012Z"
   },
   {
    "duration": 3,
    "start_time": "2023-11-23T12:49:29.147Z"
   },
   {
    "duration": 30,
    "start_time": "2023-11-23T12:49:29.151Z"
   },
   {
    "duration": 37,
    "start_time": "2023-11-23T12:49:29.183Z"
   },
   {
    "duration": 13,
    "start_time": "2023-11-23T12:49:29.222Z"
   },
   {
    "duration": 18,
    "start_time": "2023-11-23T12:49:29.237Z"
   },
   {
    "duration": 17,
    "start_time": "2023-11-23T12:49:29.256Z"
   },
   {
    "duration": 7,
    "start_time": "2023-11-23T12:49:29.275Z"
   },
   {
    "duration": 19,
    "start_time": "2023-11-23T12:49:29.283Z"
   },
   {
    "duration": 35,
    "start_time": "2023-11-23T12:49:29.303Z"
   },
   {
    "duration": 25,
    "start_time": "2023-11-23T12:49:29.340Z"
   },
   {
    "duration": 202,
    "start_time": "2023-11-23T12:49:29.366Z"
   },
   {
    "duration": 10,
    "start_time": "2023-11-23T12:49:29.571Z"
   },
   {
    "duration": 16,
    "start_time": "2023-11-23T12:49:29.582Z"
   },
   {
    "duration": 9,
    "start_time": "2023-11-23T12:49:29.599Z"
   },
   {
    "duration": 17,
    "start_time": "2023-11-23T12:49:29.610Z"
   },
   {
    "duration": 16,
    "start_time": "2023-11-23T12:49:29.629Z"
   },
   {
    "duration": 31,
    "start_time": "2023-11-23T12:49:29.655Z"
   },
   {
    "duration": 26,
    "start_time": "2023-11-23T12:49:29.688Z"
   },
   {
    "duration": 16,
    "start_time": "2023-11-23T12:49:29.716Z"
   },
   {
    "duration": 26,
    "start_time": "2023-11-23T12:49:29.734Z"
   },
   {
    "duration": 65,
    "start_time": "2023-11-23T12:49:29.762Z"
   },
   {
    "duration": 313,
    "start_time": "2023-11-23T12:49:29.829Z"
   },
   {
    "duration": 14,
    "start_time": "2023-11-23T12:49:30.144Z"
   },
   {
    "duration": 232,
    "start_time": "2023-11-23T12:49:30.160Z"
   },
   {
    "duration": 8,
    "start_time": "2023-11-23T12:49:30.393Z"
   },
   {
    "duration": 49,
    "start_time": "2023-11-23T12:49:30.403Z"
   },
   {
    "duration": 1359,
    "start_time": "2023-11-23T12:49:30.453Z"
   },
   {
    "duration": 12,
    "start_time": "2023-11-23T12:49:31.814Z"
   },
   {
    "duration": 1966,
    "start_time": "2023-11-23T12:49:31.828Z"
   },
   {
    "duration": 565,
    "start_time": "2023-11-23T12:49:33.795Z"
   },
   {
    "duration": 26,
    "start_time": "2023-11-23T12:49:34.361Z"
   },
   {
    "duration": 342,
    "start_time": "2023-11-23T12:49:34.389Z"
   },
   {
    "duration": 602,
    "start_time": "2023-11-23T12:49:34.732Z"
   },
   {
    "duration": 375,
    "start_time": "2023-11-23T12:49:35.336Z"
   },
   {
    "duration": 273,
    "start_time": "2023-11-23T12:49:35.713Z"
   },
   {
    "duration": 9,
    "start_time": "2023-11-23T12:49:35.987Z"
   },
   {
    "duration": 23,
    "start_time": "2023-11-23T12:49:35.997Z"
   },
   {
    "duration": 53,
    "start_time": "2023-11-23T12:49:36.022Z"
   },
   {
    "duration": 1077,
    "start_time": "2023-11-23T12:52:29.752Z"
   },
   {
    "duration": 134,
    "start_time": "2023-11-23T12:52:30.831Z"
   },
   {
    "duration": 2,
    "start_time": "2023-11-23T12:52:30.967Z"
   },
   {
    "duration": 22,
    "start_time": "2023-11-23T12:52:30.971Z"
   },
   {
    "duration": 24,
    "start_time": "2023-11-23T12:52:30.995Z"
   },
   {
    "duration": 46,
    "start_time": "2023-11-23T12:52:31.021Z"
   },
   {
    "duration": 44,
    "start_time": "2023-11-23T12:52:31.068Z"
   },
   {
    "duration": 36,
    "start_time": "2023-11-23T12:52:31.113Z"
   },
   {
    "duration": 33,
    "start_time": "2023-11-23T12:52:31.151Z"
   },
   {
    "duration": 44,
    "start_time": "2023-11-23T12:52:31.186Z"
   },
   {
    "duration": 65,
    "start_time": "2023-11-23T12:52:31.232Z"
   },
   {
    "duration": 48,
    "start_time": "2023-11-23T12:52:31.299Z"
   },
   {
    "duration": 204,
    "start_time": "2023-11-23T12:52:31.348Z"
   },
   {
    "duration": 8,
    "start_time": "2023-11-23T12:52:31.555Z"
   },
   {
    "duration": 60,
    "start_time": "2023-11-23T12:52:31.564Z"
   },
   {
    "duration": 44,
    "start_time": "2023-11-23T12:52:31.625Z"
   },
   {
    "duration": 53,
    "start_time": "2023-11-23T12:52:31.670Z"
   },
   {
    "duration": 46,
    "start_time": "2023-11-23T12:52:31.726Z"
   },
   {
    "duration": 59,
    "start_time": "2023-11-23T12:52:31.773Z"
   },
   {
    "duration": 27,
    "start_time": "2023-11-23T12:52:31.834Z"
   },
   {
    "duration": 87,
    "start_time": "2023-11-23T12:52:31.862Z"
   },
   {
    "duration": 29,
    "start_time": "2023-11-23T12:52:31.951Z"
   },
   {
    "duration": 25,
    "start_time": "2023-11-23T12:52:31.981Z"
   },
   {
    "duration": 304,
    "start_time": "2023-11-23T12:52:32.008Z"
   },
   {
    "duration": 10,
    "start_time": "2023-11-23T12:52:32.313Z"
   },
   {
    "duration": 231,
    "start_time": "2023-11-23T12:52:32.324Z"
   },
   {
    "duration": 9,
    "start_time": "2023-11-23T12:52:32.557Z"
   },
   {
    "duration": 36,
    "start_time": "2023-11-23T12:52:32.568Z"
   },
   {
    "duration": 1355,
    "start_time": "2023-11-23T12:52:32.605Z"
   },
   {
    "duration": 10,
    "start_time": "2023-11-23T12:52:33.961Z"
   },
   {
    "duration": 1918,
    "start_time": "2023-11-23T12:52:33.973Z"
   },
   {
    "duration": 587,
    "start_time": "2023-11-23T12:52:35.893Z"
   },
   {
    "duration": 23,
    "start_time": "2023-11-23T12:52:36.481Z"
   },
   {
    "duration": 274,
    "start_time": "2023-11-23T12:52:36.505Z"
   },
   {
    "duration": 605,
    "start_time": "2023-11-23T12:52:36.781Z"
   },
   {
    "duration": 382,
    "start_time": "2023-11-23T12:52:37.388Z"
   },
   {
    "duration": 272,
    "start_time": "2023-11-23T12:52:37.772Z"
   },
   {
    "duration": 11,
    "start_time": "2023-11-23T12:52:38.045Z"
   },
   {
    "duration": 10,
    "start_time": "2023-11-23T12:52:38.058Z"
   },
   {
    "duration": 86,
    "start_time": "2023-11-23T12:52:38.069Z"
   },
   {
    "duration": 1115,
    "start_time": "2023-11-23T12:53:31.680Z"
   },
   {
    "duration": 130,
    "start_time": "2023-11-23T12:53:32.797Z"
   },
   {
    "duration": 3,
    "start_time": "2023-11-23T12:53:32.929Z"
   },
   {
    "duration": 57,
    "start_time": "2023-11-23T12:53:32.933Z"
   },
   {
    "duration": 53,
    "start_time": "2023-11-23T12:53:32.992Z"
   },
   {
    "duration": 46,
    "start_time": "2023-11-23T12:53:33.047Z"
   },
   {
    "duration": 49,
    "start_time": "2023-11-23T12:53:33.095Z"
   },
   {
    "duration": 45,
    "start_time": "2023-11-23T12:53:33.146Z"
   },
   {
    "duration": 44,
    "start_time": "2023-11-23T12:53:33.192Z"
   },
   {
    "duration": 42,
    "start_time": "2023-11-23T12:53:33.238Z"
   },
   {
    "duration": 50,
    "start_time": "2023-11-23T12:53:33.281Z"
   },
   {
    "duration": 45,
    "start_time": "2023-11-23T12:53:33.333Z"
   },
   {
    "duration": 210,
    "start_time": "2023-11-23T12:53:33.379Z"
   },
   {
    "duration": 8,
    "start_time": "2023-11-23T12:53:33.590Z"
   },
   {
    "duration": 33,
    "start_time": "2023-11-23T12:53:33.599Z"
   },
   {
    "duration": 46,
    "start_time": "2023-11-23T12:53:33.633Z"
   },
   {
    "duration": 35,
    "start_time": "2023-11-23T12:53:33.680Z"
   },
   {
    "duration": 30,
    "start_time": "2023-11-23T12:53:33.717Z"
   },
   {
    "duration": 37,
    "start_time": "2023-11-23T12:53:33.748Z"
   },
   {
    "duration": 43,
    "start_time": "2023-11-23T12:53:33.787Z"
   },
   {
    "duration": 43,
    "start_time": "2023-11-23T12:53:33.832Z"
   },
   {
    "duration": 44,
    "start_time": "2023-11-23T12:53:33.876Z"
   },
   {
    "duration": 33,
    "start_time": "2023-11-23T12:53:33.921Z"
   },
   {
    "duration": 306,
    "start_time": "2023-11-23T12:53:33.956Z"
   },
   {
    "duration": 12,
    "start_time": "2023-11-23T12:53:34.264Z"
   },
   {
    "duration": 261,
    "start_time": "2023-11-23T12:53:34.277Z"
   },
   {
    "duration": 9,
    "start_time": "2023-11-23T12:53:34.540Z"
   },
   {
    "duration": 39,
    "start_time": "2023-11-23T12:53:34.558Z"
   },
   {
    "duration": 1345,
    "start_time": "2023-11-23T12:53:34.599Z"
   },
   {
    "duration": 12,
    "start_time": "2023-11-23T12:53:35.946Z"
   },
   {
    "duration": 1965,
    "start_time": "2023-11-23T12:53:35.960Z"
   },
   {
    "duration": 582,
    "start_time": "2023-11-23T12:53:37.928Z"
   },
   {
    "duration": 21,
    "start_time": "2023-11-23T12:53:38.512Z"
   },
   {
    "duration": 283,
    "start_time": "2023-11-23T12:53:38.534Z"
   },
   {
    "duration": 611,
    "start_time": "2023-11-23T12:53:38.819Z"
   },
   {
    "duration": 392,
    "start_time": "2023-11-23T12:53:39.432Z"
   },
   {
    "duration": 274,
    "start_time": "2023-11-23T12:53:39.826Z"
   },
   {
    "duration": 8,
    "start_time": "2023-11-23T12:53:40.101Z"
   },
   {
    "duration": 36,
    "start_time": "2023-11-23T12:53:40.111Z"
   },
   {
    "duration": 39,
    "start_time": "2023-11-23T12:53:40.148Z"
   },
   {
    "duration": 1089,
    "start_time": "2023-11-23T17:52:20.034Z"
   },
   {
    "duration": 254,
    "start_time": "2023-11-23T17:52:21.125Z"
   },
   {
    "duration": 2,
    "start_time": "2023-11-23T17:52:21.381Z"
   },
   {
    "duration": 29,
    "start_time": "2023-11-23T17:52:21.384Z"
   },
   {
    "duration": 19,
    "start_time": "2023-11-23T17:52:21.415Z"
   },
   {
    "duration": 24,
    "start_time": "2023-11-23T17:52:21.435Z"
   },
   {
    "duration": 28,
    "start_time": "2023-11-23T17:52:21.460Z"
   },
   {
    "duration": 25,
    "start_time": "2023-11-23T17:52:21.489Z"
   },
   {
    "duration": 16,
    "start_time": "2023-11-23T17:52:21.515Z"
   },
   {
    "duration": 36,
    "start_time": "2023-11-23T17:52:21.532Z"
   },
   {
    "duration": 21,
    "start_time": "2023-11-23T17:52:21.569Z"
   },
   {
    "duration": 14,
    "start_time": "2023-11-23T17:52:21.592Z"
   },
   {
    "duration": 179,
    "start_time": "2023-11-23T17:52:21.608Z"
   },
   {
    "duration": 9,
    "start_time": "2023-11-23T17:52:21.789Z"
   },
   {
    "duration": 26,
    "start_time": "2023-11-23T17:52:21.799Z"
   },
   {
    "duration": 56,
    "start_time": "2023-11-23T17:52:21.826Z"
   },
   {
    "duration": 40,
    "start_time": "2023-11-23T17:52:21.884Z"
   },
   {
    "duration": 40,
    "start_time": "2023-11-23T17:52:21.926Z"
   },
   {
    "duration": 42,
    "start_time": "2023-11-23T17:52:21.968Z"
   },
   {
    "duration": 46,
    "start_time": "2023-11-23T17:52:22.012Z"
   },
   {
    "duration": 31,
    "start_time": "2023-11-23T17:52:22.060Z"
   },
   {
    "duration": 23,
    "start_time": "2023-11-23T17:52:22.092Z"
   },
   {
    "duration": 23,
    "start_time": "2023-11-23T17:52:22.117Z"
   },
   {
    "duration": 329,
    "start_time": "2023-11-23T17:52:22.142Z"
   },
   {
    "duration": 10,
    "start_time": "2023-11-23T17:52:22.472Z"
   },
   {
    "duration": 260,
    "start_time": "2023-11-23T17:52:22.484Z"
   },
   {
    "duration": 15,
    "start_time": "2023-11-23T17:52:22.746Z"
   },
   {
    "duration": 57,
    "start_time": "2023-11-23T17:52:22.762Z"
   },
   {
    "duration": 1392,
    "start_time": "2023-11-23T17:52:22.820Z"
   },
   {
    "duration": 10,
    "start_time": "2023-11-23T17:52:24.213Z"
   },
   {
    "duration": 2103,
    "start_time": "2023-11-23T17:52:24.224Z"
   },
   {
    "duration": 300,
    "start_time": "2023-11-23T17:52:26.329Z"
   },
   {
    "duration": 1246,
    "start_time": "2023-11-23T17:53:28.155Z"
   },
   {
    "duration": 142,
    "start_time": "2023-11-23T17:53:29.457Z"
   },
   {
    "duration": 3,
    "start_time": "2023-11-23T17:53:29.656Z"
   },
   {
    "duration": 6,
    "start_time": "2023-11-23T17:53:29.661Z"
   },
   {
    "duration": 6,
    "start_time": "2023-11-23T17:53:29.669Z"
   },
   {
    "duration": 18,
    "start_time": "2023-11-23T17:53:29.676Z"
   },
   {
    "duration": 61,
    "start_time": "2023-11-23T17:53:29.696Z"
   },
   {
    "duration": 12,
    "start_time": "2023-11-23T17:53:29.758Z"
   },
   {
    "duration": 7,
    "start_time": "2023-11-23T17:53:29.772Z"
   },
   {
    "duration": 8,
    "start_time": "2023-11-23T17:53:29.781Z"
   },
   {
    "duration": 9,
    "start_time": "2023-11-23T17:53:29.791Z"
   },
   {
    "duration": 65,
    "start_time": "2023-11-23T17:53:29.801Z"
   },
   {
    "duration": 391,
    "start_time": "2023-11-23T17:53:29.867Z"
   },
   {
    "duration": 9,
    "start_time": "2023-11-23T17:53:30.260Z"
   },
   {
    "duration": 86,
    "start_time": "2023-11-23T17:53:30.271Z"
   },
   {
    "duration": 7,
    "start_time": "2023-11-23T17:53:30.358Z"
   },
   {
    "duration": 21,
    "start_time": "2023-11-23T17:53:30.367Z"
   },
   {
    "duration": 68,
    "start_time": "2023-11-23T17:53:30.389Z"
   },
   {
    "duration": 29,
    "start_time": "2023-11-23T17:53:30.458Z"
   },
   {
    "duration": 30,
    "start_time": "2023-11-23T17:53:30.489Z"
   },
   {
    "duration": 15,
    "start_time": "2023-11-23T17:53:30.556Z"
   },
   {
    "duration": 28,
    "start_time": "2023-11-23T17:53:30.573Z"
   },
   {
    "duration": 21,
    "start_time": "2023-11-23T17:53:30.602Z"
   },
   {
    "duration": 305,
    "start_time": "2023-11-23T17:53:30.624Z"
   },
   {
    "duration": 10,
    "start_time": "2023-11-23T17:53:30.930Z"
   },
   {
    "duration": 236,
    "start_time": "2023-11-23T17:53:30.942Z"
   },
   {
    "duration": 11,
    "start_time": "2023-11-23T17:53:31.180Z"
   },
   {
    "duration": 42,
    "start_time": "2023-11-23T17:53:31.193Z"
   },
   {
    "duration": 1398,
    "start_time": "2023-11-23T17:53:31.238Z"
   },
   {
    "duration": 10,
    "start_time": "2023-11-23T17:53:32.638Z"
   },
   {
    "duration": 1929,
    "start_time": "2023-11-23T17:53:32.650Z"
   },
   {
    "duration": 298,
    "start_time": "2023-11-23T17:53:34.581Z"
   },
   {
    "duration": 665,
    "start_time": "2023-11-23T17:53:34.881Z"
   },
   {
    "duration": 22,
    "start_time": "2023-11-23T17:53:35.548Z"
   },
   {
    "duration": 177,
    "start_time": "2023-11-23T17:53:35.572Z"
   },
   {
    "duration": 598,
    "start_time": "2023-11-23T17:53:35.751Z"
   },
   {
    "duration": 355,
    "start_time": "2023-11-23T17:53:36.355Z"
   },
   {
    "duration": 283,
    "start_time": "2023-11-23T17:53:36.712Z"
   },
   {
    "duration": 9,
    "start_time": "2023-11-23T17:53:36.997Z"
   },
   {
    "duration": 23,
    "start_time": "2023-11-23T17:53:37.007Z"
   },
   {
    "duration": 44,
    "start_time": "2023-11-23T17:53:37.031Z"
   }
  ],
  "kernelspec": {
   "display_name": "Python 3 (ipykernel)",
   "language": "python",
   "name": "python3"
  },
  "language_info": {
   "codemirror_mode": {
    "name": "ipython",
    "version": 3
   },
   "file_extension": ".py",
   "mimetype": "text/x-python",
   "name": "python",
   "nbconvert_exporter": "python",
   "pygments_lexer": "ipython3",
   "version": "3.9.12"
  },
  "toc": {
   "base_numbering": 1,
   "nav_menu": {
    "height": "252px",
    "width": "307px"
   },
   "number_sections": true,
   "sideBar": true,
   "skip_h1_title": true,
   "title_cell": "Table of Contents",
   "title_sidebar": "Contents",
   "toc_cell": false,
   "toc_position": {
    "height": "calc(100% - 180px)",
    "left": "10px",
    "top": "150px",
    "width": "327px"
   },
   "toc_section_display": true,
   "toc_window_display": true
  }
 },
 "nbformat": 4,
 "nbformat_minor": 2
}
