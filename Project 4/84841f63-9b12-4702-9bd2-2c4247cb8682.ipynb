{
 "cells": [
  {
   "cell_type": "markdown",
   "id": "ddce88c4",
   "metadata": {},
   "source": [
    "# Исследование пользователей сервиса аренды самокатов GoFast"
   ]
  },
  {
   "cell_type": "markdown",
   "id": "ff4ad217",
   "metadata": {},
   "source": [
    "<b>Данные представляют собой сведения о некоторых пользователях сервиса из нескольких городов, а также об их поездках и тарифах.<b><br>\n",
    "<b>Цель работы<b>: проанализировать предоставленные данные и проверить некоторые гипотезы для помощи бизнесу."
   ]
  },
  {
   "cell_type": "code",
   "execution_count": 1,
   "id": "72576667",
   "metadata": {},
   "outputs": [],
   "source": [
    "import pandas as pd\n",
    "import matplotlib.pyplot as plt\n",
    "import numpy as np\n",
    "from scipy import stats as st"
   ]
  },
  {
   "cell_type": "markdown",
   "id": "c42cbe00",
   "metadata": {},
   "source": [
    "### Загрузка данных"
   ]
  },
  {
   "cell_type": "code",
   "execution_count": 2,
   "id": "eff9f206",
   "metadata": {},
   "outputs": [],
   "source": [
    "try:\n",
    "    users = pd.read_csv('users_go.csv')\n",
    "    rides = pd.read_csv('rides_go.csv')\n",
    "    subscriptions = pd.read_csv('subscriptions_go.csv')\n",
    "except:\n",
    "    users = pd.read_csv('/datasets/users_go.csv')\n",
    "    rides = pd.read_csv('/datasets/rides_go.csv')\n",
    "    subscriptions = pd.read_csv('/datasets/subscriptions_go.csv')"
   ]
  },
  {
   "cell_type": "code",
   "execution_count": 3,
   "id": "21e8cbbc",
   "metadata": {
    "scrolled": false
   },
   "outputs": [
    {
     "name": "stdout",
     "output_type": "stream",
     "text": [
      "<class 'pandas.core.frame.DataFrame'>\n",
      "RangeIndex: 1565 entries, 0 to 1564\n",
      "Data columns (total 5 columns):\n",
      " #   Column             Non-Null Count  Dtype \n",
      "---  ------             --------------  ----- \n",
      " 0   user_id            1565 non-null   int64 \n",
      " 1   name               1565 non-null   object\n",
      " 2   age                1565 non-null   int64 \n",
      " 3   city               1565 non-null   object\n",
      " 4   subscription_type  1565 non-null   object\n",
      "dtypes: int64(2), object(3)\n",
      "memory usage: 61.3+ KB\n"
     ]
    },
    {
     "data": {
      "text/html": [
       "<div>\n",
       "<style scoped>\n",
       "    .dataframe tbody tr th:only-of-type {\n",
       "        vertical-align: middle;\n",
       "    }\n",
       "\n",
       "    .dataframe tbody tr th {\n",
       "        vertical-align: top;\n",
       "    }\n",
       "\n",
       "    .dataframe thead th {\n",
       "        text-align: right;\n",
       "    }\n",
       "</style>\n",
       "<table border=\"1\" class=\"dataframe\">\n",
       "  <thead>\n",
       "    <tr style=\"text-align: right;\">\n",
       "      <th></th>\n",
       "      <th>user_id</th>\n",
       "      <th>name</th>\n",
       "      <th>age</th>\n",
       "      <th>city</th>\n",
       "      <th>subscription_type</th>\n",
       "    </tr>\n",
       "  </thead>\n",
       "  <tbody>\n",
       "    <tr>\n",
       "      <th>0</th>\n",
       "      <td>1</td>\n",
       "      <td>Кира</td>\n",
       "      <td>22</td>\n",
       "      <td>Тюмень</td>\n",
       "      <td>ultra</td>\n",
       "    </tr>\n",
       "    <tr>\n",
       "      <th>1</th>\n",
       "      <td>2</td>\n",
       "      <td>Станислав</td>\n",
       "      <td>31</td>\n",
       "      <td>Омск</td>\n",
       "      <td>ultra</td>\n",
       "    </tr>\n",
       "    <tr>\n",
       "      <th>2</th>\n",
       "      <td>3</td>\n",
       "      <td>Алексей</td>\n",
       "      <td>20</td>\n",
       "      <td>Москва</td>\n",
       "      <td>ultra</td>\n",
       "    </tr>\n",
       "    <tr>\n",
       "      <th>3</th>\n",
       "      <td>4</td>\n",
       "      <td>Константин</td>\n",
       "      <td>26</td>\n",
       "      <td>Ростов-на-Дону</td>\n",
       "      <td>ultra</td>\n",
       "    </tr>\n",
       "    <tr>\n",
       "      <th>4</th>\n",
       "      <td>5</td>\n",
       "      <td>Адель</td>\n",
       "      <td>28</td>\n",
       "      <td>Омск</td>\n",
       "      <td>ultra</td>\n",
       "    </tr>\n",
       "  </tbody>\n",
       "</table>\n",
       "</div>"
      ],
      "text/plain": [
       "   user_id        name  age            city subscription_type\n",
       "0        1        Кира   22          Тюмень             ultra\n",
       "1        2   Станислав   31            Омск             ultra\n",
       "2        3     Алексей   20          Москва             ultra\n",
       "3        4  Константин   26  Ростов-на-Дону             ultra\n",
       "4        5       Адель   28            Омск             ultra"
      ]
     },
     "metadata": {},
     "output_type": "display_data"
    },
    {
     "data": {
      "text/plain": [
       "None"
      ]
     },
     "metadata": {},
     "output_type": "display_data"
    }
   ],
   "source": [
    "display(users.head(), users.info())"
   ]
  },
  {
   "cell_type": "markdown",
   "id": "7b4c5786",
   "metadata": {},
   "source": [
    "Описание данных в таблице `users`:\n",
    "* `user_id` - уникальный идентификатор пользователя;\n",
    "* `name` - имя пользователя;\n",
    "* `age` - возраст;\n",
    "* `city` - город;\n",
    "* `subscription_type` - тип подписки (free, ultra)."
   ]
  },
  {
   "cell_type": "code",
   "execution_count": 4,
   "id": "167a840b",
   "metadata": {
    "scrolled": false
   },
   "outputs": [
    {
     "name": "stdout",
     "output_type": "stream",
     "text": [
      "<class 'pandas.core.frame.DataFrame'>\n",
      "RangeIndex: 18068 entries, 0 to 18067\n",
      "Data columns (total 4 columns):\n",
      " #   Column    Non-Null Count  Dtype  \n",
      "---  ------    --------------  -----  \n",
      " 0   user_id   18068 non-null  int64  \n",
      " 1   distance  18068 non-null  float64\n",
      " 2   duration  18068 non-null  float64\n",
      " 3   date      18068 non-null  object \n",
      "dtypes: float64(2), int64(1), object(1)\n",
      "memory usage: 564.8+ KB\n"
     ]
    },
    {
     "data": {
      "text/html": [
       "<div>\n",
       "<style scoped>\n",
       "    .dataframe tbody tr th:only-of-type {\n",
       "        vertical-align: middle;\n",
       "    }\n",
       "\n",
       "    .dataframe tbody tr th {\n",
       "        vertical-align: top;\n",
       "    }\n",
       "\n",
       "    .dataframe thead th {\n",
       "        text-align: right;\n",
       "    }\n",
       "</style>\n",
       "<table border=\"1\" class=\"dataframe\">\n",
       "  <thead>\n",
       "    <tr style=\"text-align: right;\">\n",
       "      <th></th>\n",
       "      <th>user_id</th>\n",
       "      <th>distance</th>\n",
       "      <th>duration</th>\n",
       "      <th>date</th>\n",
       "    </tr>\n",
       "  </thead>\n",
       "  <tbody>\n",
       "    <tr>\n",
       "      <th>0</th>\n",
       "      <td>1</td>\n",
       "      <td>4409.919140</td>\n",
       "      <td>25.599769</td>\n",
       "      <td>2021-01-01</td>\n",
       "    </tr>\n",
       "    <tr>\n",
       "      <th>1</th>\n",
       "      <td>1</td>\n",
       "      <td>2617.592153</td>\n",
       "      <td>15.816871</td>\n",
       "      <td>2021-01-18</td>\n",
       "    </tr>\n",
       "    <tr>\n",
       "      <th>2</th>\n",
       "      <td>1</td>\n",
       "      <td>754.159807</td>\n",
       "      <td>6.232113</td>\n",
       "      <td>2021-04-20</td>\n",
       "    </tr>\n",
       "    <tr>\n",
       "      <th>3</th>\n",
       "      <td>1</td>\n",
       "      <td>2694.783254</td>\n",
       "      <td>18.511000</td>\n",
       "      <td>2021-08-11</td>\n",
       "    </tr>\n",
       "    <tr>\n",
       "      <th>4</th>\n",
       "      <td>1</td>\n",
       "      <td>4028.687306</td>\n",
       "      <td>26.265803</td>\n",
       "      <td>2021-08-28</td>\n",
       "    </tr>\n",
       "  </tbody>\n",
       "</table>\n",
       "</div>"
      ],
      "text/plain": [
       "   user_id     distance   duration        date\n",
       "0        1  4409.919140  25.599769  2021-01-01\n",
       "1        1  2617.592153  15.816871  2021-01-18\n",
       "2        1   754.159807   6.232113  2021-04-20\n",
       "3        1  2694.783254  18.511000  2021-08-11\n",
       "4        1  4028.687306  26.265803  2021-08-28"
      ]
     },
     "metadata": {},
     "output_type": "display_data"
    },
    {
     "data": {
      "text/plain": [
       "None"
      ]
     },
     "metadata": {},
     "output_type": "display_data"
    }
   ],
   "source": [
    "display(rides.head(), rides.info())"
   ]
  },
  {
   "cell_type": "markdown",
   "id": "add979eb",
   "metadata": {},
   "source": [
    "Описание данных в таблице `rides`:\n",
    "* `user_id` - уникальный идентификатор пользователя;\n",
    "* `distance` - расстояние, которое пользователь проехал в текущей сессии (в метрах);\n",
    "* `duration` - продолжительность сессии (в минутах) — время с того момента, как пользователь нажал кнопку «Начать поездку» до момента, как он нажал кнопку «Завершить поездку»;\n",
    "* `date` - дата совершения поездки."
   ]
  },
  {
   "cell_type": "markdown",
   "id": "6b52bf9e",
   "metadata": {},
   "source": [
    "Столбец `date` содержит данные типа `object`, а не `datetime`. Исправим это на следующем этапе."
   ]
  },
  {
   "cell_type": "code",
   "execution_count": 5,
   "id": "d520d1c3",
   "metadata": {},
   "outputs": [
    {
     "name": "stdout",
     "output_type": "stream",
     "text": [
      "<class 'pandas.core.frame.DataFrame'>\n",
      "RangeIndex: 2 entries, 0 to 1\n",
      "Data columns (total 4 columns):\n",
      " #   Column             Non-Null Count  Dtype \n",
      "---  ------             --------------  ----- \n",
      " 0   subscription_type  2 non-null      object\n",
      " 1   minute_price       2 non-null      int64 \n",
      " 2   start_ride_price   2 non-null      int64 \n",
      " 3   subscription_fee   2 non-null      int64 \n",
      "dtypes: int64(3), object(1)\n",
      "memory usage: 192.0+ bytes\n"
     ]
    },
    {
     "data": {
      "text/html": [
       "<div>\n",
       "<style scoped>\n",
       "    .dataframe tbody tr th:only-of-type {\n",
       "        vertical-align: middle;\n",
       "    }\n",
       "\n",
       "    .dataframe tbody tr th {\n",
       "        vertical-align: top;\n",
       "    }\n",
       "\n",
       "    .dataframe thead th {\n",
       "        text-align: right;\n",
       "    }\n",
       "</style>\n",
       "<table border=\"1\" class=\"dataframe\">\n",
       "  <thead>\n",
       "    <tr style=\"text-align: right;\">\n",
       "      <th></th>\n",
       "      <th>subscription_type</th>\n",
       "      <th>minute_price</th>\n",
       "      <th>start_ride_price</th>\n",
       "      <th>subscription_fee</th>\n",
       "    </tr>\n",
       "  </thead>\n",
       "  <tbody>\n",
       "    <tr>\n",
       "      <th>0</th>\n",
       "      <td>free</td>\n",
       "      <td>8</td>\n",
       "      <td>50</td>\n",
       "      <td>0</td>\n",
       "    </tr>\n",
       "    <tr>\n",
       "      <th>1</th>\n",
       "      <td>ultra</td>\n",
       "      <td>6</td>\n",
       "      <td>0</td>\n",
       "      <td>199</td>\n",
       "    </tr>\n",
       "  </tbody>\n",
       "</table>\n",
       "</div>"
      ],
      "text/plain": [
       "  subscription_type  minute_price  start_ride_price  subscription_fee\n",
       "0              free             8                50                 0\n",
       "1             ultra             6                 0               199"
      ]
     },
     "metadata": {},
     "output_type": "display_data"
    },
    {
     "data": {
      "text/plain": [
       "None"
      ]
     },
     "metadata": {},
     "output_type": "display_data"
    }
   ],
   "source": [
    "display(subscriptions.head(), subscriptions.info())"
   ]
  },
  {
   "cell_type": "markdown",
   "id": "581f7f18",
   "metadata": {},
   "source": [
    "Описание данных в таблице `subscriptions`:\n",
    "* `subscription_type` - тип подписки;\n",
    "* `minute_price` - стоимость одной минуты поездки по данной подписке;\n",
    "* `start_ride_price` - стоимость начала поездки;\n",
    "* `subscription_fee` - стоимость ежемесячного платежа."
   ]
  },
  {
   "cell_type": "markdown",
   "id": "e95ebca7",
   "metadata": {},
   "source": [
    "### Предобработка данных"
   ]
  },
  {
   "cell_type": "markdown",
   "id": "b29957d3",
   "metadata": {},
   "source": [
    "На этапе предобработки данных приведём данные к нужным типам в местах, где это требуется и избавимся от пропусков и дубликатов."
   ]
  },
  {
   "cell_type": "code",
   "execution_count": 6,
   "id": "af6d202c",
   "metadata": {},
   "outputs": [
    {
     "data": {
      "text/plain": [
       "0   2021-01-01\n",
       "1   2021-01-18\n",
       "2   2021-04-20\n",
       "3   2021-08-11\n",
       "4   2021-08-28\n",
       "Name: date, dtype: datetime64[ns]"
      ]
     },
     "execution_count": 6,
     "metadata": {},
     "output_type": "execute_result"
    }
   ],
   "source": [
    "rides['date'] = pd.to_datetime(rides['date'], format='%Y-%m-%d')\n",
    "\n",
    "rides['date'].head()"
   ]
  },
  {
   "cell_type": "code",
   "execution_count": 7,
   "id": "dd9c5527",
   "metadata": {},
   "outputs": [
    {
     "data": {
      "text/plain": [
       "user_id              int64\n",
       "distance           float64\n",
       "duration           float64\n",
       "date        datetime64[ns]\n",
       "dtype: object"
      ]
     },
     "execution_count": 7,
     "metadata": {},
     "output_type": "execute_result"
    }
   ],
   "source": [
    "rides.dtypes"
   ]
  },
  {
   "cell_type": "code",
   "execution_count": 8,
   "id": "501b5ab7",
   "metadata": {},
   "outputs": [
    {
     "data": {
      "text/html": [
       "<div>\n",
       "<style scoped>\n",
       "    .dataframe tbody tr th:only-of-type {\n",
       "        vertical-align: middle;\n",
       "    }\n",
       "\n",
       "    .dataframe tbody tr th {\n",
       "        vertical-align: top;\n",
       "    }\n",
       "\n",
       "    .dataframe thead th {\n",
       "        text-align: right;\n",
       "    }\n",
       "</style>\n",
       "<table border=\"1\" class=\"dataframe\">\n",
       "  <thead>\n",
       "    <tr style=\"text-align: right;\">\n",
       "      <th></th>\n",
       "      <th>date</th>\n",
       "      <th>month</th>\n",
       "    </tr>\n",
       "  </thead>\n",
       "  <tbody>\n",
       "    <tr>\n",
       "      <th>0</th>\n",
       "      <td>2021-01-01</td>\n",
       "      <td>1</td>\n",
       "    </tr>\n",
       "    <tr>\n",
       "      <th>1</th>\n",
       "      <td>2021-01-18</td>\n",
       "      <td>1</td>\n",
       "    </tr>\n",
       "    <tr>\n",
       "      <th>2</th>\n",
       "      <td>2021-04-20</td>\n",
       "      <td>4</td>\n",
       "    </tr>\n",
       "    <tr>\n",
       "      <th>3</th>\n",
       "      <td>2021-08-11</td>\n",
       "      <td>8</td>\n",
       "    </tr>\n",
       "    <tr>\n",
       "      <th>4</th>\n",
       "      <td>2021-08-28</td>\n",
       "      <td>8</td>\n",
       "    </tr>\n",
       "  </tbody>\n",
       "</table>\n",
       "</div>"
      ],
      "text/plain": [
       "        date  month\n",
       "0 2021-01-01      1\n",
       "1 2021-01-18      1\n",
       "2 2021-04-20      4\n",
       "3 2021-08-11      8\n",
       "4 2021-08-28      8"
      ]
     },
     "execution_count": 8,
     "metadata": {},
     "output_type": "execute_result"
    }
   ],
   "source": [
    "rides['month'] = rides['date'].dt.month\n",
    "\n",
    "rides[['date', 'month']].head()"
   ]
  },
  {
   "cell_type": "code",
   "execution_count": 9,
   "id": "8bc6ab13",
   "metadata": {},
   "outputs": [],
   "source": [
    "def remove_duplicates(data):\n",
    "    num_of_duplicates = data.duplicated().sum()\n",
    "    print(f'Количество дубликатов до удаления: {num_of_duplicates}.')\n",
    "    if num_of_duplicates:\n",
    "        data = data.drop_duplicates().reset_index(drop=True)\n",
    "        print(f'Количество дубликатов после удаления: {data.duplicated().sum()}.')\n",
    "    print()"
   ]
  },
  {
   "cell_type": "code",
   "execution_count": 10,
   "id": "6d6ec4c1",
   "metadata": {},
   "outputs": [
    {
     "name": "stdout",
     "output_type": "stream",
     "text": [
      "Количество дубликатов до удаления: 31.\n",
      "Количество дубликатов после удаления: 0.\n",
      "\n",
      "Количество дубликатов до удаления: 0.\n",
      "\n",
      "Количество дубликатов до удаления: 0.\n",
      "\n"
     ]
    }
   ],
   "source": [
    "for data in [users, subscriptions, rides]:\n",
    "    remove_duplicates(data)"
   ]
  },
  {
   "cell_type": "markdown",
   "id": "ad8329fa",
   "metadata": {},
   "source": [
    "Проверим столбец с названиями городов на наличие неявных дубликатов."
   ]
  },
  {
   "cell_type": "code",
   "execution_count": 11,
   "id": "456cfb66",
   "metadata": {},
   "outputs": [
    {
     "data": {
      "text/plain": [
       "array(['Тюмень', 'Омск', 'Москва', 'Ростов-на-Дону', 'Краснодар',\n",
       "       'Пятигорск', 'Екатеринбург', 'Сочи'], dtype=object)"
      ]
     },
     "execution_count": 11,
     "metadata": {},
     "output_type": "execute_result"
    }
   ],
   "source": [
    "users['city'].unique()"
   ]
  },
  {
   "cell_type": "code",
   "execution_count": 12,
   "id": "73ed3bd1",
   "metadata": {},
   "outputs": [
    {
     "data": {
      "text/plain": [
       "user_id              0\n",
       "name                 0\n",
       "age                  0\n",
       "city                 0\n",
       "subscription_type    0\n",
       "dtype: int64"
      ]
     },
     "execution_count": 12,
     "metadata": {},
     "output_type": "execute_result"
    }
   ],
   "source": [
    "users.isna().sum()"
   ]
  },
  {
   "cell_type": "code",
   "execution_count": 13,
   "id": "daab9c5e",
   "metadata": {},
   "outputs": [
    {
     "data": {
      "text/plain": [
       "user_id     0\n",
       "distance    0\n",
       "duration    0\n",
       "date        0\n",
       "month       0\n",
       "dtype: int64"
      ]
     },
     "execution_count": 13,
     "metadata": {},
     "output_type": "execute_result"
    }
   ],
   "source": [
    "rides.isna().sum()"
   ]
  },
  {
   "cell_type": "code",
   "execution_count": 14,
   "id": "241e2d34",
   "metadata": {
    "scrolled": true
   },
   "outputs": [
    {
     "data": {
      "text/plain": [
       "subscription_type    0\n",
       "minute_price         0\n",
       "start_ride_price     0\n",
       "subscription_fee     0\n",
       "dtype: int64"
      ]
     },
     "execution_count": 14,
     "metadata": {},
     "output_type": "execute_result"
    }
   ],
   "source": [
    "subscriptions.isna().sum()"
   ]
  },
  {
   "cell_type": "markdown",
   "id": "bb41b72e",
   "metadata": {},
   "source": [
    "Мы привели столбец `date` датафрейма `rides` к типу `datetime`, а также избавились от явных дубликатов в датафрейме `users`."
   ]
  },
  {
   "cell_type": "markdown",
   "id": "212593c7",
   "metadata": {},
   "source": [
    "### Исследовательский анализ данных"
   ]
  },
  {
   "cell_type": "markdown",
   "id": "3f810813",
   "metadata": {},
   "source": [
    "На этом этапе изучим общую информацию о пользователях и поездках:\n",
    "* частота встречаемости городов;\n",
    "* соотношение пользователей с подпиской и без подписки;\n",
    "* возраст пользователей;\n",
    "* расстояние, которое пользователь преодолел за одну поездку;\n",
    "* продолжительность поездок."
   ]
  },
  {
   "cell_type": "markdown",
   "id": "f62eb4a4",
   "metadata": {},
   "source": [
    "Частоту встречаемости городов рассмотрим относительно двух разных величин:\n",
    "* количество пользователей для каждого города;\n",
    "* количество поездок для каждого города.\n",
    "\n",
    "Для визуализации распределений воспользуемся столбчатой диаграммой."
   ]
  },
  {
   "cell_type": "code",
   "execution_count": 15,
   "id": "e3a4274c",
   "metadata": {
    "scrolled": false
   },
   "outputs": [
    {
     "data": {
      "image/png": "[encoded data removed]",
      "text/plain": [
       "<Figure size 432x288 with 1 Axes>"
      ]
     },
     "metadata": {
      "needs_background": "light"
     },
     "output_type": "display_data"
    },
    {
     "data": {
      "image/png": "[encoded data removed]",
      "text/plain": [
       "<Figure size 432x288 with 1 Axes>"
      ]
     },
     "metadata": {
      "needs_background": "light"
     },
     "output_type": "display_data"
    }
   ],
   "source": [
    "users['city'].value_counts(ascending=True).plot.bar(ylabel='Количество пользователей', xlabel='Город')\n",
    "plt.title('Количество пользователей для каждого города')\n",
    "plt.show()\n",
    "\n",
    "(users[['user_id', 'city']].merge(rides['user_id']).groupby('city').count().sort_values(by='user_id')\n",
    " .plot.bar(legend=False, ylabel='Количество поездок', xlabel='Город'))\n",
    "plt.title('Количество поездок для каждого города')\n",
    "plt.show()"
   ]
  },
  {
   "cell_type": "markdown",
   "id": "5152bdb3",
   "metadata": {},
   "source": [
    "Как ни странно, наименьшее количество поездок совершено пользователями из `Москвы`. Наименьшее количество пользователей также в `Москве`, а наибольшее количество поездок совершено наибольшим количеством пользователей из `Пятигорска`. Можно заметить, что количество пользователей прямо пропорционально количеству поездок, скорее всего, все пользователи совершают примерно одинаковое количество поездок."
   ]
  },
  {
   "cell_type": "markdown",
   "id": "c5c552f4",
   "metadata": {},
   "source": [
    "Теперь посчитаем соотношение пользователей с подпиской и без подписки."
   ]
  },
  {
   "cell_type": "code",
   "execution_count": 16,
   "id": "9ac97f83",
   "metadata": {},
   "outputs": [
    {
     "data": {
      "image/png": "[encoded data removed]",
      "text/plain": [
       "<Figure size 432x288 with 1 Axes>"
      ]
     },
     "metadata": {},
     "output_type": "display_data"
    },
    {
     "name": "stdout",
     "output_type": "stream",
     "text": [
      "Число пользователей с подпиской: 719\n",
      "Число пользователей без подписки: 846\n",
      "Отношение числа пользователей с подпиской к числу пользователей без подписки равно 0.84988\n"
     ]
    }
   ],
   "source": [
    "users_with_subscription_cnt = users.query('subscription_type == \"ultra\"')['user_id'].count()\n",
    "users_without_subscription_cnt = users.query('subscription_type == \"free\"')['user_id'].count()\n",
    "\n",
    "users.groupby('subscription_type')['user_id'].count().plot(kind='pie', ylabel='', autopct='%1.0f%%')\n",
    "plt.title('Отношение числа пользователей с подпиской к числу пользователей без подписки.')\n",
    "plt.show()\n",
    "\n",
    "print(f'Число пользователей с подпиской: {users_with_subscription_cnt}')\n",
    "print(f'Число пользователей без подписки: {users_without_subscription_cnt}')\n",
    "print(f'Отношение числа пользователей с подпиской к числу пользователей без подписки равно {users_with_subscription_cnt / users_without_subscription_cnt:.5f}')"
   ]
  },
  {
   "cell_type": "markdown",
   "id": "ea32180a",
   "metadata": {},
   "source": [
    "Пользователей без подписки больше."
   ]
  },
  {
   "cell_type": "markdown",
   "id": "14911e6c",
   "metadata": {},
   "source": [
    "Теперь посмотрим на распределение количества пользователей по возрасту."
   ]
  },
  {
   "cell_type": "code",
   "execution_count": 17,
   "id": "64d05796",
   "metadata": {
    "scrolled": true
   },
   "outputs": [
    {
     "data": {
      "image/png": "[encoded data removed]",
      "text/plain": [
       "<Figure size 432x288 with 1 Axes>"
      ]
     },
     "metadata": {
      "needs_background": "light"
     },
     "output_type": "display_data"
    }
   ],
   "source": [
    "users['age'].hist(bins=32)\n",
    "plt.title('Распределение пользователей по возрасту.')\n",
    "plt.ylabel('Частота')\n",
    "plt.xlabel('Возраст')\n",
    "plt.show()"
   ]
  },
  {
   "cell_type": "code",
   "execution_count": 18,
   "id": "a61b79dc",
   "metadata": {},
   "outputs": [
    {
     "data": {
      "text/plain": [
       "count    1565.000000\n",
       "mean       24.922045\n",
       "std         4.553496\n",
       "min        12.000000\n",
       "25%        22.000000\n",
       "50%        25.000000\n",
       "75%        28.000000\n",
       "max        43.000000\n",
       "Name: age, dtype: float64"
      ]
     },
     "execution_count": 18,
     "metadata": {},
     "output_type": "execute_result"
    }
   ],
   "source": [
    "users['age'].describe()"
   ]
  },
  {
   "cell_type": "markdown",
   "id": "b4c5daa4",
   "metadata": {},
   "source": [
    "Наиболее распространённый возраст среди пользователей - от `20` до `30` лет, наименее распространённый - `43` года."
   ]
  },
  {
   "cell_type": "markdown",
   "id": "f77dc6f2",
   "metadata": {},
   "source": [
    "Посмотрим на распределение расстояния и длительности поездок."
   ]
  },
  {
   "cell_type": "code",
   "execution_count": 19,
   "id": "b8670b7b",
   "metadata": {},
   "outputs": [
    {
     "data": {
      "image/png": "[encoded data removed]",
      "text/plain": [
       "<Figure size 432x288 with 1 Axes>"
      ]
     },
     "metadata": {
      "needs_background": "light"
     },
     "output_type": "display_data"
    }
   ],
   "source": [
    "rides['distance'].plot.hist(bins=50, grid=True)\n",
    "plt.title('Распределение числа поездок по расстоянию')\n",
    "plt.ylabel('Частота')\n",
    "plt.xlabel('Расстояние')\n",
    "plt.show()"
   ]
  },
  {
   "cell_type": "markdown",
   "id": "02638785",
   "metadata": {},
   "source": [
    "Распределение близко к нормальному. Большинство поездок совершаются на расстояние чуть более `3` километров. Также можно отметить пик для расстояния `~600` метров, видимо это более востребованное расстояние чем `~1.5` километра, где наблюдается локальный минимум."
   ]
  },
  {
   "cell_type": "code",
   "execution_count": 20,
   "id": "321e7a5c",
   "metadata": {},
   "outputs": [
    {
     "data": {
      "image/png": "[encoded data removed]",
      "text/plain": [
       "<Figure size 432x288 with 1 Axes>"
      ]
     },
     "metadata": {
      "needs_background": "light"
     },
     "output_type": "display_data"
    }
   ],
   "source": [
    "rides['duration'].hist(bins=20)\n",
    "plt.title('Распределение поездок по длительности')\n",
    "plt.xlabel('Длительность')\n",
    "plt.ylabel('Частота')\n",
    "plt.show()"
   ]
  },
  {
   "cell_type": "markdown",
   "id": "0d46eeb2",
   "metadata": {},
   "source": [
    "Рассмотрим поездки, которые длились меньше минуты."
   ]
  },
  {
   "cell_type": "code",
   "execution_count": 21,
   "id": "cbf83356",
   "metadata": {},
   "outputs": [
    {
     "data": {
      "text/plain": [
       "0.5    95\n",
       "Name: duration, dtype: int64"
      ]
     },
     "execution_count": 21,
     "metadata": {},
     "output_type": "execute_result"
    }
   ],
   "source": [
    "rides.query('duration < 1')['duration'].value_counts()"
   ]
  },
  {
   "cell_type": "markdown",
   "id": "fc72891b",
   "metadata": {},
   "source": [
    "Все такие поездки имеют одинаковую продолжительность, скорее всего это ошибочные данные, которые можно удалить особых без потерь, так как таких поездок всего `95`. \n",
    "<br>\n",
    "Навсякий случай, проверим, какой процент исходных данных останется после исключения этих поездок."
   ]
  },
  {
   "cell_type": "code",
   "execution_count": 22,
   "id": "05306beb",
   "metadata": {},
   "outputs": [
    {
     "data": {
      "text/html": [
       "<div>\n",
       "<style scoped>\n",
       "    .dataframe tbody tr th:only-of-type {\n",
       "        vertical-align: middle;\n",
       "    }\n",
       "\n",
       "    .dataframe tbody tr th {\n",
       "        vertical-align: top;\n",
       "    }\n",
       "\n",
       "    .dataframe thead th {\n",
       "        text-align: right;\n",
       "    }\n",
       "</style>\n",
       "<table border=\"1\" class=\"dataframe\">\n",
       "  <thead>\n",
       "    <tr style=\"text-align: right;\">\n",
       "      <th></th>\n",
       "      <th>user_id</th>\n",
       "      <th>distance</th>\n",
       "      <th>duration</th>\n",
       "      <th>date</th>\n",
       "      <th>month</th>\n",
       "    </tr>\n",
       "  </thead>\n",
       "  <tbody>\n",
       "  </tbody>\n",
       "</table>\n",
       "</div>"
      ],
      "text/plain": [
       "Empty DataFrame\n",
       "Columns: [user_id, distance, duration, date, month]\n",
       "Index: []"
      ]
     },
     "metadata": {},
     "output_type": "display_data"
    },
    {
     "name": "stdout",
     "output_type": "stream",
     "text": [
      "99.47%\n"
     ]
    }
   ],
   "source": [
    "size_before = rides.shape[0]\n",
    "rides = rides.query('duration >= 1')\n",
    "display(rides.query('duration < 1'))\n",
    "print(f'{rides.shape[0] / size_before:.2%}')"
   ]
  },
  {
   "cell_type": "markdown",
   "id": "452fbf68",
   "metadata": {},
   "source": [
    "Построим распределение для обновлённых данных."
   ]
  },
  {
   "cell_type": "code",
   "execution_count": 23,
   "id": "3722dd24",
   "metadata": {},
   "outputs": [
    {
     "data": {
      "image/png": "[encoded data removed]",
      "text/plain": [
       "<Figure size 432x288 with 1 Axes>"
      ]
     },
     "metadata": {
      "needs_background": "light"
     },
     "output_type": "display_data"
    }
   ],
   "source": [
    "rides['duration'].hist(bins=20)\n",
    "plt.title('Распределение поездок по длительности')\n",
    "plt.xlabel('Длительность')\n",
    "plt.ylabel('Частота')\n",
    "plt.show()"
   ]
  },
  {
   "cell_type": "markdown",
   "id": "da5dd6ab",
   "metadata": {},
   "source": [
    "Распределение близко к нормальному, самое популярное время поездки - `~17 минут`."
   ]
  },
  {
   "cell_type": "markdown",
   "id": "973c2ea2",
   "metadata": {},
   "source": [
    "Подытожим результаты, полученные выше.\n",
    "* Наиболее часто встречаемый город в данных - `Пятигорск`, наименее - `Москва`;\n",
    "* Отношение числа пользователей с подпиской к числу пользователей без подписки приблизительно равно `0.83713`;\n",
    "* Наиболее распространённый возраст среди пользователей - от `20` до `30 лет`, наименее распространённый - `43` года;\n",
    "* Большинство поездок совершаются на расстояние чуть более `3 километров`;\n",
    "* Самое распространённое время поездки - `~17 минут`."
   ]
  },
  {
   "cell_type": "markdown",
   "id": "4ef51331",
   "metadata": {},
   "source": [
    "### Объединение данных"
   ]
  },
  {
   "cell_type": "markdown",
   "id": "2352f9d0",
   "metadata": {},
   "source": [
    "Объединим все данные в один датафрейм, из созданного датафрейма выделим ещё два:\n",
    "* c данными о пользователях без подписки;\n",
    "* с данными о пользователях с подпиской.\n",
    "\n",
    "Исследуем информацию о расстоянии и времени поездок для пользователей обеих категорий."
   ]
  },
  {
   "cell_type": "code",
   "execution_count": 24,
   "id": "6bf288b5",
   "metadata": {
    "scrolled": false
   },
   "outputs": [
    {
     "name": "stdout",
     "output_type": "stream",
     "text": [
      "Объединение прошло успешно.\n"
     ]
    },
    {
     "data": {
      "text/html": [
       "<div>\n",
       "<style scoped>\n",
       "    .dataframe tbody tr th:only-of-type {\n",
       "        vertical-align: middle;\n",
       "    }\n",
       "\n",
       "    .dataframe tbody tr th {\n",
       "        vertical-align: top;\n",
       "    }\n",
       "\n",
       "    .dataframe thead th {\n",
       "        text-align: right;\n",
       "    }\n",
       "</style>\n",
       "<table border=\"1\" class=\"dataframe\">\n",
       "  <thead>\n",
       "    <tr style=\"text-align: right;\">\n",
       "      <th></th>\n",
       "      <th>user_id</th>\n",
       "      <th>name</th>\n",
       "      <th>age</th>\n",
       "      <th>city</th>\n",
       "      <th>subscription_type</th>\n",
       "      <th>distance</th>\n",
       "      <th>duration</th>\n",
       "      <th>date</th>\n",
       "      <th>month</th>\n",
       "      <th>minute_price</th>\n",
       "      <th>start_ride_price</th>\n",
       "      <th>subscription_fee</th>\n",
       "    </tr>\n",
       "  </thead>\n",
       "  <tbody>\n",
       "    <tr>\n",
       "      <th>0</th>\n",
       "      <td>1</td>\n",
       "      <td>Кира</td>\n",
       "      <td>22</td>\n",
       "      <td>Тюмень</td>\n",
       "      <td>ultra</td>\n",
       "      <td>4409.919140</td>\n",
       "      <td>25.599769</td>\n",
       "      <td>2021-01-01</td>\n",
       "      <td>1</td>\n",
       "      <td>6</td>\n",
       "      <td>0</td>\n",
       "      <td>199</td>\n",
       "    </tr>\n",
       "    <tr>\n",
       "      <th>1</th>\n",
       "      <td>1</td>\n",
       "      <td>Кира</td>\n",
       "      <td>22</td>\n",
       "      <td>Тюмень</td>\n",
       "      <td>ultra</td>\n",
       "      <td>2617.592153</td>\n",
       "      <td>15.816871</td>\n",
       "      <td>2021-01-18</td>\n",
       "      <td>1</td>\n",
       "      <td>6</td>\n",
       "      <td>0</td>\n",
       "      <td>199</td>\n",
       "    </tr>\n",
       "    <tr>\n",
       "      <th>2</th>\n",
       "      <td>1</td>\n",
       "      <td>Кира</td>\n",
       "      <td>22</td>\n",
       "      <td>Тюмень</td>\n",
       "      <td>ultra</td>\n",
       "      <td>754.159807</td>\n",
       "      <td>6.232113</td>\n",
       "      <td>2021-04-20</td>\n",
       "      <td>4</td>\n",
       "      <td>6</td>\n",
       "      <td>0</td>\n",
       "      <td>199</td>\n",
       "    </tr>\n",
       "    <tr>\n",
       "      <th>3</th>\n",
       "      <td>1</td>\n",
       "      <td>Кира</td>\n",
       "      <td>22</td>\n",
       "      <td>Тюмень</td>\n",
       "      <td>ultra</td>\n",
       "      <td>2694.783254</td>\n",
       "      <td>18.511000</td>\n",
       "      <td>2021-08-11</td>\n",
       "      <td>8</td>\n",
       "      <td>6</td>\n",
       "      <td>0</td>\n",
       "      <td>199</td>\n",
       "    </tr>\n",
       "    <tr>\n",
       "      <th>4</th>\n",
       "      <td>1</td>\n",
       "      <td>Кира</td>\n",
       "      <td>22</td>\n",
       "      <td>Тюмень</td>\n",
       "      <td>ultra</td>\n",
       "      <td>4028.687306</td>\n",
       "      <td>26.265803</td>\n",
       "      <td>2021-08-28</td>\n",
       "      <td>8</td>\n",
       "      <td>6</td>\n",
       "      <td>0</td>\n",
       "      <td>199</td>\n",
       "    </tr>\n",
       "    <tr>\n",
       "      <th>...</th>\n",
       "      <td>...</td>\n",
       "      <td>...</td>\n",
       "      <td>...</td>\n",
       "      <td>...</td>\n",
       "      <td>...</td>\n",
       "      <td>...</td>\n",
       "      <td>...</td>\n",
       "      <td>...</td>\n",
       "      <td>...</td>\n",
       "      <td>...</td>\n",
       "      <td>...</td>\n",
       "      <td>...</td>\n",
       "    </tr>\n",
       "    <tr>\n",
       "      <th>17968</th>\n",
       "      <td>1534</td>\n",
       "      <td>Альберт</td>\n",
       "      <td>25</td>\n",
       "      <td>Краснодар</td>\n",
       "      <td>free</td>\n",
       "      <td>3781.098080</td>\n",
       "      <td>19.822962</td>\n",
       "      <td>2021-11-04</td>\n",
       "      <td>11</td>\n",
       "      <td>8</td>\n",
       "      <td>50</td>\n",
       "      <td>0</td>\n",
       "    </tr>\n",
       "    <tr>\n",
       "      <th>17969</th>\n",
       "      <td>1534</td>\n",
       "      <td>Альберт</td>\n",
       "      <td>25</td>\n",
       "      <td>Краснодар</td>\n",
       "      <td>free</td>\n",
       "      <td>2840.423057</td>\n",
       "      <td>21.409799</td>\n",
       "      <td>2021-11-16</td>\n",
       "      <td>11</td>\n",
       "      <td>8</td>\n",
       "      <td>50</td>\n",
       "      <td>0</td>\n",
       "    </tr>\n",
       "    <tr>\n",
       "      <th>17970</th>\n",
       "      <td>1534</td>\n",
       "      <td>Альберт</td>\n",
       "      <td>25</td>\n",
       "      <td>Краснодар</td>\n",
       "      <td>free</td>\n",
       "      <td>3826.185507</td>\n",
       "      <td>18.435051</td>\n",
       "      <td>2021-11-18</td>\n",
       "      <td>11</td>\n",
       "      <td>8</td>\n",
       "      <td>50</td>\n",
       "      <td>0</td>\n",
       "    </tr>\n",
       "    <tr>\n",
       "      <th>17971</th>\n",
       "      <td>1534</td>\n",
       "      <td>Альберт</td>\n",
       "      <td>25</td>\n",
       "      <td>Краснодар</td>\n",
       "      <td>free</td>\n",
       "      <td>2902.308661</td>\n",
       "      <td>16.674362</td>\n",
       "      <td>2021-11-27</td>\n",
       "      <td>11</td>\n",
       "      <td>8</td>\n",
       "      <td>50</td>\n",
       "      <td>0</td>\n",
       "    </tr>\n",
       "    <tr>\n",
       "      <th>17972</th>\n",
       "      <td>1534</td>\n",
       "      <td>Альберт</td>\n",
       "      <td>25</td>\n",
       "      <td>Краснодар</td>\n",
       "      <td>free</td>\n",
       "      <td>2371.711192</td>\n",
       "      <td>15.893917</td>\n",
       "      <td>2021-12-29</td>\n",
       "      <td>12</td>\n",
       "      <td>8</td>\n",
       "      <td>50</td>\n",
       "      <td>0</td>\n",
       "    </tr>\n",
       "  </tbody>\n",
       "</table>\n",
       "<p>17973 rows × 12 columns</p>\n",
       "</div>"
      ],
      "text/plain": [
       "       user_id     name  age       city subscription_type     distance  \\\n",
       "0            1     Кира   22     Тюмень             ultra  4409.919140   \n",
       "1            1     Кира   22     Тюмень             ultra  2617.592153   \n",
       "2            1     Кира   22     Тюмень             ultra   754.159807   \n",
       "3            1     Кира   22     Тюмень             ultra  2694.783254   \n",
       "4            1     Кира   22     Тюмень             ultra  4028.687306   \n",
       "...        ...      ...  ...        ...               ...          ...   \n",
       "17968     1534  Альберт   25  Краснодар              free  3781.098080   \n",
       "17969     1534  Альберт   25  Краснодар              free  2840.423057   \n",
       "17970     1534  Альберт   25  Краснодар              free  3826.185507   \n",
       "17971     1534  Альберт   25  Краснодар              free  2902.308661   \n",
       "17972     1534  Альберт   25  Краснодар              free  2371.711192   \n",
       "\n",
       "        duration       date  month  minute_price  start_ride_price  \\\n",
       "0      25.599769 2021-01-01      1             6                 0   \n",
       "1      15.816871 2021-01-18      1             6                 0   \n",
       "2       6.232113 2021-04-20      4             6                 0   \n",
       "3      18.511000 2021-08-11      8             6                 0   \n",
       "4      26.265803 2021-08-28      8             6                 0   \n",
       "...          ...        ...    ...           ...               ...   \n",
       "17968  19.822962 2021-11-04     11             8                50   \n",
       "17969  21.409799 2021-11-16     11             8                50   \n",
       "17970  18.435051 2021-11-18     11             8                50   \n",
       "17971  16.674362 2021-11-27     11             8                50   \n",
       "17972  15.893917 2021-12-29     12             8                50   \n",
       "\n",
       "       subscription_fee  \n",
       "0                   199  \n",
       "1                   199  \n",
       "2                   199  \n",
       "3                   199  \n",
       "4                   199  \n",
       "...                 ...  \n",
       "17968                 0  \n",
       "17969                 0  \n",
       "17970                 0  \n",
       "17971                 0  \n",
       "17972                 0  \n",
       "\n",
       "[17973 rows x 12 columns]"
      ]
     },
     "execution_count": 24,
     "metadata": {},
     "output_type": "execute_result"
    }
   ],
   "source": [
    "full_data = users.merge(rides).merge(subscriptions).drop_duplicates().reset_index(drop=True)\n",
    "\n",
    "if full_data.shape == (rides.shape[0], users.shape[1] + rides.shape[1] + subscriptions.shape[1] - 2):\n",
    "    print('Объединение прошло успешно.')\n",
    "else:\n",
    "    print('При объединении произошла ошибка.')\n",
    "    \n",
    "full_data"
   ]
  },
  {
   "cell_type": "code",
   "execution_count": 25,
   "id": "b1bfc496",
   "metadata": {},
   "outputs": [],
   "source": [
    "full_data_without_subscription = full_data.query('subscription_type == \"free\"')\n",
    "full_data_with_subscription = full_data.query('subscription_type == \"ultra\"')"
   ]
  },
  {
   "cell_type": "markdown",
   "id": "214b56bc",
   "metadata": {},
   "source": [
    "Для визуализации распределений расстояния и длительности воспользуемся гистограммами и разместим их на одном окне для большей наглядности."
   ]
  },
  {
   "cell_type": "code",
   "execution_count": 26,
   "id": "10cb5723",
   "metadata": {},
   "outputs": [
    {
     "data": {
      "image/png": "[encoded data removed]",
      "text/plain": [
       "<Figure size 432x288 with 1 Axes>"
      ]
     },
     "metadata": {
      "needs_background": "light"
     },
     "output_type": "display_data"
    }
   ],
   "source": [
    "plt.hist(full_data_without_subscription['distance'], label='without subscription', alpha=0.35, bins=30)\n",
    "plt.hist(full_data_with_subscription['distance'], label='with subscription', alpha=0.35, bins=30)\n",
    "plt.title('Распределение расстояния поездок пользователей с подпиской и без подписки')\n",
    "plt.xlabel('Расстояние поездки')\n",
    "plt.ylabel('Частота')\n",
    "plt.legend()\n",
    "plt.show()"
   ]
  },
  {
   "cell_type": "markdown",
   "id": "f7a0a68d",
   "metadata": {},
   "source": [
    "Оба распределения имеют схожую форму, оба близки к нормальному и имеют локальный максимум слева от \"колокола\". Отметим, что в среднем пользователи без подписки совершают поездки на большие расстояния, чем пользователи с подпиской."
   ]
  },
  {
   "cell_type": "code",
   "execution_count": 27,
   "id": "0c70a761",
   "metadata": {},
   "outputs": [
    {
     "data": {
      "image/png": "[encoded data removed]",
      "text/plain": [
       "<Figure size 432x288 with 1 Axes>"
      ]
     },
     "metadata": {
      "needs_background": "light"
     },
     "output_type": "display_data"
    }
   ],
   "source": [
    "plt.hist(full_data_without_subscription['duration'], label='without subscription', alpha=0.35, bins=20)\n",
    "plt.hist(full_data_with_subscription['duration'], label='with subscription', alpha=0.35, bins=20)\n",
    "plt.title('Распределение продолжительности поездок пользователей с подпиской и без подпиской')\n",
    "plt.ylabel('Частота')\n",
    "plt.xlabel('Продолжительность поездки')\n",
    "plt.legend()\n",
    "plt.show()"
   ]
  },
  {
   "cell_type": "markdown",
   "id": "10130177",
   "metadata": {},
   "source": [
    "Ситуация схожа с предыдущей, в этом случае пользователи без подписки в основном совершают более длительные поездки, чем пользователи с подпиской."
   ]
  },
  {
   "cell_type": "markdown",
   "id": "26d8b83d",
   "metadata": {},
   "source": [
    "Распределения расстояния и времени поездок для пользователей обеих категорий имеют схожие распределения, близкие к нормальному. В среднем пользователи без подписки совершают поездки на большие расстояния и более длительные, чем пользователи с подпиской."
   ]
  },
  {
   "cell_type": "markdown",
   "id": "402d620f",
   "metadata": {},
   "source": [
    "### Подсчёт выручки"
   ]
  },
  {
   "cell_type": "markdown",
   "id": "18e24cfd",
   "metadata": {},
   "source": [
    "На этом этапе посчитаем помесячную выручку, которую принёс каждый пользователь."
   ]
  },
  {
   "cell_type": "markdown",
   "id": "23d04d6a",
   "metadata": {},
   "source": [
    "Создадим сводную таблицу по идентификатору пользователя и месяцу со следующими столбцами:\n",
    "* `distance` - суммарное расстояние поездок пользователя за месяц;\n",
    "* `rides` - число поездок пользователя за месяц;\n",
    "* `duration` - суммарная длительность поездок пользователя за месяц."
   ]
  },
  {
   "cell_type": "code",
   "execution_count": 28,
   "id": "53049e0a",
   "metadata": {
    "scrolled": false
   },
   "outputs": [
    {
     "data": {
      "text/html": [
       "<div>\n",
       "<style scoped>\n",
       "    .dataframe tbody tr th:only-of-type {\n",
       "        vertical-align: middle;\n",
       "    }\n",
       "\n",
       "    .dataframe tbody tr th {\n",
       "        vertical-align: top;\n",
       "    }\n",
       "\n",
       "    .dataframe thead th {\n",
       "        text-align: right;\n",
       "    }\n",
       "</style>\n",
       "<table border=\"1\" class=\"dataframe\">\n",
       "  <thead>\n",
       "    <tr style=\"text-align: right;\">\n",
       "      <th></th>\n",
       "      <th></th>\n",
       "      <th>distance</th>\n",
       "      <th>rides</th>\n",
       "      <th>duration</th>\n",
       "    </tr>\n",
       "    <tr>\n",
       "      <th>user_id</th>\n",
       "      <th>month</th>\n",
       "      <th></th>\n",
       "      <th></th>\n",
       "      <th></th>\n",
       "    </tr>\n",
       "  </thead>\n",
       "  <tbody>\n",
       "    <tr>\n",
       "      <th rowspan=\"5\" valign=\"top\">1</th>\n",
       "      <th>1</th>\n",
       "      <td>7027.511294</td>\n",
       "      <td>2</td>\n",
       "      <td>42</td>\n",
       "    </tr>\n",
       "    <tr>\n",
       "      <th>4</th>\n",
       "      <td>754.159807</td>\n",
       "      <td>1</td>\n",
       "      <td>7</td>\n",
       "    </tr>\n",
       "    <tr>\n",
       "      <th>8</th>\n",
       "      <td>6723.470560</td>\n",
       "      <td>2</td>\n",
       "      <td>45</td>\n",
       "    </tr>\n",
       "    <tr>\n",
       "      <th>10</th>\n",
       "      <td>5809.911100</td>\n",
       "      <td>2</td>\n",
       "      <td>32</td>\n",
       "    </tr>\n",
       "    <tr>\n",
       "      <th>11</th>\n",
       "      <td>7003.499363</td>\n",
       "      <td>3</td>\n",
       "      <td>54</td>\n",
       "    </tr>\n",
       "    <tr>\n",
       "      <th>...</th>\n",
       "      <th>...</th>\n",
       "      <td>...</td>\n",
       "      <td>...</td>\n",
       "      <td>...</td>\n",
       "    </tr>\n",
       "    <tr>\n",
       "      <th rowspan=\"5\" valign=\"top\">1534</th>\n",
       "      <th>6</th>\n",
       "      <td>3409.468534</td>\n",
       "      <td>2</td>\n",
       "      <td>25</td>\n",
       "    </tr>\n",
       "    <tr>\n",
       "      <th>8</th>\n",
       "      <td>7622.453034</td>\n",
       "      <td>2</td>\n",
       "      <td>48</td>\n",
       "    </tr>\n",
       "    <tr>\n",
       "      <th>9</th>\n",
       "      <td>4928.173852</td>\n",
       "      <td>1</td>\n",
       "      <td>23</td>\n",
       "    </tr>\n",
       "    <tr>\n",
       "      <th>11</th>\n",
       "      <td>13350.015305</td>\n",
       "      <td>4</td>\n",
       "      <td>77</td>\n",
       "    </tr>\n",
       "    <tr>\n",
       "      <th>12</th>\n",
       "      <td>2371.711192</td>\n",
       "      <td>1</td>\n",
       "      <td>16</td>\n",
       "    </tr>\n",
       "  </tbody>\n",
       "</table>\n",
       "<p>11300 rows × 3 columns</p>\n",
       "</div>"
      ],
      "text/plain": [
       "                   distance  rides  duration\n",
       "user_id month                               \n",
       "1       1       7027.511294      2        42\n",
       "        4        754.159807      1         7\n",
       "        8       6723.470560      2        45\n",
       "        10      5809.911100      2        32\n",
       "        11      7003.499363      3        54\n",
       "...                     ...    ...       ...\n",
       "1534    6       3409.468534      2        25\n",
       "        8       7622.453034      2        48\n",
       "        9       4928.173852      1        23\n",
       "        11     13350.015305      4        77\n",
       "        12      2371.711192      1        16\n",
       "\n",
       "[11300 rows x 3 columns]"
      ]
     },
     "execution_count": 28,
     "metadata": {},
     "output_type": "execute_result"
    }
   ],
   "source": [
    "pivot = full_data.groupby(['user_id', 'month']).agg({\n",
    "    'distance': 'sum', \n",
    "    'name': 'count', \n",
    "    'duration': 'sum'\n",
    "})\n",
    "pivot = pivot.rename(columns={'name': 'rides'})\n",
    "pivot['duration'] = np.ceil(pivot['duration']).astype('int')\n",
    "pivot"
   ]
  },
  {
   "cell_type": "markdown",
   "id": "35d8cf86",
   "metadata": {},
   "source": [
    "Добавим в эту таблицу столбец с помесячной выручкой для каждого пользователя."
   ]
  },
  {
   "cell_type": "code",
   "execution_count": 29,
   "id": "b55a99ed",
   "metadata": {},
   "outputs": [
    {
     "data": {
      "text/html": [
       "<div>\n",
       "<style scoped>\n",
       "    .dataframe tbody tr th:only-of-type {\n",
       "        vertical-align: middle;\n",
       "    }\n",
       "\n",
       "    .dataframe tbody tr th {\n",
       "        vertical-align: top;\n",
       "    }\n",
       "\n",
       "    .dataframe thead th {\n",
       "        text-align: right;\n",
       "    }\n",
       "</style>\n",
       "<table border=\"1\" class=\"dataframe\">\n",
       "  <thead>\n",
       "    <tr style=\"text-align: right;\">\n",
       "      <th></th>\n",
       "      <th></th>\n",
       "      <th>distance</th>\n",
       "      <th>rides</th>\n",
       "      <th>duration</th>\n",
       "      <th>revenue</th>\n",
       "    </tr>\n",
       "    <tr>\n",
       "      <th>user_id</th>\n",
       "      <th>month</th>\n",
       "      <th></th>\n",
       "      <th></th>\n",
       "      <th></th>\n",
       "      <th></th>\n",
       "    </tr>\n",
       "  </thead>\n",
       "  <tbody>\n",
       "    <tr>\n",
       "      <th rowspan=\"6\" valign=\"top\">1</th>\n",
       "      <th>1</th>\n",
       "      <td>7027.511294</td>\n",
       "      <td>2</td>\n",
       "      <td>42</td>\n",
       "      <td>451.0</td>\n",
       "    </tr>\n",
       "    <tr>\n",
       "      <th>4</th>\n",
       "      <td>754.159807</td>\n",
       "      <td>1</td>\n",
       "      <td>7</td>\n",
       "      <td>241.0</td>\n",
       "    </tr>\n",
       "    <tr>\n",
       "      <th>8</th>\n",
       "      <td>6723.470560</td>\n",
       "      <td>2</td>\n",
       "      <td>45</td>\n",
       "      <td>469.0</td>\n",
       "    </tr>\n",
       "    <tr>\n",
       "      <th>10</th>\n",
       "      <td>5809.911100</td>\n",
       "      <td>2</td>\n",
       "      <td>32</td>\n",
       "      <td>391.0</td>\n",
       "    </tr>\n",
       "    <tr>\n",
       "      <th>11</th>\n",
       "      <td>7003.499363</td>\n",
       "      <td>3</td>\n",
       "      <td>54</td>\n",
       "      <td>523.0</td>\n",
       "    </tr>\n",
       "    <tr>\n",
       "      <th>12</th>\n",
       "      <td>6751.629942</td>\n",
       "      <td>2</td>\n",
       "      <td>28</td>\n",
       "      <td>367.0</td>\n",
       "    </tr>\n",
       "    <tr>\n",
       "      <th rowspan=\"7\" valign=\"top\">2</th>\n",
       "      <th>3</th>\n",
       "      <td>10187.723006</td>\n",
       "      <td>3</td>\n",
       "      <td>61</td>\n",
       "      <td>565.0</td>\n",
       "    </tr>\n",
       "    <tr>\n",
       "      <th>4</th>\n",
       "      <td>6164.381824</td>\n",
       "      <td>2</td>\n",
       "      <td>40</td>\n",
       "      <td>439.0</td>\n",
       "    </tr>\n",
       "    <tr>\n",
       "      <th>6</th>\n",
       "      <td>3255.338202</td>\n",
       "      <td>1</td>\n",
       "      <td>14</td>\n",
       "      <td>283.0</td>\n",
       "    </tr>\n",
       "    <tr>\n",
       "      <th>7</th>\n",
       "      <td>6780.722964</td>\n",
       "      <td>2</td>\n",
       "      <td>47</td>\n",
       "      <td>481.0</td>\n",
       "    </tr>\n",
       "    <tr>\n",
       "      <th>8</th>\n",
       "      <td>923.007439</td>\n",
       "      <td>1</td>\n",
       "      <td>7</td>\n",
       "      <td>241.0</td>\n",
       "    </tr>\n",
       "    <tr>\n",
       "      <th>10</th>\n",
       "      <td>2824.636598</td>\n",
       "      <td>1</td>\n",
       "      <td>19</td>\n",
       "      <td>313.0</td>\n",
       "    </tr>\n",
       "    <tr>\n",
       "      <th>12</th>\n",
       "      <td>3828.248580</td>\n",
       "      <td>1</td>\n",
       "      <td>12</td>\n",
       "      <td>271.0</td>\n",
       "    </tr>\n",
       "    <tr>\n",
       "      <th rowspan=\"7\" valign=\"top\">3</th>\n",
       "      <th>1</th>\n",
       "      <td>3061.777147</td>\n",
       "      <td>1</td>\n",
       "      <td>13</td>\n",
       "      <td>277.0</td>\n",
       "    </tr>\n",
       "    <tr>\n",
       "      <th>2</th>\n",
       "      <td>5421.152016</td>\n",
       "      <td>2</td>\n",
       "      <td>38</td>\n",
       "      <td>427.0</td>\n",
       "    </tr>\n",
       "    <tr>\n",
       "      <th>4</th>\n",
       "      <td>2956.651632</td>\n",
       "      <td>1</td>\n",
       "      <td>21</td>\n",
       "      <td>325.0</td>\n",
       "    </tr>\n",
       "    <tr>\n",
       "      <th>5</th>\n",
       "      <td>9064.026918</td>\n",
       "      <td>3</td>\n",
       "      <td>62</td>\n",
       "      <td>571.0</td>\n",
       "    </tr>\n",
       "    <tr>\n",
       "      <th>7</th>\n",
       "      <td>10919.595403</td>\n",
       "      <td>3</td>\n",
       "      <td>66</td>\n",
       "      <td>595.0</td>\n",
       "    </tr>\n",
       "    <tr>\n",
       "      <th>9</th>\n",
       "      <td>2891.012822</td>\n",
       "      <td>1</td>\n",
       "      <td>23</td>\n",
       "      <td>337.0</td>\n",
       "    </tr>\n",
       "    <tr>\n",
       "      <th>12</th>\n",
       "      <td>2593.381928</td>\n",
       "      <td>1</td>\n",
       "      <td>13</td>\n",
       "      <td>277.0</td>\n",
       "    </tr>\n",
       "    <tr>\n",
       "      <th rowspan=\"5\" valign=\"top\">4</th>\n",
       "      <th>2</th>\n",
       "      <td>6339.696747</td>\n",
       "      <td>2</td>\n",
       "      <td>49</td>\n",
       "      <td>493.0</td>\n",
       "    </tr>\n",
       "    <tr>\n",
       "      <th>6</th>\n",
       "      <td>6753.041806</td>\n",
       "      <td>2</td>\n",
       "      <td>44</td>\n",
       "      <td>463.0</td>\n",
       "    </tr>\n",
       "    <tr>\n",
       "      <th>7</th>\n",
       "      <td>10491.175555</td>\n",
       "      <td>3</td>\n",
       "      <td>56</td>\n",
       "      <td>535.0</td>\n",
       "    </tr>\n",
       "    <tr>\n",
       "      <th>8</th>\n",
       "      <td>4649.488243</td>\n",
       "      <td>1</td>\n",
       "      <td>36</td>\n",
       "      <td>415.0</td>\n",
       "    </tr>\n",
       "    <tr>\n",
       "      <th>10</th>\n",
       "      <td>13260.762274</td>\n",
       "      <td>4</td>\n",
       "      <td>78</td>\n",
       "      <td>667.0</td>\n",
       "    </tr>\n",
       "  </tbody>\n",
       "</table>\n",
       "</div>"
      ],
      "text/plain": [
       "                   distance  rides  duration  revenue\n",
       "user_id month                                        \n",
       "1       1       7027.511294      2        42    451.0\n",
       "        4        754.159807      1         7    241.0\n",
       "        8       6723.470560      2        45    469.0\n",
       "        10      5809.911100      2        32    391.0\n",
       "        11      7003.499363      3        54    523.0\n",
       "        12      6751.629942      2        28    367.0\n",
       "2       3      10187.723006      3        61    565.0\n",
       "        4       6164.381824      2        40    439.0\n",
       "        6       3255.338202      1        14    283.0\n",
       "        7       6780.722964      2        47    481.0\n",
       "        8        923.007439      1         7    241.0\n",
       "        10      2824.636598      1        19    313.0\n",
       "        12      3828.248580      1        12    271.0\n",
       "3       1       3061.777147      1        13    277.0\n",
       "        2       5421.152016      2        38    427.0\n",
       "        4       2956.651632      1        21    325.0\n",
       "        5       9064.026918      3        62    571.0\n",
       "        7      10919.595403      3        66    595.0\n",
       "        9       2891.012822      1        23    337.0\n",
       "        12      2593.381928      1        13    277.0\n",
       "4       2       6339.696747      2        49    493.0\n",
       "        6       6753.041806      2        44    463.0\n",
       "        7      10491.175555      3        56    535.0\n",
       "        8       4649.488243      1        36    415.0\n",
       "        10     13260.762274      4        78    667.0"
      ]
     },
     "execution_count": 29,
     "metadata": {},
     "output_type": "execute_result"
    }
   ],
   "source": [
    "def get_revenue(row):    \n",
    "    subscription_type = users[users['user_id'] == row.name[0]]['subscription_type'].iloc[0]\n",
    "    subscription_data = subscriptions[subscriptions['subscription_type'] == subscription_type]\n",
    "    return (\n",
    "        (subscription_data['start_ride_price'] * row['rides']\n",
    "        + subscription_data['minute_price'] * row['duration']\n",
    "        + subscription_data['subscription_fee']).iloc[0]\n",
    "    )\n",
    "pivot['revenue'] = pivot.apply(get_revenue, axis=1)\n",
    "pivot.head(25)"
   ]
  },
  {
   "cell_type": "markdown",
   "id": "29b3301a",
   "metadata": {},
   "source": [
    "Посмотрим на распределение значений помесячной выручки. <br>\n",
    "Узнаем среднюю, минимальную и максимальную выручку с пользователя за месяц."
   ]
  },
  {
   "cell_type": "code",
   "execution_count": 30,
   "id": "b9a02233",
   "metadata": {
    "scrolled": false
   },
   "outputs": [
    {
     "data": {
      "image/png": "[encoded data removed]",
      "text/plain": [
       "<Figure size 432x288 with 1 Axes>"
      ]
     },
     "metadata": {
      "needs_background": "light"
     },
     "output_type": "display_data"
    },
    {
     "data": {
      "text/plain": [
       "count    11300.000000\n",
       "mean       340.565575\n",
       "std        150.568495\n",
       "min         74.000000\n",
       "25%        234.000000\n",
       "50%        319.000000\n",
       "75%        412.000000\n",
       "max       1428.000000\n",
       "Name: revenue, dtype: float64"
      ]
     },
     "execution_count": 30,
     "metadata": {},
     "output_type": "execute_result"
    }
   ],
   "source": [
    "pivot['revenue'].hist(bins=50)\n",
    "plt.title('Распределение помесячной выручки')\n",
    "plt.ylabel('Частота')\n",
    "plt.xlabel('Выручка')\n",
    "plt.show()\n",
    "\n",
    "pivot['revenue'].describe()"
   ]
  },
  {
   "cell_type": "markdown",
   "id": "2a09c104",
   "metadata": {},
   "source": [
    "Большого числа выбросов нет, есть лишь небольшое количество значений, заметно отличающихся от общей массы. \n",
    "* Средняя выручка с одного пользователя за месяц приблизительно равна `~340.6 руб.`;\n",
    "* Минимальная - `74 руб.`;\n",
    "* Максимальная - `1428 руб.`."
   ]
  },
  {
   "cell_type": "markdown",
   "id": "75c96b8a",
   "metadata": {},
   "source": [
    "Теперь посмотрим на общую прибыль за каждый месяц."
   ]
  },
  {
   "cell_type": "code",
   "execution_count": 31,
   "id": "aeac3a25",
   "metadata": {},
   "outputs": [
    {
     "data": {
      "text/plain": [
       "month\n",
       "2     288330.0\n",
       "11    303086.0\n",
       "10    312946.0\n",
       "4     320370.0\n",
       "9     320631.0\n",
       "8     323068.0\n",
       "12    323351.0\n",
       "7     326064.0\n",
       "3     327106.0\n",
       "6     333556.0\n",
       "5     334525.0\n",
       "1     335358.0\n",
       "Name: revenue, dtype: float64"
      ]
     },
     "execution_count": 31,
     "metadata": {},
     "output_type": "execute_result"
    }
   ],
   "source": [
    "pivot.groupby('month')['revenue'].sum().sort_values()"
   ]
  },
  {
   "cell_type": "markdown",
   "id": "1ca3ba93",
   "metadata": {},
   "source": [
    "Наиболее прибыльный месяц - `январь`, наименее прибыльный - `февраль`. "
   ]
  },
  {
   "cell_type": "markdown",
   "id": "b80cb642",
   "metadata": {},
   "source": [
    "Мы создали сводную таблицу, рассчитали помесячную выручку для каждого пользователя, провели небольшой анализ полученных значений.<br>\n",
    "В результате получили следующее:\n",
    "* Средняя помесячная выручка с одного пользователя - `~340.6 руб.`;\n",
    "* Минимальная помесячная выручка с одного пользователя - `74 руб.`;\n",
    "* Максимальная помесячная выручка с одного пользователя - `1428 руб.`;\n",
    "* Наиболее прибыльный месяц - `январь`;\n",
    "* Наименее прибыльный месяц - `февраль`."
   ]
  },
  {
   "cell_type": "markdown",
   "id": "41545ac0",
   "metadata": {},
   "source": [
    "### Проверка гипотез"
   ]
  },
  {
   "cell_type": "markdown",
   "id": "8842741f",
   "metadata": {},
   "source": [
    "Необходимо  проверить следующие гипотезы:\n",
    "* Тратят ли пользователи с подпиской больше времени на поездки?\n",
    "* Можно ли сказать, что среднее расстояние, которое проезжают пользователи с подпиской за одну поездку, не превышает `3130 метров`?\n",
    "* Будет ли помесячная выручка от пользователей с подпиской по месяцам выше, чем выручка от пользователей без подписки?\n",
    "\n",
    "И ответить на вопрос: \"Представьте такую ситуацию: техническая команда сервиса обновила сервера, с которыми взаимодействует мобильное приложение. Она надеется, что из-за этого количество обращений в техподдержку значимо снизилось. Некоторый файл содержит для каждого пользователя данные о количестве обращений до обновления и после него. Какой тест вам понадобился бы для проверки этой гипотезы?\""
   ]
  },
  {
   "cell_type": "markdown",
   "id": "263f4627",
   "metadata": {},
   "source": [
    "Проверим первую гипотезу.\n",
    "<br>\n",
    "Сформулируем нулевую гипотезу `H0` - пользователи с подпиской тратят на поездки столько же времени, сколько пользователи без подписки. Альтернативная гипотеза `H1` - пользователи с подпиской тратят больше времени.\n",
    "<br>\n",
    "Воспользуемся `t-тестом` для двух независимых выборок. Значение статистической значимости положим равным `0.05`."
   ]
  },
  {
   "cell_type": "code",
   "execution_count": 32,
   "id": "c5861f67",
   "metadata": {
    "scrolled": true
   },
   "outputs": [
    {
     "name": "stdout",
     "output_type": "stream",
     "text": [
      "Есть статистически значимая разница:\n",
      "пользователи с подпиской тратят больше времени на поездки.\n"
     ]
    }
   ],
   "source": [
    "durations_with_subscription = full_data_with_subscription['duration'].sample(n=500)\n",
    "durations_without_subscription = full_data_without_subscription['duration'].sample(n=500)\n",
    "\n",
    "text_success = '''Есть статистически значимая разница:\n",
    "пользователи с подпиской тратят больше времени на поездки.'''\n",
    "\n",
    "text_fail = '''Нет статистически значимой разницы:\n",
    "время поездок пользователей с подпиской и без подписки схоже или пользователи с подпиской тратят меньше времени.'''\n",
    "\n",
    "alpha = .05\n",
    "\n",
    "res = st.ttest_ind(durations_with_subscription, durations_without_subscription, alternative='greater')\n",
    "\n",
    "if res.pvalue < alpha:\n",
    "    print(text_success)\n",
    "else:\n",
    "    print(text_fail)"
   ]
  },
  {
   "cell_type": "markdown",
   "id": "31041ea6",
   "metadata": {},
   "source": [
    "Гипотеза подтвердилась."
   ]
  },
  {
   "cell_type": "markdown",
   "id": "01adbc34",
   "metadata": {},
   "source": [
    "Проверим следующую гипотезу: \"Можно ли сказать, что среднее расстояние, которое проезжают пользователи с подпиской за одну поездку, не превышает `3130 метров`?\"<br>\n",
    "`H0` - среднее расстояние, проезжаемое пользователями с подпиской за одну поездку равно `3130`.\n",
    "<br>\n",
    "`H1` - среднее расстояние, проезжаемое пользователями с подпиской за одну поездку меньше `3130`."
   ]
  },
  {
   "cell_type": "code",
   "execution_count": 33,
   "id": "43c39049",
   "metadata": {
    "scrolled": true
   },
   "outputs": [
    {
     "name": "stdout",
     "output_type": "stream",
     "text": [
      "Нет статистически значимой разницы:\n",
      "среднее расстояние, проезжаемое пользователями за одну поездку близко к 3130 или больше.\n"
     ]
    }
   ],
   "source": [
    "durations_with_subscription = full_data_with_subscription['distance'].sample(n=500)\n",
    "\n",
    "value_to_check = 3130\n",
    "\n",
    "text_success = f'''Есть статистически значимая разница:\n",
    "среднее расстояние, проезжаемое пользователями за одну поездку меньше {value_to_check}.'''\n",
    "\n",
    "text_fail = f'''Нет статистически значимой разницы:\n",
    "среднее расстояние, проезжаемое пользователями за одну поездку близко к {value_to_check} или больше.'''\n",
    "\n",
    "res = st.ttest_1samp(durations_with_subscription, value_to_check, alternative='less')\n",
    "\n",
    "if res.pvalue < alpha:\n",
    "    print(text_success)\n",
    "else:\n",
    "    print(text_fail)"
   ]
  },
  {
   "cell_type": "markdown",
   "id": "c5dbada6",
   "metadata": {},
   "source": [
    "Гипотеза не подтвердилась."
   ]
  },
  {
   "cell_type": "markdown",
   "id": "c6952a96",
   "metadata": {},
   "source": [
    "Проверим последнюю данную гипотезу: \"Будет ли помесячная выручка от пользователей с подпиской по месяцам выше, чем выручка от пользователей без подписки?\"\n",
    "<br>\n",
    "`H0` - помесячная выручка для обеих групп равна.\n",
    "<br>\n",
    "`H1` - от пользователей с подпиской по месяцам выше, чем выручка от пользователей без подписки."
   ]
  },
  {
   "cell_type": "markdown",
   "id": "7f0f872c",
   "metadata": {},
   "source": [
    "Подготовим сводные таблицы с прибылью за каждый месяц для обеих групп."
   ]
  },
  {
   "cell_type": "code",
   "execution_count": 34,
   "id": "8efeb4ac",
   "metadata": {
    "scrolled": false
   },
   "outputs": [
    {
     "data": {
      "text/html": [
       "<div>\n",
       "<style scoped>\n",
       "    .dataframe tbody tr th:only-of-type {\n",
       "        vertical-align: middle;\n",
       "    }\n",
       "\n",
       "    .dataframe tbody tr th {\n",
       "        vertical-align: top;\n",
       "    }\n",
       "\n",
       "    .dataframe thead th {\n",
       "        text-align: right;\n",
       "    }\n",
       "</style>\n",
       "<table border=\"1\" class=\"dataframe\">\n",
       "  <thead>\n",
       "    <tr style=\"text-align: right;\">\n",
       "      <th></th>\n",
       "      <th>revenue</th>\n",
       "    </tr>\n",
       "    <tr>\n",
       "      <th>month</th>\n",
       "      <th></th>\n",
       "    </tr>\n",
       "  </thead>\n",
       "  <tbody>\n",
       "    <tr>\n",
       "      <th>1</th>\n",
       "      <td>66697</td>\n",
       "    </tr>\n",
       "    <tr>\n",
       "      <th>2</th>\n",
       "      <td>54325</td>\n",
       "    </tr>\n",
       "    <tr>\n",
       "      <th>3</th>\n",
       "      <td>64003</td>\n",
       "    </tr>\n",
       "    <tr>\n",
       "      <th>4</th>\n",
       "      <td>63091</td>\n",
       "    </tr>\n",
       "    <tr>\n",
       "      <th>5</th>\n",
       "      <td>68839</td>\n",
       "    </tr>\n",
       "    <tr>\n",
       "      <th>6</th>\n",
       "      <td>64831</td>\n",
       "    </tr>\n",
       "    <tr>\n",
       "      <th>7</th>\n",
       "      <td>66055</td>\n",
       "    </tr>\n",
       "    <tr>\n",
       "      <th>8</th>\n",
       "      <td>62317</td>\n",
       "    </tr>\n",
       "    <tr>\n",
       "      <th>9</th>\n",
       "      <td>58891</td>\n",
       "    </tr>\n",
       "    <tr>\n",
       "      <th>10</th>\n",
       "      <td>60103</td>\n",
       "    </tr>\n",
       "    <tr>\n",
       "      <th>11</th>\n",
       "      <td>56299</td>\n",
       "    </tr>\n",
       "    <tr>\n",
       "      <th>12</th>\n",
       "      <td>59407</td>\n",
       "    </tr>\n",
       "  </tbody>\n",
       "</table>\n",
       "</div>"
      ],
      "text/plain": [
       "       revenue\n",
       "month         \n",
       "1        66697\n",
       "2        54325\n",
       "3        64003\n",
       "4        63091\n",
       "5        68839\n",
       "6        64831\n",
       "7        66055\n",
       "8        62317\n",
       "9        58891\n",
       "10       60103\n",
       "11       56299\n",
       "12       59407"
      ]
     },
     "metadata": {},
     "output_type": "display_data"
    },
    {
     "data": {
      "text/html": [
       "<div>\n",
       "<style scoped>\n",
       "    .dataframe tbody tr th:only-of-type {\n",
       "        vertical-align: middle;\n",
       "    }\n",
       "\n",
       "    .dataframe tbody tr th {\n",
       "        vertical-align: top;\n",
       "    }\n",
       "\n",
       "    .dataframe thead th {\n",
       "        text-align: right;\n",
       "    }\n",
       "</style>\n",
       "<table border=\"1\" class=\"dataframe\">\n",
       "  <thead>\n",
       "    <tr style=\"text-align: right;\">\n",
       "      <th></th>\n",
       "      <th>revenue</th>\n",
       "    </tr>\n",
       "    <tr>\n",
       "      <th>month</th>\n",
       "      <th></th>\n",
       "    </tr>\n",
       "  </thead>\n",
       "  <tbody>\n",
       "    <tr>\n",
       "      <th>1</th>\n",
       "      <td>193328</td>\n",
       "    </tr>\n",
       "    <tr>\n",
       "      <th>2</th>\n",
       "      <td>165392</td>\n",
       "    </tr>\n",
       "    <tr>\n",
       "      <th>3</th>\n",
       "      <td>186576</td>\n",
       "    </tr>\n",
       "    <tr>\n",
       "      <th>4</th>\n",
       "      <td>185192</td>\n",
       "    </tr>\n",
       "    <tr>\n",
       "      <th>5</th>\n",
       "      <td>187566</td>\n",
       "    </tr>\n",
       "    <tr>\n",
       "      <th>6</th>\n",
       "      <td>191854</td>\n",
       "    </tr>\n",
       "    <tr>\n",
       "      <th>7</th>\n",
       "      <td>184632</td>\n",
       "    </tr>\n",
       "    <tr>\n",
       "      <th>8</th>\n",
       "      <td>186652</td>\n",
       "    </tr>\n",
       "    <tr>\n",
       "      <th>9</th>\n",
       "      <td>193352</td>\n",
       "    </tr>\n",
       "    <tr>\n",
       "      <th>10</th>\n",
       "      <td>181196</td>\n",
       "    </tr>\n",
       "    <tr>\n",
       "      <th>11</th>\n",
       "      <td>178438</td>\n",
       "    </tr>\n",
       "    <tr>\n",
       "      <th>12</th>\n",
       "      <td>194416</td>\n",
       "    </tr>\n",
       "  </tbody>\n",
       "</table>\n",
       "</div>"
      ],
      "text/plain": [
       "       revenue\n",
       "month         \n",
       "1       193328\n",
       "2       165392\n",
       "3       186576\n",
       "4       185192\n",
       "5       187566\n",
       "6       191854\n",
       "7       184632\n",
       "8       186652\n",
       "9       193352\n",
       "10      181196\n",
       "11      178438\n",
       "12      194416"
      ]
     },
     "metadata": {},
     "output_type": "display_data"
    }
   ],
   "source": [
    "def get_revenue_ultra_for_month(row):\n",
    "    subscription_data = subscriptions[subscriptions['subscription_type'] == 'ultra']\n",
    "    return (\n",
    "        (subscription_data['start_ride_price'] * row['rides']\n",
    "        + subscription_data['minute_price'] * row['duration']\n",
    "        + subscription_data['subscription_fee']).iloc[0]\n",
    "    )\n",
    "\n",
    "def get_revenue_free_for_month(row):\n",
    "    subscription_data = subscriptions[subscriptions['subscription_type'] == 'free']\n",
    "    return (\n",
    "        (subscription_data['start_ride_price'] * row['rides']\n",
    "        + subscription_data['minute_price'] * row['duration']\n",
    "        + subscription_data['subscription_fee']).iloc[0]\n",
    "    )\n",
    "\n",
    "revenue_by_month_with_subscription = full_data_with_subscription[['duration', 'month']].copy()\n",
    "revenue_by_month_with_subscription.loc[:, 'duration'] = np.ceil(revenue_by_month_with_subscription['duration']).astype('int')\n",
    "revenue_by_month_with_subscription = (\n",
    "    revenue_by_month_with_subscription\n",
    "        .groupby('month')\n",
    "        .agg({'duration': ['sum', 'count']})\n",
    ")\n",
    "revenue_by_month_with_subscription.columns = ['duration', 'rides']\n",
    "\n",
    "revenue_by_month_without_subscription = full_data_without_subscription[['duration', 'month']].copy()\n",
    "revenue_by_month_without_subscription.loc[:, 'duration'] = np.ceil(revenue_by_month_without_subscription['duration']).astype('int')\n",
    "revenue_by_month_without_subscription = (\n",
    "    revenue_by_month_without_subscription\n",
    "        .groupby('month')\n",
    "        .agg({'duration': ['sum', 'count']})\n",
    ")\n",
    "revenue_by_month_without_subscription.columns = ['duration', 'rides']\n",
    "\n",
    "revenue_by_month_with_subscription.loc[:, 'revenue'] = revenue_by_month_with_subscription.apply(get_revenue_ultra_for_month, axis=1)\n",
    "revenue_by_month_without_subscription.loc[:, 'revenue'] = revenue_by_month_without_subscription.apply(get_revenue_free_for_month, axis=1)\n",
    "\n",
    "revenue_by_month_with_subscription.drop(['duration', 'rides'], axis=1, inplace=True)\n",
    "revenue_by_month_without_subscription.drop(['duration', 'rides'], axis=1, inplace=True)\n",
    "\n",
    "display(revenue_by_month_with_subscription, revenue_by_month_without_subscription)"
   ]
  },
  {
   "cell_type": "code",
   "execution_count": 35,
   "id": "51811492",
   "metadata": {},
   "outputs": [
    {
     "name": "stdout",
     "output_type": "stream",
     "text": [
      "Нет статистически значимой разницы:\n",
      "помесячная выручка от пользователей с подпиской близка к выручке от пользователей без подписки или меньше.\n"
     ]
    }
   ],
   "source": [
    "text_success = '''Есть статистически значимая разница:\n",
    "помесячная выручка от пользователей с подпиской выше, чем выручка от пользователей без подписки.'''\n",
    "\n",
    "text_fail = '''Нет статистически значимой разницы:\n",
    "помесячная выручка от пользователей с подпиской близка к выручке от пользователей без подписки или меньше.'''\n",
    "\n",
    "res = st.ttest_ind(revenue_by_month_with_subscription, revenue_by_month_without_subscription, alternative='greater')\n",
    "\n",
    "if res.pvalue < alpha:\n",
    "    print(text_success)\n",
    "else:\n",
    "    print(text_fail)"
   ]
  },
  {
   "cell_type": "markdown",
   "id": "31ca0a81",
   "metadata": {},
   "source": [
    "Гипотеза не подтвердилась."
   ]
  },
  {
   "cell_type": "markdown",
   "id": "5ecdec27",
   "metadata": {},
   "source": [
    "Теперь ответим на поставленный вопрос. В этом случае данные являются зависимыми(парными), для проверки гипотезы мы воспользуемся методом `ttest_rel` из модуля `scipy.stats`, то есть нам понадобится `t-тест`. Отметим, что альтернативная гипотеза является односторонней."
   ]
  },
  {
   "cell_type": "markdown",
   "id": "86e6fe76",
   "metadata": {},
   "source": [
    "На этом этапе мы проверили 3 гипотезы.\n",
    "<br>\n",
    "Для каждой гипотезы мы применяли разновидности `t-теста`.\n",
    "<br>\n",
    "Из всех подтвердилась только одна - первая (\"Тратят ли пользователи с подпиской больше времени на поездки?\")."
   ]
  },
  {
   "cell_type": "markdown",
   "id": "44c8bf7e",
   "metadata": {},
   "source": [
    "### Общий вывод"
   ]
  },
  {
   "cell_type": "markdown",
   "id": "cffbb8e9",
   "metadata": {},
   "source": [
    "В этом проекты мы работали с данными сервиса аренды самокатов `GoFast`. Общий набор данных состоял из трёх таблиц, содержащих различную информацию о пользователях сервиса и о используемых тарифах. Исходные данные оказались очень чистыми, поэтому процесс с предобработкой проблем не возникло. Тезисно подытожим, что мы получили на каждом этапе работы.\n",
    "<br>\n",
    "<br>\n",
    "Работа состояла из 6 этапов:\n",
    "1. Загрузка данных;\n",
    "2. Предобработка данных;\n",
    "3. Исследовательский анализ данных;\n",
    "4. Объединение данных;\n",
    "5. Подсчёт выручки;\n",
    "6. Проверка гипотез.\n",
    "\n",
    "* На первом этапе мы открыли файлы, вывели краткую информацию об их содержимом, чтобы сразу обратить внимание на возможные проблемы и познакомиться с данными.\n",
    "* На втором этапе мы привели столбец `date` датафрейма `rides` к типу `datetime`, а также избавились от явных дубликатов в датафрейме `users`. Данные, как я упомянул выше, не требовали серьезной предобработки.\n",
    "* На третьем этапе мы получили следующие сведения:\n",
    "    1. Наиболее часто встречаемый город в данных - `Пятигорск`, наименее - `Москва`;\n",
    "    2. Отношение числа пользователей с подпиской к числу пользователей без подписки приблизительно равно `0.83713`;\n",
    "    3. Наиболее распространённый возраст среди пользователей - от `20` до `30 лет`, наименее распространённый - `43 года`;\n",
    "    4. Большинство поездок совершаются на расстояние чуть более `3 километров`;\n",
    "    5. Самое распространённое время поездки - `~17 минут`.\n",
    "* На четвёртом этапе мы пришли к выводу, что распределения расстояния и времени поездок для пользователей обеих категорий имеют схожие распределения, близкие к нормальному. Также установили следующее: в среднем пользователи без подписки совершают поездки на большие расстояния и более длительные, чем пользователи с подпиской.\n",
    "* Пятый этап был связан с выручкой. Мы создали сводную таблицу, рассчитали помесячную выручку для каждого пользователя, провели небольшой анализ полученных значений. В результате получили следующее:\n",
    "    1. Средняя помесячная выручка с одного пользователя - `~340.6 руб.`;\n",
    "    2. Минимальная помесячная выручка с одного пользователя - `74 руб.`;\n",
    "    3. Максимальная помесячная выручка с одного пользователя - `1428 руб.`;\n",
    "    4. Наиболее прибыльный месяц - январь;\n",
    "    5. Наименее прибыльный месяц - февраль.\n",
    "* На последнем шестом этапе мы проверяли гипотезы на валидность. Из трёх данных гипотез подтвердилась только одна - первая (\"Тратят ли пользователи с подпиской больше времени на поездки?\")."
   ]
  }
 ],
 "metadata": {
  "ExecuteTimeLog": [
   {
    "duration": 48,
    "start_time": "2023-11-16T14:09:36.433Z"
   },
   {
    "duration": 344,
    "start_time": "2023-11-16T14:09:41.401Z"
   },
   {
    "duration": 193,
    "start_time": "2023-11-16T14:09:42.120Z"
   },
   {
    "duration": 116,
    "start_time": "2023-11-16T14:09:57.604Z"
   },
   {
    "duration": 15,
    "start_time": "2023-11-16T14:10:07.069Z"
   },
   {
    "duration": 133,
    "start_time": "2023-11-16T14:10:42.015Z"
   },
   {
    "duration": 12,
    "start_time": "2023-11-16T14:10:52.462Z"
   },
   {
    "duration": 153,
    "start_time": "2023-11-16T14:11:23.743Z"
   },
   {
    "duration": 11,
    "start_time": "2023-11-16T14:11:31.068Z"
   },
   {
    "duration": 9,
    "start_time": "2023-11-16T14:18:55.585Z"
   },
   {
    "duration": 29,
    "start_time": "2023-11-16T14:19:02.496Z"
   },
   {
    "duration": 5,
    "start_time": "2023-11-16T14:19:06.301Z"
   },
   {
    "duration": 50,
    "start_time": "2023-11-16T14:19:29.651Z"
   },
   {
    "duration": 4,
    "start_time": "2023-11-16T14:19:35.494Z"
   },
   {
    "duration": 5,
    "start_time": "2023-11-16T14:19:42.682Z"
   },
   {
    "duration": 8,
    "start_time": "2023-11-16T14:23:25.312Z"
   },
   {
    "duration": 7,
    "start_time": "2023-11-16T14:24:15.478Z"
   },
   {
    "duration": 8,
    "start_time": "2023-11-16T14:27:28.657Z"
   },
   {
    "duration": 6,
    "start_time": "2023-11-16T14:28:42.785Z"
   },
   {
    "duration": 6,
    "start_time": "2023-11-16T14:28:52.598Z"
   },
   {
    "duration": 10,
    "start_time": "2023-11-16T14:29:10.257Z"
   },
   {
    "duration": 6,
    "start_time": "2023-11-16T14:29:34.220Z"
   },
   {
    "duration": 7,
    "start_time": "2023-11-16T14:29:38.186Z"
   },
   {
    "duration": 9,
    "start_time": "2023-11-16T14:33:07.845Z"
   },
   {
    "duration": 8,
    "start_time": "2023-11-16T14:33:48.328Z"
   },
   {
    "duration": 5,
    "start_time": "2023-11-16T14:33:56.719Z"
   },
   {
    "duration": 4,
    "start_time": "2023-11-16T14:34:34.122Z"
   },
   {
    "duration": 6,
    "start_time": "2023-11-16T14:35:04.301Z"
   },
   {
    "duration": 6,
    "start_time": "2023-11-16T14:35:13.025Z"
   },
   {
    "duration": 6,
    "start_time": "2023-11-16T14:35:30.679Z"
   },
   {
    "duration": 531,
    "start_time": "2023-11-16T14:36:10.813Z"
   },
   {
    "duration": 3,
    "start_time": "2023-11-16T14:36:26.675Z"
   },
   {
    "duration": 133,
    "start_time": "2023-11-16T14:36:32.207Z"
   },
   {
    "duration": 18,
    "start_time": "2023-11-16T14:38:18.922Z"
   },
   {
    "duration": 16,
    "start_time": "2023-11-16T14:38:23.169Z"
   },
   {
    "duration": 17,
    "start_time": "2023-11-16T14:38:32.187Z"
   },
   {
    "duration": 8,
    "start_time": "2023-11-16T14:38:54.979Z"
   },
   {
    "duration": 2091,
    "start_time": "2023-11-16T14:39:13.219Z"
   },
   {
    "duration": 2137,
    "start_time": "2023-11-16T14:39:18.980Z"
   },
   {
    "duration": 2147,
    "start_time": "2023-11-16T14:39:23.889Z"
   },
   {
    "duration": 9,
    "start_time": "2023-11-16T14:40:52.319Z"
   },
   {
    "duration": 132,
    "start_time": "2023-11-16T14:40:55.711Z"
   },
   {
    "duration": 125,
    "start_time": "2023-11-16T14:41:00.537Z"
   },
   {
    "duration": 121,
    "start_time": "2023-11-16T14:41:09.859Z"
   },
   {
    "duration": 223,
    "start_time": "2023-11-16T14:42:03.368Z"
   },
   {
    "duration": 3318,
    "start_time": "2023-11-16T14:42:13.872Z"
   },
   {
    "duration": 257,
    "start_time": "2023-11-16T14:42:24.398Z"
   },
   {
    "duration": 222,
    "start_time": "2023-11-16T14:42:32.109Z"
   },
   {
    "duration": 267,
    "start_time": "2023-11-16T14:42:35.711Z"
   },
   {
    "duration": 245,
    "start_time": "2023-11-16T14:42:41.727Z"
   },
   {
    "duration": 239,
    "start_time": "2023-11-16T14:42:46.989Z"
   },
   {
    "duration": 249,
    "start_time": "2023-11-16T14:42:56.332Z"
   },
   {
    "duration": 246,
    "start_time": "2023-11-16T14:43:04.538Z"
   },
   {
    "duration": 334,
    "start_time": "2023-11-16T14:43:09.622Z"
   },
   {
    "duration": 248,
    "start_time": "2023-11-16T14:43:19.106Z"
   },
   {
    "duration": 122,
    "start_time": "2023-11-16T14:44:16.398Z"
   },
   {
    "duration": 155,
    "start_time": "2023-11-16T14:44:22.449Z"
   },
   {
    "duration": 172,
    "start_time": "2023-11-16T14:44:34.229Z"
   },
   {
    "duration": 127,
    "start_time": "2023-11-16T14:50:50.215Z"
   },
   {
    "duration": 171,
    "start_time": "2023-11-16T14:50:55.444Z"
   },
   {
    "duration": 166,
    "start_time": "2023-11-16T14:50:58.237Z"
   },
   {
    "duration": 164,
    "start_time": "2023-11-16T14:51:05.691Z"
   },
   {
    "duration": 454,
    "start_time": "2023-11-16T14:51:14.422Z"
   },
   {
    "duration": 147,
    "start_time": "2023-11-16T14:51:19.861Z"
   },
   {
    "duration": 13,
    "start_time": "2023-11-16T14:53:49.380Z"
   },
   {
    "duration": 10,
    "start_time": "2023-11-16T14:54:15.454Z"
   },
   {
    "duration": 19,
    "start_time": "2023-11-16T15:11:17.018Z"
   },
   {
    "duration": 29,
    "start_time": "2023-11-16T15:13:52.802Z"
   },
   {
    "duration": 17,
    "start_time": "2023-11-16T15:14:22.086Z"
   },
   {
    "duration": 27,
    "start_time": "2023-11-16T15:14:52.419Z"
   },
   {
    "duration": 28,
    "start_time": "2023-11-16T15:15:35.444Z"
   },
   {
    "duration": 15,
    "start_time": "2023-11-16T15:27:57.865Z"
   },
   {
    "duration": 23,
    "start_time": "2023-11-16T15:28:06.382Z"
   },
   {
    "duration": 31,
    "start_time": "2023-11-16T15:28:23.235Z"
   },
   {
    "duration": 28,
    "start_time": "2023-11-16T15:29:49.274Z"
   },
   {
    "duration": 10,
    "start_time": "2023-11-16T15:30:15.872Z"
   },
   {
    "duration": 9,
    "start_time": "2023-11-16T15:48:19.031Z"
   },
   {
    "duration": 128,
    "start_time": "2023-11-16T15:48:50.320Z"
   },
   {
    "duration": 322,
    "start_time": "2023-11-16T15:49:03.291Z"
   },
   {
    "duration": 148,
    "start_time": "2023-11-16T15:49:51.639Z"
   },
   {
    "duration": 136,
    "start_time": "2023-11-16T15:50:05.860Z"
   },
   {
    "duration": 125,
    "start_time": "2023-11-16T15:50:38.212Z"
   },
   {
    "duration": 131,
    "start_time": "2023-11-16T15:50:39.900Z"
   },
   {
    "duration": 2,
    "start_time": "2023-11-16T15:51:17.197Z"
   },
   {
    "duration": 72,
    "start_time": "2023-11-16T15:51:17.778Z"
   },
   {
    "duration": 10,
    "start_time": "2023-11-16T15:51:17.860Z"
   },
   {
    "duration": 68,
    "start_time": "2023-11-16T15:51:17.946Z"
   },
   {
    "duration": 11,
    "start_time": "2023-11-16T15:51:18.029Z"
   },
   {
    "duration": 55,
    "start_time": "2023-11-16T15:51:18.113Z"
   },
   {
    "duration": 10,
    "start_time": "2023-11-16T15:51:18.197Z"
   },
   {
    "duration": 9,
    "start_time": "2023-11-16T15:51:18.362Z"
   },
   {
    "duration": 5,
    "start_time": "2023-11-16T15:51:18.445Z"
   },
   {
    "duration": 10,
    "start_time": "2023-11-16T15:51:18.530Z"
   },
   {
    "duration": 5,
    "start_time": "2023-11-16T15:51:18.613Z"
   },
   {
    "duration": 8,
    "start_time": "2023-11-16T15:51:18.697Z"
   },
   {
    "duration": 9,
    "start_time": "2023-11-16T15:51:18.780Z"
   },
   {
    "duration": 5,
    "start_time": "2023-11-16T15:51:18.866Z"
   },
   {
    "duration": 4,
    "start_time": "2023-11-16T15:51:18.950Z"
   },
   {
    "duration": 6,
    "start_time": "2023-11-16T15:51:19.034Z"
   },
   {
    "duration": 6,
    "start_time": "2023-11-16T15:51:19.117Z"
   },
   {
    "duration": 5,
    "start_time": "2023-11-16T15:51:19.202Z"
   },
   {
    "duration": 123,
    "start_time": "2023-11-16T15:51:19.369Z"
   },
   {
    "duration": 9,
    "start_time": "2023-11-16T15:51:19.493Z"
   },
   {
    "duration": 245,
    "start_time": "2023-11-16T15:51:19.534Z"
   },
   {
    "duration": 193,
    "start_time": "2023-11-16T15:51:19.781Z"
   },
   {
    "duration": 162,
    "start_time": "2023-11-16T15:51:19.975Z"
   },
   {
    "duration": 31,
    "start_time": "2023-11-16T15:51:20.143Z"
   },
   {
    "duration": 11,
    "start_time": "2023-11-16T15:51:20.175Z"
   },
   {
    "duration": 150,
    "start_time": "2023-11-16T15:51:20.188Z"
   },
   {
    "duration": 271,
    "start_time": "2023-11-16T15:51:32.773Z"
   },
   {
    "duration": 166,
    "start_time": "2023-11-16T15:51:40.031Z"
   },
   {
    "duration": 155,
    "start_time": "2023-11-16T15:51:48.570Z"
   },
   {
    "duration": 169,
    "start_time": "2023-11-16T15:51:53.833Z"
   },
   {
    "duration": 183,
    "start_time": "2023-11-16T15:51:59.678Z"
   },
   {
    "duration": 231,
    "start_time": "2023-11-16T15:52:06.922Z"
   },
   {
    "duration": 189,
    "start_time": "2023-11-16T15:52:12.318Z"
   },
   {
    "duration": 206,
    "start_time": "2023-11-16T15:53:14.161Z"
   },
   {
    "duration": 199,
    "start_time": "2023-11-16T15:54:04.606Z"
   },
   {
    "duration": 21,
    "start_time": "2023-11-16T16:07:51.306Z"
   },
   {
    "duration": 20,
    "start_time": "2023-11-16T16:08:11.764Z"
   },
   {
    "duration": 20,
    "start_time": "2023-11-16T16:08:19.746Z"
   },
   {
    "duration": 14,
    "start_time": "2023-11-16T16:08:37.399Z"
   },
   {
    "duration": 14,
    "start_time": "2023-11-16T16:10:23.103Z"
   },
   {
    "duration": 665,
    "start_time": "2023-11-16T16:36:06.130Z"
   },
   {
    "duration": 75,
    "start_time": "2023-11-16T16:36:06.797Z"
   },
   {
    "duration": 11,
    "start_time": "2023-11-16T16:36:06.874Z"
   },
   {
    "duration": 77,
    "start_time": "2023-11-16T16:36:06.887Z"
   },
   {
    "duration": 11,
    "start_time": "2023-11-16T16:36:06.967Z"
   },
   {
    "duration": 59,
    "start_time": "2023-11-16T16:36:06.979Z"
   },
   {
    "duration": 9,
    "start_time": "2023-11-16T16:36:07.040Z"
   },
   {
    "duration": 13,
    "start_time": "2023-11-16T16:36:07.051Z"
   },
   {
    "duration": 5,
    "start_time": "2023-11-16T16:36:07.066Z"
   },
   {
    "duration": 21,
    "start_time": "2023-11-16T16:36:07.073Z"
   },
   {
    "duration": 19,
    "start_time": "2023-11-16T16:36:07.096Z"
   },
   {
    "duration": 13,
    "start_time": "2023-11-16T16:36:07.117Z"
   },
   {
    "duration": 13,
    "start_time": "2023-11-16T16:36:07.131Z"
   },
   {
    "duration": 5,
    "start_time": "2023-11-16T16:36:07.146Z"
   },
   {
    "duration": 16,
    "start_time": "2023-11-16T16:36:07.152Z"
   },
   {
    "duration": 10,
    "start_time": "2023-11-16T16:36:07.170Z"
   },
   {
    "duration": 17,
    "start_time": "2023-11-16T16:36:07.181Z"
   },
   {
    "duration": 6,
    "start_time": "2023-11-16T16:36:07.199Z"
   },
   {
    "duration": 156,
    "start_time": "2023-11-16T16:36:07.206Z"
   },
   {
    "duration": 10,
    "start_time": "2023-11-16T16:36:07.363Z"
   },
   {
    "duration": 247,
    "start_time": "2023-11-16T16:36:07.374Z"
   },
   {
    "duration": 200,
    "start_time": "2023-11-16T16:36:07.623Z"
   },
   {
    "duration": 199,
    "start_time": "2023-11-16T16:36:07.825Z"
   },
   {
    "duration": 35,
    "start_time": "2023-11-16T16:36:08.026Z"
   },
   {
    "duration": 11,
    "start_time": "2023-11-16T16:36:08.062Z"
   },
   {
    "duration": 216,
    "start_time": "2023-11-16T16:36:08.075Z"
   },
   {
    "duration": 202,
    "start_time": "2023-11-16T16:36:08.293Z"
   },
   {
    "duration": 14,
    "start_time": "2023-11-16T16:36:08.496Z"
   },
   {
    "duration": 88,
    "start_time": "2023-11-16T16:36:08.511Z"
   },
   {
    "duration": 84,
    "start_time": "2023-11-16T16:38:05.201Z"
   },
   {
    "duration": 20,
    "start_time": "2023-11-16T16:38:21.617Z"
   },
   {
    "duration": 4,
    "start_time": "2023-11-16T16:38:40.335Z"
   },
   {
    "duration": 4,
    "start_time": "2023-11-16T16:38:45.107Z"
   },
   {
    "duration": 13,
    "start_time": "2023-11-16T16:38:52.226Z"
   },
   {
    "duration": 4,
    "start_time": "2023-11-16T16:38:57.505Z"
   },
   {
    "duration": 21,
    "start_time": "2023-11-16T16:39:05.001Z"
   },
   {
    "duration": 10,
    "start_time": "2023-11-16T16:39:31.790Z"
   },
   {
    "duration": 3,
    "start_time": "2023-11-16T16:39:36.079Z"
   },
   {
    "duration": 10,
    "start_time": "2023-11-16T16:39:42.537Z"
   },
   {
    "duration": 1296,
    "start_time": "2023-11-16T16:42:49.349Z"
   },
   {
    "duration": 4,
    "start_time": "2023-11-16T16:42:56.881Z"
   },
   {
    "duration": 6,
    "start_time": "2023-11-16T16:43:23.170Z"
   },
   {
    "duration": 13,
    "start_time": "2023-11-16T16:43:30.551Z"
   },
   {
    "duration": 20,
    "start_time": "2023-11-16T16:43:41.157Z"
   },
   {
    "duration": 15,
    "start_time": "2023-11-16T16:51:31.014Z"
   },
   {
    "duration": 14,
    "start_time": "2023-11-16T16:51:36.751Z"
   },
   {
    "duration": 15,
    "start_time": "2023-11-16T16:51:40.472Z"
   },
   {
    "duration": 16,
    "start_time": "2023-11-16T16:51:43.440Z"
   },
   {
    "duration": 15,
    "start_time": "2023-11-16T16:51:48.207Z"
   },
   {
    "duration": 14,
    "start_time": "2023-11-16T16:51:51.358Z"
   },
   {
    "duration": 16,
    "start_time": "2023-11-16T16:51:55.908Z"
   },
   {
    "duration": 14,
    "start_time": "2023-11-16T16:51:59.981Z"
   },
   {
    "duration": 15,
    "start_time": "2023-11-16T16:52:02.376Z"
   },
   {
    "duration": 15,
    "start_time": "2023-11-16T16:52:04.559Z"
   },
   {
    "duration": 16,
    "start_time": "2023-11-16T16:52:09.457Z"
   },
   {
    "duration": 13,
    "start_time": "2023-11-16T16:52:35.449Z"
   },
   {
    "duration": 28,
    "start_time": "2023-11-16T16:54:35.900Z"
   },
   {
    "duration": 14,
    "start_time": "2023-11-16T16:54:40.027Z"
   },
   {
    "duration": 11,
    "start_time": "2023-11-16T16:54:56.315Z"
   },
   {
    "duration": 15,
    "start_time": "2023-11-16T16:54:56.844Z"
   },
   {
    "duration": 10,
    "start_time": "2023-11-16T16:55:05.482Z"
   },
   {
    "duration": 15,
    "start_time": "2023-11-16T16:55:05.811Z"
   },
   {
    "duration": 911,
    "start_time": "2023-11-16T21:35:19.187Z"
   },
   {
    "duration": 152,
    "start_time": "2023-11-16T21:35:20.103Z"
   },
   {
    "duration": 20,
    "start_time": "2023-11-16T21:35:20.258Z"
   },
   {
    "duration": 220,
    "start_time": "2023-11-16T21:35:20.280Z"
   },
   {
    "duration": 10,
    "start_time": "2023-11-16T21:35:20.502Z"
   },
   {
    "duration": 131,
    "start_time": "2023-11-16T21:35:20.514Z"
   },
   {
    "duration": 16,
    "start_time": "2023-11-16T21:35:20.647Z"
   },
   {
    "duration": 23,
    "start_time": "2023-11-16T21:35:20.670Z"
   },
   {
    "duration": 5,
    "start_time": "2023-11-16T21:35:20.695Z"
   },
   {
    "duration": 23,
    "start_time": "2023-11-16T21:35:20.702Z"
   },
   {
    "duration": 24,
    "start_time": "2023-11-16T21:35:20.726Z"
   },
   {
    "duration": 36,
    "start_time": "2023-11-16T21:35:20.752Z"
   },
   {
    "duration": 9,
    "start_time": "2023-11-16T21:35:20.792Z"
   },
   {
    "duration": 15,
    "start_time": "2023-11-16T21:35:20.803Z"
   },
   {
    "duration": 18,
    "start_time": "2023-11-16T21:35:20.819Z"
   },
   {
    "duration": 9,
    "start_time": "2023-11-16T21:35:20.838Z"
   },
   {
    "duration": 11,
    "start_time": "2023-11-16T21:35:20.848Z"
   },
   {
    "duration": 22,
    "start_time": "2023-11-16T21:35:20.860Z"
   },
   {
    "duration": 149,
    "start_time": "2023-11-16T21:35:20.884Z"
   },
   {
    "duration": 8,
    "start_time": "2023-11-16T21:35:21.034Z"
   },
   {
    "duration": 293,
    "start_time": "2023-11-16T21:35:21.044Z"
   },
   {
    "duration": 214,
    "start_time": "2023-11-16T21:35:21.339Z"
   },
   {
    "duration": 229,
    "start_time": "2023-11-16T21:35:21.554Z"
   },
   {
    "duration": 37,
    "start_time": "2023-11-16T21:35:21.785Z"
   },
   {
    "duration": 11,
    "start_time": "2023-11-16T21:35:21.823Z"
   },
   {
    "duration": 280,
    "start_time": "2023-11-16T21:35:21.835Z"
   },
   {
    "duration": 232,
    "start_time": "2023-11-16T21:35:22.117Z"
   },
   {
    "duration": 28,
    "start_time": "2023-11-16T21:35:22.351Z"
   },
   {
    "duration": 29,
    "start_time": "2023-11-16T21:35:22.385Z"
   },
   {
    "duration": 971,
    "start_time": "2023-11-16T21:37:47.583Z"
   },
   {
    "duration": 103,
    "start_time": "2023-11-16T21:37:52.542Z"
   },
   {
    "duration": 106,
    "start_time": "2023-11-16T21:38:03.516Z"
   },
   {
    "duration": 1278,
    "start_time": "2023-11-16T21:41:29.248Z"
   },
   {
    "duration": 11,
    "start_time": "2023-11-16T21:41:32.814Z"
   },
   {
    "duration": 1213,
    "start_time": "2023-11-16T21:41:33.527Z"
   },
   {
    "duration": 69,
    "start_time": "2023-11-16T21:41:50.700Z"
   },
   {
    "duration": 18,
    "start_time": "2023-11-16T21:42:01.539Z"
   },
   {
    "duration": 11,
    "start_time": "2023-11-16T21:42:04.220Z"
   },
   {
    "duration": 16,
    "start_time": "2023-11-16T21:42:04.602Z"
   },
   {
    "duration": 68,
    "start_time": "2023-11-16T21:43:33.861Z"
   },
   {
    "duration": 67,
    "start_time": "2023-11-16T21:43:38.662Z"
   },
   {
    "duration": 97,
    "start_time": "2023-11-16T21:44:39.507Z"
   },
   {
    "duration": 94,
    "start_time": "2023-11-16T21:44:54.872Z"
   },
   {
    "duration": 1458,
    "start_time": "2023-11-16T21:45:00.748Z"
   },
   {
    "duration": 0,
    "start_time": "2023-11-16T21:45:28.734Z"
   },
   {
    "duration": 0,
    "start_time": "2023-11-16T21:45:28.736Z"
   },
   {
    "duration": 0,
    "start_time": "2023-11-16T21:45:47.308Z"
   },
   {
    "duration": 0,
    "start_time": "2023-11-16T21:45:47.309Z"
   },
   {
    "duration": 693,
    "start_time": "2023-11-16T21:45:51.104Z"
   },
   {
    "duration": 90,
    "start_time": "2023-11-16T21:45:51.799Z"
   },
   {
    "duration": 86,
    "start_time": "2023-11-16T21:45:51.891Z"
   },
   {
    "duration": 117,
    "start_time": "2023-11-16T21:45:51.980Z"
   },
   {
    "duration": 12,
    "start_time": "2023-11-16T21:45:52.098Z"
   },
   {
    "duration": 85,
    "start_time": "2023-11-16T21:45:52.112Z"
   },
   {
    "duration": 10,
    "start_time": "2023-11-16T21:45:52.198Z"
   },
   {
    "duration": 22,
    "start_time": "2023-11-16T21:45:52.209Z"
   },
   {
    "duration": 33,
    "start_time": "2023-11-16T21:45:52.232Z"
   },
   {
    "duration": 89,
    "start_time": "2023-11-16T21:45:52.269Z"
   },
   {
    "duration": 53,
    "start_time": "2023-11-16T21:45:52.363Z"
   },
   {
    "duration": 31,
    "start_time": "2023-11-16T21:45:52.419Z"
   },
   {
    "duration": 23,
    "start_time": "2023-11-16T21:45:52.452Z"
   },
   {
    "duration": 7,
    "start_time": "2023-11-16T21:45:52.478Z"
   },
   {
    "duration": 9,
    "start_time": "2023-11-16T21:45:52.486Z"
   },
   {
    "duration": 17,
    "start_time": "2023-11-16T21:45:52.497Z"
   },
   {
    "duration": 19,
    "start_time": "2023-11-16T21:45:52.515Z"
   },
   {
    "duration": 11,
    "start_time": "2023-11-16T21:45:52.535Z"
   },
   {
    "duration": 173,
    "start_time": "2023-11-16T21:45:52.547Z"
   },
   {
    "duration": 9,
    "start_time": "2023-11-16T21:45:52.722Z"
   },
   {
    "duration": 291,
    "start_time": "2023-11-16T21:45:52.732Z"
   },
   {
    "duration": 197,
    "start_time": "2023-11-16T21:45:53.024Z"
   },
   {
    "duration": 228,
    "start_time": "2023-11-16T21:45:53.222Z"
   },
   {
    "duration": 47,
    "start_time": "2023-11-16T21:45:53.456Z"
   },
   {
    "duration": 12,
    "start_time": "2023-11-16T21:45:53.504Z"
   },
   {
    "duration": 264,
    "start_time": "2023-11-16T21:45:53.518Z"
   },
   {
    "duration": 211,
    "start_time": "2023-11-16T21:45:53.785Z"
   },
   {
    "duration": 12,
    "start_time": "2023-11-16T21:45:53.999Z"
   },
   {
    "duration": 0,
    "start_time": "2023-11-16T21:46:19.646Z"
   },
   {
    "duration": 0,
    "start_time": "2023-11-16T21:46:19.647Z"
   },
   {
    "duration": 12,
    "start_time": "2023-11-16T21:46:22.617Z"
   },
   {
    "duration": 67,
    "start_time": "2023-11-16T21:46:23.007Z"
   },
   {
    "duration": 57,
    "start_time": "2023-11-16T21:46:39.969Z"
   },
   {
    "duration": 57,
    "start_time": "2023-11-16T21:46:42.873Z"
   },
   {
    "duration": 100,
    "start_time": "2023-11-16T21:47:12.407Z"
   },
   {
    "duration": 99,
    "start_time": "2023-11-16T21:47:18.330Z"
   },
   {
    "duration": 88,
    "start_time": "2023-11-16T21:50:45.305Z"
   },
   {
    "duration": 73,
    "start_time": "2023-11-16T21:50:52.270Z"
   },
   {
    "duration": 85,
    "start_time": "2023-11-16T21:50:54.785Z"
   },
   {
    "duration": 91,
    "start_time": "2023-11-16T21:50:58.731Z"
   },
   {
    "duration": 94,
    "start_time": "2023-11-16T21:51:33.040Z"
   },
   {
    "duration": 91,
    "start_time": "2023-11-16T21:51:37.024Z"
   },
   {
    "duration": 12,
    "start_time": "2023-11-16T21:51:38.919Z"
   },
   {
    "duration": 164,
    "start_time": "2023-11-16T21:51:39.219Z"
   },
   {
    "duration": 60,
    "start_time": "2023-11-16T21:51:44.106Z"
   },
   {
    "duration": 57,
    "start_time": "2023-11-16T21:54:26.883Z"
   },
   {
    "duration": 62,
    "start_time": "2023-11-16T21:59:03.885Z"
   },
   {
    "duration": 11,
    "start_time": "2023-11-16T22:03:03.870Z"
   },
   {
    "duration": 70,
    "start_time": "2023-11-16T22:03:04.192Z"
   },
   {
    "duration": 13,
    "start_time": "2023-11-16T22:03:16.891Z"
   },
   {
    "duration": 10,
    "start_time": "2023-11-16T22:03:19.235Z"
   },
   {
    "duration": 11,
    "start_time": "2023-11-16T22:03:19.525Z"
   },
   {
    "duration": 8,
    "start_time": "2023-11-16T22:03:29.484Z"
   },
   {
    "duration": 14,
    "start_time": "2023-11-16T22:03:31.139Z"
   },
   {
    "duration": 71,
    "start_time": "2023-11-16T22:03:31.305Z"
   },
   {
    "duration": 81,
    "start_time": "2023-11-16T22:04:08.043Z"
   },
   {
    "duration": 13,
    "start_time": "2023-11-16T22:04:21.113Z"
   },
   {
    "duration": 105,
    "start_time": "2023-11-16T22:04:21.333Z"
   },
   {
    "duration": 62,
    "start_time": "2023-11-16T22:06:07.414Z"
   },
   {
    "duration": 0,
    "start_time": "2023-11-16T22:07:30.245Z"
   },
   {
    "duration": 0,
    "start_time": "2023-11-16T22:07:30.257Z"
   },
   {
    "duration": 16,
    "start_time": "2023-11-16T22:07:35.665Z"
   },
   {
    "duration": 31937,
    "start_time": "2023-11-16T22:07:35.922Z"
   },
   {
    "duration": 6417,
    "start_time": "2023-11-16T22:08:52.809Z"
   },
   {
    "duration": 7922,
    "start_time": "2023-11-16T22:10:21.689Z"
   },
   {
    "duration": 11,
    "start_time": "2023-11-16T22:10:53.430Z"
   },
   {
    "duration": 1443,
    "start_time": "2023-11-16T22:10:53.878Z"
   },
   {
    "duration": 0,
    "start_time": "2023-11-16T22:11:36.005Z"
   },
   {
    "duration": 11,
    "start_time": "2023-11-16T22:11:38.809Z"
   },
   {
    "duration": 10659,
    "start_time": "2023-11-16T22:11:39.214Z"
   },
   {
    "duration": 22620,
    "start_time": "2023-11-16T22:11:52.807Z"
   },
   {
    "duration": 12,
    "start_time": "2023-11-16T22:12:43.447Z"
   },
   {
    "duration": 24278,
    "start_time": "2023-11-16T22:12:43.808Z"
   },
   {
    "duration": 17,
    "start_time": "2023-11-16T22:14:02.753Z"
   },
   {
    "duration": 59,
    "start_time": "2023-11-16T22:14:03.121Z"
   },
   {
    "duration": 57,
    "start_time": "2023-11-16T22:14:14.311Z"
   },
   {
    "duration": 1888,
    "start_time": "2023-11-16T22:14:51.844Z"
   },
   {
    "duration": 11,
    "start_time": "2023-11-16T22:20:00.610Z"
   },
   {
    "duration": 90,
    "start_time": "2023-11-16T22:20:00.829Z"
   },
   {
    "duration": 87,
    "start_time": "2023-11-16T22:20:04.697Z"
   },
   {
    "duration": 12,
    "start_time": "2023-11-16T22:20:07.335Z"
   },
   {
    "duration": 15,
    "start_time": "2023-11-16T22:20:07.587Z"
   },
   {
    "duration": 12,
    "start_time": "2023-11-16T22:21:00.442Z"
   },
   {
    "duration": 24,
    "start_time": "2023-11-16T22:21:00.648Z"
   },
   {
    "duration": 15,
    "start_time": "2023-11-16T22:21:14.968Z"
   },
   {
    "duration": 21,
    "start_time": "2023-11-16T22:21:15.103Z"
   },
   {
    "duration": 2287,
    "start_time": "2023-11-16T22:21:50.519Z"
   },
   {
    "duration": 11,
    "start_time": "2023-11-16T22:22:20.080Z"
   },
   {
    "duration": 36571,
    "start_time": "2023-11-16T22:22:20.255Z"
   },
   {
    "duration": 59470,
    "start_time": "2023-11-16T22:24:41.028Z"
   },
   {
    "duration": 7623,
    "start_time": "2023-11-16T22:26:02.885Z"
   },
   {
    "duration": 13,
    "start_time": "2023-11-16T22:26:16.908Z"
   },
   {
    "duration": 4653,
    "start_time": "2023-11-16T22:26:17.070Z"
   },
   {
    "duration": 1267,
    "start_time": "2023-11-16T22:27:53.285Z"
   },
   {
    "duration": 11,
    "start_time": "2023-11-16T22:27:56.509Z"
   },
   {
    "duration": 1170,
    "start_time": "2023-11-16T22:27:56.799Z"
   },
   {
    "duration": 11103,
    "start_time": "2023-11-16T22:28:06.374Z"
   },
   {
    "duration": 14,
    "start_time": "2023-11-16T22:28:24.755Z"
   },
   {
    "duration": 10593,
    "start_time": "2023-11-16T22:28:24.906Z"
   },
   {
    "duration": 10,
    "start_time": "2023-11-16T22:29:44.313Z"
   },
   {
    "duration": 10172,
    "start_time": "2023-11-16T22:29:44.490Z"
   },
   {
    "duration": 11,
    "start_time": "2023-11-16T22:30:15.381Z"
   },
   {
    "duration": 11119,
    "start_time": "2023-11-16T22:30:15.824Z"
   },
   {
    "duration": 12,
    "start_time": "2023-11-16T22:32:03.691Z"
   },
   {
    "duration": 6,
    "start_time": "2023-11-16T22:32:09.255Z"
   },
   {
    "duration": 93,
    "start_time": "2023-11-16T22:32:09.983Z"
   },
   {
    "duration": 11,
    "start_time": "2023-11-16T22:32:11.733Z"
   },
   {
    "duration": 3,
    "start_time": "2023-11-16T22:32:41.536Z"
   },
   {
    "duration": 85,
    "start_time": "2023-11-16T22:32:42.016Z"
   },
   {
    "duration": 18,
    "start_time": "2023-11-16T22:32:42.902Z"
   },
   {
    "duration": 79,
    "start_time": "2023-11-16T22:33:04.496Z"
   },
   {
    "duration": 16,
    "start_time": "2023-11-16T22:33:05.131Z"
   },
   {
    "duration": 656,
    "start_time": "2023-11-16T22:33:36.925Z"
   },
   {
    "duration": 78,
    "start_time": "2023-11-16T22:33:37.583Z"
   },
   {
    "duration": 10,
    "start_time": "2023-11-16T22:33:37.663Z"
   },
   {
    "duration": 97,
    "start_time": "2023-11-16T22:33:37.675Z"
   },
   {
    "duration": 11,
    "start_time": "2023-11-16T22:33:37.774Z"
   },
   {
    "duration": 92,
    "start_time": "2023-11-16T22:33:37.786Z"
   },
   {
    "duration": 9,
    "start_time": "2023-11-16T22:33:37.880Z"
   },
   {
    "duration": 29,
    "start_time": "2023-11-16T22:33:37.891Z"
   },
   {
    "duration": 27,
    "start_time": "2023-11-16T22:33:37.921Z"
   },
   {
    "duration": 96,
    "start_time": "2023-11-16T22:33:37.951Z"
   },
   {
    "duration": 32,
    "start_time": "2023-11-16T22:33:38.049Z"
   },
   {
    "duration": 31,
    "start_time": "2023-11-16T22:33:38.083Z"
   },
   {
    "duration": 30,
    "start_time": "2023-11-16T22:33:38.115Z"
   },
   {
    "duration": 33,
    "start_time": "2023-11-16T22:33:38.147Z"
   },
   {
    "duration": 52,
    "start_time": "2023-11-16T22:33:38.182Z"
   },
   {
    "duration": 19,
    "start_time": "2023-11-16T22:33:38.235Z"
   },
   {
    "duration": 25,
    "start_time": "2023-11-16T22:33:38.255Z"
   },
   {
    "duration": 23,
    "start_time": "2023-11-16T22:33:38.282Z"
   },
   {
    "duration": 146,
    "start_time": "2023-11-16T22:33:38.306Z"
   },
   {
    "duration": 10,
    "start_time": "2023-11-16T22:33:38.453Z"
   },
   {
    "duration": 241,
    "start_time": "2023-11-16T22:33:38.464Z"
   },
   {
    "duration": 172,
    "start_time": "2023-11-16T22:33:38.707Z"
   },
   {
    "duration": 192,
    "start_time": "2023-11-16T22:33:38.881Z"
   },
   {
    "duration": 30,
    "start_time": "2023-11-16T22:33:39.075Z"
   },
   {
    "duration": 11,
    "start_time": "2023-11-16T22:33:39.106Z"
   },
   {
    "duration": 206,
    "start_time": "2023-11-16T22:33:39.119Z"
   },
   {
    "duration": 204,
    "start_time": "2023-11-16T22:33:39.327Z"
   },
   {
    "duration": 10,
    "start_time": "2023-11-16T22:33:39.534Z"
   },
   {
    "duration": 10562,
    "start_time": "2023-11-16T22:33:39.556Z"
   },
   {
    "duration": 11,
    "start_time": "2023-11-16T22:35:28.501Z"
   },
   {
    "duration": 60,
    "start_time": "2023-11-16T22:35:28.745Z"
   },
   {
    "duration": 10,
    "start_time": "2023-11-16T22:36:04.152Z"
   },
   {
    "duration": 12256,
    "start_time": "2023-11-16T22:36:04.378Z"
   },
   {
    "duration": 10,
    "start_time": "2023-11-16T22:36:47.162Z"
   },
   {
    "duration": 10,
    "start_time": "2023-11-16T22:37:11.758Z"
   },
   {
    "duration": 7743,
    "start_time": "2023-11-16T22:37:23.589Z"
   },
   {
    "duration": 7747,
    "start_time": "2023-11-16T22:37:32.044Z"
   },
   {
    "duration": 12,
    "start_time": "2023-11-16T22:37:41.418Z"
   },
   {
    "duration": 11660,
    "start_time": "2023-11-16T22:37:41.523Z"
   },
   {
    "duration": 10,
    "start_time": "2023-11-16T22:38:09.572Z"
   },
   {
    "duration": 12707,
    "start_time": "2023-11-16T22:38:09.866Z"
   },
   {
    "duration": 11,
    "start_time": "2023-11-16T22:39:09.453Z"
   },
   {
    "duration": 16697,
    "start_time": "2023-11-16T22:39:09.914Z"
   },
   {
    "duration": 3,
    "start_time": "2023-11-16T22:51:49.615Z"
   },
   {
    "duration": 73,
    "start_time": "2023-11-16T22:51:49.950Z"
   },
   {
    "duration": 14,
    "start_time": "2023-11-16T22:51:50.202Z"
   },
   {
    "duration": 78,
    "start_time": "2023-11-16T22:51:50.928Z"
   },
   {
    "duration": 14,
    "start_time": "2023-11-16T22:51:51.185Z"
   },
   {
    "duration": 68,
    "start_time": "2023-11-16T22:51:51.841Z"
   },
   {
    "duration": 10,
    "start_time": "2023-11-16T22:51:52.380Z"
   },
   {
    "duration": 9,
    "start_time": "2023-11-16T22:51:53.179Z"
   },
   {
    "duration": 4,
    "start_time": "2023-11-16T22:53:50.207Z"
   },
   {
    "duration": 8,
    "start_time": "2023-11-16T22:53:50.809Z"
   },
   {
    "duration": 2,
    "start_time": "2023-11-16T22:53:53.892Z"
   },
   {
    "duration": 121,
    "start_time": "2023-11-16T22:53:54.470Z"
   },
   {
    "duration": 9,
    "start_time": "2023-11-16T22:53:54.592Z"
   },
   {
    "duration": 79,
    "start_time": "2023-11-16T22:53:54.728Z"
   },
   {
    "duration": 10,
    "start_time": "2023-11-16T22:53:54.808Z"
   },
   {
    "duration": 74,
    "start_time": "2023-11-16T22:53:54.962Z"
   },
   {
    "duration": 11,
    "start_time": "2023-11-16T22:53:55.046Z"
   },
   {
    "duration": 9,
    "start_time": "2023-11-16T22:53:57.418Z"
   },
   {
    "duration": 5,
    "start_time": "2023-11-16T22:53:57.684Z"
   },
   {
    "duration": 10,
    "start_time": "2023-11-16T22:53:58.053Z"
   },
   {
    "duration": 6,
    "start_time": "2023-11-16T22:53:59.522Z"
   },
   {
    "duration": 8,
    "start_time": "2023-11-16T22:53:59.887Z"
   },
   {
    "duration": 8,
    "start_time": "2023-11-16T22:54:00.216Z"
   },
   {
    "duration": 5,
    "start_time": "2023-11-16T22:54:00.535Z"
   },
   {
    "duration": 4,
    "start_time": "2023-11-16T22:54:02.047Z"
   },
   {
    "duration": 6,
    "start_time": "2023-11-16T22:54:02.274Z"
   },
   {
    "duration": 6,
    "start_time": "2023-11-16T22:54:02.584Z"
   },
   {
    "duration": 5,
    "start_time": "2023-11-16T22:54:04.658Z"
   },
   {
    "duration": 90,
    "start_time": "2023-11-16T22:55:20.905Z"
   },
   {
    "duration": 118,
    "start_time": "2023-11-16T23:05:44.540Z"
   },
   {
    "duration": 3,
    "start_time": "2023-11-16T23:06:16.783Z"
   },
   {
    "duration": 90,
    "start_time": "2023-11-16T23:06:16.948Z"
   },
   {
    "duration": 13,
    "start_time": "2023-11-16T23:06:17.040Z"
   },
   {
    "duration": 81,
    "start_time": "2023-11-16T23:06:17.207Z"
   },
   {
    "duration": 12,
    "start_time": "2023-11-16T23:06:17.290Z"
   },
   {
    "duration": 64,
    "start_time": "2023-11-16T23:06:17.546Z"
   },
   {
    "duration": 10,
    "start_time": "2023-11-16T23:06:17.618Z"
   },
   {
    "duration": 9,
    "start_time": "2023-11-16T23:06:17.961Z"
   },
   {
    "duration": 5,
    "start_time": "2023-11-16T23:06:18.034Z"
   },
   {
    "duration": 9,
    "start_time": "2023-11-16T23:06:18.123Z"
   },
   {
    "duration": 6,
    "start_time": "2023-11-16T23:06:18.222Z"
   },
   {
    "duration": 7,
    "start_time": "2023-11-16T23:06:20.957Z"
   },
   {
    "duration": 8,
    "start_time": "2023-11-16T23:06:21.129Z"
   },
   {
    "duration": 5,
    "start_time": "2023-11-16T23:06:21.289Z"
   },
   {
    "duration": 4,
    "start_time": "2023-11-16T23:06:22.569Z"
   },
   {
    "duration": 5,
    "start_time": "2023-11-16T23:06:22.729Z"
   },
   {
    "duration": 6,
    "start_time": "2023-11-16T23:06:22.871Z"
   },
   {
    "duration": 5,
    "start_time": "2023-11-16T23:06:23.257Z"
   },
   {
    "duration": 9,
    "start_time": "2023-11-16T23:06:25.911Z"
   },
   {
    "duration": 122,
    "start_time": "2023-11-16T23:06:54.327Z"
   },
   {
    "duration": 132,
    "start_time": "2023-11-16T23:07:20.981Z"
   },
   {
    "duration": 126,
    "start_time": "2023-11-16T23:07:34.235Z"
   },
   {
    "duration": 128,
    "start_time": "2023-11-16T23:07:37.189Z"
   },
   {
    "duration": 133,
    "start_time": "2023-11-16T23:28:42.072Z"
   },
   {
    "duration": 132,
    "start_time": "2023-11-16T23:29:00.336Z"
   },
   {
    "duration": 133,
    "start_time": "2023-11-16T23:29:02.993Z"
   },
   {
    "duration": 137,
    "start_time": "2023-11-16T23:29:42.967Z"
   },
   {
    "duration": 142,
    "start_time": "2023-11-16T23:29:51.839Z"
   },
   {
    "duration": 145,
    "start_time": "2023-11-16T23:30:06.742Z"
   },
   {
    "duration": 321,
    "start_time": "2023-11-16T23:30:54.224Z"
   },
   {
    "duration": 3,
    "start_time": "2023-11-16T23:32:12.701Z"
   },
   {
    "duration": 80,
    "start_time": "2023-11-16T23:32:12.863Z"
   },
   {
    "duration": 10,
    "start_time": "2023-11-16T23:32:12.947Z"
   },
   {
    "duration": 73,
    "start_time": "2023-11-16T23:32:13.122Z"
   },
   {
    "duration": 12,
    "start_time": "2023-11-16T23:32:13.201Z"
   },
   {
    "duration": 60,
    "start_time": "2023-11-16T23:32:13.449Z"
   },
   {
    "duration": 9,
    "start_time": "2023-11-16T23:32:13.534Z"
   },
   {
    "duration": 9,
    "start_time": "2023-11-16T23:32:13.866Z"
   },
   {
    "duration": 4,
    "start_time": "2023-11-16T23:32:13.949Z"
   },
   {
    "duration": 10,
    "start_time": "2023-11-16T23:32:14.032Z"
   },
   {
    "duration": 5,
    "start_time": "2023-11-16T23:32:14.128Z"
   },
   {
    "duration": 8,
    "start_time": "2023-11-16T23:32:14.199Z"
   },
   {
    "duration": 7,
    "start_time": "2023-11-16T23:32:14.290Z"
   },
   {
    "duration": 5,
    "start_time": "2023-11-16T23:32:14.367Z"
   },
   {
    "duration": 4,
    "start_time": "2023-11-16T23:32:14.540Z"
   },
   {
    "duration": 6,
    "start_time": "2023-11-16T23:32:14.615Z"
   },
   {
    "duration": 7,
    "start_time": "2023-11-16T23:32:14.702Z"
   },
   {
    "duration": 6,
    "start_time": "2023-11-16T23:32:14.782Z"
   },
   {
    "duration": 275,
    "start_time": "2023-11-16T23:32:15.217Z"
   },
   {
    "duration": 8,
    "start_time": "2023-11-16T23:32:15.493Z"
   },
   {
    "duration": 265,
    "start_time": "2023-11-16T23:33:04.815Z"
   },
   {
    "duration": 486,
    "start_time": "2023-11-16T23:33:11.958Z"
   },
   {
    "duration": 257,
    "start_time": "2023-11-16T23:33:19.708Z"
   },
   {
    "duration": 256,
    "start_time": "2023-11-16T23:33:31.516Z"
   },
   {
    "duration": 315,
    "start_time": "2023-11-16T23:33:37.232Z"
   },
   {
    "duration": 268,
    "start_time": "2023-11-16T23:33:41.580Z"
   },
   {
    "duration": 263,
    "start_time": "2023-11-16T23:34:05.284Z"
   },
   {
    "duration": 391,
    "start_time": "2023-11-16T23:34:13.869Z"
   },
   {
    "duration": 302,
    "start_time": "2023-11-16T23:34:17.289Z"
   },
   {
    "duration": 287,
    "start_time": "2023-11-16T23:35:18.396Z"
   },
   {
    "duration": 273,
    "start_time": "2023-11-16T23:35:23.399Z"
   },
   {
    "duration": 279,
    "start_time": "2023-11-16T23:35:37.644Z"
   },
   {
    "duration": 247,
    "start_time": "2023-11-16T23:35:42.516Z"
   },
   {
    "duration": 271,
    "start_time": "2023-11-16T23:35:49.776Z"
   },
   {
    "duration": 399,
    "start_time": "2023-11-16T23:35:55.489Z"
   },
   {
    "duration": 277,
    "start_time": "2023-11-16T23:36:02.259Z"
   },
   {
    "duration": 259,
    "start_time": "2023-11-16T23:37:41.409Z"
   },
   {
    "duration": 249,
    "start_time": "2023-11-16T23:37:46.341Z"
   },
   {
    "duration": 143,
    "start_time": "2023-11-16T23:41:45.442Z"
   },
   {
    "duration": 11,
    "start_time": "2023-11-16T23:41:53.675Z"
   },
   {
    "duration": 2,
    "start_time": "2023-11-16T23:41:59.248Z"
   },
   {
    "duration": 120,
    "start_time": "2023-11-16T23:41:59.415Z"
   },
   {
    "duration": 9,
    "start_time": "2023-11-16T23:41:59.537Z"
   },
   {
    "duration": 77,
    "start_time": "2023-11-16T23:41:59.695Z"
   },
   {
    "duration": 11,
    "start_time": "2023-11-16T23:41:59.773Z"
   },
   {
    "duration": 64,
    "start_time": "2023-11-16T23:41:59.999Z"
   },
   {
    "duration": 10,
    "start_time": "2023-11-16T23:42:00.081Z"
   },
   {
    "duration": 9,
    "start_time": "2023-11-16T23:42:00.414Z"
   },
   {
    "duration": 59,
    "start_time": "2023-11-16T23:42:00.497Z"
   },
   {
    "duration": 31,
    "start_time": "2023-11-16T23:42:00.580Z"
   },
   {
    "duration": 5,
    "start_time": "2023-11-16T23:42:00.664Z"
   },
   {
    "duration": 8,
    "start_time": "2023-11-16T23:42:00.756Z"
   },
   {
    "duration": 8,
    "start_time": "2023-11-16T23:42:00.831Z"
   },
   {
    "duration": 5,
    "start_time": "2023-11-16T23:42:00.935Z"
   },
   {
    "duration": 5,
    "start_time": "2023-11-16T23:42:01.221Z"
   },
   {
    "duration": 6,
    "start_time": "2023-11-16T23:42:01.496Z"
   },
   {
    "duration": 6,
    "start_time": "2023-11-16T23:42:01.664Z"
   },
   {
    "duration": 5,
    "start_time": "2023-11-16T23:42:01.822Z"
   },
   {
    "duration": 247,
    "start_time": "2023-11-16T23:42:03.276Z"
   },
   {
    "duration": 6,
    "start_time": "2023-11-16T23:43:08.863Z"
   },
   {
    "duration": 8,
    "start_time": "2023-11-16T23:43:56.106Z"
   },
   {
    "duration": 8,
    "start_time": "2023-11-16T23:44:33.489Z"
   },
   {
    "duration": 9,
    "start_time": "2023-11-16T23:44:35.969Z"
   },
   {
    "duration": 10,
    "start_time": "2023-11-16T23:44:39.611Z"
   },
   {
    "duration": 96,
    "start_time": "2023-11-16T23:45:14.361Z"
   },
   {
    "duration": 9,
    "start_time": "2023-11-16T23:45:23.717Z"
   },
   {
    "duration": 9,
    "start_time": "2023-11-16T23:45:28.989Z"
   },
   {
    "duration": 9,
    "start_time": "2023-11-16T23:45:37.128Z"
   },
   {
    "duration": 8,
    "start_time": "2023-11-16T23:45:55.914Z"
   },
   {
    "duration": 103,
    "start_time": "2023-11-16T23:56:29.419Z"
   },
   {
    "duration": 838,
    "start_time": "2023-11-17T14:32:14.310Z"
   },
   {
    "duration": 146,
    "start_time": "2023-11-17T14:32:15.150Z"
   },
   {
    "duration": 14,
    "start_time": "2023-11-17T14:32:15.298Z"
   },
   {
    "duration": 221,
    "start_time": "2023-11-17T14:32:15.314Z"
   },
   {
    "duration": 10,
    "start_time": "2023-11-17T14:32:15.536Z"
   },
   {
    "duration": 116,
    "start_time": "2023-11-17T14:32:15.548Z"
   },
   {
    "duration": 10,
    "start_time": "2023-11-17T14:32:15.666Z"
   },
   {
    "duration": 27,
    "start_time": "2023-11-17T14:32:15.677Z"
   },
   {
    "duration": 38,
    "start_time": "2023-11-17T14:32:15.706Z"
   },
   {
    "duration": 18,
    "start_time": "2023-11-17T14:32:15.746Z"
   },
   {
    "duration": 25,
    "start_time": "2023-11-17T14:32:15.766Z"
   },
   {
    "duration": 19,
    "start_time": "2023-11-17T14:32:15.793Z"
   },
   {
    "duration": 32,
    "start_time": "2023-11-17T14:32:15.814Z"
   },
   {
    "duration": 6,
    "start_time": "2023-11-17T14:32:15.848Z"
   },
   {
    "duration": 23,
    "start_time": "2023-11-17T14:32:15.856Z"
   },
   {
    "duration": 12,
    "start_time": "2023-11-17T14:32:15.880Z"
   },
   {
    "duration": 30,
    "start_time": "2023-11-17T14:32:15.894Z"
   },
   {
    "duration": 6,
    "start_time": "2023-11-17T14:32:15.926Z"
   },
   {
    "duration": 308,
    "start_time": "2023-11-17T14:32:15.934Z"
   },
   {
    "duration": 10,
    "start_time": "2023-11-17T14:32:16.244Z"
   },
   {
    "duration": 260,
    "start_time": "2023-11-17T14:32:16.255Z"
   },
   {
    "duration": 236,
    "start_time": "2023-11-17T14:32:16.517Z"
   },
   {
    "duration": 151,
    "start_time": "2023-11-17T14:32:16.754Z"
   },
   {
    "duration": 30,
    "start_time": "2023-11-17T14:32:16.907Z"
   },
   {
    "duration": 11,
    "start_time": "2023-11-17T14:32:16.939Z"
   },
   {
    "duration": 218,
    "start_time": "2023-11-17T14:32:16.952Z"
   },
   {
    "duration": 205,
    "start_time": "2023-11-17T14:32:17.172Z"
   },
   {
    "duration": 19,
    "start_time": "2023-11-17T14:32:17.380Z"
   },
   {
    "duration": 18109,
    "start_time": "2023-11-17T14:32:17.400Z"
   },
   {
    "duration": 10,
    "start_time": "2023-11-17T14:36:49.841Z"
   },
   {
    "duration": 34,
    "start_time": "2023-11-17T14:46:54.058Z"
   },
   {
    "duration": 2,
    "start_time": "2023-11-17T14:46:58.709Z"
   },
   {
    "duration": 79,
    "start_time": "2023-11-17T14:46:58.902Z"
   },
   {
    "duration": 10,
    "start_time": "2023-11-17T14:46:58.983Z"
   },
   {
    "duration": 79,
    "start_time": "2023-11-17T14:46:59.123Z"
   },
   {
    "duration": 12,
    "start_time": "2023-11-17T14:46:59.206Z"
   },
   {
    "duration": 57,
    "start_time": "2023-11-17T14:46:59.462Z"
   },
   {
    "duration": 10,
    "start_time": "2023-11-17T14:46:59.553Z"
   },
   {
    "duration": 10,
    "start_time": "2023-11-17T14:46:59.878Z"
   },
   {
    "duration": 5,
    "start_time": "2023-11-17T14:46:59.956Z"
   },
   {
    "duration": 11,
    "start_time": "2023-11-17T14:47:00.040Z"
   },
   {
    "duration": 6,
    "start_time": "2023-11-17T14:47:00.122Z"
   },
   {
    "duration": 9,
    "start_time": "2023-11-17T14:47:00.207Z"
   },
   {
    "duration": 10,
    "start_time": "2023-11-17T14:47:00.290Z"
   },
   {
    "duration": 6,
    "start_time": "2023-11-17T14:47:00.373Z"
   },
   {
    "duration": 5,
    "start_time": "2023-11-17T14:47:00.543Z"
   },
   {
    "duration": 6,
    "start_time": "2023-11-17T14:47:00.624Z"
   },
   {
    "duration": 7,
    "start_time": "2023-11-17T14:47:00.720Z"
   },
   {
    "duration": 7,
    "start_time": "2023-11-17T14:47:00.789Z"
   },
   {
    "duration": 299,
    "start_time": "2023-11-17T14:47:01.215Z"
   },
   {
    "duration": 9,
    "start_time": "2023-11-17T14:47:01.516Z"
   },
   {
    "duration": 232,
    "start_time": "2023-11-17T14:47:02.653Z"
   },
   {
    "duration": 188,
    "start_time": "2023-11-17T14:47:03.207Z"
   },
   {
    "duration": 142,
    "start_time": "2023-11-17T14:47:03.775Z"
   },
   {
    "duration": 32,
    "start_time": "2023-11-17T14:47:08.253Z"
   },
   {
    "duration": 11,
    "start_time": "2023-11-17T14:47:08.697Z"
   },
   {
    "duration": 204,
    "start_time": "2023-11-17T14:47:10.057Z"
   },
   {
    "duration": 204,
    "start_time": "2023-11-17T14:47:11.875Z"
   },
   {
    "duration": 198,
    "start_time": "2023-11-17T14:48:36.250Z"
   },
   {
    "duration": 216,
    "start_time": "2023-11-17T14:48:41.154Z"
   },
   {
    "duration": 302,
    "start_time": "2023-11-17T14:49:04.348Z"
   },
   {
    "duration": 100,
    "start_time": "2023-11-17T14:52:52.077Z"
   },
   {
    "duration": 84,
    "start_time": "2023-11-17T15:11:10.630Z"
   },
   {
    "duration": 24,
    "start_time": "2023-11-17T15:17:50.730Z"
   },
   {
    "duration": 18550,
    "start_time": "2023-11-17T15:18:52.208Z"
   },
   {
    "duration": 3,
    "start_time": "2023-11-17T15:25:47.616Z"
   },
   {
    "duration": 83,
    "start_time": "2023-11-17T15:25:47.786Z"
   },
   {
    "duration": 10,
    "start_time": "2023-11-17T15:25:47.871Z"
   },
   {
    "duration": 82,
    "start_time": "2023-11-17T15:25:48.029Z"
   },
   {
    "duration": 11,
    "start_time": "2023-11-17T15:25:48.116Z"
   },
   {
    "duration": 60,
    "start_time": "2023-11-17T15:25:48.459Z"
   },
   {
    "duration": 10,
    "start_time": "2023-11-17T15:25:48.521Z"
   },
   {
    "duration": 12,
    "start_time": "2023-11-17T15:25:48.786Z"
   },
   {
    "duration": 6,
    "start_time": "2023-11-17T15:25:48.886Z"
   },
   {
    "duration": 14,
    "start_time": "2023-11-17T15:25:48.959Z"
   },
   {
    "duration": 5,
    "start_time": "2023-11-17T15:25:49.038Z"
   },
   {
    "duration": 8,
    "start_time": "2023-11-17T15:25:49.117Z"
   },
   {
    "duration": 9,
    "start_time": "2023-11-17T15:25:49.200Z"
   },
   {
    "duration": 5,
    "start_time": "2023-11-17T15:25:49.285Z"
   },
   {
    "duration": 4,
    "start_time": "2023-11-17T15:25:49.453Z"
   },
   {
    "duration": 7,
    "start_time": "2023-11-17T15:25:49.538Z"
   },
   {
    "duration": 7,
    "start_time": "2023-11-17T15:25:49.621Z"
   },
   {
    "duration": 7,
    "start_time": "2023-11-17T15:25:49.705Z"
   },
   {
    "duration": 276,
    "start_time": "2023-11-17T15:25:50.126Z"
   },
   {
    "duration": 10,
    "start_time": "2023-11-17T15:25:50.404Z"
   },
   {
    "duration": 245,
    "start_time": "2023-11-17T15:25:50.630Z"
   },
   {
    "duration": 183,
    "start_time": "2023-11-17T15:25:50.877Z"
   },
   {
    "duration": 150,
    "start_time": "2023-11-17T15:25:51.062Z"
   },
   {
    "duration": 32,
    "start_time": "2023-11-17T15:25:52.502Z"
   },
   {
    "duration": 12,
    "start_time": "2023-11-17T15:25:53.150Z"
   },
   {
    "duration": 229,
    "start_time": "2023-11-17T15:25:53.759Z"
   },
   {
    "duration": 196,
    "start_time": "2023-11-17T15:25:54.534Z"
   },
   {
    "duration": 31,
    "start_time": "2023-11-17T15:25:56.860Z"
   },
   {
    "duration": 60,
    "start_time": "2023-11-17T15:26:24.036Z"
   },
   {
    "duration": 53,
    "start_time": "2023-11-17T15:26:32.937Z"
   },
   {
    "duration": 6258,
    "start_time": "2023-11-17T15:26:53.939Z"
   },
   {
    "duration": 8232,
    "start_time": "2023-11-17T15:27:34.525Z"
   },
   {
    "duration": 15435,
    "start_time": "2023-11-17T15:28:17.613Z"
   },
   {
    "duration": 21132,
    "start_time": "2023-11-17T15:29:12.878Z"
   },
   {
    "duration": 13,
    "start_time": "2023-11-17T15:33:31.227Z"
   },
   {
    "duration": 16,
    "start_time": "2023-11-17T15:33:38.145Z"
   },
   {
    "duration": 16,
    "start_time": "2023-11-17T15:33:44.109Z"
   },
   {
    "duration": 17,
    "start_time": "2023-11-17T15:33:53.603Z"
   },
   {
    "duration": 23,
    "start_time": "2023-11-17T15:33:57.644Z"
   },
   {
    "duration": 14,
    "start_time": "2023-11-17T15:34:08.317Z"
   },
   {
    "duration": 22,
    "start_time": "2023-11-17T15:34:26.287Z"
   },
   {
    "duration": 22487,
    "start_time": "2023-11-17T15:34:35.906Z"
   },
   {
    "duration": 0,
    "start_time": "2023-11-17T15:34:58.394Z"
   },
   {
    "duration": 26,
    "start_time": "2023-11-17T15:35:11.339Z"
   },
   {
    "duration": 15,
    "start_time": "2023-11-17T15:35:13.842Z"
   },
   {
    "duration": 13,
    "start_time": "2023-11-17T15:35:33.367Z"
   },
   {
    "duration": 22716,
    "start_time": "2023-11-17T15:35:40.382Z"
   },
   {
    "duration": 13236,
    "start_time": "2023-11-17T15:40:59.137Z"
   },
   {
    "duration": 12979,
    "start_time": "2023-11-17T15:41:38.586Z"
   },
   {
    "duration": 20999,
    "start_time": "2023-11-17T15:41:56.925Z"
   },
   {
    "duration": 21494,
    "start_time": "2023-11-17T15:51:22.241Z"
   },
   {
    "duration": 16331,
    "start_time": "2023-11-17T15:55:50.189Z"
   },
   {
    "duration": 16,
    "start_time": "2023-11-17T15:57:24.736Z"
   },
   {
    "duration": 1507,
    "start_time": "2023-11-17T15:58:11.232Z"
   },
   {
    "duration": 24,
    "start_time": "2023-11-17T16:05:11.575Z"
   },
   {
    "duration": 36,
    "start_time": "2023-11-17T16:06:15.068Z"
   },
   {
    "duration": 26,
    "start_time": "2023-11-17T16:06:19.395Z"
   },
   {
    "duration": 28,
    "start_time": "2023-11-17T16:06:45.970Z"
   },
   {
    "duration": 18,
    "start_time": "2023-11-17T16:06:48.476Z"
   },
   {
    "duration": 24,
    "start_time": "2023-11-17T16:07:00.902Z"
   },
   {
    "duration": 620,
    "start_time": "2023-11-17T16:10:06.999Z"
   },
   {
    "duration": 92,
    "start_time": "2023-11-17T16:10:07.620Z"
   },
   {
    "duration": 12,
    "start_time": "2023-11-17T16:10:07.714Z"
   },
   {
    "duration": 110,
    "start_time": "2023-11-17T16:10:07.837Z"
   },
   {
    "duration": 12,
    "start_time": "2023-11-17T16:10:12.013Z"
   },
   {
    "duration": 92,
    "start_time": "2023-11-17T16:10:12.665Z"
   },
   {
    "duration": 11,
    "start_time": "2023-11-17T16:10:12.758Z"
   },
   {
    "duration": 10,
    "start_time": "2023-11-17T16:10:13.075Z"
   },
   {
    "duration": 7,
    "start_time": "2023-11-17T16:10:13.169Z"
   },
   {
    "duration": 16,
    "start_time": "2023-11-17T16:10:13.241Z"
   },
   {
    "duration": 7,
    "start_time": "2023-11-17T16:10:13.325Z"
   },
   {
    "duration": 11,
    "start_time": "2023-11-17T16:10:13.408Z"
   },
   {
    "duration": 13,
    "start_time": "2023-11-17T16:10:13.494Z"
   },
   {
    "duration": 6,
    "start_time": "2023-11-17T16:10:13.577Z"
   },
   {
    "duration": 5,
    "start_time": "2023-11-17T16:10:13.743Z"
   },
   {
    "duration": 8,
    "start_time": "2023-11-17T16:10:13.830Z"
   },
   {
    "duration": 8,
    "start_time": "2023-11-17T16:10:13.913Z"
   },
   {
    "duration": 9,
    "start_time": "2023-11-17T16:10:13.996Z"
   },
   {
    "duration": 273,
    "start_time": "2023-11-17T16:10:14.416Z"
   },
   {
    "duration": 12,
    "start_time": "2023-11-17T16:10:14.691Z"
   },
   {
    "duration": 256,
    "start_time": "2023-11-17T16:10:15.190Z"
   },
   {
    "duration": 194,
    "start_time": "2023-11-17T16:10:17.800Z"
   },
   {
    "duration": 153,
    "start_time": "2023-11-17T16:10:17.999Z"
   },
   {
    "duration": 32,
    "start_time": "2023-11-17T16:10:20.134Z"
   },
   {
    "duration": 12,
    "start_time": "2023-11-17T16:10:20.365Z"
   },
   {
    "duration": 329,
    "start_time": "2023-11-17T16:10:20.742Z"
   },
   {
    "duration": 206,
    "start_time": "2023-11-17T16:10:21.101Z"
   },
   {
    "duration": 23,
    "start_time": "2023-11-17T16:10:26.481Z"
   },
   {
    "duration": 42,
    "start_time": "2023-11-17T16:10:30.792Z"
   },
   {
    "duration": 28,
    "start_time": "2023-11-17T16:11:04.972Z"
   },
   {
    "duration": 20,
    "start_time": "2023-11-17T16:11:10.201Z"
   },
   {
    "duration": 26,
    "start_time": "2023-11-17T16:11:17.044Z"
   },
   {
    "duration": 20,
    "start_time": "2023-11-17T16:11:25.796Z"
   },
   {
    "duration": 19,
    "start_time": "2023-11-17T16:11:29.561Z"
   },
   {
    "duration": 26,
    "start_time": "2023-11-17T16:11:39.119Z"
   },
   {
    "duration": 22,
    "start_time": "2023-11-17T16:11:41.850Z"
   },
   {
    "duration": 1123,
    "start_time": "2023-11-17T16:17:25.351Z"
   },
   {
    "duration": 144,
    "start_time": "2023-11-17T16:17:26.476Z"
   },
   {
    "duration": 12,
    "start_time": "2023-11-17T16:17:26.621Z"
   },
   {
    "duration": 231,
    "start_time": "2023-11-17T16:17:26.635Z"
   },
   {
    "duration": 12,
    "start_time": "2023-11-17T16:17:26.868Z"
   },
   {
    "duration": 124,
    "start_time": "2023-11-17T16:17:26.881Z"
   },
   {
    "duration": 11,
    "start_time": "2023-11-17T16:17:27.006Z"
   },
   {
    "duration": 23,
    "start_time": "2023-11-17T16:17:27.018Z"
   },
   {
    "duration": 5,
    "start_time": "2023-11-17T16:17:27.043Z"
   },
   {
    "duration": 12,
    "start_time": "2023-11-17T16:17:27.050Z"
   },
   {
    "duration": 5,
    "start_time": "2023-11-17T16:17:27.064Z"
   },
   {
    "duration": 32,
    "start_time": "2023-11-17T16:17:27.070Z"
   },
   {
    "duration": 9,
    "start_time": "2023-11-17T16:17:27.104Z"
   },
   {
    "duration": 18,
    "start_time": "2023-11-17T16:17:27.115Z"
   },
   {
    "duration": 15,
    "start_time": "2023-11-17T16:17:27.135Z"
   },
   {
    "duration": 10,
    "start_time": "2023-11-17T16:17:27.151Z"
   },
   {
    "duration": 12,
    "start_time": "2023-11-17T16:17:27.163Z"
   },
   {
    "duration": 7,
    "start_time": "2023-11-17T16:17:27.177Z"
   },
   {
    "duration": 305,
    "start_time": "2023-11-17T16:17:27.186Z"
   },
   {
    "duration": 12,
    "start_time": "2023-11-17T16:17:27.493Z"
   },
   {
    "duration": 258,
    "start_time": "2023-11-17T16:17:27.507Z"
   },
   {
    "duration": 182,
    "start_time": "2023-11-17T16:17:27.766Z"
   },
   {
    "duration": 153,
    "start_time": "2023-11-17T16:17:27.949Z"
   },
   {
    "duration": 34,
    "start_time": "2023-11-17T16:17:28.103Z"
   },
   {
    "duration": 11,
    "start_time": "2023-11-17T16:17:28.139Z"
   },
   {
    "duration": 240,
    "start_time": "2023-11-17T16:17:28.152Z"
   },
   {
    "duration": 274,
    "start_time": "2023-11-17T16:17:28.398Z"
   },
   {
    "duration": 31,
    "start_time": "2023-11-17T16:17:28.674Z"
   },
   {
    "duration": 1125,
    "start_time": "2023-11-17T16:18:34.437Z"
   },
   {
    "duration": 154,
    "start_time": "2023-11-17T16:18:35.564Z"
   },
   {
    "duration": 11,
    "start_time": "2023-11-17T16:18:35.720Z"
   },
   {
    "duration": 224,
    "start_time": "2023-11-17T16:18:35.733Z"
   },
   {
    "duration": 12,
    "start_time": "2023-11-17T16:18:35.959Z"
   },
   {
    "duration": 108,
    "start_time": "2023-11-17T16:18:35.972Z"
   },
   {
    "duration": 10,
    "start_time": "2023-11-17T16:18:36.082Z"
   },
   {
    "duration": 13,
    "start_time": "2023-11-17T16:18:36.094Z"
   },
   {
    "duration": 10,
    "start_time": "2023-11-17T16:18:36.109Z"
   },
   {
    "duration": 19,
    "start_time": "2023-11-17T16:18:36.122Z"
   },
   {
    "duration": 6,
    "start_time": "2023-11-17T16:18:36.142Z"
   },
   {
    "duration": 32,
    "start_time": "2023-11-17T16:18:36.149Z"
   },
   {
    "duration": 8,
    "start_time": "2023-11-17T16:18:36.183Z"
   },
   {
    "duration": 6,
    "start_time": "2023-11-17T16:18:36.193Z"
   },
   {
    "duration": 9,
    "start_time": "2023-11-17T16:18:36.200Z"
   },
   {
    "duration": 7,
    "start_time": "2023-11-17T16:18:36.210Z"
   },
   {
    "duration": 6,
    "start_time": "2023-11-17T16:18:36.218Z"
   },
   {
    "duration": 7,
    "start_time": "2023-11-17T16:18:36.225Z"
   },
   {
    "duration": 297,
    "start_time": "2023-11-17T16:18:36.233Z"
   },
   {
    "duration": 9,
    "start_time": "2023-11-17T16:18:36.531Z"
   },
   {
    "duration": 256,
    "start_time": "2023-11-17T16:18:36.542Z"
   },
   {
    "duration": 182,
    "start_time": "2023-11-17T16:18:36.800Z"
   },
   {
    "duration": 149,
    "start_time": "2023-11-17T16:18:36.984Z"
   },
   {
    "duration": 32,
    "start_time": "2023-11-17T16:18:37.135Z"
   },
   {
    "duration": 11,
    "start_time": "2023-11-17T16:18:37.168Z"
   },
   {
    "duration": 227,
    "start_time": "2023-11-17T16:18:37.198Z"
   },
   {
    "duration": 274,
    "start_time": "2023-11-17T16:18:37.427Z"
   },
   {
    "duration": 26,
    "start_time": "2023-11-17T16:18:37.704Z"
   },
   {
    "duration": 48,
    "start_time": "2023-11-17T16:19:42.922Z"
   },
   {
    "duration": 1145,
    "start_time": "2023-11-17T16:19:49.304Z"
   },
   {
    "duration": 143,
    "start_time": "2023-11-17T16:19:50.451Z"
   },
   {
    "duration": 10,
    "start_time": "2023-11-17T16:19:50.596Z"
   },
   {
    "duration": 226,
    "start_time": "2023-11-17T16:19:50.608Z"
   },
   {
    "duration": 11,
    "start_time": "2023-11-17T16:19:50.836Z"
   },
   {
    "duration": 118,
    "start_time": "2023-11-17T16:19:50.849Z"
   },
   {
    "duration": 10,
    "start_time": "2023-11-17T16:19:50.969Z"
   },
   {
    "duration": 18,
    "start_time": "2023-11-17T16:19:50.981Z"
   },
   {
    "duration": 4,
    "start_time": "2023-11-17T16:19:51.001Z"
   },
   {
    "duration": 18,
    "start_time": "2023-11-17T16:19:51.007Z"
   },
   {
    "duration": 11,
    "start_time": "2023-11-17T16:19:51.026Z"
   },
   {
    "duration": 18,
    "start_time": "2023-11-17T16:19:51.039Z"
   },
   {
    "duration": 16,
    "start_time": "2023-11-17T16:19:51.058Z"
   },
   {
    "duration": 5,
    "start_time": "2023-11-17T16:19:51.076Z"
   },
   {
    "duration": 7,
    "start_time": "2023-11-17T16:19:51.083Z"
   },
   {
    "duration": 15,
    "start_time": "2023-11-17T16:19:51.091Z"
   },
   {
    "duration": 12,
    "start_time": "2023-11-17T16:19:51.108Z"
   },
   {
    "duration": 12,
    "start_time": "2023-11-17T16:19:51.121Z"
   },
   {
    "duration": 291,
    "start_time": "2023-11-17T16:19:51.135Z"
   },
   {
    "duration": 10,
    "start_time": "2023-11-17T16:19:51.428Z"
   },
   {
    "duration": 242,
    "start_time": "2023-11-17T16:19:51.440Z"
   },
   {
    "duration": 194,
    "start_time": "2023-11-17T16:19:51.684Z"
   },
   {
    "duration": 152,
    "start_time": "2023-11-17T16:19:51.880Z"
   },
   {
    "duration": 31,
    "start_time": "2023-11-17T16:19:52.034Z"
   },
   {
    "duration": 12,
    "start_time": "2023-11-17T16:19:52.067Z"
   },
   {
    "duration": 248,
    "start_time": "2023-11-17T16:19:52.080Z"
   },
   {
    "duration": 287,
    "start_time": "2023-11-17T16:19:52.330Z"
   },
   {
    "duration": 24,
    "start_time": "2023-11-17T16:19:52.618Z"
   },
   {
    "duration": 1104,
    "start_time": "2023-11-17T16:20:52.846Z"
   },
   {
    "duration": 140,
    "start_time": "2023-11-17T16:20:53.952Z"
   },
   {
    "duration": 11,
    "start_time": "2023-11-17T16:20:54.093Z"
   },
   {
    "duration": 214,
    "start_time": "2023-11-17T16:20:54.106Z"
   },
   {
    "duration": 11,
    "start_time": "2023-11-17T16:20:54.322Z"
   },
   {
    "duration": 119,
    "start_time": "2023-11-17T16:20:54.334Z"
   },
   {
    "duration": 10,
    "start_time": "2023-11-17T16:20:54.455Z"
   },
   {
    "duration": 34,
    "start_time": "2023-11-17T16:20:54.467Z"
   },
   {
    "duration": 15,
    "start_time": "2023-11-17T16:20:54.502Z"
   },
   {
    "duration": 15,
    "start_time": "2023-11-17T16:20:54.521Z"
   },
   {
    "duration": 15,
    "start_time": "2023-11-17T16:20:54.537Z"
   },
   {
    "duration": 20,
    "start_time": "2023-11-17T16:20:54.554Z"
   },
   {
    "duration": 7,
    "start_time": "2023-11-17T16:20:54.576Z"
   },
   {
    "duration": 4,
    "start_time": "2023-11-17T16:20:54.585Z"
   },
   {
    "duration": 6,
    "start_time": "2023-11-17T16:20:54.590Z"
   },
   {
    "duration": 24,
    "start_time": "2023-11-17T16:20:54.597Z"
   },
   {
    "duration": 11,
    "start_time": "2023-11-17T16:20:54.623Z"
   },
   {
    "duration": 5,
    "start_time": "2023-11-17T16:20:54.636Z"
   },
   {
    "duration": 276,
    "start_time": "2023-11-17T16:20:54.642Z"
   },
   {
    "duration": 8,
    "start_time": "2023-11-17T16:20:54.920Z"
   },
   {
    "duration": 238,
    "start_time": "2023-11-17T16:20:54.930Z"
   },
   {
    "duration": 199,
    "start_time": "2023-11-17T16:20:55.169Z"
   },
   {
    "duration": 159,
    "start_time": "2023-11-17T16:20:55.370Z"
   },
   {
    "duration": 41,
    "start_time": "2023-11-17T16:20:55.530Z"
   },
   {
    "duration": 10,
    "start_time": "2023-11-17T16:20:55.573Z"
   },
   {
    "duration": 242,
    "start_time": "2023-11-17T16:20:55.599Z"
   },
   {
    "duration": 284,
    "start_time": "2023-11-17T16:20:55.843Z"
   },
   {
    "duration": 21,
    "start_time": "2023-11-17T16:20:56.130Z"
   },
   {
    "duration": 1206,
    "start_time": "2023-11-17T16:23:12.803Z"
   },
   {
    "duration": 146,
    "start_time": "2023-11-17T16:23:14.011Z"
   },
   {
    "duration": 11,
    "start_time": "2023-11-17T16:23:14.159Z"
   },
   {
    "duration": 217,
    "start_time": "2023-11-17T16:23:14.171Z"
   },
   {
    "duration": 12,
    "start_time": "2023-11-17T16:23:14.390Z"
   },
   {
    "duration": 105,
    "start_time": "2023-11-17T16:23:14.404Z"
   },
   {
    "duration": 11,
    "start_time": "2023-11-17T16:23:14.511Z"
   },
   {
    "duration": 10,
    "start_time": "2023-11-17T16:23:14.524Z"
   },
   {
    "duration": 4,
    "start_time": "2023-11-17T16:23:14.536Z"
   },
   {
    "duration": 17,
    "start_time": "2023-11-17T16:23:14.542Z"
   },
   {
    "duration": 7,
    "start_time": "2023-11-17T16:23:14.560Z"
   },
   {
    "duration": 33,
    "start_time": "2023-11-17T16:23:14.568Z"
   },
   {
    "duration": 8,
    "start_time": "2023-11-17T16:23:14.603Z"
   },
   {
    "duration": 5,
    "start_time": "2023-11-17T16:23:14.614Z"
   },
   {
    "duration": 5,
    "start_time": "2023-11-17T16:23:14.620Z"
   },
   {
    "duration": 8,
    "start_time": "2023-11-17T16:23:14.627Z"
   },
   {
    "duration": 11,
    "start_time": "2023-11-17T16:23:14.637Z"
   },
   {
    "duration": 11,
    "start_time": "2023-11-17T16:23:14.650Z"
   },
   {
    "duration": 319,
    "start_time": "2023-11-17T16:23:14.663Z"
   },
   {
    "duration": 19,
    "start_time": "2023-11-17T16:23:14.984Z"
   },
   {
    "duration": 299,
    "start_time": "2023-11-17T16:23:15.005Z"
   },
   {
    "duration": 222,
    "start_time": "2023-11-17T16:23:15.306Z"
   },
   {
    "duration": 163,
    "start_time": "2023-11-17T16:23:15.530Z"
   },
   {
    "duration": 36,
    "start_time": "2023-11-17T16:23:15.695Z"
   },
   {
    "duration": 14,
    "start_time": "2023-11-17T16:23:15.733Z"
   },
   {
    "duration": 244,
    "start_time": "2023-11-17T16:23:15.749Z"
   },
   {
    "duration": 287,
    "start_time": "2023-11-17T16:23:15.994Z"
   },
   {
    "duration": 38,
    "start_time": "2023-11-17T16:23:16.282Z"
   },
   {
    "duration": 51,
    "start_time": "2023-11-17T16:23:16.322Z"
   },
   {
    "duration": 1259,
    "start_time": "2023-11-17T16:23:43.094Z"
   },
   {
    "duration": 1124,
    "start_time": "2023-11-17T16:24:07.752Z"
   },
   {
    "duration": 94,
    "start_time": "2023-11-17T16:24:08.878Z"
   },
   {
    "duration": 12,
    "start_time": "2023-11-17T16:24:08.973Z"
   },
   {
    "duration": 87,
    "start_time": "2023-11-17T16:24:08.987Z"
   },
   {
    "duration": 11,
    "start_time": "2023-11-17T16:24:09.076Z"
   },
   {
    "duration": 64,
    "start_time": "2023-11-17T16:24:09.088Z"
   },
   {
    "duration": 10,
    "start_time": "2023-11-17T16:24:09.154Z"
   },
   {
    "duration": 22,
    "start_time": "2023-11-17T16:24:09.166Z"
   },
   {
    "duration": 14,
    "start_time": "2023-11-17T16:24:09.190Z"
   },
   {
    "duration": 10,
    "start_time": "2023-11-17T16:24:09.208Z"
   },
   {
    "duration": 21,
    "start_time": "2023-11-17T16:24:09.220Z"
   },
   {
    "duration": 9,
    "start_time": "2023-11-17T16:24:09.243Z"
   },
   {
    "duration": 9,
    "start_time": "2023-11-17T16:24:09.253Z"
   },
   {
    "duration": 6,
    "start_time": "2023-11-17T16:24:09.263Z"
   },
   {
    "duration": 20,
    "start_time": "2023-11-17T16:24:09.270Z"
   },
   {
    "duration": 13,
    "start_time": "2023-11-17T16:24:09.298Z"
   },
   {
    "duration": 9,
    "start_time": "2023-11-17T16:24:09.313Z"
   },
   {
    "duration": 11,
    "start_time": "2023-11-17T16:24:09.323Z"
   },
   {
    "duration": 295,
    "start_time": "2023-11-17T16:24:09.336Z"
   },
   {
    "duration": 9,
    "start_time": "2023-11-17T16:24:09.633Z"
   },
   {
    "duration": 255,
    "start_time": "2023-11-17T16:24:09.644Z"
   },
   {
    "duration": 185,
    "start_time": "2023-11-17T16:24:09.901Z"
   },
   {
    "duration": 152,
    "start_time": "2023-11-17T16:24:10.087Z"
   },
   {
    "duration": 38,
    "start_time": "2023-11-17T16:24:10.241Z"
   },
   {
    "duration": 25,
    "start_time": "2023-11-17T16:24:10.281Z"
   },
   {
    "duration": 234,
    "start_time": "2023-11-17T16:24:10.307Z"
   },
   {
    "duration": 299,
    "start_time": "2023-11-17T16:24:10.543Z"
   },
   {
    "duration": 25,
    "start_time": "2023-11-17T16:24:10.846Z"
   },
   {
    "duration": 1292,
    "start_time": "2023-11-17T16:24:10.873Z"
   },
   {
    "duration": 1182,
    "start_time": "2023-11-17T16:24:42.872Z"
   },
   {
    "duration": 86,
    "start_time": "2023-11-17T16:24:44.056Z"
   },
   {
    "duration": 11,
    "start_time": "2023-11-17T16:24:44.144Z"
   },
   {
    "duration": 80,
    "start_time": "2023-11-17T16:24:44.157Z"
   },
   {
    "duration": 11,
    "start_time": "2023-11-17T16:24:44.239Z"
   },
   {
    "duration": 58,
    "start_time": "2023-11-17T16:24:44.252Z"
   },
   {
    "duration": 10,
    "start_time": "2023-11-17T16:24:44.311Z"
   },
   {
    "duration": 15,
    "start_time": "2023-11-17T16:24:44.323Z"
   },
   {
    "duration": 4,
    "start_time": "2023-11-17T16:24:44.340Z"
   },
   {
    "duration": 21,
    "start_time": "2023-11-17T16:24:44.346Z"
   },
   {
    "duration": 7,
    "start_time": "2023-11-17T16:24:44.369Z"
   },
   {
    "duration": 23,
    "start_time": "2023-11-17T16:24:44.377Z"
   },
   {
    "duration": 9,
    "start_time": "2023-11-17T16:24:44.402Z"
   },
   {
    "duration": 5,
    "start_time": "2023-11-17T16:24:44.414Z"
   },
   {
    "duration": 5,
    "start_time": "2023-11-17T16:24:44.420Z"
   },
   {
    "duration": 7,
    "start_time": "2023-11-17T16:24:44.427Z"
   },
   {
    "duration": 12,
    "start_time": "2023-11-17T16:24:44.436Z"
   },
   {
    "duration": 7,
    "start_time": "2023-11-17T16:24:44.450Z"
   },
   {
    "duration": 331,
    "start_time": "2023-11-17T16:24:44.459Z"
   },
   {
    "duration": 23,
    "start_time": "2023-11-17T16:24:44.791Z"
   },
   {
    "duration": 254,
    "start_time": "2023-11-17T16:24:44.816Z"
   },
   {
    "duration": 213,
    "start_time": "2023-11-17T16:24:45.072Z"
   },
   {
    "duration": 190,
    "start_time": "2023-11-17T16:24:45.287Z"
   },
   {
    "duration": 42,
    "start_time": "2023-11-17T16:24:45.479Z"
   },
   {
    "duration": 12,
    "start_time": "2023-11-17T16:24:45.522Z"
   },
   {
    "duration": 260,
    "start_time": "2023-11-17T16:24:45.536Z"
   },
   {
    "duration": 300,
    "start_time": "2023-11-17T16:24:45.799Z"
   },
   {
    "duration": 25,
    "start_time": "2023-11-17T16:24:46.100Z"
   },
   {
    "duration": 12121,
    "start_time": "2023-11-17T16:24:46.127Z"
   },
   {
    "duration": 91,
    "start_time": "2023-11-17T16:26:26.866Z"
   },
   {
    "duration": 18326,
    "start_time": "2023-11-17T16:26:36.094Z"
   },
   {
    "duration": 26314,
    "start_time": "2023-11-17T16:27:17.922Z"
   },
   {
    "duration": 11624,
    "start_time": "2023-11-17T16:27:49.798Z"
   },
   {
    "duration": 1398,
    "start_time": "2023-11-17T22:06:43.104Z"
   },
   {
    "duration": 138,
    "start_time": "2023-11-17T22:06:44.504Z"
   },
   {
    "duration": 11,
    "start_time": "2023-11-17T22:06:44.644Z"
   },
   {
    "duration": 117,
    "start_time": "2023-11-17T22:06:44.657Z"
   },
   {
    "duration": 10,
    "start_time": "2023-11-17T22:06:44.776Z"
   },
   {
    "duration": 93,
    "start_time": "2023-11-17T22:06:44.788Z"
   },
   {
    "duration": 10,
    "start_time": "2023-11-17T22:06:44.883Z"
   },
   {
    "duration": 12,
    "start_time": "2023-11-17T22:06:44.894Z"
   },
   {
    "duration": 5,
    "start_time": "2023-11-17T22:06:44.908Z"
   },
   {
    "duration": 11,
    "start_time": "2023-11-17T22:06:44.916Z"
   },
   {
    "duration": 5,
    "start_time": "2023-11-17T22:06:44.929Z"
   },
   {
    "duration": 11,
    "start_time": "2023-11-17T22:06:44.936Z"
   },
   {
    "duration": 8,
    "start_time": "2023-11-17T22:06:44.949Z"
   },
   {
    "duration": 5,
    "start_time": "2023-11-17T22:06:44.959Z"
   },
   {
    "duration": 46,
    "start_time": "2023-11-17T22:06:44.965Z"
   },
   {
    "duration": 7,
    "start_time": "2023-11-17T22:06:45.013Z"
   },
   {
    "duration": 44,
    "start_time": "2023-11-17T22:06:45.021Z"
   },
   {
    "duration": 16,
    "start_time": "2023-11-17T22:06:45.067Z"
   },
   {
    "duration": 298,
    "start_time": "2023-11-17T22:06:45.085Z"
   },
   {
    "duration": 11,
    "start_time": "2023-11-17T22:06:45.384Z"
   },
   {
    "duration": 266,
    "start_time": "2023-11-17T22:06:45.396Z"
   },
   {
    "duration": 191,
    "start_time": "2023-11-17T22:06:45.664Z"
   },
   {
    "duration": 158,
    "start_time": "2023-11-17T22:06:45.857Z"
   },
   {
    "duration": 35,
    "start_time": "2023-11-17T22:06:46.017Z"
   },
   {
    "duration": 12,
    "start_time": "2023-11-17T22:06:46.054Z"
   },
   {
    "duration": 269,
    "start_time": "2023-11-17T22:06:46.067Z"
   },
   {
    "duration": 280,
    "start_time": "2023-11-17T22:06:46.337Z"
   },
   {
    "duration": 24,
    "start_time": "2023-11-17T22:06:46.621Z"
   },
   {
    "duration": 11367,
    "start_time": "2023-11-17T22:06:46.647Z"
   },
   {
    "duration": 8307,
    "start_time": "2023-11-17T22:10:32.343Z"
   },
   {
    "duration": 16,
    "start_time": "2023-11-17T22:12:53.001Z"
   },
   {
    "duration": 23,
    "start_time": "2023-11-17T22:12:55.760Z"
   },
   {
    "duration": 10291,
    "start_time": "2023-11-17T22:14:19.775Z"
   },
   {
    "duration": 11729,
    "start_time": "2023-11-17T22:14:52.057Z"
   },
   {
    "duration": 10487,
    "start_time": "2023-11-17T22:15:09.729Z"
   },
   {
    "duration": 4764,
    "start_time": "2023-11-17T22:23:15.020Z"
   },
   {
    "duration": 4769,
    "start_time": "2023-11-17T22:23:30.500Z"
   },
   {
    "duration": 7952,
    "start_time": "2023-11-17T22:24:00.452Z"
   },
   {
    "duration": 4840,
    "start_time": "2023-11-17T22:39:22.308Z"
   },
   {
    "duration": 22,
    "start_time": "2023-11-17T22:40:14.282Z"
   },
   {
    "duration": 98,
    "start_time": "2023-11-17T22:47:23.867Z"
   },
   {
    "duration": 85,
    "start_time": "2023-11-17T23:05:53.190Z"
   },
   {
    "duration": 28,
    "start_time": "2023-11-17T23:06:03.112Z"
   },
   {
    "duration": 20,
    "start_time": "2023-11-17T23:06:52.630Z"
   },
   {
    "duration": 19,
    "start_time": "2023-11-17T23:07:03.741Z"
   },
   {
    "duration": 20,
    "start_time": "2023-11-17T23:07:24.670Z"
   },
   {
    "duration": 20,
    "start_time": "2023-11-17T23:07:29.909Z"
   },
   {
    "duration": 47,
    "start_time": "2023-11-17T23:07:54.945Z"
   },
   {
    "duration": 38,
    "start_time": "2023-11-17T23:07:57.595Z"
   },
   {
    "duration": 30,
    "start_time": "2023-11-17T23:08:03.229Z"
   },
   {
    "duration": 28,
    "start_time": "2023-11-17T23:08:16.807Z"
   },
   {
    "duration": 29,
    "start_time": "2023-11-17T23:08:20.376Z"
   },
   {
    "duration": 8860,
    "start_time": "2023-11-17T23:08:43.113Z"
   },
   {
    "duration": 80858,
    "start_time": "2023-11-17T23:09:00.854Z"
   },
   {
    "duration": 40089,
    "start_time": "2023-11-17T23:10:29.222Z"
   },
   {
    "duration": 47020,
    "start_time": "2023-11-17T23:11:18.420Z"
   },
   {
    "duration": 2542,
    "start_time": "2023-11-17T23:12:21.933Z"
   },
   {
    "duration": 38928,
    "start_time": "2023-11-17T23:13:59.581Z"
   },
   {
    "duration": 6431,
    "start_time": "2023-11-17T23:15:04.285Z"
   },
   {
    "duration": 2333,
    "start_time": "2023-11-17T23:15:14.845Z"
   },
   {
    "duration": 6074,
    "start_time": "2023-11-17T23:15:24.754Z"
   },
   {
    "duration": 13359,
    "start_time": "2023-11-17T23:15:43.874Z"
   },
   {
    "duration": 3599,
    "start_time": "2023-11-17T23:16:34.675Z"
   },
   {
    "duration": 16196,
    "start_time": "2023-11-17T23:17:10.160Z"
   },
   {
    "duration": 16098,
    "start_time": "2023-11-17T23:17:45.209Z"
   },
   {
    "duration": 119859,
    "start_time": "2023-11-17T23:18:27.417Z"
   },
   {
    "duration": 9896,
    "start_time": "2023-11-17T23:20:42.000Z"
   },
   {
    "duration": 23,
    "start_time": "2023-11-17T23:21:41.613Z"
   },
   {
    "duration": 7481,
    "start_time": "2023-11-17T23:22:10.756Z"
   },
   {
    "duration": 16310,
    "start_time": "2023-11-17T23:22:21.215Z"
   },
   {
    "duration": 9,
    "start_time": "2023-11-17T23:23:01.210Z"
   },
   {
    "duration": 136,
    "start_time": "2023-11-17T23:23:11.176Z"
   },
   {
    "duration": 10,
    "start_time": "2023-11-17T23:23:33.331Z"
   },
   {
    "duration": 141,
    "start_time": "2023-11-17T23:23:47.599Z"
   },
   {
    "duration": 179,
    "start_time": "2023-11-17T23:23:52.325Z"
   },
   {
    "duration": 190,
    "start_time": "2023-11-17T23:23:54.928Z"
   },
   {
    "duration": 192,
    "start_time": "2023-11-17T23:23:58.455Z"
   },
   {
    "duration": 179,
    "start_time": "2023-11-17T23:24:01.101Z"
   },
   {
    "duration": 181,
    "start_time": "2023-11-17T23:24:03.214Z"
   },
   {
    "duration": 180,
    "start_time": "2023-11-17T23:24:06.635Z"
   },
   {
    "duration": 11,
    "start_time": "2023-11-17T23:25:08.463Z"
   },
   {
    "duration": 7,
    "start_time": "2023-11-17T23:25:18.861Z"
   },
   {
    "duration": 39,
    "start_time": "2023-11-17T23:25:25.313Z"
   },
   {
    "duration": 6,
    "start_time": "2023-11-17T23:25:49.765Z"
   },
   {
    "duration": 7,
    "start_time": "2023-11-17T23:25:57.699Z"
   },
   {
    "duration": 8,
    "start_time": "2023-11-17T23:26:31.700Z"
   },
   {
    "duration": 92,
    "start_time": "2023-11-17T23:28:36.156Z"
   },
   {
    "duration": 1102,
    "start_time": "2023-11-17T23:34:27.552Z"
   },
   {
    "duration": 75,
    "start_time": "2023-11-17T23:34:28.656Z"
   },
   {
    "duration": 11,
    "start_time": "2023-11-17T23:34:28.732Z"
   },
   {
    "duration": 71,
    "start_time": "2023-11-17T23:34:28.745Z"
   },
   {
    "duration": 10,
    "start_time": "2023-11-17T23:34:28.818Z"
   },
   {
    "duration": 55,
    "start_time": "2023-11-17T23:34:28.830Z"
   },
   {
    "duration": 10,
    "start_time": "2023-11-17T23:34:28.886Z"
   },
   {
    "duration": 11,
    "start_time": "2023-11-17T23:34:28.898Z"
   },
   {
    "duration": 4,
    "start_time": "2023-11-17T23:34:28.911Z"
   },
   {
    "duration": 13,
    "start_time": "2023-11-17T23:34:28.917Z"
   },
   {
    "duration": 6,
    "start_time": "2023-11-17T23:34:28.932Z"
   },
   {
    "duration": 13,
    "start_time": "2023-11-17T23:34:28.939Z"
   },
   {
    "duration": 28,
    "start_time": "2023-11-17T23:34:28.954Z"
   },
   {
    "duration": 6,
    "start_time": "2023-11-17T23:34:28.986Z"
   },
   {
    "duration": 19,
    "start_time": "2023-11-17T23:34:28.993Z"
   },
   {
    "duration": 9,
    "start_time": "2023-11-17T23:34:29.014Z"
   },
   {
    "duration": 11,
    "start_time": "2023-11-17T23:34:29.025Z"
   },
   {
    "duration": 6,
    "start_time": "2023-11-17T23:34:29.038Z"
   },
   {
    "duration": 324,
    "start_time": "2023-11-17T23:34:29.045Z"
   },
   {
    "duration": 9,
    "start_time": "2023-11-17T23:34:29.371Z"
   },
   {
    "duration": 261,
    "start_time": "2023-11-17T23:34:29.382Z"
   },
   {
    "duration": 184,
    "start_time": "2023-11-17T23:34:29.645Z"
   },
   {
    "duration": 149,
    "start_time": "2023-11-17T23:34:29.831Z"
   },
   {
    "duration": 46,
    "start_time": "2023-11-17T23:34:29.982Z"
   },
   {
    "duration": 15,
    "start_time": "2023-11-17T23:34:30.030Z"
   },
   {
    "duration": 266,
    "start_time": "2023-11-17T23:34:30.047Z"
   },
   {
    "duration": 280,
    "start_time": "2023-11-17T23:34:30.315Z"
   },
   {
    "duration": 29,
    "start_time": "2023-11-17T23:34:30.597Z"
   },
   {
    "duration": 15615,
    "start_time": "2023-11-17T23:34:30.627Z"
   },
   {
    "duration": 192,
    "start_time": "2023-11-17T23:34:46.244Z"
   },
   {
    "duration": 7,
    "start_time": "2023-11-17T23:34:46.437Z"
   },
   {
    "duration": 1131,
    "start_time": "2023-11-18T00:03:25.955Z"
   },
   {
    "duration": 117,
    "start_time": "2023-11-18T00:03:27.088Z"
   },
   {
    "duration": 11,
    "start_time": "2023-11-18T00:03:27.207Z"
   },
   {
    "duration": 101,
    "start_time": "2023-11-18T00:03:27.220Z"
   },
   {
    "duration": 11,
    "start_time": "2023-11-18T00:03:27.323Z"
   },
   {
    "duration": 63,
    "start_time": "2023-11-18T00:03:27.336Z"
   },
   {
    "duration": 10,
    "start_time": "2023-11-18T00:03:27.400Z"
   },
   {
    "duration": 11,
    "start_time": "2023-11-18T00:03:27.412Z"
   },
   {
    "duration": 5,
    "start_time": "2023-11-18T00:03:27.425Z"
   },
   {
    "duration": 10,
    "start_time": "2023-11-18T00:03:27.433Z"
   },
   {
    "duration": 5,
    "start_time": "2023-11-18T00:03:27.445Z"
   },
   {
    "duration": 8,
    "start_time": "2023-11-18T00:03:27.451Z"
   },
   {
    "duration": 8,
    "start_time": "2023-11-18T00:03:27.460Z"
   },
   {
    "duration": 45,
    "start_time": "2023-11-18T00:03:27.470Z"
   },
   {
    "duration": 13,
    "start_time": "2023-11-18T00:03:27.517Z"
   },
   {
    "duration": 7,
    "start_time": "2023-11-18T00:03:27.531Z"
   },
   {
    "duration": 6,
    "start_time": "2023-11-18T00:03:27.539Z"
   },
   {
    "duration": 5,
    "start_time": "2023-11-18T00:03:27.547Z"
   },
   {
    "duration": 333,
    "start_time": "2023-11-18T00:03:27.554Z"
   },
   {
    "duration": 9,
    "start_time": "2023-11-18T00:03:27.889Z"
   },
   {
    "duration": 267,
    "start_time": "2023-11-18T00:03:27.900Z"
   },
   {
    "duration": 195,
    "start_time": "2023-11-18T00:03:28.168Z"
   },
   {
    "duration": 159,
    "start_time": "2023-11-18T00:03:28.365Z"
   },
   {
    "duration": 35,
    "start_time": "2023-11-18T00:03:28.526Z"
   },
   {
    "duration": 12,
    "start_time": "2023-11-18T00:03:28.562Z"
   },
   {
    "duration": 249,
    "start_time": "2023-11-18T00:03:28.576Z"
   },
   {
    "duration": 298,
    "start_time": "2023-11-18T00:03:28.827Z"
   },
   {
    "duration": 26,
    "start_time": "2023-11-18T00:03:29.128Z"
   },
   {
    "duration": 15887,
    "start_time": "2023-11-18T00:03:29.156Z"
   },
   {
    "duration": 199,
    "start_time": "2023-11-18T00:03:45.045Z"
   },
   {
    "duration": 8,
    "start_time": "2023-11-18T00:03:45.245Z"
   },
   {
    "duration": 252,
    "start_time": "2023-11-18T00:15:42.712Z"
   },
   {
    "duration": 202,
    "start_time": "2023-11-18T00:15:51.582Z"
   },
   {
    "duration": 215,
    "start_time": "2023-11-18T00:15:58.272Z"
   },
   {
    "duration": 210,
    "start_time": "2023-11-18T00:16:03.444Z"
   },
   {
    "duration": 230,
    "start_time": "2023-11-18T00:39:59.935Z"
   },
   {
    "duration": 9,
    "start_time": "2023-11-18T01:02:21.141Z"
   },
   {
    "duration": 93,
    "start_time": "2023-11-18T01:02:44.016Z"
   },
   {
    "duration": 80,
    "start_time": "2023-11-18T01:02:49.133Z"
   },
   {
    "duration": 88,
    "start_time": "2023-11-18T01:02:53.516Z"
   },
   {
    "duration": 89,
    "start_time": "2023-11-18T01:02:58.142Z"
   },
   {
    "duration": 14,
    "start_time": "2023-11-18T01:03:06.127Z"
   },
   {
    "duration": 22,
    "start_time": "2023-11-18T01:03:36.272Z"
   },
   {
    "duration": 24,
    "start_time": "2023-11-18T01:04:03.333Z"
   },
   {
    "duration": 21,
    "start_time": "2023-11-18T01:04:12.419Z"
   },
   {
    "duration": 4,
    "start_time": "2023-11-18T01:06:37.290Z"
   },
   {
    "duration": 5,
    "start_time": "2023-11-18T01:06:40.147Z"
   },
   {
    "duration": 6,
    "start_time": "2023-11-18T01:06:45.291Z"
   },
   {
    "duration": 6,
    "start_time": "2023-11-18T01:08:04.935Z"
   },
   {
    "duration": 6,
    "start_time": "2023-11-18T01:08:37.875Z"
   },
   {
    "duration": 7,
    "start_time": "2023-11-18T01:10:28.055Z"
   },
   {
    "duration": 21,
    "start_time": "2023-11-18T01:12:05.986Z"
   },
   {
    "duration": 5,
    "start_time": "2023-11-18T01:15:08.099Z"
   },
   {
    "duration": 14,
    "start_time": "2023-11-18T01:16:47.382Z"
   },
   {
    "duration": 13,
    "start_time": "2023-11-18T01:16:53.795Z"
   },
   {
    "duration": 13,
    "start_time": "2023-11-18T01:16:55.793Z"
   },
   {
    "duration": 16,
    "start_time": "2023-11-18T01:17:26.730Z"
   },
   {
    "duration": 11,
    "start_time": "2023-11-18T01:17:38.355Z"
   },
   {
    "duration": 14,
    "start_time": "2023-11-18T01:17:43.066Z"
   },
   {
    "duration": 12,
    "start_time": "2023-11-18T01:18:17.340Z"
   },
   {
    "duration": 13,
    "start_time": "2023-11-18T01:18:28.391Z"
   },
   {
    "duration": 12,
    "start_time": "2023-11-18T01:18:29.592Z"
   },
   {
    "duration": 11,
    "start_time": "2023-11-18T01:18:30.607Z"
   },
   {
    "duration": 12,
    "start_time": "2023-11-18T01:18:31.634Z"
   },
   {
    "duration": 12,
    "start_time": "2023-11-18T01:18:32.622Z"
   },
   {
    "duration": 13,
    "start_time": "2023-11-18T01:18:33.558Z"
   },
   {
    "duration": 12,
    "start_time": "2023-11-18T01:18:34.523Z"
   },
   {
    "duration": 12,
    "start_time": "2023-11-18T01:18:35.462Z"
   },
   {
    "duration": 13,
    "start_time": "2023-11-18T01:18:36.328Z"
   },
   {
    "duration": 10,
    "start_time": "2023-11-18T01:18:37.208Z"
   },
   {
    "duration": 12,
    "start_time": "2023-11-18T01:18:38.104Z"
   },
   {
    "duration": 12,
    "start_time": "2023-11-18T01:18:39.208Z"
   },
   {
    "duration": 12,
    "start_time": "2023-11-18T01:18:40.150Z"
   },
   {
    "duration": 12,
    "start_time": "2023-11-18T01:18:41.043Z"
   },
   {
    "duration": 12,
    "start_time": "2023-11-18T01:18:41.957Z"
   },
   {
    "duration": 12,
    "start_time": "2023-11-18T01:18:42.877Z"
   },
   {
    "duration": 12,
    "start_time": "2023-11-18T01:18:43.799Z"
   },
   {
    "duration": 11,
    "start_time": "2023-11-18T01:18:44.748Z"
   },
   {
    "duration": 13,
    "start_time": "2023-11-18T01:18:45.601Z"
   },
   {
    "duration": 12,
    "start_time": "2023-11-18T01:18:46.497Z"
   },
   {
    "duration": 13,
    "start_time": "2023-11-18T01:18:47.380Z"
   },
   {
    "duration": 12,
    "start_time": "2023-11-18T01:18:48.346Z"
   },
   {
    "duration": 12,
    "start_time": "2023-11-18T01:18:51.079Z"
   },
   {
    "duration": 13,
    "start_time": "2023-11-18T01:18:54.808Z"
   },
   {
    "duration": 12,
    "start_time": "2023-11-18T01:19:06.561Z"
   },
   {
    "duration": 13,
    "start_time": "2023-11-18T01:19:08.256Z"
   },
   {
    "duration": 12,
    "start_time": "2023-11-18T01:19:09.314Z"
   },
   {
    "duration": 12,
    "start_time": "2023-11-18T01:19:10.258Z"
   },
   {
    "duration": 12,
    "start_time": "2023-11-18T01:19:11.157Z"
   },
   {
    "duration": 16,
    "start_time": "2023-11-18T01:19:11.997Z"
   },
   {
    "duration": 12,
    "start_time": "2023-11-18T01:19:14.242Z"
   },
   {
    "duration": 12,
    "start_time": "2023-11-18T01:20:00.576Z"
   },
   {
    "duration": 13,
    "start_time": "2023-11-18T01:20:02.075Z"
   },
   {
    "duration": 12,
    "start_time": "2023-11-18T01:20:03.113Z"
   },
   {
    "duration": 12,
    "start_time": "2023-11-18T01:20:03.977Z"
   },
   {
    "duration": 12,
    "start_time": "2023-11-18T01:20:04.872Z"
   },
   {
    "duration": 12,
    "start_time": "2023-11-18T01:20:05.711Z"
   },
   {
    "duration": 13,
    "start_time": "2023-11-18T01:20:11.924Z"
   },
   {
    "duration": 12,
    "start_time": "2023-11-18T01:20:13.074Z"
   },
   {
    "duration": 12,
    "start_time": "2023-11-18T01:20:13.912Z"
   },
   {
    "duration": 11,
    "start_time": "2023-11-18T01:20:14.722Z"
   },
   {
    "duration": 13,
    "start_time": "2023-11-18T01:20:15.576Z"
   },
   {
    "duration": 13,
    "start_time": "2023-11-18T01:20:16.456Z"
   },
   {
    "duration": 13,
    "start_time": "2023-11-18T01:20:17.280Z"
   },
   {
    "duration": 11,
    "start_time": "2023-11-18T01:20:20.093Z"
   },
   {
    "duration": 12,
    "start_time": "2023-11-18T01:20:21.613Z"
   },
   {
    "duration": 12,
    "start_time": "2023-11-18T01:20:22.392Z"
   },
   {
    "duration": 12,
    "start_time": "2023-11-18T01:20:23.211Z"
   },
   {
    "duration": 12,
    "start_time": "2023-11-18T01:20:24.007Z"
   },
   {
    "duration": 14,
    "start_time": "2023-11-18T01:20:24.893Z"
   },
   {
    "duration": 12,
    "start_time": "2023-11-18T01:20:25.739Z"
   },
   {
    "duration": 12,
    "start_time": "2023-11-18T01:20:27.005Z"
   },
   {
    "duration": 12,
    "start_time": "2023-11-18T01:20:28.196Z"
   },
   {
    "duration": 13,
    "start_time": "2023-11-18T01:20:29.009Z"
   },
   {
    "duration": 12,
    "start_time": "2023-11-18T01:20:29.941Z"
   },
   {
    "duration": 13,
    "start_time": "2023-11-18T01:20:31.076Z"
   },
   {
    "duration": 13,
    "start_time": "2023-11-18T01:20:31.939Z"
   },
   {
    "duration": 12,
    "start_time": "2023-11-18T01:20:33.362Z"
   },
   {
    "duration": 12,
    "start_time": "2023-11-18T01:20:34.281Z"
   },
   {
    "duration": 13,
    "start_time": "2023-11-18T01:20:35.747Z"
   },
   {
    "duration": 11,
    "start_time": "2023-11-18T01:20:36.790Z"
   },
   {
    "duration": 12,
    "start_time": "2023-11-18T01:20:37.741Z"
   },
   {
    "duration": 13,
    "start_time": "2023-11-18T01:20:43.063Z"
   },
   {
    "duration": 12,
    "start_time": "2023-11-18T01:20:44.391Z"
   },
   {
    "duration": 12,
    "start_time": "2023-11-18T01:20:45.380Z"
   },
   {
    "duration": 12,
    "start_time": "2023-11-18T01:20:46.239Z"
   },
   {
    "duration": 13,
    "start_time": "2023-11-18T01:20:47.072Z"
   },
   {
    "duration": 13,
    "start_time": "2023-11-18T01:20:48.335Z"
   },
   {
    "duration": 12,
    "start_time": "2023-11-18T01:20:49.213Z"
   },
   {
    "duration": 13,
    "start_time": "2023-11-18T01:20:56.064Z"
   },
   {
    "duration": 12,
    "start_time": "2023-11-18T01:23:16.972Z"
   },
   {
    "duration": 12,
    "start_time": "2023-11-18T01:23:18.169Z"
   },
   {
    "duration": 12,
    "start_time": "2023-11-18T01:23:19.088Z"
   },
   {
    "duration": 11,
    "start_time": "2023-11-18T01:23:19.945Z"
   },
   {
    "duration": 13,
    "start_time": "2023-11-18T01:23:20.833Z"
   },
   {
    "duration": 12,
    "start_time": "2023-11-18T01:23:21.658Z"
   },
   {
    "duration": 11,
    "start_time": "2023-11-18T01:23:23.473Z"
   },
   {
    "duration": 12,
    "start_time": "2023-11-18T01:23:24.378Z"
   },
   {
    "duration": 12,
    "start_time": "2023-11-18T01:23:25.433Z"
   },
   {
    "duration": 11,
    "start_time": "2023-11-18T01:23:26.298Z"
   },
   {
    "duration": 16,
    "start_time": "2023-11-18T01:23:27.195Z"
   },
   {
    "duration": 13,
    "start_time": "2023-11-18T01:23:28.090Z"
   },
   {
    "duration": 11,
    "start_time": "2023-11-18T01:23:28.944Z"
   },
   {
    "duration": 12,
    "start_time": "2023-11-18T01:23:29.905Z"
   },
   {
    "duration": 12,
    "start_time": "2023-11-18T01:23:31.353Z"
   },
   {
    "duration": 16,
    "start_time": "2023-11-18T01:23:32.589Z"
   },
   {
    "duration": 12,
    "start_time": "2023-11-18T01:23:33.782Z"
   },
   {
    "duration": 13,
    "start_time": "2023-11-18T01:23:34.890Z"
   },
   {
    "duration": 12,
    "start_time": "2023-11-18T01:23:35.865Z"
   },
   {
    "duration": 12,
    "start_time": "2023-11-18T01:23:39.893Z"
   },
   {
    "duration": 12,
    "start_time": "2023-11-18T01:23:41.674Z"
   },
   {
    "duration": 12,
    "start_time": "2023-11-18T01:23:46.419Z"
   },
   {
    "duration": 12,
    "start_time": "2023-11-18T01:23:48.589Z"
   },
   {
    "duration": 12,
    "start_time": "2023-11-18T01:27:51.903Z"
   },
   {
    "duration": 11,
    "start_time": "2023-11-18T01:27:54.044Z"
   },
   {
    "duration": 13,
    "start_time": "2023-11-18T01:27:56.439Z"
   },
   {
    "duration": 11,
    "start_time": "2023-11-18T01:27:57.474Z"
   },
   {
    "duration": 14,
    "start_time": "2023-11-18T01:27:58.466Z"
   },
   {
    "duration": 11,
    "start_time": "2023-11-18T01:27:59.463Z"
   },
   {
    "duration": 12,
    "start_time": "2023-11-18T01:28:00.337Z"
   },
   {
    "duration": 13,
    "start_time": "2023-11-18T01:28:01.293Z"
   },
   {
    "duration": 11,
    "start_time": "2023-11-18T01:28:11.705Z"
   },
   {
    "duration": 10,
    "start_time": "2023-11-18T01:36:02.271Z"
   },
   {
    "duration": 228,
    "start_time": "2023-11-18T01:36:03.143Z"
   },
   {
    "duration": 3,
    "start_time": "2023-11-18T01:36:12.947Z"
   },
   {
    "duration": 78,
    "start_time": "2023-11-18T01:36:13.126Z"
   },
   {
    "duration": 11,
    "start_time": "2023-11-18T01:36:13.205Z"
   },
   {
    "duration": 279,
    "start_time": "2023-11-18T01:36:13.368Z"
   },
   {
    "duration": 13,
    "start_time": "2023-11-18T01:36:13.650Z"
   },
   {
    "duration": 59,
    "start_time": "2023-11-18T01:36:13.704Z"
   },
   {
    "duration": 10,
    "start_time": "2023-11-18T01:36:13.786Z"
   },
   {
    "duration": 10,
    "start_time": "2023-11-18T01:36:14.117Z"
   },
   {
    "duration": 5,
    "start_time": "2023-11-18T01:36:14.201Z"
   },
   {
    "duration": 10,
    "start_time": "2023-11-18T01:36:14.284Z"
   },
   {
    "duration": 6,
    "start_time": "2023-11-18T01:36:14.369Z"
   },
   {
    "duration": 8,
    "start_time": "2023-11-18T01:36:14.455Z"
   },
   {
    "duration": 9,
    "start_time": "2023-11-18T01:36:14.541Z"
   },
   {
    "duration": 5,
    "start_time": "2023-11-18T01:36:14.629Z"
   },
   {
    "duration": 4,
    "start_time": "2023-11-18T01:36:14.784Z"
   },
   {
    "duration": 6,
    "start_time": "2023-11-18T01:36:14.870Z"
   },
   {
    "duration": 6,
    "start_time": "2023-11-18T01:36:14.970Z"
   },
   {
    "duration": 6,
    "start_time": "2023-11-18T01:36:15.062Z"
   },
   {
    "duration": 275,
    "start_time": "2023-11-18T01:36:15.483Z"
   },
   {
    "duration": 9,
    "start_time": "2023-11-18T01:36:15.760Z"
   },
   {
    "duration": 379,
    "start_time": "2023-11-18T01:36:16.004Z"
   },
   {
    "duration": 180,
    "start_time": "2023-11-18T01:36:16.384Z"
   },
   {
    "duration": 149,
    "start_time": "2023-11-18T01:36:16.566Z"
   },
   {
    "duration": 32,
    "start_time": "2023-11-18T01:36:16.717Z"
   },
   {
    "duration": 11,
    "start_time": "2023-11-18T01:36:16.793Z"
   },
   {
    "duration": 232,
    "start_time": "2023-11-18T01:36:17.055Z"
   },
   {
    "duration": 229,
    "start_time": "2023-11-18T01:36:17.289Z"
   },
   {
    "duration": 22,
    "start_time": "2023-11-18T01:36:18.260Z"
   },
   {
    "duration": 15622,
    "start_time": "2023-11-18T01:36:18.791Z"
   },
   {
    "duration": 184,
    "start_time": "2023-11-18T01:36:34.415Z"
   },
   {
    "duration": 15,
    "start_time": "2023-11-18T01:36:34.600Z"
   },
   {
    "duration": 12,
    "start_time": "2023-11-18T01:36:34.616Z"
   },
   {
    "duration": 1174,
    "start_time": "2023-11-18T01:36:57.508Z"
   },
   {
    "duration": 79,
    "start_time": "2023-11-18T01:36:58.684Z"
   },
   {
    "duration": 11,
    "start_time": "2023-11-18T01:36:58.765Z"
   },
   {
    "duration": 76,
    "start_time": "2023-11-18T01:36:58.777Z"
   },
   {
    "duration": 11,
    "start_time": "2023-11-18T01:36:58.855Z"
   },
   {
    "duration": 65,
    "start_time": "2023-11-18T01:36:58.867Z"
   },
   {
    "duration": 10,
    "start_time": "2023-11-18T01:36:58.933Z"
   },
   {
    "duration": 10,
    "start_time": "2023-11-18T01:36:58.945Z"
   },
   {
    "duration": 5,
    "start_time": "2023-11-18T01:36:58.956Z"
   },
   {
    "duration": 16,
    "start_time": "2023-11-18T01:36:58.963Z"
   },
   {
    "duration": 7,
    "start_time": "2023-11-18T01:36:58.981Z"
   },
   {
    "duration": 27,
    "start_time": "2023-11-18T01:36:58.990Z"
   },
   {
    "duration": 8,
    "start_time": "2023-11-18T01:36:59.018Z"
   },
   {
    "duration": 5,
    "start_time": "2023-11-18T01:36:59.028Z"
   },
   {
    "duration": 4,
    "start_time": "2023-11-18T01:36:59.034Z"
   },
   {
    "duration": 7,
    "start_time": "2023-11-18T01:36:59.039Z"
   },
   {
    "duration": 7,
    "start_time": "2023-11-18T01:36:59.048Z"
   },
   {
    "duration": 7,
    "start_time": "2023-11-18T01:36:59.056Z"
   },
   {
    "duration": 328,
    "start_time": "2023-11-18T01:36:59.065Z"
   },
   {
    "duration": 17,
    "start_time": "2023-11-18T01:36:59.395Z"
   },
   {
    "duration": 247,
    "start_time": "2023-11-18T01:36:59.414Z"
   },
   {
    "duration": 182,
    "start_time": "2023-11-18T01:36:59.662Z"
   },
   {
    "duration": 146,
    "start_time": "2023-11-18T01:36:59.846Z"
   },
   {
    "duration": 41,
    "start_time": "2023-11-18T01:36:59.993Z"
   },
   {
    "duration": 10,
    "start_time": "2023-11-18T01:37:00.035Z"
   },
   {
    "duration": 234,
    "start_time": "2023-11-18T01:37:00.047Z"
   },
   {
    "duration": 274,
    "start_time": "2023-11-18T01:37:00.282Z"
   },
   {
    "duration": 20,
    "start_time": "2023-11-18T01:37:00.558Z"
   },
   {
    "duration": 15246,
    "start_time": "2023-11-18T01:37:00.580Z"
   },
   {
    "duration": 186,
    "start_time": "2023-11-18T01:37:15.827Z"
   },
   {
    "duration": 7,
    "start_time": "2023-11-18T01:37:16.015Z"
   },
   {
    "duration": 8,
    "start_time": "2023-11-18T01:37:16.024Z"
   },
   {
    "duration": 88,
    "start_time": "2023-11-18T01:37:16.033Z"
   },
   {
    "duration": 1140,
    "start_time": "2023-11-18T01:46:11.792Z"
   },
   {
    "duration": 86,
    "start_time": "2023-11-18T01:46:12.934Z"
   },
   {
    "duration": 11,
    "start_time": "2023-11-18T01:46:13.022Z"
   },
   {
    "duration": 93,
    "start_time": "2023-11-18T01:46:13.035Z"
   },
   {
    "duration": 12,
    "start_time": "2023-11-18T01:46:13.129Z"
   },
   {
    "duration": 75,
    "start_time": "2023-11-18T01:46:13.142Z"
   },
   {
    "duration": 9,
    "start_time": "2023-11-18T01:46:13.219Z"
   },
   {
    "duration": 9,
    "start_time": "2023-11-18T01:46:13.230Z"
   },
   {
    "duration": 5,
    "start_time": "2023-11-18T01:46:13.241Z"
   },
   {
    "duration": 11,
    "start_time": "2023-11-18T01:46:13.248Z"
   },
   {
    "duration": 5,
    "start_time": "2023-11-18T01:46:13.261Z"
   },
   {
    "duration": 10,
    "start_time": "2023-11-18T01:46:13.268Z"
   },
   {
    "duration": 8,
    "start_time": "2023-11-18T01:46:13.311Z"
   },
   {
    "duration": 6,
    "start_time": "2023-11-18T01:46:13.320Z"
   },
   {
    "duration": 5,
    "start_time": "2023-11-18T01:46:13.328Z"
   },
   {
    "duration": 8,
    "start_time": "2023-11-18T01:46:13.334Z"
   },
   {
    "duration": 8,
    "start_time": "2023-11-18T01:46:13.343Z"
   },
   {
    "duration": 12,
    "start_time": "2023-11-18T01:46:13.352Z"
   },
   {
    "duration": 330,
    "start_time": "2023-11-18T01:46:13.365Z"
   },
   {
    "duration": 18,
    "start_time": "2023-11-18T01:46:13.696Z"
   },
   {
    "duration": 242,
    "start_time": "2023-11-18T01:46:13.715Z"
   },
   {
    "duration": 180,
    "start_time": "2023-11-18T01:46:13.958Z"
   },
   {
    "duration": 151,
    "start_time": "2023-11-18T01:46:14.140Z"
   },
   {
    "duration": 38,
    "start_time": "2023-11-18T01:46:14.292Z"
   },
   {
    "duration": 10,
    "start_time": "2023-11-18T01:46:14.332Z"
   },
   {
    "duration": 231,
    "start_time": "2023-11-18T01:46:14.344Z"
   },
   {
    "duration": 281,
    "start_time": "2023-11-18T01:46:14.577Z"
   },
   {
    "duration": 21,
    "start_time": "2023-11-18T01:46:14.861Z"
   },
   {
    "duration": 15716,
    "start_time": "2023-11-18T01:46:14.883Z"
   },
   {
    "duration": 185,
    "start_time": "2023-11-18T01:46:30.600Z"
   },
   {
    "duration": 6,
    "start_time": "2023-11-18T01:46:30.787Z"
   },
   {
    "duration": 40,
    "start_time": "2023-11-18T01:46:30.795Z"
   },
   {
    "duration": 45,
    "start_time": "2023-11-18T01:46:30.837Z"
   },
   {
    "duration": 5,
    "start_time": "2023-11-18T01:46:38.046Z"
   },
   {
    "duration": 5,
    "start_time": "2023-11-18T01:46:40.036Z"
   },
   {
    "duration": 5,
    "start_time": "2023-11-18T01:46:42.895Z"
   },
   {
    "duration": 6,
    "start_time": "2023-11-18T01:46:45.575Z"
   },
   {
    "duration": 6,
    "start_time": "2023-11-18T01:46:47.602Z"
   },
   {
    "duration": 5,
    "start_time": "2023-11-18T01:46:48.555Z"
   },
   {
    "duration": 5,
    "start_time": "2023-11-18T01:53:56.535Z"
   },
   {
    "duration": 5,
    "start_time": "2023-11-18T01:53:58.651Z"
   },
   {
    "duration": 5,
    "start_time": "2023-11-18T01:54:00.292Z"
   },
   {
    "duration": 41,
    "start_time": "2023-11-18T01:54:25.530Z"
   },
   {
    "duration": 5,
    "start_time": "2023-11-18T01:54:45.384Z"
   },
   {
    "duration": 6,
    "start_time": "2023-11-18T01:54:47.149Z"
   },
   {
    "duration": 6,
    "start_time": "2023-11-18T01:54:48.085Z"
   },
   {
    "duration": 6,
    "start_time": "2023-11-18T01:54:48.936Z"
   },
   {
    "duration": 680,
    "start_time": "2023-11-18T01:54:51.681Z"
   },
   {
    "duration": 732,
    "start_time": "2023-11-18T01:54:55.048Z"
   },
   {
    "duration": 6,
    "start_time": "2023-11-18T01:54:57.854Z"
   },
   {
    "duration": 6,
    "start_time": "2023-11-18T01:54:59.211Z"
   },
   {
    "duration": 5,
    "start_time": "2023-11-18T01:55:00.281Z"
   },
   {
    "duration": 6,
    "start_time": "2023-11-18T01:55:00.975Z"
   },
   {
    "duration": 5,
    "start_time": "2023-11-18T01:55:02.855Z"
   },
   {
    "duration": 8,
    "start_time": "2023-11-18T01:55:23.090Z"
   },
   {
    "duration": 11,
    "start_time": "2023-11-18T01:55:52.887Z"
   },
   {
    "duration": 9,
    "start_time": "2023-11-18T01:56:15.054Z"
   },
   {
    "duration": 8,
    "start_time": "2023-11-18T01:56:19.853Z"
   },
   {
    "duration": 8,
    "start_time": "2023-11-18T01:56:32.203Z"
   },
   {
    "duration": 6,
    "start_time": "2023-11-18T01:56:33.646Z"
   },
   {
    "duration": 6,
    "start_time": "2023-11-18T01:56:34.519Z"
   },
   {
    "duration": 6,
    "start_time": "2023-11-18T01:56:35.456Z"
   },
   {
    "duration": 5,
    "start_time": "2023-11-18T01:56:36.386Z"
   },
   {
    "duration": 6,
    "start_time": "2023-11-18T01:56:37.362Z"
   },
   {
    "duration": 6,
    "start_time": "2023-11-18T01:56:39.553Z"
   },
   {
    "duration": 6,
    "start_time": "2023-11-18T01:56:40.524Z"
   },
   {
    "duration": 6,
    "start_time": "2023-11-18T01:56:41.371Z"
   },
   {
    "duration": 5,
    "start_time": "2023-11-18T01:56:42.282Z"
   },
   {
    "duration": 6,
    "start_time": "2023-11-18T01:56:43.509Z"
   },
   {
    "duration": 5,
    "start_time": "2023-11-18T01:56:47.721Z"
   },
   {
    "duration": 6,
    "start_time": "2023-11-18T01:57:01.367Z"
   },
   {
    "duration": 7,
    "start_time": "2023-11-18T01:57:02.539Z"
   },
   {
    "duration": 6,
    "start_time": "2023-11-18T01:57:23.810Z"
   },
   {
    "duration": 5,
    "start_time": "2023-11-18T01:57:30.297Z"
   },
   {
    "duration": 5,
    "start_time": "2023-11-18T01:57:48.371Z"
   },
   {
    "duration": 5,
    "start_time": "2023-11-18T01:58:01.247Z"
   },
   {
    "duration": 5,
    "start_time": "2023-11-18T01:58:05.705Z"
   },
   {
    "duration": 5,
    "start_time": "2023-11-18T01:58:06.682Z"
   },
   {
    "duration": 5,
    "start_time": "2023-11-18T01:58:07.517Z"
   },
   {
    "duration": 5,
    "start_time": "2023-11-18T01:58:09.656Z"
   },
   {
    "duration": 6,
    "start_time": "2023-11-18T01:58:10.571Z"
   },
   {
    "duration": 5,
    "start_time": "2023-11-18T01:58:11.414Z"
   },
   {
    "duration": 18,
    "start_time": "2023-11-18T02:24:13.947Z"
   },
   {
    "duration": 16,
    "start_time": "2023-11-18T02:25:17.073Z"
   },
   {
    "duration": 13,
    "start_time": "2023-11-18T02:25:31.176Z"
   },
   {
    "duration": 18,
    "start_time": "2023-11-18T02:27:38.090Z"
   },
   {
    "duration": 1725,
    "start_time": "2023-11-18T02:29:24.567Z"
   },
   {
    "duration": 1395,
    "start_time": "2023-11-18T02:29:43.504Z"
   },
   {
    "duration": 1482,
    "start_time": "2023-11-18T02:29:52.943Z"
   },
   {
    "duration": 1596,
    "start_time": "2023-11-18T02:30:23.476Z"
   },
   {
    "duration": 13666,
    "start_time": "2023-11-18T02:31:39.191Z"
   },
   {
    "duration": 4765,
    "start_time": "2023-11-18T02:31:58.951Z"
   },
   {
    "duration": 4773,
    "start_time": "2023-11-18T02:32:14.588Z"
   },
   {
    "duration": 1817,
    "start_time": "2023-11-18T02:33:47.345Z"
   },
   {
    "duration": 15459,
    "start_time": "2023-11-18T02:34:42.169Z"
   },
   {
    "duration": 18,
    "start_time": "2023-11-18T02:37:33.972Z"
   },
   {
    "duration": 17,
    "start_time": "2023-11-18T02:37:42.444Z"
   },
   {
    "duration": 11,
    "start_time": "2023-11-18T02:39:49.400Z"
   },
   {
    "duration": 10,
    "start_time": "2023-11-18T02:39:55.290Z"
   },
   {
    "duration": 79,
    "start_time": "2023-11-18T02:45:18.755Z"
   },
   {
    "duration": 10,
    "start_time": "2023-11-18T02:45:24.624Z"
   },
   {
    "duration": 14,
    "start_time": "2023-11-18T02:45:32.121Z"
   },
   {
    "duration": 9,
    "start_time": "2023-11-18T02:45:36.135Z"
   },
   {
    "duration": 12,
    "start_time": "2023-11-18T02:46:08.633Z"
   },
   {
    "duration": 10,
    "start_time": "2023-11-18T02:46:18.472Z"
   },
   {
    "duration": 7,
    "start_time": "2023-11-18T02:46:32.589Z"
   },
   {
    "duration": 14,
    "start_time": "2023-11-18T02:46:37.595Z"
   },
   {
    "duration": 22,
    "start_time": "2023-11-18T02:47:27.735Z"
   },
   {
    "duration": 3,
    "start_time": "2023-11-18T02:50:58.924Z"
   },
   {
    "duration": 76,
    "start_time": "2023-11-18T02:50:59.093Z"
   },
   {
    "duration": 10,
    "start_time": "2023-11-18T02:50:59.171Z"
   },
   {
    "duration": 74,
    "start_time": "2023-11-18T02:50:59.333Z"
   },
   {
    "duration": 10,
    "start_time": "2023-11-18T02:50:59.416Z"
   },
   {
    "duration": 54,
    "start_time": "2023-11-18T02:50:59.667Z"
   },
   {
    "duration": 10,
    "start_time": "2023-11-18T02:50:59.751Z"
   },
   {
    "duration": 9,
    "start_time": "2023-11-18T02:51:00.089Z"
   },
   {
    "duration": 5,
    "start_time": "2023-11-18T02:51:00.167Z"
   },
   {
    "duration": 10,
    "start_time": "2023-11-18T02:51:00.257Z"
   },
   {
    "duration": 7,
    "start_time": "2023-11-18T02:51:00.334Z"
   },
   {
    "duration": 8,
    "start_time": "2023-11-18T02:51:00.418Z"
   },
   {
    "duration": 10,
    "start_time": "2023-11-18T02:51:00.500Z"
   },
   {
    "duration": 5,
    "start_time": "2023-11-18T02:51:00.585Z"
   },
   {
    "duration": 4,
    "start_time": "2023-11-18T02:51:00.751Z"
   },
   {
    "duration": 7,
    "start_time": "2023-11-18T02:51:00.833Z"
   },
   {
    "duration": 7,
    "start_time": "2023-11-18T02:51:00.918Z"
   },
   {
    "duration": 6,
    "start_time": "2023-11-18T02:51:01.000Z"
   },
   {
    "duration": 295,
    "start_time": "2023-11-18T02:51:01.431Z"
   },
   {
    "duration": 10,
    "start_time": "2023-11-18T02:51:01.727Z"
   },
   {
    "duration": 262,
    "start_time": "2023-11-18T02:51:01.928Z"
   },
   {
    "duration": 184,
    "start_time": "2023-11-18T02:51:02.192Z"
   },
   {
    "duration": 152,
    "start_time": "2023-11-18T02:51:02.378Z"
   },
   {
    "duration": 30,
    "start_time": "2023-11-18T02:51:02.676Z"
   },
   {
    "duration": 11,
    "start_time": "2023-11-18T02:51:02.767Z"
   },
   {
    "duration": 220,
    "start_time": "2023-11-18T02:51:02.935Z"
   },
   {
    "duration": 200,
    "start_time": "2023-11-18T02:51:04.786Z"
   },
   {
    "duration": 23,
    "start_time": "2023-11-18T02:51:08.061Z"
   },
   {
    "duration": 22,
    "start_time": "2023-11-18T02:51:29.388Z"
   },
   {
    "duration": 15341,
    "start_time": "2023-11-18T02:51:36.552Z"
   },
   {
    "duration": 1105,
    "start_time": "2023-11-18T02:52:46.364Z"
   },
   {
    "duration": 82,
    "start_time": "2023-11-18T02:52:47.471Z"
   },
   {
    "duration": 10,
    "start_time": "2023-11-18T02:52:47.556Z"
   },
   {
    "duration": 82,
    "start_time": "2023-11-18T02:52:47.568Z"
   },
   {
    "duration": 11,
    "start_time": "2023-11-18T02:52:47.652Z"
   },
   {
    "duration": 58,
    "start_time": "2023-11-18T02:52:47.665Z"
   },
   {
    "duration": 11,
    "start_time": "2023-11-18T02:52:47.724Z"
   },
   {
    "duration": 11,
    "start_time": "2023-11-18T02:52:47.737Z"
   },
   {
    "duration": 5,
    "start_time": "2023-11-18T02:52:47.751Z"
   },
   {
    "duration": 12,
    "start_time": "2023-11-18T02:52:47.758Z"
   },
   {
    "duration": 6,
    "start_time": "2023-11-18T02:52:47.772Z"
   },
   {
    "duration": 38,
    "start_time": "2023-11-18T02:52:47.780Z"
   },
   {
    "duration": 8,
    "start_time": "2023-11-18T02:52:47.822Z"
   },
   {
    "duration": 9,
    "start_time": "2023-11-18T02:52:47.832Z"
   },
   {
    "duration": 6,
    "start_time": "2023-11-18T02:52:47.843Z"
   },
   {
    "duration": 6,
    "start_time": "2023-11-18T02:52:47.850Z"
   },
   {
    "duration": 10,
    "start_time": "2023-11-18T02:52:47.857Z"
   },
   {
    "duration": 6,
    "start_time": "2023-11-18T02:52:47.868Z"
   },
   {
    "duration": 339,
    "start_time": "2023-11-18T02:52:47.876Z"
   },
   {
    "duration": 9,
    "start_time": "2023-11-18T02:52:48.217Z"
   },
   {
    "duration": 257,
    "start_time": "2023-11-18T02:52:48.227Z"
   },
   {
    "duration": 203,
    "start_time": "2023-11-18T02:52:48.485Z"
   },
   {
    "duration": 161,
    "start_time": "2023-11-18T02:52:48.690Z"
   },
   {
    "duration": 34,
    "start_time": "2023-11-18T02:52:48.853Z"
   },
   {
    "duration": 27,
    "start_time": "2023-11-18T02:52:48.889Z"
   },
   {
    "duration": 231,
    "start_time": "2023-11-18T02:52:48.918Z"
   },
   {
    "duration": 280,
    "start_time": "2023-11-18T02:52:49.150Z"
   },
   {
    "duration": 24,
    "start_time": "2023-11-18T02:52:49.431Z"
   },
   {
    "duration": 15118,
    "start_time": "2023-11-18T02:52:49.457Z"
   },
   {
    "duration": 188,
    "start_time": "2023-11-18T02:53:04.577Z"
   },
   {
    "duration": 7,
    "start_time": "2023-11-18T02:53:04.766Z"
   },
   {
    "duration": 21,
    "start_time": "2023-11-18T02:53:04.774Z"
   },
   {
    "duration": 5,
    "start_time": "2023-11-18T02:53:04.797Z"
   },
   {
    "duration": 23,
    "start_time": "2023-11-18T02:53:04.811Z"
   },
   {
    "duration": 6,
    "start_time": "2023-11-18T02:54:41.566Z"
   },
   {
    "duration": 5,
    "start_time": "2023-11-18T02:54:48.931Z"
   },
   {
    "duration": 6,
    "start_time": "2023-11-18T02:55:02.587Z"
   },
   {
    "duration": 5,
    "start_time": "2023-11-18T02:55:06.292Z"
   },
   {
    "duration": 6,
    "start_time": "2023-11-18T02:55:08.179Z"
   },
   {
    "duration": 5,
    "start_time": "2023-11-18T02:55:09.343Z"
   },
   {
    "duration": 6,
    "start_time": "2023-11-18T02:55:10.781Z"
   },
   {
    "duration": 5,
    "start_time": "2023-11-18T02:55:11.545Z"
   },
   {
    "duration": 6,
    "start_time": "2023-11-18T02:55:12.386Z"
   },
   {
    "duration": 7,
    "start_time": "2023-11-18T02:55:13.238Z"
   },
   {
    "duration": 6,
    "start_time": "2023-11-18T02:55:14.111Z"
   },
   {
    "duration": 86,
    "start_time": "2023-11-18T03:01:12.384Z"
   },
   {
    "duration": 23,
    "start_time": "2023-11-18T03:01:20.538Z"
   },
   {
    "duration": 50,
    "start_time": "2023-11-18T03:03:10.445Z"
   },
   {
    "duration": 46,
    "start_time": "2023-11-18T03:03:54.708Z"
   },
   {
    "duration": 4,
    "start_time": "2023-11-18T03:13:28.747Z"
   },
   {
    "duration": 5,
    "start_time": "2023-11-18T03:13:47.226Z"
   },
   {
    "duration": 5,
    "start_time": "2023-11-18T03:13:49.032Z"
   },
   {
    "duration": 5,
    "start_time": "2023-11-18T03:13:49.983Z"
   },
   {
    "duration": 5,
    "start_time": "2023-11-18T03:13:50.921Z"
   },
   {
    "duration": 7,
    "start_time": "2023-11-18T03:14:29.748Z"
   },
   {
    "duration": 7,
    "start_time": "2023-11-18T03:15:43.266Z"
   },
   {
    "duration": 7,
    "start_time": "2023-11-18T03:15:44.886Z"
   },
   {
    "duration": 6,
    "start_time": "2023-11-18T03:15:45.720Z"
   },
   {
    "duration": 8,
    "start_time": "2023-11-18T03:15:46.568Z"
   },
   {
    "duration": 6,
    "start_time": "2023-11-18T03:15:47.386Z"
   },
   {
    "duration": 7,
    "start_time": "2023-11-18T03:16:18.477Z"
   },
   {
    "duration": 6,
    "start_time": "2023-11-18T03:16:19.784Z"
   },
   {
    "duration": 6,
    "start_time": "2023-11-18T03:16:20.676Z"
   },
   {
    "duration": 6,
    "start_time": "2023-11-18T03:16:21.587Z"
   },
   {
    "duration": 6,
    "start_time": "2023-11-18T03:16:22.995Z"
   },
   {
    "duration": 5,
    "start_time": "2023-11-18T03:16:24.311Z"
   },
   {
    "duration": 6,
    "start_time": "2023-11-18T03:16:25.194Z"
   },
   {
    "duration": 6,
    "start_time": "2023-11-18T03:16:42.580Z"
   },
   {
    "duration": 6,
    "start_time": "2023-11-18T03:16:43.542Z"
   },
   {
    "duration": 6,
    "start_time": "2023-11-18T03:16:44.385Z"
   },
   {
    "duration": 6,
    "start_time": "2023-11-18T03:16:45.146Z"
   },
   {
    "duration": 5,
    "start_time": "2023-11-18T03:16:45.868Z"
   },
   {
    "duration": 6,
    "start_time": "2023-11-18T03:16:46.820Z"
   },
   {
    "duration": 6,
    "start_time": "2023-11-18T03:16:47.451Z"
   },
   {
    "duration": 6,
    "start_time": "2023-11-18T03:16:48.175Z"
   },
   {
    "duration": 6,
    "start_time": "2023-11-18T03:16:48.976Z"
   },
   {
    "duration": 6,
    "start_time": "2023-11-18T03:17:17.831Z"
   },
   {
    "duration": 6,
    "start_time": "2023-11-18T03:17:18.815Z"
   },
   {
    "duration": 6,
    "start_time": "2023-11-18T03:17:20.527Z"
   },
   {
    "duration": 6,
    "start_time": "2023-11-18T03:17:21.513Z"
   },
   {
    "duration": 6,
    "start_time": "2023-11-18T03:17:22.198Z"
   },
   {
    "duration": 7,
    "start_time": "2023-11-18T03:18:04.559Z"
   },
   {
    "duration": 7,
    "start_time": "2023-11-18T03:18:06.504Z"
   },
   {
    "duration": 6,
    "start_time": "2023-11-18T03:19:33.273Z"
   },
   {
    "duration": 6,
    "start_time": "2023-11-18T03:19:34.660Z"
   },
   {
    "duration": 6,
    "start_time": "2023-11-18T03:19:57.598Z"
   },
   {
    "duration": 5,
    "start_time": "2023-11-18T03:19:58.874Z"
   },
   {
    "duration": 6,
    "start_time": "2023-11-18T03:19:59.758Z"
   },
   {
    "duration": 5,
    "start_time": "2023-11-18T03:20:01.844Z"
   },
   {
    "duration": 5,
    "start_time": "2023-11-18T03:20:05.138Z"
   },
   {
    "duration": 6,
    "start_time": "2023-11-18T03:20:06.393Z"
   },
   {
    "duration": 5,
    "start_time": "2023-11-18T03:22:20.896Z"
   },
   {
    "duration": 4,
    "start_time": "2023-11-18T03:22:24.352Z"
   },
   {
    "duration": 4,
    "start_time": "2023-11-18T03:22:59.935Z"
   },
   {
    "duration": 4,
    "start_time": "2023-11-18T03:23:01.560Z"
   },
   {
    "duration": 5,
    "start_time": "2023-11-18T03:23:02.483Z"
   },
   {
    "duration": 6,
    "start_time": "2023-11-18T03:25:11.936Z"
   },
   {
    "duration": 5,
    "start_time": "2023-11-18T03:25:13.816Z"
   },
   {
    "duration": 4,
    "start_time": "2023-11-18T03:25:14.838Z"
   },
   {
    "duration": 5,
    "start_time": "2023-11-18T03:25:17.481Z"
   },
   {
    "duration": 5,
    "start_time": "2023-11-18T03:25:18.740Z"
   },
   {
    "duration": 5,
    "start_time": "2023-11-18T03:25:26.960Z"
   },
   {
    "duration": 1113,
    "start_time": "2023-11-18T03:46:18.065Z"
   },
   {
    "duration": 102,
    "start_time": "2023-11-18T03:46:19.181Z"
   },
   {
    "duration": 12,
    "start_time": "2023-11-18T03:46:19.284Z"
   },
   {
    "duration": 92,
    "start_time": "2023-11-18T03:46:19.297Z"
   },
   {
    "duration": 11,
    "start_time": "2023-11-18T03:46:19.391Z"
   },
   {
    "duration": 72,
    "start_time": "2023-11-18T03:46:19.404Z"
   },
   {
    "duration": 9,
    "start_time": "2023-11-18T03:46:19.477Z"
   },
   {
    "duration": 16,
    "start_time": "2023-11-18T03:46:19.487Z"
   },
   {
    "duration": 12,
    "start_time": "2023-11-18T03:46:19.504Z"
   },
   {
    "duration": 11,
    "start_time": "2023-11-18T03:46:19.518Z"
   },
   {
    "duration": 6,
    "start_time": "2023-11-18T03:46:19.531Z"
   },
   {
    "duration": 8,
    "start_time": "2023-11-18T03:46:19.538Z"
   },
   {
    "duration": 9,
    "start_time": "2023-11-18T03:46:19.547Z"
   },
   {
    "duration": 4,
    "start_time": "2023-11-18T03:46:19.559Z"
   },
   {
    "duration": 5,
    "start_time": "2023-11-18T03:46:19.565Z"
   },
   {
    "duration": 44,
    "start_time": "2023-11-18T03:46:19.571Z"
   },
   {
    "duration": 5,
    "start_time": "2023-11-18T03:46:19.617Z"
   },
   {
    "duration": 5,
    "start_time": "2023-11-18T03:46:19.624Z"
   },
   {
    "duration": 312,
    "start_time": "2023-11-18T03:46:19.631Z"
   },
   {
    "duration": 9,
    "start_time": "2023-11-18T03:46:19.945Z"
   },
   {
    "duration": 246,
    "start_time": "2023-11-18T03:46:19.955Z"
   },
   {
    "duration": 181,
    "start_time": "2023-11-18T03:46:20.202Z"
   },
   {
    "duration": 152,
    "start_time": "2023-11-18T03:46:20.384Z"
   },
   {
    "duration": 31,
    "start_time": "2023-11-18T03:46:20.538Z"
   },
   {
    "duration": 10,
    "start_time": "2023-11-18T03:46:20.571Z"
   },
   {
    "duration": 260,
    "start_time": "2023-11-18T03:46:20.583Z"
   },
   {
    "duration": 278,
    "start_time": "2023-11-18T03:46:20.845Z"
   },
   {
    "duration": 21,
    "start_time": "2023-11-18T03:46:21.124Z"
   },
   {
    "duration": 15101,
    "start_time": "2023-11-18T03:46:21.146Z"
   },
   {
    "duration": 191,
    "start_time": "2023-11-18T03:46:36.248Z"
   },
   {
    "duration": 6,
    "start_time": "2023-11-18T03:46:36.441Z"
   },
   {
    "duration": 7,
    "start_time": "2023-11-18T03:46:36.448Z"
   },
   {
    "duration": 10,
    "start_time": "2023-11-18T03:46:36.456Z"
   },
   {
    "duration": 62,
    "start_time": "2023-11-18T03:46:36.467Z"
   },
   {
    "duration": 5,
    "start_time": "2023-11-18T03:46:36.530Z"
   },
   {
    "duration": 44,
    "start_time": "2023-11-18T03:47:48.022Z"
   },
   {
    "duration": 46,
    "start_time": "2023-11-18T03:48:03.722Z"
   },
   {
    "duration": 1107,
    "start_time": "2023-11-18T03:48:14.664Z"
   },
   {
    "duration": 79,
    "start_time": "2023-11-18T03:48:15.773Z"
   },
   {
    "duration": 13,
    "start_time": "2023-11-18T03:48:15.854Z"
   },
   {
    "duration": 84,
    "start_time": "2023-11-18T03:48:15.869Z"
   },
   {
    "duration": 10,
    "start_time": "2023-11-18T03:48:15.955Z"
   },
   {
    "duration": 60,
    "start_time": "2023-11-18T03:48:15.967Z"
   },
   {
    "duration": 9,
    "start_time": "2023-11-18T03:48:16.028Z"
   },
   {
    "duration": 14,
    "start_time": "2023-11-18T03:48:16.039Z"
   },
   {
    "duration": 4,
    "start_time": "2023-11-18T03:48:16.055Z"
   },
   {
    "duration": 10,
    "start_time": "2023-11-18T03:48:16.061Z"
   },
   {
    "duration": 5,
    "start_time": "2023-11-18T03:48:16.072Z"
   },
   {
    "duration": 26,
    "start_time": "2023-11-18T03:48:16.078Z"
   },
   {
    "duration": 13,
    "start_time": "2023-11-18T03:48:16.105Z"
   },
   {
    "duration": 6,
    "start_time": "2023-11-18T03:48:16.119Z"
   },
   {
    "duration": 5,
    "start_time": "2023-11-18T03:48:16.126Z"
   },
   {
    "duration": 8,
    "start_time": "2023-11-18T03:48:16.133Z"
   },
   {
    "duration": 8,
    "start_time": "2023-11-18T03:48:16.143Z"
   },
   {
    "duration": 5,
    "start_time": "2023-11-18T03:48:16.153Z"
   },
   {
    "duration": 339,
    "start_time": "2023-11-18T03:48:16.160Z"
   },
   {
    "duration": 10,
    "start_time": "2023-11-18T03:48:16.501Z"
   },
   {
    "duration": 248,
    "start_time": "2023-11-18T03:48:16.512Z"
   },
   {
    "duration": 193,
    "start_time": "2023-11-18T03:48:16.762Z"
   },
   {
    "duration": 146,
    "start_time": "2023-11-18T03:48:16.956Z"
   },
   {
    "duration": 36,
    "start_time": "2023-11-18T03:48:17.104Z"
   },
   {
    "duration": 11,
    "start_time": "2023-11-18T03:48:17.142Z"
   },
   {
    "duration": 243,
    "start_time": "2023-11-18T03:48:17.155Z"
   },
   {
    "duration": 305,
    "start_time": "2023-11-18T03:48:17.399Z"
   },
   {
    "duration": 21,
    "start_time": "2023-11-18T03:48:17.711Z"
   },
   {
    "duration": 15300,
    "start_time": "2023-11-18T03:48:17.733Z"
   },
   {
    "duration": 189,
    "start_time": "2023-11-18T03:48:33.035Z"
   },
   {
    "duration": 7,
    "start_time": "2023-11-18T03:48:33.225Z"
   },
   {
    "duration": 21,
    "start_time": "2023-11-18T03:48:33.233Z"
   },
   {
    "duration": 5,
    "start_time": "2023-11-18T03:48:33.256Z"
   },
   {
    "duration": 63,
    "start_time": "2023-11-18T03:48:33.263Z"
   },
   {
    "duration": 5,
    "start_time": "2023-11-18T03:48:33.327Z"
   },
   {
    "duration": 48,
    "start_time": "2023-11-18T03:49:42.393Z"
   },
   {
    "duration": 46,
    "start_time": "2023-11-18T03:49:44.740Z"
   },
   {
    "duration": 51,
    "start_time": "2023-11-18T03:49:49.668Z"
   },
   {
    "duration": 48,
    "start_time": "2023-11-18T03:49:52.456Z"
   },
   {
    "duration": 44,
    "start_time": "2023-11-18T03:49:57.204Z"
   },
   {
    "duration": 46,
    "start_time": "2023-11-18T03:49:59.692Z"
   },
   {
    "duration": 46,
    "start_time": "2023-11-18T03:50:02.703Z"
   },
   {
    "duration": 50,
    "start_time": "2023-11-18T03:50:06.851Z"
   },
   {
    "duration": 62,
    "start_time": "2023-11-18T03:50:08.245Z"
   },
   {
    "duration": 49,
    "start_time": "2023-11-18T03:50:10.127Z"
   },
   {
    "duration": 45,
    "start_time": "2023-11-18T03:51:21.448Z"
   },
   {
    "duration": 92,
    "start_time": "2023-11-18T03:51:59.239Z"
   },
   {
    "duration": 77,
    "start_time": "2023-11-18T03:52:05.236Z"
   },
   {
    "duration": 80,
    "start_time": "2023-11-18T03:52:18.989Z"
   },
   {
    "duration": 79,
    "start_time": "2023-11-18T03:52:23.804Z"
   },
   {
    "duration": 139,
    "start_time": "2023-11-18T03:52:28.374Z"
   },
   {
    "duration": 53,
    "start_time": "2023-11-18T03:52:37.572Z"
   },
   {
    "duration": 50,
    "start_time": "2023-11-18T03:52:55.063Z"
   },
   {
    "duration": 44,
    "start_time": "2023-11-18T03:53:03.540Z"
   },
   {
    "duration": 46,
    "start_time": "2023-11-18T03:53:06.300Z"
   },
   {
    "duration": 43,
    "start_time": "2023-11-18T03:53:07.910Z"
   },
   {
    "duration": 44,
    "start_time": "2023-11-18T03:53:10.446Z"
   },
   {
    "duration": 44,
    "start_time": "2023-11-18T03:53:11.473Z"
   },
   {
    "duration": 43,
    "start_time": "2023-11-18T03:53:12.335Z"
   },
   {
    "duration": 43,
    "start_time": "2023-11-18T03:53:13.154Z"
   },
   {
    "duration": 1046,
    "start_time": "2023-11-18T03:53:16.422Z"
   },
   {
    "duration": 46,
    "start_time": "2023-11-18T03:53:31.871Z"
   },
   {
    "duration": 1186,
    "start_time": "2023-11-18T03:53:37.603Z"
   },
   {
    "duration": 81,
    "start_time": "2023-11-18T03:53:38.792Z"
   },
   {
    "duration": 21,
    "start_time": "2023-11-18T03:53:38.875Z"
   },
   {
    "duration": 92,
    "start_time": "2023-11-18T03:53:38.898Z"
   },
   {
    "duration": 12,
    "start_time": "2023-11-18T03:53:38.992Z"
   },
   {
    "duration": 59,
    "start_time": "2023-11-18T03:53:39.005Z"
   },
   {
    "duration": 10,
    "start_time": "2023-11-18T03:53:39.065Z"
   },
   {
    "duration": 16,
    "start_time": "2023-11-18T03:53:39.077Z"
   },
   {
    "duration": 4,
    "start_time": "2023-11-18T03:53:39.094Z"
   },
   {
    "duration": 15,
    "start_time": "2023-11-18T03:53:39.101Z"
   },
   {
    "duration": 5,
    "start_time": "2023-11-18T03:53:39.117Z"
   },
   {
    "duration": 10,
    "start_time": "2023-11-18T03:53:39.124Z"
   },
   {
    "duration": 8,
    "start_time": "2023-11-18T03:53:39.136Z"
   },
   {
    "duration": 11,
    "start_time": "2023-11-18T03:53:39.145Z"
   },
   {
    "duration": 7,
    "start_time": "2023-11-18T03:53:39.158Z"
   },
   {
    "duration": 15,
    "start_time": "2023-11-18T03:53:39.167Z"
   },
   {
    "duration": 9,
    "start_time": "2023-11-18T03:53:39.183Z"
   },
   {
    "duration": 19,
    "start_time": "2023-11-18T03:53:39.194Z"
   },
   {
    "duration": 302,
    "start_time": "2023-11-18T03:53:39.215Z"
   },
   {
    "duration": 9,
    "start_time": "2023-11-18T03:53:39.519Z"
   },
   {
    "duration": 254,
    "start_time": "2023-11-18T03:53:39.529Z"
   },
   {
    "duration": 187,
    "start_time": "2023-11-18T03:53:39.785Z"
   },
   {
    "duration": 149,
    "start_time": "2023-11-18T03:53:39.974Z"
   },
   {
    "duration": 34,
    "start_time": "2023-11-18T03:53:40.125Z"
   },
   {
    "duration": 11,
    "start_time": "2023-11-18T03:53:40.161Z"
   },
   {
    "duration": 241,
    "start_time": "2023-11-18T03:53:40.173Z"
   },
   {
    "duration": 269,
    "start_time": "2023-11-18T03:53:40.416Z"
   },
   {
    "duration": 29,
    "start_time": "2023-11-18T03:53:40.688Z"
   },
   {
    "duration": 1174,
    "start_time": "2023-11-18T03:55:04.503Z"
   },
   {
    "duration": 113,
    "start_time": "2023-11-18T03:55:05.679Z"
   },
   {
    "duration": 12,
    "start_time": "2023-11-18T03:55:05.794Z"
   },
   {
    "duration": 151,
    "start_time": "2023-11-18T03:55:05.808Z"
   },
   {
    "duration": 12,
    "start_time": "2023-11-18T03:55:05.962Z"
   },
   {
    "duration": 83,
    "start_time": "2023-11-18T03:55:05.975Z"
   },
   {
    "duration": 11,
    "start_time": "2023-11-18T03:55:06.060Z"
   },
   {
    "duration": 20,
    "start_time": "2023-11-18T03:55:06.072Z"
   },
   {
    "duration": 8,
    "start_time": "2023-11-18T03:55:06.094Z"
   },
   {
    "duration": 29,
    "start_time": "2023-11-18T03:55:06.103Z"
   },
   {
    "duration": 11,
    "start_time": "2023-11-18T03:55:06.133Z"
   },
   {
    "duration": 19,
    "start_time": "2023-11-18T03:55:06.146Z"
   },
   {
    "duration": 19,
    "start_time": "2023-11-18T03:55:06.166Z"
   },
   {
    "duration": 25,
    "start_time": "2023-11-18T03:55:06.188Z"
   },
   {
    "duration": 14,
    "start_time": "2023-11-18T03:55:06.215Z"
   },
   {
    "duration": 13,
    "start_time": "2023-11-18T03:55:06.230Z"
   },
   {
    "duration": 19,
    "start_time": "2023-11-18T03:55:06.244Z"
   },
   {
    "duration": 6,
    "start_time": "2023-11-18T03:55:06.265Z"
   },
   {
    "duration": 291,
    "start_time": "2023-11-18T03:55:06.272Z"
   },
   {
    "duration": 9,
    "start_time": "2023-11-18T03:55:06.565Z"
   },
   {
    "duration": 254,
    "start_time": "2023-11-18T03:55:06.576Z"
   },
   {
    "duration": 188,
    "start_time": "2023-11-18T03:55:06.831Z"
   },
   {
    "duration": 149,
    "start_time": "2023-11-18T03:55:07.020Z"
   },
   {
    "duration": 41,
    "start_time": "2023-11-18T03:55:07.171Z"
   },
   {
    "duration": 11,
    "start_time": "2023-11-18T03:55:07.214Z"
   },
   {
    "duration": 244,
    "start_time": "2023-11-18T03:55:07.227Z"
   },
   {
    "duration": 279,
    "start_time": "2023-11-18T03:55:07.473Z"
   },
   {
    "duration": 22,
    "start_time": "2023-11-18T03:55:07.754Z"
   },
   {
    "duration": 15215,
    "start_time": "2023-11-18T03:55:07.777Z"
   },
   {
    "duration": 184,
    "start_time": "2023-11-18T03:55:22.994Z"
   },
   {
    "duration": 6,
    "start_time": "2023-11-18T03:55:23.180Z"
   },
   {
    "duration": 6,
    "start_time": "2023-11-18T03:55:23.188Z"
   },
   {
    "duration": 5,
    "start_time": "2023-11-18T03:55:23.211Z"
   },
   {
    "duration": 45,
    "start_time": "2023-11-18T03:55:23.217Z"
   },
   {
    "duration": 4,
    "start_time": "2023-11-18T03:55:23.264Z"
   },
   {
    "duration": 44,
    "start_time": "2023-11-18T03:56:12.730Z"
   },
   {
    "duration": 46,
    "start_time": "2023-11-18T03:56:14.800Z"
   },
   {
    "duration": 4,
    "start_time": "2023-11-18T03:56:15.346Z"
   },
   {
    "duration": 46,
    "start_time": "2023-11-18T03:56:19.864Z"
   },
   {
    "duration": 49,
    "start_time": "2023-11-18T03:56:21.611Z"
   },
   {
    "duration": 1449,
    "start_time": "2023-11-18T03:56:28.721Z"
   },
   {
    "duration": 46,
    "start_time": "2023-11-18T03:56:34.241Z"
   },
   {
    "duration": 46,
    "start_time": "2023-11-18T03:56:42.076Z"
   },
   {
    "duration": 47,
    "start_time": "2023-11-18T03:56:44.630Z"
   },
   {
    "duration": 49,
    "start_time": "2023-11-18T03:56:46.199Z"
   },
   {
    "duration": 53,
    "start_time": "2023-11-18T03:57:26.373Z"
   },
   {
    "duration": 53,
    "start_time": "2023-11-18T03:58:08.265Z"
   },
   {
    "duration": 50,
    "start_time": "2023-11-18T03:58:09.644Z"
   },
   {
    "duration": 48,
    "start_time": "2023-11-18T03:58:10.949Z"
   },
   {
    "duration": 51,
    "start_time": "2023-11-18T03:58:12.374Z"
   },
   {
    "duration": 51,
    "start_time": "2023-11-18T03:58:14.132Z"
   },
   {
    "duration": 49,
    "start_time": "2023-11-18T03:58:39.287Z"
   },
   {
    "duration": 53,
    "start_time": "2023-11-18T03:58:41.045Z"
   },
   {
    "duration": 49,
    "start_time": "2023-11-18T03:58:42.267Z"
   },
   {
    "duration": 44,
    "start_time": "2023-11-18T03:58:44.985Z"
   },
   {
    "duration": 51,
    "start_time": "2023-11-18T03:58:47.560Z"
   },
   {
    "duration": 51,
    "start_time": "2023-11-18T03:58:49.246Z"
   },
   {
    "duration": 52,
    "start_time": "2023-11-18T04:00:07.504Z"
   },
   {
    "duration": 55,
    "start_time": "2023-11-18T04:00:08.626Z"
   },
   {
    "duration": 4,
    "start_time": "2023-11-18T04:00:09.091Z"
   },
   {
    "duration": 50,
    "start_time": "2023-11-18T04:00:11.782Z"
   },
   {
    "duration": 50,
    "start_time": "2023-11-18T04:00:23.918Z"
   },
   {
    "duration": 1153,
    "start_time": "2023-11-18T04:01:02.824Z"
   },
   {
    "duration": 217,
    "start_time": "2023-11-18T04:01:03.979Z"
   },
   {
    "duration": 11,
    "start_time": "2023-11-18T04:01:04.198Z"
   },
   {
    "duration": 145,
    "start_time": "2023-11-18T04:01:04.211Z"
   },
   {
    "duration": 11,
    "start_time": "2023-11-18T04:01:04.358Z"
   },
   {
    "duration": 71,
    "start_time": "2023-11-18T04:01:04.371Z"
   },
   {
    "duration": 9,
    "start_time": "2023-11-18T04:01:04.444Z"
   },
   {
    "duration": 9,
    "start_time": "2023-11-18T04:01:04.454Z"
   },
   {
    "duration": 4,
    "start_time": "2023-11-18T04:01:04.464Z"
   },
   {
    "duration": 10,
    "start_time": "2023-11-18T04:01:04.471Z"
   },
   {
    "duration": 5,
    "start_time": "2023-11-18T04:01:04.482Z"
   },
   {
    "duration": 11,
    "start_time": "2023-11-18T04:01:04.489Z"
   },
   {
    "duration": 16,
    "start_time": "2023-11-18T04:01:04.501Z"
   },
   {
    "duration": 4,
    "start_time": "2023-11-18T04:01:04.518Z"
   },
   {
    "duration": 4,
    "start_time": "2023-11-18T04:01:04.524Z"
   },
   {
    "duration": 6,
    "start_time": "2023-11-18T04:01:04.530Z"
   },
   {
    "duration": 6,
    "start_time": "2023-11-18T04:01:04.538Z"
   },
   {
    "duration": 6,
    "start_time": "2023-11-18T04:01:04.546Z"
   },
   {
    "duration": 330,
    "start_time": "2023-11-18T04:01:04.554Z"
   },
   {
    "duration": 10,
    "start_time": "2023-11-18T04:01:04.885Z"
   },
   {
    "duration": 254,
    "start_time": "2023-11-18T04:01:04.897Z"
   },
   {
    "duration": 187,
    "start_time": "2023-11-18T04:01:05.153Z"
   },
   {
    "duration": 149,
    "start_time": "2023-11-18T04:01:05.342Z"
   },
   {
    "duration": 39,
    "start_time": "2023-11-18T04:01:05.493Z"
   },
   {
    "duration": 11,
    "start_time": "2023-11-18T04:01:05.533Z"
   },
   {
    "duration": 238,
    "start_time": "2023-11-18T04:01:05.546Z"
   },
   {
    "duration": 282,
    "start_time": "2023-11-18T04:01:05.786Z"
   },
   {
    "duration": 22,
    "start_time": "2023-11-18T04:01:06.071Z"
   },
   {
    "duration": 1081,
    "start_time": "2023-11-18T04:02:16.993Z"
   },
   {
    "duration": 86,
    "start_time": "2023-11-18T04:02:18.076Z"
   },
   {
    "duration": 11,
    "start_time": "2023-11-18T04:02:18.164Z"
   },
   {
    "duration": 109,
    "start_time": "2023-11-18T04:02:18.176Z"
   },
   {
    "duration": 14,
    "start_time": "2023-11-18T04:02:18.288Z"
   },
   {
    "duration": 78,
    "start_time": "2023-11-18T04:02:18.304Z"
   },
   {
    "duration": 9,
    "start_time": "2023-11-18T04:02:18.384Z"
   },
   {
    "duration": 10,
    "start_time": "2023-11-18T04:02:18.394Z"
   },
   {
    "duration": 5,
    "start_time": "2023-11-18T04:02:18.406Z"
   },
   {
    "duration": 23,
    "start_time": "2023-11-18T04:02:18.412Z"
   },
   {
    "duration": 5,
    "start_time": "2023-11-18T04:02:18.436Z"
   },
   {
    "duration": 9,
    "start_time": "2023-11-18T04:02:18.443Z"
   },
   {
    "duration": 7,
    "start_time": "2023-11-18T04:02:18.454Z"
   },
   {
    "duration": 6,
    "start_time": "2023-11-18T04:02:18.464Z"
   },
   {
    "duration": 4,
    "start_time": "2023-11-18T04:02:18.472Z"
   },
   {
    "duration": 12,
    "start_time": "2023-11-18T04:02:18.478Z"
   },
   {
    "duration": 7,
    "start_time": "2023-11-18T04:02:18.511Z"
   },
   {
    "duration": 6,
    "start_time": "2023-11-18T04:02:18.519Z"
   },
   {
    "duration": 308,
    "start_time": "2023-11-18T04:02:18.527Z"
   },
   {
    "duration": 9,
    "start_time": "2023-11-18T04:02:18.836Z"
   },
   {
    "duration": 259,
    "start_time": "2023-11-18T04:02:18.847Z"
   },
   {
    "duration": 188,
    "start_time": "2023-11-18T04:02:19.111Z"
   },
   {
    "duration": 157,
    "start_time": "2023-11-18T04:02:19.300Z"
   },
   {
    "duration": 31,
    "start_time": "2023-11-18T04:02:19.458Z"
   },
   {
    "duration": 22,
    "start_time": "2023-11-18T04:02:19.491Z"
   },
   {
    "duration": 246,
    "start_time": "2023-11-18T04:02:19.515Z"
   },
   {
    "duration": 284,
    "start_time": "2023-11-18T04:02:19.763Z"
   },
   {
    "duration": 21,
    "start_time": "2023-11-18T04:02:20.049Z"
   },
   {
    "duration": 15482,
    "start_time": "2023-11-18T04:02:20.071Z"
   },
   {
    "duration": 195,
    "start_time": "2023-11-18T04:02:35.555Z"
   },
   {
    "duration": 7,
    "start_time": "2023-11-18T04:02:35.752Z"
   },
   {
    "duration": 6,
    "start_time": "2023-11-18T04:02:35.760Z"
   },
   {
    "duration": 8,
    "start_time": "2023-11-18T04:02:35.768Z"
   },
   {
    "duration": 74,
    "start_time": "2023-11-18T04:02:35.778Z"
   },
   {
    "duration": 4,
    "start_time": "2023-11-18T04:02:35.854Z"
   },
   {
    "duration": 1137,
    "start_time": "2023-11-18T04:02:54.981Z"
   },
   {
    "duration": 75,
    "start_time": "2023-11-18T04:02:56.120Z"
   },
   {
    "duration": 16,
    "start_time": "2023-11-18T04:02:56.197Z"
   },
   {
    "duration": 76,
    "start_time": "2023-11-18T04:02:56.216Z"
   },
   {
    "duration": 10,
    "start_time": "2023-11-18T04:02:56.294Z"
   },
   {
    "duration": 60,
    "start_time": "2023-11-18T04:02:56.306Z"
   },
   {
    "duration": 10,
    "start_time": "2023-11-18T04:02:56.368Z"
   },
   {
    "duration": 21,
    "start_time": "2023-11-18T04:02:56.379Z"
   },
   {
    "duration": 13,
    "start_time": "2023-11-18T04:02:56.402Z"
   },
   {
    "duration": 15,
    "start_time": "2023-11-18T04:02:56.416Z"
   },
   {
    "duration": 10,
    "start_time": "2023-11-18T04:02:56.432Z"
   },
   {
    "duration": 8,
    "start_time": "2023-11-18T04:02:56.444Z"
   },
   {
    "duration": 13,
    "start_time": "2023-11-18T04:02:56.453Z"
   },
   {
    "duration": 4,
    "start_time": "2023-11-18T04:02:56.470Z"
   },
   {
    "duration": 5,
    "start_time": "2023-11-18T04:02:56.476Z"
   },
   {
    "duration": 34,
    "start_time": "2023-11-18T04:02:56.483Z"
   },
   {
    "duration": 10,
    "start_time": "2023-11-18T04:02:56.518Z"
   },
   {
    "duration": 6,
    "start_time": "2023-11-18T04:02:56.529Z"
   },
   {
    "duration": 306,
    "start_time": "2023-11-18T04:02:56.536Z"
   },
   {
    "duration": 10,
    "start_time": "2023-11-18T04:02:56.843Z"
   },
   {
    "duration": 260,
    "start_time": "2023-11-18T04:02:56.854Z"
   },
   {
    "duration": 182,
    "start_time": "2023-11-18T04:02:57.115Z"
   },
   {
    "duration": 165,
    "start_time": "2023-11-18T04:02:57.299Z"
   },
   {
    "duration": 46,
    "start_time": "2023-11-18T04:02:57.466Z"
   },
   {
    "duration": 11,
    "start_time": "2023-11-18T04:02:57.514Z"
   },
   {
    "duration": 244,
    "start_time": "2023-11-18T04:02:57.527Z"
   },
   {
    "duration": 277,
    "start_time": "2023-11-18T04:02:57.773Z"
   },
   {
    "duration": 22,
    "start_time": "2023-11-18T04:02:58.052Z"
   },
   {
    "duration": 15595,
    "start_time": "2023-11-18T04:02:58.076Z"
   },
   {
    "duration": 201,
    "start_time": "2023-11-18T04:03:13.673Z"
   },
   {
    "duration": 6,
    "start_time": "2023-11-18T04:03:13.876Z"
   },
   {
    "duration": 9,
    "start_time": "2023-11-18T04:03:13.884Z"
   },
   {
    "duration": 6,
    "start_time": "2023-11-18T04:03:13.911Z"
   },
   {
    "duration": 65,
    "start_time": "2023-11-18T04:03:13.919Z"
   },
   {
    "duration": 6,
    "start_time": "2023-11-18T04:03:13.986Z"
   },
   {
    "duration": 45,
    "start_time": "2023-11-18T15:03:04.842Z"
   },
   {
    "duration": 1279,
    "start_time": "2023-11-18T15:03:09.982Z"
   },
   {
    "duration": 319,
    "start_time": "2023-11-18T15:03:11.263Z"
   },
   {
    "duration": 20,
    "start_time": "2023-11-18T15:03:32.688Z"
   },
   {
    "duration": 18,
    "start_time": "2023-11-18T15:03:57.410Z"
   },
   {
    "duration": 55,
    "start_time": "2023-11-18T15:04:27.240Z"
   },
   {
    "duration": 15,
    "start_time": "2023-11-18T15:04:32.254Z"
   },
   {
    "duration": 21,
    "start_time": "2023-11-18T15:04:39.863Z"
   },
   {
    "duration": 3,
    "start_time": "2023-11-18T15:04:52.527Z"
   },
   {
    "duration": 112,
    "start_time": "2023-11-18T15:05:09.393Z"
   },
   {
    "duration": 15,
    "start_time": "2023-11-18T15:05:11.775Z"
   },
   {
    "duration": 8,
    "start_time": "2023-11-18T15:05:22.790Z"
   },
   {
    "duration": 15,
    "start_time": "2023-11-18T15:05:34.799Z"
   },
   {
    "duration": 11,
    "start_time": "2023-11-18T15:05:39.533Z"
   },
   {
    "duration": 16,
    "start_time": "2023-11-18T15:06:16.400Z"
   },
   {
    "duration": 2,
    "start_time": "2023-11-18T15:06:36.608Z"
   },
   {
    "duration": 103,
    "start_time": "2023-11-18T15:06:37.281Z"
   },
   {
    "duration": 17,
    "start_time": "2023-11-18T15:06:37.932Z"
   },
   {
    "duration": 20,
    "start_time": "2023-11-18T15:06:41.080Z"
   },
   {
    "duration": 23,
    "start_time": "2023-11-18T15:06:44.099Z"
   },
   {
    "duration": 9,
    "start_time": "2023-11-18T15:06:57.416Z"
   },
   {
    "duration": 5,
    "start_time": "2023-11-18T15:06:57.677Z"
   },
   {
    "duration": 15,
    "start_time": "2023-11-18T15:06:57.925Z"
   },
   {
    "duration": 7,
    "start_time": "2023-11-18T15:06:58.174Z"
   },
   {
    "duration": 10,
    "start_time": "2023-11-18T15:06:58.374Z"
   },
   {
    "duration": 8,
    "start_time": "2023-11-18T15:06:58.609Z"
   },
   {
    "duration": 5,
    "start_time": "2023-11-18T15:06:58.841Z"
   },
   {
    "duration": 3,
    "start_time": "2023-11-18T15:11:49.491Z"
   },
   {
    "duration": 116,
    "start_time": "2023-11-18T15:11:49.653Z"
   },
   {
    "duration": 22,
    "start_time": "2023-11-18T15:11:49.771Z"
   },
   {
    "duration": 24,
    "start_time": "2023-11-18T15:11:49.996Z"
   },
   {
    "duration": 20,
    "start_time": "2023-11-18T15:11:50.241Z"
   },
   {
    "duration": 12,
    "start_time": "2023-11-18T15:11:50.658Z"
   },
   {
    "duration": 6,
    "start_time": "2023-11-18T15:11:51.240Z"
   },
   {
    "duration": 10,
    "start_time": "2023-11-18T15:11:51.529Z"
   },
   {
    "duration": 3,
    "start_time": "2023-11-18T15:11:51.768Z"
   },
   {
    "duration": 10,
    "start_time": "2023-11-18T15:11:54.315Z"
   },
   {
    "duration": 3,
    "start_time": "2023-11-18T15:12:08.947Z"
   },
   {
    "duration": 13,
    "start_time": "2023-11-18T15:12:09.191Z"
   },
   {
    "duration": 5,
    "start_time": "2023-11-18T15:12:12.196Z"
   },
   {
    "duration": 18,
    "start_time": "2023-11-18T15:12:12.553Z"
   },
   {
    "duration": 3,
    "start_time": "2023-11-18T15:12:19.170Z"
   },
   {
    "duration": 19,
    "start_time": "2023-11-18T15:12:19.713Z"
   },
   {
    "duration": 4,
    "start_time": "2023-11-18T15:12:45.162Z"
   },
   {
    "duration": 12,
    "start_time": "2023-11-18T15:12:45.535Z"
   },
   {
    "duration": 4,
    "start_time": "2023-11-18T15:12:48.875Z"
   },
   {
    "duration": 5,
    "start_time": "2023-11-18T15:12:49.188Z"
   },
   {
    "duration": 6,
    "start_time": "2023-11-18T15:12:50.610Z"
   },
   {
    "duration": 8,
    "start_time": "2023-11-18T15:13:17.145Z"
   },
   {
    "duration": 284,
    "start_time": "2023-11-18T15:13:18.315Z"
   },
   {
    "duration": 305,
    "start_time": "2023-11-18T15:13:55.234Z"
   },
   {
    "duration": 275,
    "start_time": "2023-11-18T15:14:13.234Z"
   },
   {
    "duration": 276,
    "start_time": "2023-11-18T15:14:28.222Z"
   },
   {
    "duration": 10,
    "start_time": "2023-11-18T15:14:32.171Z"
   },
   {
    "duration": 28,
    "start_time": "2023-11-18T15:17:35.436Z"
   },
   {
    "duration": 1152,
    "start_time": "2023-11-18T15:18:20.086Z"
   },
   {
    "duration": 106,
    "start_time": "2023-11-18T15:18:21.240Z"
   },
   {
    "duration": 21,
    "start_time": "2023-11-18T15:18:21.348Z"
   },
   {
    "duration": 17,
    "start_time": "2023-11-18T15:18:21.370Z"
   },
   {
    "duration": 17,
    "start_time": "2023-11-18T15:18:21.390Z"
   },
   {
    "duration": 10,
    "start_time": "2023-11-18T15:18:21.408Z"
   },
   {
    "duration": 5,
    "start_time": "2023-11-18T15:18:21.419Z"
   },
   {
    "duration": 22,
    "start_time": "2023-11-18T15:18:21.425Z"
   },
   {
    "duration": 4,
    "start_time": "2023-11-18T15:18:21.472Z"
   },
   {
    "duration": 24,
    "start_time": "2023-11-18T15:18:21.477Z"
   },
   {
    "duration": 5,
    "start_time": "2023-11-18T15:18:21.502Z"
   },
   {
    "duration": 16,
    "start_time": "2023-11-18T15:18:21.508Z"
   },
   {
    "duration": 7,
    "start_time": "2023-11-18T15:18:21.526Z"
   },
   {
    "duration": 6,
    "start_time": "2023-11-18T15:18:21.536Z"
   },
   {
    "duration": 352,
    "start_time": "2023-11-18T15:18:21.543Z"
   },
   {
    "duration": 20098,
    "start_time": "2023-11-18T15:18:21.896Z"
   },
   {
    "duration": 0,
    "start_time": "2023-11-18T15:18:41.997Z"
   },
   {
    "duration": 0,
    "start_time": "2023-11-18T15:18:41.999Z"
   },
   {
    "duration": 0,
    "start_time": "2023-11-18T15:18:42.000Z"
   },
   {
    "duration": 0,
    "start_time": "2023-11-18T15:18:42.002Z"
   },
   {
    "duration": 0,
    "start_time": "2023-11-18T15:18:42.003Z"
   },
   {
    "duration": 0,
    "start_time": "2023-11-18T15:18:42.005Z"
   },
   {
    "duration": 0,
    "start_time": "2023-11-18T15:18:42.006Z"
   },
   {
    "duration": 0,
    "start_time": "2023-11-18T15:18:42.008Z"
   },
   {
    "duration": 0,
    "start_time": "2023-11-18T15:18:42.009Z"
   },
   {
    "duration": 0,
    "start_time": "2023-11-18T15:18:42.011Z"
   },
   {
    "duration": 0,
    "start_time": "2023-11-18T15:18:42.012Z"
   },
   {
    "duration": 0,
    "start_time": "2023-11-18T15:18:42.013Z"
   },
   {
    "duration": 0,
    "start_time": "2023-11-18T15:18:42.015Z"
   },
   {
    "duration": 0,
    "start_time": "2023-11-18T15:18:42.016Z"
   },
   {
    "duration": 0,
    "start_time": "2023-11-18T15:18:42.018Z"
   },
   {
    "duration": 122,
    "start_time": "2023-11-18T15:18:49.783Z"
   },
   {
    "duration": 1169,
    "start_time": "2023-11-18T15:19:21.320Z"
   },
   {
    "duration": 71,
    "start_time": "2023-11-18T15:19:57.914Z"
   },
   {
    "duration": 82,
    "start_time": "2023-11-18T15:20:01.032Z"
   },
   {
    "duration": 99,
    "start_time": "2023-11-18T15:20:27.333Z"
   },
   {
    "duration": 100,
    "start_time": "2023-11-18T15:20:31.593Z"
   },
   {
    "duration": 87,
    "start_time": "2023-11-18T15:20:41.868Z"
   },
   {
    "duration": 108,
    "start_time": "2023-11-18T15:20:58.020Z"
   },
   {
    "duration": 92,
    "start_time": "2023-11-18T15:21:03.210Z"
   },
   {
    "duration": 89,
    "start_time": "2023-11-18T15:21:10.524Z"
   },
   {
    "duration": 89,
    "start_time": "2023-11-18T15:21:14.836Z"
   },
   {
    "duration": 86,
    "start_time": "2023-11-18T15:21:36.608Z"
   },
   {
    "duration": 96,
    "start_time": "2023-11-18T15:21:41.728Z"
   },
   {
    "duration": 101,
    "start_time": "2023-11-18T15:22:03.484Z"
   },
   {
    "duration": 90,
    "start_time": "2023-11-18T15:22:07.216Z"
   },
   {
    "duration": 3,
    "start_time": "2023-11-18T15:23:26.579Z"
   },
   {
    "duration": 123,
    "start_time": "2023-11-18T15:23:26.747Z"
   },
   {
    "duration": 16,
    "start_time": "2023-11-18T15:23:26.872Z"
   },
   {
    "duration": 17,
    "start_time": "2023-11-18T15:23:27.082Z"
   },
   {
    "duration": 16,
    "start_time": "2023-11-18T15:23:27.329Z"
   },
   {
    "duration": 9,
    "start_time": "2023-11-18T15:23:27.746Z"
   },
   {
    "duration": 5,
    "start_time": "2023-11-18T15:23:27.833Z"
   },
   {
    "duration": 10,
    "start_time": "2023-11-18T15:23:27.912Z"
   },
   {
    "duration": 3,
    "start_time": "2023-11-18T15:23:27.995Z"
   },
   {
    "duration": 14,
    "start_time": "2023-11-18T15:23:28.078Z"
   },
   {
    "duration": 5,
    "start_time": "2023-11-18T15:23:28.330Z"
   },
   {
    "duration": 6,
    "start_time": "2023-11-18T15:23:28.414Z"
   },
   {
    "duration": 7,
    "start_time": "2023-11-18T15:23:28.495Z"
   },
   {
    "duration": 6,
    "start_time": "2023-11-18T15:23:28.579Z"
   },
   {
    "duration": 138,
    "start_time": "2023-11-18T15:23:28.995Z"
   },
   {
    "duration": 92,
    "start_time": "2023-11-18T15:23:29.328Z"
   },
   {
    "duration": 150,
    "start_time": "2023-11-18T15:24:01.624Z"
   },
   {
    "duration": 301,
    "start_time": "2023-11-18T15:25:17.392Z"
   },
   {
    "duration": 300,
    "start_time": "2023-11-18T15:26:11.024Z"
   },
   {
    "duration": 292,
    "start_time": "2023-11-18T15:26:19.265Z"
   },
   {
    "duration": 90,
    "start_time": "2023-11-18T15:26:22.664Z"
   },
   {
    "duration": 230,
    "start_time": "2023-11-18T15:26:29.329Z"
   },
   {
    "duration": 18490,
    "start_time": "2023-11-18T15:26:59.114Z"
   },
   {
    "duration": 142,
    "start_time": "2023-11-18T15:27:27.584Z"
   },
   {
    "duration": 214,
    "start_time": "2023-11-18T15:27:40.297Z"
   },
   {
    "duration": 160,
    "start_time": "2023-11-18T15:27:44.269Z"
   },
   {
    "duration": 169,
    "start_time": "2023-11-18T15:27:50.861Z"
   },
   {
    "duration": 10,
    "start_time": "2023-11-18T15:28:03.302Z"
   },
   {
    "duration": 172,
    "start_time": "2023-11-18T15:28:22.902Z"
   },
   {
    "duration": 158,
    "start_time": "2023-11-18T15:28:27.121Z"
   },
   {
    "duration": 8,
    "start_time": "2023-11-18T15:28:37.335Z"
   },
   {
    "duration": 180,
    "start_time": "2023-11-18T15:28:41.107Z"
   },
   {
    "duration": 42,
    "start_time": "2023-11-18T15:29:01.868Z"
   },
   {
    "duration": 91,
    "start_time": "2023-11-18T15:30:58.470Z"
   },
   {
    "duration": 40,
    "start_time": "2023-11-18T15:31:02.294Z"
   },
   {
    "duration": 41,
    "start_time": "2023-11-18T15:33:19.548Z"
   },
   {
    "duration": 32,
    "start_time": "2023-11-18T15:33:39.154Z"
   },
   {
    "duration": 34,
    "start_time": "2023-11-18T15:33:59.820Z"
   },
   {
    "duration": 34,
    "start_time": "2023-11-18T15:34:14.030Z"
   },
   {
    "duration": 34,
    "start_time": "2023-11-18T15:34:17.000Z"
   },
   {
    "duration": 44,
    "start_time": "2023-11-18T15:34:18.905Z"
   },
   {
    "duration": 49,
    "start_time": "2023-11-18T15:34:20.801Z"
   },
   {
    "duration": 34,
    "start_time": "2023-11-18T15:34:39.614Z"
   },
   {
    "duration": 33,
    "start_time": "2023-11-18T15:34:54.853Z"
   },
   {
    "duration": 35,
    "start_time": "2023-11-18T15:35:01.261Z"
   },
   {
    "duration": 35,
    "start_time": "2023-11-18T15:35:04.467Z"
   },
   {
    "duration": 187,
    "start_time": "2023-11-18T15:36:26.841Z"
   },
   {
    "duration": 489,
    "start_time": "2023-11-18T15:37:00.044Z"
   },
   {
    "duration": 194,
    "start_time": "2023-11-18T15:38:18.741Z"
   },
   {
    "duration": 188,
    "start_time": "2023-11-18T15:38:25.613Z"
   },
   {
    "duration": 188,
    "start_time": "2023-11-18T15:38:29.193Z"
   },
   {
    "duration": 181,
    "start_time": "2023-11-18T15:38:35.726Z"
   },
   {
    "duration": 35,
    "start_time": "2023-11-18T15:40:48.104Z"
   },
   {
    "duration": 10,
    "start_time": "2023-11-18T15:40:48.682Z"
   },
   {
    "duration": 228,
    "start_time": "2023-11-18T15:40:48.850Z"
   },
   {
    "duration": 202,
    "start_time": "2023-11-18T15:40:49.102Z"
   },
   {
    "duration": 24,
    "start_time": "2023-11-18T15:40:50.349Z"
   },
   {
    "duration": 1137,
    "start_time": "2023-11-18T15:41:02.497Z"
   },
   {
    "duration": 116,
    "start_time": "2023-11-18T15:41:03.636Z"
   },
   {
    "duration": 20,
    "start_time": "2023-11-18T15:41:03.754Z"
   },
   {
    "duration": 18,
    "start_time": "2023-11-18T15:41:03.775Z"
   },
   {
    "duration": 15,
    "start_time": "2023-11-18T15:41:03.796Z"
   },
   {
    "duration": 9,
    "start_time": "2023-11-18T15:41:03.813Z"
   },
   {
    "duration": 12,
    "start_time": "2023-11-18T15:41:03.824Z"
   },
   {
    "duration": 45,
    "start_time": "2023-11-18T15:41:03.837Z"
   },
   {
    "duration": 3,
    "start_time": "2023-11-18T15:41:03.884Z"
   },
   {
    "duration": 16,
    "start_time": "2023-11-18T15:41:03.889Z"
   },
   {
    "duration": 5,
    "start_time": "2023-11-18T15:41:03.908Z"
   },
   {
    "duration": 11,
    "start_time": "2023-11-18T15:41:03.915Z"
   },
   {
    "duration": 22,
    "start_time": "2023-11-18T15:41:03.927Z"
   },
   {
    "duration": 23,
    "start_time": "2023-11-18T15:41:03.952Z"
   },
   {
    "duration": 317,
    "start_time": "2023-11-18T15:41:03.977Z"
   },
   {
    "duration": 111,
    "start_time": "2023-11-18T15:41:04.295Z"
   },
   {
    "duration": 168,
    "start_time": "2023-11-18T15:41:04.408Z"
   },
   {
    "duration": 8,
    "start_time": "2023-11-18T15:41:04.578Z"
   },
   {
    "duration": 278,
    "start_time": "2023-11-18T15:41:04.587Z"
   },
   {
    "duration": 0,
    "start_time": "2023-11-18T15:41:04.867Z"
   },
   {
    "duration": 0,
    "start_time": "2023-11-18T15:41:04.868Z"
   },
   {
    "duration": 0,
    "start_time": "2023-11-18T15:41:04.871Z"
   },
   {
    "duration": 0,
    "start_time": "2023-11-18T15:41:04.873Z"
   },
   {
    "duration": 0,
    "start_time": "2023-11-18T15:41:04.874Z"
   },
   {
    "duration": 0,
    "start_time": "2023-11-18T15:41:04.875Z"
   },
   {
    "duration": 0,
    "start_time": "2023-11-18T15:41:04.876Z"
   },
   {
    "duration": 0,
    "start_time": "2023-11-18T15:41:04.878Z"
   },
   {
    "duration": 0,
    "start_time": "2023-11-18T15:41:04.879Z"
   },
   {
    "duration": 0,
    "start_time": "2023-11-18T15:41:04.880Z"
   },
   {
    "duration": 0,
    "start_time": "2023-11-18T15:41:04.882Z"
   },
   {
    "duration": 0,
    "start_time": "2023-11-18T15:41:04.883Z"
   },
   {
    "duration": 0,
    "start_time": "2023-11-18T15:41:04.884Z"
   },
   {
    "duration": 185,
    "start_time": "2023-11-18T15:42:00.126Z"
   },
   {
    "duration": 189,
    "start_time": "2023-11-18T15:42:17.785Z"
   },
   {
    "duration": 190,
    "start_time": "2023-11-18T15:42:20.403Z"
   },
   {
    "duration": 178,
    "start_time": "2023-11-18T15:42:32.607Z"
   },
   {
    "duration": 312,
    "start_time": "2023-11-18T15:43:30.711Z"
   },
   {
    "duration": 159,
    "start_time": "2023-11-18T15:44:17.635Z"
   },
   {
    "duration": 159,
    "start_time": "2023-11-18T15:44:21.935Z"
   },
   {
    "duration": 165,
    "start_time": "2023-11-18T15:44:36.925Z"
   },
   {
    "duration": 1156,
    "start_time": "2023-11-18T15:45:31.096Z"
   },
   {
    "duration": 110,
    "start_time": "2023-11-18T15:45:32.254Z"
   },
   {
    "duration": 19,
    "start_time": "2023-11-18T15:45:32.366Z"
   },
   {
    "duration": 16,
    "start_time": "2023-11-18T15:45:32.387Z"
   },
   {
    "duration": 12,
    "start_time": "2023-11-18T15:45:32.405Z"
   },
   {
    "duration": 16,
    "start_time": "2023-11-18T15:45:32.419Z"
   },
   {
    "duration": 4,
    "start_time": "2023-11-18T15:45:32.437Z"
   },
   {
    "duration": 35,
    "start_time": "2023-11-18T15:45:32.442Z"
   },
   {
    "duration": 3,
    "start_time": "2023-11-18T15:45:32.478Z"
   },
   {
    "duration": 23,
    "start_time": "2023-11-18T15:45:32.484Z"
   },
   {
    "duration": 4,
    "start_time": "2023-11-18T15:45:32.509Z"
   },
   {
    "duration": 6,
    "start_time": "2023-11-18T15:45:32.515Z"
   },
   {
    "duration": 14,
    "start_time": "2023-11-18T15:45:32.523Z"
   },
   {
    "duration": 14,
    "start_time": "2023-11-18T15:45:32.538Z"
   },
   {
    "duration": 310,
    "start_time": "2023-11-18T15:45:32.553Z"
   },
   {
    "duration": 88,
    "start_time": "2023-11-18T15:45:32.871Z"
   },
   {
    "duration": 186,
    "start_time": "2023-11-18T15:45:32.971Z"
   },
   {
    "duration": 7,
    "start_time": "2023-11-18T15:45:33.159Z"
   },
   {
    "duration": 193,
    "start_time": "2023-11-18T15:45:33.172Z"
   },
   {
    "duration": 152,
    "start_time": "2023-11-18T15:45:33.366Z"
   },
   {
    "duration": 35,
    "start_time": "2023-11-18T15:45:33.519Z"
   },
   {
    "duration": 24,
    "start_time": "2023-11-18T15:45:33.555Z"
   },
   {
    "duration": 231,
    "start_time": "2023-11-18T15:45:33.580Z"
   },
   {
    "duration": 195,
    "start_time": "2023-11-18T15:45:33.812Z"
   },
   {
    "duration": 21,
    "start_time": "2023-11-18T15:45:34.009Z"
   },
   {
    "duration": 14841,
    "start_time": "2023-11-18T15:45:34.032Z"
   },
   {
    "duration": 202,
    "start_time": "2023-11-18T15:45:48.874Z"
   },
   {
    "duration": 7,
    "start_time": "2023-11-18T15:45:49.079Z"
   },
   {
    "duration": 6,
    "start_time": "2023-11-18T15:45:49.087Z"
   },
   {
    "duration": 16,
    "start_time": "2023-11-18T15:45:49.095Z"
   },
   {
    "duration": 61,
    "start_time": "2023-11-18T15:45:49.112Z"
   },
   {
    "duration": 4,
    "start_time": "2023-11-18T15:45:49.175Z"
   },
   {
    "duration": 161,
    "start_time": "2023-11-18T15:46:13.788Z"
   },
   {
    "duration": 170,
    "start_time": "2023-11-18T15:46:18.065Z"
   },
   {
    "duration": 195,
    "start_time": "2023-11-18T15:46:38.266Z"
   },
   {
    "duration": 140,
    "start_time": "2023-11-18T15:47:29.401Z"
   },
   {
    "duration": 160,
    "start_time": "2023-11-18T15:47:44.924Z"
   },
   {
    "duration": 189,
    "start_time": "2023-11-18T15:47:51.372Z"
   },
   {
    "duration": 137,
    "start_time": "2023-11-18T15:47:56.521Z"
   },
   {
    "duration": 111,
    "start_time": "2023-11-18T15:48:21.515Z"
   },
   {
    "duration": 189,
    "start_time": "2023-11-18T15:48:25.167Z"
   },
   {
    "duration": 9,
    "start_time": "2023-11-18T15:48:55.092Z"
   },
   {
    "duration": 83,
    "start_time": "2023-11-18T16:41:30.357Z"
   },
   {
    "duration": 18,
    "start_time": "2023-11-18T16:41:33.425Z"
   },
   {
    "duration": 8,
    "start_time": "2023-11-18T16:41:42.061Z"
   },
   {
    "duration": 20,
    "start_time": "2023-11-18T16:41:47.266Z"
   },
   {
    "duration": 6,
    "start_time": "2023-11-18T16:42:06.434Z"
   },
   {
    "duration": 11,
    "start_time": "2023-11-18T16:42:29.784Z"
   },
   {
    "duration": 111,
    "start_time": "2023-11-18T16:42:34.767Z"
   },
   {
    "duration": 106,
    "start_time": "2023-11-18T16:44:16.649Z"
   },
   {
    "duration": 9,
    "start_time": "2023-11-18T16:44:51.851Z"
   },
   {
    "duration": 6,
    "start_time": "2023-11-18T16:47:52.603Z"
   },
   {
    "duration": 12,
    "start_time": "2023-11-18T16:48:27.856Z"
   },
   {
    "duration": 11,
    "start_time": "2023-11-18T16:48:31.035Z"
   },
   {
    "duration": 1148,
    "start_time": "2023-11-18T16:49:45.077Z"
   },
   {
    "duration": 114,
    "start_time": "2023-11-18T16:49:46.227Z"
   },
   {
    "duration": 20,
    "start_time": "2023-11-18T16:49:46.343Z"
   },
   {
    "duration": 21,
    "start_time": "2023-11-18T16:49:46.365Z"
   },
   {
    "duration": 16,
    "start_time": "2023-11-18T16:49:46.388Z"
   },
   {
    "duration": 9,
    "start_time": "2023-11-18T16:49:46.406Z"
   },
   {
    "duration": 5,
    "start_time": "2023-11-18T16:49:46.417Z"
   },
   {
    "duration": 12,
    "start_time": "2023-11-18T16:49:46.423Z"
   },
   {
    "duration": 37,
    "start_time": "2023-11-18T16:49:46.436Z"
   },
   {
    "duration": 16,
    "start_time": "2023-11-18T16:49:46.476Z"
   },
   {
    "duration": 4,
    "start_time": "2023-11-18T16:49:46.494Z"
   },
   {
    "duration": 8,
    "start_time": "2023-11-18T16:49:46.500Z"
   },
   {
    "duration": 7,
    "start_time": "2023-11-18T16:49:46.509Z"
   },
   {
    "duration": 6,
    "start_time": "2023-11-18T16:49:46.517Z"
   },
   {
    "duration": 347,
    "start_time": "2023-11-18T16:49:46.525Z"
   },
   {
    "duration": 100,
    "start_time": "2023-11-18T16:49:46.874Z"
   },
   {
    "duration": 176,
    "start_time": "2023-11-18T16:49:46.975Z"
   },
   {
    "duration": 8,
    "start_time": "2023-11-18T16:49:47.153Z"
   },
   {
    "duration": 211,
    "start_time": "2023-11-18T16:49:47.162Z"
   },
   {
    "duration": 146,
    "start_time": "2023-11-18T16:49:47.375Z"
   },
   {
    "duration": 9,
    "start_time": "2023-11-18T16:49:47.523Z"
   },
   {
    "duration": 9,
    "start_time": "2023-11-18T16:49:47.533Z"
   },
   {
    "duration": 58,
    "start_time": "2023-11-18T16:49:47.543Z"
   },
   {
    "duration": 12,
    "start_time": "2023-11-18T16:49:47.603Z"
   },
   {
    "duration": 233,
    "start_time": "2023-11-18T16:49:47.616Z"
   },
   {
    "duration": 280,
    "start_time": "2023-11-18T16:49:47.851Z"
   },
   {
    "duration": 24,
    "start_time": "2023-11-18T16:49:48.133Z"
   },
   {
    "duration": 15202,
    "start_time": "2023-11-18T16:49:48.173Z"
   },
   {
    "duration": 204,
    "start_time": "2023-11-18T16:50:03.377Z"
   },
   {
    "duration": 7,
    "start_time": "2023-11-18T16:50:03.583Z"
   },
   {
    "duration": 25,
    "start_time": "2023-11-18T16:50:03.592Z"
   },
   {
    "duration": 17,
    "start_time": "2023-11-18T16:50:03.619Z"
   },
   {
    "duration": 55,
    "start_time": "2023-11-18T16:50:03.637Z"
   },
   {
    "duration": 4,
    "start_time": "2023-11-18T16:50:03.694Z"
   },
   {
    "duration": 91,
    "start_time": "2023-11-18T16:50:53.808Z"
   },
   {
    "duration": 9,
    "start_time": "2023-11-18T16:50:57.057Z"
   },
   {
    "duration": 9,
    "start_time": "2023-11-18T16:50:59.691Z"
   },
   {
    "duration": 12,
    "start_time": "2023-11-18T16:51:01.796Z"
   },
   {
    "duration": 8,
    "start_time": "2023-11-18T16:51:04.228Z"
   },
   {
    "duration": 12,
    "start_time": "2023-11-18T16:51:11.962Z"
   },
   {
    "duration": 12,
    "start_time": "2023-11-18T16:51:16.618Z"
   },
   {
    "duration": 10,
    "start_time": "2023-11-18T16:51:23.642Z"
   },
   {
    "duration": 221,
    "start_time": "2023-11-18T16:52:53.283Z"
   },
   {
    "duration": 211,
    "start_time": "2023-11-18T16:53:28.065Z"
   },
   {
    "duration": 229,
    "start_time": "2023-11-18T16:53:33.515Z"
   },
   {
    "duration": 245,
    "start_time": "2023-11-18T16:53:36.686Z"
   },
   {
    "duration": 216,
    "start_time": "2023-11-18T16:54:14.059Z"
   },
   {
    "duration": 341,
    "start_time": "2023-11-18T16:55:02.748Z"
   },
   {
    "duration": 237,
    "start_time": "2023-11-18T16:55:17.714Z"
   },
   {
    "duration": 152,
    "start_time": "2023-11-18T16:56:28.172Z"
   },
   {
    "duration": 1094,
    "start_time": "2023-11-18T16:56:38.739Z"
   },
   {
    "duration": 110,
    "start_time": "2023-11-18T16:56:39.835Z"
   },
   {
    "duration": 22,
    "start_time": "2023-11-18T16:56:39.947Z"
   },
   {
    "duration": 19,
    "start_time": "2023-11-18T16:56:39.971Z"
   },
   {
    "duration": 15,
    "start_time": "2023-11-18T16:56:39.992Z"
   },
   {
    "duration": 23,
    "start_time": "2023-11-18T16:56:40.009Z"
   },
   {
    "duration": 6,
    "start_time": "2023-11-18T16:56:40.033Z"
   },
   {
    "duration": 32,
    "start_time": "2023-11-18T16:56:40.041Z"
   },
   {
    "duration": 3,
    "start_time": "2023-11-18T16:56:40.075Z"
   },
   {
    "duration": 21,
    "start_time": "2023-11-18T16:56:40.080Z"
   },
   {
    "duration": 6,
    "start_time": "2023-11-18T16:56:40.103Z"
   },
   {
    "duration": 9,
    "start_time": "2023-11-18T16:56:40.111Z"
   },
   {
    "duration": 9,
    "start_time": "2023-11-18T16:56:40.122Z"
   },
   {
    "duration": 5,
    "start_time": "2023-11-18T16:56:40.134Z"
   },
   {
    "duration": 307,
    "start_time": "2023-11-18T16:56:40.173Z"
   },
   {
    "duration": 94,
    "start_time": "2023-11-18T16:56:40.481Z"
   },
   {
    "duration": 168,
    "start_time": "2023-11-18T16:56:40.577Z"
   },
   {
    "duration": 7,
    "start_time": "2023-11-18T16:56:40.747Z"
   },
   {
    "duration": 205,
    "start_time": "2023-11-18T16:56:40.756Z"
   },
   {
    "duration": 200,
    "start_time": "2023-11-18T16:56:40.963Z"
   },
   {
    "duration": 13,
    "start_time": "2023-11-18T16:56:41.165Z"
   },
   {
    "duration": 13,
    "start_time": "2023-11-18T16:56:41.179Z"
   },
   {
    "duration": 33,
    "start_time": "2023-11-18T16:56:41.194Z"
   },
   {
    "duration": 11,
    "start_time": "2023-11-18T16:56:41.229Z"
   },
   {
    "duration": 266,
    "start_time": "2023-11-18T16:56:41.241Z"
   },
   {
    "duration": 314,
    "start_time": "2023-11-18T16:56:41.509Z"
   },
   {
    "duration": 21,
    "start_time": "2023-11-18T16:56:41.824Z"
   },
   {
    "duration": 15159,
    "start_time": "2023-11-18T16:56:41.847Z"
   },
   {
    "duration": 216,
    "start_time": "2023-11-18T16:56:57.008Z"
   },
   {
    "duration": 7,
    "start_time": "2023-11-18T16:56:57.226Z"
   },
   {
    "duration": 7,
    "start_time": "2023-11-18T16:56:57.235Z"
   },
   {
    "duration": 29,
    "start_time": "2023-11-18T16:56:57.244Z"
   },
   {
    "duration": 54,
    "start_time": "2023-11-18T16:56:57.275Z"
   },
   {
    "duration": 5,
    "start_time": "2023-11-18T16:56:57.331Z"
   },
   {
    "duration": 150,
    "start_time": "2023-11-18T16:57:54.365Z"
   },
   {
    "duration": 34,
    "start_time": "2023-11-18T17:03:53.418Z"
   },
   {
    "duration": 32,
    "start_time": "2023-11-18T17:04:12.541Z"
   },
   {
    "duration": 32,
    "start_time": "2023-11-18T17:04:16.407Z"
   },
   {
    "duration": 117,
    "start_time": "2023-11-18T17:05:01.825Z"
   },
   {
    "duration": 44,
    "start_time": "2023-11-18T17:05:06.668Z"
   },
   {
    "duration": 42,
    "start_time": "2023-11-18T17:05:12.138Z"
   },
   {
    "duration": 1141,
    "start_time": "2023-11-18T17:05:20.967Z"
   },
   {
    "duration": 111,
    "start_time": "2023-11-18T17:05:22.110Z"
   },
   {
    "duration": 21,
    "start_time": "2023-11-18T17:05:22.223Z"
   },
   {
    "duration": 18,
    "start_time": "2023-11-18T17:05:22.246Z"
   },
   {
    "duration": 14,
    "start_time": "2023-11-18T17:05:22.267Z"
   },
   {
    "duration": 10,
    "start_time": "2023-11-18T17:05:22.283Z"
   },
   {
    "duration": 5,
    "start_time": "2023-11-18T17:05:22.294Z"
   },
   {
    "duration": 16,
    "start_time": "2023-11-18T17:05:22.301Z"
   },
   {
    "duration": 3,
    "start_time": "2023-11-18T17:05:22.318Z"
   },
   {
    "duration": 19,
    "start_time": "2023-11-18T17:05:22.323Z"
   },
   {
    "duration": 4,
    "start_time": "2023-11-18T17:05:22.343Z"
   },
   {
    "duration": 7,
    "start_time": "2023-11-18T17:05:22.371Z"
   },
   {
    "duration": 11,
    "start_time": "2023-11-18T17:05:22.379Z"
   },
   {
    "duration": 5,
    "start_time": "2023-11-18T17:05:22.392Z"
   },
   {
    "duration": 309,
    "start_time": "2023-11-18T17:05:22.399Z"
   },
   {
    "duration": 96,
    "start_time": "2023-11-18T17:05:22.709Z"
   },
   {
    "duration": 172,
    "start_time": "2023-11-18T17:05:22.806Z"
   },
   {
    "duration": 7,
    "start_time": "2023-11-18T17:05:22.980Z"
   },
   {
    "duration": 210,
    "start_time": "2023-11-18T17:05:22.989Z"
   },
   {
    "duration": 151,
    "start_time": "2023-11-18T17:05:23.201Z"
   },
   {
    "duration": 8,
    "start_time": "2023-11-18T17:05:23.353Z"
   },
   {
    "duration": 14,
    "start_time": "2023-11-18T17:05:23.372Z"
   },
   {
    "duration": 168,
    "start_time": "2023-11-18T17:05:23.388Z"
   },
   {
    "duration": 54,
    "start_time": "2023-11-18T17:05:23.558Z"
   },
   {
    "duration": 9,
    "start_time": "2023-11-18T17:05:23.613Z"
   },
   {
    "duration": 323,
    "start_time": "2023-11-18T17:05:23.624Z"
   },
   {
    "duration": 223,
    "start_time": "2023-11-18T17:05:23.949Z"
   },
   {
    "duration": 21,
    "start_time": "2023-11-18T17:05:24.173Z"
   },
   {
    "duration": 15209,
    "start_time": "2023-11-18T17:05:24.195Z"
   },
   {
    "duration": 214,
    "start_time": "2023-11-18T17:05:39.406Z"
   },
   {
    "duration": 9,
    "start_time": "2023-11-18T17:05:39.623Z"
   },
   {
    "duration": 7,
    "start_time": "2023-11-18T17:05:39.634Z"
   },
   {
    "duration": 6,
    "start_time": "2023-11-18T17:05:39.642Z"
   },
   {
    "duration": 70,
    "start_time": "2023-11-18T17:05:39.649Z"
   },
   {
    "duration": 5,
    "start_time": "2023-11-18T17:05:39.721Z"
   },
   {
    "duration": 1184,
    "start_time": "2023-11-18T17:07:00.060Z"
   },
   {
    "duration": 160,
    "start_time": "2023-11-18T17:07:01.246Z"
   },
   {
    "duration": 24,
    "start_time": "2023-11-18T17:07:01.407Z"
   },
   {
    "duration": 44,
    "start_time": "2023-11-18T17:07:01.433Z"
   },
   {
    "duration": 88,
    "start_time": "2023-11-18T17:07:01.480Z"
   },
   {
    "duration": 39,
    "start_time": "2023-11-18T17:07:01.570Z"
   },
   {
    "duration": 35,
    "start_time": "2023-11-18T17:07:01.611Z"
   },
   {
    "duration": 71,
    "start_time": "2023-11-18T17:07:01.648Z"
   },
   {
    "duration": 53,
    "start_time": "2023-11-18T17:07:01.721Z"
   },
   {
    "duration": 53,
    "start_time": "2023-11-18T17:07:01.775Z"
   },
   {
    "duration": 22,
    "start_time": "2023-11-18T17:07:01.830Z"
   },
   {
    "duration": 31,
    "start_time": "2023-11-18T17:07:01.854Z"
   },
   {
    "duration": 38,
    "start_time": "2023-11-18T17:07:01.887Z"
   },
   {
    "duration": 25,
    "start_time": "2023-11-18T17:07:01.930Z"
   },
   {
    "duration": 326,
    "start_time": "2023-11-18T17:07:01.957Z"
   },
   {
    "duration": 94,
    "start_time": "2023-11-18T17:07:02.285Z"
   },
   {
    "duration": 166,
    "start_time": "2023-11-18T17:07:02.381Z"
   },
   {
    "duration": 8,
    "start_time": "2023-11-18T17:07:02.548Z"
   },
   {
    "duration": 218,
    "start_time": "2023-11-18T17:07:02.557Z"
   },
   {
    "duration": 165,
    "start_time": "2023-11-18T17:07:02.776Z"
   },
   {
    "duration": 7,
    "start_time": "2023-11-18T17:07:02.943Z"
   },
   {
    "duration": 41,
    "start_time": "2023-11-18T17:07:02.951Z"
   },
   {
    "duration": 177,
    "start_time": "2023-11-18T17:07:02.993Z"
   },
   {
    "duration": 42,
    "start_time": "2023-11-18T17:07:03.172Z"
   },
   {
    "duration": 9,
    "start_time": "2023-11-18T17:07:03.215Z"
   },
   {
    "duration": 331,
    "start_time": "2023-11-18T17:07:03.226Z"
   },
   {
    "duration": 245,
    "start_time": "2023-11-18T17:07:03.559Z"
   },
   {
    "duration": 21,
    "start_time": "2023-11-18T17:07:03.805Z"
   },
   {
    "duration": 14971,
    "start_time": "2023-11-18T17:07:03.828Z"
   },
   {
    "duration": 195,
    "start_time": "2023-11-18T17:07:18.800Z"
   },
   {
    "duration": 7,
    "start_time": "2023-11-18T17:07:18.997Z"
   },
   {
    "duration": 8,
    "start_time": "2023-11-18T17:07:19.005Z"
   },
   {
    "duration": 6,
    "start_time": "2023-11-18T17:07:19.015Z"
   },
   {
    "duration": 70,
    "start_time": "2023-11-18T17:07:19.022Z"
   },
   {
    "duration": 4,
    "start_time": "2023-11-18T17:07:19.094Z"
   }
  ],
  "kernelspec": {
   "display_name": "Python 3 (ipykernel)",
   "language": "python",
   "name": "python3"
  },
  "language_info": {
   "codemirror_mode": {
    "name": "ipython",
    "version": 3
   },
   "file_extension": ".py",
   "mimetype": "text/x-python",
   "name": "python",
   "nbconvert_exporter": "python",
   "pygments_lexer": "ipython3",
   "version": "3.9.12"
  },
  "toc": {
   "base_numbering": 1,
   "nav_menu": {
    "height": "208px",
    "width": "309px"
   },
   "number_sections": true,
   "sideBar": true,
   "skip_h1_title": true,
   "title_cell": "Table of Contents",
   "title_sidebar": "Contents",
   "toc_cell": false,
   "toc_position": {
    "height": "calc(100% - 180px)",
    "left": "10px",
    "top": "150px",
    "width": "249px"
   },
   "toc_section_display": true,
   "toc_window_display": true
  }
 },
 "nbformat": 4,
 "nbformat_minor": 5
}
