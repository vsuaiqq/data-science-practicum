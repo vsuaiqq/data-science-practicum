{
 "cells": [
  {
   "cell_type": "markdown",
   "id": "a5227fdc",
   "metadata": {
    "deletable": false,
    "editable": false,
    "id": "c81daeeb"
   },
   "source": [
    "# Исследование надежности заемщиков\n"
   ]
  },
  {
   "cell_type": "markdown",
   "id": "40450e8b",
   "metadata": {
    "deletable": false,
    "editable": false,
    "id": "827c20bf"
   },
   "source": [
    "Во второй части проекта вы выполните шаги 3 и 4. Их вручную проверит ревьюер.\n",
    "Чтобы вам не пришлось писать код заново для шагов 1 и 2, мы добавили авторские решения в ячейки с кодом. \n",
    "\n"
   ]
  },
  {
   "cell_type": "markdown",
   "id": "cecce0cd",
   "metadata": {
    "deletable": false,
    "editable": false,
    "id": "744d7639"
   },
   "source": [
    "## Откройте таблицу и изучите общую информацию о данных"
   ]
  },
  {
   "cell_type": "markdown",
   "id": "bbbbc007",
   "metadata": {
    "deletable": false,
    "editable": false,
    "id": "e7a14c31"
   },
   "source": [
    "**Задание 1. Импортируйте библиотеку pandas. Считайте данные из csv-файла в датафрейм и сохраните в переменную `data`. Путь к файлу:**\n",
    "\n",
    "`/datasets/data.csv`"
   ]
  },
  {
   "cell_type": "code",
   "execution_count": 1,
   "id": "26bc1f20",
   "metadata": {
    "deletable": false,
    "id": "7bcf75c9"
   },
   "outputs": [],
   "source": [
    "import pandas as pd\n",
    "\n",
    "try:\n",
    "    data = pd.read_csv('data.csv')\n",
    "except:\n",
    "    data = pd.read_csv('/datasets/data.csv')"
   ]
  },
  {
   "cell_type": "markdown",
   "id": "f48f01a6",
   "metadata": {
    "deletable": false,
    "editable": false,
    "id": "b8038fe3"
   },
   "source": [
    "**Задание 2. Выведите первые 20 строчек датафрейма `data` на экран.**"
   ]
  },
  {
   "cell_type": "code",
   "execution_count": 2,
   "id": "f7facc1f",
   "metadata": {
    "deletable": false,
    "id": "2a7cab99",
    "outputId": "1a8f3ef2-d323-4ec2-ddf7-89670b5944c4"
   },
   "outputs": [
    {
     "data": {
      "text/html": [
       "<div>\n",
       "<style scoped>\n",
       "    .dataframe tbody tr th:only-of-type {\n",
       "        vertical-align: middle;\n",
       "    }\n",
       "\n",
       "    .dataframe tbody tr th {\n",
       "        vertical-align: top;\n",
       "    }\n",
       "\n",
       "    .dataframe thead th {\n",
       "        text-align: right;\n",
       "    }\n",
       "</style>\n",
       "<table border=\"1\" class=\"dataframe\">\n",
       "  <thead>\n",
       "    <tr style=\"text-align: right;\">\n",
       "      <th></th>\n",
       "      <th>children</th>\n",
       "      <th>days_employed</th>\n",
       "      <th>dob_years</th>\n",
       "      <th>education</th>\n",
       "      <th>education_id</th>\n",
       "      <th>family_status</th>\n",
       "      <th>family_status_id</th>\n",
       "      <th>gender</th>\n",
       "      <th>income_type</th>\n",
       "      <th>debt</th>\n",
       "      <th>total_income</th>\n",
       "      <th>purpose</th>\n",
       "    </tr>\n",
       "  </thead>\n",
       "  <tbody>\n",
       "    <tr>\n",
       "      <th>0</th>\n",
       "      <td>1</td>\n",
       "      <td>-8437.673028</td>\n",
       "      <td>42</td>\n",
       "      <td>высшее</td>\n",
       "      <td>0</td>\n",
       "      <td>женат / замужем</td>\n",
       "      <td>0</td>\n",
       "      <td>F</td>\n",
       "      <td>сотрудник</td>\n",
       "      <td>0</td>\n",
       "      <td>253875.639453</td>\n",
       "      <td>покупка жилья</td>\n",
       "    </tr>\n",
       "    <tr>\n",
       "      <th>1</th>\n",
       "      <td>1</td>\n",
       "      <td>-4024.803754</td>\n",
       "      <td>36</td>\n",
       "      <td>среднее</td>\n",
       "      <td>1</td>\n",
       "      <td>женат / замужем</td>\n",
       "      <td>0</td>\n",
       "      <td>F</td>\n",
       "      <td>сотрудник</td>\n",
       "      <td>0</td>\n",
       "      <td>112080.014102</td>\n",
       "      <td>приобретение автомобиля</td>\n",
       "    </tr>\n",
       "    <tr>\n",
       "      <th>2</th>\n",
       "      <td>0</td>\n",
       "      <td>-5623.422610</td>\n",
       "      <td>33</td>\n",
       "      <td>Среднее</td>\n",
       "      <td>1</td>\n",
       "      <td>женат / замужем</td>\n",
       "      <td>0</td>\n",
       "      <td>M</td>\n",
       "      <td>сотрудник</td>\n",
       "      <td>0</td>\n",
       "      <td>145885.952297</td>\n",
       "      <td>покупка жилья</td>\n",
       "    </tr>\n",
       "    <tr>\n",
       "      <th>3</th>\n",
       "      <td>3</td>\n",
       "      <td>-4124.747207</td>\n",
       "      <td>32</td>\n",
       "      <td>среднее</td>\n",
       "      <td>1</td>\n",
       "      <td>женат / замужем</td>\n",
       "      <td>0</td>\n",
       "      <td>M</td>\n",
       "      <td>сотрудник</td>\n",
       "      <td>0</td>\n",
       "      <td>267628.550329</td>\n",
       "      <td>дополнительное образование</td>\n",
       "    </tr>\n",
       "    <tr>\n",
       "      <th>4</th>\n",
       "      <td>0</td>\n",
       "      <td>340266.072047</td>\n",
       "      <td>53</td>\n",
       "      <td>среднее</td>\n",
       "      <td>1</td>\n",
       "      <td>гражданский брак</td>\n",
       "      <td>1</td>\n",
       "      <td>F</td>\n",
       "      <td>пенсионер</td>\n",
       "      <td>0</td>\n",
       "      <td>158616.077870</td>\n",
       "      <td>сыграть свадьбу</td>\n",
       "    </tr>\n",
       "    <tr>\n",
       "      <th>5</th>\n",
       "      <td>0</td>\n",
       "      <td>-926.185831</td>\n",
       "      <td>27</td>\n",
       "      <td>высшее</td>\n",
       "      <td>0</td>\n",
       "      <td>гражданский брак</td>\n",
       "      <td>1</td>\n",
       "      <td>M</td>\n",
       "      <td>компаньон</td>\n",
       "      <td>0</td>\n",
       "      <td>255763.565419</td>\n",
       "      <td>покупка жилья</td>\n",
       "    </tr>\n",
       "    <tr>\n",
       "      <th>6</th>\n",
       "      <td>0</td>\n",
       "      <td>-2879.202052</td>\n",
       "      <td>43</td>\n",
       "      <td>высшее</td>\n",
       "      <td>0</td>\n",
       "      <td>женат / замужем</td>\n",
       "      <td>0</td>\n",
       "      <td>F</td>\n",
       "      <td>компаньон</td>\n",
       "      <td>0</td>\n",
       "      <td>240525.971920</td>\n",
       "      <td>операции с жильем</td>\n",
       "    </tr>\n",
       "    <tr>\n",
       "      <th>7</th>\n",
       "      <td>0</td>\n",
       "      <td>-152.779569</td>\n",
       "      <td>50</td>\n",
       "      <td>СРЕДНЕЕ</td>\n",
       "      <td>1</td>\n",
       "      <td>женат / замужем</td>\n",
       "      <td>0</td>\n",
       "      <td>M</td>\n",
       "      <td>сотрудник</td>\n",
       "      <td>0</td>\n",
       "      <td>135823.934197</td>\n",
       "      <td>образование</td>\n",
       "    </tr>\n",
       "    <tr>\n",
       "      <th>8</th>\n",
       "      <td>2</td>\n",
       "      <td>-6929.865299</td>\n",
       "      <td>35</td>\n",
       "      <td>ВЫСШЕЕ</td>\n",
       "      <td>0</td>\n",
       "      <td>гражданский брак</td>\n",
       "      <td>1</td>\n",
       "      <td>F</td>\n",
       "      <td>сотрудник</td>\n",
       "      <td>0</td>\n",
       "      <td>95856.832424</td>\n",
       "      <td>на проведение свадьбы</td>\n",
       "    </tr>\n",
       "    <tr>\n",
       "      <th>9</th>\n",
       "      <td>0</td>\n",
       "      <td>-2188.756445</td>\n",
       "      <td>41</td>\n",
       "      <td>среднее</td>\n",
       "      <td>1</td>\n",
       "      <td>женат / замужем</td>\n",
       "      <td>0</td>\n",
       "      <td>M</td>\n",
       "      <td>сотрудник</td>\n",
       "      <td>0</td>\n",
       "      <td>144425.938277</td>\n",
       "      <td>покупка жилья для семьи</td>\n",
       "    </tr>\n",
       "    <tr>\n",
       "      <th>10</th>\n",
       "      <td>2</td>\n",
       "      <td>-4171.483647</td>\n",
       "      <td>36</td>\n",
       "      <td>высшее</td>\n",
       "      <td>0</td>\n",
       "      <td>женат / замужем</td>\n",
       "      <td>0</td>\n",
       "      <td>M</td>\n",
       "      <td>компаньон</td>\n",
       "      <td>0</td>\n",
       "      <td>113943.491460</td>\n",
       "      <td>покупка недвижимости</td>\n",
       "    </tr>\n",
       "    <tr>\n",
       "      <th>11</th>\n",
       "      <td>0</td>\n",
       "      <td>-792.701887</td>\n",
       "      <td>40</td>\n",
       "      <td>среднее</td>\n",
       "      <td>1</td>\n",
       "      <td>женат / замужем</td>\n",
       "      <td>0</td>\n",
       "      <td>F</td>\n",
       "      <td>сотрудник</td>\n",
       "      <td>0</td>\n",
       "      <td>77069.234271</td>\n",
       "      <td>покупка коммерческой недвижимости</td>\n",
       "    </tr>\n",
       "    <tr>\n",
       "      <th>12</th>\n",
       "      <td>0</td>\n",
       "      <td>NaN</td>\n",
       "      <td>65</td>\n",
       "      <td>среднее</td>\n",
       "      <td>1</td>\n",
       "      <td>гражданский брак</td>\n",
       "      <td>1</td>\n",
       "      <td>M</td>\n",
       "      <td>пенсионер</td>\n",
       "      <td>0</td>\n",
       "      <td>NaN</td>\n",
       "      <td>сыграть свадьбу</td>\n",
       "    </tr>\n",
       "    <tr>\n",
       "      <th>13</th>\n",
       "      <td>0</td>\n",
       "      <td>-1846.641941</td>\n",
       "      <td>54</td>\n",
       "      <td>неоконченное высшее</td>\n",
       "      <td>2</td>\n",
       "      <td>женат / замужем</td>\n",
       "      <td>0</td>\n",
       "      <td>F</td>\n",
       "      <td>сотрудник</td>\n",
       "      <td>0</td>\n",
       "      <td>130458.228857</td>\n",
       "      <td>приобретение автомобиля</td>\n",
       "    </tr>\n",
       "    <tr>\n",
       "      <th>14</th>\n",
       "      <td>0</td>\n",
       "      <td>-1844.956182</td>\n",
       "      <td>56</td>\n",
       "      <td>высшее</td>\n",
       "      <td>0</td>\n",
       "      <td>гражданский брак</td>\n",
       "      <td>1</td>\n",
       "      <td>F</td>\n",
       "      <td>компаньон</td>\n",
       "      <td>1</td>\n",
       "      <td>165127.911772</td>\n",
       "      <td>покупка жилой недвижимости</td>\n",
       "    </tr>\n",
       "    <tr>\n",
       "      <th>15</th>\n",
       "      <td>1</td>\n",
       "      <td>-972.364419</td>\n",
       "      <td>26</td>\n",
       "      <td>среднее</td>\n",
       "      <td>1</td>\n",
       "      <td>женат / замужем</td>\n",
       "      <td>0</td>\n",
       "      <td>F</td>\n",
       "      <td>сотрудник</td>\n",
       "      <td>0</td>\n",
       "      <td>116820.904450</td>\n",
       "      <td>строительство собственной недвижимости</td>\n",
       "    </tr>\n",
       "    <tr>\n",
       "      <th>16</th>\n",
       "      <td>0</td>\n",
       "      <td>-1719.934226</td>\n",
       "      <td>35</td>\n",
       "      <td>среднее</td>\n",
       "      <td>1</td>\n",
       "      <td>женат / замужем</td>\n",
       "      <td>0</td>\n",
       "      <td>F</td>\n",
       "      <td>сотрудник</td>\n",
       "      <td>0</td>\n",
       "      <td>289202.704229</td>\n",
       "      <td>недвижимость</td>\n",
       "    </tr>\n",
       "    <tr>\n",
       "      <th>17</th>\n",
       "      <td>0</td>\n",
       "      <td>-2369.999720</td>\n",
       "      <td>33</td>\n",
       "      <td>высшее</td>\n",
       "      <td>0</td>\n",
       "      <td>гражданский брак</td>\n",
       "      <td>1</td>\n",
       "      <td>M</td>\n",
       "      <td>сотрудник</td>\n",
       "      <td>0</td>\n",
       "      <td>90410.586745</td>\n",
       "      <td>строительство недвижимости</td>\n",
       "    </tr>\n",
       "    <tr>\n",
       "      <th>18</th>\n",
       "      <td>0</td>\n",
       "      <td>400281.136913</td>\n",
       "      <td>53</td>\n",
       "      <td>среднее</td>\n",
       "      <td>1</td>\n",
       "      <td>вдовец / вдова</td>\n",
       "      <td>2</td>\n",
       "      <td>F</td>\n",
       "      <td>пенсионер</td>\n",
       "      <td>0</td>\n",
       "      <td>56823.777243</td>\n",
       "      <td>на покупку подержанного автомобиля</td>\n",
       "    </tr>\n",
       "    <tr>\n",
       "      <th>19</th>\n",
       "      <td>0</td>\n",
       "      <td>-10038.818549</td>\n",
       "      <td>48</td>\n",
       "      <td>СРЕДНЕЕ</td>\n",
       "      <td>1</td>\n",
       "      <td>в разводе</td>\n",
       "      <td>3</td>\n",
       "      <td>F</td>\n",
       "      <td>сотрудник</td>\n",
       "      <td>0</td>\n",
       "      <td>242831.107982</td>\n",
       "      <td>на покупку своего автомобиля</td>\n",
       "    </tr>\n",
       "  </tbody>\n",
       "</table>\n",
       "</div>"
      ],
      "text/plain": [
       "    children  days_employed  dob_years            education  education_id  \\\n",
       "0          1   -8437.673028         42               высшее             0   \n",
       "1          1   -4024.803754         36              среднее             1   \n",
       "2          0   -5623.422610         33              Среднее             1   \n",
       "3          3   -4124.747207         32              среднее             1   \n",
       "4          0  340266.072047         53              среднее             1   \n",
       "5          0    -926.185831         27               высшее             0   \n",
       "6          0   -2879.202052         43               высшее             0   \n",
       "7          0    -152.779569         50              СРЕДНЕЕ             1   \n",
       "8          2   -6929.865299         35               ВЫСШЕЕ             0   \n",
       "9          0   -2188.756445         41              среднее             1   \n",
       "10         2   -4171.483647         36               высшее             0   \n",
       "11         0    -792.701887         40              среднее             1   \n",
       "12         0            NaN         65              среднее             1   \n",
       "13         0   -1846.641941         54  неоконченное высшее             2   \n",
       "14         0   -1844.956182         56               высшее             0   \n",
       "15         1    -972.364419         26              среднее             1   \n",
       "16         0   -1719.934226         35              среднее             1   \n",
       "17         0   -2369.999720         33               высшее             0   \n",
       "18         0  400281.136913         53              среднее             1   \n",
       "19         0  -10038.818549         48              СРЕДНЕЕ             1   \n",
       "\n",
       "       family_status  family_status_id gender income_type  debt  \\\n",
       "0    женат / замужем                 0      F   сотрудник     0   \n",
       "1    женат / замужем                 0      F   сотрудник     0   \n",
       "2    женат / замужем                 0      M   сотрудник     0   \n",
       "3    женат / замужем                 0      M   сотрудник     0   \n",
       "4   гражданский брак                 1      F   пенсионер     0   \n",
       "5   гражданский брак                 1      M   компаньон     0   \n",
       "6    женат / замужем                 0      F   компаньон     0   \n",
       "7    женат / замужем                 0      M   сотрудник     0   \n",
       "8   гражданский брак                 1      F   сотрудник     0   \n",
       "9    женат / замужем                 0      M   сотрудник     0   \n",
       "10   женат / замужем                 0      M   компаньон     0   \n",
       "11   женат / замужем                 0      F   сотрудник     0   \n",
       "12  гражданский брак                 1      M   пенсионер     0   \n",
       "13   женат / замужем                 0      F   сотрудник     0   \n",
       "14  гражданский брак                 1      F   компаньон     1   \n",
       "15   женат / замужем                 0      F   сотрудник     0   \n",
       "16   женат / замужем                 0      F   сотрудник     0   \n",
       "17  гражданский брак                 1      M   сотрудник     0   \n",
       "18    вдовец / вдова                 2      F   пенсионер     0   \n",
       "19         в разводе                 3      F   сотрудник     0   \n",
       "\n",
       "     total_income                                 purpose  \n",
       "0   253875.639453                           покупка жилья  \n",
       "1   112080.014102                 приобретение автомобиля  \n",
       "2   145885.952297                           покупка жилья  \n",
       "3   267628.550329              дополнительное образование  \n",
       "4   158616.077870                         сыграть свадьбу  \n",
       "5   255763.565419                           покупка жилья  \n",
       "6   240525.971920                       операции с жильем  \n",
       "7   135823.934197                             образование  \n",
       "8    95856.832424                   на проведение свадьбы  \n",
       "9   144425.938277                 покупка жилья для семьи  \n",
       "10  113943.491460                    покупка недвижимости  \n",
       "11   77069.234271       покупка коммерческой недвижимости  \n",
       "12            NaN                         сыграть свадьбу  \n",
       "13  130458.228857                 приобретение автомобиля  \n",
       "14  165127.911772              покупка жилой недвижимости  \n",
       "15  116820.904450  строительство собственной недвижимости  \n",
       "16  289202.704229                            недвижимость  \n",
       "17   90410.586745              строительство недвижимости  \n",
       "18   56823.777243      на покупку подержанного автомобиля  \n",
       "19  242831.107982            на покупку своего автомобиля  "
      ]
     },
     "execution_count": 2,
     "metadata": {},
     "output_type": "execute_result"
    }
   ],
   "source": [
    "data.head(20)"
   ]
  },
  {
   "cell_type": "markdown",
   "id": "a0106f1d",
   "metadata": {
    "deletable": false,
    "editable": false,
    "id": "1c12e233"
   },
   "source": [
    "**Задание 3. Выведите основную информацию о датафрейме с помощью метода `info()`.**"
   ]
  },
  {
   "cell_type": "code",
   "execution_count": 3,
   "id": "989d4717",
   "metadata": {
    "deletable": false,
    "id": "2b757bca",
    "outputId": "15376089-8dad-46c9-b520-c05248d43158"
   },
   "outputs": [
    {
     "name": "stdout",
     "output_type": "stream",
     "text": [
      "<class 'pandas.core.frame.DataFrame'>\n",
      "RangeIndex: 21525 entries, 0 to 21524\n",
      "Data columns (total 12 columns):\n",
      " #   Column            Non-Null Count  Dtype  \n",
      "---  ------            --------------  -----  \n",
      " 0   children          21525 non-null  int64  \n",
      " 1   days_employed     19351 non-null  float64\n",
      " 2   dob_years         21525 non-null  int64  \n",
      " 3   education         21525 non-null  object \n",
      " 4   education_id      21525 non-null  int64  \n",
      " 5   family_status     21525 non-null  object \n",
      " 6   family_status_id  21525 non-null  int64  \n",
      " 7   gender            21525 non-null  object \n",
      " 8   income_type       21525 non-null  object \n",
      " 9   debt              21525 non-null  int64  \n",
      " 10  total_income      19351 non-null  float64\n",
      " 11  purpose           21525 non-null  object \n",
      "dtypes: float64(2), int64(5), object(5)\n",
      "memory usage: 2.0+ MB\n"
     ]
    }
   ],
   "source": [
    "data.info()"
   ]
  },
  {
   "cell_type": "markdown",
   "id": "9be09712",
   "metadata": {
    "deletable": false,
    "editable": false,
    "id": "333ec665"
   },
   "source": [
    "## Предобработка данных"
   ]
  },
  {
   "cell_type": "markdown",
   "id": "4826eafd",
   "metadata": {
    "deletable": false,
    "editable": false,
    "id": "02d92d53"
   },
   "source": [
    "### Удаление пропусков"
   ]
  },
  {
   "cell_type": "markdown",
   "id": "70a14ab5",
   "metadata": {
    "deletable": false,
    "editable": false,
    "id": "cd84967c"
   },
   "source": [
    "**Задание 4. Выведите количество пропущенных значений для каждого столбца. Используйте комбинацию двух методов.**"
   ]
  },
  {
   "cell_type": "code",
   "execution_count": 4,
   "id": "7182d1e9",
   "metadata": {
    "deletable": false,
    "id": "7f9b2309",
    "outputId": "81f4d817-781c-465c-ed15-91ce4446810d"
   },
   "outputs": [
    {
     "data": {
      "text/plain": [
       "children               0\n",
       "days_employed       2174\n",
       "dob_years              0\n",
       "education              0\n",
       "education_id           0\n",
       "family_status          0\n",
       "family_status_id       0\n",
       "gender                 0\n",
       "income_type            0\n",
       "debt                   0\n",
       "total_income        2174\n",
       "purpose                0\n",
       "dtype: int64"
      ]
     },
     "execution_count": 4,
     "metadata": {},
     "output_type": "execute_result"
    }
   ],
   "source": [
    "data.isna().sum()"
   ]
  },
  {
   "cell_type": "markdown",
   "id": "f3f61c22",
   "metadata": {
    "deletable": false,
    "editable": false,
    "id": "db86e27b"
   },
   "source": [
    "**Задание 5. В двух столбцах есть пропущенные значения. Один из них — `days_employed`. Пропуски в этом столбце вы обработаете на следующем этапе. Другой столбец с пропущенными значениями — `total_income` — хранит данные о доходах. На сумму дохода сильнее всего влияет тип занятости, поэтому заполнить пропуски в этом столбце нужно медианным значением по каждому типу из столбца `income_type`. Например, у человека с типом занятости `сотрудник` пропуск в столбце `total_income` должен быть заполнен медианным доходом среди всех записей с тем же типом.**"
   ]
  },
  {
   "cell_type": "code",
   "execution_count": 5,
   "id": "ce63a164",
   "metadata": {
    "deletable": false,
    "id": "42006a93"
   },
   "outputs": [],
   "source": [
    "for t in data['income_type'].unique():\n",
    "    data.loc[(data['income_type'] == t) & (data['total_income'].isna()), 'total_income'] = \\\n",
    "    data.loc[(data['income_type'] == t), 'total_income'].median()"
   ]
  },
  {
   "cell_type": "markdown",
   "id": "8c323b9e",
   "metadata": {
    "deletable": false,
    "editable": false,
    "id": "89da5ece"
   },
   "source": [
    "### Обработка аномальных значений"
   ]
  },
  {
   "cell_type": "markdown",
   "id": "71b8e091",
   "metadata": {
    "deletable": false,
    "editable": false,
    "id": "57964554"
   },
   "source": [
    "**Задание 6. В данных могут встречаться артефакты (аномалии) — значения, которые не отражают действительность и появились по какой-то ошибке. таким артефактом будет отрицательное количество дней трудового стажа в столбце `days_employed`. Для реальных данных это нормально. Обработайте значения в этом столбце: замените все отрицательные значения положительными с помощью метода `abs()`.**"
   ]
  },
  {
   "cell_type": "code",
   "execution_count": 6,
   "id": "dc000c90",
   "metadata": {
    "deletable": false,
    "id": "f6f055bf"
   },
   "outputs": [],
   "source": [
    "data['days_employed'] = data['days_employed'].abs()"
   ]
  },
  {
   "cell_type": "markdown",
   "id": "05332e43",
   "metadata": {
    "deletable": false,
    "editable": false,
    "id": "6107dd2f"
   },
   "source": [
    "**Задание 7. Для каждого типа занятости выведите медианное значение трудового стажа `days_employed` в днях.**"
   ]
  },
  {
   "cell_type": "code",
   "execution_count": 7,
   "id": "c9d5421f",
   "metadata": {
    "deletable": false,
    "id": "85a5faf6",
    "outputId": "801ef80e-522b-4668-f34e-565af7432bcf"
   },
   "outputs": [
    {
     "data": {
      "text/plain": [
       "income_type\n",
       "безработный        366413.652744\n",
       "в декрете            3296.759962\n",
       "госслужащий          2689.368353\n",
       "компаньон            1547.382223\n",
       "пенсионер          365213.306266\n",
       "предприниматель       520.848083\n",
       "сотрудник            1574.202821\n",
       "студент               578.751554\n",
       "Name: days_employed, dtype: float64"
      ]
     },
     "execution_count": 7,
     "metadata": {},
     "output_type": "execute_result"
    }
   ],
   "source": [
    "data.groupby('income_type')['days_employed'].agg('median')"
   ]
  },
  {
   "cell_type": "markdown",
   "id": "3a94cd18",
   "metadata": {
    "deletable": false,
    "editable": false,
    "id": "38d1a030"
   },
   "source": [
    "У двух типов (безработные и пенсионеры) получатся аномально большие значения. Исправить такие значения сложно, поэтому оставьте их как есть. Тем более этот столбец не понадобится вам для исследования."
   ]
  },
  {
   "cell_type": "markdown",
   "id": "af58c15f",
   "metadata": {
    "deletable": false,
    "editable": false,
    "id": "d8a9f147"
   },
   "source": [
    "**Задание 8. Выведите перечень уникальных значений столбца `children`.**"
   ]
  },
  {
   "cell_type": "code",
   "execution_count": 8,
   "id": "7410faa2",
   "metadata": {
    "deletable": false,
    "id": "ef5056eb",
    "outputId": "6975b15c-7f95-4697-d16d-a0c79b657b03"
   },
   "outputs": [
    {
     "data": {
      "text/plain": [
       "array([ 1,  0,  3,  2, -1,  4, 20,  5])"
      ]
     },
     "execution_count": 8,
     "metadata": {},
     "output_type": "execute_result"
    }
   ],
   "source": [
    "data['children'].unique()"
   ]
  },
  {
   "cell_type": "markdown",
   "id": "4b7bcfd8",
   "metadata": {
    "deletable": false,
    "editable": false,
    "id": "40b9ebf2"
   },
   "source": [
    "**Задание 9. В столбце `children` есть два аномальных значения. Удалите строки, в которых встречаются такие аномальные значения из датафрейма `data`.**"
   ]
  },
  {
   "cell_type": "code",
   "execution_count": 9,
   "id": "7e9dd8b8",
   "metadata": {
    "deletable": false,
    "id": "3ff9801d"
   },
   "outputs": [],
   "source": [
    "data = data[(data['children'] != -1) & (data['children'] != 20)]"
   ]
  },
  {
   "cell_type": "markdown",
   "id": "8273aad7",
   "metadata": {
    "deletable": false,
    "editable": false,
    "id": "bbc4d0ce"
   },
   "source": [
    "**Задание 10. Ещё раз выведите перечень уникальных значений столбца `children`, чтобы убедиться, что артефакты удалены.**"
   ]
  },
  {
   "cell_type": "code",
   "execution_count": 10,
   "id": "d3b67bab",
   "metadata": {
    "deletable": false,
    "id": "ad4fa8b7",
    "outputId": "b2097101-d49d-44d9-901b-32a65c9463d1"
   },
   "outputs": [
    {
     "data": {
      "text/plain": [
       "array([1, 0, 3, 2, 4, 5])"
      ]
     },
     "execution_count": 10,
     "metadata": {},
     "output_type": "execute_result"
    }
   ],
   "source": [
    "data['children'].unique()"
   ]
  },
  {
   "cell_type": "markdown",
   "id": "3d1578e7",
   "metadata": {
    "deletable": false,
    "editable": false,
    "id": "75440b63"
   },
   "source": [
    "### Удаление пропусков (продолжение)"
   ]
  },
  {
   "cell_type": "markdown",
   "id": "0d059fac",
   "metadata": {
    "deletable": false,
    "editable": false,
    "id": "f4ea573f"
   },
   "source": [
    "**Задание 11. Заполните пропуски в столбце `days_employed` медианными значениями по каждого типа занятости `income_type`.**"
   ]
  },
  {
   "cell_type": "code",
   "execution_count": 11,
   "id": "9001dd17",
   "metadata": {
    "deletable": false,
    "id": "af6b1a7e"
   },
   "outputs": [],
   "source": [
    "for t in data['income_type'].unique():\n",
    "    data.loc[(data['income_type'] == t) & (data['days_employed'].isna()), 'days_employed'] = \\\n",
    "    data.loc[(data['income_type'] == t), 'days_employed'].median()"
   ]
  },
  {
   "cell_type": "markdown",
   "id": "cecf1327",
   "metadata": {
    "deletable": false,
    "editable": false,
    "id": "2753f40d"
   },
   "source": [
    "**Задание 12. Убедитесь, что все пропуски заполнены. Проверьте себя и ещё раз выведите количество пропущенных значений для каждого столбца с помощью двух методов.**"
   ]
  },
  {
   "cell_type": "code",
   "execution_count": 12,
   "id": "20898792",
   "metadata": {
    "deletable": false,
    "id": "55f78bc2",
    "outputId": "8da1e4e1-358e-4e87-98c9-f261bce0a7b2"
   },
   "outputs": [
    {
     "data": {
      "text/plain": [
       "children            0\n",
       "days_employed       0\n",
       "dob_years           0\n",
       "education           0\n",
       "education_id        0\n",
       "family_status       0\n",
       "family_status_id    0\n",
       "gender              0\n",
       "income_type         0\n",
       "debt                0\n",
       "total_income        0\n",
       "purpose             0\n",
       "dtype: int64"
      ]
     },
     "execution_count": 12,
     "metadata": {},
     "output_type": "execute_result"
    }
   ],
   "source": [
    "data.isna().sum()"
   ]
  },
  {
   "cell_type": "markdown",
   "id": "8f0dd909",
   "metadata": {
    "deletable": false,
    "editable": false,
    "id": "ddc81e43"
   },
   "source": [
    "### Изменение типов данных"
   ]
  },
  {
   "cell_type": "markdown",
   "id": "43a2ecde",
   "metadata": {
    "deletable": false,
    "editable": false,
    "id": "42d19d24"
   },
   "source": [
    "**Задание 13. Замените вещественный тип данных в столбце `total_income` на целочисленный с помощью метода `astype()`.**"
   ]
  },
  {
   "cell_type": "code",
   "execution_count": 13,
   "id": "5aacf6ea",
   "metadata": {
    "deletable": false,
    "id": "920b65ad"
   },
   "outputs": [],
   "source": [
    "data['total_income'] = data['total_income'].astype(int)"
   ]
  },
  {
   "cell_type": "markdown",
   "id": "1b194a82",
   "metadata": {
    "deletable": false,
    "editable": false,
    "id": "80c420ba"
   },
   "source": [
    "### Обработка дубликатов"
   ]
  },
  {
   "cell_type": "markdown",
   "id": "6e4d117b",
   "metadata": {
    "deletable": false,
    "editable": false
   },
   "source": [
    "**Задание 14. Обработайте неявные дубликаты в столбце `education`. В этом столбце есть одни и те же значения, но записанные по-разному: с использованием заглавных и строчных букв. Приведите их к нижнему регистру. Проверьте остальные столбцы.**"
   ]
  },
  {
   "cell_type": "code",
   "execution_count": 14,
   "id": "875c22c1",
   "metadata": {
    "deletable": false
   },
   "outputs": [],
   "source": [
    "data['education'] = data['education'].str.lower()"
   ]
  },
  {
   "cell_type": "markdown",
   "id": "7208ad15",
   "metadata": {
    "deletable": false,
    "editable": false,
    "id": "dc587695"
   },
   "source": [
    "**Задание 15. Выведите на экран количество строк-дубликатов в данных. Если такие строки присутствуют, удалите их.**"
   ]
  },
  {
   "cell_type": "code",
   "execution_count": 15,
   "id": "a6613bda",
   "metadata": {
    "deletable": false,
    "id": "3ee445e4",
    "outputId": "9684deba-1934-42d1-99e1-cda61740f822"
   },
   "outputs": [
    {
     "data": {
      "text/plain": [
       "71"
      ]
     },
     "execution_count": 15,
     "metadata": {},
     "output_type": "execute_result"
    }
   ],
   "source": [
    "data.duplicated().sum()"
   ]
  },
  {
   "cell_type": "code",
   "execution_count": 16,
   "id": "a7585953",
   "metadata": {
    "deletable": false,
    "id": "8575fe05"
   },
   "outputs": [],
   "source": [
    "data = data.drop_duplicates()"
   ]
  },
  {
   "cell_type": "markdown",
   "id": "b8dccd68",
   "metadata": {
    "deletable": false,
    "editable": false,
    "id": "9904cf55"
   },
   "source": [
    "### Категоризация данных"
   ]
  },
  {
   "cell_type": "markdown",
   "id": "847013eb",
   "metadata": {
    "deletable": false,
    "editable": false,
    "id": "72fcc8a2"
   },
   "source": [
    "**Задание 16. На основании диапазонов, указанных ниже, создайте в датафрейме `data` столбец `total_income_category` с категориями:**\n",
    "\n",
    "- 0–30000 — `'E'`;\n",
    "- 30001–50000 — `'D'`;\n",
    "- 50001–200000 — `'C'`;\n",
    "- 200001–1000000 — `'B'`;\n",
    "- 1000001 и выше — `'A'`.\n",
    "\n",
    "\n",
    "**Например, кредитополучателю с доходом 25000 нужно назначить категорию `'E'`, а клиенту, получающему 235000, — `'B'`. Используйте собственную функцию с именем `categorize_income()` и метод `apply()`.**"
   ]
  },
  {
   "cell_type": "code",
   "execution_count": 17,
   "id": "679611ea",
   "metadata": {
    "deletable": false,
    "id": "e1771346"
   },
   "outputs": [],
   "source": [
    "def categorize_income(income):\n",
    "    try:\n",
    "        if 0 <= income <= 30000:\n",
    "            return 'E'\n",
    "        elif 30001 <= income <= 50000:\n",
    "            return 'D'\n",
    "        elif 50001 <= income <= 200000:\n",
    "            return 'C'\n",
    "        elif 200001 <= income <= 1000000:\n",
    "            return 'B'\n",
    "        elif income >= 1000001:\n",
    "            return 'A'\n",
    "    except:\n",
    "        pass"
   ]
  },
  {
   "cell_type": "code",
   "execution_count": 18,
   "id": "40503cee",
   "metadata": {
    "deletable": false,
    "id": "d5f3586d"
   },
   "outputs": [],
   "source": [
    "data['total_income_category'] = data['total_income'].apply(categorize_income)"
   ]
  },
  {
   "cell_type": "markdown",
   "id": "ea469f2f",
   "metadata": {
    "deletable": false,
    "editable": false,
    "id": "dde49b5c"
   },
   "source": [
    "**Задание 17. Выведите на экран перечень уникальных целей взятия кредита из столбца `purpose`.**"
   ]
  },
  {
   "cell_type": "code",
   "execution_count": 19,
   "id": "1a60f83c",
   "metadata": {
    "deletable": false,
    "id": "f67ce9b3",
    "outputId": "673c12d9-7d7e-4ae0-9812-c622c89dd244"
   },
   "outputs": [
    {
     "data": {
      "text/plain": [
       "array(['покупка жилья', 'приобретение автомобиля',\n",
       "       'дополнительное образование', 'сыграть свадьбу',\n",
       "       'операции с жильем', 'образование', 'на проведение свадьбы',\n",
       "       'покупка жилья для семьи', 'покупка недвижимости',\n",
       "       'покупка коммерческой недвижимости', 'покупка жилой недвижимости',\n",
       "       'строительство собственной недвижимости', 'недвижимость',\n",
       "       'строительство недвижимости', 'на покупку подержанного автомобиля',\n",
       "       'на покупку своего автомобиля',\n",
       "       'операции с коммерческой недвижимостью',\n",
       "       'строительство жилой недвижимости', 'жилье',\n",
       "       'операции со своей недвижимостью', 'автомобили',\n",
       "       'заняться образованием', 'сделка с подержанным автомобилем',\n",
       "       'получение образования', 'автомобиль', 'свадьба',\n",
       "       'получение дополнительного образования', 'покупка своего жилья',\n",
       "       'операции с недвижимостью', 'получение высшего образования',\n",
       "       'свой автомобиль', 'сделка с автомобилем',\n",
       "       'профильное образование', 'высшее образование',\n",
       "       'покупка жилья для сдачи', 'на покупку автомобиля', 'ремонт жилью',\n",
       "       'заняться высшим образованием'], dtype=object)"
      ]
     },
     "execution_count": 19,
     "metadata": {},
     "output_type": "execute_result"
    }
   ],
   "source": [
    "data['purpose'].unique()"
   ]
  },
  {
   "cell_type": "markdown",
   "id": "3ac8a215",
   "metadata": {
    "deletable": false,
    "editable": false,
    "id": "85d0aef0"
   },
   "source": [
    "**Задание 18. Создайте функцию, которая на основании данных из столбца `purpose` сформирует новый столбец `purpose_category`, в который войдут следующие категории:**\n",
    "\n",
    "- `'операции с автомобилем'`,\n",
    "- `'операции с недвижимостью'`,\n",
    "- `'проведение свадьбы'`,\n",
    "- `'получение образования'`.\n",
    "\n",
    "**Например, если в столбце `purpose` находится подстрока `'на покупку автомобиля'`, то в столбце `purpose_category` должна появиться строка `'операции с автомобилем'`.**\n",
    "\n",
    "**Используйте собственную функцию с именем `categorize_purpose()` и метод `apply()`. Изучите данные в столбце `purpose` и определите, какие подстроки помогут вам правильно определить категорию.**"
   ]
  },
  {
   "cell_type": "code",
   "execution_count": 20,
   "id": "7f21c804",
   "metadata": {
    "deletable": false,
    "id": "e149fab4"
   },
   "outputs": [],
   "source": [
    "def categorize_purpose(row):\n",
    "    try:\n",
    "        if 'автом' in row:\n",
    "            return 'операции с автомобилем'\n",
    "        elif 'жил' in row or 'недвиж' in row:\n",
    "            return 'операции с недвижимостью'\n",
    "        elif 'свад' in row:\n",
    "            return 'проведение свадьбы'\n",
    "        elif 'образов' in row:\n",
    "            return 'получение образования'\n",
    "    except:\n",
    "        return 'нет категории'"
   ]
  },
  {
   "cell_type": "code",
   "execution_count": 21,
   "id": "8a95d16c",
   "metadata": {
    "deletable": false,
    "id": "bf36e69b"
   },
   "outputs": [],
   "source": [
    "data['purpose_category'] = data['purpose'].apply(categorize_purpose)"
   ]
  },
  {
   "cell_type": "markdown",
   "id": "5eb7909c",
   "metadata": {
    "deletable": false,
    "editable": false,
    "id": "09b242bf"
   },
   "source": [
    "### Шаг 3. Исследуйте данные и ответьте на вопросы"
   ]
  },
  {
   "cell_type": "markdown",
   "id": "27f0809e",
   "metadata": {
    "deletable": false,
    "editable": false,
    "id": "c5d66278"
   },
   "source": [
    "#### 3.1 Есть ли зависимость между количеством детей и возвратом кредита в срок?"
   ]
  },
  {
   "cell_type": "code",
   "execution_count": 22,
   "id": "28342a75",
   "metadata": {},
   "outputs": [],
   "source": [
    "# функция перевода вероятности в проценты с округлением до сотых\n",
    "def probability_to_percentage(probability):\n",
    "    return f'{probability:.2%}'"
   ]
  },
  {
   "cell_type": "code",
   "execution_count": 23,
   "id": "508d22b9",
   "metadata": {
    "deletable": false,
    "id": "2cacfc4a"
   },
   "outputs": [
    {
     "data": {
      "text/html": [
       "<div>\n",
       "<style scoped>\n",
       "    .dataframe tbody tr th:only-of-type {\n",
       "        vertical-align: middle;\n",
       "    }\n",
       "\n",
       "    .dataframe tbody tr th {\n",
       "        vertical-align: top;\n",
       "    }\n",
       "\n",
       "    .dataframe thead th {\n",
       "        text-align: right;\n",
       "    }\n",
       "</style>\n",
       "<table border=\"1\" class=\"dataframe\">\n",
       "  <thead>\n",
       "    <tr style=\"text-align: right;\">\n",
       "      <th></th>\n",
       "      <th>num_of_objects</th>\n",
       "      <th>debt_percentage</th>\n",
       "    </tr>\n",
       "    <tr>\n",
       "      <th>children</th>\n",
       "      <th></th>\n",
       "      <th></th>\n",
       "    </tr>\n",
       "  </thead>\n",
       "  <tbody>\n",
       "    <tr>\n",
       "      <th>4</th>\n",
       "      <td>41</td>\n",
       "      <td>9.76%</td>\n",
       "    </tr>\n",
       "    <tr>\n",
       "      <th>2</th>\n",
       "      <td>2052</td>\n",
       "      <td>9.45%</td>\n",
       "    </tr>\n",
       "    <tr>\n",
       "      <th>1</th>\n",
       "      <td>4808</td>\n",
       "      <td>9.23%</td>\n",
       "    </tr>\n",
       "    <tr>\n",
       "      <th>3</th>\n",
       "      <td>330</td>\n",
       "      <td>8.18%</td>\n",
       "    </tr>\n",
       "    <tr>\n",
       "      <th>0</th>\n",
       "      <td>14091</td>\n",
       "      <td>7.54%</td>\n",
       "    </tr>\n",
       "    <tr>\n",
       "      <th>5</th>\n",
       "      <td>9</td>\n",
       "      <td>0.00%</td>\n",
       "    </tr>\n",
       "  </tbody>\n",
       "</table>\n",
       "</div>"
      ],
      "text/plain": [
       "          num_of_objects debt_percentage\n",
       "children                                \n",
       "4                     41           9.76%\n",
       "2                   2052           9.45%\n",
       "1                   4808           9.23%\n",
       "3                    330           8.18%\n",
       "0                  14091           7.54%\n",
       "5                      9           0.00%"
      ]
     },
     "execution_count": 23,
     "metadata": {},
     "output_type": "execute_result"
    }
   ],
   "source": [
    "# построим сводную таблицу для наглядного представления результатов\n",
    "data_child_pivot = data.pivot_table(index='children', values='debt', aggfunc=['count', 'mean'])\n",
    "data_child_pivot.columns = ['num_of_objects', 'debt_percentage']\n",
    "data_child_pivot['debt_percentage'] = data_child_pivot['debt_percentage'].apply(probability_to_percentage)\n",
    "data_child_pivot = data_child_pivot.sort_values(by='debt_percentage', ascending=False)\n",
    "# 'num_of_objects' - количество обьектов в группе\n",
    "# 'debt_percentage' - средний процент наличия задолженности для каждого значения 'children'\n",
    "data_child_pivot"
   ]
  },
  {
   "cell_type": "markdown",
   "id": "1d84ba15",
   "metadata": {
    "deletable": false,
    "id": "3a6b99ec"
   },
   "source": [
    "**Вывод:** Да, зависимость есть. Исходя из полученной таблицы, заметим, что наименьший процент наличия задолженности имеют клиенты, у которых нет детей, а наибольший - клиенты, у которых четверо детей, то есть с ростом числа детей процент увеличивается. Однако есть исключения - группы клиентов, у которых трое и пятеро детей. Скорее всего, это связано с тем, что количество обьектов со значениями children равным 3 и 5 значительно меньше количества обьектов в других группах."
   ]
  },
  {
   "cell_type": "markdown",
   "id": "4846c987",
   "metadata": {
    "deletable": false,
    "editable": false,
    "id": "97be82ca"
   },
   "source": [
    "#### 3.2 Есть ли зависимость между семейным положением и возвратом кредита в срок?"
   ]
  },
  {
   "cell_type": "code",
   "execution_count": 24,
   "id": "a1f5c279",
   "metadata": {
    "deletable": false,
    "id": "dc3f7ee8"
   },
   "outputs": [
    {
     "data": {
      "text/html": [
       "<div>\n",
       "<style scoped>\n",
       "    .dataframe tbody tr th:only-of-type {\n",
       "        vertical-align: middle;\n",
       "    }\n",
       "\n",
       "    .dataframe tbody tr th {\n",
       "        vertical-align: top;\n",
       "    }\n",
       "\n",
       "    .dataframe thead th {\n",
       "        text-align: right;\n",
       "    }\n",
       "</style>\n",
       "<table border=\"1\" class=\"dataframe\">\n",
       "  <thead>\n",
       "    <tr style=\"text-align: right;\">\n",
       "      <th></th>\n",
       "      <th>num_of_objects</th>\n",
       "      <th>debt_percentage</th>\n",
       "    </tr>\n",
       "    <tr>\n",
       "      <th>family_status</th>\n",
       "      <th></th>\n",
       "      <th></th>\n",
       "    </tr>\n",
       "  </thead>\n",
       "  <tbody>\n",
       "    <tr>\n",
       "      <th>Не женат / не замужем</th>\n",
       "      <td>2796</td>\n",
       "      <td>9.76%</td>\n",
       "    </tr>\n",
       "    <tr>\n",
       "      <th>гражданский брак</th>\n",
       "      <td>4134</td>\n",
       "      <td>9.31%</td>\n",
       "    </tr>\n",
       "    <tr>\n",
       "      <th>женат / замужем</th>\n",
       "      <td>12261</td>\n",
       "      <td>7.56%</td>\n",
       "    </tr>\n",
       "    <tr>\n",
       "      <th>в разводе</th>\n",
       "      <td>1189</td>\n",
       "      <td>7.06%</td>\n",
       "    </tr>\n",
       "    <tr>\n",
       "      <th>вдовец / вдова</th>\n",
       "      <td>951</td>\n",
       "      <td>6.62%</td>\n",
       "    </tr>\n",
       "  </tbody>\n",
       "</table>\n",
       "</div>"
      ],
      "text/plain": [
       "                       num_of_objects debt_percentage\n",
       "family_status                                        \n",
       "Не женат / не замужем            2796           9.76%\n",
       "гражданский брак                 4134           9.31%\n",
       "женат / замужем                 12261           7.56%\n",
       "в разводе                        1189           7.06%\n",
       "вдовец / вдова                    951           6.62%"
      ]
     },
     "execution_count": 24,
     "metadata": {},
     "output_type": "execute_result"
    }
   ],
   "source": [
    "# поступим аналогично предыдущему пункту\n",
    "data_family_pivot = data.pivot_table(index='family_status', values='debt', aggfunc=['count', 'mean'])\n",
    "data_family_pivot.columns = ['num_of_objects', 'debt_percentage']\n",
    "data_family_pivot['debt_percentage'] = data_family_pivot['debt_percentage'].apply(probability_to_percentage)\n",
    "data_family_pivot = data_family_pivot.sort_values(by='debt_percentage', ascending=False)\n",
    "data_family_pivot"
   ]
  },
  {
   "cell_type": "markdown",
   "id": "34e9bb53",
   "metadata": {
    "deletable": false,
    "id": "1cef7837"
   },
   "source": [
    "**Вывод:** Да, зависимость есть. Люди, не состоящие в браке имеют более высокий процент невозврата в срок. При этом люди, которые раньше были в браке, наоборот, имеют наименьший процент задолженности."
   ]
  },
  {
   "cell_type": "markdown",
   "id": "e4d754ce",
   "metadata": {
    "deletable": false,
    "editable": false,
    "id": "1e8b2fca"
   },
   "source": [
    "#### 3.3 Есть ли зависимость между уровнем дохода и возвратом кредита в срок?"
   ]
  },
  {
   "cell_type": "code",
   "execution_count": 25,
   "id": "3c981c1d",
   "metadata": {
    "deletable": false,
    "id": "cd7e3720"
   },
   "outputs": [
    {
     "data": {
      "text/html": [
       "<div>\n",
       "<style scoped>\n",
       "    .dataframe tbody tr th:only-of-type {\n",
       "        vertical-align: middle;\n",
       "    }\n",
       "\n",
       "    .dataframe tbody tr th {\n",
       "        vertical-align: top;\n",
       "    }\n",
       "\n",
       "    .dataframe thead th {\n",
       "        text-align: right;\n",
       "    }\n",
       "</style>\n",
       "<table border=\"1\" class=\"dataframe\">\n",
       "  <thead>\n",
       "    <tr style=\"text-align: right;\">\n",
       "      <th></th>\n",
       "      <th>num_of_objects</th>\n",
       "      <th>debt_percentage</th>\n",
       "    </tr>\n",
       "    <tr>\n",
       "      <th>total_income_category</th>\n",
       "      <th></th>\n",
       "      <th></th>\n",
       "    </tr>\n",
       "  </thead>\n",
       "  <tbody>\n",
       "    <tr>\n",
       "      <th>E</th>\n",
       "      <td>22</td>\n",
       "      <td>9.09%</td>\n",
       "    </tr>\n",
       "    <tr>\n",
       "      <th>C</th>\n",
       "      <td>15921</td>\n",
       "      <td>8.50%</td>\n",
       "    </tr>\n",
       "    <tr>\n",
       "      <th>A</th>\n",
       "      <td>25</td>\n",
       "      <td>8.00%</td>\n",
       "    </tr>\n",
       "    <tr>\n",
       "      <th>B</th>\n",
       "      <td>5014</td>\n",
       "      <td>7.06%</td>\n",
       "    </tr>\n",
       "    <tr>\n",
       "      <th>D</th>\n",
       "      <td>349</td>\n",
       "      <td>6.02%</td>\n",
       "    </tr>\n",
       "  </tbody>\n",
       "</table>\n",
       "</div>"
      ],
      "text/plain": [
       "                       num_of_objects debt_percentage\n",
       "total_income_category                                \n",
       "E                                  22           9.09%\n",
       "C                               15921           8.50%\n",
       "A                                  25           8.00%\n",
       "B                                5014           7.06%\n",
       "D                                 349           6.02%"
      ]
     },
     "execution_count": 25,
     "metadata": {},
     "output_type": "execute_result"
    }
   ],
   "source": [
    "data_income_pivot = data.pivot_table(index='total_income_category', values='debt', aggfunc=['count', 'mean'])\n",
    "data_income_pivot.columns = ['num_of_objects', 'debt_percentage']\n",
    "data_income_pivot['debt_percentage'] = data_income_pivot['debt_percentage'].apply(probability_to_percentage)\n",
    "data_income_pivot = data_income_pivot.sort_values(by='debt_percentage', ascending=False)\n",
    "data_income_pivot"
   ]
  },
  {
   "cell_type": "markdown",
   "id": "376acaea",
   "metadata": {
    "deletable": false,
    "id": "e8593def"
   },
   "source": [
    "**Вывод:** Зависимость есть. Можно заметить, что для выборок с относительно большим количеством наблюдений процент невозврата тем больше, чем меньше доход клиента."
   ]
  },
  {
   "cell_type": "markdown",
   "id": "a72d5ede",
   "metadata": {
    "deletable": false,
    "editable": false,
    "id": "99ecbd1f"
   },
   "source": [
    "#### 3.4 Как разные цели кредита влияют на его возврат в срок?"
   ]
  },
  {
   "cell_type": "code",
   "execution_count": 26,
   "id": "5337b385",
   "metadata": {
    "deletable": false,
    "id": "2b687290"
   },
   "outputs": [
    {
     "data": {
      "text/html": [
       "<div>\n",
       "<style scoped>\n",
       "    .dataframe tbody tr th:only-of-type {\n",
       "        vertical-align: middle;\n",
       "    }\n",
       "\n",
       "    .dataframe tbody tr th {\n",
       "        vertical-align: top;\n",
       "    }\n",
       "\n",
       "    .dataframe thead th {\n",
       "        text-align: right;\n",
       "    }\n",
       "</style>\n",
       "<table border=\"1\" class=\"dataframe\">\n",
       "  <thead>\n",
       "    <tr style=\"text-align: right;\">\n",
       "      <th></th>\n",
       "      <th>num_of_objects</th>\n",
       "      <th>debt_percentage</th>\n",
       "    </tr>\n",
       "    <tr>\n",
       "      <th>purpose_category</th>\n",
       "      <th></th>\n",
       "      <th></th>\n",
       "    </tr>\n",
       "  </thead>\n",
       "  <tbody>\n",
       "    <tr>\n",
       "      <th>операции с автомобилем</th>\n",
       "      <td>4279</td>\n",
       "      <td>9.35%</td>\n",
       "    </tr>\n",
       "    <tr>\n",
       "      <th>получение образования</th>\n",
       "      <td>3988</td>\n",
       "      <td>9.25%</td>\n",
       "    </tr>\n",
       "    <tr>\n",
       "      <th>проведение свадьбы</th>\n",
       "      <td>2313</td>\n",
       "      <td>7.91%</td>\n",
       "    </tr>\n",
       "    <tr>\n",
       "      <th>операции с недвижимостью</th>\n",
       "      <td>10751</td>\n",
       "      <td>7.26%</td>\n",
       "    </tr>\n",
       "  </tbody>\n",
       "</table>\n",
       "</div>"
      ],
      "text/plain": [
       "                          num_of_objects debt_percentage\n",
       "purpose_category                                        \n",
       "операции с автомобилем              4279           9.35%\n",
       "получение образования               3988           9.25%\n",
       "проведение свадьбы                  2313           7.91%\n",
       "операции с недвижимостью           10751           7.26%"
      ]
     },
     "execution_count": 26,
     "metadata": {},
     "output_type": "execute_result"
    }
   ],
   "source": [
    "data_purpose_pivot = data.pivot_table(index='purpose_category', values='debt', aggfunc=['count', 'mean'])\n",
    "data_purpose_pivot.columns = ['num_of_objects', 'debt_percentage']\n",
    "data_purpose_pivot['debt_percentage'] = data_purpose_pivot['debt_percentage'].apply(probability_to_percentage)\n",
    "data_purpose_pivot = data_purpose_pivot.sort_values(by='debt_percentage', ascending=False)\n",
    "data_purpose_pivot"
   ]
  },
  {
   "cell_type": "markdown",
   "id": "f977c736",
   "metadata": {
    "deletable": false,
    "id": "b4bb2ce6"
   },
   "source": [
    "**Вывод:** Наибольший процент задолженности имеют клиенты, чьи цели связаны с автомобилями. На втором месте - клиенты с кредитами на образование. Третье место - кредиты на проведение свадеб. Наименьшим процентом невозврата обладают клиенты, берущие кредиты на операции с недвижимостью."
   ]
  },
  {
   "cell_type": "markdown",
   "id": "1714876c",
   "metadata": {
    "deletable": false,
    "editable": false,
    "id": "09c3ac4c"
   },
   "source": [
    "#### 3.5 Приведите возможные причины появления пропусков в исходных данных."
   ]
  },
  {
   "cell_type": "markdown",
   "id": "eb60c42a",
   "metadata": {
    "deletable": false,
    "id": "9da2ceda"
   },
   "source": [
    "*Ответ:* Пропуски находились в столбцах \"days_employed\" и \"total_income\". Возможно, у банка не было данных о работе некоторых клиентов, что и привело к пропускам. Другая возможная причина - ошибка человека при сборе, обработке или выгрузке данных. Также на некотором уровне могла произойти техническая ошибка в работе програмного обеспечения."
   ]
  },
  {
   "cell_type": "markdown",
   "id": "d1316e0c",
   "metadata": {
    "deletable": false,
    "editable": false,
    "id": "7b0487d6"
   },
   "source": [
    "#### 3.6 Объясните, почему заполнить пропуски медианным значением — лучшее решение для количественных переменных."
   ]
  },
  {
   "cell_type": "markdown",
   "id": "95620e6a",
   "metadata": {
    "deletable": false,
    "id": "7ecf2b8e"
   },
   "source": [
    "*Ответ:* Медиана более устойчива к выбросам в данных чем среднее арифметическое, и при их наличии её значение будет лучше отражать тенденцию распределения данных. Вычисление медианы простая и эффективная операция."
   ]
  },
  {
   "cell_type": "markdown",
   "id": "b716e32e",
   "metadata": {
    "deletable": false,
    "editable": false,
    "id": "6db5255a"
   },
   "source": [
    "### Шаг 4: общий вывод."
   ]
  },
  {
   "cell_type": "markdown",
   "id": "fe879b3d",
   "metadata": {
    "deletable": false,
    "id": "bad65432"
   },
   "source": [
    "Мы провели работу с данными от банка, результаты которой будут учтены при построении модели кредитного скоринга.\n",
    "\n",
    "На этапе предобработки данных мы заполнили пропуски, удалили дубликаты, обработали аномальные значение и использовали категоризацию.\n",
    "\n",
    "Процент невозврата зависит от количества детей, семейного положения и цели кредита. Чем меньше детей у заёмщика, тем меньше его предпологаемый процент невозврата. Люди, никогда не состоящие в браке, имеют процент невозврата выше остальных, причём люди, которые раньше были в браке, имеют наименьший процент. Наибольший процент задолженности имеют клиенты, чьи цели связаны с автомобилями. Наименьшим процентом невозврата обладают клиенты, берущие кредиты на операции с недвижимостью.\n",
    "\n",
    "По результатам исследования можно сказать, что идеальный заёмщик - это человек, не имеющий детей, но при этом ранее состоявший в браке, с высоким уровнем дохода. Рисковый заёмщик - человек с несколькими детьми, невысоким уровнем дохода, никогда не состоявший в браке."
   ]
  }
 ],
 "metadata": {
  "ExecuteTimeLog": [
   {
    "duration": 760,
    "start_time": "2023-10-16T09:54:07.105Z"
   },
   {
    "duration": 31,
    "start_time": "2023-10-16T09:54:10.365Z"
   },
   {
    "duration": 12,
    "start_time": "2023-10-16T09:54:14.375Z"
   },
   {
    "duration": 14,
    "start_time": "2023-10-16T09:54:17.708Z"
   },
   {
    "duration": 16,
    "start_time": "2023-10-16T09:54:20.622Z"
   },
   {
    "duration": 12,
    "start_time": "2023-10-16T09:54:22.762Z"
   },
   {
    "duration": 37,
    "start_time": "2023-10-16T09:54:25.322Z"
   },
   {
    "duration": 4,
    "start_time": "2023-10-16T09:54:26.187Z"
   },
   {
    "duration": 9,
    "start_time": "2023-10-16T09:54:26.901Z"
   },
   {
    "duration": 5,
    "start_time": "2023-10-16T09:54:27.425Z"
   },
   {
    "duration": 6,
    "start_time": "2023-10-16T09:54:27.758Z"
   },
   {
    "duration": 4,
    "start_time": "2023-10-16T09:54:28.095Z"
   },
   {
    "duration": 33,
    "start_time": "2023-10-16T09:54:28.646Z"
   },
   {
    "duration": 11,
    "start_time": "2023-10-16T09:54:29.032Z"
   },
   {
    "duration": 3,
    "start_time": "2023-10-16T09:54:29.603Z"
   },
   {
    "duration": 12,
    "start_time": "2023-10-16T09:54:30.143Z"
   },
   {
    "duration": 19,
    "start_time": "2023-10-16T09:54:30.522Z"
   },
   {
    "duration": 17,
    "start_time": "2023-10-16T09:54:30.725Z"
   },
   {
    "duration": 4,
    "start_time": "2023-10-16T09:54:31.355Z"
   },
   {
    "duration": 11,
    "start_time": "2023-10-16T09:54:31.565Z"
   },
   {
    "duration": 7,
    "start_time": "2023-10-16T09:54:32.120Z"
   },
   {
    "duration": 3,
    "start_time": "2023-10-16T09:54:33.112Z"
   },
   {
    "duration": 10,
    "start_time": "2023-10-16T09:54:33.703Z"
   },
   {
    "duration": 64,
    "start_time": "2023-10-16T09:59:44.925Z"
   },
   {
    "duration": 6,
    "start_time": "2023-10-16T09:59:51.114Z"
   },
   {
    "duration": 7,
    "start_time": "2023-10-16T10:10:34.110Z"
   },
   {
    "duration": 7,
    "start_time": "2023-10-16T10:10:52.169Z"
   },
   {
    "duration": 7,
    "start_time": "2023-10-16T10:15:42.502Z"
   },
   {
    "duration": 7,
    "start_time": "2023-10-16T10:15:44.933Z"
   },
   {
    "duration": 6,
    "start_time": "2023-10-16T10:15:49.650Z"
   },
   {
    "duration": 6,
    "start_time": "2023-10-16T10:17:14.684Z"
   },
   {
    "duration": 59,
    "start_time": "2023-10-16T10:21:27.887Z"
   },
   {
    "duration": 44,
    "start_time": "2023-10-16T10:21:52.097Z"
   },
   {
    "duration": 20,
    "start_time": "2023-10-16T10:22:09.766Z"
   },
   {
    "duration": 8,
    "start_time": "2023-10-16T10:24:32.746Z"
   },
   {
    "duration": 8,
    "start_time": "2023-10-16T10:29:17.562Z"
   },
   {
    "duration": 6,
    "start_time": "2023-10-16T11:14:59.317Z"
   },
   {
    "duration": 78,
    "start_time": "2023-10-16T11:15:06.900Z"
   },
   {
    "duration": 15,
    "start_time": "2023-10-16T11:15:06.980Z"
   },
   {
    "duration": 36,
    "start_time": "2023-10-16T11:15:06.997Z"
   },
   {
    "duration": 13,
    "start_time": "2023-10-16T11:15:07.034Z"
   },
   {
    "duration": 35,
    "start_time": "2023-10-16T11:15:07.049Z"
   },
   {
    "duration": 3,
    "start_time": "2023-10-16T11:15:07.086Z"
   },
   {
    "duration": 33,
    "start_time": "2023-10-16T11:15:07.091Z"
   },
   {
    "duration": 4,
    "start_time": "2023-10-16T11:15:07.126Z"
   },
   {
    "duration": 11,
    "start_time": "2023-10-16T11:15:07.131Z"
   },
   {
    "duration": 14,
    "start_time": "2023-10-16T11:15:07.143Z"
   },
   {
    "duration": 40,
    "start_time": "2023-10-16T11:15:07.159Z"
   },
   {
    "duration": 11,
    "start_time": "2023-10-16T11:15:07.201Z"
   },
   {
    "duration": 18,
    "start_time": "2023-10-16T11:15:07.223Z"
   },
   {
    "duration": 21,
    "start_time": "2023-10-16T11:15:07.244Z"
   },
   {
    "duration": 26,
    "start_time": "2023-10-16T11:15:07.267Z"
   },
   {
    "duration": 19,
    "start_time": "2023-10-16T11:15:07.295Z"
   },
   {
    "duration": 4,
    "start_time": "2023-10-16T11:15:07.316Z"
   },
   {
    "duration": 15,
    "start_time": "2023-10-16T11:15:07.323Z"
   },
   {
    "duration": 7,
    "start_time": "2023-10-16T11:15:07.340Z"
   },
   {
    "duration": 33,
    "start_time": "2023-10-16T11:15:07.348Z"
   },
   {
    "duration": 30,
    "start_time": "2023-10-16T11:15:07.382Z"
   },
   {
    "duration": 18,
    "start_time": "2023-10-16T11:15:07.414Z"
   },
   {
    "duration": 36,
    "start_time": "2023-10-16T11:15:07.434Z"
   },
   {
    "duration": 23,
    "start_time": "2023-10-16T11:16:38.581Z"
   },
   {
    "duration": 38,
    "start_time": "2023-10-16T11:16:53.191Z"
   },
   {
    "duration": 21,
    "start_time": "2023-10-16T11:17:04.895Z"
   },
   {
    "duration": 31,
    "start_time": "2023-10-16T11:17:10.025Z"
   },
   {
    "duration": 25,
    "start_time": "2023-10-16T11:18:15.869Z"
   },
   {
    "duration": 17,
    "start_time": "2023-10-16T11:18:26.474Z"
   },
   {
    "duration": 21,
    "start_time": "2023-10-16T11:19:05.282Z"
   },
   {
    "duration": 21,
    "start_time": "2023-10-16T11:19:09.366Z"
   },
   {
    "duration": 21,
    "start_time": "2023-10-16T11:19:15.082Z"
   },
   {
    "duration": 20,
    "start_time": "2023-10-16T11:19:18.369Z"
   },
   {
    "duration": 41,
    "start_time": "2023-10-16T11:21:00.262Z"
   },
   {
    "duration": 20,
    "start_time": "2023-10-16T11:21:06.898Z"
   },
   {
    "duration": 18,
    "start_time": "2023-10-16T11:21:30.598Z"
   },
   {
    "duration": 14,
    "start_time": "2023-10-16T11:21:40.176Z"
   },
   {
    "duration": 2009,
    "start_time": "2023-10-16T11:21:50.662Z"
   },
   {
    "duration": 16,
    "start_time": "2023-10-16T11:22:06.094Z"
   },
   {
    "duration": 19,
    "start_time": "2023-10-16T11:23:05.428Z"
   },
   {
    "duration": 16,
    "start_time": "2023-10-16T11:24:33.511Z"
   },
   {
    "duration": 10,
    "start_time": "2023-10-16T11:24:39.559Z"
   },
   {
    "duration": 13,
    "start_time": "2023-10-16T11:24:44.561Z"
   },
   {
    "duration": 17,
    "start_time": "2023-10-16T11:26:25.393Z"
   },
   {
    "duration": 18,
    "start_time": "2023-10-16T11:29:12.500Z"
   },
   {
    "duration": 16,
    "start_time": "2023-10-16T11:29:23.891Z"
   },
   {
    "duration": 23,
    "start_time": "2023-10-16T11:29:40.805Z"
   },
   {
    "duration": 19,
    "start_time": "2023-10-16T11:30:10.135Z"
   },
   {
    "duration": 14,
    "start_time": "2023-10-16T11:30:12.554Z"
   },
   {
    "duration": 19,
    "start_time": "2023-10-16T11:30:20.259Z"
   },
   {
    "duration": 1696,
    "start_time": "2023-10-16T11:30:27.915Z"
   },
   {
    "duration": 1681,
    "start_time": "2023-10-16T11:30:31.705Z"
   },
   {
    "duration": 17,
    "start_time": "2023-10-16T11:31:23.993Z"
   },
   {
    "duration": 528,
    "start_time": "2023-10-16T11:32:49.657Z"
   },
   {
    "duration": 21,
    "start_time": "2023-10-16T11:32:59.770Z"
   },
   {
    "duration": 21,
    "start_time": "2023-10-16T11:33:19.185Z"
   },
   {
    "duration": 21,
    "start_time": "2023-10-16T11:33:33.345Z"
   },
   {
    "duration": 19,
    "start_time": "2023-10-16T11:35:04.367Z"
   },
   {
    "duration": 21,
    "start_time": "2023-10-16T11:35:10.267Z"
   },
   {
    "duration": 15,
    "start_time": "2023-10-16T11:36:31.295Z"
   },
   {
    "duration": 20,
    "start_time": "2023-10-16T11:36:37.794Z"
   },
   {
    "duration": 21,
    "start_time": "2023-10-16T11:36:47.378Z"
   },
   {
    "duration": 20,
    "start_time": "2023-10-16T11:37:13.740Z"
   },
   {
    "duration": 91,
    "start_time": "2023-10-16T11:38:27.017Z"
   },
   {
    "duration": 100,
    "start_time": "2023-10-16T11:38:58.988Z"
   },
   {
    "duration": 123,
    "start_time": "2023-10-16T11:39:18.450Z"
   },
   {
    "duration": 18,
    "start_time": "2023-10-16T11:39:54.172Z"
   },
   {
    "duration": 19,
    "start_time": "2023-10-16T11:40:10.094Z"
   },
   {
    "duration": 16,
    "start_time": "2023-10-16T11:45:50.100Z"
   },
   {
    "duration": 14,
    "start_time": "2023-10-16T11:46:57.308Z"
   },
   {
    "duration": 15,
    "start_time": "2023-10-16T11:47:26.547Z"
   },
   {
    "duration": 19,
    "start_time": "2023-10-16T11:54:58.125Z"
   },
   {
    "duration": 18,
    "start_time": "2023-10-16T11:55:30.877Z"
   },
   {
    "duration": 14,
    "start_time": "2023-10-16T11:57:26.533Z"
   },
   {
    "duration": 16,
    "start_time": "2023-10-16T11:58:09.258Z"
   },
   {
    "duration": 15,
    "start_time": "2023-10-16T12:00:12.169Z"
   },
   {
    "duration": 15,
    "start_time": "2023-10-16T12:01:32.112Z"
   },
   {
    "duration": 17,
    "start_time": "2023-10-16T12:03:09.013Z"
   },
   {
    "duration": 19,
    "start_time": "2023-10-16T12:06:00.813Z"
   },
   {
    "duration": 3,
    "start_time": "2023-10-16T12:08:42.819Z"
   },
   {
    "duration": 15,
    "start_time": "2023-10-16T12:08:43.366Z"
   },
   {
    "duration": 15,
    "start_time": "2023-10-16T12:08:45.647Z"
   },
   {
    "duration": 218,
    "start_time": "2023-10-16T12:09:36.824Z"
   },
   {
    "duration": 1999,
    "start_time": "2023-10-16T12:09:45.530Z"
   },
   {
    "duration": 29,
    "start_time": "2023-10-16T12:10:00.433Z"
   },
   {
    "duration": 17,
    "start_time": "2023-10-16T12:10:19.990Z"
   },
   {
    "duration": 17,
    "start_time": "2023-10-16T12:10:43.261Z"
   },
   {
    "duration": 16,
    "start_time": "2023-10-16T12:11:35.350Z"
   },
   {
    "duration": 15,
    "start_time": "2023-10-16T12:12:17.522Z"
   },
   {
    "duration": 2,
    "start_time": "2023-10-16T12:12:22.406Z"
   },
   {
    "duration": 15,
    "start_time": "2023-10-16T12:12:22.666Z"
   },
   {
    "duration": 16,
    "start_time": "2023-10-16T12:12:24.180Z"
   },
   {
    "duration": 15,
    "start_time": "2023-10-16T12:12:26.202Z"
   },
   {
    "duration": 15,
    "start_time": "2023-10-16T12:14:09.649Z"
   },
   {
    "duration": 1325,
    "start_time": "2023-10-16T12:14:18.396Z"
   },
   {
    "duration": 18,
    "start_time": "2023-10-16T12:14:51.226Z"
   },
   {
    "duration": 3,
    "start_time": "2023-10-16T12:14:57.855Z"
   },
   {
    "duration": 15,
    "start_time": "2023-10-16T12:14:58.041Z"
   },
   {
    "duration": 16,
    "start_time": "2023-10-16T12:14:58.754Z"
   },
   {
    "duration": 16,
    "start_time": "2023-10-16T12:15:00.018Z"
   },
   {
    "duration": 18,
    "start_time": "2023-10-16T12:15:01.619Z"
   },
   {
    "duration": 14,
    "start_time": "2023-10-16T12:20:16.743Z"
   },
   {
    "duration": 17,
    "start_time": "2023-10-16T12:20:21.614Z"
   },
   {
    "duration": 15,
    "start_time": "2023-10-16T12:20:22.589Z"
   },
   {
    "duration": 14,
    "start_time": "2023-10-16T12:20:23.408Z"
   },
   {
    "duration": 16,
    "start_time": "2023-10-16T12:20:29.934Z"
   },
   {
    "duration": 1833,
    "start_time": "2023-10-16T12:22:25.646Z"
   },
   {
    "duration": 19,
    "start_time": "2023-10-16T12:22:55.487Z"
   },
   {
    "duration": 19,
    "start_time": "2023-10-16T12:23:03.670Z"
   },
   {
    "duration": 18,
    "start_time": "2023-10-16T12:23:06.704Z"
   },
   {
    "duration": 19,
    "start_time": "2023-10-16T12:23:10.574Z"
   },
   {
    "duration": 16,
    "start_time": "2023-10-16T12:23:27.047Z"
   },
   {
    "duration": 1487,
    "start_time": "2023-10-16T12:25:18.259Z"
   },
   {
    "duration": 22,
    "start_time": "2023-10-16T12:25:31.863Z"
   },
   {
    "duration": 28,
    "start_time": "2023-10-16T12:25:45.735Z"
   },
   {
    "duration": 18,
    "start_time": "2023-10-16T12:25:54.184Z"
   },
   {
    "duration": 24,
    "start_time": "2023-10-16T12:27:37.309Z"
   },
   {
    "duration": 30,
    "start_time": "2023-10-16T12:27:43.408Z"
   },
   {
    "duration": 23,
    "start_time": "2023-10-16T12:27:53.912Z"
   },
   {
    "duration": 30,
    "start_time": "2023-10-16T12:28:00.409Z"
   },
   {
    "duration": 19,
    "start_time": "2023-10-16T12:28:16.404Z"
   },
   {
    "duration": 22,
    "start_time": "2023-10-16T12:28:26.136Z"
   },
   {
    "duration": 23,
    "start_time": "2023-10-16T12:28:29.809Z"
   },
   {
    "duration": 21,
    "start_time": "2023-10-16T12:34:16.381Z"
   },
   {
    "duration": 23,
    "start_time": "2023-10-16T12:34:33.537Z"
   },
   {
    "duration": 20,
    "start_time": "2023-10-16T12:35:14.082Z"
   },
   {
    "duration": 21,
    "start_time": "2023-10-16T12:35:24.100Z"
   },
   {
    "duration": 23,
    "start_time": "2023-10-16T12:35:30.034Z"
   },
   {
    "duration": 21,
    "start_time": "2023-10-16T12:35:39.806Z"
   },
   {
    "duration": 19,
    "start_time": "2023-10-16T12:35:52.737Z"
   },
   {
    "duration": 20,
    "start_time": "2023-10-16T12:36:18.690Z"
   },
   {
    "duration": 23,
    "start_time": "2023-10-16T12:36:25.306Z"
   },
   {
    "duration": 19,
    "start_time": "2023-10-16T12:36:57.086Z"
   },
   {
    "duration": 18,
    "start_time": "2023-10-16T12:37:04.374Z"
   },
   {
    "duration": 21,
    "start_time": "2023-10-16T12:37:24.958Z"
   },
   {
    "duration": 32,
    "start_time": "2023-10-16T12:37:53.383Z"
   },
   {
    "duration": 3,
    "start_time": "2023-10-16T12:38:06.838Z"
   },
   {
    "duration": 20,
    "start_time": "2023-10-16T12:38:07.350Z"
   },
   {
    "duration": 23,
    "start_time": "2023-10-16T12:38:08.632Z"
   },
   {
    "duration": 21,
    "start_time": "2023-10-16T12:38:12.566Z"
   },
   {
    "duration": 22,
    "start_time": "2023-10-16T12:38:41.850Z"
   },
   {
    "duration": 86,
    "start_time": "2023-10-16T13:31:47.495Z"
   },
   {
    "duration": 119,
    "start_time": "2023-10-16T13:32:02.178Z"
   },
   {
    "duration": 82,
    "start_time": "2023-10-16T13:32:13.924Z"
   },
   {
    "duration": 3,
    "start_time": "2023-10-16T13:47:38.204Z"
   },
   {
    "duration": 19,
    "start_time": "2023-10-16T13:47:38.803Z"
   },
   {
    "duration": 86,
    "start_time": "2023-10-16T13:48:11.389Z"
   },
   {
    "duration": 16,
    "start_time": "2023-10-16T13:48:12.546Z"
   },
   {
    "duration": 16,
    "start_time": "2023-10-16T13:48:13.084Z"
   },
   {
    "duration": 11,
    "start_time": "2023-10-16T13:48:13.950Z"
   },
   {
    "duration": 34,
    "start_time": "2023-10-16T13:48:14.282Z"
   },
   {
    "duration": 4,
    "start_time": "2023-10-16T13:48:15.045Z"
   },
   {
    "duration": 8,
    "start_time": "2023-10-16T13:48:15.208Z"
   },
   {
    "duration": 6,
    "start_time": "2023-10-16T13:48:16.144Z"
   },
   {
    "duration": 6,
    "start_time": "2023-10-16T13:48:16.779Z"
   },
   {
    "duration": 4,
    "start_time": "2023-10-16T13:48:18.207Z"
   },
   {
    "duration": 51,
    "start_time": "2023-10-16T13:48:19.309Z"
   },
   {
    "duration": 14,
    "start_time": "2023-10-16T13:48:19.642Z"
   },
   {
    "duration": 4,
    "start_time": "2023-10-16T13:48:21.014Z"
   },
   {
    "duration": 14,
    "start_time": "2023-10-16T13:48:22.043Z"
   },
   {
    "duration": 18,
    "start_time": "2023-10-16T13:48:22.559Z"
   },
   {
    "duration": 17,
    "start_time": "2023-10-16T13:48:22.769Z"
   },
   {
    "duration": 3,
    "start_time": "2023-10-16T13:48:23.499Z"
   },
   {
    "duration": 10,
    "start_time": "2023-10-16T13:48:23.767Z"
   },
   {
    "duration": 11,
    "start_time": "2023-10-16T13:48:24.333Z"
   },
   {
    "duration": 3,
    "start_time": "2023-10-16T13:48:25.700Z"
   },
   {
    "duration": 11,
    "start_time": "2023-10-16T13:48:25.935Z"
   },
   {
    "duration": 5,
    "start_time": "2023-10-16T13:48:27.432Z"
   },
   {
    "duration": 35,
    "start_time": "2023-10-16T13:48:28.820Z"
   },
   {
    "duration": 27,
    "start_time": "2023-10-16T13:52:29.033Z"
   },
   {
    "duration": 23,
    "start_time": "2023-10-16T14:15:21.385Z"
   },
   {
    "duration": 24,
    "start_time": "2023-10-16T14:15:25.979Z"
   },
   {
    "duration": 32,
    "start_time": "2023-10-16T14:15:39.428Z"
   },
   {
    "duration": 23,
    "start_time": "2023-10-16T14:15:41.375Z"
   },
   {
    "duration": 32,
    "start_time": "2023-10-16T14:15:46.614Z"
   },
   {
    "duration": 21,
    "start_time": "2023-10-16T14:25:19.675Z"
   },
   {
    "duration": 25,
    "start_time": "2023-10-16T14:29:19.472Z"
   },
   {
    "duration": 30,
    "start_time": "2023-10-16T14:44:51.614Z"
   },
   {
    "duration": 554,
    "start_time": "2023-10-16T14:45:01.206Z"
   },
   {
    "duration": 23,
    "start_time": "2023-10-16T14:45:01.763Z"
   },
   {
    "duration": 38,
    "start_time": "2023-10-16T14:45:01.787Z"
   },
   {
    "duration": 54,
    "start_time": "2023-10-16T14:45:01.830Z"
   },
   {
    "duration": 73,
    "start_time": "2023-10-16T14:45:01.886Z"
   },
   {
    "duration": 147,
    "start_time": "2023-10-16T14:45:01.960Z"
   },
   {
    "duration": 126,
    "start_time": "2023-10-16T14:45:02.109Z"
   },
   {
    "duration": 42,
    "start_time": "2023-10-16T14:45:02.237Z"
   },
   {
    "duration": 25,
    "start_time": "2023-10-16T14:45:02.281Z"
   },
   {
    "duration": 16,
    "start_time": "2023-10-16T14:45:02.309Z"
   },
   {
    "duration": 141,
    "start_time": "2023-10-16T14:45:02.327Z"
   },
   {
    "duration": 12,
    "start_time": "2023-10-16T14:45:02.470Z"
   },
   {
    "duration": 100,
    "start_time": "2023-10-16T14:45:02.484Z"
   },
   {
    "duration": 47,
    "start_time": "2023-10-16T14:45:02.585Z"
   },
   {
    "duration": 40,
    "start_time": "2023-10-16T14:45:02.634Z"
   },
   {
    "duration": 38,
    "start_time": "2023-10-16T14:45:02.675Z"
   },
   {
    "duration": 38,
    "start_time": "2023-10-16T14:45:02.715Z"
   },
   {
    "duration": 57,
    "start_time": "2023-10-16T14:45:02.755Z"
   },
   {
    "duration": 61,
    "start_time": "2023-10-16T14:45:02.814Z"
   },
   {
    "duration": 75,
    "start_time": "2023-10-16T14:45:02.876Z"
   },
   {
    "duration": 158,
    "start_time": "2023-10-16T14:45:02.953Z"
   },
   {
    "duration": 455,
    "start_time": "2023-10-16T14:45:03.113Z"
   },
   {
    "duration": 195,
    "start_time": "2023-10-16T14:45:03.569Z"
   },
   {
    "duration": 197,
    "start_time": "2023-10-16T14:45:03.766Z"
   },
   {
    "duration": 130,
    "start_time": "2023-10-16T14:45:03.964Z"
   },
   {
    "duration": 153,
    "start_time": "2023-10-16T14:45:04.095Z"
   },
   {
    "duration": 461,
    "start_time": "2023-10-16T15:04:02.456Z"
   },
   {
    "duration": 34,
    "start_time": "2023-10-16T15:04:02.919Z"
   },
   {
    "duration": 116,
    "start_time": "2023-10-16T15:04:02.955Z"
   },
   {
    "duration": 292,
    "start_time": "2023-10-16T15:04:03.073Z"
   },
   {
    "duration": 488,
    "start_time": "2023-10-16T15:04:03.367Z"
   },
   {
    "duration": 349,
    "start_time": "2023-10-16T15:04:03.857Z"
   },
   {
    "duration": 404,
    "start_time": "2023-10-16T15:04:04.207Z"
   },
   {
    "duration": 99,
    "start_time": "2023-10-16T15:04:04.613Z"
   },
   {
    "duration": 76,
    "start_time": "2023-10-16T15:04:04.714Z"
   },
   {
    "duration": 40,
    "start_time": "2023-10-16T15:04:04.794Z"
   },
   {
    "duration": 85,
    "start_time": "2023-10-16T15:04:04.836Z"
   },
   {
    "duration": 36,
    "start_time": "2023-10-16T15:04:04.923Z"
   },
   {
    "duration": 26,
    "start_time": "2023-10-16T15:04:04.961Z"
   },
   {
    "duration": 45,
    "start_time": "2023-10-16T15:04:04.989Z"
   },
   {
    "duration": 49,
    "start_time": "2023-10-16T15:04:05.037Z"
   },
   {
    "duration": 23,
    "start_time": "2023-10-16T15:04:05.087Z"
   },
   {
    "duration": 31,
    "start_time": "2023-10-16T15:04:05.112Z"
   },
   {
    "duration": 46,
    "start_time": "2023-10-16T15:04:05.145Z"
   },
   {
    "duration": 110,
    "start_time": "2023-10-16T15:04:05.193Z"
   },
   {
    "duration": 209,
    "start_time": "2023-10-16T15:04:05.305Z"
   },
   {
    "duration": 240,
    "start_time": "2023-10-16T15:04:05.516Z"
   },
   {
    "duration": 152,
    "start_time": "2023-10-16T15:04:05.759Z"
   },
   {
    "duration": 155,
    "start_time": "2023-10-16T15:04:05.914Z"
   },
   {
    "duration": 104,
    "start_time": "2023-10-16T15:04:06.071Z"
   },
   {
    "duration": 319,
    "start_time": "2023-10-16T15:04:06.177Z"
   },
   {
    "duration": 115,
    "start_time": "2023-10-16T15:04:06.498Z"
   },
   {
    "duration": 781,
    "start_time": "2023-10-17T04:34:10.030Z"
   },
   {
    "duration": 24,
    "start_time": "2023-10-17T04:34:10.813Z"
   },
   {
    "duration": 16,
    "start_time": "2023-10-17T04:34:10.838Z"
   },
   {
    "duration": 11,
    "start_time": "2023-10-17T04:34:10.857Z"
   },
   {
    "duration": 66,
    "start_time": "2023-10-17T04:34:10.869Z"
   },
   {
    "duration": 3,
    "start_time": "2023-10-17T04:34:10.937Z"
   },
   {
    "duration": 13,
    "start_time": "2023-10-17T04:34:10.942Z"
   },
   {
    "duration": 4,
    "start_time": "2023-10-17T04:34:10.957Z"
   },
   {
    "duration": 68,
    "start_time": "2023-10-17T04:34:10.979Z"
   },
   {
    "duration": 10,
    "start_time": "2023-10-17T04:34:11.049Z"
   },
   {
    "duration": 7,
    "start_time": "2023-10-17T04:34:11.061Z"
   },
   {
    "duration": 12,
    "start_time": "2023-10-17T04:34:11.069Z"
   },
   {
    "duration": 48,
    "start_time": "2023-10-17T04:34:11.083Z"
   },
   {
    "duration": 17,
    "start_time": "2023-10-17T04:34:11.133Z"
   },
   {
    "duration": 4,
    "start_time": "2023-10-17T04:34:11.151Z"
   },
   {
    "duration": 13,
    "start_time": "2023-10-17T04:34:11.157Z"
   },
   {
    "duration": 8,
    "start_time": "2023-10-17T04:34:11.172Z"
   },
   {
    "duration": 5,
    "start_time": "2023-10-17T04:34:11.182Z"
   },
   {
    "duration": 38,
    "start_time": "2023-10-17T04:34:11.189Z"
   },
   {
    "duration": 3,
    "start_time": "2023-10-17T04:34:11.229Z"
   },
   {
    "duration": 26,
    "start_time": "2023-10-17T04:34:11.233Z"
   },
   {
    "duration": 22,
    "start_time": "2023-10-17T04:34:11.261Z"
   },
   {
    "duration": 41,
    "start_time": "2023-10-17T04:34:11.284Z"
   },
   {
    "duration": 24,
    "start_time": "2023-10-17T04:34:11.327Z"
   },
   {
    "duration": 512,
    "start_time": "2023-10-17T15:27:19.215Z"
   },
   {
    "duration": 27,
    "start_time": "2023-10-17T15:27:19.730Z"
   },
   {
    "duration": 91,
    "start_time": "2023-10-17T15:27:19.758Z"
   },
   {
    "duration": 189,
    "start_time": "2023-10-17T15:27:19.852Z"
   },
   {
    "duration": 378,
    "start_time": "2023-10-17T15:27:20.043Z"
   },
   {
    "duration": 108,
    "start_time": "2023-10-17T15:27:20.423Z"
   },
   {
    "duration": 29,
    "start_time": "2023-10-17T15:27:20.532Z"
   },
   {
    "duration": 44,
    "start_time": "2023-10-17T15:27:20.562Z"
   },
   {
    "duration": 56,
    "start_time": "2023-10-17T15:27:20.608Z"
   },
   {
    "duration": 23,
    "start_time": "2023-10-17T15:27:20.669Z"
   },
   {
    "duration": 72,
    "start_time": "2023-10-17T15:27:20.694Z"
   },
   {
    "duration": 12,
    "start_time": "2023-10-17T15:27:20.767Z"
   },
   {
    "duration": 55,
    "start_time": "2023-10-17T15:27:20.780Z"
   },
   {
    "duration": 79,
    "start_time": "2023-10-17T15:27:20.837Z"
   },
   {
    "duration": 58,
    "start_time": "2023-10-17T15:27:20.918Z"
   },
   {
    "duration": 31,
    "start_time": "2023-10-17T15:27:20.978Z"
   },
   {
    "duration": 15,
    "start_time": "2023-10-17T15:27:21.011Z"
   },
   {
    "duration": 40,
    "start_time": "2023-10-17T15:27:21.028Z"
   },
   {
    "duration": 33,
    "start_time": "2023-10-17T15:27:21.070Z"
   },
   {
    "duration": 46,
    "start_time": "2023-10-17T15:27:21.105Z"
   },
   {
    "duration": 87,
    "start_time": "2023-10-17T15:27:21.153Z"
   },
   {
    "duration": 45,
    "start_time": "2023-10-17T15:27:21.242Z"
   },
   {
    "duration": 84,
    "start_time": "2023-10-17T15:27:21.290Z"
   },
   {
    "duration": 26,
    "start_time": "2023-10-17T15:27:21.376Z"
   },
   {
    "duration": 22,
    "start_time": "2023-10-17T15:27:21.404Z"
   },
   {
    "duration": 39,
    "start_time": "2023-10-17T15:27:21.428Z"
   },
   {
    "duration": 437,
    "start_time": "2023-10-18T06:26:06.194Z"
   },
   {
    "duration": 21,
    "start_time": "2023-10-18T06:26:06.632Z"
   },
   {
    "duration": 43,
    "start_time": "2023-10-18T06:26:06.654Z"
   },
   {
    "duration": 25,
    "start_time": "2023-10-18T06:26:06.699Z"
   },
   {
    "duration": 67,
    "start_time": "2023-10-18T06:26:06.726Z"
   },
   {
    "duration": 3,
    "start_time": "2023-10-18T06:26:06.795Z"
   },
   {
    "duration": 43,
    "start_time": "2023-10-18T06:26:06.799Z"
   },
   {
    "duration": 13,
    "start_time": "2023-10-18T06:26:06.844Z"
   },
   {
    "duration": 18,
    "start_time": "2023-10-18T06:26:06.859Z"
   },
   {
    "duration": 10,
    "start_time": "2023-10-18T06:26:06.880Z"
   },
   {
    "duration": 55,
    "start_time": "2023-10-18T06:26:06.892Z"
   },
   {
    "duration": 10,
    "start_time": "2023-10-18T06:26:06.948Z"
   },
   {
    "duration": 16,
    "start_time": "2023-10-18T06:26:06.960Z"
   },
   {
    "duration": 28,
    "start_time": "2023-10-18T06:26:06.977Z"
   },
   {
    "duration": 32,
    "start_time": "2023-10-18T06:26:07.007Z"
   },
   {
    "duration": 19,
    "start_time": "2023-10-18T06:26:07.040Z"
   },
   {
    "duration": 4,
    "start_time": "2023-10-18T06:26:07.061Z"
   },
   {
    "duration": 29,
    "start_time": "2023-10-18T06:26:07.066Z"
   },
   {
    "duration": 17,
    "start_time": "2023-10-18T06:26:07.097Z"
   },
   {
    "duration": 18,
    "start_time": "2023-10-18T06:26:07.115Z"
   },
   {
    "duration": 25,
    "start_time": "2023-10-18T06:26:07.135Z"
   },
   {
    "duration": 16,
    "start_time": "2023-10-18T06:26:07.161Z"
   },
   {
    "duration": 45,
    "start_time": "2023-10-18T06:26:07.178Z"
   },
   {
    "duration": 24,
    "start_time": "2023-10-18T06:26:07.225Z"
   },
   {
    "duration": 25,
    "start_time": "2023-10-18T06:26:07.250Z"
   },
   {
    "duration": 26,
    "start_time": "2023-10-18T06:26:07.277Z"
   },
   {
    "duration": 736,
    "start_time": "2023-11-06T17:46:08.017Z"
   },
   {
    "duration": 20,
    "start_time": "2023-11-06T17:46:08.755Z"
   },
   {
    "duration": 20,
    "start_time": "2023-11-06T17:46:08.777Z"
   },
   {
    "duration": 15,
    "start_time": "2023-11-06T17:46:08.799Z"
   },
   {
    "duration": 50,
    "start_time": "2023-11-06T17:46:08.815Z"
   },
   {
    "duration": 2,
    "start_time": "2023-11-06T17:46:08.867Z"
   },
   {
    "duration": 38,
    "start_time": "2023-11-06T17:46:08.871Z"
   },
   {
    "duration": 21,
    "start_time": "2023-11-06T17:46:08.910Z"
   },
   {
    "duration": 21,
    "start_time": "2023-11-06T17:46:08.933Z"
   },
   {
    "duration": 29,
    "start_time": "2023-11-06T17:46:08.957Z"
   },
   {
    "duration": 36,
    "start_time": "2023-11-06T17:46:08.988Z"
   },
   {
    "duration": 9,
    "start_time": "2023-11-06T17:46:09.026Z"
   },
   {
    "duration": 12,
    "start_time": "2023-11-06T17:46:09.037Z"
   },
   {
    "duration": 30,
    "start_time": "2023-11-06T17:46:09.051Z"
   },
   {
    "duration": 51,
    "start_time": "2023-11-06T17:46:09.083Z"
   },
   {
    "duration": 15,
    "start_time": "2023-11-06T17:46:09.135Z"
   },
   {
    "duration": 40,
    "start_time": "2023-11-06T17:46:09.152Z"
   },
   {
    "duration": 115,
    "start_time": "2023-11-06T17:46:09.193Z"
   },
   {
    "duration": 39,
    "start_time": "2023-11-06T17:46:09.309Z"
   },
   {
    "duration": 42,
    "start_time": "2023-11-06T17:46:09.349Z"
   },
   {
    "duration": 30,
    "start_time": "2023-11-06T17:46:09.392Z"
   },
   {
    "duration": 36,
    "start_time": "2023-11-06T17:46:09.424Z"
   },
   {
    "duration": 50,
    "start_time": "2023-11-06T17:46:09.462Z"
   },
   {
    "duration": 30,
    "start_time": "2023-11-06T17:46:09.514Z"
   },
   {
    "duration": 44,
    "start_time": "2023-11-06T17:46:09.546Z"
   },
   {
    "duration": 22,
    "start_time": "2023-11-06T17:46:09.591Z"
   },
   {
    "duration": 443,
    "start_time": "2023-11-06T17:46:19.961Z"
   },
   {
    "duration": 22,
    "start_time": "2023-11-06T17:46:20.406Z"
   },
   {
    "duration": 36,
    "start_time": "2023-11-06T17:46:20.430Z"
   },
   {
    "duration": 51,
    "start_time": "2023-11-06T17:46:20.468Z"
   },
   {
    "duration": 79,
    "start_time": "2023-11-06T17:46:20.521Z"
   },
   {
    "duration": 4,
    "start_time": "2023-11-06T17:46:20.601Z"
   },
   {
    "duration": 31,
    "start_time": "2023-11-06T17:46:20.606Z"
   },
   {
    "duration": 17,
    "start_time": "2023-11-06T17:46:20.638Z"
   },
   {
    "duration": 26,
    "start_time": "2023-11-06T17:46:20.656Z"
   },
   {
    "duration": 43,
    "start_time": "2023-11-06T17:46:20.684Z"
   },
   {
    "duration": 67,
    "start_time": "2023-11-06T17:46:20.729Z"
   },
   {
    "duration": 22,
    "start_time": "2023-11-06T17:46:20.797Z"
   },
   {
    "duration": 50,
    "start_time": "2023-11-06T17:46:20.820Z"
   },
   {
    "duration": 35,
    "start_time": "2023-11-06T17:46:20.872Z"
   },
   {
    "duration": 73,
    "start_time": "2023-11-06T17:46:20.909Z"
   },
   {
    "duration": 17,
    "start_time": "2023-11-06T17:46:20.984Z"
   },
   {
    "duration": 14,
    "start_time": "2023-11-06T17:46:21.003Z"
   },
   {
    "duration": 39,
    "start_time": "2023-11-06T17:46:21.019Z"
   },
   {
    "duration": 33,
    "start_time": "2023-11-06T17:46:21.060Z"
   },
   {
    "duration": 36,
    "start_time": "2023-11-06T17:46:21.095Z"
   },
   {
    "duration": 36,
    "start_time": "2023-11-06T17:46:21.133Z"
   },
   {
    "duration": 36,
    "start_time": "2023-11-06T17:46:21.171Z"
   },
   {
    "duration": 50,
    "start_time": "2023-11-06T17:46:21.208Z"
   },
   {
    "duration": 51,
    "start_time": "2023-11-06T17:46:21.259Z"
   },
   {
    "duration": 59,
    "start_time": "2023-11-06T17:46:21.312Z"
   },
   {
    "duration": 32,
    "start_time": "2023-11-06T17:46:21.373Z"
   }
  ],
  "colab": {
   "name": "dpp_template_part2.ipynb",
   "provenance": []
  },
  "kernelspec": {
   "display_name": "Python 3 (ipykernel)",
   "language": "python",
   "name": "python3"
  },
  "language_info": {
   "codemirror_mode": {
    "name": "ipython",
    "version": 3
   },
   "file_extension": ".py",
   "mimetype": "text/x-python",
   "name": "python",
   "nbconvert_exporter": "python",
   "pygments_lexer": "ipython3",
   "version": "3.9.12"
  },
  "toc": {
   "base_numbering": 1,
   "nav_menu": {},
   "number_sections": true,
   "sideBar": true,
   "skip_h1_title": true,
   "title_cell": "Table of Contents",
   "title_sidebar": "Contents",
   "toc_cell": false,
   "toc_position": {
    "height": "calc(100% - 180px)",
    "left": "10px",
    "top": "150px",
    "width": "303.391px"
   },
   "toc_section_display": true,
   "toc_window_display": true
  }
 },
 "nbformat": 4,
 "nbformat_minor": 5
}
