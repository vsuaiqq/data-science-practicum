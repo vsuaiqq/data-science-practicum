{
 "cells": [
  {
   "cell_type": "markdown",
   "metadata": {},
   "source": [
    "# Исследование объявлений о продаже квартир\n",
    "\n",
    "В вашем распоряжении данные сервиса Яндекс.Недвижимость — архив объявлений о продаже квартир в Санкт-Петербурге и соседних населённых пунктов за несколько лет. Нужно научиться определять рыночную стоимость объектов недвижимости. Ваша задача — установить параметры. Это позволит построить автоматизированную систему: она отследит аномалии и мошенническую деятельность. \n",
    "\n",
    "По каждой квартире на продажу доступны два вида данных. Первые вписаны пользователем, вторые — получены автоматически на основе картографических данных. Например, расстояние до центра, аэропорта, ближайшего парка и водоёма. "
   ]
  },
  {
   "cell_type": "markdown",
   "metadata": {},
   "source": [
    "### Откройте файл с данными и изучите общую информацию. "
   ]
  },
  {
   "cell_type": "markdown",
   "metadata": {},
   "source": [
    "Описание данных\n",
    "* `airports_nearest` — расстояние до ближайшего аэропорта в метрах (м)\n",
    "* `balcony` — число балконов\n",
    "* `ceiling_height` — высота потолков (м)\n",
    "* `cityCenters_nearest` — расстояние до центра города (м)\n",
    "* `days_exposition` — сколько дней было размещено объявление (от публикации до снятия)\n",
    "* `first_day_exposition` — дата публикации\n",
    "* `floor` — этаж\n",
    "* `floors_total` — всего этажей в доме\n",
    "* `is_apartment` — апартаменты (булев тип)\n",
    "* `kitchen_area` — площадь кухни в квадратных метрах (м²)\n",
    "* `last_price` — цена на момент снятия с публикации\n",
    "* `living_area` — жилая площадь в квадратных метрах (м²)\n",
    "* `locality_name` — название населённого пункта\n",
    "* `open_plan` — свободная планировка (булев тип)\n",
    "* `parks_around3000` — число парков в радиусе 3 км\n",
    "* `parks_nearest` — расстояние до ближайшего парка (м)\n",
    "* `ponds_around3000` — число водоёмов в радиусе 3 км\n",
    "* `ponds_nearest` — расстояние до ближайшего водоёма (м)\n",
    "* `rooms` — число комнат\n",
    "* `studio` — квартира-студия (булев тип)\n",
    "* `total_area` — общая площадь квартиры в квадратных метрах (м²)\n",
    "* `total_images` — число фотографий квартиры в объявлении\n",
    "\n",
    "План работы:\n",
    "1. Первое знакомство с данными, с которыми предстоит работать.\n",
    "2. Подготовка данных к дальнейшему анализу:\n",
    "    * Работа с пропусками\n",
    "    * Работа с дубликатами\n",
    "3. Добавление новых столбцов.\n",
    "4. Анализ данных и ответ на следующие вопросы:\n",
    "    * Какие продажи можно считать быстрыми?\n",
    "    * Какие продажи можно считать аномально долгими?\n",
    "    * Какие параметры больше всего влияют на полную стоимость квартиры?"
   ]
  },
  {
   "cell_type": "code",
   "execution_count": 1,
   "metadata": {},
   "outputs": [],
   "source": [
    "import pandas as pd\n",
    "import matplotlib.pyplot as plt\n",
    "import numpy as np"
   ]
  },
  {
   "cell_type": "code",
   "execution_count": 2,
   "metadata": {},
   "outputs": [],
   "source": [
    "try:\n",
    "    data = pd.read_csv('real_estate_data.csv', sep='\\t')\n",
    "except:\n",
    "    data = pd.read_csv('/datasets/real_estate_data.csv', sep='\\t')"
   ]
  },
  {
   "cell_type": "code",
   "execution_count": 3,
   "metadata": {},
   "outputs": [
    {
     "name": "stdout",
     "output_type": "stream",
     "text": [
      "<class 'pandas.core.frame.DataFrame'>\n",
      "RangeIndex: 23699 entries, 0 to 23698\n",
      "Data columns (total 22 columns):\n",
      " #   Column                Non-Null Count  Dtype  \n",
      "---  ------                --------------  -----  \n",
      " 0   total_images          23699 non-null  int64  \n",
      " 1   last_price            23699 non-null  float64\n",
      " 2   total_area            23699 non-null  float64\n",
      " 3   first_day_exposition  23699 non-null  object \n",
      " 4   rooms                 23699 non-null  int64  \n",
      " 5   ceiling_height        14504 non-null  float64\n",
      " 6   floors_total          23613 non-null  float64\n",
      " 7   living_area           21796 non-null  float64\n",
      " 8   floor                 23699 non-null  int64  \n",
      " 9   is_apartment          2775 non-null   object \n",
      " 10  studio                23699 non-null  bool   \n",
      " 11  open_plan             23699 non-null  bool   \n",
      " 12  kitchen_area          21421 non-null  float64\n",
      " 13  balcony               12180 non-null  float64\n",
      " 14  locality_name         23650 non-null  object \n",
      " 15  airports_nearest      18157 non-null  float64\n",
      " 16  cityCenters_nearest   18180 non-null  float64\n",
      " 17  parks_around3000      18181 non-null  float64\n",
      " 18  parks_nearest         8079 non-null   float64\n",
      " 19  ponds_around3000      18181 non-null  float64\n",
      " 20  ponds_nearest         9110 non-null   float64\n",
      " 21  days_exposition       20518 non-null  float64\n",
      "dtypes: bool(2), float64(14), int64(3), object(3)\n",
      "memory usage: 3.7+ MB\n"
     ]
    }
   ],
   "source": [
    "data.info()"
   ]
  },
  {
   "cell_type": "code",
   "execution_count": 4,
   "metadata": {},
   "outputs": [
    {
     "data": {
      "text/html": [
       "<div>\n",
       "<style scoped>\n",
       "    .dataframe tbody tr th:only-of-type {\n",
       "        vertical-align: middle;\n",
       "    }\n",
       "\n",
       "    .dataframe tbody tr th {\n",
       "        vertical-align: top;\n",
       "    }\n",
       "\n",
       "    .dataframe thead th {\n",
       "        text-align: right;\n",
       "    }\n",
       "</style>\n",
       "<table border=\"1\" class=\"dataframe\">\n",
       "  <thead>\n",
       "    <tr style=\"text-align: right;\">\n",
       "      <th></th>\n",
       "      <th>total_images</th>\n",
       "      <th>last_price</th>\n",
       "      <th>total_area</th>\n",
       "      <th>first_day_exposition</th>\n",
       "      <th>rooms</th>\n",
       "      <th>ceiling_height</th>\n",
       "      <th>floors_total</th>\n",
       "      <th>living_area</th>\n",
       "      <th>floor</th>\n",
       "      <th>is_apartment</th>\n",
       "      <th>...</th>\n",
       "      <th>kitchen_area</th>\n",
       "      <th>balcony</th>\n",
       "      <th>locality_name</th>\n",
       "      <th>airports_nearest</th>\n",
       "      <th>cityCenters_nearest</th>\n",
       "      <th>parks_around3000</th>\n",
       "      <th>parks_nearest</th>\n",
       "      <th>ponds_around3000</th>\n",
       "      <th>ponds_nearest</th>\n",
       "      <th>days_exposition</th>\n",
       "    </tr>\n",
       "  </thead>\n",
       "  <tbody>\n",
       "    <tr>\n",
       "      <th>0</th>\n",
       "      <td>20</td>\n",
       "      <td>13000000.0</td>\n",
       "      <td>108.0</td>\n",
       "      <td>2019-03-07T00:00:00</td>\n",
       "      <td>3</td>\n",
       "      <td>2.70</td>\n",
       "      <td>16.0</td>\n",
       "      <td>51.0</td>\n",
       "      <td>8</td>\n",
       "      <td>NaN</td>\n",
       "      <td>...</td>\n",
       "      <td>25.0</td>\n",
       "      <td>NaN</td>\n",
       "      <td>Санкт-Петербург</td>\n",
       "      <td>18863.0</td>\n",
       "      <td>16028.0</td>\n",
       "      <td>1.0</td>\n",
       "      <td>482.0</td>\n",
       "      <td>2.0</td>\n",
       "      <td>755.0</td>\n",
       "      <td>NaN</td>\n",
       "    </tr>\n",
       "    <tr>\n",
       "      <th>1</th>\n",
       "      <td>7</td>\n",
       "      <td>3350000.0</td>\n",
       "      <td>40.4</td>\n",
       "      <td>2018-12-04T00:00:00</td>\n",
       "      <td>1</td>\n",
       "      <td>NaN</td>\n",
       "      <td>11.0</td>\n",
       "      <td>18.6</td>\n",
       "      <td>1</td>\n",
       "      <td>NaN</td>\n",
       "      <td>...</td>\n",
       "      <td>11.0</td>\n",
       "      <td>2.0</td>\n",
       "      <td>посёлок Шушары</td>\n",
       "      <td>12817.0</td>\n",
       "      <td>18603.0</td>\n",
       "      <td>0.0</td>\n",
       "      <td>NaN</td>\n",
       "      <td>0.0</td>\n",
       "      <td>NaN</td>\n",
       "      <td>81.0</td>\n",
       "    </tr>\n",
       "    <tr>\n",
       "      <th>2</th>\n",
       "      <td>10</td>\n",
       "      <td>5196000.0</td>\n",
       "      <td>56.0</td>\n",
       "      <td>2015-08-20T00:00:00</td>\n",
       "      <td>2</td>\n",
       "      <td>NaN</td>\n",
       "      <td>5.0</td>\n",
       "      <td>34.3</td>\n",
       "      <td>4</td>\n",
       "      <td>NaN</td>\n",
       "      <td>...</td>\n",
       "      <td>8.3</td>\n",
       "      <td>0.0</td>\n",
       "      <td>Санкт-Петербург</td>\n",
       "      <td>21741.0</td>\n",
       "      <td>13933.0</td>\n",
       "      <td>1.0</td>\n",
       "      <td>90.0</td>\n",
       "      <td>2.0</td>\n",
       "      <td>574.0</td>\n",
       "      <td>558.0</td>\n",
       "    </tr>\n",
       "    <tr>\n",
       "      <th>3</th>\n",
       "      <td>0</td>\n",
       "      <td>64900000.0</td>\n",
       "      <td>159.0</td>\n",
       "      <td>2015-07-24T00:00:00</td>\n",
       "      <td>3</td>\n",
       "      <td>NaN</td>\n",
       "      <td>14.0</td>\n",
       "      <td>NaN</td>\n",
       "      <td>9</td>\n",
       "      <td>NaN</td>\n",
       "      <td>...</td>\n",
       "      <td>NaN</td>\n",
       "      <td>0.0</td>\n",
       "      <td>Санкт-Петербург</td>\n",
       "      <td>28098.0</td>\n",
       "      <td>6800.0</td>\n",
       "      <td>2.0</td>\n",
       "      <td>84.0</td>\n",
       "      <td>3.0</td>\n",
       "      <td>234.0</td>\n",
       "      <td>424.0</td>\n",
       "    </tr>\n",
       "    <tr>\n",
       "      <th>4</th>\n",
       "      <td>2</td>\n",
       "      <td>10000000.0</td>\n",
       "      <td>100.0</td>\n",
       "      <td>2018-06-19T00:00:00</td>\n",
       "      <td>2</td>\n",
       "      <td>3.03</td>\n",
       "      <td>14.0</td>\n",
       "      <td>32.0</td>\n",
       "      <td>13</td>\n",
       "      <td>NaN</td>\n",
       "      <td>...</td>\n",
       "      <td>41.0</td>\n",
       "      <td>NaN</td>\n",
       "      <td>Санкт-Петербург</td>\n",
       "      <td>31856.0</td>\n",
       "      <td>8098.0</td>\n",
       "      <td>2.0</td>\n",
       "      <td>112.0</td>\n",
       "      <td>1.0</td>\n",
       "      <td>48.0</td>\n",
       "      <td>121.0</td>\n",
       "    </tr>\n",
       "  </tbody>\n",
       "</table>\n",
       "<p>5 rows × 22 columns</p>\n",
       "</div>"
      ],
      "text/plain": [
       "   total_images  last_price  total_area first_day_exposition  rooms  \\\n",
       "0            20  13000000.0       108.0  2019-03-07T00:00:00      3   \n",
       "1             7   3350000.0        40.4  2018-12-04T00:00:00      1   \n",
       "2            10   5196000.0        56.0  2015-08-20T00:00:00      2   \n",
       "3             0  64900000.0       159.0  2015-07-24T00:00:00      3   \n",
       "4             2  10000000.0       100.0  2018-06-19T00:00:00      2   \n",
       "\n",
       "   ceiling_height  floors_total  living_area  floor is_apartment  ...  \\\n",
       "0            2.70          16.0         51.0      8          NaN  ...   \n",
       "1             NaN          11.0         18.6      1          NaN  ...   \n",
       "2             NaN           5.0         34.3      4          NaN  ...   \n",
       "3             NaN          14.0          NaN      9          NaN  ...   \n",
       "4            3.03          14.0         32.0     13          NaN  ...   \n",
       "\n",
       "   kitchen_area  balcony    locality_name  airports_nearest  \\\n",
       "0          25.0      NaN  Санкт-Петербург           18863.0   \n",
       "1          11.0      2.0   посёлок Шушары           12817.0   \n",
       "2           8.3      0.0  Санкт-Петербург           21741.0   \n",
       "3           NaN      0.0  Санкт-Петербург           28098.0   \n",
       "4          41.0      NaN  Санкт-Петербург           31856.0   \n",
       "\n",
       "  cityCenters_nearest  parks_around3000  parks_nearest  ponds_around3000  \\\n",
       "0             16028.0               1.0          482.0               2.0   \n",
       "1             18603.0               0.0            NaN               0.0   \n",
       "2             13933.0               1.0           90.0               2.0   \n",
       "3              6800.0               2.0           84.0               3.0   \n",
       "4              8098.0               2.0          112.0               1.0   \n",
       "\n",
       "   ponds_nearest  days_exposition  \n",
       "0          755.0              NaN  \n",
       "1            NaN             81.0  \n",
       "2          574.0            558.0  \n",
       "3          234.0            424.0  \n",
       "4           48.0            121.0  \n",
       "\n",
       "[5 rows x 22 columns]"
      ]
     },
     "execution_count": 4,
     "metadata": {},
     "output_type": "execute_result"
    }
   ],
   "source": [
    "data.head()"
   ]
  },
  {
   "cell_type": "code",
   "execution_count": 5,
   "metadata": {},
   "outputs": [
    {
     "data": {
      "image/png": "[encoded data removed]",
      "text/plain": [
       "<Figure size 1080x1440 with 20 Axes>"
      ]
     },
     "metadata": {
      "needs_background": "light"
     },
     "output_type": "display_data"
    }
   ],
   "source": [
    "data.hist(figsize=(15,20))\n",
    "plt.show()"
   ]
  },
  {
   "cell_type": "markdown",
   "metadata": {},
   "source": [
    "Исходя из выводов выше сразу можно сказать, что во многих столбцах есть пропуски. Скорее всего есть проблемы с типами данных в некоторых столбцах. В некоторых столбцах есть значения, заметно отличающиеся от остальных. В таком виде данные не готовы к дальнейшему анализу."
   ]
  },
  {
   "cell_type": "markdown",
   "metadata": {},
   "source": [
    "### Предобработка данных"
   ]
  },
  {
   "cell_type": "markdown",
   "metadata": {},
   "source": [
    "На этапе предобработки данных выполним следующие шаги:\n",
    "* По возможности избавимся от пропущенных значений.\n",
    "* Приведём данные в столбцах к правильным типам, если это необходимо.\n",
    "* Устраним дубликаты."
   ]
  },
  {
   "cell_type": "code",
   "execution_count": 6,
   "metadata": {},
   "outputs": [
    {
     "data": {
      "text/plain": [
       "total_images                0\n",
       "last_price                  0\n",
       "total_area                  0\n",
       "first_day_exposition        0\n",
       "rooms                       0\n",
       "ceiling_height           9195\n",
       "floors_total               86\n",
       "living_area              1903\n",
       "floor                       0\n",
       "is_apartment            20924\n",
       "studio                      0\n",
       "open_plan                   0\n",
       "kitchen_area             2278\n",
       "balcony                 11519\n",
       "locality_name              49\n",
       "airports_nearest         5542\n",
       "cityCenters_nearest      5519\n",
       "parks_around3000         5518\n",
       "parks_nearest           15620\n",
       "ponds_around3000         5518\n",
       "ponds_nearest           14589\n",
       "days_exposition          3181\n",
       "dtype: int64"
      ]
     },
     "execution_count": 6,
     "metadata": {},
     "output_type": "execute_result"
    }
   ],
   "source": [
    "data.isna().sum()"
   ]
  },
  {
   "cell_type": "markdown",
   "metadata": {},
   "source": [
    "Обнаружены пропуски в следующих столбцах: `ceiling_height`, `floors_total`, `living_area`, `is_apartment`, `kitchen_area`, `balcony`, `locality_name`, `airports_nearest`, `cityCenters_nearest`, `parks_around3000`, `parks_nearest`, `ponds_around3000`, `ponds_nearest`, `days_exposition`."
   ]
  },
  {
   "cell_type": "markdown",
   "metadata": {},
   "source": [
    "Сразу заметим неправильное именование столбца `cityCenters_nearest` (одновременно используются \"snake_case\" и \"camelCase\"). Исправим это."
   ]
  },
  {
   "cell_type": "code",
   "execution_count": 7,
   "metadata": {},
   "outputs": [
    {
     "data": {
      "text/plain": [
       "Index(['total_images', 'last_price', 'total_area', 'first_day_exposition',\n",
       "       'rooms', 'ceiling_height', 'floors_total', 'living_area', 'floor',\n",
       "       'is_apartment', 'studio', 'open_plan', 'kitchen_area', 'balcony',\n",
       "       'locality_name', 'airports_nearest', 'city_centers_nearest',\n",
       "       'parks_around3000', 'parks_nearest', 'ponds_around3000',\n",
       "       'ponds_nearest', 'days_exposition'],\n",
       "      dtype='object')"
      ]
     },
     "execution_count": 7,
     "metadata": {},
     "output_type": "execute_result"
    }
   ],
   "source": [
    "data = data.rename(columns={'cityCenters_nearest': 'city_centers_nearest'})\n",
    "data.columns"
   ]
  },
  {
   "cell_type": "markdown",
   "metadata": {},
   "source": [
    "Заполним пропуски в столбцах `balcony` и `is_apartment` нулями. Вероятно, причина их появления в `balcony` - отсутствие балконов в соответствующих квартирах. Для `is_apartment` причина может быть в том, что квартиры не являются апартаментами."
   ]
  },
  {
   "cell_type": "code",
   "execution_count": 8,
   "metadata": {},
   "outputs": [],
   "source": [
    "data['balcony'] = data['balcony'].fillna(0)\n",
    "data['is_apartment'] = data['is_apartment'].fillna(0)"
   ]
  },
  {
   "cell_type": "markdown",
   "metadata": {},
   "source": [
    "Пропуски в столбце `locality_name` можно удалить без потерь в данных, так как их число очень мало (всего 49)."
   ]
  },
  {
   "cell_type": "code",
   "execution_count": 9,
   "metadata": {},
   "outputs": [],
   "source": [
    "data = data.dropna(subset=['locality_name'])"
   ]
  },
  {
   "cell_type": "code",
   "execution_count": 10,
   "metadata": {},
   "outputs": [
    {
     "data": {
      "text/plain": [
       "total_images                0\n",
       "last_price                  0\n",
       "total_area                  0\n",
       "first_day_exposition        0\n",
       "rooms                       0\n",
       "ceiling_height           9160\n",
       "floors_total               85\n",
       "living_area              1898\n",
       "floor                       0\n",
       "is_apartment                0\n",
       "studio                      0\n",
       "open_plan                   0\n",
       "kitchen_area             2269\n",
       "balcony                     0\n",
       "locality_name               0\n",
       "airports_nearest         5534\n",
       "city_centers_nearest     5511\n",
       "parks_around3000         5510\n",
       "parks_nearest           15586\n",
       "ponds_around3000         5510\n",
       "ponds_nearest           14565\n",
       "days_exposition          3180\n",
       "dtype: int64"
      ]
     },
     "execution_count": 10,
     "metadata": {},
     "output_type": "execute_result"
    }
   ],
   "source": [
    "data.isna().sum()"
   ]
  },
  {
   "cell_type": "code",
   "execution_count": 11,
   "metadata": {},
   "outputs": [
    {
     "data": {
      "text/plain": [
       "total_images              int64\n",
       "last_price              float64\n",
       "total_area              float64\n",
       "first_day_exposition     object\n",
       "rooms                     int64\n",
       "ceiling_height          float64\n",
       "floors_total            float64\n",
       "living_area             float64\n",
       "floor                     int64\n",
       "is_apartment             object\n",
       "studio                     bool\n",
       "open_plan                  bool\n",
       "kitchen_area            float64\n",
       "balcony                 float64\n",
       "locality_name            object\n",
       "airports_nearest        float64\n",
       "city_centers_nearest    float64\n",
       "parks_around3000        float64\n",
       "parks_nearest           float64\n",
       "ponds_around3000        float64\n",
       "ponds_nearest           float64\n",
       "days_exposition         float64\n",
       "dtype: object"
      ]
     },
     "execution_count": 11,
     "metadata": {},
     "output_type": "execute_result"
    }
   ],
   "source": [
    "data.dtypes"
   ]
  },
  {
   "cell_type": "markdown",
   "metadata": {},
   "source": [
    "Заметим, что столбцы `is_apartment` и `first_day_exposition` имеет неверные типы.<br>\n",
    "Приведём `is_apartment` к типу `bool`, а `first_day_exposition` к типу `datetime`"
   ]
  },
  {
   "cell_type": "code",
   "execution_count": 12,
   "metadata": {},
   "outputs": [],
   "source": [
    "data['is_apartment'] = data['is_apartment'].astype('bool')\n",
    "data['first_day_exposition'] = pd.to_datetime(data['first_day_exposition'], format=\"%Y-%m-%dT%H:%M:%S\")"
   ]
  },
  {
   "cell_type": "code",
   "execution_count": 13,
   "metadata": {
    "scrolled": false
   },
   "outputs": [
    {
     "data": {
      "text/plain": [
       "total_images                     int64\n",
       "last_price                     float64\n",
       "total_area                     float64\n",
       "first_day_exposition    datetime64[ns]\n",
       "rooms                            int64\n",
       "ceiling_height                 float64\n",
       "floors_total                   float64\n",
       "living_area                    float64\n",
       "floor                            int64\n",
       "is_apartment                      bool\n",
       "studio                            bool\n",
       "open_plan                         bool\n",
       "kitchen_area                   float64\n",
       "balcony                        float64\n",
       "locality_name                   object\n",
       "airports_nearest               float64\n",
       "city_centers_nearest           float64\n",
       "parks_around3000               float64\n",
       "parks_nearest                  float64\n",
       "ponds_around3000               float64\n",
       "ponds_nearest                  float64\n",
       "days_exposition                float64\n",
       "dtype: object"
      ]
     },
     "execution_count": 13,
     "metadata": {},
     "output_type": "execute_result"
    }
   ],
   "source": [
    "data.dtypes"
   ]
  },
  {
   "cell_type": "code",
   "execution_count": 14,
   "metadata": {},
   "outputs": [
    {
     "data": {
      "text/plain": [
       "0"
      ]
     },
     "execution_count": 14,
     "metadata": {},
     "output_type": "execute_result"
    }
   ],
   "source": [
    "data.duplicated().sum()"
   ]
  },
  {
   "cell_type": "markdown",
   "metadata": {},
   "source": [
    "Явные дубликаты в данных отсутствуют."
   ]
  },
  {
   "cell_type": "code",
   "execution_count": 15,
   "metadata": {
    "scrolled": true
   },
   "outputs": [
    {
     "data": {
      "text/plain": [
       "array(['Санкт-Петербург', 'посёлок Шушары', 'городской посёлок Янино-1',\n",
       "       'посёлок Парголово', 'посёлок Мурино', 'Ломоносов', 'Сертолово',\n",
       "       'Петергоф', 'Пушкин', 'деревня Кудрово', 'Коммунар', 'Колпино',\n",
       "       'поселок городского типа Красный Бор', 'Гатчина', 'поселок Мурино',\n",
       "       'деревня Фёдоровское', 'Выборг', 'Кронштадт', 'Кировск',\n",
       "       'деревня Новое Девяткино', 'посёлок Металлострой',\n",
       "       'посёлок городского типа Лебяжье',\n",
       "       'посёлок городского типа Сиверский', 'поселок Молодцово',\n",
       "       'поселок городского типа Кузьмоловский',\n",
       "       'садовое товарищество Новая Ропша', 'Павловск',\n",
       "       'деревня Пикколово', 'Всеволожск', 'Волхов', 'Кингисепп',\n",
       "       'Приозерск', 'Сестрорецк', 'деревня Куттузи', 'посёлок Аннино',\n",
       "       'поселок городского типа Ефимовский', 'посёлок Плодовое',\n",
       "       'деревня Заклинье', 'поселок Торковичи', 'поселок Первомайское',\n",
       "       'Красное Село', 'посёлок Понтонный', 'Сясьстрой', 'деревня Старая',\n",
       "       'деревня Лесколово', 'посёлок Новый Свет', 'Сланцы',\n",
       "       'село Путилово', 'Ивангород', 'Мурино', 'Шлиссельбург',\n",
       "       'Никольское', 'Зеленогорск', 'Сосновый Бор', 'поселок Новый Свет',\n",
       "       'деревня Оржицы', 'деревня Кальтино', 'Кудрово',\n",
       "       'поселок Романовка', 'посёлок Бугры', 'поселок Бугры',\n",
       "       'поселок городского типа Рощино', 'Кириши', 'Луга', 'Волосово',\n",
       "       'Отрадное', 'село Павлово', 'поселок Оредеж', 'село Копорье',\n",
       "       'посёлок городского типа Красный Бор', 'посёлок Молодёжное',\n",
       "       'Тихвин', 'посёлок Победа', 'деревня Нурма',\n",
       "       'поселок городского типа Синявино', 'Тосно',\n",
       "       'посёлок городского типа Кузьмоловский', 'посёлок Стрельна',\n",
       "       'Бокситогорск', 'посёлок Александровская', 'деревня Лопухинка',\n",
       "       'Пикалёво', 'поселок Терволово',\n",
       "       'поселок городского типа Советский', 'Подпорожье',\n",
       "       'посёлок Петровское', 'посёлок городского типа Токсово',\n",
       "       'поселок Сельцо', 'посёлок городского типа Вырица',\n",
       "       'деревня Кипень', 'деревня Келози', 'деревня Вартемяги',\n",
       "       'посёлок Тельмана', 'поселок Севастьяново',\n",
       "       'городской поселок Большая Ижора', 'городской посёлок Павлово',\n",
       "       'деревня Агалатово', 'посёлок Новогорелово',\n",
       "       'городской посёлок Лесогорский', 'деревня Лаголово',\n",
       "       'поселок Цвелодубово', 'поселок городского типа Рахья',\n",
       "       'поселок городского типа Вырица', 'деревня Белогорка',\n",
       "       'поселок Заводской', 'городской посёлок Новоселье',\n",
       "       'деревня Большие Колпаны', 'деревня Горбунки', 'деревня Батово',\n",
       "       'деревня Заневка', 'деревня Иссад', 'Приморск',\n",
       "       'городской посёлок Фёдоровское', 'деревня Мистолово',\n",
       "       'Новая Ладога', 'поселок Зимитицы', 'поселок Барышево',\n",
       "       'деревня Разметелево', 'поселок городского типа имени Свердлова',\n",
       "       'деревня Пеники', 'поселок Рябово', 'деревня Пудомяги',\n",
       "       'поселок станции Корнево', 'деревня Низино', 'деревня Бегуницы',\n",
       "       'посёлок Поляны', 'городской посёлок Мга', 'поселок Елизаветино',\n",
       "       'посёлок городского типа Кузнечное', 'деревня Колтуши',\n",
       "       'поселок Запорожское', 'посёлок городского типа Рощино',\n",
       "       'деревня Гостилицы', 'деревня Малое Карлино',\n",
       "       'посёлок Мичуринское', 'посёлок городского типа имени Морозова',\n",
       "       'посёлок Песочный', 'посёлок Сосново', 'деревня Аро',\n",
       "       'поселок Ильичёво', 'посёлок городского типа Тайцы',\n",
       "       'деревня Малое Верево', 'деревня Извара', 'поселок станции Вещево',\n",
       "       'село Паша', 'деревня Калитино',\n",
       "       'посёлок городского типа Ульяновка', 'деревня Чудской Бор',\n",
       "       'поселок городского типа Дубровка', 'деревня Мины',\n",
       "       'поселок Войсковицы', 'посёлок городского типа имени Свердлова',\n",
       "       'деревня Коркино', 'посёлок Ропша',\n",
       "       'поселок городского типа Приладожский', 'посёлок Щеглово',\n",
       "       'посёлок Гаврилово', 'Лодейное Поле', 'деревня Рабитицы',\n",
       "       'поселок городского типа Никольский', 'деревня Кузьмолово',\n",
       "       'деревня Малые Колпаны', 'поселок Тельмана',\n",
       "       'посёлок Петро-Славянка', 'городской посёлок Назия',\n",
       "       'посёлок Репино', 'посёлок Ильичёво', 'поселок Углово',\n",
       "       'поселок Старая Малукса', 'садовое товарищество Рахья',\n",
       "       'поселок Аннино', 'поселок Победа', 'деревня Меньково',\n",
       "       'деревня Старые Бегуницы', 'посёлок Сапёрный', 'поселок Семрино',\n",
       "       'поселок Гаврилово', 'поселок Глажево', 'поселок Кобринское',\n",
       "       'деревня Гарболово', 'деревня Юкки',\n",
       "       'поселок станции Приветнинское', 'деревня Мануйлово',\n",
       "       'деревня Пчева', 'поселок Поляны', 'поселок Цвылёво',\n",
       "       'поселок Мельниково', 'посёлок Пудость', 'посёлок Усть-Луга',\n",
       "       'Светогорск', 'Любань', 'поселок Селезнёво',\n",
       "       'поселок городского типа Рябово', 'Каменногорск', 'деревня Кривко',\n",
       "       'поселок Глебычево', 'деревня Парицы', 'поселок Жилпосёлок',\n",
       "       'посёлок городского типа Мга', 'городской поселок Янино-1',\n",
       "       'посёлок Войскорово', 'село Никольское', 'посёлок Терволово',\n",
       "       'поселок Стеклянный', 'посёлок городского типа Важины',\n",
       "       'посёлок Мыза-Ивановка', 'село Русско-Высоцкое',\n",
       "       'поселок городского типа Лебяжье',\n",
       "       'поселок городского типа Форносово', 'село Старая Ладога',\n",
       "       'поселок Житково', 'городской посёлок Виллози', 'деревня Лампово',\n",
       "       'деревня Шпаньково', 'деревня Лаврики', 'посёлок Сумино',\n",
       "       'посёлок Возрождение', 'деревня Старосиверская',\n",
       "       'посёлок Кикерино', 'поселок Возрождение',\n",
       "       'деревня Старое Хинколово', 'посёлок Пригородный',\n",
       "       'посёлок Торфяное', 'городской посёлок Будогощь',\n",
       "       'поселок Суходолье', 'поселок Красная Долина', 'деревня Хапо-Ое',\n",
       "       'поселок городского типа Дружная Горка', 'поселок Лисий Нос',\n",
       "       'деревня Яльгелево', 'посёлок Стеклянный', 'село Рождествено',\n",
       "       'деревня Старополье', 'посёлок Левашово', 'деревня Сяськелево',\n",
       "       'деревня Камышовка',\n",
       "       'садоводческое некоммерческое товарищество Лесная Поляна',\n",
       "       'деревня Хязельки', 'поселок Жилгородок',\n",
       "       'посёлок городского типа Павлово', 'деревня Ялгино',\n",
       "       'поселок Новый Учхоз', 'городской посёлок Рощино',\n",
       "       'поселок Гончарово', 'поселок Почап', 'посёлок Сапёрное',\n",
       "       'посёлок Платформа 69-й километр', 'поселок Каложицы',\n",
       "       'деревня Фалилеево', 'деревня Пельгора',\n",
       "       'поселок городского типа Лесогорский', 'деревня Торошковичи',\n",
       "       'посёлок Белоостров', 'посёлок Алексеевка', 'поселок Серебрянский',\n",
       "       'поселок Лукаши', 'поселок Петровское', 'деревня Щеглово',\n",
       "       'поселок Мичуринское', 'деревня Тарасово', 'поселок Кингисеппский',\n",
       "       'посёлок при железнодорожной станции Вещево', 'поселок Ушаки',\n",
       "       'деревня Котлы', 'деревня Сижно', 'деревня Торосово',\n",
       "       'посёлок Форт Красная Горка', 'поселок городского типа Токсово',\n",
       "       'деревня Новолисино', 'посёлок станции Громово', 'деревня Глинка',\n",
       "       'посёлок Мельниково', 'поселок городского типа Назия',\n",
       "       'деревня Старая Пустошь', 'поселок Коммунары', 'поселок Починок',\n",
       "       'посёлок городского типа Вознесенье', 'деревня Разбегаево',\n",
       "       'посёлок городского типа Рябово', 'поселок Гладкое',\n",
       "       'посёлок при железнодорожной станции Приветнинское',\n",
       "       'поселок Тёсово-4', 'посёлок Жилгородок', 'деревня Бор',\n",
       "       'посёлок Коробицыно', 'деревня Большая Вруда', 'деревня Курковицы',\n",
       "       'посёлок Лисий Нос', 'городской посёлок Советский',\n",
       "       'посёлок Кобралово', 'деревня Суоранда', 'поселок Кобралово',\n",
       "       'поселок городского типа Кондратьево',\n",
       "       'коттеджный поселок Счастье', 'поселок Любань', 'деревня Реброво',\n",
       "       'деревня Зимитицы', 'деревня Тойворово', 'поселок Семиозерье',\n",
       "       'поселок Лесное', 'поселок Совхозный', 'поселок Усть-Луга',\n",
       "       'посёлок Ленинское', 'посёлок Суйда',\n",
       "       'посёлок городского типа Форносово', 'деревня Нижние Осельки',\n",
       "       'посёлок станции Свирь', 'поселок Перово', 'Высоцк',\n",
       "       'поселок Гарболово', 'село Шум', 'поселок Котельский',\n",
       "       'поселок станции Лужайка', 'деревня Большая Пустомержа',\n",
       "       'поселок Красносельское', 'деревня Вахнова Кара', 'деревня Пижма',\n",
       "       'коттеджный поселок Кивеннапа Север', 'поселок Коробицыно',\n",
       "       'поселок Ромашки', 'посёлок Перово', 'деревня Каськово',\n",
       "       'деревня Куровицы', 'посёлок Плоское', 'поселок Сумино',\n",
       "       'поселок городского типа Большая Ижора', 'поселок Кирпичное',\n",
       "       'деревня Ям-Тесово', 'деревня Раздолье', 'деревня Терпилицы',\n",
       "       'посёлок Шугозеро', 'деревня Ваганово', 'поселок Пушное',\n",
       "       'садовое товарищество Садко', 'посёлок Усть-Ижора',\n",
       "       'деревня Выскатка', 'городской посёлок Свирьстрой',\n",
       "       'поселок Громово', 'деревня Кисельня', 'посёлок Старая Малукса',\n",
       "       'деревня Трубников Бор', 'поселок Калитино',\n",
       "       'посёлок Высокоключевой', 'садовое товарищество Приладожский',\n",
       "       'посёлок Пансионат Зелёный Бор', 'деревня Ненимяки',\n",
       "       'поселок Пансионат Зелёный Бор', 'деревня Снегирёвка',\n",
       "       'деревня Рапполово', 'деревня Пустынка', 'поселок Рабитицы',\n",
       "       'деревня Большой Сабск', 'деревня Русско', 'деревня Лупполово',\n",
       "       'деревня Большое Рейзино', 'деревня Малая Романовка',\n",
       "       'поселок Дружноселье', 'поселок Пчевжа', 'поселок Володарское',\n",
       "       'деревня Нижняя', 'коттеджный посёлок Лесное', 'деревня Тихковицы',\n",
       "       'деревня Борисова Грива', 'посёлок Дзержинского'], dtype=object)"
      ]
     },
     "execution_count": 15,
     "metadata": {},
     "output_type": "execute_result"
    }
   ],
   "source": [
    "data['locality_name'].unique()"
   ]
  },
  {
   "cell_type": "markdown",
   "metadata": {},
   "source": [
    "В списке уникальных значений столбца с названиями населённых пунктов \"посёлок\" и \"поселок\" - неявные дубликаты, отличающиеся одной буквой. Заменим второй вариант на первый."
   ]
  },
  {
   "cell_type": "code",
   "execution_count": 16,
   "metadata": {
    "scrolled": true
   },
   "outputs": [
    {
     "data": {
      "text/plain": [
       "array(['Санкт-Петербург', 'посёлок Шушары', 'городской посёлок Янино-1',\n",
       "       'посёлок Парголово', 'посёлок Мурино', 'Ломоносов', 'Сертолово',\n",
       "       'Петергоф', 'Пушкин', 'деревня Кудрово', 'Коммунар', 'Колпино',\n",
       "       'посёлок городского типа Красный Бор', 'Гатчина',\n",
       "       'деревня Фёдоровское', 'Выборг', 'Кронштадт', 'Кировск',\n",
       "       'деревня Новое Девяткино', 'посёлок Металлострой',\n",
       "       'посёлок городского типа Лебяжье',\n",
       "       'посёлок городского типа Сиверский', 'посёлок Молодцово',\n",
       "       'посёлок городского типа Кузьмоловский',\n",
       "       'садовое товарищество Новая Ропша', 'Павловск',\n",
       "       'деревня Пикколово', 'Всеволожск', 'Волхов', 'Кингисепп',\n",
       "       'Приозерск', 'Сестрорецк', 'деревня Куттузи', 'посёлок Аннино',\n",
       "       'посёлок городского типа Ефимовский', 'посёлок Плодовое',\n",
       "       'деревня Заклинье', 'посёлок Торковичи', 'посёлок Первомайское',\n",
       "       'Красное Село', 'посёлок Понтонный', 'Сясьстрой', 'деревня Старая',\n",
       "       'деревня Лесколово', 'посёлок Новый Свет', 'Сланцы',\n",
       "       'село Путилово', 'Ивангород', 'Мурино', 'Шлиссельбург',\n",
       "       'Никольское', 'Зеленогорск', 'Сосновый Бор', 'деревня Оржицы',\n",
       "       'деревня Кальтино', 'Кудрово', 'посёлок Романовка',\n",
       "       'посёлок Бугры', 'посёлок городского типа Рощино', 'Кириши',\n",
       "       'Луга', 'Волосово', 'Отрадное', 'село Павлово', 'посёлок Оредеж',\n",
       "       'село Копорье', 'посёлок Молодёжное', 'Тихвин', 'посёлок Победа',\n",
       "       'деревня Нурма', 'посёлок городского типа Синявино', 'Тосно',\n",
       "       'посёлок Стрельна', 'Бокситогорск', 'посёлок Александровская',\n",
       "       'деревня Лопухинка', 'Пикалёво', 'посёлок Терволово',\n",
       "       'посёлок городского типа Советский', 'Подпорожье',\n",
       "       'посёлок Петровское', 'посёлок городского типа Токсово',\n",
       "       'посёлок Сельцо', 'посёлок городского типа Вырица',\n",
       "       'деревня Кипень', 'деревня Келози', 'деревня Вартемяги',\n",
       "       'посёлок Тельмана', 'посёлок Севастьяново',\n",
       "       'городской посёлок Большая Ижора', 'городской посёлок Павлово',\n",
       "       'деревня Агалатово', 'посёлок Новогорелово',\n",
       "       'городской посёлок Лесогорский', 'деревня Лаголово',\n",
       "       'посёлок Цвелодубово', 'посёлок городского типа Рахья',\n",
       "       'деревня Белогорка', 'посёлок Заводской',\n",
       "       'городской посёлок Новоселье', 'деревня Большие Колпаны',\n",
       "       'деревня Горбунки', 'деревня Батово', 'деревня Заневка',\n",
       "       'деревня Иссад', 'Приморск', 'городской посёлок Фёдоровское',\n",
       "       'деревня Мистолово', 'Новая Ладога', 'посёлок Зимитицы',\n",
       "       'посёлок Барышево', 'деревня Разметелево',\n",
       "       'посёлок городского типа имени Свердлова', 'деревня Пеники',\n",
       "       'посёлок Рябово', 'деревня Пудомяги', 'посёлок станции Корнево',\n",
       "       'деревня Низино', 'деревня Бегуницы', 'посёлок Поляны',\n",
       "       'городской посёлок Мга', 'посёлок Елизаветино',\n",
       "       'посёлок городского типа Кузнечное', 'деревня Колтуши',\n",
       "       'посёлок Запорожское', 'деревня Гостилицы',\n",
       "       'деревня Малое Карлино', 'посёлок Мичуринское',\n",
       "       'посёлок городского типа имени Морозова', 'посёлок Песочный',\n",
       "       'посёлок Сосново', 'деревня Аро', 'посёлок Ильичёво',\n",
       "       'посёлок городского типа Тайцы', 'деревня Малое Верево',\n",
       "       'деревня Извара', 'посёлок станции Вещево', 'село Паша',\n",
       "       'деревня Калитино', 'посёлок городского типа Ульяновка',\n",
       "       'деревня Чудской Бор', 'посёлок городского типа Дубровка',\n",
       "       'деревня Мины', 'посёлок Войсковицы', 'деревня Коркино',\n",
       "       'посёлок Ропша', 'посёлок городского типа Приладожский',\n",
       "       'посёлок Щеглово', 'посёлок Гаврилово', 'Лодейное Поле',\n",
       "       'деревня Рабитицы', 'посёлок городского типа Никольский',\n",
       "       'деревня Кузьмолово', 'деревня Малые Колпаны',\n",
       "       'посёлок Петро-Славянка', 'городской посёлок Назия',\n",
       "       'посёлок Репино', 'посёлок Углово', 'посёлок Старая Малукса',\n",
       "       'садовое товарищество Рахья', 'деревня Меньково',\n",
       "       'деревня Старые Бегуницы', 'посёлок Сапёрный', 'посёлок Семрино',\n",
       "       'посёлок Глажево', 'посёлок Кобринское', 'деревня Гарболово',\n",
       "       'деревня Юкки', 'посёлок станции Приветнинское',\n",
       "       'деревня Мануйлово', 'деревня Пчева', 'посёлок Цвылёво',\n",
       "       'посёлок Мельниково', 'посёлок Пудость', 'посёлок Усть-Луга',\n",
       "       'Светогорск', 'Любань', 'посёлок Селезнёво',\n",
       "       'посёлок городского типа Рябово', 'Каменногорск', 'деревня Кривко',\n",
       "       'посёлок Глебычево', 'деревня Парицы', 'посёлок Жилпосёлок',\n",
       "       'посёлок городского типа Мга', 'посёлок Войскорово',\n",
       "       'село Никольское', 'посёлок Стеклянный',\n",
       "       'посёлок городского типа Важины', 'посёлок Мыза-Ивановка',\n",
       "       'село Русско-Высоцкое', 'посёлок городского типа Форносово',\n",
       "       'село Старая Ладога', 'посёлок Житково',\n",
       "       'городской посёлок Виллози', 'деревня Лампово',\n",
       "       'деревня Шпаньково', 'деревня Лаврики', 'посёлок Сумино',\n",
       "       'посёлок Возрождение', 'деревня Старосиверская',\n",
       "       'посёлок Кикерино', 'деревня Старое Хинколово',\n",
       "       'посёлок Пригородный', 'посёлок Торфяное',\n",
       "       'городской посёлок Будогощь', 'посёлок Суходолье',\n",
       "       'посёлок Красная Долина', 'деревня Хапо-Ое',\n",
       "       'посёлок городского типа Дружная Горка', 'посёлок Лисий Нос',\n",
       "       'деревня Яльгелево', 'село Рождествено', 'деревня Старополье',\n",
       "       'посёлок Левашово', 'деревня Сяськелево', 'деревня Камышовка',\n",
       "       'садоводческое некоммерческое товарищество Лесная Поляна',\n",
       "       'деревня Хязельки', 'посёлок Жилгородок',\n",
       "       'посёлок городского типа Павлово', 'деревня Ялгино',\n",
       "       'посёлок Новый Учхоз', 'городской посёлок Рощино',\n",
       "       'посёлок Гончарово', 'посёлок Почап', 'посёлок Сапёрное',\n",
       "       'посёлок Платформа 69-й километр', 'посёлок Каложицы',\n",
       "       'деревня Фалилеево', 'деревня Пельгора',\n",
       "       'посёлок городского типа Лесогорский', 'деревня Торошковичи',\n",
       "       'посёлок Белоостров', 'посёлок Алексеевка', 'посёлок Серебрянский',\n",
       "       'посёлок Лукаши', 'деревня Щеглово', 'деревня Тарасово',\n",
       "       'посёлок Кингисеппский',\n",
       "       'посёлок при железнодорожной станции Вещево', 'посёлок Ушаки',\n",
       "       'деревня Котлы', 'деревня Сижно', 'деревня Торосово',\n",
       "       'посёлок Форт Красная Горка', 'деревня Новолисино',\n",
       "       'посёлок станции Громово', 'деревня Глинка',\n",
       "       'посёлок городского типа Назия', 'деревня Старая Пустошь',\n",
       "       'посёлок Коммунары', 'посёлок Починок',\n",
       "       'посёлок городского типа Вознесенье', 'деревня Разбегаево',\n",
       "       'посёлок Гладкое',\n",
       "       'посёлок при железнодорожной станции Приветнинское',\n",
       "       'посёлок Тёсово-4', 'деревня Бор', 'посёлок Коробицыно',\n",
       "       'деревня Большая Вруда', 'деревня Курковицы',\n",
       "       'городской посёлок Советский', 'посёлок Кобралово',\n",
       "       'деревня Суоранда', 'посёлок городского типа Кондратьево',\n",
       "       'коттеджный посёлок Счастье', 'посёлок Любань', 'деревня Реброво',\n",
       "       'деревня Зимитицы', 'деревня Тойворово', 'посёлок Семиозерье',\n",
       "       'посёлок Лесное', 'посёлок Совхозный', 'посёлок Ленинское',\n",
       "       'посёлок Суйда', 'деревня Нижние Осельки', 'посёлок станции Свирь',\n",
       "       'посёлок Перово', 'Высоцк', 'посёлок Гарболово', 'село Шум',\n",
       "       'посёлок Котельский', 'посёлок станции Лужайка',\n",
       "       'деревня Большая Пустомержа', 'посёлок Красносельское',\n",
       "       'деревня Вахнова Кара', 'деревня Пижма',\n",
       "       'коттеджный посёлок Кивеннапа Север', 'посёлок Ромашки',\n",
       "       'деревня Каськово', 'деревня Куровицы', 'посёлок Плоское',\n",
       "       'посёлок городского типа Большая Ижора', 'посёлок Кирпичное',\n",
       "       'деревня Ям-Тесово', 'деревня Раздолье', 'деревня Терпилицы',\n",
       "       'посёлок Шугозеро', 'деревня Ваганово', 'посёлок Пушное',\n",
       "       'садовое товарищество Садко', 'посёлок Усть-Ижора',\n",
       "       'деревня Выскатка', 'городской посёлок Свирьстрой',\n",
       "       'посёлок Громово', 'деревня Кисельня', 'деревня Трубников Бор',\n",
       "       'посёлок Калитино', 'посёлок Высокоключевой',\n",
       "       'садовое товарищество Приладожский',\n",
       "       'посёлок Пансионат Зелёный Бор', 'деревня Ненимяки',\n",
       "       'деревня Снегирёвка', 'деревня Рапполово', 'деревня Пустынка',\n",
       "       'посёлок Рабитицы', 'деревня Большой Сабск', 'деревня Русско',\n",
       "       'деревня Лупполово', 'деревня Большое Рейзино',\n",
       "       'деревня Малая Романовка', 'посёлок Дружноселье', 'посёлок Пчевжа',\n",
       "       'посёлок Володарское', 'деревня Нижняя',\n",
       "       'коттеджный посёлок Лесное', 'деревня Тихковицы',\n",
       "       'деревня Борисова Грива', 'посёлок Дзержинского'], dtype=object)"
      ]
     },
     "execution_count": 16,
     "metadata": {},
     "output_type": "execute_result"
    }
   ],
   "source": [
    "data['locality_name'] = (\n",
    "     data['locality_name']\n",
    "     .str\n",
    "     .replace('поселок', 'посёлок')\n",
    ")\n",
    "\n",
    "data['locality_name'].unique()"
   ]
  },
  {
   "cell_type": "markdown",
   "metadata": {},
   "source": [
    "На этапе предобработки мы поработали с пропусками в данных, дубликатами и исправили нэйминг столбцов.<br>\n",
    "\n",
    "Пропуски были обнаружены в 14 столбцах: `ceiling_height`, `floors_total`, `living_area`, `is_apartment`, `kitchen_area`, `balcony`, `locality_name`, `airports_nearest`, `city_centers_nearest`, `parks_around3000`, `parks_nearest`, `ponds_around3000`, `ponds_nearest`, `days_exposition`.\n",
    "\n",
    "* `ceiling_height` - причиной пропуска вполне может быть то, что данное поле не является обязательным при создании объявления\n",
    "* `floors_total` - на мой взгляд, причина пропуска схожа с предыдущим столбцом или же человек выставил на продажу частный дом, поэтому не указал число этажей\n",
    "* `living_area` - создатель обьявления мог посчитать эту информацию неважной и не указать её\n",
    "* `is_apartment` - скорее всего, пропуск в этом поле свидетельствует о том, что квартира не является апартаментами\n",
    "* `kitchen_area` - если квартира является студией, то у нее нет отдельной кухни. Поэтому пропуски могли появиться по причине того, что квартира является студией или же причина схожа с `living_area`\n",
    "* `balcony` - пропуски в этом поле свидетельствуют о том, что в квартире нет балкона\n",
    "* `locality_name` - возможно пропущенных населённых пунктов не было в списке или люди просто забыли их указать. В подтверждение второго варианта можно отметить относительно небольшее количество пропусков в этом столбце\n",
    "* `airports_nearest` - вероятно причиной пропусков является отсутствие аэропорта вблизи населённого пункта\n",
    "* `city_centers_nearest` - скорее всего причина в том, что информацию посчитали неважной, поскольку в каждом населённом пункте можно выделить центр\n",
    "* `parks_around3000` - причина схожа с `airports_nearest`\n",
    "* `parks_nearest` - причина схожа с `airports_nearest`\n",
    "* `ponds_around3000` - причина схожа с `airports_nearest`\n",
    "* `ponds_nearest` - причина схожа с `airports_nearest`\n",
    "* `days_exposition` - причина может быть в том, что объявления после продажи не закрыли и они до сих пор активны\n",
    "\n",
    "В столбцах `is_apartment` и `balcony` пропущенные значения заменены на 0.\n",
    "Пропуски в столбце `locality_name` заменены на ключевое слово \"Неизвестен\".\n",
    "\n",
    "В данных не было обнаружено явных дубликатов, но была обнаружена и исправлена одна пара неявных (различия в написании слова посёлок).\n",
    "\n",
    "Была обнаружена ошибка в нэйминге столбца `cityCenters_nearest`. Столбец переименован в `city_centers_nearest`.\n",
    "\n",
    "Данные готовы к дальнейшему анализу."
   ]
  },
  {
   "cell_type": "markdown",
   "metadata": {},
   "source": [
    "### Посчитайте и добавьте в таблицу новые столбцы"
   ]
  },
  {
   "cell_type": "markdown",
   "metadata": {},
   "source": [
    "Добавим в таблицу столбец содержащий цену одного квадратного метра."
   ]
  },
  {
   "cell_type": "code",
   "execution_count": 17,
   "metadata": {},
   "outputs": [
    {
     "data": {
      "text/plain": [
       "0    120370.37\n",
       "1     82920.79\n",
       "2     92785.71\n",
       "3    408176.10\n",
       "4    100000.00\n",
       "Name: square_meter_price, dtype: float64"
      ]
     },
     "execution_count": 17,
     "metadata": {},
     "output_type": "execute_result"
    }
   ],
   "source": [
    "data['square_meter_price'] = (data['last_price'] / data['total_area']).round(2)\n",
    "data['square_meter_price'].head()"
   ]
  },
  {
   "cell_type": "markdown",
   "metadata": {},
   "source": [
    "Добавим столбец с днём недели, в который была совершена публикации.<br>\n",
    "Каждому дню недели будет соответствовать целое число следующим образом: понедельник - 0, вторник - 1 и т.д."
   ]
  },
  {
   "cell_type": "code",
   "execution_count": 18,
   "metadata": {},
   "outputs": [
    {
     "data": {
      "text/plain": [
       "0    3\n",
       "1    1\n",
       "2    3\n",
       "3    4\n",
       "4    1\n",
       "Name: day_of_week_exposition, dtype: int64"
      ]
     },
     "execution_count": 18,
     "metadata": {},
     "output_type": "execute_result"
    }
   ],
   "source": [
    "data['day_of_week_exposition'] = data['first_day_exposition'].dt.dayofweek\n",
    "data['day_of_week_exposition'].head()"
   ]
  },
  {
   "cell_type": "markdown",
   "metadata": {},
   "source": [
    "Добавим столбцы с месяцем публикации и годом публикации."
   ]
  },
  {
   "cell_type": "code",
   "execution_count": 19,
   "metadata": {},
   "outputs": [
    {
     "data": {
      "text/plain": [
       "0       March\n",
       "1    December\n",
       "2      August\n",
       "3        July\n",
       "4        June\n",
       "Name: month_of_exposition, dtype: object"
      ]
     },
     "metadata": {},
     "output_type": "display_data"
    },
    {
     "data": {
      "text/plain": [
       "0    2019\n",
       "1    2018\n",
       "2    2015\n",
       "3    2015\n",
       "4    2018\n",
       "Name: year_of_exposition, dtype: int64"
      ]
     },
     "execution_count": 19,
     "metadata": {},
     "output_type": "execute_result"
    }
   ],
   "source": [
    "data['month_of_exposition'] = data['first_day_exposition'].dt.month_name()\n",
    "data['year_of_exposition'] = data['first_day_exposition'].dt.year\n",
    "\n",
    "display(data['month_of_exposition'].head())\n",
    "data['year_of_exposition'].head()"
   ]
  },
  {
   "cell_type": "markdown",
   "metadata": {},
   "source": [
    "Добавим столбец с типом этажа (значения — «первый», «последний», «другой»)."
   ]
  },
  {
   "cell_type": "code",
   "execution_count": 20,
   "metadata": {},
   "outputs": [
    {
     "data": {
      "text/html": [
       "<div>\n",
       "<style scoped>\n",
       "    .dataframe tbody tr th:only-of-type {\n",
       "        vertical-align: middle;\n",
       "    }\n",
       "\n",
       "    .dataframe tbody tr th {\n",
       "        vertical-align: top;\n",
       "    }\n",
       "\n",
       "    .dataframe thead th {\n",
       "        text-align: right;\n",
       "    }\n",
       "</style>\n",
       "<table border=\"1\" class=\"dataframe\">\n",
       "  <thead>\n",
       "    <tr style=\"text-align: right;\">\n",
       "      <th></th>\n",
       "      <th>total_images</th>\n",
       "      <th>last_price</th>\n",
       "      <th>total_area</th>\n",
       "      <th>first_day_exposition</th>\n",
       "      <th>rooms</th>\n",
       "      <th>ceiling_height</th>\n",
       "      <th>floors_total</th>\n",
       "      <th>living_area</th>\n",
       "      <th>floor</th>\n",
       "      <th>is_apartment</th>\n",
       "      <th>...</th>\n",
       "      <th>parks_around3000</th>\n",
       "      <th>parks_nearest</th>\n",
       "      <th>ponds_around3000</th>\n",
       "      <th>ponds_nearest</th>\n",
       "      <th>days_exposition</th>\n",
       "      <th>square_meter_price</th>\n",
       "      <th>day_of_week_exposition</th>\n",
       "      <th>month_of_exposition</th>\n",
       "      <th>year_of_exposition</th>\n",
       "      <th>floor_type</th>\n",
       "    </tr>\n",
       "  </thead>\n",
       "  <tbody>\n",
       "    <tr>\n",
       "      <th>0</th>\n",
       "      <td>20</td>\n",
       "      <td>13000000.0</td>\n",
       "      <td>108.0</td>\n",
       "      <td>2019-03-07</td>\n",
       "      <td>3</td>\n",
       "      <td>2.70</td>\n",
       "      <td>16.0</td>\n",
       "      <td>51.0</td>\n",
       "      <td>8</td>\n",
       "      <td>False</td>\n",
       "      <td>...</td>\n",
       "      <td>1.0</td>\n",
       "      <td>482.0</td>\n",
       "      <td>2.0</td>\n",
       "      <td>755.0</td>\n",
       "      <td>NaN</td>\n",
       "      <td>120370.37</td>\n",
       "      <td>3</td>\n",
       "      <td>March</td>\n",
       "      <td>2019</td>\n",
       "      <td>Другой</td>\n",
       "    </tr>\n",
       "    <tr>\n",
       "      <th>1</th>\n",
       "      <td>7</td>\n",
       "      <td>3350000.0</td>\n",
       "      <td>40.4</td>\n",
       "      <td>2018-12-04</td>\n",
       "      <td>1</td>\n",
       "      <td>NaN</td>\n",
       "      <td>11.0</td>\n",
       "      <td>18.6</td>\n",
       "      <td>1</td>\n",
       "      <td>False</td>\n",
       "      <td>...</td>\n",
       "      <td>0.0</td>\n",
       "      <td>NaN</td>\n",
       "      <td>0.0</td>\n",
       "      <td>NaN</td>\n",
       "      <td>81.0</td>\n",
       "      <td>82920.79</td>\n",
       "      <td>1</td>\n",
       "      <td>December</td>\n",
       "      <td>2018</td>\n",
       "      <td>Первый</td>\n",
       "    </tr>\n",
       "    <tr>\n",
       "      <th>2</th>\n",
       "      <td>10</td>\n",
       "      <td>5196000.0</td>\n",
       "      <td>56.0</td>\n",
       "      <td>2015-08-20</td>\n",
       "      <td>2</td>\n",
       "      <td>NaN</td>\n",
       "      <td>5.0</td>\n",
       "      <td>34.3</td>\n",
       "      <td>4</td>\n",
       "      <td>False</td>\n",
       "      <td>...</td>\n",
       "      <td>1.0</td>\n",
       "      <td>90.0</td>\n",
       "      <td>2.0</td>\n",
       "      <td>574.0</td>\n",
       "      <td>558.0</td>\n",
       "      <td>92785.71</td>\n",
       "      <td>3</td>\n",
       "      <td>August</td>\n",
       "      <td>2015</td>\n",
       "      <td>Другой</td>\n",
       "    </tr>\n",
       "    <tr>\n",
       "      <th>3</th>\n",
       "      <td>0</td>\n",
       "      <td>64900000.0</td>\n",
       "      <td>159.0</td>\n",
       "      <td>2015-07-24</td>\n",
       "      <td>3</td>\n",
       "      <td>NaN</td>\n",
       "      <td>14.0</td>\n",
       "      <td>NaN</td>\n",
       "      <td>9</td>\n",
       "      <td>False</td>\n",
       "      <td>...</td>\n",
       "      <td>2.0</td>\n",
       "      <td>84.0</td>\n",
       "      <td>3.0</td>\n",
       "      <td>234.0</td>\n",
       "      <td>424.0</td>\n",
       "      <td>408176.10</td>\n",
       "      <td>4</td>\n",
       "      <td>July</td>\n",
       "      <td>2015</td>\n",
       "      <td>Другой</td>\n",
       "    </tr>\n",
       "    <tr>\n",
       "      <th>4</th>\n",
       "      <td>2</td>\n",
       "      <td>10000000.0</td>\n",
       "      <td>100.0</td>\n",
       "      <td>2018-06-19</td>\n",
       "      <td>2</td>\n",
       "      <td>3.03</td>\n",
       "      <td>14.0</td>\n",
       "      <td>32.0</td>\n",
       "      <td>13</td>\n",
       "      <td>False</td>\n",
       "      <td>...</td>\n",
       "      <td>2.0</td>\n",
       "      <td>112.0</td>\n",
       "      <td>1.0</td>\n",
       "      <td>48.0</td>\n",
       "      <td>121.0</td>\n",
       "      <td>100000.00</td>\n",
       "      <td>1</td>\n",
       "      <td>June</td>\n",
       "      <td>2018</td>\n",
       "      <td>Другой</td>\n",
       "    </tr>\n",
       "  </tbody>\n",
       "</table>\n",
       "<p>5 rows × 27 columns</p>\n",
       "</div>"
      ],
      "text/plain": [
       "   total_images  last_price  total_area first_day_exposition  rooms  \\\n",
       "0            20  13000000.0       108.0           2019-03-07      3   \n",
       "1             7   3350000.0        40.4           2018-12-04      1   \n",
       "2            10   5196000.0        56.0           2015-08-20      2   \n",
       "3             0  64900000.0       159.0           2015-07-24      3   \n",
       "4             2  10000000.0       100.0           2018-06-19      2   \n",
       "\n",
       "   ceiling_height  floors_total  living_area  floor  is_apartment  ...  \\\n",
       "0            2.70          16.0         51.0      8         False  ...   \n",
       "1             NaN          11.0         18.6      1         False  ...   \n",
       "2             NaN           5.0         34.3      4         False  ...   \n",
       "3             NaN          14.0          NaN      9         False  ...   \n",
       "4            3.03          14.0         32.0     13         False  ...   \n",
       "\n",
       "   parks_around3000  parks_nearest  ponds_around3000  ponds_nearest  \\\n",
       "0               1.0          482.0               2.0          755.0   \n",
       "1               0.0            NaN               0.0            NaN   \n",
       "2               1.0           90.0               2.0          574.0   \n",
       "3               2.0           84.0               3.0          234.0   \n",
       "4               2.0          112.0               1.0           48.0   \n",
       "\n",
       "  days_exposition  square_meter_price  day_of_week_exposition  \\\n",
       "0             NaN           120370.37                       3   \n",
       "1            81.0            82920.79                       1   \n",
       "2           558.0            92785.71                       3   \n",
       "3           424.0           408176.10                       4   \n",
       "4           121.0           100000.00                       1   \n",
       "\n",
       "   month_of_exposition  year_of_exposition  floor_type  \n",
       "0                March                2019      Другой  \n",
       "1             December                2018      Первый  \n",
       "2               August                2015      Другой  \n",
       "3                 July                2015      Другой  \n",
       "4                 June                2018      Другой  \n",
       "\n",
       "[5 rows x 27 columns]"
      ]
     },
     "execution_count": 20,
     "metadata": {},
     "output_type": "execute_result"
    }
   ],
   "source": [
    "def get_floor_type(row):\n",
    "    if row['floor'] == 1:\n",
    "        return 'Первый'\n",
    "    elif row['floor'] == row['floors_total']:\n",
    "        return 'Последний'\n",
    "    return 'Другой'\n",
    "\n",
    "data['floor_type'] = data.apply(get_floor_type, axis=1)\n",
    "data.head()"
   ]
  },
  {
   "cell_type": "markdown",
   "metadata": {},
   "source": [
    "Наконец, добавим столбец, содержащий расстояние до центра города в километрах."
   ]
  },
  {
   "cell_type": "code",
   "execution_count": 21,
   "metadata": {
    "scrolled": true
   },
   "outputs": [
    {
     "data": {
      "text/html": [
       "<div>\n",
       "<style scoped>\n",
       "    .dataframe tbody tr th:only-of-type {\n",
       "        vertical-align: middle;\n",
       "    }\n",
       "\n",
       "    .dataframe tbody tr th {\n",
       "        vertical-align: top;\n",
       "    }\n",
       "\n",
       "    .dataframe thead th {\n",
       "        text-align: right;\n",
       "    }\n",
       "</style>\n",
       "<table border=\"1\" class=\"dataframe\">\n",
       "  <thead>\n",
       "    <tr style=\"text-align: right;\">\n",
       "      <th></th>\n",
       "      <th>total_images</th>\n",
       "      <th>last_price</th>\n",
       "      <th>total_area</th>\n",
       "      <th>first_day_exposition</th>\n",
       "      <th>rooms</th>\n",
       "      <th>ceiling_height</th>\n",
       "      <th>floors_total</th>\n",
       "      <th>living_area</th>\n",
       "      <th>floor</th>\n",
       "      <th>is_apartment</th>\n",
       "      <th>...</th>\n",
       "      <th>parks_nearest</th>\n",
       "      <th>ponds_around3000</th>\n",
       "      <th>ponds_nearest</th>\n",
       "      <th>days_exposition</th>\n",
       "      <th>square_meter_price</th>\n",
       "      <th>day_of_week_exposition</th>\n",
       "      <th>month_of_exposition</th>\n",
       "      <th>year_of_exposition</th>\n",
       "      <th>floor_type</th>\n",
       "      <th>city_centers_nearest_km</th>\n",
       "    </tr>\n",
       "  </thead>\n",
       "  <tbody>\n",
       "    <tr>\n",
       "      <th>0</th>\n",
       "      <td>20</td>\n",
       "      <td>13000000.0</td>\n",
       "      <td>108.0</td>\n",
       "      <td>2019-03-07</td>\n",
       "      <td>3</td>\n",
       "      <td>2.70</td>\n",
       "      <td>16.0</td>\n",
       "      <td>51.0</td>\n",
       "      <td>8</td>\n",
       "      <td>False</td>\n",
       "      <td>...</td>\n",
       "      <td>482.0</td>\n",
       "      <td>2.0</td>\n",
       "      <td>755.0</td>\n",
       "      <td>NaN</td>\n",
       "      <td>120370.37</td>\n",
       "      <td>3</td>\n",
       "      <td>March</td>\n",
       "      <td>2019</td>\n",
       "      <td>Другой</td>\n",
       "      <td>16.0</td>\n",
       "    </tr>\n",
       "    <tr>\n",
       "      <th>1</th>\n",
       "      <td>7</td>\n",
       "      <td>3350000.0</td>\n",
       "      <td>40.4</td>\n",
       "      <td>2018-12-04</td>\n",
       "      <td>1</td>\n",
       "      <td>NaN</td>\n",
       "      <td>11.0</td>\n",
       "      <td>18.6</td>\n",
       "      <td>1</td>\n",
       "      <td>False</td>\n",
       "      <td>...</td>\n",
       "      <td>NaN</td>\n",
       "      <td>0.0</td>\n",
       "      <td>NaN</td>\n",
       "      <td>81.0</td>\n",
       "      <td>82920.79</td>\n",
       "      <td>1</td>\n",
       "      <td>December</td>\n",
       "      <td>2018</td>\n",
       "      <td>Первый</td>\n",
       "      <td>19.0</td>\n",
       "    </tr>\n",
       "    <tr>\n",
       "      <th>2</th>\n",
       "      <td>10</td>\n",
       "      <td>5196000.0</td>\n",
       "      <td>56.0</td>\n",
       "      <td>2015-08-20</td>\n",
       "      <td>2</td>\n",
       "      <td>NaN</td>\n",
       "      <td>5.0</td>\n",
       "      <td>34.3</td>\n",
       "      <td>4</td>\n",
       "      <td>False</td>\n",
       "      <td>...</td>\n",
       "      <td>90.0</td>\n",
       "      <td>2.0</td>\n",
       "      <td>574.0</td>\n",
       "      <td>558.0</td>\n",
       "      <td>92785.71</td>\n",
       "      <td>3</td>\n",
       "      <td>August</td>\n",
       "      <td>2015</td>\n",
       "      <td>Другой</td>\n",
       "      <td>14.0</td>\n",
       "    </tr>\n",
       "    <tr>\n",
       "      <th>3</th>\n",
       "      <td>0</td>\n",
       "      <td>64900000.0</td>\n",
       "      <td>159.0</td>\n",
       "      <td>2015-07-24</td>\n",
       "      <td>3</td>\n",
       "      <td>NaN</td>\n",
       "      <td>14.0</td>\n",
       "      <td>NaN</td>\n",
       "      <td>9</td>\n",
       "      <td>False</td>\n",
       "      <td>...</td>\n",
       "      <td>84.0</td>\n",
       "      <td>3.0</td>\n",
       "      <td>234.0</td>\n",
       "      <td>424.0</td>\n",
       "      <td>408176.10</td>\n",
       "      <td>4</td>\n",
       "      <td>July</td>\n",
       "      <td>2015</td>\n",
       "      <td>Другой</td>\n",
       "      <td>7.0</td>\n",
       "    </tr>\n",
       "    <tr>\n",
       "      <th>4</th>\n",
       "      <td>2</td>\n",
       "      <td>10000000.0</td>\n",
       "      <td>100.0</td>\n",
       "      <td>2018-06-19</td>\n",
       "      <td>2</td>\n",
       "      <td>3.03</td>\n",
       "      <td>14.0</td>\n",
       "      <td>32.0</td>\n",
       "      <td>13</td>\n",
       "      <td>False</td>\n",
       "      <td>...</td>\n",
       "      <td>112.0</td>\n",
       "      <td>1.0</td>\n",
       "      <td>48.0</td>\n",
       "      <td>121.0</td>\n",
       "      <td>100000.00</td>\n",
       "      <td>1</td>\n",
       "      <td>June</td>\n",
       "      <td>2018</td>\n",
       "      <td>Другой</td>\n",
       "      <td>8.0</td>\n",
       "    </tr>\n",
       "  </tbody>\n",
       "</table>\n",
       "<p>5 rows × 28 columns</p>\n",
       "</div>"
      ],
      "text/plain": [
       "   total_images  last_price  total_area first_day_exposition  rooms  \\\n",
       "0            20  13000000.0       108.0           2019-03-07      3   \n",
       "1             7   3350000.0        40.4           2018-12-04      1   \n",
       "2            10   5196000.0        56.0           2015-08-20      2   \n",
       "3             0  64900000.0       159.0           2015-07-24      3   \n",
       "4             2  10000000.0       100.0           2018-06-19      2   \n",
       "\n",
       "   ceiling_height  floors_total  living_area  floor  is_apartment  ...  \\\n",
       "0            2.70          16.0         51.0      8         False  ...   \n",
       "1             NaN          11.0         18.6      1         False  ...   \n",
       "2             NaN           5.0         34.3      4         False  ...   \n",
       "3             NaN          14.0          NaN      9         False  ...   \n",
       "4            3.03          14.0         32.0     13         False  ...   \n",
       "\n",
       "   parks_nearest  ponds_around3000  ponds_nearest  days_exposition  \\\n",
       "0          482.0               2.0          755.0              NaN   \n",
       "1            NaN               0.0            NaN             81.0   \n",
       "2           90.0               2.0          574.0            558.0   \n",
       "3           84.0               3.0          234.0            424.0   \n",
       "4          112.0               1.0           48.0            121.0   \n",
       "\n",
       "  square_meter_price  day_of_week_exposition  month_of_exposition  \\\n",
       "0          120370.37                       3                March   \n",
       "1           82920.79                       1             December   \n",
       "2           92785.71                       3               August   \n",
       "3          408176.10                       4                 July   \n",
       "4          100000.00                       1                 June   \n",
       "\n",
       "   year_of_exposition  floor_type  city_centers_nearest_km  \n",
       "0                2019      Другой                     16.0  \n",
       "1                2018      Первый                     19.0  \n",
       "2                2015      Другой                     14.0  \n",
       "3                2015      Другой                      7.0  \n",
       "4                2018      Другой                      8.0  \n",
       "\n",
       "[5 rows x 28 columns]"
      ]
     },
     "execution_count": 21,
     "metadata": {},
     "output_type": "execute_result"
    }
   ],
   "source": [
    "data['city_centers_nearest_km'] = (data['city_centers_nearest'] / 1000).round()\n",
    "data.head()"
   ]
  },
  {
   "cell_type": "markdown",
   "metadata": {},
   "source": [
    "Логично будет переименовать столбец `city_centers_nearest`, добавив к названию '_m'. "
   ]
  },
  {
   "cell_type": "code",
   "execution_count": 22,
   "metadata": {},
   "outputs": [
    {
     "data": {
      "text/plain": [
       "Index(['total_images', 'last_price', 'total_area', 'first_day_exposition',\n",
       "       'rooms', 'ceiling_height', 'floors_total', 'living_area', 'floor',\n",
       "       'is_apartment', 'studio', 'open_plan', 'kitchen_area', 'balcony',\n",
       "       'locality_name', 'airports_nearest', 'city_centers_nearest_m',\n",
       "       'parks_around3000', 'parks_nearest', 'ponds_around3000',\n",
       "       'ponds_nearest', 'days_exposition', 'square_meter_price',\n",
       "       'day_of_week_exposition', 'month_of_exposition', 'year_of_exposition',\n",
       "       'floor_type', 'city_centers_nearest_km'],\n",
       "      dtype='object')"
      ]
     },
     "execution_count": 22,
     "metadata": {},
     "output_type": "execute_result"
    }
   ],
   "source": [
    "data = data.rename(columns={'city_centers_nearest' : 'city_centers_nearest_m'})\n",
    "data.columns"
   ]
  },
  {
   "cell_type": "markdown",
   "metadata": {},
   "source": [
    "На данном этапе мы добавили в таблицу несколько новых столбцов:\n",
    "1. `square_meter_price` - цена одного квадратного метра\n",
    "2. `day_of_week_exposition` - день недели публикации объявления (0 — понедельник, 1 — вторник и так далее)\n",
    "3. `month_of_exposition` - месяц публикации объявления\n",
    "4. `year_of_exposition` - год публикации объявления\n",
    "5. `floor_type` - тип этажа квартиры (значения — «первый», «последний», «другой»)\n",
    "6. `city_centers_nearest_km` - расстояние до центра города в километрах\n",
    "\n",
    "А также переименовали столбец `city_centers_nearest` в `city_centers_nearest_m` для того чтобы было понятно различие со столбцом `city_centers_nearest_km`."
   ]
  },
  {
   "cell_type": "markdown",
   "metadata": {},
   "source": [
    "### Проведите исследовательский анализ данных"
   ]
  },
  {
   "cell_type": "markdown",
   "metadata": {},
   "source": [
    "Перед анализом зафиксируем исходный размер выборки."
   ]
  },
  {
   "cell_type": "code",
   "execution_count": 23,
   "metadata": {},
   "outputs": [
    {
     "data": {
      "text/plain": [
       "23650"
      ]
     },
     "execution_count": 23,
     "metadata": {},
     "output_type": "execute_result"
    }
   ],
   "source": [
    "num_of_objects_before = data.shape[0]\n",
    "num_of_objects_before"
   ]
  },
  {
   "cell_type": "code",
   "execution_count": 24,
   "metadata": {
    "scrolled": false
   },
   "outputs": [
    {
     "data": {
      "text/plain": [
       "count    23650.000000\n",
       "mean        60.329069\n",
       "std         35.661808\n",
       "min         12.000000\n",
       "25%         40.000000\n",
       "50%         52.000000\n",
       "75%         69.700000\n",
       "max        900.000000\n",
       "Name: total_area, dtype: float64"
      ]
     },
     "execution_count": 24,
     "metadata": {},
     "output_type": "execute_result"
    },
    {
     "data": {
      "image/png": "[encoded data removed]",
      "text/plain": [
       "<Figure size 432x288 with 1 Axes>"
      ]
     },
     "metadata": {
      "needs_background": "light"
     },
     "output_type": "display_data"
    }
   ],
   "source": [
    "data['total_area'].hist(bins=115, range=(0, 1000))\n",
    "data['total_area'].describe()"
   ]
  },
  {
   "cell_type": "markdown",
   "metadata": {},
   "source": [
    "Гистограмма выглядет вполне нормально. Ожидаемый результат для гистограммы нормального распределения.<br>\n",
    "Большого количества выбросов нет.<br>\n",
    "\n",
    "Минимальное значение общей площади составляет `12` квадратных метров.<br>\n",
    "Среднее - `60`.<br>\n",
    "Максимальное - `900`."
   ]
  },
  {
   "cell_type": "code",
   "execution_count": 25,
   "metadata": {},
   "outputs": [
    {
     "data": {
      "text/plain": [
       "count    21752.000000\n",
       "mean        34.448356\n",
       "std         22.037664\n",
       "min          2.000000\n",
       "25%         18.600000\n",
       "50%         30.000000\n",
       "75%         42.300000\n",
       "max        409.700000\n",
       "Name: living_area, dtype: float64"
      ]
     },
     "execution_count": 25,
     "metadata": {},
     "output_type": "execute_result"
    },
    {
     "data": {
      "image/png": "[encoded data removed]",
      "text/plain": [
       "<Figure size 432x288 with 1 Axes>"
      ]
     },
     "metadata": {
      "needs_background": "light"
     },
     "output_type": "display_data"
    }
   ],
   "source": [
    "data['living_area'].hist(bins=55, range=(0, 55))\n",
    "data['living_area'].describe()"
   ]
  },
  {
   "cell_type": "markdown",
   "metadata": {},
   "source": [
    "Исходя из гистограммы видно, что распределение имеет два пика. Оно не является ни нормальным, ни распределением Пуасонна. Странным является большое количество значений в промежутке `2` до `22`. Вполне возможно, что это студии, поскольку размер подозрительно маленький для обычной квартиры. Необходимо это проверить. В противном случае, увеличим эти значения в `10` раз, возможно, продавцы ошиблись указав площадь, в `10` раз меньшую искомой."
   ]
  },
  {
   "cell_type": "code",
   "execution_count": 26,
   "metadata": {},
   "outputs": [
    {
     "data": {
      "text/plain": [
       "False    7155\n",
       "True      119\n",
       "Name: studio, dtype: int64"
      ]
     },
     "execution_count": 26,
     "metadata": {},
     "output_type": "execute_result"
    }
   ],
   "source": [
    "data.query('living_area >= 10 & living_area <= 22')['studio'].value_counts()"
   ]
  },
  {
   "cell_type": "markdown",
   "metadata": {},
   "source": [
    "Гипотеза не подтвердилась."
   ]
  },
  {
   "cell_type": "code",
   "execution_count": 27,
   "metadata": {},
   "outputs": [
    {
     "data": {
      "text/plain": [
       "count    21752.000000\n",
       "mean        86.837500\n",
       "std         65.465091\n",
       "min         20.000000\n",
       "25%         32.900000\n",
       "50%         47.800000\n",
       "75%        160.000000\n",
       "max        409.700000\n",
       "Name: living_area, dtype: float64"
      ]
     },
     "execution_count": 27,
     "metadata": {},
     "output_type": "execute_result"
    },
    {
     "data": {
      "image/png": "[encoded data removed]",
      "text/plain": [
       "<Figure size 432x288 with 1 Axes>"
      ]
     },
     "metadata": {
      "needs_background": "light"
     },
     "output_type": "display_data"
    }
   ],
   "source": [
    "data.loc[(data['living_area'] >= 2) & (data['living_area'] <= 22), 'living_area'] = data['living_area'] * 10\n",
    "data['living_area'].hist(bins=55, range=(0, 55))\n",
    "data['living_area'].describe()"
   ]
  },
  {
   "cell_type": "markdown",
   "metadata": {},
   "source": [
    "Теперь распределение имеет более привычный вид и напоминает нормальное. В промежутке от `40` до `50` можем заметить локальный пик, но он объясним тем, что на рынке относительно много квартир с соответствующей жилой площадью.\n",
    "\n",
    "Минимальное значение жилой площади составляет `20` квадратных метров.<br>\n",
    "Среднее - `86`.<br>\n",
    "Максимальное - `409`."
   ]
  },
  {
   "cell_type": "code",
   "execution_count": 28,
   "metadata": {
    "scrolled": false
   },
   "outputs": [
    {
     "data": {
      "image/png": "[encoded data removed]",
      "text/plain": [
       "<Figure size 432x288 with 1 Axes>"
      ]
     },
     "metadata": {
      "needs_background": "light"
     },
     "output_type": "display_data"
    },
    {
     "data": {
      "text/plain": [
       "count    21381.000000\n",
       "mean        10.566403\n",
       "std          5.901753\n",
       "min          1.300000\n",
       "25%          7.000000\n",
       "50%          9.100000\n",
       "75%         12.000000\n",
       "max        112.000000\n",
       "Name: kitchen_area, dtype: float64"
      ]
     },
     "execution_count": 28,
     "metadata": {},
     "output_type": "execute_result"
    },
    {
     "data": {
      "image/png": "[encoded data removed]",
      "text/plain": [
       "<Figure size 432x288 with 1 Axes>"
      ]
     },
     "metadata": {
      "needs_background": "light"
     },
     "output_type": "display_data"
    }
   ],
   "source": [
    "data['kitchen_area'].hist(bins=50)\n",
    "plt.show()\n",
    "data.boxplot('kitchen_area')\n",
    "data['kitchen_area'].describe()"
   ]
  },
  {
   "cell_type": "markdown",
   "metadata": {},
   "source": [
    "В данных присутствуют квартиры с площадью кухни выше, чем `80 квадратных метров`. Скорее всего, такая большая площадь кухни обусловлена большой общей площадью квартиры. Проверим это."
   ]
  },
  {
   "cell_type": "code",
   "execution_count": 29,
   "metadata": {},
   "outputs": [
    {
     "data": {
      "text/plain": [
       "count      7.000000\n",
       "mean     357.100000\n",
       "std      282.428115\n",
       "min      146.000000\n",
       "25%      179.500000\n",
       "50%      249.700000\n",
       "75%      422.500000\n",
       "max      900.000000\n",
       "Name: total_area, dtype: float64"
      ]
     },
     "execution_count": 29,
     "metadata": {},
     "output_type": "execute_result"
    }
   ],
   "source": [
    "data.query('kitchen_area > 80')['total_area'].describe()"
   ]
  },
  {
   "cell_type": "markdown",
   "metadata": {},
   "source": [
    "Как мы видим, действительно, средняя площадь квартиры среди этой выборки - `357.1` квадратных метров, что достаточно много. Следовательно, данные в столбце `kitchen_area` не требуют изменений, причина выбросов установлена."
   ]
  },
  {
   "cell_type": "markdown",
   "metadata": {},
   "source": [
    "Минимальное значение площади кухни составляет `1.3` квадратных метра.<br>\n",
    "Среднее - `11`.<br>\n",
    "Максимальное - `112`."
   ]
  },
  {
   "cell_type": "code",
   "execution_count": 30,
   "metadata": {
    "scrolled": false
   },
   "outputs": [
    {
     "data": {
      "text/plain": [
       "count    2.365000e+04\n",
       "mean     6.541127e+06\n",
       "std      1.089640e+07\n",
       "min      1.219000e+04\n",
       "25%      3.400000e+06\n",
       "50%      4.650000e+06\n",
       "75%      6.799000e+06\n",
       "max      7.630000e+08\n",
       "Name: last_price, dtype: float64"
      ]
     },
     "execution_count": 30,
     "metadata": {},
     "output_type": "execute_result"
    },
    {
     "data": {
      "image/png": "[encoded data removed]",
      "text/plain": [
       "<Figure size 432x288 with 1 Axes>"
      ]
     },
     "metadata": {
      "needs_background": "light"
     },
     "output_type": "display_data"
    }
   ],
   "source": [
    "data.boxplot('last_price')\n",
    "data['last_price'].describe()"
   ]
  },
  {
   "cell_type": "markdown",
   "metadata": {},
   "source": [
    "На графике видно большое количество квартир с относительно высокой стоимостью, но есть небольшое число квартира, чья стоимость значительно отличается от остальных. Это квартиры со стоимостью, выше чем `2 * 10^8`. Уберем выбросы и построим гистограмму."
   ]
  },
  {
   "cell_type": "code",
   "execution_count": 31,
   "metadata": {},
   "outputs": [
    {
     "data": {
      "text/plain": [
       "count    2.364100e+04\n",
       "mean     6.407475e+06\n",
       "std      7.902979e+06\n",
       "min      1.219000e+04\n",
       "25%      3.400000e+06\n",
       "50%      4.647000e+06\n",
       "75%      6.790000e+06\n",
       "max      1.908700e+08\n",
       "Name: last_price, dtype: float64"
      ]
     },
     "execution_count": 31,
     "metadata": {},
     "output_type": "execute_result"
    },
    {
     "data": {
      "image/png": "[encoded data removed]",
      "text/plain": [
       "<Figure size 432x288 with 1 Axes>"
      ]
     },
     "metadata": {
      "needs_background": "light"
     },
     "output_type": "display_data"
    }
   ],
   "source": [
    "data = data.query('last_price < 2e8')\n",
    "data['last_price'].hist(bins=120, range=(0, 2e8))\n",
    "data['last_price'].describe()"
   ]
  },
  {
   "cell_type": "markdown",
   "metadata": {},
   "source": [
    "Теперь распределение напоминает нормальное распределение.\n",
    "\n",
    "Минимальное значение цены составляет `1.2 * 10^4`.<br>\n",
    "Среднее - `6.4 * 10^6`.<br>\n",
    "Максимальное - `1.9 * 10^8`."
   ]
  },
  {
   "cell_type": "code",
   "execution_count": 32,
   "metadata": {
    "scrolled": false
   },
   "outputs": [
    {
     "data": {
      "text/plain": [
       "count    23641.000000\n",
       "mean         2.068610\n",
       "std          1.074837\n",
       "min          0.000000\n",
       "25%          1.000000\n",
       "50%          2.000000\n",
       "75%          3.000000\n",
       "max         19.000000\n",
       "Name: rooms, dtype: float64"
      ]
     },
     "execution_count": 32,
     "metadata": {},
     "output_type": "execute_result"
    },
    {
     "data": {
      "image/png": "[encoded data removed]",
      "text/plain": [
       "<Figure size 432x288 with 1 Axes>"
      ]
     },
     "metadata": {
      "needs_background": "light"
     },
     "output_type": "display_data"
    }
   ],
   "source": [
    "data.boxplot('rooms')\n",
    "data['rooms'].describe()"
   ]
  },
  {
   "cell_type": "markdown",
   "metadata": {},
   "source": [
    "Заметим выбросы - это квартиры с числом комнат выше `10` и меньше `1`. Избавимся от них и построим гистограмму."
   ]
  },
  {
   "cell_type": "code",
   "execution_count": 33,
   "metadata": {},
   "outputs": [
    {
     "data": {
      "text/plain": [
       "count    23437.000000\n",
       "mean         2.082348\n",
       "std          1.040465\n",
       "min          1.000000\n",
       "25%          1.000000\n",
       "50%          2.000000\n",
       "75%          3.000000\n",
       "max         10.000000\n",
       "Name: rooms, dtype: float64"
      ]
     },
     "execution_count": 33,
     "metadata": {},
     "output_type": "execute_result"
    },
    {
     "data": {
      "image/png": "[encoded data removed]",
      "text/plain": [
       "<Figure size 432x288 with 1 Axes>"
      ]
     },
     "metadata": {
      "needs_background": "light"
     },
     "output_type": "display_data"
    }
   ],
   "source": [
    "data = data.query('rooms <= 10 & rooms >= 1')\n",
    "data['rooms'].hist(bins=10)\n",
    "data['rooms'].describe()"
   ]
  },
  {
   "cell_type": "markdown",
   "metadata": {},
   "source": [
    "Минимальное количество комнат - `1`.<br>\n",
    "Среднее - `2`.<br>\n",
    "Максимальное - `10`."
   ]
  },
  {
   "cell_type": "code",
   "execution_count": 34,
   "metadata": {
    "scrolled": false
   },
   "outputs": [
    {
     "data": {
      "text/plain": [
       "count    14397.000000\n",
       "mean         2.768986\n",
       "std          1.249011\n",
       "min          1.000000\n",
       "25%          2.510000\n",
       "50%          2.650000\n",
       "75%          2.800000\n",
       "max        100.000000\n",
       "Name: ceiling_height, dtype: float64"
      ]
     },
     "execution_count": 34,
     "metadata": {},
     "output_type": "execute_result"
    },
    {
     "data": {
      "image/png": "[encoded data removed]",
      "text/plain": [
       "<Figure size 432x288 with 1 Axes>"
      ]
     },
     "metadata": {
      "needs_background": "light"
     },
     "output_type": "display_data"
    }
   ],
   "source": [
    "data.boxplot('ceiling_height')\n",
    "data['ceiling_height'].describe()"
   ]
  },
  {
   "cell_type": "markdown",
   "metadata": {},
   "source": [
    "На графике видны выбросы, избавимся от них, положив, что валидные значения находятся в пределах размаха \"усов\". Также обратим внимание на значения `>=20`. Вероятно, продавец имел в виду значения, в десять раз меньшие указанных. Учтём это и исправим."
   ]
  },
  {
   "cell_type": "code",
   "execution_count": 35,
   "metadata": {},
   "outputs": [
    {
     "name": "stdout",
     "output_type": "stream",
     "text": [
      "Межквартиальных размах равен 0.29\n",
      "Аномально низкие значения находятся ниже 2.07\n",
      "Аномально высокие значения находятся выше 3.24\n"
     ]
    }
   ],
   "source": [
    "q1, q3 = data['ceiling_height'].quantile(0.25), data['ceiling_height'].quantile(0.75)\n",
    "iqr = q3 - q1\n",
    "print(f'Межквартиальных размах равен {round(iqr, 2)}')\n",
    "abnormal_low = q1 - 1.5 * iqr\n",
    "print(f'Аномально низкие значения находятся ниже {round(abnormal_low, 2)}')\n",
    "abnormal_high = q3 + 1.5 * iqr\n",
    "print(f'Аномально высокие значения находятся выше {round(abnormal_high, 2)}')"
   ]
  },
  {
   "cell_type": "code",
   "execution_count": 36,
   "metadata": {},
   "outputs": [
    {
     "data": {
      "image/png": "[encoded data removed]",
      "text/plain": [
       "<Figure size 432x288 with 1 Axes>"
      ]
     },
     "metadata": {
      "needs_background": "light"
     },
     "output_type": "display_data"
    },
    {
     "data": {
      "text/plain": [
       "count    13613.000000\n",
       "mean         2.679641\n",
       "std          0.184745\n",
       "min          2.000000\n",
       "25%          2.500000\n",
       "50%          2.630000\n",
       "75%          2.760000\n",
       "max          3.230000\n",
       "Name: ceiling_height, dtype: float64"
      ]
     },
     "execution_count": 36,
     "metadata": {},
     "output_type": "execute_result"
    }
   ],
   "source": [
    "data = data.query('(ceiling_height >= @abnormal_low and ceiling_height <= @abnormal_high) or (ceiling_height >= 20 and ceiling_height < 40) or ceiling_height.isna()')\n",
    "data.loc[data['ceiling_height'] >= 20, 'ceiling_height'] = data['ceiling_height'] / 10\n",
    "data['ceiling_height'].hist(bins=10)\n",
    "plt.show()\n",
    "data['ceiling_height'].describe()"
   ]
  },
  {
   "cell_type": "markdown",
   "metadata": {},
   "source": [
    "Минимальное значение высоты потолка составляет `2` метра.<br>\n",
    "Среднее - `2.7`.<br>\n",
    "Максимальное - `3.2`."
   ]
  },
  {
   "cell_type": "code",
   "execution_count": 37,
   "metadata": {},
   "outputs": [
    {
     "data": {
      "image/png": "[encoded data removed]",
      "text/plain": [
       "<Figure size 432x288 with 1 Axes>"
      ]
     },
     "metadata": {
      "needs_background": "light"
     },
     "output_type": "display_data"
    }
   ],
   "source": [
    "data['floor_type'].hist()\n",
    "plt.show()"
   ]
  },
  {
   "cell_type": "markdown",
   "metadata": {},
   "source": [
    "С этим столбцом проблем нет. Ожидаемо, что наибольшее количество значений равно \"Другой\"."
   ]
  },
  {
   "cell_type": "code",
   "execution_count": 38,
   "metadata": {},
   "outputs": [
    {
     "data": {
      "text/plain": [
       "count    22571.000000\n",
       "mean        10.795889\n",
       "std          6.592932\n",
       "min          1.000000\n",
       "25%          5.000000\n",
       "50%          9.000000\n",
       "75%         16.000000\n",
       "max         60.000000\n",
       "Name: floors_total, dtype: float64"
      ]
     },
     "execution_count": 38,
     "metadata": {},
     "output_type": "execute_result"
    },
    {
     "data": {
      "image/png": "[encoded data removed]",
      "text/plain": [
       "<Figure size 432x288 with 1 Axes>"
      ]
     },
     "metadata": {
      "needs_background": "light"
     },
     "output_type": "display_data"
    }
   ],
   "source": [
    "data['floors_total'].hist()\n",
    "data['floors_total'].describe()"
   ]
  },
  {
   "cell_type": "markdown",
   "metadata": {},
   "source": [
    "Данные выглядят нормально.\n",
    "\n",
    "Минимальное количество этажей - `1`.<br>\n",
    "Среднее - `12`.<br>\n",
    "Максимальное - `52`."
   ]
  },
  {
   "cell_type": "code",
   "execution_count": 39,
   "metadata": {},
   "outputs": [
    {
     "data": {
      "text/plain": [
       "count    17259.000000\n",
       "mean     14566.565792\n",
       "std       8507.158410\n",
       "min        318.000000\n",
       "25%       9923.500000\n",
       "50%      13296.000000\n",
       "75%      16462.500000\n",
       "max      65968.000000\n",
       "Name: city_centers_nearest_m, dtype: float64"
      ]
     },
     "execution_count": 39,
     "metadata": {},
     "output_type": "execute_result"
    },
    {
     "data": {
      "image/png": "[encoded data removed]",
      "text/plain": [
       "<Figure size 432x288 with 1 Axes>"
      ]
     },
     "metadata": {
      "needs_background": "light"
     },
     "output_type": "display_data"
    }
   ],
   "source": [
    "data.boxplot('city_centers_nearest_m')\n",
    "data['city_centers_nearest_m'].describe()"
   ]
  },
  {
   "cell_type": "markdown",
   "metadata": {},
   "source": [
    "Избавимся от выбросов которые лежат, выше чем размаха верхнего \"уса\"."
   ]
  },
  {
   "cell_type": "code",
   "execution_count": 40,
   "metadata": {},
   "outputs": [
    {
     "name": "stdout",
     "output_type": "stream",
     "text": [
      "Межквартиальный размах равен 6539.0\n",
      "Верхняя граница размаха равна 26271.0\n"
     ]
    }
   ],
   "source": [
    "q1, q3 = data['city_centers_nearest_m'].quantile(0.25), data['city_centers_nearest_m'].quantile(0.75)\n",
    "iqr = q3 - q1\n",
    "print(f'Межквартиальный размах равен {iqr}')\n",
    "abnormal_high = q3 + 1.5 * iqr\n",
    "print(f'Верхняя граница размаха равна {abnormal_high}')"
   ]
  },
  {
   "cell_type": "code",
   "execution_count": 41,
   "metadata": {},
   "outputs": [
    {
     "data": {
      "text/plain": [
       "count    15493.000000\n",
       "mean     12305.017492\n",
       "std       4903.786304\n",
       "min        318.000000\n",
       "25%       9304.000000\n",
       "50%      12689.000000\n",
       "75%      15426.000000\n",
       "max      26239.000000\n",
       "Name: city_centers_nearest_m, dtype: float64"
      ]
     },
     "execution_count": 41,
     "metadata": {},
     "output_type": "execute_result"
    },
    {
     "data": {
      "image/png": "[encoded data removed]",
      "text/plain": [
       "<Figure size 432x288 with 1 Axes>"
      ]
     },
     "metadata": {
      "needs_background": "light"
     },
     "output_type": "display_data"
    }
   ],
   "source": [
    "data = data.query('city_centers_nearest_m < @abnormal_high or city_centers_nearest_m.isna()')\n",
    "data['city_centers_nearest_m'].hist(bins=35)\n",
    "data['city_centers_nearest_m'].describe()"
   ]
  },
  {
   "cell_type": "markdown",
   "metadata": {},
   "source": [
    "Минимальное расстояние до центра составляет `318` метр.<br>\n",
    "Среднее - `12168br>\n",
    "Максимальное - `24568`."
   ]
  },
  {
   "cell_type": "code",
   "execution_count": 42,
   "metadata": {},
   "outputs": [
    {
     "data": {
      "text/plain": [
       "count    7585.000000\n",
       "mean      528.580488\n",
       "std       278.948086\n",
       "min        13.000000\n",
       "25%       306.000000\n",
       "50%       515.000000\n",
       "75%       747.000000\n",
       "max      1344.000000\n",
       "Name: ponds_nearest, dtype: float64"
      ]
     },
     "execution_count": 42,
     "metadata": {},
     "output_type": "execute_result"
    },
    {
     "data": {
      "image/png": "[encoded data removed]",
      "text/plain": [
       "<Figure size 432x288 with 1 Axes>"
      ]
     },
     "metadata": {
      "needs_background": "light"
     },
     "output_type": "display_data"
    }
   ],
   "source": [
    "data.boxplot('ponds_nearest')\n",
    "data['ponds_nearest'].describe()"
   ]
  },
  {
   "cell_type": "markdown",
   "metadata": {},
   "source": [
    "Данные в столбце `ponds_nearest` в порядке. Можно строить гистограмму."
   ]
  },
  {
   "cell_type": "code",
   "execution_count": 43,
   "metadata": {},
   "outputs": [
    {
     "data": {
      "image/png": "[encoded data removed]",
      "text/plain": [
       "<Figure size 432x288 with 1 Axes>"
      ]
     },
     "metadata": {
      "needs_background": "light"
     },
     "output_type": "display_data"
    }
   ],
   "source": [
    "data['ponds_nearest'].hist(bins=35)\n",
    "plt.show()"
   ]
  },
  {
   "cell_type": "markdown",
   "metadata": {},
   "source": [
    "Минимальное расстояние до парка составляет `13` метров.<br>\n",
    "Среднее - `528`.<br>\n",
    "Максимальное - `1344`."
   ]
  },
  {
   "cell_type": "markdown",
   "metadata": {},
   "source": [
    "Проверим, какой процент данных мы потеряли, в результате преобразований выше."
   ]
  },
  {
   "cell_type": "code",
   "execution_count": 44,
   "metadata": {},
   "outputs": [
    {
     "name": "stdout",
     "output_type": "stream",
     "text": [
      "Оставшаяся доля данных после фильтрации 88.32%\n"
     ]
    }
   ],
   "source": [
    "num_of_objects_after = data.shape[0]\n",
    "print(f'Оставшаяся доля данных после фильтрации {num_of_objects_after / num_of_objects_before:.2%}')"
   ]
  },
  {
   "cell_type": "markdown",
   "metadata": {},
   "source": [
    "Изучим, как быстро продавались квартиры.\n",
    "Опишем, сколько времени обычно занимает продажа. \n",
    "Определим какие продажи можно считать быстрыми, а какие — необычно долгими."
   ]
  },
  {
   "cell_type": "code",
   "execution_count": 45,
   "metadata": {
    "scrolled": false
   },
   "outputs": [
    {
     "data": {
      "text/plain": [
       "count    18119.000000\n",
       "mean       177.445499\n",
       "std        216.744982\n",
       "min          1.000000\n",
       "25%         44.000000\n",
       "50%         93.000000\n",
       "75%        224.000000\n",
       "max       1580.000000\n",
       "Name: days_exposition, dtype: float64"
      ]
     },
     "execution_count": 45,
     "metadata": {},
     "output_type": "execute_result"
    },
    {
     "data": {
      "image/png": "[encoded data removed]",
      "text/plain": [
       "<Figure size 432x288 with 1 Axes>"
      ]
     },
     "metadata": {
      "needs_background": "light"
     },
     "output_type": "display_data"
    }
   ],
   "source": [
    "data['days_exposition'].hist(bins=30, range=(0, 1500))\n",
    "data['days_exposition'].describe()"
   ]
  },
  {
   "cell_type": "markdown",
   "metadata": {},
   "source": [
    "Распределение по столбцу `days_exposition` является распределением Пуасонна."
   ]
  },
  {
   "cell_type": "code",
   "execution_count": 46,
   "metadata": {},
   "outputs": [
    {
     "name": "stdout",
     "output_type": "stream",
     "text": [
      "Среднее время продажи квартиры: 177.44549919973508\n",
      "Медианное время продажи квартиры: 93.0\n"
     ]
    }
   ],
   "source": [
    "print(f\"Среднее время продажи квартиры: {data['days_exposition'].mean()}\")\n",
    "print(f\"Медианное время продажи квартиры: {data['days_exposition'].median()}\")"
   ]
  },
  {
   "cell_type": "code",
   "execution_count": 47,
   "metadata": {},
   "outputs": [
    {
     "data": {
      "image/png": "[encoded data removed]",
      "text/plain": [
       "<Figure size 432x288 with 1 Axes>"
      ]
     },
     "metadata": {
      "needs_background": "light"
     },
     "output_type": "display_data"
    },
    {
     "data": {
      "text/plain": [
       "count    18119.000000\n",
       "mean       177.445499\n",
       "std        216.744982\n",
       "min          1.000000\n",
       "25%         44.000000\n",
       "50%         93.000000\n",
       "75%        224.000000\n",
       "max       1580.000000\n",
       "Name: days_exposition, dtype: float64"
      ]
     },
     "execution_count": 47,
     "metadata": {},
     "output_type": "execute_result"
    }
   ],
   "source": [
    "data.boxplot('days_exposition')\n",
    "plt.show()\n",
    "data['days_exposition'].describe()"
   ]
  },
  {
   "cell_type": "code",
   "execution_count": 48,
   "metadata": {},
   "outputs": [
    {
     "name": "stdout",
     "output_type": "stream",
     "text": [
      "Межквартиальный размах равен 180.0\n",
      "Аномально высокие значения начинаются с 494\n"
     ]
    }
   ],
   "source": [
    "q3, q1 = data['days_exposition'].quantile(0.75), data['days_exposition'].quantile(0.25)\n",
    "iqr = q3 - q1\n",
    "print(f'Межквартиальный размах равен {iqr}')\n",
    "print(f'Аномально высокие значения начинаются с {int(q3 + 1.5 * iqr)}')"
   ]
  },
  {
   "cell_type": "markdown",
   "metadata": {},
   "source": [
    "Исходя из диаграммы размаха и вычисленного значения межквартиального размаха делаем вывод, что слишком долгими можно считать продажи, совершённые более чем за `494` дня. Аномально быстрыми продажами можно считать продажи, совершённые менее чем за `44` дня."
   ]
  },
  {
   "cell_type": "code",
   "execution_count": 49,
   "metadata": {},
   "outputs": [
    {
     "data": {
      "image/png": "[encoded data removed]",
      "text/plain": [
       "<Figure size 864x504 with 1 Axes>"
      ]
     },
     "metadata": {
      "needs_background": "light"
     },
     "output_type": "display_data"
    }
   ],
   "source": [
    "# Код ревьюера\n",
    "data['days_exposition'].hist(bins=50, range=(0,100), figsize=(12, 7))\n",
    "plt.show()"
   ]
  },
  {
   "cell_type": "markdown",
   "metadata": {},
   "source": [
    "Узнаем, какие факторы больше всего влияют на полную стоимость объекта.\n",
    "Изучим, зависит ли цена от:\n",
    "* общей площади;\n",
    "* жилой площади;\n",
    "* площади кухни;\n",
    "* количества комнат;\n",
    "* этажа, на котором расположена квартира (первый, последний, другой);\n",
    "* даты размещения (день недели, месяц, год)"
   ]
  },
  {
   "cell_type": "markdown",
   "metadata": {},
   "source": [
    "Для начала посчитаем коэффиценты корреляции столбца, содержащего полные стоимости с другими столбцами."
   ]
  },
  {
   "cell_type": "code",
   "execution_count": 50,
   "metadata": {},
   "outputs": [
    {
     "name": "stdout",
     "output_type": "stream",
     "text": [
      "Коэффицент корреляции стоимости и общей площади: 0.73\n",
      "Коэффицент корреляции стоимости и жилой площади: -0.1\n",
      "Коэффицент корреляции стоимости и площади кухни: 0.55\n",
      "Коэффицент корреляции стоимости и количества комнат: 0.42\n"
     ]
    }
   ],
   "source": [
    "print(f\"Коэффицент корреляции стоимости и общей площади: {data['last_price'].corr(data['total_area']).round(2)}\")\n",
    "print(f\"Коэффицент корреляции стоимости и жилой площади: {data['last_price'].corr(data['living_area']).round(2)}\")\n",
    "print(f\"Коэффицент корреляции стоимости и площади кухни: {data['last_price'].corr(data['kitchen_area']).round(2)}\")\n",
    "print(f\"Коэффицент корреляции стоимости и количества комнат: {data['last_price'].corr(data['rooms']).round(2)}\")"
   ]
  },
  {
   "cell_type": "markdown",
   "metadata": {},
   "source": [
    "Для столбцов `day_of_week_exposition`, `month_of_exposition`, `year_of_exposition` и `floor_type` коэффиценты посчитать нельзя из-за нечисловых типов данных."
   ]
  },
  {
   "cell_type": "code",
   "execution_count": 51,
   "metadata": {},
   "outputs": [
    {
     "data": {
      "image/png": "[encoded data removed]",
      "text/plain": [
       "<Figure size 432x288 with 1 Axes>"
      ]
     },
     "metadata": {
      "needs_background": "light"
     },
     "output_type": "display_data"
    }
   ],
   "source": [
    "data.plot(x='total_area', y='last_price', kind='scatter', alpha=0.3)\n",
    "plt.show()"
   ]
  },
  {
   "cell_type": "markdown",
   "metadata": {},
   "source": [
    "По графику можем наблюдать следующую тенденцию: с ростом площади растёт стоимость квартиры (прямая пропорциональность). Об этом также свидетельствует довольно высокий соответствующий коэффицент корреляции."
   ]
  },
  {
   "cell_type": "code",
   "execution_count": 52,
   "metadata": {},
   "outputs": [
    {
     "data": {
      "image/png": "[encoded data removed]",
      "text/plain": [
       "<Figure size 432x288 with 1 Axes>"
      ]
     },
     "metadata": {
      "needs_background": "light"
     },
     "output_type": "display_data"
    }
   ],
   "source": [
    "data.plot(x='living_area', y='last_price', kind='scatter', alpha=0.3)\n",
    "plt.show()"
   ]
  },
  {
   "cell_type": "markdown",
   "metadata": {},
   "source": [
    "Ситуация идентична с `total_area`."
   ]
  },
  {
   "cell_type": "code",
   "execution_count": 53,
   "metadata": {
    "scrolled": true
   },
   "outputs": [
    {
     "data": {
      "image/png": "[encoded data removed]",
      "text/plain": [
       "<Figure size 432x288 with 1 Axes>"
      ]
     },
     "metadata": {
      "needs_background": "light"
     },
     "output_type": "display_data"
    }
   ],
   "source": [
    "data.plot(x='kitchen_area', y='last_price', kind='scatter', alpha=0.3)\n",
    "plt.show()"
   ]
  },
  {
   "cell_type": "markdown",
   "metadata": {},
   "source": [
    "Можно сказать, что площадь кухни не влияет на стоимость квартиры."
   ]
  },
  {
   "cell_type": "code",
   "execution_count": 54,
   "metadata": {
    "scrolled": true
   },
   "outputs": [
    {
     "data": {
      "image/png": "[encoded data removed]",
      "text/plain": [
       "<Figure size 432x288 with 1 Axes>"
      ]
     },
     "metadata": {
      "needs_background": "light"
     },
     "output_type": "display_data"
    }
   ],
   "source": [
    "data.plot(x='rooms', y='last_price', kind='scatter', alpha=0.3)\n",
    "plt.show()"
   ]
  },
  {
   "cell_type": "markdown",
   "metadata": {},
   "source": [
    "Количество комнат прямо пропорционально влияет на общую стоимость, но вклад этого параметра меньше, чем вклад жилой и общей площади.<br>"
   ]
  },
  {
   "cell_type": "code",
   "execution_count": 55,
   "metadata": {},
   "outputs": [
    {
     "data": {
      "image/png": "[encoded data removed]",
      "text/plain": [
       "<Figure size 432x288 with 1 Axes>"
      ]
     },
     "metadata": {
      "needs_background": "light"
     },
     "output_type": "display_data"
    },
    {
     "data": {
      "text/plain": [
       "floor_type\n",
       "Другой       6.407563e+06\n",
       "Первый       4.588639e+06\n",
       "Последний    6.124711e+06\n",
       "Name: last_price, dtype: float64"
      ]
     },
     "execution_count": 55,
     "metadata": {},
     "output_type": "execute_result"
    }
   ],
   "source": [
    "data.plot(x='floor_type', y='last_price', kind='scatter', alpha=0.3)\n",
    "plt.show()\n",
    "data.groupby('floor_type')['last_price'].mean()"
   ]
  },
  {
   "cell_type": "markdown",
   "metadata": {},
   "source": [
    "Исходя из графика и дополнительной таблицы можно сделать следующий вывод: наибольшую среднюю цену имеют квартиры с типом этажа \"Другой\", затем идут квартиры на последнем этаже. Наименьшую среднюю цену имеют квартиры на первом этаже, их цена значительно меньше других."
   ]
  },
  {
   "cell_type": "code",
   "execution_count": 56,
   "metadata": {},
   "outputs": [
    {
     "data": {
      "image/png": "[encoded data removed]",
      "text/plain": [
       "<Figure size 864x360 with 1 Axes>"
      ]
     },
     "metadata": {
      "needs_background": "light"
     },
     "output_type": "display_data"
    },
    {
     "data": {
      "image/png": "[encoded data removed]",
      "text/plain": [
       "<Figure size 864x360 with 1 Axes>"
      ]
     },
     "metadata": {
      "needs_background": "light"
     },
     "output_type": "display_data"
    },
    {
     "data": {
      "image/png": "[encoded data removed]",
      "text/plain": [
       "<Figure size 864x360 with 1 Axes>"
      ]
     },
     "metadata": {
      "needs_background": "light"
     },
     "output_type": "display_data"
    }
   ],
   "source": [
    "data.plot(x='day_of_week_exposition', y='last_price', kind='scatter', alpha=0.3, figsize=(12,5))\n",
    "plt.show()\n",
    "data.plot(x='month_of_exposition', y='last_price', kind='scatter', alpha=0.3, figsize=(12,5))\n",
    "plt.show()\n",
    "data.plot(x='year_of_exposition', y='last_price', kind='scatter', alpha=0.3, figsize=(12,5))\n",
    "plt.show()"
   ]
  },
  {
   "cell_type": "markdown",
   "metadata": {},
   "source": [
    "День недели, месяц и год публикации не влияют на стоимость. Разумеется на графиках присутствуют максимумы, но какой-либо конкретной тенденции не наблюдается.  "
   ]
  },
  {
   "cell_type": "markdown",
   "metadata": {},
   "source": [
    "На формирование полной стоимости квартиры в основном влияют четыре фактора:\n",
    "* Общая площадь\n",
    "* Жилая площадь\n",
    "* Количество комнат\n",
    "* Этаж, на котором расположена квартира (первый, последний, другой)\n",
    "\n",
    "Вклад остальных факторов незначителен или отсутствует."
   ]
  },
  {
   "cell_type": "markdown",
   "metadata": {},
   "source": [
    "Посчитаем среднюю цену одного квадратного метра в 10 населённых пунктах с наибольшим числом объявлений."
   ]
  },
  {
   "cell_type": "code",
   "execution_count": 57,
   "metadata": {},
   "outputs": [
    {
     "data": {
      "text/html": [
       "<div>\n",
       "<style scoped>\n",
       "    .dataframe tbody tr th:only-of-type {\n",
       "        vertical-align: middle;\n",
       "    }\n",
       "\n",
       "    .dataframe tbody tr th {\n",
       "        vertical-align: top;\n",
       "    }\n",
       "\n",
       "    .dataframe thead th {\n",
       "        text-align: right;\n",
       "    }\n",
       "</style>\n",
       "<table border=\"1\" class=\"dataframe\">\n",
       "  <thead>\n",
       "    <tr style=\"text-align: right;\">\n",
       "      <th></th>\n",
       "      <th>num_of_publications</th>\n",
       "      <th>mean_square_meter_price</th>\n",
       "    </tr>\n",
       "    <tr>\n",
       "      <th>locality_name</th>\n",
       "      <th></th>\n",
       "      <th></th>\n",
       "    </tr>\n",
       "  </thead>\n",
       "  <tbody>\n",
       "    <tr>\n",
       "      <th>Санкт-Петербург</th>\n",
       "      <td>14860</td>\n",
       "      <td>112687.204322</td>\n",
       "    </tr>\n",
       "    <tr>\n",
       "      <th>посёлок Мурино</th>\n",
       "      <td>529</td>\n",
       "      <td>85004.057807</td>\n",
       "    </tr>\n",
       "    <tr>\n",
       "      <th>Всеволожск</th>\n",
       "      <td>388</td>\n",
       "      <td>68571.339923</td>\n",
       "    </tr>\n",
       "    <tr>\n",
       "      <th>посёлок Парголово</th>\n",
       "      <td>323</td>\n",
       "      <td>90289.778019</td>\n",
       "    </tr>\n",
       "    <tr>\n",
       "      <th>Гатчина</th>\n",
       "      <td>305</td>\n",
       "      <td>68764.485115</td>\n",
       "    </tr>\n",
       "    <tr>\n",
       "      <th>деревня Кудрово</th>\n",
       "      <td>283</td>\n",
       "      <td>92297.218834</td>\n",
       "    </tr>\n",
       "    <tr>\n",
       "      <th>посёлок Шушары</th>\n",
       "      <td>250</td>\n",
       "      <td>80489.188360</td>\n",
       "    </tr>\n",
       "    <tr>\n",
       "      <th>Выборг</th>\n",
       "      <td>227</td>\n",
       "      <td>57972.726740</td>\n",
       "    </tr>\n",
       "    <tr>\n",
       "      <th>Кудрово</th>\n",
       "      <td>167</td>\n",
       "      <td>99989.421257</td>\n",
       "    </tr>\n",
       "    <tr>\n",
       "      <th>деревня Новое Девяткино</th>\n",
       "      <td>143</td>\n",
       "      <td>76119.176643</td>\n",
       "    </tr>\n",
       "  </tbody>\n",
       "</table>\n",
       "</div>"
      ],
      "text/plain": [
       "                         num_of_publications  mean_square_meter_price\n",
       "locality_name                                                        \n",
       "Санкт-Петербург                        14860            112687.204322\n",
       "посёлок Мурино                           529             85004.057807\n",
       "Всеволожск                               388             68571.339923\n",
       "посёлок Парголово                        323             90289.778019\n",
       "Гатчина                                  305             68764.485115\n",
       "деревня Кудрово                          283             92297.218834\n",
       "посёлок Шушары                           250             80489.188360\n",
       "Выборг                                   227             57972.726740\n",
       "Кудрово                                  167             99989.421257\n",
       "деревня Новое Девяткино                  143             76119.176643"
      ]
     },
     "execution_count": 57,
     "metadata": {},
     "output_type": "execute_result"
    }
   ],
   "source": [
    "mean_square_meter_prices = (\n",
    "    data.pivot_table(index='locality_name', values='square_meter_price', aggfunc=['count', 'mean'])\n",
    ")\n",
    "mean_square_meter_prices.columns = ['num_of_publications', 'mean_square_meter_price']\n",
    "\n",
    "mean_square_meter_prices.sort_values(by='num_of_publications', ascending=False).head(10)"
   ]
  },
  {
   "cell_type": "markdown",
   "metadata": {},
   "source": [
    "Исходя из вывода, можно сделать вывод, что наибольшее число обьявлений в наиболее крупных по площади населённых пунктах."
   ]
  },
  {
   "cell_type": "markdown",
   "metadata": {},
   "source": [
    "Выделим населённые пункты с наименьшей и наибольшой средней стоимостью одного квадратного метра."
   ]
  },
  {
   "cell_type": "code",
   "execution_count": 58,
   "metadata": {},
   "outputs": [],
   "source": [
    "mean_square_meter_prices_sort_by_price = mean_square_meter_prices.sort_values(by='mean_square_meter_price')"
   ]
  },
  {
   "cell_type": "code",
   "execution_count": 59,
   "metadata": {},
   "outputs": [
    {
     "data": {
      "text/html": [
       "<div>\n",
       "<style scoped>\n",
       "    .dataframe tbody tr th:only-of-type {\n",
       "        vertical-align: middle;\n",
       "    }\n",
       "\n",
       "    .dataframe tbody tr th {\n",
       "        vertical-align: top;\n",
       "    }\n",
       "\n",
       "    .dataframe thead th {\n",
       "        text-align: right;\n",
       "    }\n",
       "</style>\n",
       "<table border=\"1\" class=\"dataframe\">\n",
       "  <thead>\n",
       "    <tr style=\"text-align: right;\">\n",
       "      <th></th>\n",
       "      <th>num_of_publications</th>\n",
       "      <th>mean_square_meter_price</th>\n",
       "    </tr>\n",
       "    <tr>\n",
       "      <th>locality_name</th>\n",
       "      <th></th>\n",
       "      <th></th>\n",
       "    </tr>\n",
       "  </thead>\n",
       "  <tbody>\n",
       "    <tr>\n",
       "      <th>деревня Старополье</th>\n",
       "      <td>3</td>\n",
       "      <td>11206.22</td>\n",
       "    </tr>\n",
       "    <tr>\n",
       "      <th>посёлок станции Свирь</th>\n",
       "      <td>2</td>\n",
       "      <td>11481.48</td>\n",
       "    </tr>\n",
       "    <tr>\n",
       "      <th>деревня Вахнова Кара</th>\n",
       "      <td>1</td>\n",
       "      <td>11688.31</td>\n",
       "    </tr>\n",
       "    <tr>\n",
       "      <th>деревня Выскатка</th>\n",
       "      <td>2</td>\n",
       "      <td>12335.48</td>\n",
       "    </tr>\n",
       "    <tr>\n",
       "      <th>посёлок Совхозный</th>\n",
       "      <td>2</td>\n",
       "      <td>12629.13</td>\n",
       "    </tr>\n",
       "  </tbody>\n",
       "</table>\n",
       "</div>"
      ],
      "text/plain": [
       "                       num_of_publications  mean_square_meter_price\n",
       "locality_name                                                      \n",
       "деревня Старополье                       3                 11206.22\n",
       "посёлок станции Свирь                    2                 11481.48\n",
       "деревня Вахнова Кара                     1                 11688.31\n",
       "деревня Выскатка                         2                 12335.48\n",
       "посёлок Совхозный                        2                 12629.13"
      ]
     },
     "execution_count": 59,
     "metadata": {},
     "output_type": "execute_result"
    }
   ],
   "source": [
    "mean_square_meter_prices_sort_by_price.head()"
   ]
  },
  {
   "cell_type": "code",
   "execution_count": 60,
   "metadata": {
    "scrolled": true
   },
   "outputs": [
    {
     "data": {
      "text/html": [
       "<div>\n",
       "<style scoped>\n",
       "    .dataframe tbody tr th:only-of-type {\n",
       "        vertical-align: middle;\n",
       "    }\n",
       "\n",
       "    .dataframe tbody tr th {\n",
       "        vertical-align: top;\n",
       "    }\n",
       "\n",
       "    .dataframe thead th {\n",
       "        text-align: right;\n",
       "    }\n",
       "</style>\n",
       "<table border=\"1\" class=\"dataframe\">\n",
       "  <thead>\n",
       "    <tr style=\"text-align: right;\">\n",
       "      <th></th>\n",
       "      <th>num_of_publications</th>\n",
       "      <th>mean_square_meter_price</th>\n",
       "    </tr>\n",
       "    <tr>\n",
       "      <th>locality_name</th>\n",
       "      <th></th>\n",
       "      <th></th>\n",
       "    </tr>\n",
       "  </thead>\n",
       "  <tbody>\n",
       "    <tr>\n",
       "      <th>деревня Мистолово</th>\n",
       "      <td>11</td>\n",
       "      <td>98549.977273</td>\n",
       "    </tr>\n",
       "    <tr>\n",
       "      <th>Кудрово</th>\n",
       "      <td>167</td>\n",
       "      <td>99989.421257</td>\n",
       "    </tr>\n",
       "    <tr>\n",
       "      <th>Пушкин</th>\n",
       "      <td>70</td>\n",
       "      <td>100439.956714</td>\n",
       "    </tr>\n",
       "    <tr>\n",
       "      <th>Кронштадт</th>\n",
       "      <td>1</td>\n",
       "      <td>111470.590000</td>\n",
       "    </tr>\n",
       "    <tr>\n",
       "      <th>Санкт-Петербург</th>\n",
       "      <td>14860</td>\n",
       "      <td>112687.204322</td>\n",
       "    </tr>\n",
       "  </tbody>\n",
       "</table>\n",
       "</div>"
      ],
      "text/plain": [
       "                   num_of_publications  mean_square_meter_price\n",
       "locality_name                                                  \n",
       "деревня Мистолово                   11             98549.977273\n",
       "Кудрово                            167             99989.421257\n",
       "Пушкин                              70            100439.956714\n",
       "Кронштадт                            1            111470.590000\n",
       "Санкт-Петербург                  14860            112687.204322"
      ]
     },
     "execution_count": 60,
     "metadata": {},
     "output_type": "execute_result"
    }
   ],
   "source": [
    "mean_square_meter_prices_sort_by_price.tail()"
   ]
  },
  {
   "cell_type": "markdown",
   "metadata": {},
   "source": [
    "Теперь выделим квартиры в Санкт-Петербурге и вычислим среднюю цену каждого километра. Опишем, как стоимость объектов зависит от расстояния до центра города — построим график изменения средней цены для каждого километра от центра Петербурга."
   ]
  },
  {
   "cell_type": "code",
   "execution_count": 61,
   "metadata": {},
   "outputs": [
    {
     "data": {
      "text/html": [
       "<div>\n",
       "<style scoped>\n",
       "    .dataframe tbody tr th:only-of-type {\n",
       "        vertical-align: middle;\n",
       "    }\n",
       "\n",
       "    .dataframe tbody tr th {\n",
       "        vertical-align: top;\n",
       "    }\n",
       "\n",
       "    .dataframe thead th {\n",
       "        text-align: right;\n",
       "    }\n",
       "</style>\n",
       "<table border=\"1\" class=\"dataframe\">\n",
       "  <thead>\n",
       "    <tr style=\"text-align: right;\">\n",
       "      <th></th>\n",
       "      <th>mean_last_price</th>\n",
       "    </tr>\n",
       "    <tr>\n",
       "      <th>city_centers_nearest_km</th>\n",
       "      <th></th>\n",
       "    </tr>\n",
       "  </thead>\n",
       "  <tbody>\n",
       "    <tr>\n",
       "      <th>0.0</th>\n",
       "      <td>4.244981e+07</td>\n",
       "    </tr>\n",
       "    <tr>\n",
       "      <th>1.0</th>\n",
       "      <td>1.623585e+07</td>\n",
       "    </tr>\n",
       "    <tr>\n",
       "      <th>2.0</th>\n",
       "      <td>1.512632e+07</td>\n",
       "    </tr>\n",
       "    <tr>\n",
       "      <th>3.0</th>\n",
       "      <td>1.055836e+07</td>\n",
       "    </tr>\n",
       "    <tr>\n",
       "      <th>4.0</th>\n",
       "      <td>1.145929e+07</td>\n",
       "    </tr>\n",
       "  </tbody>\n",
       "</table>\n",
       "</div>"
      ],
      "text/plain": [
       "                         mean_last_price\n",
       "city_centers_nearest_km                 \n",
       "0.0                         4.244981e+07\n",
       "1.0                         1.623585e+07\n",
       "2.0                         1.512632e+07\n",
       "3.0                         1.055836e+07\n",
       "4.0                         1.145929e+07"
      ]
     },
     "execution_count": 61,
     "metadata": {},
     "output_type": "execute_result"
    }
   ],
   "source": [
    "spb_mean_price_by_km = (\n",
    "    data.query('locality_name == \"Санкт-Петербург\"')\n",
    "    .groupby('city_centers_nearest_km')\n",
    "    .agg({'last_price': 'mean'})\n",
    ")\n",
    "spb_mean_price_by_km.columns = ['mean_last_price']\n",
    "spb_mean_price_by_km.head()"
   ]
  },
  {
   "cell_type": "code",
   "execution_count": 62,
   "metadata": {},
   "outputs": [
    {
     "data": {
      "image/png": "[encoded data removed]",
      "text/plain": [
       "<Figure size 432x288 with 1 Axes>"
      ]
     },
     "metadata": {
      "needs_background": "light"
     },
     "output_type": "display_data"
    }
   ],
   "source": [
    "spb_mean_price_by_km.plot(xlim=(0,30))\n",
    "plt.show()"
   ]
  },
  {
   "cell_type": "markdown",
   "metadata": {},
   "source": [
    "Исходя из графика, получаем вполне логичное соотношение - расстояние до центра города обратно пропорциональна стоимости объекта. Разумеется, есть некоторые исключения, но их наличие вполне нормально."
   ]
  },
  {
   "cell_type": "markdown",
   "metadata": {},
   "source": [
    "На этом этапе мы провели исследовательский анализ данных.\n",
    "* Построили гистограммы для следующих параметров: общая площадь, жилая площадь, площадь кухни, цена объекта, количество комнат, высота потолков, тип этажа квартиры, общее количество этажей в доме, расстояние до центра города в метрах, расстояние до ближайшего парка и устранили аномальные значения;\n",
    "* Изучили, как быстро продавались квартиры. Пришли к выводу, что аномально быстрыми продажами можно считать продажи, совершённые менее чем за `44` дня, а аномально долгими те, что совершены более чем за `494` дня;\n",
    "* Узнали, на формирование полной стоимости квартиры в основном влияют три фактора: общая площадь, жилая площадь, количество комнат;\n",
    "* Посчитали среднюю цену одного квадратного метра в 10 населённых пунктах с наибольшим числом объявлений. Выделили населённые пункты с самой высокой и низкой стоимостью квадратного метра.\n",
    "* Пришли к выводу, что квартиры в Санкт-Петербурге тем дешевле, чем больше они удалены от центра;"
   ]
  },
  {
   "cell_type": "markdown",
   "metadata": {},
   "source": [
    "### Общий вывод"
   ]
  },
  {
   "cell_type": "markdown",
   "metadata": {},
   "source": [
    "В этом проекте мы поработали с данными сервиса \"Яндекс Недвижимость\".<br>\n",
    "\n",
    "Данные представляют собой архив объявлений о продаже квартир в Санкт-Петербурге и соседних населённых пунктах за несколько лет.<br>\n",
    "\n",
    "Нужно научиться определять рыночную стоимость объектов недвижимости. Необходимо провести исследовательский анализ данных, который поможет установить параметры, влияющие на цену объектов. Это позволит построить автоматизированную систему: она отследит аномалии и мошенническую деятельность. \n",
    "\n",
    "Работа состояла из 4 этапов:\n",
    "1. Знакомство с данными\n",
    "2. Предобработка данных\n",
    "3. Добавление новых столбцо\n",
    "4. Исследовательский анализ\n",
    "\n",
    "На первом этапе мы открыли файл с данными, построили гистограммы для каждого параметра, чтобы сразу увидеть возможные проблемы.\n",
    "\n",
    "На втором этапе мы заполнили пропуски в столбцах, где это было возможно сделать, определили причины пропусков.\n",
    "\n",
    "На третьем этапе добавили в таблицу несколько новых столбцов:\n",
    "* `square_meter_price` - цена одного квадратного метра\n",
    "* `day_of_week_exposition` - день недели публикации объявления (0 — понедельник, 1 — вторник и так далее)\n",
    "* `month_of_exposition` - месяц публикации объявления\n",
    "* `year_of_exposition` - год публикации объявления\n",
    "* `floor_type` - тип этажа квартиры (значения — «первый», «последний», «другой»)\n",
    "* `city_centers_nearest_km` - расстояние до центра города в километрах\n",
    "\n",
    "На четвертом этапе мы сделали несколько важных выводов, которые и являлись основной целью работы:\n",
    "* Изучили, как быстро продавались квартиры. Пришли к выводу, что аномально быстрыми продажами можно считать продажи, совершённые менее чем за 44 дней, а аномально долгими те, что совершены более чем за 494 дней;\n",
    "* Узнали, на формирование полной стоимости квартиры в основном влияют четыре фактора: общая площадь, жилая площадь, количество комнат, этаж (первый, последний, другой);\n",
    "* Посчитали среднюю цену одного квадратного метра в 10 населённых пунктах с наибольшим числом объявлений. Выделили населённые пункты с самой высокой и низкой стоимостью квадратного метра;\n",
    "* Пришли к выводу, что квартиры в Санкт-Петербурге тем дешевле, чем больше они удалены от центра;"
   ]
  },
  {
   "cell_type": "markdown",
   "metadata": {},
   "source": [
    "**Чек-лист готовности проекта**\n",
    "\n",
    "Поставьте 'x' в выполненных пунктах. Далее нажмите Shift+Enter."
   ]
  },
  {
   "cell_type": "markdown",
   "metadata": {},
   "source": [
    "- [x]  открыт файл\n",
    "- [x]  файлы изучены (выведены первые строки, метод `info()`, гистограммы и т.д.)\n",
    "- [x]  определены пропущенные значения\n",
    "- [x]  заполнены пропущенные значения там, где это возможно\n",
    "- [x]  есть пояснение, какие пропущенные значения обнаружены\n",
    "- [x]  изменены типы данных\n",
    "- [x]  есть пояснение, в каких столбцах изменены типы и почему\n",
    "- [x]  устранены неявные дубликаты в названиях населённых пунктов\n",
    "- [x]  устранены редкие и выбивающиеся значения (аномалии) во всех столбцах\n",
    "- [x]  посчитано и добавлено в таблицу: цена одного квадратного метра\n",
    "- [x]  посчитано и добавлено в таблицу: день публикации объявления (0 - понедельник, 1 - вторник и т.д.)\n",
    "- [x]  посчитано и добавлено в таблицу: месяц публикации объявления\n",
    "- [x]  посчитано и добавлено в таблицу: год публикации объявления\n",
    "- [x]  посчитано и добавлено в таблицу: тип этажа квартиры (значения — «первый», «последний», «другой»)\n",
    "- [x]  посчитано и добавлено в таблицу: расстояние в км до центра города\n",
    "- [x]  изучены и описаны следующие параметры:\n",
    "        - общая площадь;\n",
    "        - жилая площадь;\n",
    "        - площадь кухни;\n",
    "        - цена объекта;\n",
    "        - количество комнат;\n",
    "        - высота потолков;\n",
    "        - этаж квартиры;\n",
    "        - тип этажа квартиры («первый», «последний», «другой»);\n",
    "        - общее количество этажей в доме;\n",
    "        - расстояние до центра города в метрах;\n",
    "        - расстояние до ближайшего аэропорта;\n",
    "        - расстояние до ближайшего парка;\n",
    "        - день и месяц публикации объявления\n",
    "- [x]  построены гистограммы для каждого параметра\n",
    "- [x]  выполнено задание: \"Изучите, как быстро продавались квартиры (столбец days_exposition). Этот параметр показывает, сколько дней «висело» каждое объявление.\n",
    "    - Постройте гистограмму.\n",
    "    - Посчитайте среднее и медиану.\n",
    "    - В ячейке типа markdown опишите, сколько обычно занимает продажа. Какие продажи можно считать быстрыми, а какие — необычно долгими?\"\n",
    "- [x]  выполнено задание: \"Какие факторы больше всего влияют на общую (полную) стоимость объекта? Постройте графики, которые покажут зависимость цены от указанных ниже параметров. Для подготовки данных перед визуализацией вы можете использовать сводные таблицы.\"\n",
    "        - общей площади;\n",
    "        - жилой площади;\n",
    "        - площади кухни;\n",
    "        - количество комнат;\n",
    "        - типа этажа, на котором расположена квартира (первый, последний, другой);\n",
    "        - даты размещения (день недели, месяц, год);\n",
    "- [x]  выполнено задание: \"Посчитайте среднюю цену одного квадратного метра в 10 населённых пунктах с наибольшим числом объявлений. Выделите населённые пункты с самой высокой и низкой стоимостью квадратного метра. Эти данные можно найти по имени в столбце `locality_name`.\"\n",
    "- [x]  выполнено задание: \"Ранее вы посчитали расстояние до центра в километрах. Теперь выделите квартиры в Санкт-Петербурге с помощью столбца `locality_name` и вычислите среднюю цену каждого километра. Опишите, как стоимость объектов зависит от расстояния до центра города.\"\n",
    "- [x]  в каждом этапе есть промежуточные выводы\n",
    "- [x]  есть общий вывод"
   ]
  }
 ],
 "metadata": {
  "ExecuteTimeLog": [
   {
    "duration": 46,
    "start_time": "2023-11-02T14:36:58.230Z"
   },
   {
    "duration": 719,
    "start_time": "2023-11-02T14:37:07.022Z"
   },
   {
    "duration": 3,
    "start_time": "2023-11-02T14:38:41.167Z"
   },
   {
    "duration": 86,
    "start_time": "2023-11-02T14:38:50.770Z"
   },
   {
    "duration": 85,
    "start_time": "2023-11-02T14:38:58.534Z"
   },
   {
    "duration": 12,
    "start_time": "2023-11-02T14:39:14.696Z"
   },
   {
    "duration": 23,
    "start_time": "2023-11-02T14:40:17.321Z"
   },
   {
    "duration": 14,
    "start_time": "2023-11-02T14:40:20.312Z"
   },
   {
    "duration": 3,
    "start_time": "2023-11-02T14:40:45.844Z"
   },
   {
    "duration": 89,
    "start_time": "2023-11-02T14:40:46.082Z"
   },
   {
    "duration": 34,
    "start_time": "2023-11-02T14:40:46.614Z"
   },
   {
    "duration": 13,
    "start_time": "2023-11-02T14:41:21.571Z"
   },
   {
    "duration": 71,
    "start_time": "2023-11-02T14:41:37.405Z"
   },
   {
    "duration": 85,
    "start_time": "2023-11-02T14:42:39.142Z"
   },
   {
    "duration": 85,
    "start_time": "2023-11-02T14:42:41.433Z"
   },
   {
    "duration": 13,
    "start_time": "2023-11-02T14:42:46.067Z"
   },
   {
    "duration": 24,
    "start_time": "2023-11-02T14:43:07.831Z"
   },
   {
    "duration": 100,
    "start_time": "2023-11-02T14:43:23.117Z"
   },
   {
    "duration": 34,
    "start_time": "2023-11-02T14:43:27.644Z"
   },
   {
    "duration": 1815,
    "start_time": "2023-11-02T14:43:47.683Z"
   },
   {
    "duration": 1406,
    "start_time": "2023-11-02T14:43:58.429Z"
   },
   {
    "duration": 1323,
    "start_time": "2023-11-02T14:44:02.718Z"
   },
   {
    "duration": 1479,
    "start_time": "2023-11-02T14:45:10.776Z"
   },
   {
    "duration": 2151,
    "start_time": "2023-11-02T14:45:20.011Z"
   },
   {
    "duration": 2004,
    "start_time": "2023-11-02T14:45:46.704Z"
   },
   {
    "duration": 417,
    "start_time": "2023-11-04T20:58:06.313Z"
   },
   {
    "duration": 783,
    "start_time": "2023-11-04T20:58:06.810Z"
   },
   {
    "duration": 18,
    "start_time": "2023-11-04T20:58:08.459Z"
   },
   {
    "duration": 16,
    "start_time": "2023-11-04T20:58:17.331Z"
   },
   {
    "duration": 42,
    "start_time": "2023-11-04T20:58:24.491Z"
   },
   {
    "duration": 2673,
    "start_time": "2023-11-04T20:58:27.102Z"
   },
   {
    "duration": 27,
    "start_time": "2023-11-04T21:00:34.349Z"
   },
   {
    "duration": 10,
    "start_time": "2023-11-04T21:00:38.302Z"
   },
   {
    "duration": 86,
    "start_time": "2023-11-04T21:06:17.944Z"
   },
   {
    "duration": 10,
    "start_time": "2023-11-04T21:06:24.352Z"
   },
   {
    "duration": 10,
    "start_time": "2023-11-04T21:07:00.922Z"
   },
   {
    "duration": 71,
    "start_time": "2023-11-04T21:14:59.454Z"
   },
   {
    "duration": 7,
    "start_time": "2023-11-04T21:15:08.510Z"
   },
   {
    "duration": 9,
    "start_time": "2023-11-04T21:17:08.290Z"
   },
   {
    "duration": 4,
    "start_time": "2023-11-04T21:17:39.618Z"
   },
   {
    "duration": 12,
    "start_time": "2023-11-04T21:17:46.999Z"
   },
   {
    "duration": 5,
    "start_time": "2023-11-04T21:17:52.261Z"
   },
   {
    "duration": 4,
    "start_time": "2023-11-04T21:18:33.976Z"
   },
   {
    "duration": 4,
    "start_time": "2023-11-04T21:20:08.295Z"
   },
   {
    "duration": 9,
    "start_time": "2023-11-04T21:20:59.998Z"
   },
   {
    "duration": 3,
    "start_time": "2023-11-04T21:21:04.628Z"
   },
   {
    "duration": 139,
    "start_time": "2023-11-04T21:21:04.825Z"
   },
   {
    "duration": 18,
    "start_time": "2023-11-04T21:21:05.003Z"
   },
   {
    "duration": 26,
    "start_time": "2023-11-04T21:21:07.535Z"
   },
   {
    "duration": 1972,
    "start_time": "2023-11-04T21:21:07.904Z"
   },
   {
    "duration": 10,
    "start_time": "2023-11-04T21:21:09.878Z"
   },
   {
    "duration": 4,
    "start_time": "2023-11-04T21:21:13.621Z"
   },
   {
    "duration": 426,
    "start_time": "2023-11-04T21:25:55.952Z"
   },
   {
    "duration": 140,
    "start_time": "2023-11-04T21:25:56.380Z"
   },
   {
    "duration": 22,
    "start_time": "2023-11-04T21:25:56.522Z"
   },
   {
    "duration": 30,
    "start_time": "2023-11-04T21:25:56.546Z"
   },
   {
    "duration": 2470,
    "start_time": "2023-11-04T21:25:56.578Z"
   },
   {
    "duration": 15,
    "start_time": "2023-11-04T21:25:59.050Z"
   },
   {
    "duration": 15,
    "start_time": "2023-11-04T21:25:59.067Z"
   },
   {
    "duration": 80,
    "start_time": "2023-11-04T21:25:59.083Z"
   },
   {
    "duration": 17,
    "start_time": "2023-11-04T21:26:19.191Z"
   },
   {
    "duration": 2,
    "start_time": "2023-11-04T21:37:29.271Z"
   },
   {
    "duration": 133,
    "start_time": "2023-11-04T21:37:29.478Z"
   },
   {
    "duration": 15,
    "start_time": "2023-11-04T21:37:29.614Z"
   },
   {
    "duration": 33,
    "start_time": "2023-11-04T21:37:29.746Z"
   },
   {
    "duration": 1983,
    "start_time": "2023-11-04T21:37:29.890Z"
   },
   {
    "duration": 9,
    "start_time": "2023-11-04T21:37:31.875Z"
   },
   {
    "duration": 12,
    "start_time": "2023-11-04T21:37:32.080Z"
   },
   {
    "duration": 6,
    "start_time": "2023-11-04T21:41:12.550Z"
   },
   {
    "duration": 6,
    "start_time": "2023-11-04T21:45:37.365Z"
   },
   {
    "duration": 14,
    "start_time": "2023-11-04T21:51:33.620Z"
   },
   {
    "duration": 16,
    "start_time": "2023-11-04T21:51:59.287Z"
   },
   {
    "duration": 39,
    "start_time": "2023-11-04T21:52:05.693Z"
   },
   {
    "duration": 9,
    "start_time": "2023-11-04T21:52:20.110Z"
   },
   {
    "duration": 40,
    "start_time": "2023-11-04T21:52:35.235Z"
   },
   {
    "duration": 12,
    "start_time": "2023-11-04T21:52:45.058Z"
   },
   {
    "duration": 396,
    "start_time": "2023-11-04T23:37:44.756Z"
   },
   {
    "duration": 408,
    "start_time": "2023-11-04T23:37:45.154Z"
   },
   {
    "duration": 15,
    "start_time": "2023-11-04T23:37:45.563Z"
   },
   {
    "duration": 47,
    "start_time": "2023-11-04T23:37:45.580Z"
   },
   {
    "duration": 2521,
    "start_time": "2023-11-04T23:37:45.629Z"
   },
   {
    "duration": 12,
    "start_time": "2023-11-04T23:37:48.152Z"
   },
   {
    "duration": 23,
    "start_time": "2023-11-04T23:37:48.166Z"
   },
   {
    "duration": 13,
    "start_time": "2023-11-04T23:37:48.191Z"
   },
   {
    "duration": 12,
    "start_time": "2023-11-04T23:37:48.206Z"
   },
   {
    "duration": 79,
    "start_time": "2023-11-04T23:39:57.394Z"
   },
   {
    "duration": 40,
    "start_time": "2023-11-04T23:40:05.127Z"
   },
   {
    "duration": 7,
    "start_time": "2023-11-04T23:41:41.767Z"
   },
   {
    "duration": 14,
    "start_time": "2023-11-04T23:42:58.101Z"
   },
   {
    "duration": 10,
    "start_time": "2023-11-04T23:43:02.936Z"
   },
   {
    "duration": 8,
    "start_time": "2023-11-04T23:43:05.718Z"
   },
   {
    "duration": 12,
    "start_time": "2023-11-04T23:43:17.472Z"
   },
   {
    "duration": 17,
    "start_time": "2023-11-04T23:43:19.499Z"
   },
   {
    "duration": 6,
    "start_time": "2023-11-04T23:43:29.870Z"
   },
   {
    "duration": 19,
    "start_time": "2023-11-04T23:50:29.505Z"
   },
   {
    "duration": 8,
    "start_time": "2023-11-04T23:50:36.718Z"
   },
   {
    "duration": 3,
    "start_time": "2023-11-04T23:52:18.350Z"
   },
   {
    "duration": 197,
    "start_time": "2023-11-04T23:52:18.467Z"
   },
   {
    "duration": 16,
    "start_time": "2023-11-04T23:52:18.666Z"
   },
   {
    "duration": 32,
    "start_time": "2023-11-04T23:52:18.790Z"
   },
   {
    "duration": 2144,
    "start_time": "2023-11-04T23:52:18.990Z"
   },
   {
    "duration": 10,
    "start_time": "2023-11-04T23:52:21.136Z"
   },
   {
    "duration": 24,
    "start_time": "2023-11-04T23:52:21.148Z"
   },
   {
    "duration": 29,
    "start_time": "2023-11-04T23:52:21.174Z"
   },
   {
    "duration": 6,
    "start_time": "2023-11-04T23:52:31.734Z"
   },
   {
    "duration": 7,
    "start_time": "2023-11-04T23:52:32.458Z"
   },
   {
    "duration": 11,
    "start_time": "2023-11-04T23:52:34.891Z"
   },
   {
    "duration": 5,
    "start_time": "2023-11-04T23:52:35.299Z"
   },
   {
    "duration": 22,
    "start_time": "2023-11-04T23:52:37.022Z"
   },
   {
    "duration": 7,
    "start_time": "2023-11-04T23:52:37.825Z"
   },
   {
    "duration": 4,
    "start_time": "2023-11-04T23:59:06.570Z"
   },
   {
    "duration": 29,
    "start_time": "2023-11-04T23:59:11.423Z"
   },
   {
    "duration": 8,
    "start_time": "2023-11-04T23:59:22.761Z"
   },
   {
    "duration": 7,
    "start_time": "2023-11-04T23:59:35.803Z"
   },
   {
    "duration": 8,
    "start_time": "2023-11-04T23:59:42.522Z"
   },
   {
    "duration": 10,
    "start_time": "2023-11-05T00:04:02.377Z"
   },
   {
    "duration": 11,
    "start_time": "2023-11-05T00:05:21.459Z"
   },
   {
    "duration": 10,
    "start_time": "2023-11-05T00:05:24.371Z"
   },
   {
    "duration": 10,
    "start_time": "2023-11-05T00:05:27.231Z"
   },
   {
    "duration": 11,
    "start_time": "2023-11-05T00:05:30.839Z"
   },
   {
    "duration": 7,
    "start_time": "2023-11-05T00:05:35.055Z"
   },
   {
    "duration": 7,
    "start_time": "2023-11-05T00:05:41.287Z"
   },
   {
    "duration": 11,
    "start_time": "2023-11-05T00:05:52.840Z"
   },
   {
    "duration": 11,
    "start_time": "2023-11-05T00:07:00.155Z"
   },
   {
    "duration": 11,
    "start_time": "2023-11-05T00:07:01.943Z"
   },
   {
    "duration": 9,
    "start_time": "2023-11-05T00:07:31.194Z"
   },
   {
    "duration": 8,
    "start_time": "2023-11-05T00:07:34.429Z"
   },
   {
    "duration": 11,
    "start_time": "2023-11-05T00:08:24.539Z"
   },
   {
    "duration": 388,
    "start_time": "2023-11-05T00:09:44.193Z"
   },
   {
    "duration": 12,
    "start_time": "2023-11-05T00:10:17.418Z"
   },
   {
    "duration": 8,
    "start_time": "2023-11-05T00:10:22.753Z"
   },
   {
    "duration": 13,
    "start_time": "2023-11-05T00:10:34.045Z"
   },
   {
    "duration": 19,
    "start_time": "2023-11-05T00:11:52.947Z"
   },
   {
    "duration": 19,
    "start_time": "2023-11-05T00:11:55.120Z"
   },
   {
    "duration": 25,
    "start_time": "2023-11-05T00:12:10.874Z"
   },
   {
    "duration": 24,
    "start_time": "2023-11-05T00:12:26.979Z"
   },
   {
    "duration": 138,
    "start_time": "2023-11-05T00:13:15.624Z"
   },
   {
    "duration": 451,
    "start_time": "2023-11-05T00:17:16.675Z"
   },
   {
    "duration": 335,
    "start_time": "2023-11-05T00:19:49.792Z"
   },
   {
    "duration": 349,
    "start_time": "2023-11-05T00:20:02.239Z"
   },
   {
    "duration": 337,
    "start_time": "2023-11-05T00:20:13.126Z"
   },
   {
    "duration": 4,
    "start_time": "2023-11-05T00:22:07.298Z"
   },
   {
    "duration": 4,
    "start_time": "2023-11-05T00:22:11.762Z"
   },
   {
    "duration": 1248,
    "start_time": "2023-11-05T00:25:35.237Z"
   },
   {
    "duration": 332,
    "start_time": "2023-11-05T00:25:50.412Z"
   },
   {
    "duration": 322,
    "start_time": "2023-11-05T00:35:41.003Z"
   },
   {
    "duration": 8,
    "start_time": "2023-11-05T00:43:52.745Z"
   },
   {
    "duration": 125,
    "start_time": "2023-11-05T00:44:45.122Z"
   },
   {
    "duration": 16,
    "start_time": "2023-11-05T00:44:58.089Z"
   },
   {
    "duration": 45,
    "start_time": "2023-11-05T00:45:22.985Z"
   },
   {
    "duration": 21,
    "start_time": "2023-11-05T00:45:27.877Z"
   },
   {
    "duration": 30,
    "start_time": "2023-11-05T00:45:43.946Z"
   },
   {
    "duration": 3,
    "start_time": "2023-11-05T00:46:56.536Z"
   },
   {
    "duration": 83,
    "start_time": "2023-11-05T00:47:29.325Z"
   },
   {
    "duration": 429,
    "start_time": "2023-11-05T00:52:27.594Z"
   },
   {
    "duration": 155,
    "start_time": "2023-11-05T00:52:28.025Z"
   },
   {
    "duration": 24,
    "start_time": "2023-11-05T00:52:28.182Z"
   },
   {
    "duration": 34,
    "start_time": "2023-11-05T00:52:28.207Z"
   },
   {
    "duration": 2382,
    "start_time": "2023-11-05T00:52:28.244Z"
   },
   {
    "duration": 10,
    "start_time": "2023-11-05T00:52:30.628Z"
   },
   {
    "duration": 51,
    "start_time": "2023-11-05T00:52:30.640Z"
   },
   {
    "duration": 63,
    "start_time": "2023-11-05T00:52:30.693Z"
   },
   {
    "duration": 36,
    "start_time": "2023-11-05T00:52:30.758Z"
   },
   {
    "duration": 43,
    "start_time": "2023-11-05T00:52:30.795Z"
   },
   {
    "duration": 52,
    "start_time": "2023-11-05T00:52:30.839Z"
   },
   {
    "duration": 48,
    "start_time": "2023-11-05T00:52:30.893Z"
   },
   {
    "duration": 16,
    "start_time": "2023-11-05T00:52:30.942Z"
   },
   {
    "duration": 61,
    "start_time": "2023-11-05T00:52:30.961Z"
   },
   {
    "duration": 37,
    "start_time": "2023-11-05T00:52:31.024Z"
   },
   {
    "duration": 85,
    "start_time": "2023-11-05T00:52:31.062Z"
   },
   {
    "duration": 70,
    "start_time": "2023-11-05T00:52:31.149Z"
   },
   {
    "duration": 364,
    "start_time": "2023-11-05T00:52:31.220Z"
   },
   {
    "duration": 370,
    "start_time": "2023-11-05T00:52:31.586Z"
   },
   {
    "duration": 3,
    "start_time": "2023-11-05T00:57:03.405Z"
   },
   {
    "duration": 513,
    "start_time": "2023-11-05T00:57:03.699Z"
   },
   {
    "duration": 19,
    "start_time": "2023-11-05T00:57:04.214Z"
   },
   {
    "duration": 39,
    "start_time": "2023-11-05T00:57:04.303Z"
   },
   {
    "duration": 2013,
    "start_time": "2023-11-05T00:57:04.547Z"
   },
   {
    "duration": 14,
    "start_time": "2023-11-05T00:57:06.563Z"
   },
   {
    "duration": 13,
    "start_time": "2023-11-05T00:57:08.014Z"
   },
   {
    "duration": 40,
    "start_time": "2023-11-05T00:57:51.174Z"
   },
   {
    "duration": 8,
    "start_time": "2023-11-05T00:58:07.823Z"
   },
   {
    "duration": 8,
    "start_time": "2023-11-05T00:58:21.827Z"
   },
   {
    "duration": 5,
    "start_time": "2023-11-05T01:11:16.527Z"
   },
   {
    "duration": 9,
    "start_time": "2023-11-05T01:16:56.211Z"
   },
   {
    "duration": 3688,
    "start_time": "2023-11-05T01:17:09.008Z"
   },
   {
    "duration": 2994,
    "start_time": "2023-11-05T01:17:20.125Z"
   },
   {
    "duration": 3,
    "start_time": "2023-11-05T01:17:48.549Z"
   },
   {
    "duration": 147,
    "start_time": "2023-11-05T01:17:48.706Z"
   },
   {
    "duration": 15,
    "start_time": "2023-11-05T01:17:48.885Z"
   },
   {
    "duration": 26,
    "start_time": "2023-11-05T01:17:49.044Z"
   },
   {
    "duration": 2011,
    "start_time": "2023-11-05T01:17:49.220Z"
   },
   {
    "duration": 9,
    "start_time": "2023-11-05T01:17:51.233Z"
   },
   {
    "duration": 13,
    "start_time": "2023-11-05T01:17:51.782Z"
   },
   {
    "duration": 6,
    "start_time": "2023-11-05T01:17:52.588Z"
   },
   {
    "duration": 3795,
    "start_time": "2023-11-05T01:17:53.480Z"
   },
   {
    "duration": 3015,
    "start_time": "2023-11-05T01:18:07.914Z"
   },
   {
    "duration": 3057,
    "start_time": "2023-11-05T01:18:13.336Z"
   },
   {
    "duration": 3033,
    "start_time": "2023-11-05T01:18:34.454Z"
   },
   {
    "duration": 969,
    "start_time": "2023-11-05T01:19:01.852Z"
   },
   {
    "duration": 436,
    "start_time": "2023-11-05T01:19:08.578Z"
   },
   {
    "duration": 137,
    "start_time": "2023-11-05T01:19:09.016Z"
   },
   {
    "duration": 16,
    "start_time": "2023-11-05T01:19:09.155Z"
   },
   {
    "duration": 44,
    "start_time": "2023-11-05T01:19:09.174Z"
   },
   {
    "duration": 2229,
    "start_time": "2023-11-05T01:19:09.220Z"
   },
   {
    "duration": 11,
    "start_time": "2023-11-05T01:19:11.451Z"
   },
   {
    "duration": 14,
    "start_time": "2023-11-05T01:19:11.464Z"
   },
   {
    "duration": 5,
    "start_time": "2023-11-05T01:19:11.479Z"
   },
   {
    "duration": 1832,
    "start_time": "2023-11-05T01:19:11.486Z"
   },
   {
    "duration": 7,
    "start_time": "2023-11-05T01:19:13.320Z"
   },
   {
    "duration": 14,
    "start_time": "2023-11-05T01:19:13.329Z"
   },
   {
    "duration": 28,
    "start_time": "2023-11-05T01:19:13.345Z"
   },
   {
    "duration": 16,
    "start_time": "2023-11-05T01:19:13.375Z"
   },
   {
    "duration": 38,
    "start_time": "2023-11-05T01:19:13.393Z"
   },
   {
    "duration": 10,
    "start_time": "2023-11-05T01:19:13.433Z"
   },
   {
    "duration": 61,
    "start_time": "2023-11-05T01:19:13.445Z"
   },
   {
    "duration": 7,
    "start_time": "2023-11-05T01:19:13.508Z"
   },
   {
    "duration": 16,
    "start_time": "2023-11-05T01:19:13.516Z"
   },
   {
    "duration": 18,
    "start_time": "2023-11-05T01:19:13.534Z"
   },
   {
    "duration": 351,
    "start_time": "2023-11-05T01:19:13.553Z"
   },
   {
    "duration": 447,
    "start_time": "2023-11-05T01:19:13.906Z"
   },
   {
    "duration": 2641,
    "start_time": "2023-11-05T01:20:38.743Z"
   },
   {
    "duration": 1514,
    "start_time": "2023-11-05T01:21:08.958Z"
   },
   {
    "duration": 1323,
    "start_time": "2023-11-05T01:21:26.616Z"
   },
   {
    "duration": 2,
    "start_time": "2023-11-05T01:21:37.934Z"
   },
   {
    "duration": 138,
    "start_time": "2023-11-05T01:21:38.079Z"
   },
   {
    "duration": 15,
    "start_time": "2023-11-05T01:21:38.238Z"
   },
   {
    "duration": 27,
    "start_time": "2023-11-05T01:21:38.772Z"
   },
   {
    "duration": 2000,
    "start_time": "2023-11-05T01:21:38.820Z"
   },
   {
    "duration": 10,
    "start_time": "2023-11-05T01:21:40.822Z"
   },
   {
    "duration": 12,
    "start_time": "2023-11-05T01:21:40.833Z"
   },
   {
    "duration": 4,
    "start_time": "2023-11-05T01:21:40.847Z"
   },
   {
    "duration": 700,
    "start_time": "2023-11-05T01:21:41.026Z"
   },
   {
    "duration": 667,
    "start_time": "2023-11-05T01:21:52.416Z"
   },
   {
    "duration": 1793,
    "start_time": "2023-11-05T01:22:11.231Z"
   },
   {
    "duration": 1668,
    "start_time": "2023-11-05T01:22:27.221Z"
   },
   {
    "duration": 1670,
    "start_time": "2023-11-05T01:23:35.858Z"
   },
   {
    "duration": 3,
    "start_time": "2023-11-05T01:23:58.928Z"
   },
   {
    "duration": 140,
    "start_time": "2023-11-05T01:23:59.215Z"
   },
   {
    "duration": 15,
    "start_time": "2023-11-05T01:23:59.453Z"
   },
   {
    "duration": 25,
    "start_time": "2023-11-05T01:23:59.724Z"
   },
   {
    "duration": 2148,
    "start_time": "2023-11-05T01:23:59.963Z"
   },
   {
    "duration": 11,
    "start_time": "2023-11-05T01:24:02.114Z"
   },
   {
    "duration": 33,
    "start_time": "2023-11-05T01:24:02.127Z"
   },
   {
    "duration": 22,
    "start_time": "2023-11-05T01:24:02.163Z"
   },
   {
    "duration": 1746,
    "start_time": "2023-11-05T01:24:02.187Z"
   },
   {
    "duration": 6,
    "start_time": "2023-11-05T01:24:03.934Z"
   },
   {
    "duration": 1269,
    "start_time": "2023-11-05T01:25:39.987Z"
   },
   {
    "duration": 1331,
    "start_time": "2023-11-05T01:25:59.224Z"
   },
   {
    "duration": 151,
    "start_time": "2023-11-05T01:26:08.534Z"
   },
   {
    "duration": 1761,
    "start_time": "2023-11-05T01:26:12.917Z"
   },
   {
    "duration": 1728,
    "start_time": "2023-11-05T01:26:28.830Z"
   },
   {
    "duration": 1446,
    "start_time": "2023-11-05T01:26:36.829Z"
   },
   {
    "duration": 1700,
    "start_time": "2023-11-05T01:26:41.660Z"
   },
   {
    "duration": 1491,
    "start_time": "2023-11-05T01:27:10.577Z"
   },
   {
    "duration": 1494,
    "start_time": "2023-11-05T01:27:15.078Z"
   },
   {
    "duration": 1504,
    "start_time": "2023-11-05T01:28:28.071Z"
   },
   {
    "duration": 1361,
    "start_time": "2023-11-05T01:30:12.580Z"
   },
   {
    "duration": 1361,
    "start_time": "2023-11-05T01:30:55.151Z"
   },
   {
    "duration": 1394,
    "start_time": "2023-11-05T01:30:58.558Z"
   },
   {
    "duration": 3,
    "start_time": "2023-11-05T01:31:04.408Z"
   },
   {
    "duration": 170,
    "start_time": "2023-11-05T01:31:04.490Z"
   },
   {
    "duration": 20,
    "start_time": "2023-11-05T01:31:04.663Z"
   },
   {
    "duration": 27,
    "start_time": "2023-11-05T01:31:04.995Z"
   },
   {
    "duration": 1982,
    "start_time": "2023-11-05T01:31:05.213Z"
   },
   {
    "duration": 10,
    "start_time": "2023-11-05T01:31:07.200Z"
   },
   {
    "duration": 13,
    "start_time": "2023-11-05T01:31:07.212Z"
   },
   {
    "duration": 5,
    "start_time": "2023-11-05T01:31:08.368Z"
   },
   {
    "duration": 1723,
    "start_time": "2023-11-05T01:31:09.778Z"
   },
   {
    "duration": 1699,
    "start_time": "2023-11-05T01:31:13.405Z"
   },
   {
    "duration": 1658,
    "start_time": "2023-11-05T01:31:15.566Z"
   },
   {
    "duration": 1647,
    "start_time": "2023-11-05T01:31:24.360Z"
   },
   {
    "duration": 3,
    "start_time": "2023-11-05T01:31:29.031Z"
   },
   {
    "duration": 144,
    "start_time": "2023-11-05T01:31:29.183Z"
   },
   {
    "duration": 16,
    "start_time": "2023-11-05T01:31:29.336Z"
   },
   {
    "duration": 28,
    "start_time": "2023-11-05T01:31:29.482Z"
   },
   {
    "duration": 1860,
    "start_time": "2023-11-05T01:31:29.645Z"
   },
   {
    "duration": 10,
    "start_time": "2023-11-05T01:31:31.507Z"
   },
   {
    "duration": 64,
    "start_time": "2023-11-05T01:31:31.519Z"
   },
   {
    "duration": 43,
    "start_time": "2023-11-05T01:31:31.585Z"
   },
   {
    "duration": 1558,
    "start_time": "2023-11-05T01:31:32.858Z"
   },
   {
    "duration": 3,
    "start_time": "2023-11-05T01:35:00.001Z"
   },
   {
    "duration": 167,
    "start_time": "2023-11-05T01:35:00.080Z"
   },
   {
    "duration": 15,
    "start_time": "2023-11-05T01:35:00.249Z"
   },
   {
    "duration": 28,
    "start_time": "2023-11-05T01:35:00.595Z"
   },
   {
    "duration": 2075,
    "start_time": "2023-11-05T01:35:00.878Z"
   },
   {
    "duration": 10,
    "start_time": "2023-11-05T01:35:02.955Z"
   },
   {
    "duration": 7,
    "start_time": "2023-11-05T01:35:03.180Z"
   },
   {
    "duration": 14,
    "start_time": "2023-11-05T01:35:08.580Z"
   },
   {
    "duration": 5,
    "start_time": "2023-11-05T01:35:09.547Z"
   },
   {
    "duration": 3,
    "start_time": "2023-11-05T01:39:17.595Z"
   },
   {
    "duration": 138,
    "start_time": "2023-11-05T01:39:17.677Z"
   },
   {
    "duration": 14,
    "start_time": "2023-11-05T01:39:17.817Z"
   },
   {
    "duration": 24,
    "start_time": "2023-11-05T01:39:17.846Z"
   },
   {
    "duration": 2002,
    "start_time": "2023-11-05T01:39:18.317Z"
   },
   {
    "duration": 10,
    "start_time": "2023-11-05T01:39:20.321Z"
   },
   {
    "duration": 6,
    "start_time": "2023-11-05T01:39:22.874Z"
   },
   {
    "duration": 13,
    "start_time": "2023-11-05T01:39:26.226Z"
   },
   {
    "duration": 6,
    "start_time": "2023-11-05T01:39:27.547Z"
   },
   {
    "duration": 5,
    "start_time": "2023-11-05T01:39:36.283Z"
   },
   {
    "duration": 9,
    "start_time": "2023-11-05T01:39:39.677Z"
   },
   {
    "duration": 5,
    "start_time": "2023-11-05T01:39:40.162Z"
   },
   {
    "duration": 23,
    "start_time": "2023-11-05T01:39:40.724Z"
   },
   {
    "duration": 7,
    "start_time": "2023-11-05T01:39:42.673Z"
   },
   {
    "duration": 33,
    "start_time": "2023-11-05T01:39:43.708Z"
   },
   {
    "duration": 7,
    "start_time": "2023-11-05T01:40:08.765Z"
   },
   {
    "duration": 8,
    "start_time": "2023-11-05T01:40:12.583Z"
   },
   {
    "duration": 20,
    "start_time": "2023-11-05T01:40:15.230Z"
   },
   {
    "duration": 326,
    "start_time": "2023-11-05T01:40:17.448Z"
   },
   {
    "duration": 352,
    "start_time": "2023-11-05T01:40:20.706Z"
   },
   {
    "duration": 24,
    "start_time": "2023-11-05T01:40:51.063Z"
   },
   {
    "duration": 4,
    "start_time": "2023-11-05T01:48:52.316Z"
   },
   {
    "duration": 7,
    "start_time": "2023-11-05T01:48:59.889Z"
   },
   {
    "duration": 3,
    "start_time": "2023-11-05T01:49:22.407Z"
   },
   {
    "duration": 144,
    "start_time": "2023-11-05T01:49:22.411Z"
   },
   {
    "duration": 15,
    "start_time": "2023-11-05T01:49:22.557Z"
   },
   {
    "duration": 49,
    "start_time": "2023-11-05T01:49:22.574Z"
   },
   {
    "duration": 1850,
    "start_time": "2023-11-05T01:49:22.629Z"
   },
   {
    "duration": 22,
    "start_time": "2023-11-05T01:49:24.481Z"
   },
   {
    "duration": 6,
    "start_time": "2023-11-05T01:49:24.504Z"
   },
   {
    "duration": 12,
    "start_time": "2023-11-05T01:49:24.512Z"
   },
   {
    "duration": 5,
    "start_time": "2023-11-05T01:49:24.526Z"
   },
   {
    "duration": 7,
    "start_time": "2023-11-05T01:49:24.533Z"
   },
   {
    "duration": 11,
    "start_time": "2023-11-05T01:49:24.542Z"
   },
   {
    "duration": 6,
    "start_time": "2023-11-05T01:49:24.555Z"
   },
   {
    "duration": 26,
    "start_time": "2023-11-05T01:49:24.598Z"
   },
   {
    "duration": 6,
    "start_time": "2023-11-05T01:49:25.853Z"
   },
   {
    "duration": 30,
    "start_time": "2023-11-05T01:49:26.309Z"
   },
   {
    "duration": 7,
    "start_time": "2023-11-05T01:49:27.461Z"
   },
   {
    "duration": 8,
    "start_time": "2023-11-05T01:49:27.897Z"
   },
   {
    "duration": 20,
    "start_time": "2023-11-05T01:49:28.347Z"
   },
   {
    "duration": 331,
    "start_time": "2023-11-05T01:49:28.660Z"
   },
   {
    "duration": 27,
    "start_time": "2023-11-05T01:49:29.255Z"
   },
   {
    "duration": 7,
    "start_time": "2023-11-05T01:49:30.424Z"
   },
   {
    "duration": 1282,
    "start_time": "2023-11-05T01:53:32.947Z"
   },
   {
    "duration": 2,
    "start_time": "2023-11-05T01:53:47.699Z"
   },
   {
    "duration": 130,
    "start_time": "2023-11-05T01:53:48.205Z"
   },
   {
    "duration": 14,
    "start_time": "2023-11-05T01:53:48.337Z"
   },
   {
    "duration": 26,
    "start_time": "2023-11-05T01:53:48.375Z"
   },
   {
    "duration": 2018,
    "start_time": "2023-11-05T01:53:48.673Z"
   },
   {
    "duration": 10,
    "start_time": "2023-11-05T01:53:50.700Z"
   },
   {
    "duration": 6,
    "start_time": "2023-11-05T01:53:50.712Z"
   },
   {
    "duration": 12,
    "start_time": "2023-11-05T01:53:50.720Z"
   },
   {
    "duration": 7,
    "start_time": "2023-11-05T01:53:51.418Z"
   },
   {
    "duration": 1523,
    "start_time": "2023-11-05T01:53:51.926Z"
   },
   {
    "duration": 2,
    "start_time": "2023-11-05T01:54:09.526Z"
   },
   {
    "duration": 124,
    "start_time": "2023-11-05T01:54:10.025Z"
   },
   {
    "duration": 15,
    "start_time": "2023-11-05T01:54:10.150Z"
   },
   {
    "duration": 26,
    "start_time": "2023-11-05T01:54:10.192Z"
   },
   {
    "duration": 1781,
    "start_time": "2023-11-05T01:54:10.272Z"
   },
   {
    "duration": 9,
    "start_time": "2023-11-05T01:54:12.055Z"
   },
   {
    "duration": 9,
    "start_time": "2023-11-05T01:54:12.066Z"
   },
   {
    "duration": 28,
    "start_time": "2023-11-05T01:54:12.077Z"
   },
   {
    "duration": 6,
    "start_time": "2023-11-05T01:54:12.884Z"
   },
   {
    "duration": 1323,
    "start_time": "2023-11-05T01:54:13.357Z"
   },
   {
    "duration": 5,
    "start_time": "2023-11-05T01:54:29.888Z"
   },
   {
    "duration": 5,
    "start_time": "2023-11-05T01:54:32.935Z"
   },
   {
    "duration": 1420,
    "start_time": "2023-11-05T02:03:23.538Z"
   },
   {
    "duration": 2,
    "start_time": "2023-11-05T02:03:41.145Z"
   },
   {
    "duration": 137,
    "start_time": "2023-11-05T02:03:41.638Z"
   },
   {
    "duration": 25,
    "start_time": "2023-11-05T02:03:41.777Z"
   },
   {
    "duration": 27,
    "start_time": "2023-11-05T02:03:41.805Z"
   },
   {
    "duration": 2047,
    "start_time": "2023-11-05T02:03:41.885Z"
   },
   {
    "duration": 9,
    "start_time": "2023-11-05T02:03:43.934Z"
   },
   {
    "duration": 20,
    "start_time": "2023-11-05T02:03:43.944Z"
   },
   {
    "duration": 13,
    "start_time": "2023-11-05T02:03:43.966Z"
   },
   {
    "duration": 5,
    "start_time": "2023-11-05T02:03:43.980Z"
   },
   {
    "duration": 1616,
    "start_time": "2023-11-05T02:03:43.986Z"
   },
   {
    "duration": 5,
    "start_time": "2023-11-05T02:03:45.604Z"
   },
   {
    "duration": 2472,
    "start_time": "2023-11-05T02:05:09.773Z"
   },
   {
    "duration": 2453,
    "start_time": "2023-11-05T02:05:46.624Z"
   },
   {
    "duration": 2,
    "start_time": "2023-11-05T02:06:03.943Z"
   },
   {
    "duration": 125,
    "start_time": "2023-11-05T02:06:04.027Z"
   },
   {
    "duration": 16,
    "start_time": "2023-11-05T02:06:04.154Z"
   },
   {
    "duration": 26,
    "start_time": "2023-11-05T02:06:04.194Z"
   },
   {
    "duration": 1849,
    "start_time": "2023-11-05T02:06:04.275Z"
   },
   {
    "duration": 9,
    "start_time": "2023-11-05T02:06:06.126Z"
   },
   {
    "duration": 8,
    "start_time": "2023-11-05T02:06:06.137Z"
   },
   {
    "duration": 30,
    "start_time": "2023-11-05T02:06:06.147Z"
   },
   {
    "duration": 5,
    "start_time": "2023-11-05T02:06:06.179Z"
   },
   {
    "duration": 2,
    "start_time": "2023-11-05T02:10:35.134Z"
   },
   {
    "duration": 135,
    "start_time": "2023-11-05T02:10:35.216Z"
   },
   {
    "duration": 15,
    "start_time": "2023-11-05T02:10:35.353Z"
   },
   {
    "duration": 24,
    "start_time": "2023-11-05T02:10:35.391Z"
   },
   {
    "duration": 2108,
    "start_time": "2023-11-05T02:10:35.468Z"
   },
   {
    "duration": 9,
    "start_time": "2023-11-05T02:10:37.578Z"
   },
   {
    "duration": 16,
    "start_time": "2023-11-05T02:10:37.589Z"
   },
   {
    "duration": 16,
    "start_time": "2023-11-05T02:10:37.607Z"
   },
   {
    "duration": 4,
    "start_time": "2023-11-05T02:10:37.625Z"
   },
   {
    "duration": 7,
    "start_time": "2023-11-05T02:10:37.631Z"
   },
   {
    "duration": 11,
    "start_time": "2023-11-05T02:10:37.640Z"
   },
   {
    "duration": 8,
    "start_time": "2023-11-05T02:10:37.652Z"
   },
   {
    "duration": 23,
    "start_time": "2023-11-05T02:10:37.767Z"
   },
   {
    "duration": 8,
    "start_time": "2023-11-05T02:11:12.105Z"
   },
   {
    "duration": 7,
    "start_time": "2023-11-05T02:11:15.010Z"
   },
   {
    "duration": 13,
    "start_time": "2023-11-05T02:11:15.888Z"
   },
   {
    "duration": 5,
    "start_time": "2023-11-05T02:11:16.370Z"
   },
   {
    "duration": 21,
    "start_time": "2023-11-05T02:11:16.866Z"
   },
   {
    "duration": 7,
    "start_time": "2023-11-05T02:11:18.425Z"
   },
   {
    "duration": 29,
    "start_time": "2023-11-05T02:11:22.031Z"
   },
   {
    "duration": 139,
    "start_time": "2023-11-05T02:41:09.867Z"
   },
   {
    "duration": 317,
    "start_time": "2023-11-05T02:41:14.336Z"
   },
   {
    "duration": 106,
    "start_time": "2023-11-05T02:41:18.270Z"
   },
   {
    "duration": 141,
    "start_time": "2023-11-05T02:41:20.706Z"
   },
   {
    "duration": 149,
    "start_time": "2023-11-05T02:41:24.109Z"
   },
   {
    "duration": 139,
    "start_time": "2023-11-05T02:41:26.319Z"
   },
   {
    "duration": 148,
    "start_time": "2023-11-05T02:41:29.202Z"
   },
   {
    "duration": 149,
    "start_time": "2023-11-05T02:41:31.011Z"
   },
   {
    "duration": 158,
    "start_time": "2023-11-05T02:41:32.606Z"
   },
   {
    "duration": 252,
    "start_time": "2023-11-05T02:41:35.246Z"
   },
   {
    "duration": 161,
    "start_time": "2023-11-05T02:41:40.106Z"
   },
   {
    "duration": 160,
    "start_time": "2023-11-05T02:41:42.244Z"
   },
   {
    "duration": 63,
    "start_time": "2023-11-05T13:22:37.154Z"
   },
   {
    "duration": 430,
    "start_time": "2023-11-05T13:22:42.416Z"
   },
   {
    "duration": 370,
    "start_time": "2023-11-05T13:22:42.848Z"
   },
   {
    "duration": 25,
    "start_time": "2023-11-05T13:22:43.220Z"
   },
   {
    "duration": 32,
    "start_time": "2023-11-05T13:22:43.247Z"
   },
   {
    "duration": 2792,
    "start_time": "2023-11-05T13:22:43.282Z"
   },
   {
    "duration": 14,
    "start_time": "2023-11-05T13:22:46.076Z"
   },
   {
    "duration": 10,
    "start_time": "2023-11-05T13:22:46.093Z"
   },
   {
    "duration": 38,
    "start_time": "2023-11-05T13:22:46.105Z"
   },
   {
    "duration": 5,
    "start_time": "2023-11-05T13:22:46.146Z"
   },
   {
    "duration": 22,
    "start_time": "2023-11-05T13:22:46.153Z"
   },
   {
    "duration": 6,
    "start_time": "2023-11-05T13:22:46.177Z"
   },
   {
    "duration": 17,
    "start_time": "2023-11-05T13:22:46.185Z"
   },
   {
    "duration": 36,
    "start_time": "2023-11-05T13:22:46.204Z"
   },
   {
    "duration": 32,
    "start_time": "2023-11-05T13:22:46.243Z"
   },
   {
    "duration": 9,
    "start_time": "2023-11-05T13:22:46.277Z"
   },
   {
    "duration": 61,
    "start_time": "2023-11-05T13:22:46.288Z"
   },
   {
    "duration": 9,
    "start_time": "2023-11-05T13:22:46.351Z"
   },
   {
    "duration": 15,
    "start_time": "2023-11-05T13:22:46.362Z"
   },
   {
    "duration": 46,
    "start_time": "2023-11-05T13:22:46.379Z"
   },
   {
    "duration": 407,
    "start_time": "2023-11-05T13:22:46.431Z"
   },
   {
    "duration": 39,
    "start_time": "2023-11-05T13:22:46.840Z"
   },
   {
    "duration": 6,
    "start_time": "2023-11-05T13:22:46.882Z"
   },
   {
    "duration": 173,
    "start_time": "2023-11-05T13:22:48.397Z"
   },
   {
    "duration": 197,
    "start_time": "2023-11-05T13:22:53.256Z"
   },
   {
    "duration": 273,
    "start_time": "2023-11-05T13:22:56.965Z"
   },
   {
    "duration": 3,
    "start_time": "2023-11-05T13:23:35.354Z"
   },
   {
    "duration": 158,
    "start_time": "2023-11-05T13:23:35.942Z"
   },
   {
    "duration": 23,
    "start_time": "2023-11-05T13:23:38.428Z"
   },
   {
    "duration": 34,
    "start_time": "2023-11-05T13:23:38.939Z"
   },
   {
    "duration": 2016,
    "start_time": "2023-11-05T13:23:39.023Z"
   },
   {
    "duration": 10,
    "start_time": "2023-11-05T13:23:41.042Z"
   },
   {
    "duration": 5,
    "start_time": "2023-11-05T13:23:41.054Z"
   },
   {
    "duration": 13,
    "start_time": "2023-11-05T13:23:41.061Z"
   },
   {
    "duration": 5,
    "start_time": "2023-11-05T13:23:41.075Z"
   },
   {
    "duration": 56,
    "start_time": "2023-11-05T13:23:41.081Z"
   },
   {
    "duration": 6,
    "start_time": "2023-11-05T13:23:41.139Z"
   },
   {
    "duration": 14,
    "start_time": "2023-11-05T13:23:41.147Z"
   },
   {
    "duration": 7,
    "start_time": "2023-11-05T13:23:41.163Z"
   },
   {
    "duration": 21,
    "start_time": "2023-11-05T13:23:41.172Z"
   },
   {
    "duration": 8,
    "start_time": "2023-11-05T13:23:41.194Z"
   },
   {
    "duration": 85,
    "start_time": "2023-11-05T13:23:41.203Z"
   },
   {
    "duration": 8,
    "start_time": "2023-11-05T13:23:41.290Z"
   },
   {
    "duration": 8,
    "start_time": "2023-11-05T13:23:41.299Z"
   },
   {
    "duration": 31,
    "start_time": "2023-11-05T13:23:42.222Z"
   },
   {
    "duration": 492,
    "start_time": "2023-11-05T13:23:42.578Z"
   },
   {
    "duration": 27,
    "start_time": "2023-11-05T13:23:43.072Z"
   },
   {
    "duration": 7,
    "start_time": "2023-11-05T13:23:43.739Z"
   },
   {
    "duration": 191,
    "start_time": "2023-11-05T13:23:44.717Z"
   },
   {
    "duration": 227,
    "start_time": "2023-11-05T13:24:11.268Z"
   },
   {
    "duration": 162,
    "start_time": "2023-11-05T13:24:18.421Z"
   },
   {
    "duration": 157,
    "start_time": "2023-11-05T13:24:20.757Z"
   },
   {
    "duration": 152,
    "start_time": "2023-11-05T13:24:23.716Z"
   },
   {
    "duration": 1130,
    "start_time": "2023-11-05T13:24:33.393Z"
   },
   {
    "duration": 152,
    "start_time": "2023-11-05T13:24:40.449Z"
   },
   {
    "duration": 156,
    "start_time": "2023-11-05T13:24:53.720Z"
   },
   {
    "duration": 166,
    "start_time": "2023-11-05T13:25:19.214Z"
   },
   {
    "duration": 174,
    "start_time": "2023-11-05T13:25:22.242Z"
   },
   {
    "duration": 161,
    "start_time": "2023-11-05T13:25:29.550Z"
   },
   {
    "duration": 344,
    "start_time": "2023-11-05T13:28:07.997Z"
   },
   {
    "duration": 243,
    "start_time": "2023-11-05T13:28:11.786Z"
   },
   {
    "duration": 297,
    "start_time": "2023-11-05T13:28:14.580Z"
   },
   {
    "duration": 350,
    "start_time": "2023-11-05T13:28:17.833Z"
   },
   {
    "duration": 316,
    "start_time": "2023-11-05T13:28:28.242Z"
   },
   {
    "duration": 484,
    "start_time": "2023-11-05T13:28:32.918Z"
   },
   {
    "duration": 189,
    "start_time": "2023-11-05T13:28:35.737Z"
   },
   {
    "duration": 167,
    "start_time": "2023-11-05T13:28:41.738Z"
   },
   {
    "duration": 214,
    "start_time": "2023-11-05T13:28:44.186Z"
   },
   {
    "duration": 218,
    "start_time": "2023-11-05T13:28:46.651Z"
   },
   {
    "duration": 240,
    "start_time": "2023-11-05T13:28:50.676Z"
   },
   {
    "duration": 229,
    "start_time": "2023-11-05T13:28:53.374Z"
   },
   {
    "duration": 218,
    "start_time": "2023-11-05T13:28:56.221Z"
   },
   {
    "duration": 200,
    "start_time": "2023-11-05T13:29:01.853Z"
   },
   {
    "duration": 224,
    "start_time": "2023-11-05T13:29:04.969Z"
   },
   {
    "duration": 373,
    "start_time": "2023-11-05T13:29:08.429Z"
   },
   {
    "duration": 305,
    "start_time": "2023-11-05T13:31:17.447Z"
   },
   {
    "duration": 193,
    "start_time": "2023-11-05T13:31:26.294Z"
   },
   {
    "duration": 188,
    "start_time": "2023-11-05T13:31:54.323Z"
   },
   {
    "duration": 188,
    "start_time": "2023-11-05T13:32:04.747Z"
   },
   {
    "duration": 223,
    "start_time": "2023-11-05T13:32:08.787Z"
   },
   {
    "duration": 241,
    "start_time": "2023-11-05T13:32:11.928Z"
   },
   {
    "duration": 286,
    "start_time": "2023-11-05T13:32:15.807Z"
   },
   {
    "duration": 219,
    "start_time": "2023-11-05T13:32:19.579Z"
   },
   {
    "duration": 237,
    "start_time": "2023-11-05T13:32:21.872Z"
   },
   {
    "duration": 445,
    "start_time": "2023-11-05T13:32:26.685Z"
   },
   {
    "duration": 235,
    "start_time": "2023-11-05T13:32:29.630Z"
   },
   {
    "duration": 263,
    "start_time": "2023-11-05T13:33:02.563Z"
   },
   {
    "duration": 293,
    "start_time": "2023-11-05T13:33:05.312Z"
   },
   {
    "duration": 239,
    "start_time": "2023-11-05T13:33:08.575Z"
   },
   {
    "duration": 148,
    "start_time": "2023-11-05T13:35:33.850Z"
   },
   {
    "duration": 191,
    "start_time": "2023-11-05T13:35:49.490Z"
   },
   {
    "duration": 303,
    "start_time": "2023-11-05T13:35:55.947Z"
   },
   {
    "duration": 147,
    "start_time": "2023-11-05T13:36:00.563Z"
   },
   {
    "duration": 265,
    "start_time": "2023-11-05T13:36:02.799Z"
   },
   {
    "duration": 192,
    "start_time": "2023-11-05T13:39:03.400Z"
   },
   {
    "duration": 434,
    "start_time": "2023-11-05T13:39:10.653Z"
   },
   {
    "duration": 176,
    "start_time": "2023-11-05T13:39:18.584Z"
   },
   {
    "duration": 253,
    "start_time": "2023-11-05T13:39:25.695Z"
   },
   {
    "duration": 201,
    "start_time": "2023-11-05T13:39:29.824Z"
   },
   {
    "duration": 201,
    "start_time": "2023-11-05T13:39:35.350Z"
   },
   {
    "duration": 184,
    "start_time": "2023-11-05T13:39:38.315Z"
   },
   {
    "duration": 91,
    "start_time": "2023-11-05T13:40:26.220Z"
   },
   {
    "duration": 40,
    "start_time": "2023-11-05T13:43:53.934Z"
   },
   {
    "duration": 11,
    "start_time": "2023-11-05T13:44:21.267Z"
   },
   {
    "duration": 10,
    "start_time": "2023-11-05T13:44:36.340Z"
   },
   {
    "duration": 10,
    "start_time": "2023-11-05T13:46:36.339Z"
   },
   {
    "duration": 9,
    "start_time": "2023-11-05T13:46:42.522Z"
   },
   {
    "duration": 1301,
    "start_time": "2023-11-05T13:46:49.448Z"
   },
   {
    "duration": 224,
    "start_time": "2023-11-05T13:47:13.157Z"
   },
   {
    "duration": 178,
    "start_time": "2023-11-05T13:48:01.828Z"
   },
   {
    "duration": 172,
    "start_time": "2023-11-05T13:48:06.379Z"
   },
   {
    "duration": 195,
    "start_time": "2023-11-05T13:48:08.562Z"
   },
   {
    "duration": 181,
    "start_time": "2023-11-05T13:48:19.280Z"
   },
   {
    "duration": 197,
    "start_time": "2023-11-05T13:48:22.420Z"
   },
   {
    "duration": 395,
    "start_time": "2023-11-05T13:48:29.877Z"
   },
   {
    "duration": 192,
    "start_time": "2023-11-05T13:48:32.561Z"
   },
   {
    "duration": 210,
    "start_time": "2023-11-05T13:50:52.164Z"
   },
   {
    "duration": 178,
    "start_time": "2023-11-05T13:53:17.974Z"
   },
   {
    "duration": 180,
    "start_time": "2023-11-05T13:53:23.868Z"
   },
   {
    "duration": 172,
    "start_time": "2023-11-05T13:53:27.238Z"
   },
   {
    "duration": 173,
    "start_time": "2023-11-05T13:54:54.354Z"
   },
   {
    "duration": 170,
    "start_time": "2023-11-05T13:54:58.273Z"
   },
   {
    "duration": 174,
    "start_time": "2023-11-05T13:55:03.393Z"
   },
   {
    "duration": 253,
    "start_time": "2023-11-05T13:55:05.891Z"
   },
   {
    "duration": 174,
    "start_time": "2023-11-05T13:55:08.950Z"
   },
   {
    "duration": 193,
    "start_time": "2023-11-05T13:57:10.857Z"
   },
   {
    "duration": 176,
    "start_time": "2023-11-05T13:57:15.333Z"
   },
   {
    "duration": 172,
    "start_time": "2023-11-05T13:57:17.886Z"
   },
   {
    "duration": 28,
    "start_time": "2023-11-05T14:07:20.170Z"
   },
   {
    "duration": 25,
    "start_time": "2023-11-05T14:08:44.424Z"
   },
   {
    "duration": 17,
    "start_time": "2023-11-05T14:09:09.959Z"
   },
   {
    "duration": 20,
    "start_time": "2023-11-05T14:09:30.393Z"
   },
   {
    "duration": 19,
    "start_time": "2023-11-05T14:10:12.502Z"
   },
   {
    "duration": 24,
    "start_time": "2023-11-05T14:10:19.209Z"
   },
   {
    "duration": 23,
    "start_time": "2023-11-05T14:11:06.065Z"
   },
   {
    "duration": 24,
    "start_time": "2023-11-05T14:11:10.517Z"
   },
   {
    "duration": 22,
    "start_time": "2023-11-05T14:11:52.481Z"
   },
   {
    "duration": 20,
    "start_time": "2023-11-05T14:13:40.830Z"
   },
   {
    "duration": 8,
    "start_time": "2023-11-05T14:13:44.345Z"
   },
   {
    "duration": 8,
    "start_time": "2023-11-05T14:13:54.914Z"
   },
   {
    "duration": 24,
    "start_time": "2023-11-05T14:15:22.388Z"
   },
   {
    "duration": 23,
    "start_time": "2023-11-05T14:16:11.473Z"
   },
   {
    "duration": 10,
    "start_time": "2023-11-05T14:19:11.110Z"
   },
   {
    "duration": 4,
    "start_time": "2023-11-05T14:19:55.985Z"
   },
   {
    "duration": 7,
    "start_time": "2023-11-05T14:20:07.805Z"
   },
   {
    "duration": 7,
    "start_time": "2023-11-05T14:20:16.246Z"
   },
   {
    "duration": 39,
    "start_time": "2023-11-05T14:29:28.217Z"
   },
   {
    "duration": 10,
    "start_time": "2023-11-05T14:29:35.999Z"
   },
   {
    "duration": 18,
    "start_time": "2023-11-05T14:29:39.658Z"
   },
   {
    "duration": 18,
    "start_time": "2023-11-05T14:29:45.263Z"
   },
   {
    "duration": 49,
    "start_time": "2023-11-05T14:29:56.885Z"
   },
   {
    "duration": 19,
    "start_time": "2023-11-05T14:31:11.098Z"
   },
   {
    "duration": 18,
    "start_time": "2023-11-05T14:31:35.786Z"
   },
   {
    "duration": 271,
    "start_time": "2023-11-05T14:37:46.875Z"
   },
   {
    "duration": 14,
    "start_time": "2023-11-05T14:38:36.125Z"
   },
   {
    "duration": 18,
    "start_time": "2023-11-05T14:38:41.065Z"
   },
   {
    "duration": 12,
    "start_time": "2023-11-05T14:39:12.306Z"
   },
   {
    "duration": 275,
    "start_time": "2023-11-05T14:39:13.107Z"
   },
   {
    "duration": 15,
    "start_time": "2023-11-05T14:39:52.775Z"
   },
   {
    "duration": 17,
    "start_time": "2023-11-05T14:39:58.829Z"
   },
   {
    "duration": 13,
    "start_time": "2023-11-05T14:40:05.675Z"
   },
   {
    "duration": 13,
    "start_time": "2023-11-05T14:40:09.556Z"
   },
   {
    "duration": 312,
    "start_time": "2023-11-05T14:40:29.336Z"
   },
   {
    "duration": 18,
    "start_time": "2023-11-05T14:40:37.281Z"
   },
   {
    "duration": 12,
    "start_time": "2023-11-05T14:41:11.831Z"
   },
   {
    "duration": 280,
    "start_time": "2023-11-05T14:41:12.360Z"
   },
   {
    "duration": 15,
    "start_time": "2023-11-05T14:41:23.070Z"
   },
   {
    "duration": 253,
    "start_time": "2023-11-05T14:41:23.250Z"
   },
   {
    "duration": 21,
    "start_time": "2023-11-05T14:41:34.871Z"
   },
   {
    "duration": 1393,
    "start_time": "2023-11-05T14:41:35.407Z"
   },
   {
    "duration": 1474,
    "start_time": "2023-11-05T14:41:44.906Z"
   },
   {
    "duration": 13,
    "start_time": "2023-11-05T14:42:06.722Z"
   },
   {
    "duration": 14,
    "start_time": "2023-11-05T14:42:17.667Z"
   },
   {
    "duration": 19,
    "start_time": "2023-11-05T14:42:29.264Z"
   },
   {
    "duration": 12,
    "start_time": "2023-11-05T14:42:53.428Z"
   },
   {
    "duration": 145,
    "start_time": "2023-11-05T14:42:54.392Z"
   },
   {
    "duration": 159,
    "start_time": "2023-11-05T14:44:02.916Z"
   },
   {
    "duration": 12,
    "start_time": "2023-11-05T14:44:44.078Z"
   },
   {
    "duration": 147,
    "start_time": "2023-11-05T14:44:44.309Z"
   },
   {
    "duration": 121,
    "start_time": "2023-11-05T14:47:27.380Z"
   },
   {
    "duration": 369,
    "start_time": "2023-11-05T14:47:33.836Z"
   },
   {
    "duration": 195,
    "start_time": "2023-11-05T14:47:46.708Z"
   },
   {
    "duration": 17,
    "start_time": "2023-11-05T14:51:16.362Z"
   },
   {
    "duration": 3,
    "start_time": "2023-11-05T14:52:23.366Z"
   },
   {
    "duration": 127,
    "start_time": "2023-11-05T14:52:23.447Z"
   },
   {
    "duration": 16,
    "start_time": "2023-11-05T14:52:23.576Z"
   },
   {
    "duration": 25,
    "start_time": "2023-11-05T14:52:23.614Z"
   },
   {
    "duration": 1914,
    "start_time": "2023-11-05T14:52:23.700Z"
   },
   {
    "duration": 15,
    "start_time": "2023-11-05T14:52:25.616Z"
   },
   {
    "duration": 91,
    "start_time": "2023-11-05T14:52:25.632Z"
   },
   {
    "duration": 34,
    "start_time": "2023-11-05T14:52:25.725Z"
   },
   {
    "duration": 27,
    "start_time": "2023-11-05T14:52:25.761Z"
   },
   {
    "duration": 34,
    "start_time": "2023-11-05T14:52:25.790Z"
   },
   {
    "duration": 13,
    "start_time": "2023-11-05T14:52:25.826Z"
   },
   {
    "duration": 39,
    "start_time": "2023-11-05T14:52:25.841Z"
   },
   {
    "duration": 43,
    "start_time": "2023-11-05T14:52:25.882Z"
   },
   {
    "duration": 38,
    "start_time": "2023-11-05T14:52:25.928Z"
   },
   {
    "duration": 28,
    "start_time": "2023-11-05T14:52:25.968Z"
   },
   {
    "duration": 60,
    "start_time": "2023-11-05T14:52:25.998Z"
   },
   {
    "duration": 44,
    "start_time": "2023-11-05T14:52:26.061Z"
   },
   {
    "duration": 190,
    "start_time": "2023-11-05T14:52:26.108Z"
   },
   {
    "duration": 52,
    "start_time": "2023-11-05T14:52:26.375Z"
   },
   {
    "duration": 346,
    "start_time": "2023-11-05T14:52:27.253Z"
   },
   {
    "duration": 29,
    "start_time": "2023-11-05T14:52:27.661Z"
   },
   {
    "duration": 7,
    "start_time": "2023-11-05T14:52:28.001Z"
   },
   {
    "duration": 250,
    "start_time": "2023-11-05T14:52:28.497Z"
   },
   {
    "duration": 204,
    "start_time": "2023-11-05T14:52:28.822Z"
   },
   {
    "duration": 14,
    "start_time": "2023-11-05T14:52:29.153Z"
   },
   {
    "duration": 198,
    "start_time": "2023-11-05T14:52:29.491Z"
   },
   {
    "duration": 185,
    "start_time": "2023-11-05T14:52:29.825Z"
   },
   {
    "duration": 23,
    "start_time": "2023-11-05T14:52:30.620Z"
   },
   {
    "duration": 3,
    "start_time": "2023-11-05T14:52:31.715Z"
   },
   {
    "duration": 7,
    "start_time": "2023-11-05T14:52:31.890Z"
   },
   {
    "duration": 7,
    "start_time": "2023-11-05T14:52:32.044Z"
   },
   {
    "duration": 18,
    "start_time": "2023-11-05T14:52:32.417Z"
   },
   {
    "duration": 145,
    "start_time": "2023-11-05T14:52:33.683Z"
   },
   {
    "duration": 18,
    "start_time": "2023-11-05T14:59:18.375Z"
   },
   {
    "duration": 19,
    "start_time": "2023-11-05T14:59:27.571Z"
   },
   {
    "duration": 144,
    "start_time": "2023-11-05T14:59:28.388Z"
   },
   {
    "duration": 79,
    "start_time": "2023-11-05T15:01:59.499Z"
   },
   {
    "duration": 161,
    "start_time": "2023-11-05T15:02:30.330Z"
   },
   {
    "duration": 3,
    "start_time": "2023-11-05T15:05:41.475Z"
   },
   {
    "duration": 140,
    "start_time": "2023-11-05T15:05:41.559Z"
   },
   {
    "duration": 14,
    "start_time": "2023-11-05T15:05:41.701Z"
   },
   {
    "duration": 23,
    "start_time": "2023-11-05T15:05:41.741Z"
   },
   {
    "duration": 2254,
    "start_time": "2023-11-05T15:05:41.845Z"
   },
   {
    "duration": 22,
    "start_time": "2023-11-05T15:05:44.102Z"
   },
   {
    "duration": 6,
    "start_time": "2023-11-05T15:05:44.126Z"
   },
   {
    "duration": 15,
    "start_time": "2023-11-05T15:05:44.134Z"
   },
   {
    "duration": 5,
    "start_time": "2023-11-05T15:05:44.150Z"
   },
   {
    "duration": 11,
    "start_time": "2023-11-05T15:05:44.157Z"
   },
   {
    "duration": 5,
    "start_time": "2023-11-05T15:05:44.169Z"
   },
   {
    "duration": 14,
    "start_time": "2023-11-05T15:05:44.175Z"
   },
   {
    "duration": 34,
    "start_time": "2023-11-05T15:05:44.191Z"
   },
   {
    "duration": 41,
    "start_time": "2023-11-05T15:05:44.228Z"
   },
   {
    "duration": 7,
    "start_time": "2023-11-05T15:05:44.271Z"
   },
   {
    "duration": 30,
    "start_time": "2023-11-05T15:05:44.279Z"
   },
   {
    "duration": 17,
    "start_time": "2023-11-05T15:05:44.311Z"
   },
   {
    "duration": 11,
    "start_time": "2023-11-05T15:05:44.330Z"
   },
   {
    "duration": 19,
    "start_time": "2023-11-05T15:05:44.343Z"
   },
   {
    "duration": 394,
    "start_time": "2023-11-05T15:05:44.400Z"
   },
   {
    "duration": 43,
    "start_time": "2023-11-05T15:05:44.796Z"
   },
   {
    "duration": 8,
    "start_time": "2023-11-05T15:05:44.842Z"
   },
   {
    "duration": 263,
    "start_time": "2023-11-05T15:05:44.985Z"
   },
   {
    "duration": 216,
    "start_time": "2023-11-05T15:05:45.250Z"
   },
   {
    "duration": 14,
    "start_time": "2023-11-05T15:05:45.468Z"
   },
   {
    "duration": 229,
    "start_time": "2023-11-05T15:05:45.489Z"
   },
   {
    "duration": 239,
    "start_time": "2023-11-05T15:05:45.720Z"
   },
   {
    "duration": 193,
    "start_time": "2023-11-05T15:05:45.962Z"
   },
   {
    "duration": 24,
    "start_time": "2023-11-05T15:05:46.157Z"
   },
   {
    "duration": 4,
    "start_time": "2023-11-05T15:05:46.246Z"
   },
   {
    "duration": 10,
    "start_time": "2023-11-05T15:05:46.328Z"
   },
   {
    "duration": 7,
    "start_time": "2023-11-05T15:05:46.414Z"
   },
   {
    "duration": 21,
    "start_time": "2023-11-05T15:05:46.582Z"
   },
   {
    "duration": 136,
    "start_time": "2023-11-05T15:05:46.663Z"
   },
   {
    "duration": 16,
    "start_time": "2023-11-05T15:06:41.083Z"
   },
   {
    "duration": 139,
    "start_time": "2023-11-05T15:07:08.773Z"
   },
   {
    "duration": 2752,
    "start_time": "2023-11-05T15:07:23.240Z"
   },
   {
    "duration": 2,
    "start_time": "2023-11-05T15:07:31.292Z"
   },
   {
    "duration": 133,
    "start_time": "2023-11-05T15:07:31.438Z"
   },
   {
    "duration": 15,
    "start_time": "2023-11-05T15:07:31.598Z"
   },
   {
    "duration": 24,
    "start_time": "2023-11-05T15:07:31.746Z"
   },
   {
    "duration": 1814,
    "start_time": "2023-11-05T15:07:31.881Z"
   },
   {
    "duration": 10,
    "start_time": "2023-11-05T15:07:33.696Z"
   },
   {
    "duration": 42,
    "start_time": "2023-11-05T15:07:33.821Z"
   },
   {
    "duration": 13,
    "start_time": "2023-11-05T15:07:34.705Z"
   },
   {
    "duration": 5,
    "start_time": "2023-11-05T15:07:35.362Z"
   },
   {
    "duration": 13,
    "start_time": "2023-11-05T15:07:35.839Z"
   },
   {
    "duration": 5,
    "start_time": "2023-11-05T15:07:36.187Z"
   },
   {
    "duration": 10,
    "start_time": "2023-11-05T15:07:40.041Z"
   },
   {
    "duration": 5,
    "start_time": "2023-11-05T15:07:40.476Z"
   },
   {
    "duration": 20,
    "start_time": "2023-11-05T15:07:42.179Z"
   },
   {
    "duration": 7,
    "start_time": "2023-11-05T15:07:42.857Z"
   },
   {
    "duration": 6,
    "start_time": "2023-11-05T15:07:46.531Z"
   },
   {
    "duration": 30,
    "start_time": "2023-11-05T15:07:50.070Z"
   },
   {
    "duration": 7,
    "start_time": "2023-11-05T15:07:54.230Z"
   },
   {
    "duration": 8,
    "start_time": "2023-11-05T15:07:55.800Z"
   },
   {
    "duration": 18,
    "start_time": "2023-11-05T15:07:58.477Z"
   },
   {
    "duration": 350,
    "start_time": "2023-11-05T15:08:02.956Z"
   },
   {
    "duration": 25,
    "start_time": "2023-11-05T15:08:07.157Z"
   },
   {
    "duration": 6,
    "start_time": "2023-11-05T15:08:09.876Z"
   },
   {
    "duration": 237,
    "start_time": "2023-11-05T15:08:18.480Z"
   },
   {
    "duration": 185,
    "start_time": "2023-11-05T15:08:21.096Z"
   },
   {
    "duration": 15,
    "start_time": "2023-11-05T15:08:22.888Z"
   },
   {
    "duration": 185,
    "start_time": "2023-11-05T15:08:32.642Z"
   },
   {
    "duration": 194,
    "start_time": "2023-11-05T15:08:35.602Z"
   },
   {
    "duration": 133,
    "start_time": "2023-11-05T15:08:43.035Z"
   },
   {
    "duration": 22,
    "start_time": "2023-11-05T15:08:45.002Z"
   },
   {
    "duration": 4,
    "start_time": "2023-11-05T15:08:45.565Z"
   },
   {
    "duration": 9,
    "start_time": "2023-11-05T15:08:45.738Z"
   },
   {
    "duration": 9,
    "start_time": "2023-11-05T15:08:45.897Z"
   },
   {
    "duration": 16,
    "start_time": "2023-11-05T15:08:46.242Z"
   },
   {
    "duration": 138,
    "start_time": "2023-11-05T15:08:46.416Z"
   },
   {
    "duration": 140,
    "start_time": "2023-11-05T15:09:12.183Z"
   },
   {
    "duration": 125,
    "start_time": "2023-11-05T15:09:15.959Z"
   },
   {
    "duration": 151,
    "start_time": "2023-11-05T15:14:44.962Z"
   },
   {
    "duration": 171,
    "start_time": "2023-11-05T15:15:06.887Z"
   },
   {
    "duration": 572,
    "start_time": "2023-11-05T15:17:14.674Z"
   },
   {
    "duration": 10,
    "start_time": "2023-11-05T15:17:24.573Z"
   },
   {
    "duration": 276,
    "start_time": "2023-11-05T15:18:16.406Z"
   },
   {
    "duration": 72,
    "start_time": "2023-11-05T15:18:25.115Z"
   },
   {
    "duration": 76,
    "start_time": "2023-11-05T15:19:10.651Z"
   },
   {
    "duration": 591,
    "start_time": "2023-11-05T15:19:15.704Z"
   },
   {
    "duration": 73,
    "start_time": "2023-11-05T15:20:16.363Z"
   },
   {
    "duration": 6,
    "start_time": "2023-11-05T15:20:31.189Z"
   },
   {
    "duration": 8,
    "start_time": "2023-11-05T15:20:58.136Z"
   },
   {
    "duration": 120,
    "start_time": "2023-11-05T15:21:10.167Z"
   },
   {
    "duration": 155,
    "start_time": "2023-11-05T15:21:46.108Z"
   },
   {
    "duration": 120,
    "start_time": "2023-11-05T15:21:50.757Z"
   },
   {
    "duration": 10,
    "start_time": "2023-11-05T15:22:06.279Z"
   },
   {
    "duration": 130,
    "start_time": "2023-11-05T15:22:06.935Z"
   },
   {
    "duration": 128,
    "start_time": "2023-11-05T15:27:17.409Z"
   },
   {
    "duration": 213,
    "start_time": "2023-11-05T15:32:44.416Z"
   },
   {
    "duration": 217,
    "start_time": "2023-11-05T15:32:47.370Z"
   },
   {
    "duration": 212,
    "start_time": "2023-11-05T15:32:50.784Z"
   },
   {
    "duration": 213,
    "start_time": "2023-11-05T15:32:57.602Z"
   },
   {
    "duration": 366,
    "start_time": "2023-11-05T15:33:01.089Z"
   },
   {
    "duration": 157,
    "start_time": "2023-11-05T15:33:06.225Z"
   },
   {
    "duration": 3,
    "start_time": "2023-11-05T15:35:06.512Z"
   },
   {
    "duration": 3,
    "start_time": "2023-11-05T15:35:50.504Z"
   },
   {
    "duration": 3,
    "start_time": "2023-11-05T15:38:07.932Z"
   },
   {
    "duration": 4,
    "start_time": "2023-11-05T15:38:40.455Z"
   },
   {
    "duration": 3,
    "start_time": "2023-11-05T15:39:31.788Z"
   },
   {
    "duration": 4,
    "start_time": "2023-11-05T15:39:37.034Z"
   },
   {
    "duration": 3,
    "start_time": "2023-11-05T15:41:28.951Z"
   },
   {
    "duration": 4,
    "start_time": "2023-11-05T15:41:38.035Z"
   },
   {
    "duration": 3,
    "start_time": "2023-11-05T15:41:58.000Z"
   },
   {
    "duration": 193,
    "start_time": "2023-11-05T15:54:13.299Z"
   },
   {
    "duration": 200,
    "start_time": "2023-11-05T15:56:22.490Z"
   },
   {
    "duration": 88,
    "start_time": "2023-11-05T16:03:49.986Z"
   },
   {
    "duration": 11,
    "start_time": "2023-11-05T16:04:39.274Z"
   },
   {
    "duration": 17,
    "start_time": "2023-11-05T16:05:12.267Z"
   },
   {
    "duration": 118,
    "start_time": "2023-11-05T16:05:23.664Z"
   },
   {
    "duration": 10,
    "start_time": "2023-11-05T16:05:28.972Z"
   },
   {
    "duration": 13,
    "start_time": "2023-11-05T16:06:15.018Z"
   },
   {
    "duration": 9,
    "start_time": "2023-11-05T16:06:19.329Z"
   },
   {
    "duration": 10,
    "start_time": "2023-11-05T16:06:24.125Z"
   },
   {
    "duration": 7,
    "start_time": "2023-11-05T16:06:34.266Z"
   },
   {
    "duration": 6,
    "start_time": "2023-11-05T16:06:36.660Z"
   },
   {
    "duration": 155,
    "start_time": "2023-11-05T16:12:59.889Z"
   },
   {
    "duration": 183,
    "start_time": "2023-11-05T16:13:16.904Z"
   },
   {
    "duration": 508,
    "start_time": "2023-11-05T16:13:20.567Z"
   },
   {
    "duration": 237,
    "start_time": "2023-11-05T16:13:24.566Z"
   },
   {
    "duration": 230,
    "start_time": "2023-11-05T16:13:28.736Z"
   },
   {
    "duration": 217,
    "start_time": "2023-11-05T16:13:38.124Z"
   },
   {
    "duration": 717,
    "start_time": "2023-11-05T16:13:45.388Z"
   },
   {
    "duration": 1201,
    "start_time": "2023-11-05T16:13:48.842Z"
   },
   {
    "duration": 1152,
    "start_time": "2023-11-05T16:14:10.602Z"
   },
   {
    "duration": 1689,
    "start_time": "2023-11-05T16:14:17.004Z"
   },
   {
    "duration": 9,
    "start_time": "2023-11-05T16:21:45.517Z"
   },
   {
    "duration": 125,
    "start_time": "2023-11-05T16:22:02.692Z"
   },
   {
    "duration": 147,
    "start_time": "2023-11-05T16:26:14.253Z"
   },
   {
    "duration": 159,
    "start_time": "2023-11-05T16:26:20.827Z"
   },
   {
    "duration": 180,
    "start_time": "2023-11-05T16:27:19.719Z"
   },
   {
    "duration": 280,
    "start_time": "2023-11-05T16:27:23.522Z"
   },
   {
    "duration": 273,
    "start_time": "2023-11-05T16:27:34.321Z"
   },
   {
    "duration": 278,
    "start_time": "2023-11-05T16:28:29.970Z"
   },
   {
    "duration": 264,
    "start_time": "2023-11-05T16:28:37.941Z"
   },
   {
    "duration": 3,
    "start_time": "2023-11-05T16:28:42.691Z"
   },
   {
    "duration": 141,
    "start_time": "2023-11-05T16:28:42.771Z"
   },
   {
    "duration": 20,
    "start_time": "2023-11-05T16:28:42.914Z"
   },
   {
    "duration": 26,
    "start_time": "2023-11-05T16:28:42.952Z"
   },
   {
    "duration": 2251,
    "start_time": "2023-11-05T16:28:43.024Z"
   },
   {
    "duration": 9,
    "start_time": "2023-11-05T16:28:45.277Z"
   },
   {
    "duration": 37,
    "start_time": "2023-11-05T16:28:45.287Z"
   },
   {
    "duration": 31,
    "start_time": "2023-11-05T16:28:45.326Z"
   },
   {
    "duration": 14,
    "start_time": "2023-11-05T16:28:45.358Z"
   },
   {
    "duration": 46,
    "start_time": "2023-11-05T16:28:45.374Z"
   },
   {
    "duration": 11,
    "start_time": "2023-11-05T16:28:45.421Z"
   },
   {
    "duration": 44,
    "start_time": "2023-11-05T16:28:45.433Z"
   },
   {
    "duration": 24,
    "start_time": "2023-11-05T16:28:45.479Z"
   },
   {
    "duration": 29,
    "start_time": "2023-11-05T16:28:45.505Z"
   },
   {
    "duration": 6,
    "start_time": "2023-11-05T16:28:45.536Z"
   },
   {
    "duration": 40,
    "start_time": "2023-11-05T16:28:45.544Z"
   },
   {
    "duration": 32,
    "start_time": "2023-11-05T16:28:45.585Z"
   },
   {
    "duration": 9,
    "start_time": "2023-11-05T16:28:45.618Z"
   },
   {
    "duration": 21,
    "start_time": "2023-11-05T16:28:45.629Z"
   },
   {
    "duration": 353,
    "start_time": "2023-11-05T16:28:45.652Z"
   },
   {
    "duration": 32,
    "start_time": "2023-11-05T16:28:46.007Z"
   },
   {
    "duration": 57,
    "start_time": "2023-11-05T16:28:46.041Z"
   },
   {
    "duration": 235,
    "start_time": "2023-11-05T16:28:46.507Z"
   },
   {
    "duration": 185,
    "start_time": "2023-11-05T16:28:47.273Z"
   },
   {
    "duration": 14,
    "start_time": "2023-11-05T16:28:48.174Z"
   },
   {
    "duration": 200,
    "start_time": "2023-11-05T16:28:48.920Z"
   },
   {
    "duration": 199,
    "start_time": "2023-11-05T16:28:49.276Z"
   },
   {
    "duration": 115,
    "start_time": "2023-11-05T16:28:50.743Z"
   },
   {
    "duration": 270,
    "start_time": "2023-11-05T16:28:52.027Z"
   },
   {
    "duration": 260,
    "start_time": "2023-11-05T16:28:56.250Z"
   },
   {
    "duration": 269,
    "start_time": "2023-11-05T16:28:59.011Z"
   },
   {
    "duration": 282,
    "start_time": "2023-11-05T16:29:42.966Z"
   },
   {
    "duration": 727,
    "start_time": "2023-11-05T16:29:51.581Z"
   },
   {
    "duration": 246,
    "start_time": "2023-11-05T16:29:56.699Z"
   },
   {
    "duration": 273,
    "start_time": "2023-11-05T16:29:59.228Z"
   },
   {
    "duration": 164,
    "start_time": "2023-11-05T16:30:53.486Z"
   },
   {
    "duration": 221,
    "start_time": "2023-11-05T16:31:01.378Z"
   },
   {
    "duration": 236,
    "start_time": "2023-11-05T16:31:04.851Z"
   },
   {
    "duration": 146,
    "start_time": "2023-11-05T16:31:08.027Z"
   },
   {
    "duration": 162,
    "start_time": "2023-11-05T16:31:10.562Z"
   },
   {
    "duration": 152,
    "start_time": "2023-11-05T16:31:14.657Z"
   },
   {
    "duration": 194,
    "start_time": "2023-11-05T16:31:27.336Z"
   },
   {
    "duration": 164,
    "start_time": "2023-11-05T16:31:30.193Z"
   },
   {
    "duration": 151,
    "start_time": "2023-11-05T16:32:46.603Z"
   },
   {
    "duration": 9,
    "start_time": "2023-11-05T16:35:47.367Z"
   },
   {
    "duration": 121,
    "start_time": "2023-11-05T16:35:52.889Z"
   },
   {
    "duration": 126,
    "start_time": "2023-11-05T16:36:17.180Z"
   },
   {
    "duration": 133,
    "start_time": "2023-11-05T16:36:24.184Z"
   },
   {
    "duration": 154,
    "start_time": "2023-11-05T16:36:31.869Z"
   },
   {
    "duration": 103,
    "start_time": "2023-11-05T16:36:34.615Z"
   },
   {
    "duration": 94,
    "start_time": "2023-11-05T16:37:07.811Z"
   },
   {
    "duration": 7,
    "start_time": "2023-11-05T16:37:24.862Z"
   },
   {
    "duration": 139,
    "start_time": "2023-11-05T16:37:49.155Z"
   },
   {
    "duration": 152,
    "start_time": "2023-11-05T16:37:59.407Z"
   },
   {
    "duration": 168,
    "start_time": "2023-11-05T16:38:01.635Z"
   },
   {
    "duration": 117,
    "start_time": "2023-11-05T16:38:03.843Z"
   },
   {
    "duration": 129,
    "start_time": "2023-11-05T16:38:06.509Z"
   },
   {
    "duration": 136,
    "start_time": "2023-11-05T16:38:09.734Z"
   },
   {
    "duration": 141,
    "start_time": "2023-11-05T16:38:11.814Z"
   },
   {
    "duration": 142,
    "start_time": "2023-11-05T16:38:15.307Z"
   },
   {
    "duration": 86,
    "start_time": "2023-11-05T16:38:45.896Z"
   },
   {
    "duration": 138,
    "start_time": "2023-11-05T16:39:17.444Z"
   },
   {
    "duration": 132,
    "start_time": "2023-11-05T16:39:47.376Z"
   },
   {
    "duration": 142,
    "start_time": "2023-11-05T16:39:52.617Z"
   },
   {
    "duration": 129,
    "start_time": "2023-11-05T16:39:54.434Z"
   },
   {
    "duration": 168,
    "start_time": "2023-11-05T16:39:56.217Z"
   },
   {
    "duration": 165,
    "start_time": "2023-11-05T16:40:06.861Z"
   },
   {
    "duration": 105,
    "start_time": "2023-11-05T16:40:30.958Z"
   },
   {
    "duration": 3,
    "start_time": "2023-11-05T16:55:16.259Z"
   },
   {
    "duration": 4,
    "start_time": "2023-11-05T16:56:49.772Z"
   },
   {
    "duration": 4,
    "start_time": "2023-11-05T16:57:24.023Z"
   },
   {
    "duration": 3,
    "start_time": "2023-11-05T16:57:37.117Z"
   },
   {
    "duration": 4,
    "start_time": "2023-11-05T16:57:47.434Z"
   },
   {
    "duration": 4,
    "start_time": "2023-11-05T16:58:28.525Z"
   },
   {
    "duration": 4,
    "start_time": "2023-11-05T16:59:50.446Z"
   },
   {
    "duration": 73,
    "start_time": "2023-11-05T17:00:27.330Z"
   },
   {
    "duration": 4,
    "start_time": "2023-11-05T17:00:38.586Z"
   },
   {
    "duration": 4,
    "start_time": "2023-11-05T17:01:01.281Z"
   },
   {
    "duration": 108,
    "start_time": "2023-11-05T17:01:45.427Z"
   },
   {
    "duration": 31,
    "start_time": "2023-11-05T17:03:53.429Z"
   },
   {
    "duration": 133,
    "start_time": "2023-11-05T17:04:06.382Z"
   },
   {
    "duration": 161,
    "start_time": "2023-11-05T17:04:12.247Z"
   },
   {
    "duration": 185,
    "start_time": "2023-11-05T17:04:16.945Z"
   },
   {
    "duration": 145,
    "start_time": "2023-11-05T17:04:21.593Z"
   },
   {
    "duration": 130,
    "start_time": "2023-11-05T17:04:25.460Z"
   },
   {
    "duration": 143,
    "start_time": "2023-11-05T17:04:27.595Z"
   },
   {
    "duration": 153,
    "start_time": "2023-11-05T17:04:29.779Z"
   },
   {
    "duration": 132,
    "start_time": "2023-11-05T17:04:35.249Z"
   },
   {
    "duration": 149,
    "start_time": "2023-11-05T17:06:17.836Z"
   },
   {
    "duration": 106,
    "start_time": "2023-11-05T17:06:56.047Z"
   },
   {
    "duration": 116,
    "start_time": "2023-11-05T17:07:05.122Z"
   },
   {
    "duration": 5,
    "start_time": "2023-11-05T17:08:03.152Z"
   },
   {
    "duration": 159,
    "start_time": "2023-11-05T17:08:12.605Z"
   },
   {
    "duration": 137,
    "start_time": "2023-11-05T17:08:38.373Z"
   },
   {
    "duration": 147,
    "start_time": "2023-11-05T17:08:42.456Z"
   },
   {
    "duration": 73,
    "start_time": "2023-11-05T17:09:54.931Z"
   },
   {
    "duration": 4,
    "start_time": "2023-11-05T17:10:23.286Z"
   },
   {
    "duration": 7,
    "start_time": "2023-11-05T17:11:38.465Z"
   },
   {
    "duration": 131,
    "start_time": "2023-11-05T17:11:42.484Z"
   },
   {
    "duration": 148,
    "start_time": "2023-11-05T17:11:50.891Z"
   },
   {
    "duration": 9,
    "start_time": "2023-11-05T17:12:09.093Z"
   },
   {
    "duration": 109,
    "start_time": "2023-11-05T17:12:21.272Z"
   },
   {
    "duration": 104,
    "start_time": "2023-11-05T17:13:06.474Z"
   },
   {
    "duration": 4,
    "start_time": "2023-11-05T17:14:34.660Z"
   },
   {
    "duration": 4,
    "start_time": "2023-11-05T17:15:22.416Z"
   },
   {
    "duration": 132,
    "start_time": "2023-11-05T17:16:02.537Z"
   },
   {
    "duration": 133,
    "start_time": "2023-11-05T17:16:06.448Z"
   },
   {
    "duration": 177,
    "start_time": "2023-11-05T17:16:12.586Z"
   },
   {
    "duration": 253,
    "start_time": "2023-11-05T17:16:15.994Z"
   },
   {
    "duration": 181,
    "start_time": "2023-11-05T17:16:18.499Z"
   },
   {
    "duration": 148,
    "start_time": "2023-11-05T17:16:20.667Z"
   },
   {
    "duration": 153,
    "start_time": "2023-11-05T17:16:22.478Z"
   },
   {
    "duration": 157,
    "start_time": "2023-11-05T17:16:46.262Z"
   },
   {
    "duration": 177,
    "start_time": "2023-11-05T17:16:52.619Z"
   },
   {
    "duration": 154,
    "start_time": "2023-11-05T17:17:01.303Z"
   },
   {
    "duration": 156,
    "start_time": "2023-11-05T17:17:04.580Z"
   },
   {
    "duration": 164,
    "start_time": "2023-11-05T17:17:06.608Z"
   },
   {
    "duration": 4,
    "start_time": "2023-11-05T17:27:32.547Z"
   },
   {
    "duration": 7,
    "start_time": "2023-11-05T17:29:02.377Z"
   },
   {
    "duration": 109,
    "start_time": "2023-11-05T17:29:32.678Z"
   },
   {
    "duration": 119,
    "start_time": "2023-11-05T17:29:46.179Z"
   },
   {
    "duration": 74,
    "start_time": "2023-11-05T17:30:45.531Z"
   },
   {
    "duration": 129,
    "start_time": "2023-11-05T17:30:59.683Z"
   },
   {
    "duration": 176,
    "start_time": "2023-11-05T17:31:04.430Z"
   },
   {
    "duration": 173,
    "start_time": "2023-11-05T17:31:08.308Z"
   },
   {
    "duration": 180,
    "start_time": "2023-11-05T17:31:10.397Z"
   },
   {
    "duration": 641,
    "start_time": "2023-11-05T17:32:18.575Z"
   },
   {
    "duration": 141,
    "start_time": "2023-11-05T17:32:19.218Z"
   },
   {
    "duration": 17,
    "start_time": "2023-11-05T17:32:19.361Z"
   },
   {
    "duration": 85,
    "start_time": "2023-11-05T17:32:19.381Z"
   },
   {
    "duration": 2198,
    "start_time": "2023-11-05T17:32:19.468Z"
   },
   {
    "duration": 11,
    "start_time": "2023-11-05T17:32:21.667Z"
   },
   {
    "duration": 72,
    "start_time": "2023-11-05T17:32:21.680Z"
   },
   {
    "duration": 60,
    "start_time": "2023-11-05T17:32:21.754Z"
   },
   {
    "duration": 23,
    "start_time": "2023-11-05T17:32:21.816Z"
   },
   {
    "duration": 33,
    "start_time": "2023-11-05T17:32:21.843Z"
   },
   {
    "duration": 9,
    "start_time": "2023-11-05T17:32:21.878Z"
   },
   {
    "duration": 25,
    "start_time": "2023-11-05T17:32:21.889Z"
   },
   {
    "duration": 75,
    "start_time": "2023-11-05T17:32:21.916Z"
   },
   {
    "duration": 141,
    "start_time": "2023-11-05T17:32:21.993Z"
   },
   {
    "duration": 49,
    "start_time": "2023-11-05T17:32:22.137Z"
   },
   {
    "duration": 117,
    "start_time": "2023-11-05T17:32:22.188Z"
   },
   {
    "duration": 91,
    "start_time": "2023-11-05T17:32:22.307Z"
   },
   {
    "duration": 57,
    "start_time": "2023-11-05T17:32:22.400Z"
   },
   {
    "duration": 83,
    "start_time": "2023-11-05T17:32:22.458Z"
   },
   {
    "duration": 448,
    "start_time": "2023-11-05T17:32:22.543Z"
   },
   {
    "duration": 54,
    "start_time": "2023-11-05T17:32:22.992Z"
   },
   {
    "duration": 33,
    "start_time": "2023-11-05T17:32:23.048Z"
   },
   {
    "duration": 282,
    "start_time": "2023-11-05T17:32:23.083Z"
   },
   {
    "duration": 224,
    "start_time": "2023-11-05T17:32:23.367Z"
   },
   {
    "duration": 14,
    "start_time": "2023-11-05T17:32:23.592Z"
   },
   {
    "duration": 308,
    "start_time": "2023-11-05T17:32:23.607Z"
   },
   {
    "duration": 216,
    "start_time": "2023-11-05T17:32:23.916Z"
   },
   {
    "duration": 134,
    "start_time": "2023-11-05T17:32:24.136Z"
   },
   {
    "duration": 293,
    "start_time": "2023-11-05T17:32:24.272Z"
   },
   {
    "duration": 123,
    "start_time": "2023-11-05T17:32:24.567Z"
   },
   {
    "duration": 151,
    "start_time": "2023-11-05T17:32:24.692Z"
   },
   {
    "duration": 137,
    "start_time": "2023-11-05T17:32:24.846Z"
   },
   {
    "duration": 4,
    "start_time": "2023-11-05T17:32:24.984Z"
   },
   {
    "duration": 259,
    "start_time": "2023-11-05T17:32:24.989Z"
   },
   {
    "duration": 201,
    "start_time": "2023-11-05T17:32:25.250Z"
   },
   {
    "duration": 164,
    "start_time": "2023-11-05T17:32:25.453Z"
   },
   {
    "duration": 128,
    "start_time": "2023-11-05T17:32:25.618Z"
   },
   {
    "duration": 4,
    "start_time": "2023-11-05T17:32:25.749Z"
   },
   {
    "duration": 254,
    "start_time": "2023-11-05T17:32:25.754Z"
   },
   {
    "duration": 144,
    "start_time": "2023-11-05T17:32:26.010Z"
   },
   {
    "duration": 189,
    "start_time": "2023-11-05T17:32:26.156Z"
   },
   {
    "duration": 180,
    "start_time": "2023-11-05T17:32:26.347Z"
   },
   {
    "duration": 6,
    "start_time": "2023-11-05T17:32:26.529Z"
   },
   {
    "duration": 135,
    "start_time": "2023-11-05T17:32:26.540Z"
   },
   {
    "duration": 3,
    "start_time": "2023-11-05T17:32:26.676Z"
   },
   {
    "duration": 30,
    "start_time": "2023-11-05T17:32:26.681Z"
   },
   {
    "duration": 54,
    "start_time": "2023-11-05T17:32:26.712Z"
   },
   {
    "duration": 20,
    "start_time": "2023-11-05T17:32:26.768Z"
   },
   {
    "duration": 33,
    "start_time": "2023-11-05T17:32:26.789Z"
   },
   {
    "duration": 36,
    "start_time": "2023-11-05T17:32:26.825Z"
   },
   {
    "duration": 44,
    "start_time": "2023-11-05T17:32:26.862Z"
   },
   {
    "duration": 189,
    "start_time": "2023-11-05T17:32:26.907Z"
   },
   {
    "duration": 107,
    "start_time": "2023-11-05T17:33:48.001Z"
   },
   {
    "duration": 137,
    "start_time": "2023-11-05T17:33:49.852Z"
   },
   {
    "duration": 210,
    "start_time": "2023-11-05T17:34:13.289Z"
   },
   {
    "duration": 252,
    "start_time": "2023-11-05T17:35:07.164Z"
   },
   {
    "duration": 181,
    "start_time": "2023-11-05T17:35:10.786Z"
   },
   {
    "duration": 187,
    "start_time": "2023-11-05T17:35:16.791Z"
   },
   {
    "duration": 3,
    "start_time": "2023-11-05T17:37:11.450Z"
   },
   {
    "duration": 140,
    "start_time": "2023-11-05T17:37:11.535Z"
   },
   {
    "duration": 15,
    "start_time": "2023-11-05T17:37:11.678Z"
   },
   {
    "duration": 52,
    "start_time": "2023-11-05T17:37:11.706Z"
   },
   {
    "duration": 2398,
    "start_time": "2023-11-05T17:37:11.780Z"
   },
   {
    "duration": 10,
    "start_time": "2023-11-05T17:37:14.179Z"
   },
   {
    "duration": 34,
    "start_time": "2023-11-05T17:37:14.191Z"
   },
   {
    "duration": 34,
    "start_time": "2023-11-05T17:37:14.228Z"
   },
   {
    "duration": 13,
    "start_time": "2023-11-05T17:37:14.263Z"
   },
   {
    "duration": 81,
    "start_time": "2023-11-05T17:37:14.278Z"
   },
   {
    "duration": 70,
    "start_time": "2023-11-05T17:37:14.360Z"
   },
   {
    "duration": 57,
    "start_time": "2023-11-05T17:37:14.433Z"
   },
   {
    "duration": 52,
    "start_time": "2023-11-05T17:37:14.492Z"
   },
   {
    "duration": 48,
    "start_time": "2023-11-05T17:37:14.548Z"
   },
   {
    "duration": 18,
    "start_time": "2023-11-05T17:37:14.598Z"
   },
   {
    "duration": 61,
    "start_time": "2023-11-05T17:37:14.618Z"
   },
   {
    "duration": 17,
    "start_time": "2023-11-05T17:37:14.680Z"
   },
   {
    "duration": 24,
    "start_time": "2023-11-05T17:37:14.699Z"
   },
   {
    "duration": 21,
    "start_time": "2023-11-05T17:37:14.879Z"
   },
   {
    "duration": 417,
    "start_time": "2023-11-05T17:37:15.140Z"
   },
   {
    "duration": 28,
    "start_time": "2023-11-05T17:37:15.677Z"
   },
   {
    "duration": 8,
    "start_time": "2023-11-05T17:37:16.254Z"
   },
   {
    "duration": 255,
    "start_time": "2023-11-05T17:37:18.166Z"
   },
   {
    "duration": 203,
    "start_time": "2023-11-05T17:37:21.368Z"
   },
   {
    "duration": 15,
    "start_time": "2023-11-05T17:37:24.079Z"
   },
   {
    "duration": 198,
    "start_time": "2023-11-05T17:37:27.363Z"
   },
   {
    "duration": 355,
    "start_time": "2023-11-05T17:38:16.383Z"
   },
   {
    "duration": 226,
    "start_time": "2023-11-05T17:38:18.443Z"
   },
   {
    "duration": 226,
    "start_time": "2023-11-05T17:38:35.921Z"
   },
   {
    "duration": 25,
    "start_time": "2023-11-05T17:42:33.585Z"
   },
   {
    "duration": 16,
    "start_time": "2023-11-05T17:42:39.207Z"
   },
   {
    "duration": 8,
    "start_time": "2023-11-05T17:43:00.754Z"
   },
   {
    "duration": 84,
    "start_time": "2023-11-05T17:43:06.676Z"
   },
   {
    "duration": 10,
    "start_time": "2023-11-05T17:43:12.065Z"
   },
   {
    "duration": 8,
    "start_time": "2023-11-05T17:43:24.727Z"
   },
   {
    "duration": 10,
    "start_time": "2023-11-05T17:43:26.459Z"
   },
   {
    "duration": 204,
    "start_time": "2023-11-05T17:43:29.015Z"
   },
   {
    "duration": 133,
    "start_time": "2023-11-05T17:44:18.829Z"
   },
   {
    "duration": 275,
    "start_time": "2023-11-05T17:46:36.281Z"
   },
   {
    "duration": 114,
    "start_time": "2023-11-05T17:47:17.178Z"
   },
   {
    "duration": 222,
    "start_time": "2023-11-05T17:47:19.191Z"
   },
   {
    "duration": 113,
    "start_time": "2023-11-05T17:48:10.345Z"
   },
   {
    "duration": 133,
    "start_time": "2023-11-05T17:49:25.663Z"
   },
   {
    "duration": 171,
    "start_time": "2023-11-05T17:49:50.269Z"
   },
   {
    "duration": 126,
    "start_time": "2023-11-05T17:50:08.120Z"
   },
   {
    "duration": 4,
    "start_time": "2023-11-05T17:50:09.301Z"
   },
   {
    "duration": 153,
    "start_time": "2023-11-05T17:50:16.044Z"
   },
   {
    "duration": 118,
    "start_time": "2023-11-05T17:50:35.326Z"
   },
   {
    "duration": 139,
    "start_time": "2023-11-05T17:50:36.269Z"
   },
   {
    "duration": 4,
    "start_time": "2023-11-05T17:51:42.761Z"
   },
   {
    "duration": 164,
    "start_time": "2023-11-05T17:51:43.198Z"
   },
   {
    "duration": 110,
    "start_time": "2023-11-05T17:52:15.242Z"
   },
   {
    "duration": 195,
    "start_time": "2023-11-05T17:52:16.800Z"
   },
   {
    "duration": 242,
    "start_time": "2023-11-05T17:52:58.370Z"
   },
   {
    "duration": 6,
    "start_time": "2023-11-05T17:53:02.734Z"
   },
   {
    "duration": 122,
    "start_time": "2023-11-05T17:53:04.762Z"
   },
   {
    "duration": 3,
    "start_time": "2023-11-05T17:53:04.947Z"
   },
   {
    "duration": 3,
    "start_time": "2023-11-05T17:53:05.632Z"
   },
   {
    "duration": 6,
    "start_time": "2023-11-05T17:57:20.302Z"
   },
   {
    "duration": 6,
    "start_time": "2023-11-05T17:58:49.808Z"
   },
   {
    "duration": 5,
    "start_time": "2023-11-05T17:59:04.753Z"
   },
   {
    "duration": 5,
    "start_time": "2023-11-05T17:59:16.000Z"
   },
   {
    "duration": 9,
    "start_time": "2023-11-05T18:00:07.083Z"
   },
   {
    "duration": 9,
    "start_time": "2023-11-05T18:00:38.959Z"
   },
   {
    "duration": 21,
    "start_time": "2023-11-05T18:01:10.410Z"
   },
   {
    "duration": 10,
    "start_time": "2023-11-05T18:01:41.191Z"
   },
   {
    "duration": 113,
    "start_time": "2023-11-05T18:02:06.155Z"
   },
   {
    "duration": 154,
    "start_time": "2023-11-05T18:03:07.956Z"
   },
   {
    "duration": 150,
    "start_time": "2023-11-05T18:04:02.279Z"
   },
   {
    "duration": 148,
    "start_time": "2023-11-05T18:04:08.937Z"
   },
   {
    "duration": 164,
    "start_time": "2023-11-05T18:04:12.900Z"
   },
   {
    "duration": 147,
    "start_time": "2023-11-05T18:06:04.453Z"
   },
   {
    "duration": 162,
    "start_time": "2023-11-05T18:06:08.893Z"
   },
   {
    "duration": 144,
    "start_time": "2023-11-05T18:06:43.783Z"
   },
   {
    "duration": 147,
    "start_time": "2023-11-05T18:07:36.304Z"
   },
   {
    "duration": 154,
    "start_time": "2023-11-05T18:08:01.305Z"
   },
   {
    "duration": 213,
    "start_time": "2023-11-05T18:08:11.167Z"
   },
   {
    "duration": 142,
    "start_time": "2023-11-05T18:08:16.397Z"
   },
   {
    "duration": 149,
    "start_time": "2023-11-05T18:08:17.752Z"
   },
   {
    "duration": 146,
    "start_time": "2023-11-05T18:08:51.386Z"
   },
   {
    "duration": 74,
    "start_time": "2023-11-05T18:09:19.945Z"
   },
   {
    "duration": 141,
    "start_time": "2023-11-05T18:09:36.580Z"
   },
   {
    "duration": 68,
    "start_time": "2023-11-05T18:10:49.489Z"
   },
   {
    "duration": 165,
    "start_time": "2023-11-05T18:11:48.850Z"
   },
   {
    "duration": 311,
    "start_time": "2023-11-05T18:12:19.308Z"
   },
   {
    "duration": 83,
    "start_time": "2023-11-05T18:14:08.348Z"
   },
   {
    "duration": 73,
    "start_time": "2023-11-05T18:15:34.621Z"
   },
   {
    "duration": 608,
    "start_time": "2023-11-05T18:51:17.681Z"
   },
   {
    "duration": 145,
    "start_time": "2023-11-05T18:51:18.291Z"
   },
   {
    "duration": 20,
    "start_time": "2023-11-05T18:51:18.438Z"
   },
   {
    "duration": 33,
    "start_time": "2023-11-05T18:51:18.460Z"
   },
   {
    "duration": 1947,
    "start_time": "2023-11-05T18:51:18.495Z"
   },
   {
    "duration": 9,
    "start_time": "2023-11-05T18:51:20.444Z"
   },
   {
    "duration": 40,
    "start_time": "2023-11-05T18:51:20.455Z"
   },
   {
    "duration": 34,
    "start_time": "2023-11-05T18:51:20.497Z"
   },
   {
    "duration": 5,
    "start_time": "2023-11-05T18:51:20.533Z"
   },
   {
    "duration": 14,
    "start_time": "2023-11-05T18:51:20.539Z"
   },
   {
    "duration": 27,
    "start_time": "2023-11-05T18:51:20.555Z"
   },
   {
    "duration": 12,
    "start_time": "2023-11-05T18:51:20.583Z"
   },
   {
    "duration": 20,
    "start_time": "2023-11-05T18:51:20.596Z"
   },
   {
    "duration": 27,
    "start_time": "2023-11-05T18:51:20.618Z"
   },
   {
    "duration": 6,
    "start_time": "2023-11-05T18:51:20.647Z"
   },
   {
    "duration": 57,
    "start_time": "2023-11-05T18:51:20.654Z"
   },
   {
    "duration": 44,
    "start_time": "2023-11-05T18:51:20.712Z"
   },
   {
    "duration": 20,
    "start_time": "2023-11-05T18:51:20.758Z"
   },
   {
    "duration": 19,
    "start_time": "2023-11-05T18:51:20.780Z"
   },
   {
    "duration": 379,
    "start_time": "2023-11-05T18:51:20.801Z"
   },
   {
    "duration": 24,
    "start_time": "2023-11-05T18:51:21.181Z"
   },
   {
    "duration": 33,
    "start_time": "2023-11-05T18:51:21.207Z"
   },
   {
    "duration": 288,
    "start_time": "2023-11-05T18:51:21.241Z"
   },
   {
    "duration": 200,
    "start_time": "2023-11-05T18:51:21.531Z"
   },
   {
    "duration": 14,
    "start_time": "2023-11-05T18:51:21.733Z"
   },
   {
    "duration": 341,
    "start_time": "2023-11-05T18:51:21.749Z"
   },
   {
    "duration": 10,
    "start_time": "2023-11-05T18:51:22.091Z"
   },
   {
    "duration": 306,
    "start_time": "2023-11-05T18:51:22.102Z"
   },
   {
    "duration": 147,
    "start_time": "2023-11-05T18:51:22.410Z"
   },
   {
    "duration": 291,
    "start_time": "2023-11-05T18:51:22.558Z"
   },
   {
    "duration": 138,
    "start_time": "2023-11-05T18:51:22.850Z"
   },
   {
    "duration": 162,
    "start_time": "2023-11-05T18:51:22.990Z"
   },
   {
    "duration": 130,
    "start_time": "2023-11-05T18:51:23.153Z"
   },
   {
    "duration": 5,
    "start_time": "2023-11-05T18:51:23.285Z"
   },
   {
    "duration": 212,
    "start_time": "2023-11-05T18:51:23.291Z"
   },
   {
    "duration": 186,
    "start_time": "2023-11-05T18:51:23.505Z"
   },
   {
    "duration": 150,
    "start_time": "2023-11-05T18:51:23.693Z"
   },
   {
    "duration": 133,
    "start_time": "2023-11-05T18:51:23.845Z"
   },
   {
    "duration": 4,
    "start_time": "2023-11-05T18:51:23.980Z"
   },
   {
    "duration": 202,
    "start_time": "2023-11-05T18:51:23.985Z"
   },
   {
    "duration": 113,
    "start_time": "2023-11-05T18:51:24.191Z"
   },
   {
    "duration": 167,
    "start_time": "2023-11-05T18:51:24.305Z"
   },
   {
    "duration": 166,
    "start_time": "2023-11-05T18:51:24.473Z"
   },
   {
    "duration": 4,
    "start_time": "2023-11-05T18:51:24.641Z"
   },
   {
    "duration": 181,
    "start_time": "2023-11-05T18:51:24.647Z"
   },
   {
    "duration": 92,
    "start_time": "2023-11-05T18:51:24.830Z"
   },
   {
    "duration": 31,
    "start_time": "2023-11-05T18:51:24.923Z"
   },
   {
    "duration": 82,
    "start_time": "2023-11-05T18:51:24.956Z"
   },
   {
    "duration": 159,
    "start_time": "2023-11-05T18:51:25.040Z"
   },
   {
    "duration": 160,
    "start_time": "2023-11-05T18:51:25.200Z"
   },
   {
    "duration": 145,
    "start_time": "2023-11-05T18:51:25.362Z"
   },
   {
    "duration": 217,
    "start_time": "2023-11-05T18:51:25.509Z"
   },
   {
    "duration": 218,
    "start_time": "2023-11-05T18:51:25.728Z"
   },
   {
    "duration": 326,
    "start_time": "2023-11-05T18:51:25.949Z"
   },
   {
    "duration": 19,
    "start_time": "2023-11-05T18:51:26.276Z"
   },
   {
    "duration": 164,
    "start_time": "2023-11-05T18:51:26.297Z"
   },
   {
    "duration": 285,
    "start_time": "2023-11-05T18:51:26.462Z"
   },
   {
    "duration": 157,
    "start_time": "2023-11-05T18:51:26.749Z"
   },
   {
    "duration": 189,
    "start_time": "2023-11-05T18:51:26.908Z"
   },
   {
    "duration": 207,
    "start_time": "2023-11-05T18:51:27.098Z"
   },
   {
    "duration": 870,
    "start_time": "2023-11-05T19:26:35.125Z"
   },
   {
    "duration": 264,
    "start_time": "2023-11-05T19:26:35.997Z"
   },
   {
    "duration": 26,
    "start_time": "2023-11-05T19:26:36.264Z"
   },
   {
    "duration": 31,
    "start_time": "2023-11-05T19:26:36.294Z"
   },
   {
    "duration": 2174,
    "start_time": "2023-11-05T19:26:36.328Z"
   },
   {
    "duration": 10,
    "start_time": "2023-11-05T19:26:38.503Z"
   },
   {
    "duration": 26,
    "start_time": "2023-11-05T19:26:38.514Z"
   },
   {
    "duration": 31,
    "start_time": "2023-11-05T19:26:38.541Z"
   },
   {
    "duration": 7,
    "start_time": "2023-11-05T19:26:38.573Z"
   },
   {
    "duration": 30,
    "start_time": "2023-11-05T19:26:38.581Z"
   },
   {
    "duration": 5,
    "start_time": "2023-11-05T19:26:38.613Z"
   },
   {
    "duration": 11,
    "start_time": "2023-11-05T19:26:38.619Z"
   },
   {
    "duration": 29,
    "start_time": "2023-11-05T19:26:38.632Z"
   },
   {
    "duration": 28,
    "start_time": "2023-11-05T19:26:38.668Z"
   },
   {
    "duration": 7,
    "start_time": "2023-11-05T19:26:38.697Z"
   },
   {
    "duration": 29,
    "start_time": "2023-11-05T19:26:38.705Z"
   },
   {
    "duration": 17,
    "start_time": "2023-11-05T19:26:38.735Z"
   },
   {
    "duration": 17,
    "start_time": "2023-11-05T19:26:38.754Z"
   },
   {
    "duration": 18,
    "start_time": "2023-11-05T19:26:38.774Z"
   },
   {
    "duration": 418,
    "start_time": "2023-11-05T19:26:38.793Z"
   },
   {
    "duration": 34,
    "start_time": "2023-11-05T19:26:39.212Z"
   },
   {
    "duration": 15,
    "start_time": "2023-11-05T19:26:39.247Z"
   },
   {
    "duration": 265,
    "start_time": "2023-11-05T19:26:39.263Z"
   },
   {
    "duration": 336,
    "start_time": "2023-11-05T19:26:39.529Z"
   },
   {
    "duration": 25,
    "start_time": "2023-11-05T19:26:39.867Z"
   },
   {
    "duration": 292,
    "start_time": "2023-11-05T19:26:39.895Z"
   },
   {
    "duration": 12,
    "start_time": "2023-11-05T19:26:40.190Z"
   },
   {
    "duration": 265,
    "start_time": "2023-11-05T19:26:40.205Z"
   },
   {
    "duration": 155,
    "start_time": "2023-11-05T19:26:40.472Z"
   },
   {
    "duration": 347,
    "start_time": "2023-11-05T19:26:40.629Z"
   },
   {
    "duration": 129,
    "start_time": "2023-11-05T19:26:40.978Z"
   },
   {
    "duration": 165,
    "start_time": "2023-11-05T19:26:41.109Z"
   },
   {
    "duration": 128,
    "start_time": "2023-11-05T19:26:41.275Z"
   },
   {
    "duration": 4,
    "start_time": "2023-11-05T19:26:41.405Z"
   },
   {
    "duration": 256,
    "start_time": "2023-11-05T19:26:41.411Z"
   },
   {
    "duration": 126,
    "start_time": "2023-11-05T19:26:41.669Z"
   },
   {
    "duration": 167,
    "start_time": "2023-11-05T19:26:41.796Z"
   },
   {
    "duration": 146,
    "start_time": "2023-11-05T19:26:41.966Z"
   },
   {
    "duration": 4,
    "start_time": "2023-11-05T19:26:42.113Z"
   },
   {
    "duration": 183,
    "start_time": "2023-11-05T19:26:42.119Z"
   },
   {
    "duration": 123,
    "start_time": "2023-11-05T19:26:42.307Z"
   },
   {
    "duration": 186,
    "start_time": "2023-11-05T19:26:42.432Z"
   },
   {
    "duration": 191,
    "start_time": "2023-11-05T19:26:42.619Z"
   },
   {
    "duration": 5,
    "start_time": "2023-11-05T19:26:42.811Z"
   },
   {
    "duration": 138,
    "start_time": "2023-11-05T19:26:42.817Z"
   },
   {
    "duration": 4,
    "start_time": "2023-11-05T19:26:42.957Z"
   },
   {
    "duration": 4,
    "start_time": "2023-11-05T19:26:42.963Z"
   },
   {
    "duration": 15,
    "start_time": "2023-11-05T19:26:42.969Z"
   },
   {
    "duration": 157,
    "start_time": "2023-11-05T19:26:42.986Z"
   },
   {
    "duration": 168,
    "start_time": "2023-11-05T19:26:43.146Z"
   },
   {
    "duration": 261,
    "start_time": "2023-11-05T19:26:43.316Z"
   },
   {
    "duration": 154,
    "start_time": "2023-11-05T19:26:43.578Z"
   },
   {
    "duration": 161,
    "start_time": "2023-11-05T19:26:43.734Z"
   },
   {
    "duration": 357,
    "start_time": "2023-11-05T19:26:43.897Z"
   },
   {
    "duration": 26,
    "start_time": "2023-11-05T19:26:44.257Z"
   },
   {
    "duration": 4,
    "start_time": "2023-11-05T19:26:44.285Z"
   },
   {
    "duration": 13,
    "start_time": "2023-11-05T19:26:44.291Z"
   },
   {
    "duration": 12,
    "start_time": "2023-11-05T19:26:44.306Z"
   },
   {
    "duration": 47,
    "start_time": "2023-11-05T19:26:44.320Z"
   },
   {
    "duration": 138,
    "start_time": "2023-11-05T19:26:44.368Z"
   },
   {
    "duration": 205,
    "start_time": "2023-11-05T19:38:15.959Z"
   },
   {
    "duration": 48,
    "start_time": "2023-11-05T20:46:16.664Z"
   },
   {
    "duration": 875,
    "start_time": "2023-11-05T20:46:22.705Z"
   },
   {
    "duration": 399,
    "start_time": "2023-11-05T20:46:23.582Z"
   },
   {
    "duration": 27,
    "start_time": "2023-11-05T20:46:23.983Z"
   },
   {
    "duration": 52,
    "start_time": "2023-11-05T20:46:24.014Z"
   },
   {
    "duration": 2259,
    "start_time": "2023-11-05T20:46:24.068Z"
   },
   {
    "duration": 11,
    "start_time": "2023-11-05T20:46:26.330Z"
   },
   {
    "duration": 26,
    "start_time": "2023-11-05T20:46:26.343Z"
   },
   {
    "duration": 31,
    "start_time": "2023-11-05T20:46:26.371Z"
   },
   {
    "duration": 52,
    "start_time": "2023-11-05T20:46:26.642Z"
   },
   {
    "duration": 3,
    "start_time": "2023-11-05T20:46:41.092Z"
   },
   {
    "duration": 157,
    "start_time": "2023-11-05T20:46:41.178Z"
   },
   {
    "duration": 30,
    "start_time": "2023-11-05T20:46:41.337Z"
   },
   {
    "duration": 25,
    "start_time": "2023-11-05T20:46:41.370Z"
   },
   {
    "duration": 2181,
    "start_time": "2023-11-05T20:46:41.427Z"
   },
   {
    "duration": 21,
    "start_time": "2023-11-05T20:46:43.611Z"
   },
   {
    "duration": 25,
    "start_time": "2023-11-05T20:46:43.634Z"
   },
   {
    "duration": 31,
    "start_time": "2023-11-05T20:46:43.662Z"
   },
   {
    "duration": 17,
    "start_time": "2023-11-05T20:46:43.695Z"
   },
   {
    "duration": 39,
    "start_time": "2023-11-05T20:46:43.715Z"
   },
   {
    "duration": 12,
    "start_time": "2023-11-05T20:46:43.756Z"
   },
   {
    "duration": 19,
    "start_time": "2023-11-05T20:46:43.773Z"
   },
   {
    "duration": 6,
    "start_time": "2023-11-05T20:46:43.833Z"
   },
   {
    "duration": 26,
    "start_time": "2023-11-05T20:46:44.763Z"
   },
   {
    "duration": 10,
    "start_time": "2023-11-05T20:47:23.076Z"
   },
   {
    "duration": 22,
    "start_time": "2023-11-05T20:50:04.071Z"
   },
   {
    "duration": 160,
    "start_time": "2023-11-05T21:00:50.901Z"
   },
   {
    "duration": 77,
    "start_time": "2023-11-05T21:04:53.225Z"
   },
   {
    "duration": 13,
    "start_time": "2023-11-05T21:05:00.859Z"
   },
   {
    "duration": 13,
    "start_time": "2023-11-05T21:05:04.341Z"
   },
   {
    "duration": 10,
    "start_time": "2023-11-05T21:09:41.961Z"
   },
   {
    "duration": 5,
    "start_time": "2023-11-05T21:09:53.599Z"
   },
   {
    "duration": 3,
    "start_time": "2023-11-05T21:19:39.714Z"
   },
   {
    "duration": 169,
    "start_time": "2023-11-05T21:19:39.872Z"
   },
   {
    "duration": 24,
    "start_time": "2023-11-05T21:19:40.044Z"
   },
   {
    "duration": 25,
    "start_time": "2023-11-05T21:19:40.187Z"
   },
   {
    "duration": 2221,
    "start_time": "2023-11-05T21:19:40.346Z"
   },
   {
    "duration": 12,
    "start_time": "2023-11-05T21:19:42.569Z"
   },
   {
    "duration": 14,
    "start_time": "2023-11-05T21:19:42.584Z"
   },
   {
    "duration": 46,
    "start_time": "2023-11-05T21:19:42.601Z"
   },
   {
    "duration": 19,
    "start_time": "2023-11-05T21:19:42.650Z"
   },
   {
    "duration": 35,
    "start_time": "2023-11-05T21:19:42.672Z"
   },
   {
    "duration": 7,
    "start_time": "2023-11-05T21:19:42.804Z"
   },
   {
    "duration": 15,
    "start_time": "2023-11-05T21:19:43.145Z"
   },
   {
    "duration": 7,
    "start_time": "2023-11-05T21:19:43.310Z"
   },
   {
    "duration": 24,
    "start_time": "2023-11-05T21:19:43.646Z"
   },
   {
    "duration": 8,
    "start_time": "2023-11-05T21:19:44.003Z"
   },
   {
    "duration": 22,
    "start_time": "2023-11-05T21:19:44.345Z"
   },
   {
    "duration": 10,
    "start_time": "2023-11-05T21:19:46.651Z"
   },
   {
    "duration": 9,
    "start_time": "2023-11-05T21:19:47.339Z"
   },
   {
    "duration": 21,
    "start_time": "2023-11-05T21:19:47.848Z"
   },
   {
    "duration": 340,
    "start_time": "2023-11-05T21:19:48.399Z"
   },
   {
    "duration": 28,
    "start_time": "2023-11-05T21:19:48.807Z"
   },
   {
    "duration": 7,
    "start_time": "2023-11-05T21:19:49.135Z"
   },
   {
    "duration": 247,
    "start_time": "2023-11-05T21:19:49.913Z"
   },
   {
    "duration": 204,
    "start_time": "2023-11-05T21:19:50.516Z"
   },
   {
    "duration": 15,
    "start_time": "2023-11-05T21:19:50.934Z"
   },
   {
    "duration": 198,
    "start_time": "2023-11-05T21:19:51.320Z"
   },
   {
    "duration": 238,
    "start_time": "2023-11-05T21:19:51.689Z"
   },
   {
    "duration": 202,
    "start_time": "2023-11-05T21:20:01.536Z"
   },
   {
    "duration": 135,
    "start_time": "2023-11-05T21:20:03.363Z"
   },
   {
    "duration": 302,
    "start_time": "2023-11-05T21:20:05.837Z"
   },
   {
    "duration": 148,
    "start_time": "2023-11-05T21:20:06.532Z"
   },
   {
    "duration": 141,
    "start_time": "2023-11-05T21:20:08.300Z"
   },
   {
    "duration": 115,
    "start_time": "2023-11-05T21:20:10.331Z"
   },
   {
    "duration": 3,
    "start_time": "2023-11-05T21:20:52.494Z"
   },
   {
    "duration": 6,
    "start_time": "2023-11-05T21:21:15.289Z"
   },
   {
    "duration": 5,
    "start_time": "2023-11-05T21:21:21.804Z"
   },
   {
    "duration": 6,
    "start_time": "2023-11-05T21:21:25.095Z"
   },
   {
    "duration": 6,
    "start_time": "2023-11-05T21:22:02.037Z"
   },
   {
    "duration": 8,
    "start_time": "2023-11-05T21:22:46.612Z"
   },
   {
    "duration": 8,
    "start_time": "2023-11-05T21:23:35.612Z"
   },
   {
    "duration": 9,
    "start_time": "2023-11-05T21:24:18.617Z"
   },
   {
    "duration": 8,
    "start_time": "2023-11-05T21:24:24.705Z"
   },
   {
    "duration": 13,
    "start_time": "2023-11-05T21:24:27.238Z"
   },
   {
    "duration": 10,
    "start_time": "2023-11-05T21:24:41.647Z"
   },
   {
    "duration": 127,
    "start_time": "2023-11-05T21:25:01.908Z"
   },
   {
    "duration": 151,
    "start_time": "2023-11-05T21:25:03.945Z"
   },
   {
    "duration": 143,
    "start_time": "2023-11-05T21:26:19.842Z"
   },
   {
    "duration": 717,
    "start_time": "2023-11-05T21:27:20.309Z"
   },
   {
    "duration": 161,
    "start_time": "2023-11-05T21:27:21.029Z"
   },
   {
    "duration": 16,
    "start_time": "2023-11-05T21:27:21.191Z"
   },
   {
    "duration": 41,
    "start_time": "2023-11-05T21:27:21.210Z"
   },
   {
    "duration": 2154,
    "start_time": "2023-11-05T21:27:21.253Z"
   },
   {
    "duration": 13,
    "start_time": "2023-11-05T21:27:23.409Z"
   },
   {
    "duration": 34,
    "start_time": "2023-11-05T21:27:23.425Z"
   },
   {
    "duration": 26,
    "start_time": "2023-11-05T21:27:23.461Z"
   },
   {
    "duration": 15,
    "start_time": "2023-11-05T21:27:23.490Z"
   },
   {
    "duration": 15,
    "start_time": "2023-11-05T21:27:23.509Z"
   },
   {
    "duration": 22,
    "start_time": "2023-11-05T21:27:23.526Z"
   },
   {
    "duration": 38,
    "start_time": "2023-11-05T21:27:23.550Z"
   },
   {
    "duration": 8,
    "start_time": "2023-11-05T21:27:23.590Z"
   },
   {
    "duration": 31,
    "start_time": "2023-11-05T21:27:23.600Z"
   },
   {
    "duration": 13,
    "start_time": "2023-11-05T21:27:23.632Z"
   },
   {
    "duration": 25,
    "start_time": "2023-11-05T21:27:23.647Z"
   },
   {
    "duration": 15,
    "start_time": "2023-11-05T21:27:23.675Z"
   },
   {
    "duration": 26,
    "start_time": "2023-11-05T21:27:23.692Z"
   },
   {
    "duration": 43,
    "start_time": "2023-11-05T21:27:23.721Z"
   },
   {
    "duration": 382,
    "start_time": "2023-11-05T21:27:23.766Z"
   },
   {
    "duration": 37,
    "start_time": "2023-11-05T21:27:24.149Z"
   },
   {
    "duration": 7,
    "start_time": "2023-11-05T21:27:24.188Z"
   },
   {
    "duration": 324,
    "start_time": "2023-11-05T21:27:24.198Z"
   },
   {
    "duration": 279,
    "start_time": "2023-11-05T21:27:24.525Z"
   },
   {
    "duration": 149,
    "start_time": "2023-11-05T21:27:24.806Z"
   },
   {
    "duration": 236,
    "start_time": "2023-11-05T21:27:24.957Z"
   },
   {
    "duration": 169,
    "start_time": "2023-11-05T21:27:25.195Z"
   },
   {
    "duration": 228,
    "start_time": "2023-11-05T21:27:25.368Z"
   },
   {
    "duration": 160,
    "start_time": "2023-11-05T21:27:25.598Z"
   },
   {
    "duration": 404,
    "start_time": "2023-11-05T21:27:25.759Z"
   },
   {
    "duration": 143,
    "start_time": "2023-11-05T21:27:26.164Z"
   },
   {
    "duration": 176,
    "start_time": "2023-11-05T21:27:26.309Z"
   },
   {
    "duration": 164,
    "start_time": "2023-11-05T21:27:26.488Z"
   },
   {
    "duration": 9,
    "start_time": "2023-11-05T21:27:26.654Z"
   },
   {
    "duration": 234,
    "start_time": "2023-11-05T21:27:26.665Z"
   },
   {
    "duration": 158,
    "start_time": "2023-11-05T21:27:26.901Z"
   },
   {
    "duration": 198,
    "start_time": "2023-11-05T21:27:27.062Z"
   },
   {
    "duration": 137,
    "start_time": "2023-11-05T21:27:27.263Z"
   },
   {
    "duration": 4,
    "start_time": "2023-11-05T21:27:27.402Z"
   },
   {
    "duration": 318,
    "start_time": "2023-11-05T21:27:27.407Z"
   },
   {
    "duration": 130,
    "start_time": "2023-11-05T21:27:27.727Z"
   },
   {
    "duration": 199,
    "start_time": "2023-11-05T21:27:27.859Z"
   },
   {
    "duration": 197,
    "start_time": "2023-11-05T21:27:28.060Z"
   },
   {
    "duration": 6,
    "start_time": "2023-11-05T21:27:28.258Z"
   },
   {
    "duration": 149,
    "start_time": "2023-11-05T21:27:28.266Z"
   },
   {
    "duration": 4,
    "start_time": "2023-11-05T21:27:28.417Z"
   },
   {
    "duration": 22,
    "start_time": "2023-11-05T21:27:28.423Z"
   },
   {
    "duration": 247,
    "start_time": "2023-11-05T21:27:28.447Z"
   },
   {
    "duration": 12,
    "start_time": "2023-11-05T21:27:28.697Z"
   },
   {
    "duration": 162,
    "start_time": "2023-11-05T21:27:28.711Z"
   },
   {
    "duration": 249,
    "start_time": "2023-11-05T21:27:28.875Z"
   },
   {
    "duration": 161,
    "start_time": "2023-11-05T21:27:29.126Z"
   },
   {
    "duration": 145,
    "start_time": "2023-11-05T21:27:29.289Z"
   },
   {
    "duration": 154,
    "start_time": "2023-11-05T21:27:29.443Z"
   },
   {
    "duration": 306,
    "start_time": "2023-11-05T21:27:29.598Z"
   },
   {
    "duration": 24,
    "start_time": "2023-11-05T21:27:29.906Z"
   },
   {
    "duration": 5,
    "start_time": "2023-11-05T21:27:29.945Z"
   },
   {
    "duration": 23,
    "start_time": "2023-11-05T21:27:29.952Z"
   },
   {
    "duration": 12,
    "start_time": "2023-11-05T21:27:29.978Z"
   },
   {
    "duration": 22,
    "start_time": "2023-11-05T21:27:29.992Z"
   },
   {
    "duration": 203,
    "start_time": "2023-11-05T21:27:30.017Z"
   },
   {
    "duration": 137,
    "start_time": "2023-11-05T21:28:59.670Z"
   },
   {
    "duration": 149,
    "start_time": "2023-11-05T21:29:06.401Z"
   },
   {
    "duration": 169,
    "start_time": "2023-11-05T21:29:20.995Z"
   },
   {
    "duration": 149,
    "start_time": "2023-11-05T21:29:38.938Z"
   },
   {
    "duration": 221,
    "start_time": "2023-11-05T21:29:58.507Z"
   },
   {
    "duration": 159,
    "start_time": "2023-11-05T21:30:01.643Z"
   },
   {
    "duration": 191,
    "start_time": "2023-11-05T21:30:37.285Z"
   },
   {
    "duration": 9,
    "start_time": "2023-11-05T21:32:19.885Z"
   },
   {
    "duration": 205,
    "start_time": "2023-11-05T21:32:29.780Z"
   },
   {
    "duration": 172,
    "start_time": "2023-11-05T21:35:04.237Z"
   },
   {
    "duration": 188,
    "start_time": "2023-11-05T21:35:31.604Z"
   },
   {
    "duration": 3,
    "start_time": "2023-11-05T21:35:51.768Z"
   },
   {
    "duration": 133,
    "start_time": "2023-11-05T21:35:51.928Z"
   },
   {
    "duration": 16,
    "start_time": "2023-11-05T21:35:52.412Z"
   },
   {
    "duration": 46,
    "start_time": "2023-11-05T21:35:52.493Z"
   },
   {
    "duration": 2180,
    "start_time": "2023-11-05T21:35:52.571Z"
   },
   {
    "duration": 11,
    "start_time": "2023-11-05T21:35:54.753Z"
   },
   {
    "duration": 6,
    "start_time": "2023-11-05T21:35:54.767Z"
   },
   {
    "duration": 14,
    "start_time": "2023-11-05T21:35:54.775Z"
   },
   {
    "duration": 10,
    "start_time": "2023-11-05T21:35:54.791Z"
   },
   {
    "duration": 39,
    "start_time": "2023-11-05T21:35:54.813Z"
   },
   {
    "duration": 6,
    "start_time": "2023-11-05T21:35:54.897Z"
   },
   {
    "duration": 11,
    "start_time": "2023-11-05T21:35:55.061Z"
   },
   {
    "duration": 8,
    "start_time": "2023-11-05T21:35:55.147Z"
   },
   {
    "duration": 21,
    "start_time": "2023-11-05T21:35:55.315Z"
   },
   {
    "duration": 7,
    "start_time": "2023-11-05T21:35:55.482Z"
   },
   {
    "duration": 21,
    "start_time": "2023-11-05T21:35:55.800Z"
   },
   {
    "duration": 7,
    "start_time": "2023-11-05T21:35:56.156Z"
   },
   {
    "duration": 8,
    "start_time": "2023-11-05T21:36:00.574Z"
   },
   {
    "duration": 20,
    "start_time": "2023-11-05T21:36:00.885Z"
   },
   {
    "duration": 358,
    "start_time": "2023-11-05T21:36:01.171Z"
   },
   {
    "duration": 31,
    "start_time": "2023-11-05T21:36:02.095Z"
   },
   {
    "duration": 9,
    "start_time": "2023-11-05T21:36:04.196Z"
   },
   {
    "duration": 260,
    "start_time": "2023-11-05T21:36:08.150Z"
   },
   {
    "duration": 193,
    "start_time": "2023-11-05T21:36:08.834Z"
   },
   {
    "duration": 17,
    "start_time": "2023-11-05T21:36:09.451Z"
   },
   {
    "duration": 313,
    "start_time": "2023-11-05T21:36:10.318Z"
   },
   {
    "duration": 185,
    "start_time": "2023-11-05T21:36:12.455Z"
   },
   {
    "duration": 189,
    "start_time": "2023-11-05T21:36:39.112Z"
   },
   {
    "duration": 296,
    "start_time": "2023-11-05T21:36:44.871Z"
   },
   {
    "duration": 150,
    "start_time": "2023-11-05T21:40:52.028Z"
   },
   {
    "duration": 12,
    "start_time": "2023-11-05T21:40:58.732Z"
   },
   {
    "duration": 83,
    "start_time": "2023-11-05T21:41:15.727Z"
   },
   {
    "duration": 15,
    "start_time": "2023-11-05T21:41:23.015Z"
   },
   {
    "duration": 303,
    "start_time": "2023-11-05T21:44:02.347Z"
   },
   {
    "duration": 734,
    "start_time": "2023-11-05T21:44:22.650Z"
   },
   {
    "duration": 146,
    "start_time": "2023-11-05T21:44:23.386Z"
   },
   {
    "duration": 21,
    "start_time": "2023-11-05T21:44:23.537Z"
   },
   {
    "duration": 30,
    "start_time": "2023-11-05T21:44:23.560Z"
   },
   {
    "duration": 2255,
    "start_time": "2023-11-05T21:44:23.592Z"
   },
   {
    "duration": 11,
    "start_time": "2023-11-05T21:44:25.849Z"
   },
   {
    "duration": 16,
    "start_time": "2023-11-05T21:44:25.861Z"
   },
   {
    "duration": 20,
    "start_time": "2023-11-05T21:44:25.879Z"
   },
   {
    "duration": 12,
    "start_time": "2023-11-05T21:44:25.900Z"
   },
   {
    "duration": 46,
    "start_time": "2023-11-05T21:44:25.914Z"
   },
   {
    "duration": 8,
    "start_time": "2023-11-05T21:44:25.963Z"
   },
   {
    "duration": 12,
    "start_time": "2023-11-05T21:44:25.973Z"
   },
   {
    "duration": 15,
    "start_time": "2023-11-05T21:44:25.991Z"
   },
   {
    "duration": 63,
    "start_time": "2023-11-05T21:44:26.008Z"
   },
   {
    "duration": 7,
    "start_time": "2023-11-05T21:44:26.073Z"
   },
   {
    "duration": 31,
    "start_time": "2023-11-05T21:44:26.082Z"
   },
   {
    "duration": 28,
    "start_time": "2023-11-05T21:44:26.116Z"
   },
   {
    "duration": 9,
    "start_time": "2023-11-05T21:44:26.146Z"
   },
   {
    "duration": 20,
    "start_time": "2023-11-05T21:44:26.158Z"
   },
   {
    "duration": 383,
    "start_time": "2023-11-05T21:44:26.179Z"
   },
   {
    "duration": 28,
    "start_time": "2023-11-05T21:44:26.563Z"
   },
   {
    "duration": 6,
    "start_time": "2023-11-05T21:44:26.594Z"
   },
   {
    "duration": 282,
    "start_time": "2023-11-05T21:44:26.601Z"
   },
   {
    "duration": 240,
    "start_time": "2023-11-05T21:44:26.885Z"
   },
   {
    "duration": 128,
    "start_time": "2023-11-05T21:44:27.127Z"
   },
   {
    "duration": 230,
    "start_time": "2023-11-05T21:44:27.257Z"
   },
   {
    "duration": 310,
    "start_time": "2023-11-05T21:44:27.489Z"
   },
   {
    "duration": 13,
    "start_time": "2023-11-05T21:44:27.801Z"
   },
   {
    "duration": 150,
    "start_time": "2023-11-05T21:44:27.816Z"
   },
   {
    "duration": 325,
    "start_time": "2023-11-05T21:44:27.967Z"
   },
   {
    "duration": 135,
    "start_time": "2023-11-05T21:44:28.294Z"
   },
   {
    "duration": 142,
    "start_time": "2023-11-05T21:44:28.444Z"
   },
   {
    "duration": 127,
    "start_time": "2023-11-05T21:44:28.588Z"
   },
   {
    "duration": 8,
    "start_time": "2023-11-05T21:44:28.717Z"
   },
   {
    "duration": 171,
    "start_time": "2023-11-05T21:44:28.727Z"
   },
   {
    "duration": 204,
    "start_time": "2023-11-05T21:44:28.900Z"
   },
   {
    "duration": 170,
    "start_time": "2023-11-05T21:44:29.106Z"
   },
   {
    "duration": 131,
    "start_time": "2023-11-05T21:44:29.278Z"
   },
   {
    "duration": 7,
    "start_time": "2023-11-05T21:44:29.411Z"
   },
   {
    "duration": 193,
    "start_time": "2023-11-05T21:44:29.423Z"
   },
   {
    "duration": 133,
    "start_time": "2023-11-05T21:44:29.618Z"
   },
   {
    "duration": 195,
    "start_time": "2023-11-05T21:44:29.753Z"
   },
   {
    "duration": 199,
    "start_time": "2023-11-05T21:44:29.950Z"
   },
   {
    "duration": 7,
    "start_time": "2023-11-05T21:44:30.152Z"
   },
   {
    "duration": 166,
    "start_time": "2023-11-05T21:44:30.162Z"
   },
   {
    "duration": 14,
    "start_time": "2023-11-05T21:44:30.330Z"
   },
   {
    "duration": 28,
    "start_time": "2023-11-05T21:44:30.347Z"
   },
   {
    "duration": 250,
    "start_time": "2023-11-05T21:44:30.378Z"
   },
   {
    "duration": 15,
    "start_time": "2023-11-05T21:44:30.630Z"
   },
   {
    "duration": 167,
    "start_time": "2023-11-05T21:44:30.647Z"
   },
   {
    "duration": 158,
    "start_time": "2023-11-05T21:44:30.816Z"
   },
   {
    "duration": 276,
    "start_time": "2023-11-05T21:44:30.976Z"
   },
   {
    "duration": 161,
    "start_time": "2023-11-05T21:44:31.254Z"
   },
   {
    "duration": 165,
    "start_time": "2023-11-05T21:44:31.417Z"
   },
   {
    "duration": 302,
    "start_time": "2023-11-05T21:44:31.584Z"
   },
   {
    "duration": 20,
    "start_time": "2023-11-05T21:44:31.887Z"
   },
   {
    "duration": 5,
    "start_time": "2023-11-05T21:44:31.909Z"
   },
   {
    "duration": 28,
    "start_time": "2023-11-05T21:44:31.916Z"
   },
   {
    "duration": 23,
    "start_time": "2023-11-05T21:44:31.946Z"
   },
   {
    "duration": 47,
    "start_time": "2023-11-05T21:44:31.971Z"
   },
   {
    "duration": 169,
    "start_time": "2023-11-05T21:44:32.020Z"
   },
   {
    "duration": 3,
    "start_time": "2023-11-05T21:47:07.781Z"
   },
   {
    "duration": 661,
    "start_time": "2023-11-05T21:50:20.756Z"
   },
   {
    "duration": 152,
    "start_time": "2023-11-05T21:50:21.419Z"
   },
   {
    "duration": 16,
    "start_time": "2023-11-05T21:50:21.573Z"
   },
   {
    "duration": 53,
    "start_time": "2023-11-05T21:50:21.592Z"
   },
   {
    "duration": 2177,
    "start_time": "2023-11-05T21:50:21.647Z"
   },
   {
    "duration": 14,
    "start_time": "2023-11-05T21:50:23.826Z"
   },
   {
    "duration": 9,
    "start_time": "2023-11-05T21:50:23.842Z"
   },
   {
    "duration": 20,
    "start_time": "2023-11-05T21:50:23.853Z"
   },
   {
    "duration": 12,
    "start_time": "2023-11-05T21:50:23.874Z"
   },
   {
    "duration": 10,
    "start_time": "2023-11-05T21:50:23.888Z"
   },
   {
    "duration": 9,
    "start_time": "2023-11-05T21:50:23.901Z"
   },
   {
    "duration": 45,
    "start_time": "2023-11-05T21:50:23.911Z"
   },
   {
    "duration": 11,
    "start_time": "2023-11-05T21:50:23.959Z"
   },
   {
    "duration": 37,
    "start_time": "2023-11-05T21:50:23.971Z"
   },
   {
    "duration": 7,
    "start_time": "2023-11-05T21:50:24.010Z"
   },
   {
    "duration": 40,
    "start_time": "2023-11-05T21:50:24.018Z"
   },
   {
    "duration": 10,
    "start_time": "2023-11-05T21:50:24.061Z"
   },
   {
    "duration": 12,
    "start_time": "2023-11-05T21:50:24.073Z"
   },
   {
    "duration": 22,
    "start_time": "2023-11-05T21:50:24.087Z"
   },
   {
    "duration": 441,
    "start_time": "2023-11-05T21:50:24.111Z"
   },
   {
    "duration": 41,
    "start_time": "2023-11-05T21:50:24.554Z"
   },
   {
    "duration": 9,
    "start_time": "2023-11-05T21:50:24.597Z"
   },
   {
    "duration": 6,
    "start_time": "2023-11-05T21:50:24.608Z"
   },
   {
    "duration": 296,
    "start_time": "2023-11-05T21:50:24.616Z"
   },
   {
    "duration": 225,
    "start_time": "2023-11-05T21:50:24.914Z"
   },
   {
    "duration": 126,
    "start_time": "2023-11-05T21:50:25.143Z"
   },
   {
    "duration": 225,
    "start_time": "2023-11-05T21:50:25.271Z"
   },
   {
    "duration": 303,
    "start_time": "2023-11-05T21:50:25.500Z"
   },
   {
    "duration": 13,
    "start_time": "2023-11-05T21:50:25.805Z"
   },
   {
    "duration": 169,
    "start_time": "2023-11-05T21:50:25.819Z"
   },
   {
    "duration": 304,
    "start_time": "2023-11-05T21:50:25.990Z"
   },
   {
    "duration": 149,
    "start_time": "2023-11-05T21:50:26.296Z"
   },
   {
    "duration": 161,
    "start_time": "2023-11-05T21:50:26.447Z"
   },
   {
    "duration": 140,
    "start_time": "2023-11-05T21:50:26.611Z"
   },
   {
    "duration": 11,
    "start_time": "2023-11-05T21:50:26.753Z"
   },
   {
    "duration": 240,
    "start_time": "2023-11-05T21:50:26.766Z"
   },
   {
    "duration": 143,
    "start_time": "2023-11-05T21:50:27.008Z"
   },
   {
    "duration": 204,
    "start_time": "2023-11-05T21:50:27.155Z"
   },
   {
    "duration": 142,
    "start_time": "2023-11-05T21:50:27.363Z"
   },
   {
    "duration": 8,
    "start_time": "2023-11-05T21:50:27.507Z"
   },
   {
    "duration": 238,
    "start_time": "2023-11-05T21:50:27.517Z"
   },
   {
    "duration": 202,
    "start_time": "2023-11-05T21:50:27.758Z"
   },
   {
    "duration": 239,
    "start_time": "2023-11-05T21:50:27.962Z"
   },
   {
    "duration": 4,
    "start_time": "2023-11-05T21:50:28.203Z"
   },
   {
    "duration": 219,
    "start_time": "2023-11-05T21:50:28.209Z"
   },
   {
    "duration": 5,
    "start_time": "2023-11-05T21:50:28.430Z"
   },
   {
    "duration": 137,
    "start_time": "2023-11-05T21:50:28.437Z"
   },
   {
    "duration": 3,
    "start_time": "2023-11-05T21:50:28.576Z"
   },
   {
    "duration": 8,
    "start_time": "2023-11-05T21:50:28.580Z"
   },
   {
    "duration": 243,
    "start_time": "2023-11-05T21:50:28.590Z"
   },
   {
    "duration": 16,
    "start_time": "2023-11-05T21:50:28.834Z"
   },
   {
    "duration": 185,
    "start_time": "2023-11-05T21:50:28.852Z"
   },
   {
    "duration": 260,
    "start_time": "2023-11-05T21:50:29.044Z"
   },
   {
    "duration": 167,
    "start_time": "2023-11-05T21:50:29.306Z"
   },
   {
    "duration": 165,
    "start_time": "2023-11-05T21:50:29.475Z"
   },
   {
    "duration": 198,
    "start_time": "2023-11-05T21:50:29.643Z"
   },
   {
    "duration": 344,
    "start_time": "2023-11-05T21:50:29.845Z"
   },
   {
    "duration": 19,
    "start_time": "2023-11-05T21:50:30.190Z"
   },
   {
    "duration": 20,
    "start_time": "2023-11-05T21:50:30.211Z"
   },
   {
    "duration": 49,
    "start_time": "2023-11-05T21:50:30.233Z"
   },
   {
    "duration": 50,
    "start_time": "2023-11-05T21:50:30.283Z"
   },
   {
    "duration": 69,
    "start_time": "2023-11-05T21:50:30.334Z"
   },
   {
    "duration": 186,
    "start_time": "2023-11-05T21:50:30.405Z"
   },
   {
    "duration": 4,
    "start_time": "2023-11-05T21:50:59.889Z"
   },
   {
    "duration": 701,
    "start_time": "2023-11-05T21:56:34.208Z"
   },
   {
    "duration": 140,
    "start_time": "2023-11-05T21:56:34.911Z"
   },
   {
    "duration": 19,
    "start_time": "2023-11-05T21:56:35.053Z"
   },
   {
    "duration": 28,
    "start_time": "2023-11-05T21:56:35.075Z"
   },
   {
    "duration": 2019,
    "start_time": "2023-11-05T21:56:35.104Z"
   },
   {
    "duration": 10,
    "start_time": "2023-11-05T21:56:37.125Z"
   },
   {
    "duration": 21,
    "start_time": "2023-11-05T21:56:37.136Z"
   },
   {
    "duration": 20,
    "start_time": "2023-11-05T21:56:37.159Z"
   },
   {
    "duration": 12,
    "start_time": "2023-11-05T21:56:37.181Z"
   },
   {
    "duration": 40,
    "start_time": "2023-11-05T21:56:37.196Z"
   },
   {
    "duration": 9,
    "start_time": "2023-11-05T21:56:37.238Z"
   },
   {
    "duration": 21,
    "start_time": "2023-11-05T21:56:37.248Z"
   },
   {
    "duration": 19,
    "start_time": "2023-11-05T21:56:37.271Z"
   },
   {
    "duration": 37,
    "start_time": "2023-11-05T21:56:37.292Z"
   },
   {
    "duration": 7,
    "start_time": "2023-11-05T21:56:37.330Z"
   },
   {
    "duration": 21,
    "start_time": "2023-11-05T21:56:37.339Z"
   },
   {
    "duration": 13,
    "start_time": "2023-11-05T21:56:37.362Z"
   },
   {
    "duration": 30,
    "start_time": "2023-11-05T21:56:37.377Z"
   },
   {
    "duration": 19,
    "start_time": "2023-11-05T21:56:37.409Z"
   },
   {
    "duration": 357,
    "start_time": "2023-11-05T21:56:37.430Z"
   },
   {
    "duration": 26,
    "start_time": "2023-11-05T21:56:37.789Z"
   },
   {
    "duration": 15,
    "start_time": "2023-11-05T21:56:37.817Z"
   },
   {
    "duration": 10,
    "start_time": "2023-11-05T21:56:37.834Z"
   },
   {
    "duration": 249,
    "start_time": "2023-11-05T21:56:37.846Z"
   },
   {
    "duration": 205,
    "start_time": "2023-11-05T21:56:38.096Z"
   },
   {
    "duration": 111,
    "start_time": "2023-11-05T21:56:38.302Z"
   },
   {
    "duration": 210,
    "start_time": "2023-11-05T21:56:38.414Z"
   },
   {
    "duration": 274,
    "start_time": "2023-11-05T21:56:38.628Z"
   },
   {
    "duration": 12,
    "start_time": "2023-11-05T21:56:38.904Z"
   },
   {
    "duration": 149,
    "start_time": "2023-11-05T21:56:38.918Z"
   },
   {
    "duration": 294,
    "start_time": "2023-11-05T21:56:39.068Z"
   },
   {
    "duration": 132,
    "start_time": "2023-11-05T21:56:39.364Z"
   },
   {
    "duration": 149,
    "start_time": "2023-11-05T21:56:39.498Z"
   },
   {
    "duration": 129,
    "start_time": "2023-11-05T21:56:39.649Z"
   },
   {
    "duration": 7,
    "start_time": "2023-11-05T21:56:39.780Z"
   },
   {
    "duration": 233,
    "start_time": "2023-11-05T21:56:39.789Z"
   },
   {
    "duration": 125,
    "start_time": "2023-11-05T21:56:40.024Z"
   },
   {
    "duration": 166,
    "start_time": "2023-11-05T21:56:40.151Z"
   },
   {
    "duration": 132,
    "start_time": "2023-11-05T21:56:40.319Z"
   },
   {
    "duration": 6,
    "start_time": "2023-11-05T21:56:40.453Z"
   },
   {
    "duration": 190,
    "start_time": "2023-11-05T21:56:40.461Z"
   },
   {
    "duration": 132,
    "start_time": "2023-11-05T21:56:40.653Z"
   },
   {
    "duration": 185,
    "start_time": "2023-11-05T21:56:40.787Z"
   },
   {
    "duration": 4,
    "start_time": "2023-11-05T21:56:40.973Z"
   },
   {
    "duration": 201,
    "start_time": "2023-11-05T21:56:40.979Z"
   },
   {
    "duration": 5,
    "start_time": "2023-11-05T21:56:41.183Z"
   },
   {
    "duration": 128,
    "start_time": "2023-11-05T21:56:41.190Z"
   },
   {
    "duration": 3,
    "start_time": "2023-11-05T21:56:41.320Z"
   },
   {
    "duration": 21,
    "start_time": "2023-11-05T21:56:41.325Z"
   },
   {
    "duration": 213,
    "start_time": "2023-11-05T21:56:41.347Z"
   },
   {
    "duration": 9,
    "start_time": "2023-11-05T21:56:41.562Z"
   },
   {
    "duration": 150,
    "start_time": "2023-11-05T21:56:41.573Z"
   },
   {
    "duration": 218,
    "start_time": "2023-11-05T21:56:41.725Z"
   },
   {
    "duration": 163,
    "start_time": "2023-11-05T21:56:41.945Z"
   },
   {
    "duration": 153,
    "start_time": "2023-11-05T21:56:42.110Z"
   },
   {
    "duration": 161,
    "start_time": "2023-11-05T21:56:42.264Z"
   },
   {
    "duration": 291,
    "start_time": "2023-11-05T21:56:42.427Z"
   },
   {
    "duration": 29,
    "start_time": "2023-11-05T21:56:42.720Z"
   },
   {
    "duration": 3,
    "start_time": "2023-11-05T21:56:42.751Z"
   },
   {
    "duration": 23,
    "start_time": "2023-11-05T21:56:42.756Z"
   },
   {
    "duration": 10,
    "start_time": "2023-11-05T21:56:42.781Z"
   },
   {
    "duration": 29,
    "start_time": "2023-11-05T21:56:42.792Z"
   },
   {
    "duration": 128,
    "start_time": "2023-11-05T21:56:42.822Z"
   },
   {
    "duration": 3,
    "start_time": "2023-11-05T22:01:12.201Z"
   },
   {
    "duration": 134,
    "start_time": "2023-11-05T22:01:12.278Z"
   },
   {
    "duration": 15,
    "start_time": "2023-11-05T22:01:12.414Z"
   },
   {
    "duration": 27,
    "start_time": "2023-11-05T22:01:12.451Z"
   },
   {
    "duration": 2068,
    "start_time": "2023-11-05T22:01:12.526Z"
   },
   {
    "duration": 15,
    "start_time": "2023-11-05T22:01:14.596Z"
   },
   {
    "duration": 8,
    "start_time": "2023-11-05T22:01:14.613Z"
   },
   {
    "duration": 34,
    "start_time": "2023-11-05T22:01:14.623Z"
   },
   {
    "duration": 19,
    "start_time": "2023-11-05T22:01:14.658Z"
   },
   {
    "duration": 31,
    "start_time": "2023-11-05T22:01:14.678Z"
   },
   {
    "duration": 6,
    "start_time": "2023-11-05T22:01:14.711Z"
   },
   {
    "duration": 13,
    "start_time": "2023-11-05T22:01:14.718Z"
   },
   {
    "duration": 15,
    "start_time": "2023-11-05T22:01:14.733Z"
   },
   {
    "duration": 52,
    "start_time": "2023-11-05T22:01:14.750Z"
   },
   {
    "duration": 6,
    "start_time": "2023-11-05T22:01:14.804Z"
   },
   {
    "duration": 42,
    "start_time": "2023-11-05T22:01:14.812Z"
   },
   {
    "duration": 7,
    "start_time": "2023-11-05T22:01:17.417Z"
   },
   {
    "duration": 8,
    "start_time": "2023-11-05T22:01:17.868Z"
   },
   {
    "duration": 17,
    "start_time": "2023-11-05T22:01:18.338Z"
   },
   {
    "duration": 372,
    "start_time": "2023-11-05T22:01:20.342Z"
   },
   {
    "duration": 51,
    "start_time": "2023-11-05T22:01:20.716Z"
   },
   {
    "duration": 7,
    "start_time": "2023-11-05T22:01:20.886Z"
   },
   {
    "duration": 2,
    "start_time": "2023-11-05T22:01:24.179Z"
   },
   {
    "duration": 278,
    "start_time": "2023-11-05T22:01:24.601Z"
   },
   {
    "duration": 202,
    "start_time": "2023-11-05T22:01:28.546Z"
   },
   {
    "duration": 19,
    "start_time": "2023-11-05T22:01:37.236Z"
   },
   {
    "duration": 14,
    "start_time": "2023-11-05T22:02:36.967Z"
   },
   {
    "duration": 7,
    "start_time": "2023-11-05T22:05:45.899Z"
   },
   {
    "duration": 3,
    "start_time": "2023-11-05T22:05:56.058Z"
   },
   {
    "duration": 129,
    "start_time": "2023-11-05T22:05:56.137Z"
   },
   {
    "duration": 14,
    "start_time": "2023-11-05T22:05:56.268Z"
   },
   {
    "duration": 27,
    "start_time": "2023-11-05T22:05:56.406Z"
   },
   {
    "duration": 1905,
    "start_time": "2023-11-05T22:05:56.435Z"
   },
   {
    "duration": 10,
    "start_time": "2023-11-05T22:05:58.343Z"
   },
   {
    "duration": 6,
    "start_time": "2023-11-05T22:05:58.354Z"
   },
   {
    "duration": 12,
    "start_time": "2023-11-05T22:05:58.363Z"
   },
   {
    "duration": 8,
    "start_time": "2023-11-05T22:05:58.377Z"
   },
   {
    "duration": 10,
    "start_time": "2023-11-05T22:05:58.387Z"
   },
   {
    "duration": 46,
    "start_time": "2023-11-05T22:05:58.399Z"
   },
   {
    "duration": 10,
    "start_time": "2023-11-05T22:05:58.447Z"
   },
   {
    "duration": 14,
    "start_time": "2023-11-05T22:05:58.459Z"
   },
   {
    "duration": 24,
    "start_time": "2023-11-05T22:05:58.476Z"
   },
   {
    "duration": 7,
    "start_time": "2023-11-05T22:05:58.501Z"
   },
   {
    "duration": 38,
    "start_time": "2023-11-05T22:05:58.510Z"
   },
   {
    "duration": 9,
    "start_time": "2023-11-05T22:06:00.247Z"
   },
   {
    "duration": 8,
    "start_time": "2023-11-05T22:06:00.865Z"
   },
   {
    "duration": 24,
    "start_time": "2023-11-05T22:06:01.032Z"
   },
   {
    "duration": 446,
    "start_time": "2023-11-05T22:06:01.196Z"
   },
   {
    "duration": 27,
    "start_time": "2023-11-05T22:06:01.644Z"
   },
   {
    "duration": 40,
    "start_time": "2023-11-05T22:06:01.673Z"
   },
   {
    "duration": 3,
    "start_time": "2023-11-05T22:06:03.831Z"
   },
   {
    "duration": 263,
    "start_time": "2023-11-05T22:06:05.056Z"
   },
   {
    "duration": 203,
    "start_time": "2023-11-05T22:06:09.075Z"
   },
   {
    "duration": 15,
    "start_time": "2023-11-05T22:06:13.243Z"
   },
   {
    "duration": 245,
    "start_time": "2023-11-05T22:06:28.333Z"
   },
   {
    "duration": 297,
    "start_time": "2023-11-05T22:07:19.310Z"
   },
   {
    "duration": 15,
    "start_time": "2023-11-05T22:07:24.413Z"
   },
   {
    "duration": 130,
    "start_time": "2023-11-05T22:07:49.268Z"
   },
   {
    "duration": 386,
    "start_time": "2023-11-05T22:07:50.514Z"
   },
   {
    "duration": 122,
    "start_time": "2023-11-05T22:08:42.210Z"
   },
   {
    "duration": 139,
    "start_time": "2023-11-05T22:08:47.937Z"
   },
   {
    "duration": 120,
    "start_time": "2023-11-05T22:09:12.226Z"
   },
   {
    "duration": 8,
    "start_time": "2023-11-05T22:09:14.861Z"
   },
   {
    "duration": 145,
    "start_time": "2023-11-05T22:09:29.754Z"
   },
   {
    "duration": 625,
    "start_time": "2023-11-05T22:11:08.364Z"
   },
   {
    "duration": 138,
    "start_time": "2023-11-05T22:11:08.991Z"
   },
   {
    "duration": 17,
    "start_time": "2023-11-05T22:11:09.131Z"
   },
   {
    "duration": 48,
    "start_time": "2023-11-05T22:11:09.150Z"
   },
   {
    "duration": 2031,
    "start_time": "2023-11-05T22:11:09.200Z"
   },
   {
    "duration": 11,
    "start_time": "2023-11-05T22:11:11.233Z"
   },
   {
    "duration": 19,
    "start_time": "2023-11-05T22:11:11.245Z"
   },
   {
    "duration": 24,
    "start_time": "2023-11-05T22:11:11.266Z"
   },
   {
    "duration": 12,
    "start_time": "2023-11-05T22:11:11.292Z"
   },
   {
    "duration": 10,
    "start_time": "2023-11-05T22:11:11.306Z"
   },
   {
    "duration": 5,
    "start_time": "2023-11-05T22:11:11.318Z"
   },
   {
    "duration": 28,
    "start_time": "2023-11-05T22:11:11.325Z"
   },
   {
    "duration": 6,
    "start_time": "2023-11-05T22:11:11.355Z"
   },
   {
    "duration": 27,
    "start_time": "2023-11-05T22:11:11.364Z"
   },
   {
    "duration": 9,
    "start_time": "2023-11-05T22:11:11.392Z"
   },
   {
    "duration": 58,
    "start_time": "2023-11-05T22:11:11.403Z"
   },
   {
    "duration": 33,
    "start_time": "2023-11-05T22:11:11.463Z"
   },
   {
    "duration": 10,
    "start_time": "2023-11-05T22:11:11.498Z"
   },
   {
    "duration": 31,
    "start_time": "2023-11-05T22:11:11.511Z"
   },
   {
    "duration": 366,
    "start_time": "2023-11-05T22:11:11.544Z"
   },
   {
    "duration": 35,
    "start_time": "2023-11-05T22:11:11.912Z"
   },
   {
    "duration": 6,
    "start_time": "2023-11-05T22:11:11.949Z"
   },
   {
    "duration": 8,
    "start_time": "2023-11-05T22:11:11.957Z"
   },
   {
    "duration": 266,
    "start_time": "2023-11-05T22:11:11.967Z"
   },
   {
    "duration": 219,
    "start_time": "2023-11-05T22:11:12.235Z"
   },
   {
    "duration": 113,
    "start_time": "2023-11-05T22:11:12.456Z"
   },
   {
    "duration": 189,
    "start_time": "2023-11-05T22:11:12.571Z"
   },
   {
    "duration": 289,
    "start_time": "2023-11-05T22:11:12.762Z"
   },
   {
    "duration": 13,
    "start_time": "2023-11-05T22:11:13.052Z"
   },
   {
    "duration": 156,
    "start_time": "2023-11-05T22:11:13.067Z"
   },
   {
    "duration": 319,
    "start_time": "2023-11-05T22:11:13.225Z"
   },
   {
    "duration": 142,
    "start_time": "2023-11-05T22:11:13.546Z"
   },
   {
    "duration": 189,
    "start_time": "2023-11-05T22:11:13.690Z"
   },
   {
    "duration": 176,
    "start_time": "2023-11-05T22:11:13.881Z"
   },
   {
    "duration": 0,
    "start_time": "2023-11-05T22:11:14.059Z"
   },
   {
    "duration": 0,
    "start_time": "2023-11-05T22:11:14.060Z"
   },
   {
    "duration": 0,
    "start_time": "2023-11-05T22:11:14.061Z"
   },
   {
    "duration": 0,
    "start_time": "2023-11-05T22:11:14.062Z"
   },
   {
    "duration": 0,
    "start_time": "2023-11-05T22:11:14.063Z"
   },
   {
    "duration": 0,
    "start_time": "2023-11-05T22:11:14.064Z"
   },
   {
    "duration": 0,
    "start_time": "2023-11-05T22:11:14.065Z"
   },
   {
    "duration": 0,
    "start_time": "2023-11-05T22:11:14.066Z"
   },
   {
    "duration": 0,
    "start_time": "2023-11-05T22:11:14.067Z"
   },
   {
    "duration": 0,
    "start_time": "2023-11-05T22:11:14.067Z"
   },
   {
    "duration": 1,
    "start_time": "2023-11-05T22:11:14.068Z"
   },
   {
    "duration": 0,
    "start_time": "2023-11-05T22:11:14.069Z"
   },
   {
    "duration": 0,
    "start_time": "2023-11-05T22:11:14.070Z"
   },
   {
    "duration": 0,
    "start_time": "2023-11-05T22:11:14.071Z"
   },
   {
    "duration": 0,
    "start_time": "2023-11-05T22:11:14.072Z"
   },
   {
    "duration": 0,
    "start_time": "2023-11-05T22:11:14.073Z"
   },
   {
    "duration": 0,
    "start_time": "2023-11-05T22:11:14.073Z"
   },
   {
    "duration": 0,
    "start_time": "2023-11-05T22:11:14.074Z"
   },
   {
    "duration": 0,
    "start_time": "2023-11-05T22:11:14.076Z"
   },
   {
    "duration": 0,
    "start_time": "2023-11-05T22:11:14.077Z"
   },
   {
    "duration": 0,
    "start_time": "2023-11-05T22:11:14.078Z"
   },
   {
    "duration": 0,
    "start_time": "2023-11-05T22:11:14.079Z"
   },
   {
    "duration": 0,
    "start_time": "2023-11-05T22:11:14.080Z"
   },
   {
    "duration": 0,
    "start_time": "2023-11-05T22:11:14.081Z"
   },
   {
    "duration": 0,
    "start_time": "2023-11-05T22:11:14.082Z"
   },
   {
    "duration": 0,
    "start_time": "2023-11-05T22:11:14.083Z"
   },
   {
    "duration": 0,
    "start_time": "2023-11-05T22:11:14.084Z"
   },
   {
    "duration": 0,
    "start_time": "2023-11-05T22:11:14.085Z"
   },
   {
    "duration": 0,
    "start_time": "2023-11-05T22:11:14.086Z"
   },
   {
    "duration": 113,
    "start_time": "2023-11-05T22:12:15.779Z"
   },
   {
    "duration": 8,
    "start_time": "2023-11-05T22:13:00.368Z"
   },
   {
    "duration": 89,
    "start_time": "2023-11-05T22:14:20.611Z"
   },
   {
    "duration": 13,
    "start_time": "2023-11-05T22:14:30.989Z"
   },
   {
    "duration": 154,
    "start_time": "2023-11-05T22:14:42.007Z"
   },
   {
    "duration": 145,
    "start_time": "2023-11-05T22:15:06.627Z"
   },
   {
    "duration": 651,
    "start_time": "2023-11-05T22:15:36.248Z"
   },
   {
    "duration": 137,
    "start_time": "2023-11-05T22:15:36.901Z"
   },
   {
    "duration": 22,
    "start_time": "2023-11-05T22:15:37.040Z"
   },
   {
    "duration": 42,
    "start_time": "2023-11-05T22:15:37.064Z"
   },
   {
    "duration": 2005,
    "start_time": "2023-11-05T22:15:37.109Z"
   },
   {
    "duration": 10,
    "start_time": "2023-11-05T22:15:39.116Z"
   },
   {
    "duration": 8,
    "start_time": "2023-11-05T22:15:39.128Z"
   },
   {
    "duration": 20,
    "start_time": "2023-11-05T22:15:39.137Z"
   },
   {
    "duration": 13,
    "start_time": "2023-11-05T22:15:39.158Z"
   },
   {
    "duration": 10,
    "start_time": "2023-11-05T22:15:39.172Z"
   },
   {
    "duration": 7,
    "start_time": "2023-11-05T22:15:39.184Z"
   },
   {
    "duration": 16,
    "start_time": "2023-11-05T22:15:39.192Z"
   },
   {
    "duration": 9,
    "start_time": "2023-11-05T22:15:39.210Z"
   },
   {
    "duration": 31,
    "start_time": "2023-11-05T22:15:39.244Z"
   },
   {
    "duration": 6,
    "start_time": "2023-11-05T22:15:39.278Z"
   },
   {
    "duration": 22,
    "start_time": "2023-11-05T22:15:39.286Z"
   },
   {
    "duration": 8,
    "start_time": "2023-11-05T22:15:39.310Z"
   },
   {
    "duration": 28,
    "start_time": "2023-11-05T22:15:39.320Z"
   },
   {
    "duration": 25,
    "start_time": "2023-11-05T22:15:39.350Z"
   },
   {
    "duration": 378,
    "start_time": "2023-11-05T22:15:39.377Z"
   },
   {
    "duration": 29,
    "start_time": "2023-11-05T22:15:39.758Z"
   },
   {
    "duration": 6,
    "start_time": "2023-11-05T22:15:39.789Z"
   },
   {
    "duration": 24,
    "start_time": "2023-11-05T22:15:39.797Z"
   },
   {
    "duration": 272,
    "start_time": "2023-11-05T22:15:39.824Z"
   },
   {
    "duration": 201,
    "start_time": "2023-11-05T22:15:40.098Z"
   },
   {
    "duration": 111,
    "start_time": "2023-11-05T22:15:40.301Z"
   },
   {
    "duration": 189,
    "start_time": "2023-11-05T22:15:40.414Z"
   },
   {
    "duration": 294,
    "start_time": "2023-11-05T22:15:40.605Z"
   },
   {
    "duration": 13,
    "start_time": "2023-11-05T22:15:40.900Z"
   },
   {
    "duration": 155,
    "start_time": "2023-11-05T22:15:40.914Z"
   },
   {
    "duration": 321,
    "start_time": "2023-11-05T22:15:41.071Z"
   },
   {
    "duration": 122,
    "start_time": "2023-11-05T22:15:41.394Z"
   },
   {
    "duration": 156,
    "start_time": "2023-11-05T22:15:41.518Z"
   },
   {
    "duration": 120,
    "start_time": "2023-11-05T22:15:41.676Z"
   },
   {
    "duration": 7,
    "start_time": "2023-11-05T22:15:41.798Z"
   },
   {
    "duration": 168,
    "start_time": "2023-11-05T22:15:41.807Z"
   },
   {
    "duration": 191,
    "start_time": "2023-11-05T22:15:41.977Z"
   },
   {
    "duration": 150,
    "start_time": "2023-11-05T22:15:42.170Z"
   },
   {
    "duration": 129,
    "start_time": "2023-11-05T22:15:42.322Z"
   },
   {
    "duration": 8,
    "start_time": "2023-11-05T22:15:42.452Z"
   },
   {
    "duration": 198,
    "start_time": "2023-11-05T22:15:42.464Z"
   },
   {
    "duration": 112,
    "start_time": "2023-11-05T22:15:42.663Z"
   },
   {
    "duration": 153,
    "start_time": "2023-11-05T22:15:42.777Z"
   },
   {
    "duration": 4,
    "start_time": "2023-11-05T22:15:42.932Z"
   },
   {
    "duration": 179,
    "start_time": "2023-11-05T22:15:42.937Z"
   },
   {
    "duration": 5,
    "start_time": "2023-11-05T22:15:43.118Z"
   },
   {
    "duration": 155,
    "start_time": "2023-11-05T22:15:43.125Z"
   },
   {
    "duration": 4,
    "start_time": "2023-11-05T22:15:43.285Z"
   },
   {
    "duration": 6,
    "start_time": "2023-11-05T22:15:43.291Z"
   },
   {
    "duration": 204,
    "start_time": "2023-11-05T22:15:43.299Z"
   },
   {
    "duration": 9,
    "start_time": "2023-11-05T22:15:43.505Z"
   },
   {
    "duration": 169,
    "start_time": "2023-11-05T22:15:43.516Z"
   },
   {
    "duration": 190,
    "start_time": "2023-11-05T22:15:43.687Z"
   },
   {
    "duration": 230,
    "start_time": "2023-11-05T22:15:43.879Z"
   },
   {
    "duration": 153,
    "start_time": "2023-11-05T22:15:44.111Z"
   },
   {
    "duration": 179,
    "start_time": "2023-11-05T22:15:44.266Z"
   },
   {
    "duration": 343,
    "start_time": "2023-11-05T22:15:44.447Z"
   },
   {
    "duration": 20,
    "start_time": "2023-11-05T22:15:44.791Z"
   },
   {
    "duration": 3,
    "start_time": "2023-11-05T22:15:44.813Z"
   },
   {
    "duration": 26,
    "start_time": "2023-11-05T22:15:44.818Z"
   },
   {
    "duration": 7,
    "start_time": "2023-11-05T22:15:44.846Z"
   },
   {
    "duration": 21,
    "start_time": "2023-11-05T22:15:44.854Z"
   },
   {
    "duration": 144,
    "start_time": "2023-11-05T22:15:44.876Z"
   },
   {
    "duration": 3,
    "start_time": "2023-11-05T22:17:02.406Z"
   },
   {
    "duration": 142,
    "start_time": "2023-11-05T22:17:02.486Z"
   },
   {
    "duration": 24,
    "start_time": "2023-11-05T22:17:02.631Z"
   },
   {
    "duration": 61,
    "start_time": "2023-11-05T22:17:02.658Z"
   },
   {
    "duration": 2129,
    "start_time": "2023-11-05T22:17:02.742Z"
   },
   {
    "duration": 12,
    "start_time": "2023-11-05T22:17:04.873Z"
   },
   {
    "duration": 8,
    "start_time": "2023-11-05T22:17:04.887Z"
   },
   {
    "duration": 14,
    "start_time": "2023-11-05T22:17:04.899Z"
   },
   {
    "duration": 35,
    "start_time": "2023-11-05T22:17:04.915Z"
   },
   {
    "duration": 11,
    "start_time": "2023-11-05T22:17:04.952Z"
   },
   {
    "duration": 7,
    "start_time": "2023-11-05T22:17:04.965Z"
   },
   {
    "duration": 11,
    "start_time": "2023-11-05T22:17:04.974Z"
   },
   {
    "duration": 19,
    "start_time": "2023-11-05T22:17:04.987Z"
   },
   {
    "duration": 43,
    "start_time": "2023-11-05T22:17:05.008Z"
   },
   {
    "duration": 8,
    "start_time": "2023-11-05T22:17:05.054Z"
   },
   {
    "duration": 24,
    "start_time": "2023-11-05T22:17:05.064Z"
   },
   {
    "duration": 8,
    "start_time": "2023-11-05T22:17:05.250Z"
   },
   {
    "duration": 8,
    "start_time": "2023-11-05T22:17:05.415Z"
   },
   {
    "duration": 19,
    "start_time": "2023-11-05T22:17:05.581Z"
   },
   {
    "duration": 356,
    "start_time": "2023-11-05T22:17:05.748Z"
   },
   {
    "duration": 28,
    "start_time": "2023-11-05T22:17:06.224Z"
   },
   {
    "duration": 8,
    "start_time": "2023-11-05T22:17:06.790Z"
   },
   {
    "duration": 3,
    "start_time": "2023-11-05T22:17:07.207Z"
   },
   {
    "duration": 289,
    "start_time": "2023-11-05T22:17:07.290Z"
   },
   {
    "duration": 253,
    "start_time": "2023-11-05T22:17:07.829Z"
   },
   {
    "duration": 17,
    "start_time": "2023-11-05T22:17:08.181Z"
   },
   {
    "duration": 324,
    "start_time": "2023-11-05T22:17:10.059Z"
   },
   {
    "duration": 307,
    "start_time": "2023-11-05T22:17:13.396Z"
   },
   {
    "duration": 11,
    "start_time": "2023-11-05T22:17:14.140Z"
   },
   {
    "duration": 135,
    "start_time": "2023-11-05T22:17:15.617Z"
   },
   {
    "duration": 337,
    "start_time": "2023-11-05T22:17:17.155Z"
   },
   {
    "duration": 123,
    "start_time": "2023-11-05T22:17:17.912Z"
   },
   {
    "duration": 137,
    "start_time": "2023-11-05T22:17:20.636Z"
   },
   {
    "duration": 141,
    "start_time": "2023-11-05T22:17:23.550Z"
   },
   {
    "duration": 11,
    "start_time": "2023-11-05T22:17:30.745Z"
   },
   {
    "duration": 21,
    "start_time": "2023-11-05T22:18:21.052Z"
   },
   {
    "duration": 11,
    "start_time": "2023-11-05T22:19:19.162Z"
   },
   {
    "duration": 14,
    "start_time": "2023-11-05T22:19:34.019Z"
   },
   {
    "duration": 37,
    "start_time": "2023-11-05T22:20:57.277Z"
   },
   {
    "duration": 25,
    "start_time": "2023-11-05T22:21:02.178Z"
   },
   {
    "duration": 27,
    "start_time": "2023-11-05T22:21:33.834Z"
   },
   {
    "duration": 76,
    "start_time": "2023-11-05T22:24:22.327Z"
   },
   {
    "duration": 18,
    "start_time": "2023-11-05T22:24:26.821Z"
   },
   {
    "duration": 22,
    "start_time": "2023-11-05T22:24:53.921Z"
   },
   {
    "duration": 25,
    "start_time": "2023-11-05T22:25:09.056Z"
   },
   {
    "duration": 21,
    "start_time": "2023-11-05T22:25:12.437Z"
   },
   {
    "duration": 16,
    "start_time": "2023-11-05T22:27:48.174Z"
   },
   {
    "duration": 26,
    "start_time": "2023-11-05T22:28:02.760Z"
   },
   {
    "duration": 17,
    "start_time": "2023-11-05T22:29:25.711Z"
   },
   {
    "duration": 18,
    "start_time": "2023-11-05T22:29:50.379Z"
   },
   {
    "duration": 17,
    "start_time": "2023-11-05T22:30:07.969Z"
   },
   {
    "duration": 19,
    "start_time": "2023-11-05T22:30:30.276Z"
   },
   {
    "duration": 63,
    "start_time": "2023-11-05T22:34:59.594Z"
   },
   {
    "duration": 68,
    "start_time": "2023-11-05T22:37:17.212Z"
   },
   {
    "duration": 3,
    "start_time": "2023-11-05T22:37:35.829Z"
   },
   {
    "duration": 132,
    "start_time": "2023-11-05T22:37:35.909Z"
   },
   {
    "duration": 14,
    "start_time": "2023-11-05T22:37:36.044Z"
   },
   {
    "duration": 32,
    "start_time": "2023-11-05T22:37:36.082Z"
   },
   {
    "duration": 2007,
    "start_time": "2023-11-05T22:37:36.164Z"
   },
   {
    "duration": 11,
    "start_time": "2023-11-05T22:37:38.173Z"
   },
   {
    "duration": 11,
    "start_time": "2023-11-05T22:37:38.185Z"
   },
   {
    "duration": 37,
    "start_time": "2023-11-05T22:37:38.198Z"
   },
   {
    "duration": 12,
    "start_time": "2023-11-05T22:37:38.237Z"
   },
   {
    "duration": 11,
    "start_time": "2023-11-05T22:37:38.485Z"
   },
   {
    "duration": 6,
    "start_time": "2023-11-05T22:37:38.671Z"
   },
   {
    "duration": 12,
    "start_time": "2023-11-05T22:37:39.029Z"
   },
   {
    "duration": 6,
    "start_time": "2023-11-05T22:37:39.198Z"
   },
   {
    "duration": 30,
    "start_time": "2023-11-05T22:37:39.515Z"
   },
   {
    "duration": 8,
    "start_time": "2023-11-05T22:37:39.824Z"
   },
   {
    "duration": 24,
    "start_time": "2023-11-05T22:37:40.338Z"
   },
   {
    "duration": 12,
    "start_time": "2023-11-05T22:37:42.541Z"
   },
   {
    "duration": 8,
    "start_time": "2023-11-05T22:37:42.855Z"
   },
   {
    "duration": 20,
    "start_time": "2023-11-05T22:37:43.175Z"
   },
   {
    "duration": 390,
    "start_time": "2023-11-05T22:37:43.517Z"
   },
   {
    "duration": 43,
    "start_time": "2023-11-05T22:37:43.909Z"
   },
   {
    "duration": 9,
    "start_time": "2023-11-05T22:37:44.155Z"
   },
   {
    "duration": 4,
    "start_time": "2023-11-05T22:37:45.057Z"
   },
   {
    "duration": 409,
    "start_time": "2023-11-05T22:37:45.526Z"
   },
   {
    "duration": 224,
    "start_time": "2023-11-05T22:37:45.991Z"
   },
   {
    "duration": 16,
    "start_time": "2023-11-05T22:37:51.684Z"
   },
   {
    "duration": 180,
    "start_time": "2023-11-05T22:37:51.931Z"
   },
   {
    "duration": 301,
    "start_time": "2023-11-05T22:37:52.212Z"
   },
   {
    "duration": 12,
    "start_time": "2023-11-05T22:37:56.386Z"
   },
   {
    "duration": 185,
    "start_time": "2023-11-05T22:38:29.070Z"
   },
   {
    "duration": 11,
    "start_time": "2023-11-05T22:40:05.168Z"
   },
   {
    "duration": 769,
    "start_time": "2023-11-05T22:42:43.823Z"
   },
   {
    "duration": 157,
    "start_time": "2023-11-05T22:42:44.595Z"
   },
   {
    "duration": 22,
    "start_time": "2023-11-05T22:42:44.754Z"
   },
   {
    "duration": 37,
    "start_time": "2023-11-05T22:42:44.778Z"
   },
   {
    "duration": 2294,
    "start_time": "2023-11-05T22:42:44.817Z"
   },
   {
    "duration": 11,
    "start_time": "2023-11-05T22:42:47.113Z"
   },
   {
    "duration": 8,
    "start_time": "2023-11-05T22:42:47.125Z"
   },
   {
    "duration": 17,
    "start_time": "2023-11-05T22:42:47.135Z"
   },
   {
    "duration": 11,
    "start_time": "2023-11-05T22:42:47.154Z"
   },
   {
    "duration": 11,
    "start_time": "2023-11-05T22:42:47.167Z"
   },
   {
    "duration": 5,
    "start_time": "2023-11-05T22:42:47.179Z"
   },
   {
    "duration": 10,
    "start_time": "2023-11-05T22:42:47.186Z"
   },
   {
    "duration": 7,
    "start_time": "2023-11-05T22:42:47.198Z"
   },
   {
    "duration": 52,
    "start_time": "2023-11-05T22:42:47.208Z"
   },
   {
    "duration": 6,
    "start_time": "2023-11-05T22:42:47.262Z"
   },
   {
    "duration": 25,
    "start_time": "2023-11-05T22:42:47.270Z"
   },
   {
    "duration": 7,
    "start_time": "2023-11-05T22:42:47.296Z"
   },
   {
    "duration": 12,
    "start_time": "2023-11-05T22:42:47.304Z"
   },
   {
    "duration": 40,
    "start_time": "2023-11-05T22:42:47.317Z"
   },
   {
    "duration": 371,
    "start_time": "2023-11-05T22:42:47.359Z"
   },
   {
    "duration": 37,
    "start_time": "2023-11-05T22:42:47.732Z"
   },
   {
    "duration": 7,
    "start_time": "2023-11-05T22:42:47.770Z"
   },
   {
    "duration": 3,
    "start_time": "2023-11-05T22:42:47.780Z"
   },
   {
    "duration": 270,
    "start_time": "2023-11-05T22:42:47.785Z"
   },
   {
    "duration": 212,
    "start_time": "2023-11-05T22:42:48.057Z"
   },
   {
    "duration": 116,
    "start_time": "2023-11-05T22:42:48.271Z"
   },
   {
    "duration": 207,
    "start_time": "2023-11-05T22:42:48.389Z"
   },
   {
    "duration": 324,
    "start_time": "2023-11-05T22:42:48.598Z"
   },
   {
    "duration": 25,
    "start_time": "2023-11-05T22:42:48.924Z"
   },
   {
    "duration": 148,
    "start_time": "2023-11-05T22:42:48.951Z"
   },
   {
    "duration": 297,
    "start_time": "2023-11-05T22:42:49.101Z"
   },
   {
    "duration": 132,
    "start_time": "2023-11-05T22:42:49.400Z"
   },
   {
    "duration": 176,
    "start_time": "2023-11-05T22:42:49.534Z"
   },
   {
    "duration": 133,
    "start_time": "2023-11-05T22:42:49.712Z"
   },
   {
    "duration": 11,
    "start_time": "2023-11-05T22:42:49.848Z"
   },
   {
    "duration": 167,
    "start_time": "2023-11-05T22:42:49.861Z"
   },
   {
    "duration": 197,
    "start_time": "2023-11-05T22:42:50.030Z"
   },
   {
    "duration": 144,
    "start_time": "2023-11-05T22:42:50.229Z"
   },
   {
    "duration": 134,
    "start_time": "2023-11-05T22:42:50.375Z"
   },
   {
    "duration": 7,
    "start_time": "2023-11-05T22:42:50.511Z"
   },
   {
    "duration": 206,
    "start_time": "2023-11-05T22:42:50.521Z"
   },
   {
    "duration": 126,
    "start_time": "2023-11-05T22:42:50.728Z"
   },
   {
    "duration": 159,
    "start_time": "2023-11-05T22:42:50.856Z"
   },
   {
    "duration": 4,
    "start_time": "2023-11-05T22:42:51.017Z"
   },
   {
    "duration": 190,
    "start_time": "2023-11-05T22:42:51.023Z"
   },
   {
    "duration": 5,
    "start_time": "2023-11-05T22:42:51.215Z"
   },
   {
    "duration": 134,
    "start_time": "2023-11-05T22:42:51.222Z"
   },
   {
    "duration": 4,
    "start_time": "2023-11-05T22:42:51.358Z"
   },
   {
    "duration": 22,
    "start_time": "2023-11-05T22:42:51.363Z"
   },
   {
    "duration": 210,
    "start_time": "2023-11-05T22:42:51.387Z"
   },
   {
    "duration": 10,
    "start_time": "2023-11-05T22:42:51.598Z"
   },
   {
    "duration": 182,
    "start_time": "2023-11-05T22:42:51.610Z"
   },
   {
    "duration": 150,
    "start_time": "2023-11-05T22:42:51.794Z"
   },
   {
    "duration": 237,
    "start_time": "2023-11-05T22:42:51.945Z"
   },
   {
    "duration": 161,
    "start_time": "2023-11-05T22:42:52.184Z"
   },
   {
    "duration": 141,
    "start_time": "2023-11-05T22:42:52.347Z"
   },
   {
    "duration": 318,
    "start_time": "2023-11-05T22:42:52.490Z"
   },
   {
    "duration": 21,
    "start_time": "2023-11-05T22:42:52.810Z"
   },
   {
    "duration": 14,
    "start_time": "2023-11-05T22:42:52.833Z"
   },
   {
    "duration": 9,
    "start_time": "2023-11-05T22:42:52.849Z"
   },
   {
    "duration": 23,
    "start_time": "2023-11-05T22:42:52.859Z"
   },
   {
    "duration": 17,
    "start_time": "2023-11-05T22:42:52.884Z"
   },
   {
    "duration": 151,
    "start_time": "2023-11-05T22:42:52.902Z"
   },
   {
    "duration": 4,
    "start_time": "2023-11-05T22:43:12.148Z"
   },
   {
    "duration": 5,
    "start_time": "2023-11-05T22:43:16.049Z"
   },
   {
    "duration": 3,
    "start_time": "2023-11-05T22:43:19.791Z"
   },
   {
    "duration": 5,
    "start_time": "2023-11-05T22:43:22.757Z"
   },
   {
    "duration": 4,
    "start_time": "2023-11-05T22:43:25.387Z"
   },
   {
    "duration": 4,
    "start_time": "2023-11-05T22:43:27.278Z"
   },
   {
    "duration": 4,
    "start_time": "2023-11-05T22:43:30.503Z"
   },
   {
    "duration": 4,
    "start_time": "2023-11-05T22:43:33.391Z"
   },
   {
    "duration": 4,
    "start_time": "2023-11-05T22:43:35.093Z"
   },
   {
    "duration": 5,
    "start_time": "2023-11-05T22:43:37.718Z"
   },
   {
    "duration": 4,
    "start_time": "2023-11-05T22:43:39.843Z"
   },
   {
    "duration": 5,
    "start_time": "2023-11-05T22:43:43.412Z"
   },
   {
    "duration": 6,
    "start_time": "2023-11-05T22:43:45.229Z"
   },
   {
    "duration": 4,
    "start_time": "2023-11-05T22:43:46.954Z"
   },
   {
    "duration": 4,
    "start_time": "2023-11-05T22:43:48.802Z"
   },
   {
    "duration": 4,
    "start_time": "2023-11-05T22:43:51.086Z"
   },
   {
    "duration": 3,
    "start_time": "2023-11-05T22:43:53.400Z"
   },
   {
    "duration": 3,
    "start_time": "2023-11-05T22:44:04.017Z"
   },
   {
    "duration": 3,
    "start_time": "2023-11-05T22:44:36.950Z"
   },
   {
    "duration": 133,
    "start_time": "2023-11-05T22:44:37.039Z"
   },
   {
    "duration": 16,
    "start_time": "2023-11-05T22:44:37.174Z"
   },
   {
    "duration": 29,
    "start_time": "2023-11-05T22:44:37.201Z"
   },
   {
    "duration": 1927,
    "start_time": "2023-11-05T22:44:37.285Z"
   },
   {
    "duration": 12,
    "start_time": "2023-11-05T22:44:39.214Z"
   },
   {
    "duration": 17,
    "start_time": "2023-11-05T22:44:39.228Z"
   },
   {
    "duration": 14,
    "start_time": "2023-11-05T22:44:39.247Z"
   },
   {
    "duration": 8,
    "start_time": "2023-11-05T22:44:39.263Z"
   },
   {
    "duration": 12,
    "start_time": "2023-11-05T22:44:39.272Z"
   },
   {
    "duration": 5,
    "start_time": "2023-11-05T22:44:39.286Z"
   },
   {
    "duration": 18,
    "start_time": "2023-11-05T22:44:39.293Z"
   },
   {
    "duration": 33,
    "start_time": "2023-11-05T22:44:39.312Z"
   },
   {
    "duration": 29,
    "start_time": "2023-11-05T22:44:39.348Z"
   },
   {
    "duration": 7,
    "start_time": "2023-11-05T22:44:39.379Z"
   },
   {
    "duration": 21,
    "start_time": "2023-11-05T22:44:39.387Z"
   },
   {
    "duration": 8,
    "start_time": "2023-11-05T22:44:39.792Z"
   },
   {
    "duration": 9,
    "start_time": "2023-11-05T22:44:39.959Z"
   },
   {
    "duration": 20,
    "start_time": "2023-11-05T22:44:40.124Z"
   },
   {
    "duration": 353,
    "start_time": "2023-11-05T22:44:40.291Z"
   },
   {
    "duration": 26,
    "start_time": "2023-11-05T22:44:40.645Z"
   },
   {
    "duration": 7,
    "start_time": "2023-11-05T22:44:40.672Z"
   },
   {
    "duration": 3,
    "start_time": "2023-11-05T22:44:41.049Z"
   },
   {
    "duration": 258,
    "start_time": "2023-11-05T22:44:41.128Z"
   },
   {
    "duration": 226,
    "start_time": "2023-11-05T22:44:41.389Z"
   },
   {
    "duration": 32,
    "start_time": "2023-11-05T22:44:41.618Z"
   },
   {
    "duration": 294,
    "start_time": "2023-11-05T22:44:41.652Z"
   },
   {
    "duration": 290,
    "start_time": "2023-11-05T22:44:41.948Z"
   },
   {
    "duration": 11,
    "start_time": "2023-11-05T22:44:42.244Z"
   },
   {
    "duration": 141,
    "start_time": "2023-11-05T22:44:42.304Z"
   },
   {
    "duration": 280,
    "start_time": "2023-11-05T22:44:42.482Z"
   },
   {
    "duration": 134,
    "start_time": "2023-11-05T22:44:42.764Z"
   },
   {
    "duration": 150,
    "start_time": "2023-11-05T22:44:42.900Z"
   },
   {
    "duration": 107,
    "start_time": "2023-11-05T22:44:46.428Z"
   },
   {
    "duration": 9,
    "start_time": "2023-11-05T22:44:46.561Z"
   },
   {
    "duration": 171,
    "start_time": "2023-11-05T22:44:48.245Z"
   },
   {
    "duration": 137,
    "start_time": "2023-11-05T22:44:57.651Z"
   },
   {
    "duration": 3,
    "start_time": "2023-11-05T22:45:03.655Z"
   },
   {
    "duration": 154,
    "start_time": "2023-11-05T22:45:03.738Z"
   },
   {
    "duration": 15,
    "start_time": "2023-11-05T22:45:03.894Z"
   },
   {
    "duration": 38,
    "start_time": "2023-11-05T22:45:03.911Z"
   },
   {
    "duration": 2028,
    "start_time": "2023-11-05T22:45:04.481Z"
   },
   {
    "duration": 10,
    "start_time": "2023-11-05T22:45:06.511Z"
   },
   {
    "duration": 24,
    "start_time": "2023-11-05T22:45:06.522Z"
   },
   {
    "duration": 12,
    "start_time": "2023-11-05T22:45:06.548Z"
   },
   {
    "duration": 7,
    "start_time": "2023-11-05T22:45:06.562Z"
   },
   {
    "duration": 26,
    "start_time": "2023-11-05T22:45:06.571Z"
   },
   {
    "duration": 6,
    "start_time": "2023-11-05T22:45:06.627Z"
   },
   {
    "duration": 10,
    "start_time": "2023-11-05T22:45:06.979Z"
   },
   {
    "duration": 7,
    "start_time": "2023-11-05T22:45:07.158Z"
   },
   {
    "duration": 21,
    "start_time": "2023-11-05T22:45:07.685Z"
   },
   {
    "duration": 7,
    "start_time": "2023-11-05T22:45:09.254Z"
   },
   {
    "duration": 22,
    "start_time": "2023-11-05T22:45:09.722Z"
   },
   {
    "duration": 8,
    "start_time": "2023-11-05T22:45:12.177Z"
   },
   {
    "duration": 8,
    "start_time": "2023-11-05T22:45:17.125Z"
   },
   {
    "duration": 18,
    "start_time": "2023-11-05T22:45:17.284Z"
   },
   {
    "duration": 487,
    "start_time": "2023-11-05T22:45:17.449Z"
   },
   {
    "duration": 25,
    "start_time": "2023-11-05T22:45:17.943Z"
   },
   {
    "duration": 17,
    "start_time": "2023-11-05T22:45:17.969Z"
   },
   {
    "duration": 5,
    "start_time": "2023-11-05T22:45:44.414Z"
   },
   {
    "duration": 263,
    "start_time": "2023-11-05T22:45:50.741Z"
   },
   {
    "duration": 190,
    "start_time": "2023-11-05T22:46:02.814Z"
   },
   {
    "duration": 15,
    "start_time": "2023-11-05T22:46:20.867Z"
   },
   {
    "duration": 199,
    "start_time": "2023-11-05T22:46:24.937Z"
   },
   {
    "duration": 411,
    "start_time": "2023-11-05T22:46:35.578Z"
   },
   {
    "duration": 12,
    "start_time": "2023-11-05T22:46:42.956Z"
   },
   {
    "duration": 126,
    "start_time": "2023-11-05T22:47:15.481Z"
   },
   {
    "duration": 282,
    "start_time": "2023-11-05T22:47:19.475Z"
   },
   {
    "duration": 115,
    "start_time": "2023-11-05T22:47:30.207Z"
   },
   {
    "duration": 137,
    "start_time": "2023-11-05T22:47:33.852Z"
   },
   {
    "duration": 106,
    "start_time": "2023-11-05T22:47:42.803Z"
   },
   {
    "duration": 8,
    "start_time": "2023-11-05T22:48:02.158Z"
   },
   {
    "duration": 140,
    "start_time": "2023-11-05T22:48:06.059Z"
   },
   {
    "duration": 3,
    "start_time": "2023-11-05T22:50:41.694Z"
   },
   {
    "duration": 133,
    "start_time": "2023-11-05T22:50:41.776Z"
   },
   {
    "duration": 14,
    "start_time": "2023-11-05T22:50:41.911Z"
   },
   {
    "duration": 26,
    "start_time": "2023-11-05T22:50:41.942Z"
   },
   {
    "duration": 2049,
    "start_time": "2023-11-05T22:50:42.025Z"
   },
   {
    "duration": 10,
    "start_time": "2023-11-05T22:50:44.076Z"
   },
   {
    "duration": 83,
    "start_time": "2023-11-05T22:50:44.088Z"
   },
   {
    "duration": 24,
    "start_time": "2023-11-05T22:50:44.174Z"
   },
   {
    "duration": 8,
    "start_time": "2023-11-05T22:50:44.200Z"
   },
   {
    "duration": 13,
    "start_time": "2023-11-05T22:50:44.210Z"
   },
   {
    "duration": 6,
    "start_time": "2023-11-05T22:50:44.225Z"
   },
   {
    "duration": 10,
    "start_time": "2023-11-05T22:50:44.232Z"
   },
   {
    "duration": 10,
    "start_time": "2023-11-05T22:50:44.244Z"
   },
   {
    "duration": 31,
    "start_time": "2023-11-05T22:50:44.256Z"
   },
   {
    "duration": 7,
    "start_time": "2023-11-05T22:50:44.289Z"
   },
   {
    "duration": 22,
    "start_time": "2023-11-05T22:50:44.297Z"
   },
   {
    "duration": 9,
    "start_time": "2023-11-05T22:50:44.544Z"
   },
   {
    "duration": 8,
    "start_time": "2023-11-05T22:50:44.704Z"
   },
   {
    "duration": 17,
    "start_time": "2023-11-05T22:50:44.868Z"
   },
   {
    "duration": 344,
    "start_time": "2023-11-05T22:50:45.037Z"
   },
   {
    "duration": 27,
    "start_time": "2023-11-05T22:50:45.383Z"
   },
   {
    "duration": 7,
    "start_time": "2023-11-05T22:50:45.411Z"
   },
   {
    "duration": 4,
    "start_time": "2023-11-05T22:50:45.816Z"
   },
   {
    "duration": 378,
    "start_time": "2023-11-05T22:50:45.890Z"
   },
   {
    "duration": 210,
    "start_time": "2023-11-05T22:50:46.270Z"
   },
   {
    "duration": 14,
    "start_time": "2023-11-05T22:50:46.481Z"
   },
   {
    "duration": 250,
    "start_time": "2023-11-05T22:50:46.497Z"
   },
   {
    "duration": 286,
    "start_time": "2023-11-05T22:50:46.749Z"
   },
   {
    "duration": 12,
    "start_time": "2023-11-05T22:50:47.351Z"
   },
   {
    "duration": 130,
    "start_time": "2023-11-05T22:50:50.027Z"
   },
   {
    "duration": 272,
    "start_time": "2023-11-05T22:50:50.332Z"
   },
   {
    "duration": 124,
    "start_time": "2023-11-05T22:50:50.626Z"
   },
   {
    "duration": 270,
    "start_time": "2023-11-05T22:50:52.319Z"
   },
   {
    "duration": 114,
    "start_time": "2023-11-05T22:50:55.832Z"
   },
   {
    "duration": 8,
    "start_time": "2023-11-05T22:50:58.343Z"
   },
   {
    "duration": 76,
    "start_time": "2023-11-05T22:51:00.486Z"
   },
   {
    "duration": 14,
    "start_time": "2023-11-05T22:51:36.290Z"
   },
   {
    "duration": 150,
    "start_time": "2023-11-05T22:52:13.105Z"
   },
   {
    "duration": 728,
    "start_time": "2023-11-05T22:53:03.232Z"
   },
   {
    "duration": 133,
    "start_time": "2023-11-05T22:53:03.962Z"
   },
   {
    "duration": 15,
    "start_time": "2023-11-05T22:53:04.096Z"
   },
   {
    "duration": 34,
    "start_time": "2023-11-05T22:53:04.113Z"
   },
   {
    "duration": 1978,
    "start_time": "2023-11-05T22:53:04.149Z"
   },
   {
    "duration": 10,
    "start_time": "2023-11-05T22:53:06.129Z"
   },
   {
    "duration": 15,
    "start_time": "2023-11-05T22:53:06.141Z"
   },
   {
    "duration": 14,
    "start_time": "2023-11-05T22:53:06.157Z"
   },
   {
    "duration": 15,
    "start_time": "2023-11-05T22:53:06.172Z"
   },
   {
    "duration": 15,
    "start_time": "2023-11-05T22:53:06.190Z"
   },
   {
    "duration": 5,
    "start_time": "2023-11-05T22:53:06.207Z"
   },
   {
    "duration": 15,
    "start_time": "2023-11-05T22:53:06.214Z"
   },
   {
    "duration": 6,
    "start_time": "2023-11-05T22:53:06.245Z"
   },
   {
    "duration": 35,
    "start_time": "2023-11-05T22:53:06.252Z"
   },
   {
    "duration": 9,
    "start_time": "2023-11-05T22:53:06.288Z"
   },
   {
    "duration": 46,
    "start_time": "2023-11-05T22:53:06.299Z"
   },
   {
    "duration": 10,
    "start_time": "2023-11-05T22:53:06.347Z"
   },
   {
    "duration": 10,
    "start_time": "2023-11-05T22:53:06.359Z"
   },
   {
    "duration": 21,
    "start_time": "2023-11-05T22:53:06.371Z"
   },
   {
    "duration": 390,
    "start_time": "2023-11-05T22:53:06.394Z"
   },
   {
    "duration": 25,
    "start_time": "2023-11-05T22:53:06.785Z"
   },
   {
    "duration": 6,
    "start_time": "2023-11-05T22:53:06.812Z"
   },
   {
    "duration": 25,
    "start_time": "2023-11-05T22:53:06.819Z"
   },
   {
    "duration": 283,
    "start_time": "2023-11-05T22:53:06.846Z"
   },
   {
    "duration": 214,
    "start_time": "2023-11-05T22:53:07.131Z"
   },
   {
    "duration": 115,
    "start_time": "2023-11-05T22:53:07.347Z"
   },
   {
    "duration": 192,
    "start_time": "2023-11-05T22:53:07.464Z"
   },
   {
    "duration": 300,
    "start_time": "2023-11-05T22:53:07.660Z"
   },
   {
    "duration": 11,
    "start_time": "2023-11-05T22:53:07.962Z"
   },
   {
    "duration": 150,
    "start_time": "2023-11-05T22:53:07.975Z"
   },
   {
    "duration": 302,
    "start_time": "2023-11-05T22:53:08.127Z"
   },
   {
    "duration": 137,
    "start_time": "2023-11-05T22:53:08.431Z"
   },
   {
    "duration": 143,
    "start_time": "2023-11-05T22:53:08.569Z"
   },
   {
    "duration": 120,
    "start_time": "2023-11-05T22:53:08.713Z"
   },
   {
    "duration": 8,
    "start_time": "2023-11-05T22:53:08.844Z"
   },
   {
    "duration": 227,
    "start_time": "2023-11-05T22:53:08.854Z"
   },
   {
    "duration": 137,
    "start_time": "2023-11-05T22:53:09.083Z"
   },
   {
    "duration": 161,
    "start_time": "2023-11-05T22:53:09.222Z"
   },
   {
    "duration": 127,
    "start_time": "2023-11-05T22:53:09.384Z"
   },
   {
    "duration": 7,
    "start_time": "2023-11-05T22:53:09.512Z"
   },
   {
    "duration": 188,
    "start_time": "2023-11-05T22:53:09.521Z"
   },
   {
    "duration": 120,
    "start_time": "2023-11-05T22:53:09.710Z"
   },
   {
    "duration": 182,
    "start_time": "2023-11-05T22:53:09.832Z"
   },
   {
    "duration": 5,
    "start_time": "2023-11-05T22:53:10.016Z"
   },
   {
    "duration": 192,
    "start_time": "2023-11-05T22:53:10.022Z"
   },
   {
    "duration": 5,
    "start_time": "2023-11-05T22:53:10.215Z"
   },
   {
    "duration": 127,
    "start_time": "2023-11-05T22:53:10.222Z"
   },
   {
    "duration": 4,
    "start_time": "2023-11-05T22:53:10.351Z"
   },
   {
    "duration": 14,
    "start_time": "2023-11-05T22:53:10.357Z"
   },
   {
    "duration": 217,
    "start_time": "2023-11-05T22:53:10.373Z"
   },
   {
    "duration": 10,
    "start_time": "2023-11-05T22:53:10.592Z"
   },
   {
    "duration": 192,
    "start_time": "2023-11-05T22:53:10.603Z"
   },
   {
    "duration": 241,
    "start_time": "2023-11-05T22:53:10.797Z"
   },
   {
    "duration": 189,
    "start_time": "2023-11-05T22:53:11.043Z"
   },
   {
    "duration": 161,
    "start_time": "2023-11-05T22:53:11.234Z"
   },
   {
    "duration": 149,
    "start_time": "2023-11-05T22:53:11.396Z"
   },
   {
    "duration": 299,
    "start_time": "2023-11-05T22:53:11.547Z"
   },
   {
    "duration": 22,
    "start_time": "2023-11-05T22:53:11.847Z"
   },
   {
    "duration": 3,
    "start_time": "2023-11-05T22:53:11.871Z"
   },
   {
    "duration": 11,
    "start_time": "2023-11-05T22:53:11.876Z"
   },
   {
    "duration": 8,
    "start_time": "2023-11-05T22:53:11.888Z"
   },
   {
    "duration": 28,
    "start_time": "2023-11-05T22:53:11.897Z"
   },
   {
    "duration": 155,
    "start_time": "2023-11-05T22:53:11.944Z"
   },
   {
    "duration": 115,
    "start_time": "2023-11-05T22:53:31.391Z"
   },
   {
    "duration": 118,
    "start_time": "2023-11-05T22:53:33.899Z"
   },
   {
    "duration": 107,
    "start_time": "2023-11-05T22:53:50.150Z"
   },
   {
    "duration": 7,
    "start_time": "2023-11-05T22:53:55.474Z"
   },
   {
    "duration": 163,
    "start_time": "2023-11-05T22:53:59.716Z"
   },
   {
    "duration": 224,
    "start_time": "2023-11-05T22:54:06.778Z"
   },
   {
    "duration": 107,
    "start_time": "2023-11-05T22:54:29.756Z"
   },
   {
    "duration": 168,
    "start_time": "2023-11-05T22:54:32.808Z"
   },
   {
    "duration": 5,
    "start_time": "2023-11-05T22:54:52.825Z"
   },
   {
    "duration": 644,
    "start_time": "2023-11-05T22:55:12.754Z"
   },
   {
    "duration": 136,
    "start_time": "2023-11-05T22:55:13.400Z"
   },
   {
    "duration": 17,
    "start_time": "2023-11-05T22:55:13.538Z"
   },
   {
    "duration": 30,
    "start_time": "2023-11-05T22:55:13.558Z"
   },
   {
    "duration": 2110,
    "start_time": "2023-11-05T22:55:13.590Z"
   },
   {
    "duration": 10,
    "start_time": "2023-11-05T22:55:15.701Z"
   },
   {
    "duration": 20,
    "start_time": "2023-11-05T22:55:15.712Z"
   },
   {
    "duration": 29,
    "start_time": "2023-11-05T22:55:15.734Z"
   },
   {
    "duration": 12,
    "start_time": "2023-11-05T22:55:15.764Z"
   },
   {
    "duration": 19,
    "start_time": "2023-11-05T22:55:15.780Z"
   },
   {
    "duration": 16,
    "start_time": "2023-11-05T22:55:15.802Z"
   },
   {
    "duration": 28,
    "start_time": "2023-11-05T22:55:15.820Z"
   },
   {
    "duration": 42,
    "start_time": "2023-11-05T22:55:15.851Z"
   },
   {
    "duration": 52,
    "start_time": "2023-11-05T22:55:15.896Z"
   },
   {
    "duration": 8,
    "start_time": "2023-11-05T22:55:15.950Z"
   },
   {
    "duration": 53,
    "start_time": "2023-11-05T22:55:15.959Z"
   },
   {
    "duration": 7,
    "start_time": "2023-11-05T22:55:16.014Z"
   },
   {
    "duration": 10,
    "start_time": "2023-11-05T22:55:16.023Z"
   },
   {
    "duration": 25,
    "start_time": "2023-11-05T22:55:16.035Z"
   },
   {
    "duration": 366,
    "start_time": "2023-11-05T22:55:16.061Z"
   },
   {
    "duration": 34,
    "start_time": "2023-11-05T22:55:16.429Z"
   },
   {
    "duration": 7,
    "start_time": "2023-11-05T22:55:16.464Z"
   },
   {
    "duration": 4,
    "start_time": "2023-11-05T22:55:16.472Z"
   },
   {
    "duration": 282,
    "start_time": "2023-11-05T22:55:16.477Z"
   },
   {
    "duration": 215,
    "start_time": "2023-11-05T22:55:16.760Z"
   },
   {
    "duration": 118,
    "start_time": "2023-11-05T22:55:16.976Z"
   },
   {
    "duration": 193,
    "start_time": "2023-11-05T22:55:17.095Z"
   },
   {
    "duration": 307,
    "start_time": "2023-11-05T22:55:17.292Z"
   },
   {
    "duration": 12,
    "start_time": "2023-11-05T22:55:17.601Z"
   },
   {
    "duration": 151,
    "start_time": "2023-11-05T22:55:17.615Z"
   },
   {
    "duration": 305,
    "start_time": "2023-11-05T22:55:17.768Z"
   },
   {
    "duration": 133,
    "start_time": "2023-11-05T22:55:18.075Z"
   },
   {
    "duration": 150,
    "start_time": "2023-11-05T22:55:18.209Z"
   },
   {
    "duration": 124,
    "start_time": "2023-11-05T22:55:18.361Z"
   },
   {
    "duration": 8,
    "start_time": "2023-11-05T22:55:18.487Z"
   },
   {
    "duration": 241,
    "start_time": "2023-11-05T22:55:18.496Z"
   },
   {
    "duration": 126,
    "start_time": "2023-11-05T22:55:18.743Z"
   },
   {
    "duration": 154,
    "start_time": "2023-11-05T22:55:18.871Z"
   },
   {
    "duration": 135,
    "start_time": "2023-11-05T22:55:19.027Z"
   },
   {
    "duration": 7,
    "start_time": "2023-11-05T22:55:19.164Z"
   },
   {
    "duration": 179,
    "start_time": "2023-11-05T22:55:19.173Z"
   },
   {
    "duration": 131,
    "start_time": "2023-11-05T22:55:19.354Z"
   },
   {
    "duration": 186,
    "start_time": "2023-11-05T22:55:19.487Z"
   },
   {
    "duration": 3,
    "start_time": "2023-11-05T22:55:19.674Z"
   },
   {
    "duration": 190,
    "start_time": "2023-11-05T22:55:19.679Z"
   },
   {
    "duration": 5,
    "start_time": "2023-11-05T22:55:19.870Z"
   },
   {
    "duration": 139,
    "start_time": "2023-11-05T22:55:19.876Z"
   },
   {
    "duration": 4,
    "start_time": "2023-11-05T22:55:20.016Z"
   },
   {
    "duration": 30,
    "start_time": "2023-11-05T22:55:20.021Z"
   },
   {
    "duration": 232,
    "start_time": "2023-11-05T22:55:20.052Z"
   },
   {
    "duration": 9,
    "start_time": "2023-11-05T22:55:20.286Z"
   },
   {
    "duration": 256,
    "start_time": "2023-11-05T22:55:20.297Z"
   },
   {
    "duration": 259,
    "start_time": "2023-11-05T22:55:20.555Z"
   },
   {
    "duration": 178,
    "start_time": "2023-11-05T22:55:20.815Z"
   },
   {
    "duration": 181,
    "start_time": "2023-11-05T22:55:20.995Z"
   },
   {
    "duration": 155,
    "start_time": "2023-11-05T22:55:21.178Z"
   },
   {
    "duration": 311,
    "start_time": "2023-11-05T22:55:21.335Z"
   },
   {
    "duration": 21,
    "start_time": "2023-11-05T22:55:21.648Z"
   },
   {
    "duration": 3,
    "start_time": "2023-11-05T22:55:21.671Z"
   },
   {
    "duration": 20,
    "start_time": "2023-11-05T22:55:21.675Z"
   },
   {
    "duration": 13,
    "start_time": "2023-11-05T22:55:21.697Z"
   },
   {
    "duration": 38,
    "start_time": "2023-11-05T22:55:21.712Z"
   },
   {
    "duration": 146,
    "start_time": "2023-11-05T22:55:21.751Z"
   },
   {
    "duration": 654,
    "start_time": "2023-11-05T22:56:01.192Z"
   },
   {
    "duration": 146,
    "start_time": "2023-11-05T22:56:01.848Z"
   },
   {
    "duration": 18,
    "start_time": "2023-11-05T22:56:01.995Z"
   },
   {
    "duration": 53,
    "start_time": "2023-11-05T22:56:02.015Z"
   },
   {
    "duration": 2057,
    "start_time": "2023-11-05T22:56:02.070Z"
   },
   {
    "duration": 10,
    "start_time": "2023-11-05T22:56:04.129Z"
   },
   {
    "duration": 12,
    "start_time": "2023-11-05T22:56:04.140Z"
   },
   {
    "duration": 24,
    "start_time": "2023-11-05T22:56:04.154Z"
   },
   {
    "duration": 12,
    "start_time": "2023-11-05T22:56:04.179Z"
   },
   {
    "duration": 10,
    "start_time": "2023-11-05T22:56:04.194Z"
   },
   {
    "duration": 6,
    "start_time": "2023-11-05T22:56:04.205Z"
   },
   {
    "duration": 27,
    "start_time": "2023-11-05T22:56:04.212Z"
   },
   {
    "duration": 8,
    "start_time": "2023-11-05T22:56:04.240Z"
   },
   {
    "duration": 42,
    "start_time": "2023-11-05T22:56:04.250Z"
   },
   {
    "duration": 8,
    "start_time": "2023-11-05T22:56:04.294Z"
   },
   {
    "duration": 44,
    "start_time": "2023-11-05T22:56:04.305Z"
   },
   {
    "duration": 7,
    "start_time": "2023-11-05T22:56:04.352Z"
   },
   {
    "duration": 19,
    "start_time": "2023-11-05T22:56:04.360Z"
   },
   {
    "duration": 26,
    "start_time": "2023-11-05T22:56:04.380Z"
   },
   {
    "duration": 424,
    "start_time": "2023-11-05T22:56:04.408Z"
   },
   {
    "duration": 33,
    "start_time": "2023-11-05T22:56:04.834Z"
   },
   {
    "duration": 6,
    "start_time": "2023-11-05T22:56:04.869Z"
   },
   {
    "duration": 11,
    "start_time": "2023-11-05T22:56:04.877Z"
   },
   {
    "duration": 284,
    "start_time": "2023-11-05T22:56:04.890Z"
   },
   {
    "duration": 206,
    "start_time": "2023-11-05T22:56:05.177Z"
   },
   {
    "duration": 108,
    "start_time": "2023-11-05T22:56:05.385Z"
   },
   {
    "duration": 197,
    "start_time": "2023-11-05T22:56:05.495Z"
   },
   {
    "duration": 291,
    "start_time": "2023-11-05T22:56:05.696Z"
   },
   {
    "duration": 12,
    "start_time": "2023-11-05T22:56:05.988Z"
   },
   {
    "duration": 148,
    "start_time": "2023-11-05T22:56:06.001Z"
   },
   {
    "duration": 306,
    "start_time": "2023-11-05T22:56:06.151Z"
   },
   {
    "duration": 139,
    "start_time": "2023-11-05T22:56:06.458Z"
   },
   {
    "duration": 148,
    "start_time": "2023-11-05T22:56:06.598Z"
   },
   {
    "duration": 122,
    "start_time": "2023-11-05T22:56:06.748Z"
   },
   {
    "duration": 8,
    "start_time": "2023-11-05T22:56:06.871Z"
   },
   {
    "duration": 260,
    "start_time": "2023-11-05T22:56:06.881Z"
   },
   {
    "duration": 127,
    "start_time": "2023-11-05T22:56:07.142Z"
   },
   {
    "duration": 149,
    "start_time": "2023-11-05T22:56:07.271Z"
   },
   {
    "duration": 130,
    "start_time": "2023-11-05T22:56:07.422Z"
   },
   {
    "duration": 7,
    "start_time": "2023-11-05T22:56:07.554Z"
   },
   {
    "duration": 178,
    "start_time": "2023-11-05T22:56:07.562Z"
   },
   {
    "duration": 114,
    "start_time": "2023-11-05T22:56:07.743Z"
   },
   {
    "duration": 167,
    "start_time": "2023-11-05T22:56:07.858Z"
   },
   {
    "duration": 4,
    "start_time": "2023-11-05T22:56:08.027Z"
   },
   {
    "duration": 172,
    "start_time": "2023-11-05T22:56:08.032Z"
   },
   {
    "duration": 5,
    "start_time": "2023-11-05T22:56:08.206Z"
   },
   {
    "duration": 144,
    "start_time": "2023-11-05T22:56:08.213Z"
   },
   {
    "duration": 4,
    "start_time": "2023-11-05T22:56:08.359Z"
   },
   {
    "duration": 29,
    "start_time": "2023-11-05T22:56:08.364Z"
   },
   {
    "duration": 180,
    "start_time": "2023-11-05T22:56:08.395Z"
   },
   {
    "duration": 9,
    "start_time": "2023-11-05T22:56:08.576Z"
   },
   {
    "duration": 186,
    "start_time": "2023-11-05T22:56:08.587Z"
   },
   {
    "duration": 256,
    "start_time": "2023-11-05T22:56:08.775Z"
   },
   {
    "duration": 185,
    "start_time": "2023-11-05T22:56:09.033Z"
   },
   {
    "duration": 184,
    "start_time": "2023-11-05T22:56:09.220Z"
   },
   {
    "duration": 188,
    "start_time": "2023-11-05T22:56:09.406Z"
   },
   {
    "duration": 326,
    "start_time": "2023-11-05T22:56:09.595Z"
   },
   {
    "duration": 35,
    "start_time": "2023-11-05T22:56:09.923Z"
   },
   {
    "duration": 4,
    "start_time": "2023-11-05T22:56:09.959Z"
   },
   {
    "duration": 12,
    "start_time": "2023-11-05T22:56:09.964Z"
   },
   {
    "duration": 10,
    "start_time": "2023-11-05T22:56:09.977Z"
   },
   {
    "duration": 20,
    "start_time": "2023-11-05T22:56:09.988Z"
   },
   {
    "duration": 165,
    "start_time": "2023-11-05T22:56:10.010Z"
   },
   {
    "duration": 76,
    "start_time": "2023-11-05T22:56:33.935Z"
   },
   {
    "duration": 5,
    "start_time": "2023-11-05T22:56:38.565Z"
   },
   {
    "duration": 4,
    "start_time": "2023-11-05T22:57:03.013Z"
   },
   {
    "duration": 3,
    "start_time": "2023-11-05T22:57:24.141Z"
   },
   {
    "duration": 150,
    "start_time": "2023-11-05T22:57:25.865Z"
   },
   {
    "duration": 5,
    "start_time": "2023-11-05T22:57:28.484Z"
   },
   {
    "duration": 123,
    "start_time": "2023-11-05T22:57:29.798Z"
   },
   {
    "duration": 3,
    "start_time": "2023-11-05T22:57:31.638Z"
   },
   {
    "duration": 3,
    "start_time": "2023-11-05T22:57:32.775Z"
   },
   {
    "duration": 78,
    "start_time": "2023-11-05T22:58:16.228Z"
   },
   {
    "duration": 6,
    "start_time": "2023-11-05T22:58:36.281Z"
   },
   {
    "duration": 4,
    "start_time": "2023-11-05T22:58:56.266Z"
   },
   {
    "duration": 8,
    "start_time": "2023-11-05T22:59:02.134Z"
   },
   {
    "duration": 7,
    "start_time": "2023-11-05T22:59:35.082Z"
   },
   {
    "duration": 181,
    "start_time": "2023-11-05T22:59:46.609Z"
   },
   {
    "duration": 186,
    "start_time": "2023-11-05T22:59:52.291Z"
   },
   {
    "duration": 10,
    "start_time": "2023-11-05T22:59:56.535Z"
   },
   {
    "duration": 254,
    "start_time": "2023-11-05T22:59:58.379Z"
   },
   {
    "duration": 176,
    "start_time": "2023-11-05T23:00:01.962Z"
   },
   {
    "duration": 165,
    "start_time": "2023-11-05T23:00:02.732Z"
   },
   {
    "duration": 204,
    "start_time": "2023-11-05T23:00:04.392Z"
   },
   {
    "duration": 160,
    "start_time": "2023-11-05T23:00:05.436Z"
   },
   {
    "duration": 361,
    "start_time": "2023-11-05T23:00:20.113Z"
   },
   {
    "duration": 9,
    "start_time": "2023-11-05T23:00:24.085Z"
   },
   {
    "duration": 181,
    "start_time": "2023-11-05T23:01:02.801Z"
   },
   {
    "duration": 223,
    "start_time": "2023-11-05T23:01:04.414Z"
   },
   {
    "duration": 179,
    "start_time": "2023-11-05T23:01:06.484Z"
   },
   {
    "duration": 180,
    "start_time": "2023-11-05T23:01:08.103Z"
   },
   {
    "duration": 161,
    "start_time": "2023-11-05T23:01:10.792Z"
   },
   {
    "duration": 166,
    "start_time": "2023-11-05T23:02:35.859Z"
   },
   {
    "duration": 250,
    "start_time": "2023-11-05T23:02:42.901Z"
   },
   {
    "duration": 282,
    "start_time": "2023-11-05T23:07:35.137Z"
   },
   {
    "duration": 29,
    "start_time": "2023-11-05T23:08:23.813Z"
   },
   {
    "duration": 4,
    "start_time": "2023-11-05T23:08:25.592Z"
   },
   {
    "duration": 8,
    "start_time": "2023-11-05T23:08:25.789Z"
   },
   {
    "duration": 12,
    "start_time": "2023-11-05T23:08:27.368Z"
   },
   {
    "duration": 20,
    "start_time": "2023-11-05T23:08:28.078Z"
   },
   {
    "duration": 156,
    "start_time": "2023-11-05T23:08:28.397Z"
   },
   {
    "duration": 744,
    "start_time": "2023-11-05T23:11:24.059Z"
   },
   {
    "duration": 159,
    "start_time": "2023-11-05T23:11:24.806Z"
   },
   {
    "duration": 17,
    "start_time": "2023-11-05T23:11:24.967Z"
   },
   {
    "duration": 39,
    "start_time": "2023-11-05T23:11:24.986Z"
   },
   {
    "duration": 2009,
    "start_time": "2023-11-05T23:11:25.047Z"
   },
   {
    "duration": 21,
    "start_time": "2023-11-05T23:11:27.057Z"
   },
   {
    "duration": 16,
    "start_time": "2023-11-05T23:11:27.081Z"
   },
   {
    "duration": 15,
    "start_time": "2023-11-05T23:11:27.100Z"
   },
   {
    "duration": 12,
    "start_time": "2023-11-05T23:11:27.117Z"
   },
   {
    "duration": 32,
    "start_time": "2023-11-05T23:11:27.130Z"
   },
   {
    "duration": 7,
    "start_time": "2023-11-05T23:11:27.164Z"
   },
   {
    "duration": 12,
    "start_time": "2023-11-05T23:11:27.173Z"
   },
   {
    "duration": 6,
    "start_time": "2023-11-05T23:11:27.187Z"
   },
   {
    "duration": 40,
    "start_time": "2023-11-05T23:11:27.196Z"
   },
   {
    "duration": 19,
    "start_time": "2023-11-05T23:11:27.247Z"
   },
   {
    "duration": 44,
    "start_time": "2023-11-05T23:11:27.268Z"
   },
   {
    "duration": 9,
    "start_time": "2023-11-05T23:11:27.314Z"
   },
   {
    "duration": 27,
    "start_time": "2023-11-05T23:11:27.325Z"
   },
   {
    "duration": 28,
    "start_time": "2023-11-05T23:11:27.357Z"
   },
   {
    "duration": 383,
    "start_time": "2023-11-05T23:11:27.386Z"
   },
   {
    "duration": 28,
    "start_time": "2023-11-05T23:11:27.772Z"
   },
   {
    "duration": 8,
    "start_time": "2023-11-05T23:11:27.802Z"
   },
   {
    "duration": 12,
    "start_time": "2023-11-05T23:11:27.811Z"
   },
   {
    "duration": 268,
    "start_time": "2023-11-05T23:11:27.843Z"
   },
   {
    "duration": 220,
    "start_time": "2023-11-05T23:11:28.113Z"
   },
   {
    "duration": 131,
    "start_time": "2023-11-05T23:11:28.334Z"
   },
   {
    "duration": 203,
    "start_time": "2023-11-05T23:11:28.468Z"
   },
   {
    "duration": 327,
    "start_time": "2023-11-05T23:11:28.673Z"
   },
   {
    "duration": 16,
    "start_time": "2023-11-05T23:11:29.002Z"
   },
   {
    "duration": 198,
    "start_time": "2023-11-05T23:11:29.021Z"
   },
   {
    "duration": 318,
    "start_time": "2023-11-05T23:11:29.221Z"
   },
   {
    "duration": 139,
    "start_time": "2023-11-05T23:11:29.540Z"
   },
   {
    "duration": 154,
    "start_time": "2023-11-05T23:11:29.681Z"
   },
   {
    "duration": 131,
    "start_time": "2023-11-05T23:11:29.836Z"
   },
   {
    "duration": 8,
    "start_time": "2023-11-05T23:11:29.969Z"
   },
   {
    "duration": 172,
    "start_time": "2023-11-05T23:11:29.979Z"
   },
   {
    "duration": 223,
    "start_time": "2023-11-05T23:11:30.155Z"
   },
   {
    "duration": 160,
    "start_time": "2023-11-05T23:11:30.380Z"
   },
   {
    "duration": 139,
    "start_time": "2023-11-05T23:11:30.542Z"
   },
   {
    "duration": 7,
    "start_time": "2023-11-05T23:11:30.683Z"
   },
   {
    "duration": 195,
    "start_time": "2023-11-05T23:11:30.694Z"
   },
   {
    "duration": 158,
    "start_time": "2023-11-05T23:11:30.891Z"
   },
   {
    "duration": 209,
    "start_time": "2023-11-05T23:11:31.051Z"
   },
   {
    "duration": 4,
    "start_time": "2023-11-05T23:11:31.262Z"
   },
   {
    "duration": 227,
    "start_time": "2023-11-05T23:11:31.268Z"
   },
   {
    "duration": 5,
    "start_time": "2023-11-05T23:11:31.497Z"
   },
   {
    "duration": 168,
    "start_time": "2023-11-05T23:11:31.503Z"
   },
   {
    "duration": 6,
    "start_time": "2023-11-05T23:11:31.673Z"
   },
   {
    "duration": 205,
    "start_time": "2023-11-05T23:11:31.681Z"
   },
   {
    "duration": 8,
    "start_time": "2023-11-05T23:11:31.887Z"
   },
   {
    "duration": 230,
    "start_time": "2023-11-05T23:11:31.897Z"
   },
   {
    "duration": 223,
    "start_time": "2023-11-05T23:11:32.128Z"
   },
   {
    "duration": 308,
    "start_time": "2023-11-05T23:11:32.352Z"
   },
   {
    "duration": 209,
    "start_time": "2023-11-05T23:11:32.666Z"
   },
   {
    "duration": 198,
    "start_time": "2023-11-05T23:11:32.877Z"
   },
   {
    "duration": 337,
    "start_time": "2023-11-05T23:11:33.077Z"
   },
   {
    "duration": 45,
    "start_time": "2023-11-05T23:11:33.416Z"
   },
   {
    "duration": 4,
    "start_time": "2023-11-05T23:11:33.463Z"
   },
   {
    "duration": 9,
    "start_time": "2023-11-05T23:11:33.468Z"
   },
   {
    "duration": 12,
    "start_time": "2023-11-05T23:11:33.479Z"
   },
   {
    "duration": 21,
    "start_time": "2023-11-05T23:11:33.492Z"
   },
   {
    "duration": 177,
    "start_time": "2023-11-05T23:11:33.514Z"
   },
   {
    "duration": 616,
    "start_time": "2023-11-05T23:12:51.577Z"
   },
   {
    "duration": 733,
    "start_time": "2023-11-05T23:13:10.396Z"
   },
   {
    "duration": 607,
    "start_time": "2023-11-05T23:13:19.060Z"
   },
   {
    "duration": 703,
    "start_time": "2023-11-05T23:13:24.080Z"
   },
   {
    "duration": 668,
    "start_time": "2023-11-05T23:13:30.800Z"
   },
   {
    "duration": 728,
    "start_time": "2023-11-05T23:13:39.606Z"
   },
   {
    "duration": 642,
    "start_time": "2023-11-05T23:13:46.729Z"
   },
   {
    "duration": 667,
    "start_time": "2023-11-05T23:13:55.891Z"
   },
   {
    "duration": 887,
    "start_time": "2023-11-06T10:56:18.466Z"
   },
   {
    "duration": 235,
    "start_time": "2023-11-06T10:56:19.356Z"
   },
   {
    "duration": 18,
    "start_time": "2023-11-06T10:56:19.593Z"
   },
   {
    "duration": 40,
    "start_time": "2023-11-06T10:56:19.613Z"
   },
   {
    "duration": 2157,
    "start_time": "2023-11-06T10:56:19.656Z"
   },
   {
    "duration": 12,
    "start_time": "2023-11-06T10:56:21.815Z"
   },
   {
    "duration": 8,
    "start_time": "2023-11-06T10:56:21.829Z"
   },
   {
    "duration": 19,
    "start_time": "2023-11-06T10:56:21.838Z"
   },
   {
    "duration": 14,
    "start_time": "2023-11-06T10:56:21.859Z"
   },
   {
    "duration": 17,
    "start_time": "2023-11-06T10:56:21.874Z"
   },
   {
    "duration": 16,
    "start_time": "2023-11-06T10:56:21.893Z"
   },
   {
    "duration": 14,
    "start_time": "2023-11-06T10:56:21.911Z"
   },
   {
    "duration": 22,
    "start_time": "2023-11-06T10:56:21.926Z"
   },
   {
    "duration": 39,
    "start_time": "2023-11-06T10:56:21.951Z"
   },
   {
    "duration": 6,
    "start_time": "2023-11-06T10:56:21.992Z"
   },
   {
    "duration": 36,
    "start_time": "2023-11-06T10:56:22.000Z"
   },
   {
    "duration": 8,
    "start_time": "2023-11-06T10:56:22.038Z"
   },
   {
    "duration": 17,
    "start_time": "2023-11-06T10:56:22.048Z"
   },
   {
    "duration": 25,
    "start_time": "2023-11-06T10:56:22.067Z"
   },
   {
    "duration": 392,
    "start_time": "2023-11-06T10:56:22.093Z"
   },
   {
    "duration": 26,
    "start_time": "2023-11-06T10:56:22.487Z"
   },
   {
    "duration": 6,
    "start_time": "2023-11-06T10:56:22.515Z"
   },
   {
    "duration": 24,
    "start_time": "2023-11-06T10:56:22.523Z"
   },
   {
    "duration": 275,
    "start_time": "2023-11-06T10:56:22.549Z"
   },
   {
    "duration": 229,
    "start_time": "2023-11-06T10:56:22.826Z"
   },
   {
    "duration": 119,
    "start_time": "2023-11-06T10:56:23.057Z"
   },
   {
    "duration": 205,
    "start_time": "2023-11-06T10:56:23.177Z"
   },
   {
    "duration": 331,
    "start_time": "2023-11-06T10:56:23.384Z"
   },
   {
    "duration": 12,
    "start_time": "2023-11-06T10:56:23.717Z"
   },
   {
    "duration": 159,
    "start_time": "2023-11-06T10:56:23.730Z"
   },
   {
    "duration": 325,
    "start_time": "2023-11-06T10:56:23.891Z"
   },
   {
    "duration": 145,
    "start_time": "2023-11-06T10:56:24.217Z"
   },
   {
    "duration": 174,
    "start_time": "2023-11-06T10:56:24.364Z"
   },
   {
    "duration": 148,
    "start_time": "2023-11-06T10:56:24.540Z"
   },
   {
    "duration": 8,
    "start_time": "2023-11-06T10:56:24.690Z"
   },
   {
    "duration": 178,
    "start_time": "2023-11-06T10:56:24.700Z"
   },
   {
    "duration": 217,
    "start_time": "2023-11-06T10:56:24.879Z"
   },
   {
    "duration": 196,
    "start_time": "2023-11-06T10:56:25.097Z"
   },
   {
    "duration": 166,
    "start_time": "2023-11-06T10:56:25.295Z"
   },
   {
    "duration": 7,
    "start_time": "2023-11-06T10:56:25.462Z"
   },
   {
    "duration": 199,
    "start_time": "2023-11-06T10:56:25.474Z"
   },
   {
    "duration": 135,
    "start_time": "2023-11-06T10:56:25.675Z"
   },
   {
    "duration": 191,
    "start_time": "2023-11-06T10:56:25.812Z"
   },
   {
    "duration": 3,
    "start_time": "2023-11-06T10:56:26.005Z"
   },
   {
    "duration": 194,
    "start_time": "2023-11-06T10:56:26.010Z"
   },
   {
    "duration": 6,
    "start_time": "2023-11-06T10:56:26.206Z"
   },
   {
    "duration": 145,
    "start_time": "2023-11-06T10:56:26.213Z"
   },
   {
    "duration": 8,
    "start_time": "2023-11-06T10:56:26.360Z"
   },
   {
    "duration": 218,
    "start_time": "2023-11-06T10:56:26.370Z"
   },
   {
    "duration": 10,
    "start_time": "2023-11-06T10:56:26.590Z"
   },
   {
    "duration": 213,
    "start_time": "2023-11-06T10:56:26.602Z"
   },
   {
    "duration": 207,
    "start_time": "2023-11-06T10:56:26.817Z"
   },
   {
    "duration": 277,
    "start_time": "2023-11-06T10:56:27.026Z"
   },
   {
    "duration": 197,
    "start_time": "2023-11-06T10:56:27.304Z"
   },
   {
    "duration": 181,
    "start_time": "2023-11-06T10:56:27.503Z"
   },
   {
    "duration": 661,
    "start_time": "2023-11-06T10:56:27.686Z"
   },
   {
    "duration": 25,
    "start_time": "2023-11-06T10:56:28.349Z"
   },
   {
    "duration": 4,
    "start_time": "2023-11-06T10:56:28.376Z"
   },
   {
    "duration": 13,
    "start_time": "2023-11-06T10:56:28.381Z"
   },
   {
    "duration": 13,
    "start_time": "2023-11-06T10:56:28.396Z"
   },
   {
    "duration": 46,
    "start_time": "2023-11-06T10:56:28.410Z"
   },
   {
    "duration": 154,
    "start_time": "2023-11-06T10:56:28.458Z"
   },
   {
    "duration": 791,
    "start_time": "2023-11-06T17:48:41.803Z"
   },
   {
    "duration": 349,
    "start_time": "2023-11-06T17:48:42.596Z"
   },
   {
    "duration": 17,
    "start_time": "2023-11-06T17:48:42.946Z"
   },
   {
    "duration": 28,
    "start_time": "2023-11-06T17:48:42.965Z"
   },
   {
    "duration": 1867,
    "start_time": "2023-11-06T17:48:42.994Z"
   },
   {
    "duration": 9,
    "start_time": "2023-11-06T17:48:44.863Z"
   },
   {
    "duration": 7,
    "start_time": "2023-11-06T17:48:44.873Z"
   },
   {
    "duration": 15,
    "start_time": "2023-11-06T17:48:44.881Z"
   },
   {
    "duration": 10,
    "start_time": "2023-11-06T17:48:44.897Z"
   },
   {
    "duration": 13,
    "start_time": "2023-11-06T17:48:44.910Z"
   },
   {
    "duration": 5,
    "start_time": "2023-11-06T17:48:44.924Z"
   },
   {
    "duration": 11,
    "start_time": "2023-11-06T17:48:44.931Z"
   },
   {
    "duration": 7,
    "start_time": "2023-11-06T17:48:44.943Z"
   },
   {
    "duration": 30,
    "start_time": "2023-11-06T17:48:44.952Z"
   },
   {
    "duration": 6,
    "start_time": "2023-11-06T17:48:44.983Z"
   },
   {
    "duration": 23,
    "start_time": "2023-11-06T17:48:45.015Z"
   },
   {
    "duration": 31,
    "start_time": "2023-11-06T17:48:45.042Z"
   },
   {
    "duration": 10,
    "start_time": "2023-11-06T17:48:45.076Z"
   },
   {
    "duration": 27,
    "start_time": "2023-11-06T17:48:45.088Z"
   },
   {
    "duration": 347,
    "start_time": "2023-11-06T17:48:45.116Z"
   },
   {
    "duration": 35,
    "start_time": "2023-11-06T17:48:45.464Z"
   },
   {
    "duration": 44,
    "start_time": "2023-11-06T17:48:45.500Z"
   },
   {
    "duration": 16,
    "start_time": "2023-11-06T17:48:45.546Z"
   },
   {
    "duration": 266,
    "start_time": "2023-11-06T17:48:45.564Z"
   },
   {
    "duration": 265,
    "start_time": "2023-11-06T17:48:45.832Z"
   },
   {
    "duration": 20,
    "start_time": "2023-11-06T17:48:46.099Z"
   },
   {
    "duration": 189,
    "start_time": "2023-11-06T17:48:46.120Z"
   },
   {
    "duration": 276,
    "start_time": "2023-11-06T17:48:46.314Z"
   },
   {
    "duration": 22,
    "start_time": "2023-11-06T17:48:46.592Z"
   },
   {
    "duration": 130,
    "start_time": "2023-11-06T17:48:46.616Z"
   },
   {
    "duration": 284,
    "start_time": "2023-11-06T17:48:46.747Z"
   },
   {
    "duration": 126,
    "start_time": "2023-11-06T17:48:47.033Z"
   },
   {
    "duration": 136,
    "start_time": "2023-11-06T17:48:47.160Z"
   },
   {
    "duration": 183,
    "start_time": "2023-11-06T17:48:47.297Z"
   },
   {
    "duration": 8,
    "start_time": "2023-11-06T17:48:47.481Z"
   },
   {
    "duration": 163,
    "start_time": "2023-11-06T17:48:47.491Z"
   },
   {
    "duration": 121,
    "start_time": "2023-11-06T17:48:47.656Z"
   },
   {
    "duration": 146,
    "start_time": "2023-11-06T17:48:47.779Z"
   },
   {
    "duration": 139,
    "start_time": "2023-11-06T17:48:47.927Z"
   },
   {
    "duration": 7,
    "start_time": "2023-11-06T17:48:48.068Z"
   },
   {
    "duration": 182,
    "start_time": "2023-11-06T17:48:48.076Z"
   },
   {
    "duration": 129,
    "start_time": "2023-11-06T17:48:48.260Z"
   },
   {
    "duration": 179,
    "start_time": "2023-11-06T17:48:48.391Z"
   },
   {
    "duration": 3,
    "start_time": "2023-11-06T17:48:48.572Z"
   },
   {
    "duration": 194,
    "start_time": "2023-11-06T17:48:48.576Z"
   },
   {
    "duration": 7,
    "start_time": "2023-11-06T17:48:48.771Z"
   },
   {
    "duration": 165,
    "start_time": "2023-11-06T17:48:48.780Z"
   },
   {
    "duration": 5,
    "start_time": "2023-11-06T17:48:48.947Z"
   },
   {
    "duration": 182,
    "start_time": "2023-11-06T17:48:48.954Z"
   },
   {
    "duration": 8,
    "start_time": "2023-11-06T17:48:49.137Z"
   },
   {
    "duration": 253,
    "start_time": "2023-11-06T17:48:49.147Z"
   },
   {
    "duration": 172,
    "start_time": "2023-11-06T17:48:49.401Z"
   },
   {
    "duration": 180,
    "start_time": "2023-11-06T17:48:49.575Z"
   },
   {
    "duration": 174,
    "start_time": "2023-11-06T17:48:49.756Z"
   },
   {
    "duration": 166,
    "start_time": "2023-11-06T17:48:49.931Z"
   },
   {
    "duration": 591,
    "start_time": "2023-11-06T17:48:50.098Z"
   },
   {
    "duration": 27,
    "start_time": "2023-11-06T17:48:50.691Z"
   },
   {
    "duration": 3,
    "start_time": "2023-11-06T17:48:50.720Z"
   },
   {
    "duration": 8,
    "start_time": "2023-11-06T17:48:50.724Z"
   },
   {
    "duration": 6,
    "start_time": "2023-11-06T17:48:50.733Z"
   },
   {
    "duration": 14,
    "start_time": "2023-11-06T17:48:50.741Z"
   },
   {
    "duration": 164,
    "start_time": "2023-11-06T17:48:50.757Z"
   }
  ],
  "kernelspec": {
   "display_name": "Python 3 (ipykernel)",
   "language": "python",
   "name": "python3"
  },
  "language_info": {
   "codemirror_mode": {
    "name": "ipython",
    "version": 3
   },
   "file_extension": ".py",
   "mimetype": "text/x-python",
   "name": "python",
   "nbconvert_exporter": "python",
   "pygments_lexer": "ipython3",
   "version": "3.9.12"
  },
  "toc": {
   "base_numbering": 1,
   "nav_menu": {
    "height": "245px",
    "width": "379px"
   },
   "number_sections": true,
   "sideBar": true,
   "skip_h1_title": true,
   "title_cell": "Table of Contents",
   "title_sidebar": "Contents",
   "toc_cell": false,
   "toc_position": {},
   "toc_section_display": true,
   "toc_window_display": false
  }
 },
 "nbformat": 4,
 "nbformat_minor": 2
}
